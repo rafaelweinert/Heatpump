{
 "cells": [
  {
   "cell_type": "code",
   "execution_count": null,
   "outputs": [],
   "source": [
    "import pandas as pd\n",
    "import numpy as np\n",
    "import plotly.graph_objects as go\n",
    "import plotly.express as px\n",
    "from plotly.subplots import make_subplots\n",
    "from scipy.signal import argrelextrema\n",
    "from scipy.integrate import trapz\n",
    "from scipy.optimize import Bounds, minimize\n",
    "\n",
    "import meteostat\n",
    "import geopy\n",
    "from geopy.geocoders import Nominatim\n",
    "\n",
    "import requests\n",
    "import json\n",
    "\n",
    "import weatherapi\n",
    "\n",
    "import plotly.io as pio\n",
    "\n",
    "\n",
    "import warnings\n",
    "pio.templates.default = \"plotly\"\n",
    "warnings.filterwarnings('ignore')"
   ],
   "metadata": {
    "collapsed": false,
    "pycharm": {
     "name": "#%%\n"
    }
   }
  },
  {
   "cell_type": "markdown",
   "source": [
    "# Define variables and formulas"
   ],
   "metadata": {
    "collapsed": false,
    "pycharm": {
     "name": "#%% md\n"
    }
   }
  },
  {
   "cell_type": "code",
   "execution_count": null,
   "outputs": [],
   "source": [
    "kelvin = lambda x: x+273.15 # convert Celsius to Kelvin\n",
    "celsius = lambda x: x-273.15 # convert Kelvin to Celsius\n",
    "kWh = lambda x: x / 3600000 # convert Joule to kWh\n",
    "Joule = lambda x: x * 3600000 # convert kWh to Joule\n",
    "\n",
    "#freezing_zone = pd.Interval(left=-6, right=4) # temp between hp starts freezing and has to be thawed\n",
    "freezing_zone = 4\n",
    "freezing_factor = 1.2# factor which the efficiency coefficient is divided by in case of being in freezing zone\n",
    "vorlauf_max = 50\n",
    "aussen_min = -10\n",
    "raum = 21 # temperature at which room should be heated\n",
    "ruecklauf = 25\n",
    "ny = 0.4 #Gütegrad\n",
    "\n",
    "temp_start_heat = 15 # temperature under which house has to be heated\n",
    "house_energy = 200 # Watt / Kelvin\n",
    "\n",
    "timeframe_h = 24 #hours\n",
    "timeframe_s = timeframe_h * 3600 #seconds\n",
    "\n",
    "#take Newton cooling data\n",
    "\n",
    "#20 and 60 after some DIN-Norms\n",
    "t_env = kelvin(20) #environmental temperature where water storage is located\n",
    "t_0 = kelvin(60) #temperature at which water storage power is measured\n",
    "#coef_h = 0.000625\n",
    "\n",
    "#specifications of water storage (taken from real example)\n",
    "storage_power = 137 #Watts\n",
    "h2o_energy = 4200 #Joule / (kilogram * Kelvin)\n",
    "storage_volume = 6000 #Liter = kilogram -> to be defined later on\n",
    "\n",
    "#specifications of heatpump\n",
    "hp_power = 7000 #Watts\n",
    "hp_power_opt = 5000 #Watts -> Power in which heatpump works most efficiently (can be taken into calculation later)\n",
    "hp_power_el_opt = 3000 #Watts -> Power in which heatpump works most efficiently (can be taken into calculation later)\n",
    "\n",
    "# other measures\n",
    "groundwater = celsius(t_env)\n",
    "\n",
    "vorlauftemp = lambda t: - (vorlauf_max - raum) / (raum-aussen_min) *t + vorlauf_max + aussen_min * (vorlauf_max - raum) / (raum-aussen_min)\n",
    "needed_house_energy = lambda t: np.maximum(0, raum - t) * house_energy # returns needed energy to heat house in Watt\n",
    "\n",
    "#eta = lambda x: np.maximum(0, np.minimum(300, ny * kelvin(vorlauftemp(x)) / (kelvin(vorlauftemp(x))-kelvin(x))))\n",
    "def eta(zu, ab = None): #theoretischer Wirkungsgrad\n",
    "    if ab is None:\n",
    "        ab = vorlauftemp(zu)\n",
    "    return np.maximum(0, np.minimum(300, ny * kelvin(ab) / (kelvin(ab)-kelvin(zu))))\n",
    "\n",
    "def eta_heating(zu, max_ab = None, min_ab = None ): #\"gleitender\" Wirkungsgrad -> da sich über temperaturerhöhung ändert\n",
    "    try:\n",
    "        if type(min_ab) == type(None):\n",
    "            min_ab = ruecklauf\n",
    "        if type(max_ab) == type(None):\n",
    "            max_ab = vorlauftemp(zu)\n",
    "    except:\n",
    "        print(\"Error: function 'eta_heating'\")\n",
    "    return ny * (kelvin(zu) * np.log((kelvin(max_ab) - kelvin(zu)) / (kelvin(min_ab) - kelvin(zu))) + kelvin(max_ab) - kelvin(min_ab)) / (kelvin(max_ab) - kelvin(min_ab))\n",
    "\n",
    "def eta_freezing_adj(zu, max_ab = None, min_ab = None, heating =  False): # if heating = True, then use eta_heating\n",
    "    try:\n",
    "        if type(min_ab) == type(None):\n",
    "            min_ab = ruecklauf\n",
    "        if type(max_ab) == type(None):\n",
    "            max_ab = vorlauftemp(zu)\n",
    "    except:\n",
    "        print(\"Error: function 'eta_heating'\")\n",
    "    if heating == True:\n",
    "        e = eta_heating(zu, max_ab, min_ab)\n",
    "    else:\n",
    "        e = eta(zu, max_ab)\n",
    "    #print(type(eta))\n",
    "    if type(e) == np.float64:\n",
    "        if zu < 4:\n",
    "            e = e / freezing_factor\n",
    "    else:\n",
    "        e[zu < 4] = e[zu < 4] / 1.2\n",
    "\n",
    "    return e\n",
    "\n",
    "def newton_cooling(t):\n",
    "    return t_env + (t_0 - t_env) * np.exp(-coef_h * t) # = temperature at time t\n",
    "\n",
    "def newton_cooling_diff(t):\n",
    "    return coef_h * (t_env - newton_cooling(t)) # = temperature loss rate at time t\n",
    "\n",
    "def newton_cooling_t_0(temp_t, t=7*3600): #enter in Kelvin\n",
    "    #return ((temp_t - t_env) * np.exp((coef_h * t).T)).T + t_env #returns t_0 for fix temperature after time t\n",
    "    return (temp_t - t_env) * np.exp((coef_h * t)) + t_env #returns t_0 for fix temperature after time t\n",
    "\n",
    "def newton_cooling_t(temp_t):#, coef_h = coef_h):\n",
    "    return -np.log((temp_t - t_env) / (t_0 - t_env)) / coef_h #returns how much time it takes for t_0 to cool down to wished temperature temp_t\n",
    "\n",
    "def storage_power_temp(temp):\n",
    "    return  -h2o_energy * storage_volume * newton_cooling_diff(newton_cooling_t(temp))#returns how much power in Watt is needed to keep temperature at temp level\n",
    "\n",
    "def get_d_t():\n",
    "    return storage_power / (h2o_energy * storage_volume) # returns heat loss in kelvin per second\n",
    "\n",
    "def get_coef_h(d_t):\n",
    "    return d_t / np.abs(t_env - t_0) #returns coefficient at which heat decreases in storage\n",
    "\n",
    "def get_coef_h_adj(temp, vorlauf, t):\n",
    "    return - np.log((vorlauf - t_env) / (temp - t_env)) / t # returns adjusted coef_h for given vorlauf, overheat_temp and time after which vorlauf should be reached\n",
    "\n",
    "def storage_power_temp_adj(temp, vorlauf, t):\n",
    "    return h2o_energy * storage_volume * (coef_h - get_coef_h_adj(temp, vorlauf, t)) * (temp - t_env) # returns needed power to keep temperature in storage and decrease at given rate\n",
    "\n",
    "def get_needed_storage_vol(temp_diff, kWh):\n",
    "    return (kWh * 3600000 )/ (temp_diff * h2o_energy) #returns waterstorage volume to store #kWh with given temp difference\n",
    "\n",
    "d_t = get_d_t()\n",
    "coef_h = get_coef_h(d_t)\n",
    "\n",
    "integral = lambda x, y: trapz(y, x) # returns the estimated integral for data points x and y\n",
    "integral_avg = lambda x, y: integral(x, y) / (x.shape[0] - 1) # returns the average of the integral for points x and y\n",
    "\n",
    "heat = lambda ground_temp, vorlauftemp, eta_t_0: (vorlauftemp - ground_temp) * h2o_energy * storage_volume / eta_t_0 # energy needed to heat water from ground temp to vorlauf with given eta (in Joule)\n",
    "overheat = lambda time, vorlauftemp, eta_t_0: (newton_cooling_t_0(kelvin(vorlauftemp), t = time*3600) - 273.15 - vorlauftemp) * h2o_energy * storage_volume / eta_t_0 # energy needed to heat water storage from vorlauftemp to t_0\n",
    "keepheat = lambda time, vorlauftemp, eta_avg: storage_power_temp(kelvin(vorlauftemp))*3600*time / eta_avg # energy needed to keep heat in water storage on vorlauftemp with changing eta\n",
    "def over_keep_mix(time, vorlauftemp, eta_t_0, eta_avg): # get the minimum of a mix of overheating and keeping the heat\n",
    "\n",
    "    try:\n",
    "        if time == 0: #if time equals 0, then there is no optimum that can be computed\n",
    "            return vorlauftemp, heat(groundwater, vorlauftemp, eta_t_0), 0\n",
    "\n",
    "        def target_function(temp): #returns the energy needed for heating, overheating and keeping the heat level in Joule\n",
    "            over = (temp - vorlauftemp) * h2o_energy * storage_volume / eta_t_0\n",
    "            keep = storage_power_temp_adj(kelvin(temp), kelvin(vorlauftemp), time * 3600) * 3600 * time / eta_avg\n",
    "            h = heat(groundwater, vorlauftemp, eta_t_0)\n",
    "\n",
    "            return over + keep + h\n",
    "\n",
    "        lb = vorlauftemp\n",
    "        ub = max(vorlauftemp, (celsius(newton_cooling_t_0(kelvin(vorlauftemp), time*3600))))\n",
    "\n",
    "        cons = Bounds(lb = lb, ub= ub)\n",
    "        #print(cons)\n",
    "        min = minimize(fun = target_function, x0=(vorlauftemp+0.0001, ), bounds=cons)\n",
    "\n",
    "        return min.x[0], min.fun[0], storage_power_temp_adj(kelvin(min.x[0]), kelvin(vorlauftemp), time * 3600) #TODO insert what is returned\n",
    "    except:\n",
    "        return np.nan, np.nan, np.nan\n",
    "\n",
    "over_keep_mix_vectorized = np.vectorize(over_keep_mix)\n",
    "\n",
    "energy_total_overheat = lambda ground_temp, vorlauftemp, eta_t_0, time: heat(ground_temp, vorlauftemp, eta_t_0) + overheat(time, vorlauftemp, eta_t_0) # just consider overheating\n",
    "energy_total_keepheat = lambda ground_temp, vorlauftemp, eta_t_0, eta_avg, time: heat(ground_temp, vorlauftemp, eta_t_0) + keepheat(time, vorlauftemp, eta_avg) # just consider keeping heat"
   ],
   "metadata": {
    "collapsed": false,
    "pycharm": {
     "name": "#%%\n"
    }
   }
  },
  {
   "cell_type": "markdown",
   "source": [
    "# Add calculated Data to Dataframe"
   ],
   "metadata": {
    "collapsed": false,
    "pycharm": {
     "name": "#%% md\n"
    }
   }
  },
  {
   "cell_type": "code",
   "execution_count": null,
   "outputs": [],
   "source": [
    "def add_data(df):\n",
    "    df['efficiency'] = eta_freezing_adj(df.temperature)\n",
    "    df['vorlauf_temp'] = vorlauftemp(df.temperature)\n",
    "    df['energy_needed_water'] = needed_house_energy(df.temperature)\n",
    "    df['energy_needed_elec'] = needed_house_energy(df.temperature) / df.efficiency\n",
    "    df['time'] = df.date.dt.time\n",
    "    df['freezing_zone'] = df['temperature'] < freezing_zone\n",
    "\n",
    "    return df\n",
    "\n",
    "def get_local_extrema(df): #get local minima and maxima in function\n",
    "    check_interval = 10\n",
    "\n",
    "    df['local_min'] = df.iloc[argrelextrema(df.temperature.values, np.less_equal, order=check_interval)[0]]['temperature']\n",
    "    df['local_max'] = df.iloc[argrelextrema(df.temperature.values, np.greater_equal, order=check_interval)[0]]['temperature']\n",
    "    df['local_max_vorlauf'] = df.iloc[argrelextrema(df.vorlauf_temp.values, np.greater_equal, order=check_interval)[0]]['vorlauf_temp']\n",
    "\n",
    "    #delete doubled high and low points -> take only the later ones\n",
    "    df.local_min[(pd.notna(df.local_min - df.local_min.shift(-1))) | (pd.notna(df.local_min - df.local_min.shift(-2))) | (pd.notna(df.local_min - df.local_min.shift(-3)))] = np.nan\n",
    "    df.local_max[(pd.notna(df.local_max - df.local_max.shift(1))) | (pd.notna(df.local_max - df.local_max.shift(2)))| (pd.notna(df.local_max - df.local_max.shift(3)))] = np.nan\n",
    "\n",
    "    # high and low points have to alternate\n",
    "    local_max_index = df[pd.notna(df.local_max)].index # get indexes of local max\n",
    "    local_min_index = df[pd.notna(df.local_min)].index # get indexes of local min\n",
    "\n",
    "    index = np.sort(np.concatenate((local_min_index.values, local_max_index.values))) # concat and sort both indexes\n",
    "    index_pd = pd.Series(np.isin(index, local_min_index))\n",
    "\n",
    "    index = index[(index_pd - index_pd.shift(1)) != 0] # when two max or two min indexes occur, shifting and taking the difference results in 0\n",
    "\n",
    "    local_min_index = local_min_index[np.isin(local_min_index, index)] # take only remaining indexes\n",
    "    local_max_index = local_max_index[np.isin(local_max_index, index)]\n",
    "    for i, index in enumerate(local_min_index):\n",
    "        df.loc[df.index > index, 'period_min'] = i\n",
    "\n",
    "    for i, index in enumerate(local_max_index):\n",
    "        df.loc[df.index >= index, 'period_max'] = i\n",
    "\n",
    "    return df"
   ],
   "metadata": {
    "collapsed": false,
    "pycharm": {
     "name": "#%%\n"
    }
   }
  },
  {
   "cell_type": "markdown",
   "source": [
    "# Import data from dwd\n",
    "\n",
    "(Deutscher Wetterdienst)"
   ],
   "metadata": {
    "collapsed": false,
    "pycharm": {
     "name": "#%% md\n"
    }
   }
  },
  {
   "cell_type": "code",
   "execution_count": null,
   "outputs": [],
   "source": [
    "data_temp = pd.read_table('data/stundenwerte_TU_VS_akt/produkt_tu_stunde_20201216_20220618_05229.txt', sep=';') #Villingen-Schwenningen\n",
    "#data_temp = pd.read_table('data/stundenwerte_TU_05100_19410101_20211231_hist/produkt_tu_stunde_19410101_20211231_05100.txt', sep=';') #Trier?\n",
    "data_temp = data_temp.drop(['eor', 'QN_9', 'RF_TU'], axis=1) # drop end-of-row indicator\n",
    "data_temp.rename(columns = {'TT_TU':'temperature', 'MESS_DATUM': 'date', }, inplace = True)\n",
    "data_temp.date = pd.to_datetime(data_temp.date.astype(str), format='%Y%m%d%H')\n",
    "data_temp[data_temp == -999] = np.nan # rename missing values to numpy nan\n",
    "data_temp = data_temp[(data_temp.date >= pd.to_datetime('2021-10-02')) & (data_temp.date <= pd.to_datetime('2022-03-31'))]\n",
    "#data_temp = data_temp[(data_temp.date.dt.month >= 10) | (data_temp.date.dt.month <= 3)]\n",
    "data_temp.reset_index(drop = True, inplace=True)"
   ],
   "metadata": {
    "collapsed": false,
    "pycharm": {
     "name": "#%%\n"
    }
   }
  },
  {
   "cell_type": "code",
   "execution_count": null,
   "outputs": [],
   "source": [
    "data_temp = add_data(data_temp)\n",
    "data_temp = get_local_extrema(data_temp)"
   ],
   "metadata": {
    "collapsed": false,
    "pycharm": {
     "name": "#%%\n"
    }
   }
  },
  {
   "cell_type": "code",
   "execution_count": null,
   "outputs": [],
   "source": [
    "px.line(data_temp, x='date', y='temperature', title='temperature')"
   ],
   "metadata": {
    "collapsed": false,
    "pycharm": {
     "name": "#%%\n"
    }
   }
  },
  {
   "cell_type": "markdown",
   "source": [
    "# Visualizations for temperature"
   ],
   "metadata": {
    "collapsed": false,
    "pycharm": {
     "name": "#%% md\n"
    }
   }
  },
  {
   "cell_type": "code",
   "execution_count": null,
   "outputs": [],
   "source": [
    "px.histogram(data_temp.freezing_zone, title='Number of hours in Freezing zone (<4°C)')"
   ],
   "metadata": {
    "collapsed": false,
    "pycharm": {
     "name": "#%%\n"
    }
   }
  },
  {
   "cell_type": "code",
   "execution_count": null,
   "outputs": [],
   "source": [
    "fig = make_subplots(specs=[[{\"secondary_y\": True}]])\n",
    "\n",
    "fig.add_trace(go.Scatter(x = data_temp.date, y = data_temp.temperature, name='temperature'), secondary_y = False)\n",
    "fig.add_trace(go.Scatter(x = data_temp.date, y = data_temp.local_min, mode='markers', name='local_minima'), secondary_y = False)\n",
    "fig.add_trace(go.Scatter(x = data_temp.date, y = data_temp.local_max, mode='markers', hovertext=data_temp.period_max, name='local_maxima'), secondary_y = False)\n",
    "fig.update_layout(dict1={'title': 'temperature with high and low points'})\n",
    "fig.show()"
   ],
   "metadata": {
    "collapsed": false,
    "pycharm": {
     "name": "#%%\n"
    }
   }
  },
  {
   "cell_type": "code",
   "execution_count": null,
   "outputs": [],
   "source": [
    "data_temp"
   ],
   "metadata": {
    "collapsed": false,
    "pycharm": {
     "name": "#%%\n"
    }
   }
  },
  {
   "cell_type": "markdown",
   "source": [
    "# Weather forecast"
   ],
   "metadata": {
    "collapsed": false,
    "pycharm": {
     "name": "#%% md\n"
    }
   }
  },
  {
   "cell_type": "markdown",
   "source": [
    "-> the majority of the energy need for water is needed in profitable period (compare two lines)"
   ],
   "metadata": {
    "collapsed": false,
    "pycharm": {
     "name": "#%% md\n"
    }
   }
  },
  {
   "cell_type": "code",
   "execution_count": null,
   "outputs": [],
   "source": [
    "def get_weather_forecast(address, days=4, key = '676ea42d0beb4636b96160506221607'):\n",
    "\n",
    "    # Get coordinates for adress\n",
    "    geolocator = Nominatim(user_agent=\"user\")\n",
    "    location = geolocator.geocode(address)\n",
    "\n",
    "    # Get nearby weather stations\n",
    "    stations = meteostat.Stations()\n",
    "    stations = stations.nearby(location.latitude, location.longitude)\n",
    "    station = stations.fetch(1)\n",
    "\n",
    "    # Print DataFrame\n",
    "    print(station)\n",
    "    weather_data = requests.get(f'http://api.weatherapi.com/v1/forecast.json?key={key}&q={address}&days={days}&aqi=no&alerts=no')\n",
    "\n",
    "    f = pd.DataFrame.from_dict(json.loads(weather_data.content.decode())['forecast']['forecastday'])\n",
    "    forecast = pd.json_normalize(pd.json_normalize(f['hour']).stack())\n",
    "\n",
    "    forecast.time = pd.to_datetime(forecast.time, )\n",
    "    forecast = forecast[['time', 'temp_c']]\n",
    "\n",
    "    forecast.columns = ['date', 'temperature']\n",
    "    return forecast"
   ],
   "metadata": {
    "collapsed": false,
    "pycharm": {
     "name": "#%%\n"
    }
   }
  },
  {
   "cell_type": "code",
   "execution_count": null,
   "outputs": [],
   "source": [
    "forecast = get_weather_forecast('Karlsruhe', days=4)\n",
    "forecast.temperature = forecast.temperature - 17\n",
    "\n",
    "forecast = add_data(forecast)\n",
    "forecast = get_local_extrema(forecast)\n",
    "forecast = forecast[forecast.date > pd.to_datetime('now')]"
   ],
   "metadata": {
    "collapsed": false,
    "pycharm": {
     "name": "#%%\n"
    }
   }
  },
  {
   "cell_type": "code",
   "execution_count": null,
   "outputs": [],
   "source": [
    "fig = make_subplots(specs=[[{\"secondary_y\": True}]])\n",
    "\n",
    "fig.add_trace(go.Scatter(x = forecast.date, y = forecast.temperature), secondary_y=False)\n",
    "fig.add_trace(go.Scatter(x = forecast.date, y = forecast.local_min, mode='markers', name='local_minima'), secondary_y = False)\n",
    "fig.add_trace(go.Scatter(x = forecast.date, y = forecast.local_max, mode='markers', hovertext=forecast.period_max, name='local_maxima'), secondary_y = False)\n",
    "#fig.add_trace(go.Scatter(x = forecast.date, y = forecast.energy_needed_water, mode='lines', name='energy_needed_water'), secondary_y= True)\n",
    "#fig.add_trace(go.Scatter(x = forecast.date, y = forecast.energy_needed_water_integ, mode='lines', name='energy_needed_water_integ'), secondary_y= True)\n",
    "#fig.add_trace(go.Scatter(x = forecast.date, y = forecast.en_produced_total, mode='lines', name='en_produced_total'), secondary_y= True)\n",
    "#fig.add_trace(go.Scatter(x = forecast.date, y = forecast.en_produced_hourly, mode='lines', name='en_produced_hourly'), secondary_y= True)\n",
    "#fig.add_trace(go.Scatter(x = forecast.date, y = forecast.eta_hp_heating_nextmin, mode='lines', name='eta_nextmin'), secondary_y= False)\n",
    "#fig.add_trace(go.Scatter(x = forecast.date, y = forecast.eta_hp_heating_nextmin_freezing_adjusted, mode='lines', name='eta_nextmin_freezing_adj.'), secondary_y= False)\n",
    "fig.add_hline(y = 4)\n",
    "fig.update_layout(title= 'temperature Simulation (From forecast)')\n",
    "fig.show()"
   ],
   "metadata": {
    "collapsed": false,
    "pycharm": {
     "name": "#%%\n"
    }
   }
  },
  {
   "cell_type": "markdown",
   "source": [
    "# Optimization problem 1\n",
    "\n",
    "simplified version: period_lim = None\n",
    "assumptions:\n",
    "- Unlimited Storage\n",
    "- Heating temperature is equal for every temperature (max_ab_i = x for all i)\n",
    "- Efficiency only depends on environmental Temperature\n",
    "- ruecklauf is equal for each temperature outside -> whenever storage temperature is higher, it is sufficient for heating and can be adjusted by water flow\n",
    "\n",
    "\n",
    "\n",
    "extended version: period_lim = periods restrict optimization on"
   ],
   "metadata": {
    "collapsed": false,
    "pycharm": {
     "name": "#%% md\n"
    }
   }
  },
  {
   "cell_type": "code",
   "execution_count": null,
   "outputs": [],
   "source": [
    "def heating_opt(df, period_lim = None, period = None, vorl = None):\n",
    "    #df_per = df[(df.period_max == p) | (df.period_min == p)]\n",
    "    if type(period) != type(None):\n",
    "        df_per = df[(df.period_max == period) | (df.period_min == period)]\n",
    "    else:\n",
    "        df_per = df.copy()\n",
    "    per_min = df[df.period_min == period] #period from miminum to minimum\n",
    "    per_max = df[df.period_max == period] #period from max to max\n",
    "\n",
    "    per = df_per.shape[0] #number of hours in period\n",
    "    M_timedelta = np.empty((per, per))\n",
    "\n",
    "    for i in range(per): # build timedelta matrix\n",
    "        M_timedelta[i, range(0, i+1)] = np.flip(np.linspace(0, i, i+1))\n",
    "    M_timedelta = M_timedelta.T\n",
    "    vorlauf = df_per.vorlauf_temp.values\n",
    "\n",
    "    M_vorlauf = celsius(newton_cooling_t_0(kelvin(vorlauf), M_timedelta * 3600))\n",
    "    M_vorlauf = np.triu(M_vorlauf) # needed heating temperature when heating in period i and using the heat in period j (i X j - Matrix)\n",
    "    M_temperature = np.tile(df_per.temperature.values, (len(df_per.temperature.values),1)).T\n",
    "\n",
    "    M_eta = eta_freezing_adj(zu=M_temperature, max_ab=M_vorlauf)#, min_ab=M_vorlauf)\n",
    "\n",
    "    if type(period_lim) != type(None):\n",
    "\n",
    "        M_vorlauf_max = celsius(newton_cooling_t_0(kelvin(vorl), t=M_timedelta * 3600))\n",
    "        M_eta_heating = eta_freezing_adj(zu = M_temperature, max_ab=M_vorlauf_max, heating=True)\n",
    "        M_eta_heating = np.triu(M_eta_heating, k=1)\n",
    "        M_eta = np.tril(M_eta)\n",
    "\n",
    "        M_eta = M_eta_heating + M_eta\n",
    "        M_eta = np.triu(M_eta) # upper diagonal\n",
    "        M_eta = np.tril(M_eta, k = period_lim)\n",
    "\n",
    "    else:\n",
    "        M_eta = np.triu(M_eta) # upper diagonal\n",
    "\n",
    "    P_w_sum = df_per.energy_needed_water.values # needed energy in water for each hour\n",
    "    P_e_max = np.full((per, ), hp_power_el_opt) # maximal available energy (electricity) per hour -> e.g. 2500W\n",
    "    P_e_available = P_e_max.copy() # at each period still available 'capacity' in electricity for future hours\n",
    "\n",
    "    P_e = np.zeros((per, per)) # Matrix with used energy (e) from each period for each period that is optimized\n",
    "    P_e_a = np.empty((per, per)) # Matrix to later calculate P_e\n",
    "\n",
    "    for j in range(per):\n",
    "        P_w_j = P_w_sum[j] # energy needed (w) in hour j\n",
    "\n",
    "        M_eta_j = M_eta[: , j] # efficiencies in each hour\n",
    "        eta_sorted_j_index = np.flip(np.argsort(M_eta_j)) # get indexes of highes values in M_eta_j\n",
    "        eta_sorted_j = M_eta_j[eta_sorted_j_index] # get highest values of M_eta_j (descending order)\n",
    "\n",
    "        P_w_available_j = P_e_available[eta_sorted_j_index] * eta_sorted_j # available energy (w) for hour j in descending cost order\n",
    "\n",
    "        P_w_available_j_cumsum = P_w_available_j.cumsum() # get cumsum for available P_w (descending cost order)\n",
    "        P_w_available_j_cumsum_shift = P_w_available_j_cumsum - P_w_available_j # shifted cumsum\n",
    "\n",
    "        # calculate which P_w_available_j values are used fully and which only partly (only one will be used partly)\n",
    "        cumsum_bin = P_w_available_j_cumsum < P_w_j # binary values if cumsum is smaller than needed energy\n",
    "        cumsum_shift_bin = P_w_available_j_cumsum_shift < P_w_j # binary values if cumsum_shift is smaller than needed energy\n",
    "\n",
    "        idx = (cumsum_bin == False) & (cumsum_shift_bin == True) # only True for partly used P_w_j\n",
    "        percent = (P_w_available_j_cumsum[idx] -P_w_j)  / P_w_available_j[idx] # get remaining share of partly used P_w_j\n",
    "        P_e_percent_remaining = np.ones((per, )) # first, all remaining values are set to 1 (=100%)\n",
    "        P_e_percent_remaining[cumsum_bin] = 0 # set all fully used P_w_j to 0\n",
    "        P_e_percent_remaining[idx] = percent # set partly used to calculated percentage\n",
    "\n",
    "        P_e_percent_remaining_sorted_orig = P_e_percent_remaining[np.argsort(eta_sorted_j_index)] # set remaining shares to original order\n",
    "        P_e_available = P_e_available * P_e_percent_remaining_sorted_orig # get new P_e_available\n",
    "        P_e_a[:,j] = P_e_available\n",
    "\n",
    "    P_e_a = np.triu(P_e_a) # take only upper diagonal\n",
    "    P_e[:,0] = P_e_a[:,0]\n",
    "    for j in range(1, per):\n",
    "        P_e[:,j] = np.abs(P_e_a[:,j] - P_e_a[:,j-1])\n",
    "    diagonal = np.zeros((per, per))\n",
    "    np.fill_diagonal(diagonal, hp_power_el_opt)\n",
    "\n",
    "    P_e = np.abs(diagonal - P_e)\n",
    "    P_w = (P_e * M_eta)\n",
    "\n",
    "    df_per['P_e_opt'] = P_e.sum(1)\n",
    "\n",
    "    return   M_eta, P_e, P_w, df_per"
   ],
   "metadata": {
    "collapsed": false,
    "pycharm": {
     "name": "#%%\n"
    }
   }
  },
  {
   "cell_type": "code",
   "execution_count": null,
   "outputs": [],
   "source": [
    "M_eta, P_e,  P_w, df_per = heating_opt(data_temp)"
   ],
   "metadata": {
    "collapsed": false,
    "pycharm": {
     "name": "#%%\n"
    }
   }
  },
  {
   "cell_type": "code",
   "execution_count": null,
   "outputs": [],
   "source": [
    "# maximally possible saving potential, if there was no storage limit\n",
    "df_per.P_e_opt.sum() / df_per.energy_needed_elec.sum()"
   ],
   "metadata": {
    "collapsed": false,
    "pycharm": {
     "name": "#%%\n"
    }
   }
  },
  {
   "cell_type": "markdown",
   "source": [
    "## Storage volume"
   ],
   "metadata": {
    "collapsed": false,
    "pycharm": {
     "name": "#%% md\n"
    }
   }
  },
  {
   "cell_type": "code",
   "execution_count": null,
   "outputs": [],
   "source": [
    "#px.line(temperatures.max(axis=0))"
   ],
   "metadata": {
    "collapsed": false,
    "pycharm": {
     "name": "#%%\n"
    }
   }
  },
  {
   "cell_type": "markdown",
   "source": [
    "## Visualizations for Optimized Heating"
   ],
   "metadata": {
    "collapsed": false,
    "pycharm": {
     "name": "#%% md\n"
    }
   }
  },
  {
   "cell_type": "markdown",
   "source": [
    "## Energy storage forecast"
   ],
   "metadata": {
    "collapsed": false,
    "pycharm": {
     "name": "#%% md\n"
    }
   }
  },
  {
   "cell_type": "code",
   "execution_count": null,
   "outputs": [],
   "source": [
    "fig = make_subplots(specs=[[{\"secondary_y\": True}]])\n",
    "\n",
    "fig.add_trace(go.Scatter(x = df_per.date, y = df_per.temperature, name='temperature', mode='lines'),  secondary_y=False)\n",
    "fig.add_trace(go.Scatter(x = df_per.date, y = df_per.P_e_opt, name='Power (e) optimized', mode='markers'),  secondary_y=True)\n",
    "fig.add_trace(go.Scatter(x = df_per.date, y = df_per.energy_needed_elec, name='Power (e) not optimized', mode='markers'),  secondary_y=True)\n",
    "fig.update_layout(title='Power (elec) for optimized and not optimized heating')\n",
    "fig.write_html('optimization1.html')"
   ],
   "metadata": {
    "collapsed": false,
    "pycharm": {
     "name": "#%%\n"
    }
   }
  },
  {
   "cell_type": "code",
   "execution_count": null,
   "outputs": [],
   "source": [
    "# check if optimized power line is always above needed power line\n",
    "fig = make_subplots(specs=[[{\"secondary_y\": True}]])\n",
    "\n",
    "fig.add_trace(go.Scatter(x = df_per.date, y = df_per.energy_needed_water.cumsum(), name='power needed (water)', mode='lines'),  secondary_y=False)\n",
    "fig.add_trace(go.Scatter(x = df_per.date, y = P_w.sum(1).cumsum(), name='optimized power (water)', mode='lines'),  secondary_y=False)\n",
    "fig.update_layout(title='Cumulated Energy (water) stored vs energy needed in Watthours')"
   ],
   "metadata": {
    "collapsed": false,
    "pycharm": {
     "name": "#%%\n"
    }
   }
  },
  {
   "cell_type": "code",
   "execution_count": null,
   "outputs": [],
   "source": [
    "fig = make_subplots(specs=[[{\"secondary_y\": True}]])\n",
    "\n",
    "fig.add_trace(go.Scatter(x = df_per.date, y = df_per.P_e_opt.cumsum(), name='Power (e) optimized', mode='lines'),  secondary_y=False)\n",
    "fig.add_trace(go.Scatter(x = df_per.date, y = df_per.energy_needed_elec.cumsum(), name='Power (e) not optimized', mode='lines'),  secondary_y=False)\n",
    "fig.update_layout(title='Cumulated Power (elec) for optimized and not optimized heating')"
   ],
   "metadata": {
    "collapsed": false,
    "pycharm": {
     "name": "#%%\n"
    }
   }
  },
  {
   "cell_type": "code",
   "execution_count": null,
   "outputs": [],
   "source": [
    "# check visually if needed power equals optimized power supply for every period -> lines have to match exactly\n",
    "fig = make_subplots(specs=[[{\"secondary_y\": True}]])\n",
    "\n",
    "fig.add_trace(go.Scatter(x = df_per.date, y = df_per.energy_needed_water.cumsum(), name='power needed (water)', mode='lines'),  secondary_y=False)\n",
    "fig.add_trace(go.Scatter(x = df_per.date, y = P_w.sum(0).cumsum(), name='optimized power (water)', mode='lines'),  secondary_y=False)"
   ],
   "metadata": {
    "collapsed": false,
    "pycharm": {
     "name": "#%%\n"
    }
   }
  },
  {
   "cell_type": "markdown",
   "source": [
    "## Heat maps"
   ],
   "metadata": {
    "collapsed": false,
    "pycharm": {
     "name": "#%% md\n"
    }
   }
  },
  {
   "cell_type": "code",
   "execution_count": null,
   "outputs": [],
   "source": [
    "fig = px.imshow(P_e)\n",
    "fig.write_html('P_e' + '.html', auto_open=False)"
   ],
   "metadata": {
    "collapsed": false,
    "pycharm": {
     "name": "#%%\n"
    }
   }
  },
  {
   "cell_type": "code",
   "execution_count": null,
   "outputs": [],
   "source": [
    "fig = px.imshow(M_eta)\n",
    "#fig.show()\n",
    "fig.write_html('M_eta' + '.html', auto_open=False)"
   ],
   "metadata": {
    "collapsed": false,
    "pycharm": {
     "name": "#%%\n"
    }
   }
  },
  {
   "cell_type": "code",
   "execution_count": null,
   "outputs": [],
   "source": [
    "fig = px.imshow(P_w)\n",
    "fig.update_layout(height=1000)\n",
    "fig.write_html('P_w' + '.html', auto_open=False)"
   ],
   "metadata": {
    "collapsed": false,
    "pycharm": {
     "name": "#%%\n"
    }
   }
  },
  {
   "cell_type": "code",
   "execution_count": null,
   "outputs": [],
   "source": [
    "px.line(data_temp.energy_needed_water.rolling(24).sum()).write_html('energy_needed_water' + '.html', auto_open=False)"
   ],
   "metadata": {
    "collapsed": false,
    "pycharm": {
     "name": "#%%\n"
    }
   }
  },
  {
   "cell_type": "markdown",
   "source": [
    "# Optimization Problem 2\n",
    "\n",
    "Bei Betrachtung des Speichervolumens fällt mit einem Temperaturdelta im Speicher das gespeicherte Volumen selten über 6000 Liter -> künftige Annahme: 6000 Liter Tank und Vorlauftemperatur im Speicher konstantes Temperaturdelta von 10 Grad\n",
    "Speicher hat im Nullzustand 27 Grad, wird auf max_vorlauf Grad erhitzt. Vorlauftemp sonst ist immer 30 Grad"
   ],
   "metadata": {
    "collapsed": false,
    "pycharm": {
     "name": "#%% md\n"
    }
   }
  },
  {
   "cell_type": "code",
   "execution_count": null,
   "outputs": [],
   "source": [
    "# optimize over vorlauftemp\n",
    "\n",
    "def heating_optimization(df, period_lim = None, period = None, **kwargs):\n",
    "    if type(period) != type(None):\n",
    "        df_per = df[(df.period_max == period) | (df.period_min == period)]\n",
    "    else:\n",
    "        df_per = df.copy()\n",
    "\n",
    "    per = df_per.shape[0] #number of hours in period\n",
    "    M_timedelta = np.empty((per, per))\n",
    "\n",
    "    for i in range(per): # build timedelta matrix\n",
    "        M_timedelta[i, range(0, i+1)] = np.flip(np.linspace(0, i, i+1))\n",
    "    M_timedelta = M_timedelta.T\n",
    "    vorlauf = df_per.vorlauf_temp.values\n",
    "\n",
    "    M_vorlauf = celsius(newton_cooling_t_0(kelvin(vorlauf), M_timedelta * 3600))\n",
    "    M_vorlauf = np.triu(M_vorlauf) # needed heating temperature when heating in period i and using the heat in period j (i X j - Matrix)\n",
    "    M_temperature = np.tile(df_per.temperature.values, (len(df_per.temperature.values),1)).T\n",
    "\n",
    "    def target_fun(vorl, optimizing = True, constraint = False):\n",
    "\n",
    "        M_eta = eta_freezing_adj(zu=M_temperature, max_ab=M_vorlauf)#, min_ab=M_vorlauf)\n",
    "\n",
    "        if type(period_lim) != type(None):\n",
    "            M_vorlauf_max = celsius(newton_cooling_t_0(kelvin(vorl), t=M_timedelta * 3600))\n",
    "            M_eta_heating = eta_freezing_adj(zu = M_temperature, max_ab=M_vorlauf_max, heating=True)\n",
    "            M_eta_heating = np.triu(M_eta_heating, k=1)\n",
    "            M_eta = np.tril(M_eta)\n",
    "\n",
    "            M_eta = M_eta_heating + M_eta\n",
    "            M_eta = np.triu(M_eta) # upper diagonal\n",
    "            M_eta = np.tril(M_eta, k = period_lim)\n",
    "\n",
    "        else:\n",
    "            M_eta = np.triu(M_eta) # upper diagonal\n",
    "\n",
    "        P_w_sum = df_per.energy_needed_water.values # needed energy in water for each hour\n",
    "        P_e_max = np.full((per, ), hp_power_el_opt) # maximal available energy (electricity) per hour -> e.g. 2500W\n",
    "        P_e_available = P_e_max.copy() # at each period still available 'capacity' in electricity for future hours\n",
    "\n",
    "        P_e = np.zeros((per, per)) # Matrix with used energy (e) from each period for each period that is optimized\n",
    "        P_e_a = np.empty((per, per)) # Matrix to later calculate P_e\n",
    "\n",
    "        for j in range(per):\n",
    "            P_w_j = P_w_sum[j] # energy needed (w) in hour j\n",
    "\n",
    "            M_eta_j = M_eta[: , j] # efficiencies in each hour\n",
    "            eta_sorted_j_index = np.flip(np.argsort(M_eta_j)) # get indexes of highes values in M_eta_j\n",
    "            eta_sorted_j = M_eta_j[eta_sorted_j_index] # get highest values of M_eta_j (descending order)\n",
    "\n",
    "            P_w_available_j = P_e_available[eta_sorted_j_index] * eta_sorted_j # available energy (w) for hour j in descending cost order\n",
    "\n",
    "            P_w_available_j_cumsum = P_w_available_j.cumsum() # get cumsum for available P_w (descending cost order)\n",
    "            P_w_available_j_cumsum_shift = P_w_available_j_cumsum - P_w_available_j # shifted cumsum\n",
    "\n",
    "            # calculate which P_w_available_j values are used fully and which only partly (only one will be used partly)\n",
    "            cumsum_bin = P_w_available_j_cumsum < P_w_j # binary values if cumsum is smaller than needed energy\n",
    "            cumsum_shift_bin = P_w_available_j_cumsum_shift < P_w_j # binary values if cumsum_shift is smaller than needed energy\n",
    "\n",
    "            idx = (cumsum_bin == False) & (cumsum_shift_bin == True) # only True for partly used P_w_j\n",
    "            percent = (P_w_available_j_cumsum[idx] -P_w_j)  / P_w_available_j[idx] # get remaining share of partly used P_w_j\n",
    "            P_e_percent_remaining = np.ones((per, )) # first, all remaining values are set to 1 (=100%)\n",
    "            P_e_percent_remaining[cumsum_bin] = 0 # set all fully used P_w_j to 0\n",
    "            P_e_percent_remaining[idx] = percent # set partly used to calculated percentage\n",
    "\n",
    "            P_e_percent_remaining_sorted_orig = P_e_percent_remaining[np.argsort(eta_sorted_j_index)] # set remaining shares to original order\n",
    "            P_e_available = P_e_available * P_e_percent_remaining_sorted_orig # get new P_e_available\n",
    "            P_e_a[:,j] = P_e_available\n",
    "\n",
    "        P_e_a = np.triu(P_e_a) # take only upper diagonal\n",
    "        P_e[:,0] = P_e_a[:,0]\n",
    "        for j in range(1, per):\n",
    "            P_e[:,j] = np.abs(P_e_a[:,j] - P_e_a[:,j-1])\n",
    "        diagonal = np.zeros((per, per))\n",
    "        np.fill_diagonal(diagonal, hp_power_el_opt)\n",
    "\n",
    "        P_e = np.abs(diagonal - P_e)\n",
    "        P_w = (P_e * M_eta)\n",
    "\n",
    "        if optimizing == False:\n",
    "            df_per['P_e_opt'] = P_e.sum(1)\n",
    "            return M_eta, P_e, P_w, df_per\n",
    "\n",
    "        if constraint == True:\n",
    "            return P_w\n",
    "\n",
    "        return P_e.sum()\n",
    "\n",
    "    def constraint_fun(vorl):\n",
    "\n",
    "        P_w = target_fun(vorl, constraint=True)\n",
    "        stor_vol = np.zeros((P_w.shape[0],))\n",
    "\n",
    "        for i in range(P_w.shape[0] - 1):\n",
    "            stor_vol[i] = get_needed_storage_vol(vorl - ruecklauf, P_w[:(i + 1), (i + 1):].sum() / 1000)\n",
    "        max_stor = max(stor_vol)\n",
    "        return storage_volume - max_stor\n",
    "\n",
    "    if 'optimize' in kwargs: #same as heating_opt\n",
    "        if kwargs['optimize'] == False:\n",
    "            if 'vorlauf' in kwargs:\n",
    "                M_eta_opt, P_e_opt, P_w_opt, df_per_opt = target_fun(kwargs['vorlauf'], optimizing=False)\n",
    "                return M_eta_opt, P_e_opt, P_w_opt, df_per_opt\n",
    "            else:\n",
    "                return 'Must enter a temperature'\n",
    "\n",
    "    # optimization problem\n",
    "    lb = max(vorlauf) + 0.001\n",
    "    ub = 100\n",
    "    bounds = Bounds(lb=lb, ub=ub)\n",
    "\n",
    "    min = minimize(target_fun, x0=(lb + 1, ), bounds=bounds, constraints={'type':'ineq',\n",
    "                                                                          'fun': constraint_fun} )\n",
    "\n",
    "    M_eta_opt, P_e_opt, P_w_opt, df_per_opt = target_fun(min.x[0], optimizing=False) # get values for optimal heating temperature\n",
    "\n",
    "    return min, M_eta_opt, P_e_opt, P_w_opt, df_per_opt"
   ],
   "metadata": {
    "collapsed": false,
    "pycharm": {
     "name": "#%%\n"
    }
   }
  },
  {
   "cell_type": "code",
   "execution_count": null,
   "outputs": [],
   "source": [
    "minimum, M_eta_opt, P_e_opt, P_w_opt, df_per_opt= heating_optimization(data_temp, period=2, period_lim=21)"
   ],
   "metadata": {
    "collapsed": false,
    "pycharm": {
     "name": "#%%\n"
    }
   }
  },
  {
   "cell_type": "markdown",
   "source": [
    "# Optimization with varying preheatings\n",
    "\n",
    "TODO\n",
    "add P_w to big P_w with all periods"
   ],
   "metadata": {
    "collapsed": false,
    "pycharm": {
     "name": "#%% md\n"
    }
   }
  },
  {
   "cell_type": "code",
   "execution_count": null,
   "outputs": [],
   "source": [
    "max_periods = 36\n",
    "index = 0\n",
    "data_temp_new = pd.DataFrame()\n",
    "\n",
    "for p in data_temp.period_max.dropna().unique():\n",
    "    print('period: ', p)\n",
    "\n",
    "    min_x = []\n",
    "    min_fun = []\n",
    "\n",
    "    for i in range(max_periods):\n",
    "        #print('period_lim: ', i)\n",
    "        minimum, M_eta, P_e,  P_w, df_per = heating_optimization(data_temp.loc[index:, :], period=p, period_lim=i)\n",
    "\n",
    "        min_x.append(minimum.x[0])\n",
    "        min_fun.append(minimum.fun)\n",
    "\n",
    "    temp = min_x[np.argmin(min_fun)]\n",
    "    #TODO change period_lim = i to actual period_lim\n",
    "    #M_eta, P_e,  P_w, df_per = heating_opt(data_temp.loc[index:, :], period=p, period_lim=np.argmin(min_fun), vorl=temp)\n",
    "    M_eta, P_e,  P_w, df_per = heating_optimization(data_temp.loc[index:, :], period=p, period_lim=np.argmin(min_fun), optimize=False, vorlauf=temp)\n",
    "\n",
    "    stor_vol = np.zeros((P_w.shape[0],))\n",
    "\n",
    "    for i in range(P_w.shape[0] - 1):\n",
    "        stor_vol[i] = get_needed_storage_vol(temp - ruecklauf, P_w[:(i + 1), (i + 1):].sum() / 1000)\n",
    "    df_per['Storage_vol'] = stor_vol\n",
    "    df_per['Preheat_temp'] = temp\n",
    "    df_per['Period_lim'] = np.argmin(min_fun)\n",
    "    index = df_per[df_per.Storage_vol == 0].Storage_vol.index[-1] + 1\n",
    "\n",
    "    data_temp_new = pd.concat([data_temp_new, df_per])"
   ],
   "metadata": {
    "collapsed": false,
    "pycharm": {
     "name": "#%%\n"
    }
   }
  },
  {
   "cell_type": "code",
   "execution_count": null,
   "outputs": [],
   "source": [
    "fig = make_subplots(specs=[[{\"secondary_y\": True}]])\n",
    "fig.add_trace(go.Scatter(x=data_temp_new.date, y=data_temp_new.temperature, name='temperature', mode='lines'), secondary_y=False)\n",
    "fig.add_trace(go.Scatter(x=data_temp_new.date, y=data_temp_new.P_e_opt, name='Power (e) optimized', mode='markers'), secondary_y=True)\n",
    "fig.add_trace(go.Scatter(x=data_temp_new.date, y=data_temp_new.energy_needed_elec, name='Power (e) not optimized', mode='markers'),\n",
    "              secondary_y=True)\n",
    "fig.add_trace(go.Scatter(x=data_temp_new.date, y=data_temp_new.Storage_vol, name='Storage Volume'), secondary_y=True)\n",
    "fig.add_trace(go.Scatter(x=data_temp_new.date, y=data_temp_new.Preheat_temp, name='Preheat Temperature'), secondary_y=False)\n",
    "fig.add_trace(go.Scatter(x=data_temp_new.date, y=data_temp_new.vorlauf_temp, name='Vorlauftemperatur'), secondary_y=False)\n",
    "fig.update_layout(title='Power (elec) for optimized and not optimized heating')\n",
    "fig.write_html('optimization_data_temp.html')\n"
   ],
   "metadata": {
    "collapsed": false,
    "pycharm": {
     "name": "#%%\n"
    }
   }
  },
  {
   "cell_type": "code",
   "execution_count": null,
   "outputs": [],
   "source": [
    "data_temp_new.P_e_opt.sum() / data_temp_new.energy_needed_elec.sum()"
   ],
   "metadata": {
    "collapsed": false,
    "pycharm": {
     "name": "#%%\n"
    }
   }
  },
  {
   "cell_type": "code",
   "execution_count": null,
   "outputs": [],
   "source": [
    "stored_water_energy = np.zeros((P_w.shape[0],))\n",
    "stor_vol_fc = np.zeros((P_w.shape[0],))\n",
    "for i in range(P_w.shape[0] - 1):\n",
    "    stored_water_energy[i] = P_w[:(i + 1), (i + 1):].sum()\n",
    "    #print(temperatures.min(axis=0)[i] - ruecklauf)\n",
    "    stor_vol_fc[i] = get_needed_storage_vol(minimum.x[0] - ruecklauf, P_w[:(i + 1), (i + 1):].sum() / 1000)\n",
    "\n",
    "fig = go.Figure()\n",
    "fig.add_trace(go.Scatter(y = stor_vol_fc))\n",
    "fig.add_trace(go.Scatter(x = data_temp.temperature.index, y = data_temp.temperature))\n",
    "fig.add_trace(go.Scatter(x = data_temp.local_min.dropna().index, y = np.full(data_temp.local_min.shape, 5), mode='markers'))\n",
    "fig.add_trace(go.Scatter(x = data_temp.index, y = df_per.P_e_opt, name='Power (e) optimized', mode='markers'))\n",
    "fig.add_trace(go.Scatter(x = data_temp.local_max.dropna().index, y = np.full(data_temp.local_max.shape, 5), mode='markers'))\n",
    "fig.write_html('water_storage.html')"
   ],
   "metadata": {
    "collapsed": false,
    "pycharm": {
     "name": "#%%\n"
    }
   }
  },
  {
   "cell_type": "code",
   "execution_count": null,
   "outputs": [],
   "source": [
    "M_eta_fc, P_e_fc, P_w_fc, df_per_fc =  heating_opt(forecast, period_lim=27, vorl=minimum.x[0])"
   ],
   "metadata": {
    "collapsed": false,
    "pycharm": {
     "name": "#%%\n"
    }
   }
  },
  {
   "cell_type": "code",
   "execution_count": null,
   "outputs": [],
   "source": [
    "stored_water_energy = np.zeros((P_w_fc.shape[0],))\n",
    "stor_vol_fc = np.zeros((P_w_fc.shape[0],))\n",
    "for i in range(P_w_fc.shape[0] - 1):\n",
    "    stored_water_energy[i] = P_w_fc[:(i + 1), (i + 1):].sum()\n",
    "    #print(temperatures.min(axis=0)[i] - ruecklauf)\n",
    "    stor_vol_fc[i] = get_needed_storage_vol(33.3428 - ruecklauf, P_w_fc[:(i + 1), (i + 1):].sum() / 1000)"
   ],
   "metadata": {
    "collapsed": false,
    "pycharm": {
     "name": "#%%\n"
    }
   }
  },
  {
   "cell_type": "code",
   "execution_count": null,
   "outputs": [],
   "source": [
    "fig = make_subplots(specs=[[{\"secondary_y\": True}]])\n",
    "\n",
    "fig.add_trace(go.Scatter(x=df_per_fc.date, y=df_per_fc.temperature, name='temperature', mode='lines'), secondary_y=False)\n",
    "fig.add_trace(go.Scatter(x=df_per_fc.date, y=df_per_fc.P_e_opt, name='Power (e) optimized', mode='markers'), secondary_y=True)\n",
    "fig.add_trace(go.Scatter(x=df_per_fc.date, y=df_per_fc.energy_needed_elec, name='Power (e) not optimized', mode='markers'),\n",
    "              secondary_y=True)\n",
    "fig.update_layout(title='Power (elec) for optimized and not optimized heating')\n",
    "fig.write_html('optimization_fc.html')"
   ],
   "metadata": {
    "collapsed": false,
    "pycharm": {
     "name": "#%%\n"
    }
   }
  },
  {
   "cell_type": "code",
   "execution_count": null,
   "outputs": [],
   "source": [
    "forecast.energy_needed_elec.sum()"
   ],
   "metadata": {
    "collapsed": false,
    "pycharm": {
     "name": "#%%\n"
    }
   }
  },
  {
   "cell_type": "code",
   "execution_count": null,
   "outputs": [],
   "source": [
    "stored_water_energy = np.zeros((P_w_opt.shape[0],))\n",
    "stor_vol = np.zeros((P_w_opt.shape[0],))\n",
    "for i in range(P_w_opt.shape[0] - 1):\n",
    "    stored_water_energy[i] = P_w_opt[:(i + 1), (i + 1):].sum()\n",
    "    stor_vol[i] = get_needed_storage_vol(minimum.x[0] - ruecklauf, P_w_opt[:(i + 1), (i + 1):].sum() / 1000)\n",
    "max(get_needed_storage_vol(minimum.x[0] - ruecklauf, stored_water_energy / 1000))"
   ],
   "metadata": {
    "collapsed": false,
    "pycharm": {
     "name": "#%%\n"
    }
   }
  },
  {
   "cell_type": "code",
   "execution_count": null,
   "outputs": [],
   "source": [
    "px.line(stor_vol).write_html('stor_vol3.html')"
   ],
   "metadata": {
    "collapsed": false,
    "pycharm": {
     "name": "#%%\n"
    }
   }
  },
  {
   "cell_type": "code",
   "execution_count": null,
   "outputs": [],
   "source": [
    "fig = make_subplots(specs=[[{\"secondary_y\": True}]])\n",
    "\n",
    "fig.add_trace(go.Scatter(x=df_per3.date, y=df_per3.temperature, name='temperature', mode='lines'), secondary_y=False)\n",
    "fig.add_trace(go.Scatter(x=df_per3.date, y=df_per3.P_e_opt, name='Power (e) optimized', mode='markers'), secondary_y=True)\n",
    "fig.add_trace(go.Scatter(x=df_per3.date, y=df_per3.energy_needed_elec, name='Power (e) not optimized', mode='markers'),\n",
    "              secondary_y=True)\n",
    "fig.update_layout(title='Power (elec) for optimized and not optimized heating')\n",
    "fig.write_html('optimization3.html')"
   ],
   "metadata": {
    "collapsed": false,
    "pycharm": {
     "name": "#%%\n"
    }
   }
  },
  {
   "cell_type": "code",
   "execution_count": null,
   "outputs": [],
   "source": [
    "# check visually if needed power equals optimized power supply for every period -> lines have to match exactly\n",
    "fig = make_subplots(specs=[[{\"secondary_y\": True}]])\n",
    "\n",
    "fig.add_trace(\n",
    "    go.Scatter(x=df_per3.date, y=df_per3.energy_needed_water.cumsum(), name='power needed (water)', mode='lines'),\n",
    "    secondary_y=False)\n",
    "fig.add_trace(go.Scatter(x=df_per3.date, y=P_w3.sum(0).cumsum(), name='optimized power (water)', mode='lines'),\n",
    "              secondary_y=False)"
   ],
   "metadata": {
    "collapsed": false,
    "pycharm": {
     "name": "#%%\n"
    }
   }
  },
  {
   "cell_type": "markdown",
   "source": [
    "# Test"
   ],
   "metadata": {
    "collapsed": false,
    "pycharm": {
     "name": "#%% md\n"
    }
   }
  },
  {
   "cell_type": "code",
   "execution_count": null,
   "outputs": [],
   "source": [
    "per = forecast.shape[0] #number of hours in period\n",
    "M_timedelta = np.empty((per, per))\n",
    "\n",
    "for i in range(per): # build timedelta matrix\n",
    "    M_timedelta[i, range(0, i+1)] = np.flip(np.linspace(0, i, i+1))\n",
    "M_timedelta = M_timedelta.T\n"
   ],
   "metadata": {
    "collapsed": false,
    "pycharm": {
     "name": "#%%\n"
    }
   }
  },
  {
   "cell_type": "code",
   "execution_count": null,
   "outputs": [],
   "source": [
    "a = np.ones(shape=(63,63))\n",
    "a[2,3] = 2\n",
    "a"
   ],
   "metadata": {
    "collapsed": false,
    "pycharm": {
     "name": "#%%\n"
    }
   }
  },
  {
   "cell_type": "code",
   "execution_count": null,
   "outputs": [],
   "source": [
    "a * np.exp(M_timedelta)"
   ],
   "metadata": {
    "collapsed": false,
    "pycharm": {
     "name": "#%%\n"
    }
   }
  },
  {
   "cell_type": "code",
   "execution_count": null,
   "outputs": [],
   "source": [
    "a * np.exp(M_timedelta)"
   ],
   "metadata": {
    "collapsed": false,
    "pycharm": {
     "name": "#%%\n"
    }
   }
  },
  {
   "cell_type": "code",
   "execution_count": null,
   "outputs": [],
   "source": [
    "(a * np.exp(M_timedelta.T)).T"
   ],
   "metadata": {
    "collapsed": false,
    "pycharm": {
     "name": "#%%\n"
    }
   }
  },
  {
   "cell_type": "markdown",
   "source": [
    "# Optimization with varying period_lim"
   ],
   "metadata": {
    "collapsed": false,
    "pycharm": {
     "name": "#%% md\n"
    }
   }
  },
  {
   "cell_type": "code",
   "execution_count": null,
   "outputs": [],
   "source": [
    "# optimize over vorlauftemp\n",
    "\n",
    "def heating_optimization_period(df, period = None):\n",
    "\n",
    "    def tf(period_lim=None):\n",
    "        period_lim = np.array(period_lim, dtype=int)\n",
    "        print(period_lim)\n",
    "        if type(period) != type(None):\n",
    "            df_per = df[(df.period_max == period) | (df.period_min == period)]\n",
    "        else:\n",
    "            df_per = df.copy()\n",
    "\n",
    "        per = df_per.shape[0]  #number of hours in period\n",
    "        M_timedelta = np.empty((per, per))\n",
    "\n",
    "        for i in range(per):  # build timedelta matrix\n",
    "            M_timedelta[i, range(0, i + 1)] = np.flip(np.linspace(0, i, i + 1))\n",
    "        M_timedelta = M_timedelta.T\n",
    "        vorlauf = df_per.vorlauf_temp.values\n",
    "\n",
    "        M_vorlauf = celsius(newton_cooling_t_0(kelvin(vorlauf), M_timedelta * 3600))\n",
    "        M_vorlauf = np.triu(M_vorlauf)  # needed heating temperature when heating in period i and using the heat in period j (i X j - Matrix)\n",
    "        M_temperature = np.tile(df_per.temperature.values, (len(df_per.temperature.values), 1)).T\n",
    "\n",
    "        def target_fun(vorl, optimizing=True):\n",
    "\n",
    "            M_eta = eta_freezing_adj(zu=M_temperature, max_ab=M_vorlauf)  #, min_ab=M_vorlauf)\n",
    "\n",
    "            if type(period_lim) != type(None):\n",
    "                M_vorlauf_max = celsius(newton_cooling_t_0(kelvin(vorl), t=M_timedelta * 3600))\n",
    "                M_eta_heating = eta_freezing_adj(zu=M_temperature, max_ab=M_vorlauf_max, heating=False)\n",
    "                M_eta_heating = np.triu(M_eta_heating, k=1)\n",
    "                M_eta = np.tril(M_eta)\n",
    "\n",
    "                M_eta = M_eta_heating + M_eta\n",
    "                M_eta = np.triu(M_eta)  # upper diagonal\n",
    "                M_eta_final = np.zeros(M_eta.shape)\n",
    "                for i in range(M_eta.shape[0]):\n",
    "\n",
    "                    M_eta_final[i, i:i +period_lim[i]+1] = M_eta[i, i: i + period_lim[i] +1]\n",
    "\n",
    "                M_eta = M_eta_final\n",
    "                #M_eta = np.tril(M_eta, k=period_lim)\n",
    "\n",
    "            else:\n",
    "                M_eta = np.triu(M_eta)  # upper diagonal\n",
    "\n",
    "            P_w_sum = df_per.energy_needed_water.values  # needed energy in water for each hour\n",
    "            P_e_max = np.full((per,), hp_power_el_opt)  # maximal available energy (electricity) per hour -> e.g. 2500W\n",
    "            P_e_available = P_e_max.copy()  # at each period still available 'capacity' in electricity for future hours\n",
    "\n",
    "            P_e = np.zeros((per, per))  # Matrix with used energy (e) from each period for each period that is optimized\n",
    "            P_e_a = np.empty((per, per))  # Matrix to later calculate P_e\n",
    "\n",
    "            for j in range(per):\n",
    "                P_w_j = P_w_sum[j]  # energy needed (w) in hour j\n",
    "\n",
    "                M_eta_j = M_eta[:, j]  # efficiencies in each hour\n",
    "                eta_sorted_j_index = np.flip(np.argsort(M_eta_j))  # get indexes of highes values in M_eta_j\n",
    "                eta_sorted_j = M_eta_j[eta_sorted_j_index]  # get highest values of M_eta_j (descending order)\n",
    "\n",
    "                P_w_available_j = P_e_available[\n",
    "                                      eta_sorted_j_index] * eta_sorted_j  # available energy (w) for hour j in descending cost order\n",
    "\n",
    "                P_w_available_j_cumsum = P_w_available_j.cumsum()  # get cumsum for available P_w (descending cost order)\n",
    "                P_w_available_j_cumsum_shift = P_w_available_j_cumsum - P_w_available_j  # shifted cumsum\n",
    "\n",
    "                # calculate which P_w_available_j values are used fully and which only partly (only one will be used partly)\n",
    "                cumsum_bin = P_w_available_j_cumsum < P_w_j  # binary values if cumsum is smaller than needed energy\n",
    "                cumsum_shift_bin = P_w_available_j_cumsum_shift < P_w_j  # binary values if cumsum_shift is smaller than needed energy\n",
    "\n",
    "                idx = (cumsum_bin == False) & (cumsum_shift_bin == True)  # only True for partly used P_w_j\n",
    "                percent = (P_w_available_j_cumsum[idx] - P_w_j) / P_w_available_j[\n",
    "                    idx]  # get remaining share of partly used P_w_j\n",
    "                P_e_percent_remaining = np.ones((per,))  # first, all remaining values are set to 1 (=100%)\n",
    "                P_e_percent_remaining[cumsum_bin] = 0  # set all fully used P_w_j to 0\n",
    "                P_e_percent_remaining[idx] = percent  # set partly used to calculated percentage\n",
    "\n",
    "                P_e_percent_remaining_sorted_orig = P_e_percent_remaining[\n",
    "                    np.argsort(eta_sorted_j_index)]  # set remaining shares to original order\n",
    "                P_e_available = P_e_available * P_e_percent_remaining_sorted_orig  # get new P_e_available\n",
    "                P_e_a[:, j] = P_e_available\n",
    "\n",
    "            P_e_a = np.triu(P_e_a)  # take only upper diagonal\n",
    "            P_e[:, 0] = P_e_a[:, 0]\n",
    "            for j in range(1, per):\n",
    "                P_e[:, j] = np.abs(P_e_a[:, j] - P_e_a[:, j - 1])\n",
    "            diagonal = np.zeros((per, per))\n",
    "            np.fill_diagonal(diagonal, hp_power_el_opt)\n",
    "\n",
    "            P_e = np.abs(diagonal - P_e)\n",
    "\n",
    "            if optimizing == False:\n",
    "                P_w = (P_e * M_eta)\n",
    "                df_per['P_e_opt'] = P_e.sum(1)\n",
    "                return M_eta, P_e, P_w, df_per\n",
    "\n",
    "            return P_e.sum()\n",
    "\n",
    "        def constraint_fun(vorl):\n",
    "\n",
    "            M_eta = eta_freezing_adj(zu=M_temperature, max_ab=M_vorlauf)  #, min_ab=M_vorlauf)\n",
    "\n",
    "            if type(period_lim) != type(None):\n",
    "                M_vorlauf_max = celsius(newton_cooling_t_0(kelvin(vorl), t=M_timedelta * 3600))\n",
    "                M_eta_heating = eta_freezing_adj(zu=M_temperature, max_ab=M_vorlauf_max, heating=False)\n",
    "                M_eta_heating = np.triu(M_eta_heating, k=1)\n",
    "                M_eta = np.tril(M_eta)\n",
    "\n",
    "                M_eta = M_eta_heating + M_eta\n",
    "                M_eta = np.triu(M_eta)  # upper diagonal\n",
    "\n",
    "                M_eta_final = np.zeros(M_eta.shape)\n",
    "                for i in range(M_eta.shape[0]):\n",
    "                    M_eta_final[i, i:i +period_lim[i]+1] = M_eta[i, i: i + period_lim[i] +1]\n",
    "\n",
    "                M_eta = M_eta_final#np.tril(M_eta, k=period_lim)\n",
    "\n",
    "            else:\n",
    "                M_eta = np.triu(M_eta)  # upper diagonal\n",
    "\n",
    "            P_w_sum = df_per.energy_needed_water.values  # needed energy in water for each hour\n",
    "            P_e_max = np.full((per,), hp_power_el_opt)  # maximal available energy (electricity) per hour -> e.g. 2500W\n",
    "            P_e_available = P_e_max.copy()  # at each period still available 'capacity' in electricity for future hours\n",
    "\n",
    "            P_e = np.zeros((per, per))  # Matrix with used energy (e) from each period for each period that is optimized\n",
    "            P_e_a = np.empty((per, per))  # Matrix to later calculate P_e\n",
    "\n",
    "            for j in range(per):\n",
    "                P_w_j = P_w_sum[j]  # energy needed (w) in hour j\n",
    "\n",
    "                M_eta_j = M_eta[:, j]  # efficiencies in each hour\n",
    "                eta_sorted_j_index = np.flip(np.argsort(M_eta_j))  # get indexes of highes values in M_eta_j\n",
    "                eta_sorted_j = M_eta_j[eta_sorted_j_index]  # get highest values of M_eta_j (descending order)\n",
    "\n",
    "                P_w_available_j = P_e_available[\n",
    "                                      eta_sorted_j_index] * eta_sorted_j  # available energy (w) for hour j in descending cost order\n",
    "\n",
    "                P_w_available_j_cumsum = P_w_available_j.cumsum()  # get cumsum for available P_w (descending cost order)\n",
    "                P_w_available_j_cumsum_shift = P_w_available_j_cumsum - P_w_available_j  # shifted cumsum\n",
    "\n",
    "                # calculate which P_w_available_j values are used fully and which only partly (only one will be used partly)\n",
    "                cumsum_bin = P_w_available_j_cumsum < P_w_j  # binary values if cumsum is smaller than needed energy\n",
    "                cumsum_shift_bin = P_w_available_j_cumsum_shift < P_w_j  # binary values if cumsum_shift is smaller than needed energy\n",
    "\n",
    "                idx = (cumsum_bin == False) & (cumsum_shift_bin == True)  # only True for partly used P_w_j\n",
    "                percent = (P_w_available_j_cumsum[idx] - P_w_j) / P_w_available_j[\n",
    "                    idx]  # get remaining share of partly used P_w_j\n",
    "                P_e_percent_remaining = np.ones((per,))  # first, all remaining values are set to 1 (=100%)\n",
    "                P_e_percent_remaining[cumsum_bin] = 0  # set all fully used P_w_j to 0\n",
    "                P_e_percent_remaining[idx] = percent  # set partly used to calculated percentage\n",
    "\n",
    "                P_e_percent_remaining_sorted_orig = P_e_percent_remaining[\n",
    "                    np.argsort(eta_sorted_j_index)]  # set remaining shares to original order\n",
    "                P_e_available = P_e_available * P_e_percent_remaining_sorted_orig  # get new P_e_available\n",
    "                P_e_a[:, j] = P_e_available\n",
    "\n",
    "            P_e_a = np.triu(P_e_a)  # take only upper diagonal\n",
    "            P_e[:, 0] = P_e_a[:, 0]\n",
    "            for j in range(1, per):\n",
    "                P_e[:, j] = np.abs(P_e_a[:, j] - P_e_a[:, j - 1])\n",
    "            diagonal = np.zeros((per, per))\n",
    "            np.fill_diagonal(diagonal, hp_power_el_opt)\n",
    "\n",
    "            P_e = np.abs(diagonal - P_e)\n",
    "            P_w = (P_e * M_eta)\n",
    "\n",
    "            stor_vol = np.zeros((P_w.shape[0],))\n",
    "\n",
    "            for i in range(P_w.shape[0] - 1):\n",
    "                stor_vol[i] = get_needed_storage_vol(vorl - ruecklauf, P_w[:(i + 1), (i + 1):].sum() / 1000)\n",
    "            max_stor = max(stor_vol)\n",
    "            return storage_volume - max_stor\n",
    "\n",
    "        lb = ruecklauf + 0.01\n",
    "        ub = 100\n",
    "        bounds = Bounds(lb=lb, ub=ub)\n",
    "\n",
    "        min = minimize(target_fun, x0=(lb + 1,), bounds=bounds, constraints={'type': 'ineq',\n",
    "                                                                             'fun': constraint_fun})\n",
    "\n",
    "        M_eta_opt, P_e_opt, P_w_opt, df_per_opt = target_fun(min.x[0], optimizing=False)\n",
    "\n",
    "        return min.fun#, M_eta_opt, P_e_opt, P_w_opt, df_per_opt\n",
    "\n",
    "    lower_b = np.zeros((df.shape[0], ), dtype=int)\n",
    "    upper_b = np.full((df.shape[0], ), 36, dtype=int)\n",
    "\n",
    "    b = Bounds(lower_b, upper_b)\n",
    "    mini = minimize(tf, x0=lower_b + 2, bounds=b, constraints = {'type':'eq','fun': lambda x : max([x[i]-int(x[i]) for i in range(len(x))])})\n",
    "\n",
    "    return mini\n"
   ],
   "metadata": {
    "collapsed": false,
    "pycharm": {
     "name": "#%%\n"
    }
   }
  },
  {
   "cell_type": "code",
   "execution_count": null,
   "outputs": [],
   "source": [
    "heating_optimization_period(forecast)"
   ],
   "metadata": {
    "collapsed": false,
    "pycharm": {
     "name": "#%%\n"
    }
   }
  },
  {
   "cell_type": "code",
   "execution_count": null,
   "outputs": [],
   "source": [
    "x = np.ones((5,5))\n",
    "diag = np.linspace(0, x.shape[0]-1, x.shape[0], dtype=int)\n",
    "diag"
   ],
   "metadata": {
    "collapsed": false,
    "pycharm": {
     "name": "#%%\n"
    }
   }
  },
  {
   "cell_type": "code",
   "execution_count": null,
   "outputs": [],
   "source": [
    "plim = np.array([0,2,1,1,4])\n",
    "plim"
   ],
   "metadata": {
    "collapsed": false,
    "pycharm": {
     "name": "#%%\n"
    }
   }
  },
  {
   "cell_type": "code",
   "execution_count": null,
   "outputs": [],
   "source": [
    "dp = diag + plim\n",
    "y = np.zeros((5,5))\n",
    "for i in range(x.shape[0]):\n",
    "    y[i, i:i +plim[i]+1] = x[i, i: i + plim[i] +1]"
   ],
   "metadata": {
    "collapsed": false,
    "pycharm": {
     "name": "#%%\n"
    }
   }
  }
 ],
 "metadata": {
  "kernelspec": {
   "display_name": "Python 3 (ipykernel)",
   "language": "python",
   "name": "python3"
  },
  "language_info": {
   "codemirror_mode": {
    "name": "ipython",
    "version": 3
   },
   "file_extension": ".py",
   "mimetype": "text/x-python",
   "name": "python",
   "nbconvert_exporter": "python",
   "pygments_lexer": "ipython3",
   "version": "3.10.4"
  }
 },
 "nbformat": 4,
 "nbformat_minor": 1
}