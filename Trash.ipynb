{
 "cells": [
  {
   "cell_type": "code",
   "execution_count": null,
   "metadata": {
    "collapsed": true,
    "pycharm": {
     "name": "#%%\n"
    }
   },
   "outputs": [],
   "source": [
    "#solar data -> might be used later on\n",
    "#data_solar = pd.read_table('data/stundenwerte_ST_05100_row/produkt_st_stunde_19580101_20220531_05100.txt', sep=';')\n",
    "#data_solar = data_solar.drop('eor', axis=1)\n",
    "#data_solar.MESS_DATUM = pd.to_datetime(data_solar.MESS_DATUM.astype(str), format=('%Y%m%d%H:%M'))\n",
    "#data_solar[data_solar == -999] = np.nan\n",
    "#data_solar = data_solar[data_solar.MESS_DATUM >= pd.to_datetime('2019-01-01')]\n",
    "#data_solar.reset_index(drop = True, inplace=True)"
   ]
  },
  {
   "cell_type": "code",
   "execution_count": null,
   "outputs": [],
   "source": [
    "#not needed yet\n",
    "#px.line(data_solar, x='MESS_DATUM', y='FG_LBERG')"
   ],
   "metadata": {
    "collapsed": false,
    "pycharm": {
     "name": "#%%\n"
    }
   }
  },
  {
   "cell_type": "code",
   "execution_count": null,
   "outputs": [],
   "source": [
    "def energy_needed(df): #returns dataframe with needed energy for preheating and dataframe with periods\n",
    "    df_periods = pd.DataFrame(columns=['period', 'en_needed_water', 'en_needed_elec', 'en_needed_elec_preheat', 'stor_vol_needed'])\n",
    "    for p in pd.Series(df.period_max.unique()).dropna():\n",
    "        period = df[df.period_max == p].reset_index(drop=True)\n",
    "        eta_p = eta_freezing_adj(zu = period.temperature, max_ab=max(period.vorlauf_temp))\n",
    "        eta_p_freezing_adjusted = eta_heating(zu = period.temperature, max_ab=max(period.vorlauf_temp))\n",
    "        eta_p_freezing_adjusted[(period.freezing_zone == True)] = eta_p[(period.freezing_zone == True)] / 1.2\n",
    "\n",
    "        integ_water = integral(period.index, period.energy_needed_water)\n",
    "        integ_elec = integral(period.index, period.energy_needed_elec)\n",
    "\n",
    "        integ_water_profit = integral(period[eta_p[0] > period.eta_hp_heating].index, period[eta_p[0] > period.eta_hp_heating].energy_needed_water)\n",
    "        integ_elec_profit = integral(period[eta_p[0] > period.eta_hp_heating].index, period[eta_p[0] > period.eta_hp_heating].energy_needed_elec)\n",
    "\n",
    "        vol_needed = get_needed_storage_vol(max(period.vorlauf_temp) - ruecklauf, integ_water / 1000)\n",
    "        vol_needed_profit = max(0, get_needed_storage_vol(max(period.vorlauf_temp) - ruecklauf, integ_water_profit / 1000))\n",
    "\n",
    "        df.loc[df.period_max == p, 'energy_needed_water_total_period'] = integ_water\n",
    "        df.loc[df.period_max == p, 'energy_needed_elec_total_period'] = integ_elec\n",
    "        df.loc[df.period_max == p, 'storage_vol_needed'] = vol_needed\n",
    "        df.loc[df.period_max == p, 'eta_hp_heating_nextmin'] = list(eta_p)\n",
    "        df.loc[df.period_max == p, 'eta_hp_heating_nextmin_freezing_adjusted'] = list(eta_p_freezing_adjusted)\n",
    "        df.loc[df.period_max == p, 'preheat_profitable'] = list(eta_p[0] > period.eta_hp_heating)\n",
    "        df.loc[df.period_max == p, 'preheat_profitable_freezing_adjusted'] = list(eta_p_freezing_adjusted[0] > period.eta_freezing_adjusted)\n",
    "        df.loc[(df.period_max == p) & (df.preheat_profitable == True), 'energy_needed_water_profitable_period'] = integ_water_profit\n",
    "        df.loc[(df.period_max == p) & (df.preheat_profitable == True), 'energy_needed_elec_profitable_period'] = integ_elec_profit\n",
    "\n",
    "        df_periods = df_periods.append({'period': p,\n",
    "                                        'en_needed_water': integ_water,\n",
    "                                        'en_needed_elec': integ_elec,\n",
    "                                        'en_needed_elec_profit': integ_elec_profit,\n",
    "                                        'en_needed_water_profit': integ_water_profit,\n",
    "                                        'en_needed_elec_preheat': integ_water / eta_p[0],\n",
    "                                        'en_needed_elec_preheat_profit': integ_water_profit / eta_p[0],\n",
    "                                        'stor_vol_needed': vol_needed,\n",
    "                                        'stor_vol_needed_profit': vol_needed_profit}, ignore_index=True)\n",
    "\n",
    "    df.loc[df.preheat_profitable == False, 'en_produced_hourly'] = df.loc[df.preheat_profitable == False, 'eta_hp_heating_nextmin'] * hp_power_el_opt\n",
    "    df.loc[df.preheat_profitable == True, 'en_produced_hourly'] = 0\n",
    "\n",
    "    df['en_produced_total'] = df.en_produced_hourly.cumsum()\n",
    "\n",
    "    return df, df_periods\n",
    "data_temp, data_temp_periods = energy_needed(data_temp)"
   ],
   "metadata": {
    "collapsed": false,
    "pycharm": {
     "name": "#%%\n"
    }
   }
  },
  {
   "cell_type": "code",
   "execution_count": null,
   "outputs": [],
   "source": [
    "for p in pd.Series(data_temp.period_min.unique()).dropna():\n",
    "\n",
    "    data_temp.loc[data_temp.period_min == p, 'energy_overheat'] = energy_total_overheat(groundwater, data_temp.loc[data_temp.period_min == p, 'vorlauf_temp'].values[-1], data_temp.loc[data_temp.period_min == p, 'eta_hp_heating'].values, np.flip(data_temp.loc[data_temp.period_min == p, :].reset_index(drop=True).index))\n",
    "    data_temp.loc[data_temp.period_min == p, 'energy_keepheat'] = energy_total_keepheat(groundwater, data_temp.loc[data_temp.period_min == p, 'vorlauf_temp'].values[-1], data_temp.loc[data_temp.period_min == p, 'eta_hp_heating'].values, np.flip(np.cumsum(np.flip(data_temp.loc[data_temp.period_min == p, 'eta_hp_heating'].values)) / (data_temp.loc[data_temp.period_min == p, :].reset_index(drop=True).index+1)),  np.flip(data_temp.loc[data_temp.period_min == p, :].reset_index(drop=True).index))\n",
    "    temp_opt, en_opt, power_opt = over_keep_mix_vectorized(time = np.flip(data_temp.loc[data_temp.period_min == p, :].reset_index(drop=True).index), vorlauftemp = data_temp.loc[data_temp.period_min == p, 'vorlauf_temp'].values[-1], eta_t_0 = data_temp.loc[data_temp.period_min == p, 'eta_hp_heating'].values, eta_avg=np.flip(np.cumsum(np.flip(data_temp.loc[data_temp.period_min == p, 'eta_hp_heating'].values)) / (data_temp.loc[data_temp.period_min == p, :].reset_index(drop=True).index+1)))\n",
    "    #print(temp_opt.shape, en_opt.shape, power_opt.shape)\n",
    "    data_temp.loc[data_temp.period_min == p, ['temp_0_optimized', 'energy_optimized', 'storage_power_optimized']] = np.array([temp_opt, en_opt, power_opt]).reshape(3, temp_opt.shape[0]).T\n",
    "    data_temp.loc[data_temp.period_min == p, 'temp_0'] = celsius(newton_cooling_t_0(kelvin(data_temp.loc[data_temp.period_min == p, 'vorlauf_temp'].values[-1]), np.flip(data_temp.loc[data_temp.period_min == p, :].reset_index(drop=True).index.values) * 3600))\n"
   ],
   "metadata": {
    "collapsed": false,
    "pycharm": {
     "name": "#%%\n"
    }
   }
  },
  {
   "cell_type": "code",
   "execution_count": null,
   "outputs": [],
   "source": [
    "#def optimal_heating(df):\n",
    "#    per_min = df[df.period_min == 1] #period from miminum to minimum\n",
    "#    per_max = df[df.period_max == 1] #period from max to max\n",
    "#\n",
    "#    max_vorlauf = per_max.local_max_vorlauf.dropna().values[0]\n",
    "#    max_vorlauf_index = per_max.local_max_vorlauf.dropna().index.values\n",
    "#\n",
    "#    per_min['timedelta_min'] = max_vorlauf_index - per_min.index.values\n",
    "#    vorlauf = newton_cooling_t_0(max_vorlauf, per_min.timedelta_min)\n",
    "#    #per_min['eta_hp_heating_nextmin'] = eta_heating(zu = per_min.temperature, max_ab = vorlauf)\n",
    "#\n",
    "#    energy_needed_water = per_max[per_max.preheat_profitable == True].energy_needed_water.sum()\n",
    "#    print('Energy needed for period: ', energy_needed_water)\n",
    "#    per_min_sorted = per_min.sort_values(by='eta_hp_heating_nextmin_freezing_adjusted', ascending=False)\n",
    "#    eta_cumsum = per_min_sorted.eta_hp_heating_nextmin_freezing_adjusted.cumsum()\n",
    "#    eta_cumsum_shift = eta_cumsum - per_min_sorted.eta_hp_heating_nextmin_freezing_adjusted\n",
    "#    #print(eta_cumsum_shift)\n",
    "#    per_min_sorted['heating'] = eta_cumsum_shift < energy_needed_water / hp_power_el_opt\n",
    "#    per_min = per_min_sorted.sort_values(by = 'date')\n",
    "#\n",
    "#    #per_min.loc[((per_min.preheat_profitable == False) & (per_min.heating == True)), 'en_produced_hourly'] = per_min.loc[((per_min.preheat_profitable == False) & (per_min.heating == True)), 'eta_hp_heating_nextmin'] * hp_power_el_opt\n",
    "#    per_min.loc[(per_min.heating == True), 'en_produced_hourly'] = per_min.loc[(per_min.heating == True), 'eta_hp_heating_nextmin'] * hp_power_el_opt\n",
    "#    #per_min.loc[((per_min.preheat_profitable == True) | (per_min.heating == False)), 'en_produced_hourly'] = 0\n",
    "#    per_min.loc[(per_min.heating != True), 'en_produced_hourly'] = 0\n",
    "#\n",
    "#    per_min['en_produced_total'] = per_min.en_produced_hourly.cumsum()\n",
    "#    per_min = pd.concat((per_min, per_max[per_max.period_min != 1]))\n",
    "#    return per_min\n",
    "#per1 = optimal_heating(forecast)"
   ],
   "metadata": {
    "collapsed": false,
    "pycharm": {
     "name": "#%%\n"
    }
   }
  },
  {
   "cell_type": "code",
   "execution_count": null,
   "outputs": [],
   "source": [
    "#def optimal_heating2(df):\n",
    "#    p = 1\n",
    "#    df_per = df[(df.period_max == p) | (df.period_min == p)]\n",
    "#    per_min = df[df.period_min == p] #period from miminum to minimum\n",
    "#    per_max = df[df.period_max == p] #period from max to max\n",
    "#\n",
    "#    max_vorlauf = per_max.local_max_vorlauf.dropna().values[0]\n",
    "#    max_vorlauf_index = per_max.local_max_vorlauf.dropna().index.values\n",
    "#\n",
    "#    df_per.loc[(df_per.period_min == p), 'timedelta_min'] = max_vorlauf_index - per_min.index.values\n",
    "#    vorlauf = celsius(newton_cooling_t_0(kelvin(max_vorlauf), df_per.timedelta_min.values * 3600))\n",
    "#\n",
    "#    # efficiency based on temperature and needed preheating temperature, s.t. temp is at max_vorlauf\n",
    "#    df_per.loc[(df_per.period_min == p), 'vorlauf_temp_nextmin'] = pd.Series(vorlauf).dropna().values\n",
    "#    df_per.loc[(df_per.period_min == p), 'eta_hp_heating_nextmin'] = eta_heating(zu = per_min.temperature.values, max_ab = pd.Series(vorlauf).dropna().values)\n",
    "#    #df_per.loc[(df_per.period_min == p), 'preheat_profitable'] =\n",
    "#    return df_per\n",
    "#\n",
    "#per2 = optimal_heating2(forecast)"
   ],
   "metadata": {
    "collapsed": false,
    "pycharm": {
     "name": "#%%\n"
    }
   }
  },
  {
   "cell_type": "code",
   "execution_count": null,
   "outputs": [],
   "source": [
    "periods = 48\n",
    "def heating_opt3(df, p = 2):\n",
    "    #df_per = df[(df.period_max == p) | (df.period_min == p)]\n",
    "    df_per = df#[(df.period_max == p) | (df.period_min == p)]\n",
    "    per_min = df[df.period_min == p] #period from miminum to minimum\n",
    "    per_max = df[df.period_max == p] #period from max to max\n",
    "\n",
    "    per = df_per.shape[0] #number of hours in period\n",
    "    M_timedelta = np.empty((per, per))\n",
    "\n",
    "    for i in range(per): # build timedelta matrix\n",
    "        M_timedelta[i, range(0, i+1)] = np.flip(np.linspace(0, i, i+1))\n",
    "    M_timedelta = M_timedelta.T\n",
    "    vorlauf = df_per.vorlauf_temp.values\n",
    "\n",
    "    M_vorlauf = celsius(newton_cooling_t_0(kelvin(vorlauf), M_timedelta * 3600))\n",
    "    M_vorlauf = np.triu(M_vorlauf) # needed heating temperature when heating in period i and using the heat in period j (i X j - Matrix)\n",
    "    M_temperature = np.tile(df_per.temperature.values, (len(df_per.temperature.values),1)).T\n",
    "\n",
    "    M_eta = eta_freezing_adj(zu=M_temperature, max_ab=M_vorlauf)#, min_ab=M_vorlauf)\n",
    "\n",
    "    M_vorlauf_max = celsius(newton_cooling_t_0(kelvin(vorlauf_max), t=M_timedelta * 3600))\n",
    "    M_eta_heating = eta_freezing_adj(zu = M_temperature, max_ab=M_vorlauf_max, heating=True)\n",
    "    print(M_vorlauf_max)\n",
    "    M_eta_heating = np.triu(M_eta_heating, k=1)\n",
    "    M_eta = np.tril(M_eta)\n",
    "\n",
    "    M_eta = M_eta_heating + M_eta\n",
    "    M_eta = np.triu(M_eta) # upper diagonal\n",
    "    M_eta = np.tril(M_eta, k = periods)\n",
    "\n",
    "    P_w_sum = df_per.energy_needed_water.values # needed energy in water for each hour\n",
    "    P_e_max = np.full((per, ), hp_power_el_opt) # maximal available energy (electricity) per hour -> e.g. 2500W\n",
    "    P_e_available = P_e_max.copy() # at each period still available 'capacity' in electricity for future hours\n",
    "\n",
    "    P_e = np.zeros((per, per)) # Matrix with used energy (e) from each period for each period that is optimized\n",
    "    P_e_a = np.empty((per, per)) # Matrix to later calculate P_e\n",
    "\n",
    "    for j in range(per):\n",
    "        P_w_j = P_w_sum[j] # energy needed (w) in hour j\n",
    "\n",
    "        M_eta_j = M_eta[: , j] # efficiencies in each hour\n",
    "        eta_sorted_j_index = np.flip(np.argsort(M_eta_j)) # get indexes of highest values in M_eta_j\n",
    "        eta_sorted_j = M_eta_j[eta_sorted_j_index] # get highest values of M_eta_j (descending order)\n",
    "\n",
    "        P_w_available_j = P_e_available[eta_sorted_j_index] * eta_sorted_j # available energy (w) for hour j in descending cost order\n",
    "\n",
    "        P_w_available_j_cumsum = P_w_available_j.cumsum() # get cumsum for available P_w (descending cost order)\n",
    "        P_w_available_j_cumsum_shift = P_w_available_j_cumsum - P_w_available_j # shifted cumsum\n",
    "\n",
    "        # calculate which P_w_available_j values are used fully and which only partly (only one will be used partly)\n",
    "        cumsum_bin = P_w_available_j_cumsum < P_w_j # binary values if cumsum is smaller than needed energy\n",
    "        cumsum_shift_bin = P_w_available_j_cumsum_shift < P_w_j # binary values if cumsum_shift is smaller than needed energy\n",
    "\n",
    "        idx = (cumsum_bin == False) & (cumsum_shift_bin == True) # only True for partly used P_w_j\n",
    "        percent = (P_w_available_j_cumsum[idx] -P_w_j)  / P_w_available_j[idx] # get remaining share of partly used P_w_j\n",
    "        P_e_percent_remaining = np.ones((per, )) # first, all remaining values are set to 1 (=100%)\n",
    "        P_e_percent_remaining[cumsum_bin] = 0 # set all fully used P_w_j to 0\n",
    "        P_e_percent_remaining[idx] = percent # set partly used to calculated percentage\n",
    "\n",
    "        P_e_percent_remaining_sorted_orig = P_e_percent_remaining[np.argsort(eta_sorted_j_index)] # set remaining shares to original order\n",
    "        P_e_available = P_e_available * P_e_percent_remaining_sorted_orig # get new P_e_available\n",
    "\n",
    "        P_e_a[:,j] = P_e_available\n",
    "\n",
    "    P_e_a = np.triu(P_e_a) # take only upper diagonal\n",
    "    P_e[:,0] = P_e_a[:,0]\n",
    "    for j in range(1, per):\n",
    "        P_e[:,j] = np.abs(P_e_a[:,j] - P_e_a[:,j-1])\n",
    "    diagonal = np.zeros((per, per))\n",
    "    np.fill_diagonal(diagonal, hp_power_el_opt)\n",
    "\n",
    "    P_e = np.abs(diagonal - P_e)\n",
    "    P_w = (P_e * M_eta)\n",
    "\n",
    "    df_per['P_e_opt'] = P_e.sum(1)\n",
    "\n",
    "    return   M_eta, P_e, P_w, df_per"
   ],
   "metadata": {
    "collapsed": false,
    "pycharm": {
     "name": "#%%\n"
    }
   }
  },
  {
   "cell_type": "code",
   "execution_count": null,
   "outputs": [],
   "source": [
    "\n",
    "#fig = make_subplots(rows=78, cols=3)\n",
    "#\n",
    "#stor_vol = []\n",
    "#for period in range(78):\n",
    "#    print('Period: ', period)\n",
    "#    M_eta1, P_e1,  P_w1, df_per1 = heating_opt(data_temp, p= period)\n",
    "#    print(P_e1.sum() / df_per1.energy_needed_elec.sum())\n",
    "#\n",
    "#    df_per1['P_e_opt'] = P_e1.sum(1)\n",
    "#    P_w1 = (P_e1 * M_eta1)\n",
    "#\n",
    "#    stored_water_energy1 = np.zeros((P_w1.shape[0], ))\n",
    "#    for i in range(P_w1.shape[0]-2):\n",
    "#\n",
    "#        stored_water_energy1[i] = P_w1[:(i+1), (i+1):].sum()\n",
    "#    stor_vol.append(max(get_needed_storage_vol(10, stored_water_energy1 / 1000)))\n",
    "#    print('storage_volume: ', max(get_needed_storage_vol(10, stored_water_energy1 / 1000)))\n",
    "#    fig.add_trace(go.Scatter(x = df_per1.date, y = df_per1.temperature, name='temperature', mode='lines', line=dict(color='blue')), row=period +1, col=1)\n",
    "#    fig.add_trace(go.Scatter(x = df_per1.date, y = df_per1.local_min, mode='markers', marker=dict(color='orange')),row = period + 1, col = 1)\n",
    "#    fig.add_trace(go.Scatter(x = df_per1.date, y = df_per1.local_max, mode='markers', marker=dict(color='lightgreen')),row = period + 1, col = 1)\n",
    "#    fig.add_trace(go.Scatter(x = df_per1.date, y = df_per1.P_e_opt, name='Power (e) optimized', mode='markers', line=dict(color='red')), row=period +1, col=2)\n",
    "#    fig.add_trace(go.Scatter(x = df_per1.date, y = df_per1.energy_needed_elec, name='Power (e) not optimized', mode='markers'),  row=period+1, col=2)\n",
    "#    fig.add_trace(go.Scatter(x = df_per1.date, y = df_per1.energy_needed_water.cumsum(), name='power needed (water)', mode='lines', line=dict(color='red')), row=period+1, col=3)\n",
    "#    fig.add_trace(go.Scatter(x = df_per1.date, y = P_w1.sum(1).cumsum(), name='optimized power (water)', mode='lines', line=dict(color='green')), row=period+1, col=3)\n",
    "#\n",
    "#fig.update_layout(height= 8000, showlegend = False)\n",
    "##fig.show()"
   ],
   "metadata": {
    "collapsed": false,
    "pycharm": {
     "name": "#%%\n"
    }
   }
  },
  {
   "cell_type": "code",
   "execution_count": null,
   "outputs": [],
   "source": [
    "def constraint_fun(vorl):\n",
    "\n",
    "        #M_eta = eta_freezing_adj(zu=M_temperature, max_ab=M_vorlauf)#, min_ab=M_vorlauf)\n",
    "#\n",
    "        #if type(period_lim) != type(None):\n",
    "        #    M_vorlauf_max = celsius(newton_cooling_t_0(kelvin(vorl), t=M_timedelta * 3600))\n",
    "        #    M_eta_heating = eta_freezing_adj(zu = M_temperature, max_ab=M_vorlauf_max, heating=False)\n",
    "        #    M_eta_heating = np.triu(M_eta_heating, k=1)\n",
    "        #    M_eta = np.tril(M_eta)\n",
    "#\n",
    "        #    M_eta = M_eta_heating + M_eta\n",
    "        #    M_eta = np.triu(M_eta) # upper diagonal\n",
    "        #    M_eta = np.tril(M_eta, k = period_lim)\n",
    "#\n",
    "        #else:\n",
    "        #    M_eta = np.triu(M_eta) # upper diagonal\n",
    "#\n",
    "        #P_w_sum = df_per.energy_needed_water.values # needed energy in water for each hour\n",
    "        #P_e_max = np.full((per, ), hp_power_el_opt) # maximal available energy (electricity) per hour -> e.g. 2500W\n",
    "        #P_e_available = P_e_max.copy() # at each period still available 'capacity' in electricity for future hours\n",
    "#\n",
    "        #P_e = np.zeros((per, per)) # Matrix with used energy (e) from each period for each period that is optimized\n",
    "        #P_e_a = np.empty((per, per)) # Matrix to later calculate P_e\n",
    "#\n",
    "        #for j in range(per):\n",
    "        #    P_w_j = P_w_sum[j] # energy needed (w) in hour j\n",
    "#\n",
    "        #    M_eta_j = M_eta[: , j] # efficiencies in each hour\n",
    "        #    eta_sorted_j_index = np.flip(np.argsort(M_eta_j)) # get indexes of highes values in M_eta_j\n",
    "        #    eta_sorted_j = M_eta_j[eta_sorted_j_index] # get highest values of M_eta_j (descending order)\n",
    "#\n",
    "        #    P_w_available_j = P_e_available[eta_sorted_j_index] * eta_sorted_j # available energy (w) for hour j in descending cost order\n",
    "#\n",
    "        #    P_w_available_j_cumsum = P_w_available_j.cumsum() # get cumsum for available P_w (descending cost order)\n",
    "        #    P_w_available_j_cumsum_shift = P_w_available_j_cumsum - P_w_available_j # shifted cumsum\n",
    "#\n",
    "        #    # calculate which P_w_available_j values are used fully and which only partly (only one will be used partly)\n",
    "        #    cumsum_bin = P_w_available_j_cumsum < P_w_j # binary values if cumsum is smaller than needed energy\n",
    "        #    cumsum_shift_bin = P_w_available_j_cumsum_shift < P_w_j # binary values if cumsum_shift is smaller than needed energy\n",
    "#\n",
    "        #    idx = (cumsum_bin == False) & (cumsum_shift_bin == True) # only True for partly used P_w_j\n",
    "        #    percent = (P_w_available_j_cumsum[idx] -P_w_j)  / P_w_available_j[idx] # get remaining share of partly used P_w_j\n",
    "        #    P_e_percent_remaining = np.ones((per, )) # first, all remaining values are set to 1 (=100%)\n",
    "        #    P_e_percent_remaining[cumsum_bin] = 0 # set all fully used P_w_j to 0\n",
    "        #    P_e_percent_remaining[idx] = percent # set partly used to calculated percentage\n",
    "#\n",
    "        #    P_e_percent_remaining_sorted_orig = P_e_percent_remaining[np.argsort(eta_sorted_j_index)] # set remaining shares to original order\n",
    "        #    P_e_available = P_e_available * P_e_percent_remaining_sorted_orig # get new P_e_available\n",
    "        #    P_e_a[:,j] = P_e_available\n",
    "#\n",
    "        #P_e_a = np.triu(P_e_a) # take only upper diagonal\n",
    "        #P_e[:,0] = P_e_a[:,0]\n",
    "        #for j in range(1, per):\n",
    "        #    P_e[:,j] = np.abs(P_e_a[:,j] - P_e_a[:,j-1])\n",
    "        #diagonal = np.zeros((per, per))\n",
    "        #np.fill_diagonal(diagonal, hp_power_el_opt)\n",
    "#\n",
    "        #P_e = np.abs(diagonal - P_e)\n",
    "        #P_w = (P_e * M_eta)"
   ],
   "metadata": {
    "collapsed": false,
    "pycharm": {
     "name": "#%%\n"
    }
   }
  }
 ],
 "metadata": {
  "kernelspec": {
   "display_name": "Python 3",
   "language": "python",
   "name": "python3"
  },
  "language_info": {
   "codemirror_mode": {
    "name": "ipython",
    "version": 2
   },
   "file_extension": ".py",
   "mimetype": "text/x-python",
   "name": "python",
   "nbconvert_exporter": "python",
   "pygments_lexer": "ipython2",
   "version": "2.7.6"
  }
 },
 "nbformat": 4,
 "nbformat_minor": 0
}