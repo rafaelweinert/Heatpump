{
 "cells": [
  {
   "cell_type": "code",
   "execution_count": 3,
   "metadata": {
    "pycharm": {
     "name": "#%%\n"
    }
   },
   "outputs": [],
   "source": [
    "import constants as c\n",
    "import functions\n",
    "import optimizing\n",
    "import preprocessing\n",
    "import stationfinding\n",
    "from visualize import *\n",
    "\n",
    "import os\n",
    "from ipywidgets import Button\n",
    "import asyncio\n",
    "from ipywidgets import IntSlider, FloatSlider, FloatText, Text, widgets\n",
    "from IPython.display import display\n",
    "\n",
    "import numpy as np\n",
    "import pandas as pd\n",
    "\n",
    "import warnings\n",
    "warnings.filterwarnings('ignore')"
   ]
  },
  {
   "cell_type": "code",
   "execution_count": 5,
   "metadata": {
    "pycharm": {
     "name": "#%%\n"
    }
   },
   "outputs": [
    {
     "name": "stdout",
     "output_type": "stream",
     "text": [
      "Adjust the values of the building and click GO! when you are ready.\n"
     ]
    },
    {
     "data": {
      "text/plain": "FloatSlider(value=21.0, continuous_update=False, description='Desired room temperature: ', layout=Layout(heigh…",
      "application/vnd.jupyter.widget-view+json": {
       "version_major": 2,
       "version_minor": 0,
       "model_id": "4725215e8d15437884545ea49a97387e"
      }
     },
     "metadata": {},
     "output_type": "display_data"
    },
    {
     "data": {
      "text/plain": "FloatSlider(value=25.0, continuous_update=False, description='Returning flow temperature: ', layout=Layout(hei…",
      "application/vnd.jupyter.widget-view+json": {
       "version_major": 2,
       "version_minor": 0,
       "model_id": "71b580ca2aa548f4be6e126bd156c075"
      }
     },
     "metadata": {},
     "output_type": "display_data"
    },
    {
     "data": {
      "text/plain": "FloatSlider(value=0.4, continuous_update=False, description='Quality factor of the heat pump: ', layout=Layout…",
      "application/vnd.jupyter.widget-view+json": {
       "version_major": 2,
       "version_minor": 0,
       "model_id": "a515fca1efa64946b0bae366f91b8e7a"
      }
     },
     "metadata": {},
     "output_type": "display_data"
    },
    {
     "data": {
      "text/plain": "FloatText(value=200.0, description='Energy need in Watt per Kelvin: ', layout=Layout(height='40px', width='aut…",
      "application/vnd.jupyter.widget-view+json": {
       "version_major": 2,
       "version_minor": 0,
       "model_id": "c003d144097c46b988ab10a136b0a2cd"
      }
     },
     "metadata": {},
     "output_type": "display_data"
    },
    {
     "data": {
      "text/plain": "FloatText(value=200.0, description='Energy need of your storage (DIN...): ', layout=Layout(height='40px', widt…",
      "application/vnd.jupyter.widget-view+json": {
       "version_major": 2,
       "version_minor": 0,
       "model_id": "9db431ab9dbd464ea116ec067be97c69"
      }
     },
     "metadata": {},
     "output_type": "display_data"
    },
    {
     "data": {
      "text/plain": "FloatText(value=4000.0, description='Storage volume: ', layout=Layout(height='40px', width='auto'), style=Desc…",
      "application/vnd.jupyter.widget-view+json": {
       "version_major": 2,
       "version_minor": 0,
       "model_id": "932076b4cebc4707a280907c331cb650"
      }
     },
     "metadata": {},
     "output_type": "display_data"
    },
    {
     "data": {
      "text/plain": "FloatText(value=5000.0, description='Power of heat pump: ', layout=Layout(height='40px', width='auto'), style=…",
      "application/vnd.jupyter.widget-view+json": {
       "version_major": 2,
       "version_minor": 0,
       "model_id": "a81d3c5a680e46c7aa870818dd039872"
      }
     },
     "metadata": {},
     "output_type": "display_data"
    },
    {
     "data": {
      "text/plain": "IntSlider(value=75, description='Maximum heating temperature: ', layout=Layout(height='40px', width='auto'), m…",
      "application/vnd.jupyter.widget-view+json": {
       "version_major": 2,
       "version_minor": 0,
       "model_id": "11d8d33ec890411abe2fd57afb0e60af"
      }
     },
     "metadata": {},
     "output_type": "display_data"
    },
    {
     "data": {
      "text/plain": "Text(value='', description='Address: ', layout=Layout(height='40px', width='auto'), placeholder='Examplestreet…",
      "application/vnd.jupyter.widget-view+json": {
       "version_major": 2,
       "version_minor": 0,
       "model_id": "32431f174c9b4f218e4d57e3f7ec33d9"
      }
     },
     "metadata": {},
     "output_type": "display_data"
    },
    {
     "data": {
      "text/plain": "FloatText(value=-10.0, description='Minimum outside temperature: ', layout=Layout(height='40px', width='auto')…",
      "application/vnd.jupyter.widget-view+json": {
       "version_major": 2,
       "version_minor": 0,
       "model_id": "02c0d89e0a0a48c3b11908b4c6444262"
      }
     },
     "metadata": {},
     "output_type": "display_data"
    },
    {
     "data": {
      "text/plain": "FloatText(value=50.0, description='Maximum flow temperature at minimum temperature: ', layout=Layout(height='4…",
      "application/vnd.jupyter.widget-view+json": {
       "version_major": 2,
       "version_minor": 0,
       "model_id": "83d483fe88544ed1b2953acf494029ce"
      }
     },
     "metadata": {},
     "output_type": "display_data"
    },
    {
     "data": {
      "text/plain": "Button(description='GO!', style=ButtonStyle())",
      "application/vnd.jupyter.widget-view+json": {
       "version_major": 2,
       "version_minor": 0,
       "model_id": "7cf8640574ee4097ab71b2228b4b3609"
      }
     },
     "metadata": {},
     "output_type": "display_data"
    }
   ],
   "source": [
    "M_eta_new, P_e_new, P_w_new, data_temp_new = None, None, None, None\n",
    "\n",
    "def wait_for_change(widget):\n",
    "    future = asyncio.Future()\n",
    "    def getvalue(change):\n",
    "        future.set_result(change.description)\n",
    "        widget.on_click(getvalue, remove=True)\n",
    "        # we need to free up the binding to getvalue to avoid an InvalidState error\n",
    "        # buttons don't support unobserve\n",
    "        # so use `remove=True`\n",
    "    widget.on_click(getvalue)\n",
    "    return future\n",
    "\n",
    "layout = widgets.Layout(width='auto', height='40px')\n",
    "\n",
    "room_temp_w = FloatSlider(value=21, min=17, max=27, step = 0.5, description= 'Desired room temperature: ', continuous_update = False, layout=layout, style= {'description_width': 'initial'})\n",
    "return_flow_w = FloatSlider(value=25, min=21, max=50, step = 0.5, description= 'Returning flow temperature: ', continuous_update = False, layout=layout, style= {'description_width': 'initial'})\n",
    "ny_w = FloatSlider(value=0.4, min=0.1, max=1, step = 0.1, description= 'Quality factor of the heat pump: ', continuous_update = False, layout=layout, style= {'description_width': 'initial'})\n",
    "\n",
    "flow_max_w = FloatText(value= 50, description = 'Maximum flow temperature at minimum temperature: ', layout=layout, style= {'description_width': 'initial'})\n",
    "\n",
    "out_min_w = FloatText(value= -10, description = 'Minimum outside temperature: ', layout=layout, style= {'description_width': 'initial'})\n",
    "\n",
    "house_energy_w = FloatText(value= 200, description = 'Energy need in Watt per Kelvin: ', layout=layout, style= {'description_width': 'initial'}) # Watt / Kelvin\n",
    "storage_power_w = FloatText(value= 200, description = 'Energy need of your storage (DIN...): ', layout=layout, style= {'description_width': 'initial'}) #Watts\n",
    "storage_volume_w = FloatText(value= 4000, description = 'Storage volume: ', layout=layout, style= {'description_width': 'initial'}) #Liter = kilogram -> to be defined later on\n",
    "\n",
    "hp_power_el_opt_w = FloatText(value= 5000, description = 'Power of heat pump: ', layout=layout, style= {'description_width': 'initial'}) #Watts -> Power in which heatpump works most efficiently (can be taken into calculation later)\n",
    "max_heat_cap_w = IntSlider(value=75, description='Maximum heating temperature: ', min=50, max=95, layout=layout, style= {'description_width': 'initial'}) # temperature, up to which the heat pump can maximally heat\n",
    "\n",
    "address_w = Text(placeholder = 'Examplestreet 1, 12345 Examplecity', description = 'Address: ', layout=layout, style= {'description_width': 'initial'})\n",
    "\n",
    "button_w = Button(description=\"GO!\")\n",
    "\n",
    "def main_func():\n",
    "    global M_eta_new, P_e_new, P_w_new, data_temp_new\n",
    "\n",
    "    room_temp = room_temp_w.value\n",
    "    return_flow = return_flow_w.value\n",
    "    ny = ny_w.value\n",
    "    house_energy = house_energy_w.value\n",
    "    storage_power = storage_power_w.value\n",
    "    storage_volume = storage_volume_w.value\n",
    "    hp_power_el_opt = hp_power_el_opt_w.value\n",
    "    max_heat_cap = max_heat_cap_w.value\n",
    "    address = address_w.value\n",
    "\n",
    "    flow_max = flow_max_w.value\n",
    "    out_min = out_min_w.value\n",
    "\n",
    "    # TODO choose between Forecasting and StationData\n",
    "    funs = functions.Functions(flow_max=flow_max, room_temp=room_temp, out_min=out_min, return_flow=return_flow, house_energy=house_energy, storage_volume=storage_volume, storage_power=storage_power, ny=ny)\n",
    "    data_temp = stationfinding.StationFinder(address).main()\n",
    "    preprocessor = preprocessing.Preprocessor(flow_max=max_heat_cap, room_temp=room_temp, out_min=out_min, return_flow=return_flow, house_energy=house_energy, storage_volume=storage_volume, storage_power=storage_power, ny=ny)\n",
    "    optimizer = optimizing.Optimizer(functions=funs, max_heat_cap=max_heat_cap, hp_power_el_opt=hp_power_el_opt, return_flow=return_flow, storage_volume=storage_volume)\n",
    "    \n",
    "    data_temp = pd.read_table(r'C:\\Users\\rafaelweinert\\PycharmProjects\\Heatpump\\data\\weatherstationdata\\produkt_tu_stunde_19480101_20081031_02522.txt', sep=';') #Karlsruhe\n",
    "\n",
    "    data_temp = data_temp.drop(['eor', 'QN_9', 'RF_TU'], axis=1) # drop end-of-row indicator\n",
    "    data_temp.rename(columns = {'TT_TU':'temperature', 'MESS_DATUM': 'date', }, inplace = True)\n",
    "    data_temp.date = pd.to_datetime(data_temp.date.astype(str), format='%Y%m%d%H')\n",
    "    data_temp[data_temp == -999] = np.nan # rename missing values to numpy nan\n",
    "    data_temp = data_temp[(data_temp.date >= pd.to_datetime('2007-10-01')) & (data_temp.date <= pd.to_datetime('2007-10-05'))]\n",
    "    #data_temp = data_temp[(data_temp.date.dt.month >= 10) | (data_temp.date.dt.month <= 3)]\n",
    "    data_temp.reset_index(drop = True, inplace=True)\n",
    "    data_temp = preprocessor.add_data(data_temp)\n",
    "    data_temp = preprocessor.get_local_extrema(data_temp)\n",
    "\n",
    "    temp_plot = plot_temperature(data_temp, True)\n",
    "    \n",
    "    M_eta_new, P_e_new, P_w_new, data_temp_new = optimizer.optimize_periods(data_temp)\n",
    "\n",
    "    if not os.path.isdir(f\"results/{address}\"):\n",
    "        os.makedirs(f'results/{address}')\n",
    "\n",
    "    data_temp_new.to_csv(rf'.\\results\\{address}\\data_ad_{address},vol_{int(storage_volume)},pow_{int(hp_power_el_opt)},en_{int(house_energy)}.csv', sep=';', index=False)\n",
    "    M_eta_new.tofile(rf'.\\results\\{address}\\Eta_ad_{address},vol_{int(storage_volume)},pow_{int(hp_power_el_opt)},en_{int(house_energy)}.csv', sep=';')\n",
    "    P_e_new.tofile(rf'.\\results\\{address}\\Pe_ad_{address},vol_{int(storage_volume)},pow_{int(hp_power_el_opt)},en_{int(house_energy)}.csv', sep=';')\n",
    "    P_w_new.tofile(rf'.\\results\\{address}\\Pw_ad_{address},vol_{int(storage_volume)},pow_{int(hp_power_el_opt)},en_{int(house_energy)}.csv', sep=';')\n",
    "    temp_plot.write_html(rf'.\\results\\{address}\\Temp_ad_{address},vol_{int(storage_volume)},pow_{int(hp_power_el_opt)},en_{int(house_energy)}.html')\n",
    "\n",
    "    M_eta_hm = plot_heatmap(M_eta_new)\n",
    "    M_eta_hm.write_html(rf'.\\results\\{address}\\Etahm_ad_{address},vol_{int(storage_volume)},pow_{int(hp_power_el_opt)},en_{int(house_energy)}.html', auto_open=False)\n",
    "\n",
    "    P_e_hm = plot_heatmap(P_e_new)\n",
    "    P_e_hm.write_html(rf'.\\results\\{address}\\Pehm_ad_{address},vol_{int(storage_volume)},pow_{int(hp_power_el_opt)},en_{int(house_energy)}.html', auto_open=False)\n",
    "\n",
    "    P_w_hm = plot_heatmap(P_w_new)\n",
    "    P_w_hm.write_html(rf'.\\results\\{address}\\Pwhm_ad_{address},vol_{int(storage_volume)},pow_{int(hp_power_el_opt)},en_{int(house_energy)}.html', auto_open=False)\n",
    "\n",
    "    print(''.center(40, '_'))\n",
    "    print()\n",
    "    print('Energy saving potentials: ', \"{:10.2f}\".format((1 - data_temp_new.P_e_opt.sum() / data_temp_new.energy_needed_elec.sum())*100), '%')\n",
    "    print()\n",
    "    print(''.center(40, '_'))\n",
    "    print()\n",
    "    print('DONE!')\n",
    "\n",
    "    return M_eta_new, P_e_new, P_w_new, data_temp_new\n",
    "\n",
    "async def f():\n",
    "    x = await wait_for_change(button_w)\n",
    "    print('------ computing saving potentials -------')\n",
    "    main_func()\n",
    "\n",
    "asyncio.create_task(f())\n",
    "\n",
    "print('Adjust the values of the building and click GO! when you are ready.')\n",
    "\n",
    "display(room_temp_w)\n",
    "display(return_flow_w)\n",
    "display(ny_w)\n",
    "display(house_energy_w)\n",
    "display(storage_power_w)\n",
    "display(storage_volume_w)\n",
    "display(hp_power_el_opt_w)\n",
    "display(max_heat_cap_w)\n",
    "display(address_w)\n",
    "display(out_min_w)\n",
    "display(flow_max_w)\n",
    "display(button_w)\n"
   ]
  },
  {
   "cell_type": "code",
   "execution_count": 7,
   "metadata": {
    "pycharm": {
     "name": "#%%\n"
    }
   },
   "outputs": [
    {
     "name": "stdout",
     "output_type": "stream",
     "text": [
      "addresse:  Karlsruhe\n"
     ]
    },
    {
     "data": {
      "application/vnd.plotly.v1+json": {
       "data": [
        {
         "name": "temperature",
         "x": [
          "2007-10-01T00:00:00",
          "2007-10-01T01:00:00",
          "2007-10-01T02:00:00",
          "2007-10-01T03:00:00",
          "2007-10-01T04:00:00",
          "2007-10-01T05:00:00",
          "2007-10-01T06:00:00",
          "2007-10-01T07:00:00",
          "2007-10-01T08:00:00",
          "2007-10-01T09:00:00",
          "2007-10-01T10:00:00",
          "2007-10-01T11:00:00",
          "2007-10-01T12:00:00",
          "2007-10-01T13:00:00",
          "2007-10-01T14:00:00",
          "2007-10-01T15:00:00",
          "2007-10-01T16:00:00",
          "2007-10-01T17:00:00",
          "2007-10-01T18:00:00",
          "2007-10-01T19:00:00",
          "2007-10-01T20:00:00",
          "2007-10-01T21:00:00",
          "2007-10-01T22:00:00",
          "2007-10-01T23:00:00",
          "2007-10-02T00:00:00",
          "2007-10-02T01:00:00",
          "2007-10-02T02:00:00",
          "2007-10-02T03:00:00",
          "2007-10-02T04:00:00",
          "2007-10-02T05:00:00",
          "2007-10-02T06:00:00",
          "2007-10-02T07:00:00",
          "2007-10-02T08:00:00",
          "2007-10-02T09:00:00",
          "2007-10-02T10:00:00",
          "2007-10-02T11:00:00",
          "2007-10-02T12:00:00",
          "2007-10-02T13:00:00",
          "2007-10-02T14:00:00",
          "2007-10-02T15:00:00",
          "2007-10-02T16:00:00",
          "2007-10-02T17:00:00",
          "2007-10-02T18:00:00",
          "2007-10-02T19:00:00",
          "2007-10-02T20:00:00",
          "2007-10-02T21:00:00",
          "2007-10-02T22:00:00",
          "2007-10-02T23:00:00",
          "2007-10-03T00:00:00",
          "2007-10-03T01:00:00",
          "2007-10-03T02:00:00",
          "2007-10-03T03:00:00",
          "2007-10-03T04:00:00",
          "2007-10-03T05:00:00",
          "2007-10-03T06:00:00",
          "2007-10-03T07:00:00",
          "2007-10-03T08:00:00",
          "2007-10-03T09:00:00",
          "2007-10-03T10:00:00",
          "2007-10-03T11:00:00",
          "2007-10-03T12:00:00",
          "2007-10-03T13:00:00",
          "2007-10-03T14:00:00",
          "2007-10-03T15:00:00",
          "2007-10-03T16:00:00",
          "2007-10-03T17:00:00",
          "2007-10-03T18:00:00",
          "2007-10-03T19:00:00",
          "2007-10-03T20:00:00",
          "2007-10-03T21:00:00",
          "2007-10-03T22:00:00",
          "2007-10-03T23:00:00",
          "2007-10-04T00:00:00",
          "2007-10-04T01:00:00",
          "2007-10-04T02:00:00",
          "2007-10-04T03:00:00",
          "2007-10-04T04:00:00",
          "2007-10-04T05:00:00",
          "2007-10-04T06:00:00",
          "2007-10-04T07:00:00",
          "2007-10-04T08:00:00",
          "2007-10-04T09:00:00",
          "2007-10-04T10:00:00",
          "2007-10-04T11:00:00",
          "2007-10-04T12:00:00",
          "2007-10-04T13:00:00",
          "2007-10-04T14:00:00",
          "2007-10-04T15:00:00",
          "2007-10-04T16:00:00",
          "2007-10-04T17:00:00",
          "2007-10-04T18:00:00",
          "2007-10-04T19:00:00",
          "2007-10-04T20:00:00",
          "2007-10-04T21:00:00",
          "2007-10-04T22:00:00",
          "2007-10-04T23:00:00",
          "2007-10-05T00:00:00"
         ],
         "y": [
          9.8,
          9.2,
          9.0,
          8.7,
          8.1,
          8.2,
          8.1,
          10.4,
          12.7,
          14.5,
          17.5,
          19.2,
          21.1,
          22.1,
          23.9,
          22.3,
          21.2,
          20.3,
          18.8,
          18.1,
          16.7,
          16.2,
          15.8,
          14.8,
          13.8,
          13.8,
          14.7,
          14.9,
          15.1,
          14.9,
          14.9,
          15.3,
          16.3,
          16.4,
          17.3,
          18.1,
          19.3,
          20.6,
          21.1,
          21.6,
          21.3,
          19.9,
          19.0,
          18.3,
          17.9,
          17.6,
          17.2,
          17.1,
          16.9,
          16.7,
          16.6,
          16.4,
          16.2,
          15.8,
          16.0,
          16.5,
          17.0,
          17.5,
          18.4,
          19.6,
          20.7,
          21.4,
          21.6,
          21.5,
          20.8,
          19.5,
          18.5,
          17.5,
          17.0,
          16.6,
          16.1,
          15.9,
          15.7,
          15.8,
          16.1,
          16.0,
          15.9,
          16.1,
          16.1,
          16.5,
          18.4,
          20.4,
          22.5,
          24.1,
          25.0,
          25.9,
          25.2,
          22.7,
          21.9,
          20.5,
          18.9,
          17.6,
          16.4,
          16.0,
          16.3,
          16.4,
          16.2
         ],
         "type": "scatter"
        },
        {
         "mode": "markers",
         "name": "local_minima",
         "x": [
          "2007-10-01T00:00:00",
          "2007-10-01T01:00:00",
          "2007-10-01T02:00:00",
          "2007-10-01T03:00:00",
          "2007-10-01T04:00:00",
          "2007-10-01T05:00:00",
          "2007-10-01T06:00:00",
          "2007-10-01T07:00:00",
          "2007-10-01T08:00:00",
          "2007-10-01T09:00:00",
          "2007-10-01T10:00:00",
          "2007-10-01T11:00:00",
          "2007-10-01T12:00:00",
          "2007-10-01T13:00:00",
          "2007-10-01T14:00:00",
          "2007-10-01T15:00:00",
          "2007-10-01T16:00:00",
          "2007-10-01T17:00:00",
          "2007-10-01T18:00:00",
          "2007-10-01T19:00:00",
          "2007-10-01T20:00:00",
          "2007-10-01T21:00:00",
          "2007-10-01T22:00:00",
          "2007-10-01T23:00:00",
          "2007-10-02T00:00:00",
          "2007-10-02T01:00:00",
          "2007-10-02T02:00:00",
          "2007-10-02T03:00:00",
          "2007-10-02T04:00:00",
          "2007-10-02T05:00:00",
          "2007-10-02T06:00:00",
          "2007-10-02T07:00:00",
          "2007-10-02T08:00:00",
          "2007-10-02T09:00:00",
          "2007-10-02T10:00:00",
          "2007-10-02T11:00:00",
          "2007-10-02T12:00:00",
          "2007-10-02T13:00:00",
          "2007-10-02T14:00:00",
          "2007-10-02T15:00:00",
          "2007-10-02T16:00:00",
          "2007-10-02T17:00:00",
          "2007-10-02T18:00:00",
          "2007-10-02T19:00:00",
          "2007-10-02T20:00:00",
          "2007-10-02T21:00:00",
          "2007-10-02T22:00:00",
          "2007-10-02T23:00:00",
          "2007-10-03T00:00:00",
          "2007-10-03T01:00:00",
          "2007-10-03T02:00:00",
          "2007-10-03T03:00:00",
          "2007-10-03T04:00:00",
          "2007-10-03T05:00:00",
          "2007-10-03T06:00:00",
          "2007-10-03T07:00:00",
          "2007-10-03T08:00:00",
          "2007-10-03T09:00:00",
          "2007-10-03T10:00:00",
          "2007-10-03T11:00:00",
          "2007-10-03T12:00:00",
          "2007-10-03T13:00:00",
          "2007-10-03T14:00:00",
          "2007-10-03T15:00:00",
          "2007-10-03T16:00:00",
          "2007-10-03T17:00:00",
          "2007-10-03T18:00:00",
          "2007-10-03T19:00:00",
          "2007-10-03T20:00:00",
          "2007-10-03T21:00:00",
          "2007-10-03T22:00:00",
          "2007-10-03T23:00:00",
          "2007-10-04T00:00:00",
          "2007-10-04T01:00:00",
          "2007-10-04T02:00:00",
          "2007-10-04T03:00:00",
          "2007-10-04T04:00:00",
          "2007-10-04T05:00:00",
          "2007-10-04T06:00:00",
          "2007-10-04T07:00:00",
          "2007-10-04T08:00:00",
          "2007-10-04T09:00:00",
          "2007-10-04T10:00:00",
          "2007-10-04T11:00:00",
          "2007-10-04T12:00:00",
          "2007-10-04T13:00:00",
          "2007-10-04T14:00:00",
          "2007-10-04T15:00:00",
          "2007-10-04T16:00:00",
          "2007-10-04T17:00:00",
          "2007-10-04T18:00:00",
          "2007-10-04T19:00:00",
          "2007-10-04T20:00:00",
          "2007-10-04T21:00:00",
          "2007-10-04T22:00:00",
          "2007-10-04T23:00:00",
          "2007-10-05T00:00:00"
         ],
         "y": [
          null,
          null,
          null,
          null,
          null,
          null,
          8.1,
          null,
          null,
          null,
          null,
          null,
          null,
          null,
          null,
          null,
          null,
          null,
          null,
          null,
          null,
          null,
          null,
          null,
          null,
          13.8,
          null,
          null,
          null,
          null,
          null,
          null,
          null,
          null,
          null,
          null,
          null,
          null,
          null,
          null,
          null,
          null,
          null,
          null,
          null,
          null,
          null,
          null,
          null,
          null,
          null,
          null,
          null,
          15.8,
          null,
          null,
          null,
          null,
          null,
          null,
          null,
          null,
          null,
          null,
          null,
          null,
          null,
          null,
          null,
          null,
          null,
          null,
          15.7,
          null,
          null,
          null,
          null,
          null,
          null,
          null,
          null,
          null,
          null,
          null,
          null,
          null,
          null,
          null,
          null,
          null,
          null,
          null,
          null,
          16.0,
          null,
          null,
          null
         ],
         "type": "scatter"
        },
        {
         "hovertext": [
          null,
          null,
          null,
          null,
          null,
          null,
          null,
          null,
          null,
          null,
          null,
          null,
          null,
          null,
          0.0,
          0.0,
          0.0,
          0.0,
          0.0,
          0.0,
          0.0,
          0.0,
          0.0,
          0.0,
          0.0,
          0.0,
          0.0,
          0.0,
          0.0,
          0.0,
          0.0,
          0.0,
          0.0,
          0.0,
          0.0,
          0.0,
          0.0,
          0.0,
          0.0,
          1.0,
          1.0,
          1.0,
          1.0,
          1.0,
          1.0,
          1.0,
          1.0,
          1.0,
          1.0,
          1.0,
          1.0,
          1.0,
          1.0,
          1.0,
          1.0,
          1.0,
          1.0,
          1.0,
          1.0,
          1.0,
          1.0,
          1.0,
          2.0,
          2.0,
          2.0,
          2.0,
          2.0,
          2.0,
          2.0,
          2.0,
          2.0,
          2.0,
          2.0,
          2.0,
          2.0,
          2.0,
          2.0,
          2.0,
          2.0,
          2.0,
          2.0,
          2.0,
          2.0,
          2.0,
          2.0,
          3.0,
          3.0,
          3.0,
          3.0,
          3.0,
          3.0,
          3.0,
          3.0,
          3.0,
          3.0,
          3.0,
          3.0
         ],
         "mode": "markers",
         "name": "local_maxima",
         "x": [
          "2007-10-01T00:00:00",
          "2007-10-01T01:00:00",
          "2007-10-01T02:00:00",
          "2007-10-01T03:00:00",
          "2007-10-01T04:00:00",
          "2007-10-01T05:00:00",
          "2007-10-01T06:00:00",
          "2007-10-01T07:00:00",
          "2007-10-01T08:00:00",
          "2007-10-01T09:00:00",
          "2007-10-01T10:00:00",
          "2007-10-01T11:00:00",
          "2007-10-01T12:00:00",
          "2007-10-01T13:00:00",
          "2007-10-01T14:00:00",
          "2007-10-01T15:00:00",
          "2007-10-01T16:00:00",
          "2007-10-01T17:00:00",
          "2007-10-01T18:00:00",
          "2007-10-01T19:00:00",
          "2007-10-01T20:00:00",
          "2007-10-01T21:00:00",
          "2007-10-01T22:00:00",
          "2007-10-01T23:00:00",
          "2007-10-02T00:00:00",
          "2007-10-02T01:00:00",
          "2007-10-02T02:00:00",
          "2007-10-02T03:00:00",
          "2007-10-02T04:00:00",
          "2007-10-02T05:00:00",
          "2007-10-02T06:00:00",
          "2007-10-02T07:00:00",
          "2007-10-02T08:00:00",
          "2007-10-02T09:00:00",
          "2007-10-02T10:00:00",
          "2007-10-02T11:00:00",
          "2007-10-02T12:00:00",
          "2007-10-02T13:00:00",
          "2007-10-02T14:00:00",
          "2007-10-02T15:00:00",
          "2007-10-02T16:00:00",
          "2007-10-02T17:00:00",
          "2007-10-02T18:00:00",
          "2007-10-02T19:00:00",
          "2007-10-02T20:00:00",
          "2007-10-02T21:00:00",
          "2007-10-02T22:00:00",
          "2007-10-02T23:00:00",
          "2007-10-03T00:00:00",
          "2007-10-03T01:00:00",
          "2007-10-03T02:00:00",
          "2007-10-03T03:00:00",
          "2007-10-03T04:00:00",
          "2007-10-03T05:00:00",
          "2007-10-03T06:00:00",
          "2007-10-03T07:00:00",
          "2007-10-03T08:00:00",
          "2007-10-03T09:00:00",
          "2007-10-03T10:00:00",
          "2007-10-03T11:00:00",
          "2007-10-03T12:00:00",
          "2007-10-03T13:00:00",
          "2007-10-03T14:00:00",
          "2007-10-03T15:00:00",
          "2007-10-03T16:00:00",
          "2007-10-03T17:00:00",
          "2007-10-03T18:00:00",
          "2007-10-03T19:00:00",
          "2007-10-03T20:00:00",
          "2007-10-03T21:00:00",
          "2007-10-03T22:00:00",
          "2007-10-03T23:00:00",
          "2007-10-04T00:00:00",
          "2007-10-04T01:00:00",
          "2007-10-04T02:00:00",
          "2007-10-04T03:00:00",
          "2007-10-04T04:00:00",
          "2007-10-04T05:00:00",
          "2007-10-04T06:00:00",
          "2007-10-04T07:00:00",
          "2007-10-04T08:00:00",
          "2007-10-04T09:00:00",
          "2007-10-04T10:00:00",
          "2007-10-04T11:00:00",
          "2007-10-04T12:00:00",
          "2007-10-04T13:00:00",
          "2007-10-04T14:00:00",
          "2007-10-04T15:00:00",
          "2007-10-04T16:00:00",
          "2007-10-04T17:00:00",
          "2007-10-04T18:00:00",
          "2007-10-04T19:00:00",
          "2007-10-04T20:00:00",
          "2007-10-04T21:00:00",
          "2007-10-04T22:00:00",
          "2007-10-04T23:00:00",
          "2007-10-05T00:00:00"
         ],
         "y": [
          null,
          null,
          null,
          null,
          null,
          null,
          null,
          null,
          null,
          null,
          null,
          null,
          null,
          null,
          23.9,
          null,
          null,
          null,
          null,
          null,
          null,
          null,
          null,
          null,
          null,
          null,
          null,
          null,
          null,
          null,
          null,
          null,
          null,
          null,
          null,
          null,
          null,
          null,
          null,
          21.6,
          null,
          null,
          null,
          null,
          null,
          null,
          null,
          null,
          null,
          null,
          null,
          null,
          null,
          null,
          null,
          null,
          null,
          null,
          null,
          null,
          null,
          null,
          21.6,
          null,
          null,
          null,
          null,
          null,
          null,
          null,
          null,
          null,
          null,
          null,
          null,
          null,
          null,
          null,
          null,
          null,
          null,
          null,
          null,
          null,
          null,
          25.9,
          null,
          null,
          null,
          null,
          null,
          null,
          null,
          null,
          null,
          null,
          null
         ],
         "type": "scatter"
        }
       ],
       "layout": {
        "template": {
         "data": {
          "bar": [
           {
            "error_x": {
             "color": "#2a3f5f"
            },
            "error_y": {
             "color": "#2a3f5f"
            },
            "marker": {
             "line": {
              "color": "#E5ECF6",
              "width": 0.5
             },
             "pattern": {
              "fillmode": "overlay",
              "size": 10,
              "solidity": 0.2
             }
            },
            "type": "bar"
           }
          ],
          "barpolar": [
           {
            "marker": {
             "line": {
              "color": "#E5ECF6",
              "width": 0.5
             },
             "pattern": {
              "fillmode": "overlay",
              "size": 10,
              "solidity": 0.2
             }
            },
            "type": "barpolar"
           }
          ],
          "carpet": [
           {
            "aaxis": {
             "endlinecolor": "#2a3f5f",
             "gridcolor": "white",
             "linecolor": "white",
             "minorgridcolor": "white",
             "startlinecolor": "#2a3f5f"
            },
            "baxis": {
             "endlinecolor": "#2a3f5f",
             "gridcolor": "white",
             "linecolor": "white",
             "minorgridcolor": "white",
             "startlinecolor": "#2a3f5f"
            },
            "type": "carpet"
           }
          ],
          "choropleth": [
           {
            "colorbar": {
             "outlinewidth": 0,
             "ticks": ""
            },
            "type": "choropleth"
           }
          ],
          "contour": [
           {
            "colorbar": {
             "outlinewidth": 0,
             "ticks": ""
            },
            "colorscale": [
             [
              0.0,
              "#0d0887"
             ],
             [
              0.1111111111111111,
              "#46039f"
             ],
             [
              0.2222222222222222,
              "#7201a8"
             ],
             [
              0.3333333333333333,
              "#9c179e"
             ],
             [
              0.4444444444444444,
              "#bd3786"
             ],
             [
              0.5555555555555556,
              "#d8576b"
             ],
             [
              0.6666666666666666,
              "#ed7953"
             ],
             [
              0.7777777777777778,
              "#fb9f3a"
             ],
             [
              0.8888888888888888,
              "#fdca26"
             ],
             [
              1.0,
              "#f0f921"
             ]
            ],
            "type": "contour"
           }
          ],
          "contourcarpet": [
           {
            "colorbar": {
             "outlinewidth": 0,
             "ticks": ""
            },
            "type": "contourcarpet"
           }
          ],
          "heatmap": [
           {
            "colorbar": {
             "outlinewidth": 0,
             "ticks": ""
            },
            "colorscale": [
             [
              0.0,
              "#0d0887"
             ],
             [
              0.1111111111111111,
              "#46039f"
             ],
             [
              0.2222222222222222,
              "#7201a8"
             ],
             [
              0.3333333333333333,
              "#9c179e"
             ],
             [
              0.4444444444444444,
              "#bd3786"
             ],
             [
              0.5555555555555556,
              "#d8576b"
             ],
             [
              0.6666666666666666,
              "#ed7953"
             ],
             [
              0.7777777777777778,
              "#fb9f3a"
             ],
             [
              0.8888888888888888,
              "#fdca26"
             ],
             [
              1.0,
              "#f0f921"
             ]
            ],
            "type": "heatmap"
           }
          ],
          "heatmapgl": [
           {
            "colorbar": {
             "outlinewidth": 0,
             "ticks": ""
            },
            "colorscale": [
             [
              0.0,
              "#0d0887"
             ],
             [
              0.1111111111111111,
              "#46039f"
             ],
             [
              0.2222222222222222,
              "#7201a8"
             ],
             [
              0.3333333333333333,
              "#9c179e"
             ],
             [
              0.4444444444444444,
              "#bd3786"
             ],
             [
              0.5555555555555556,
              "#d8576b"
             ],
             [
              0.6666666666666666,
              "#ed7953"
             ],
             [
              0.7777777777777778,
              "#fb9f3a"
             ],
             [
              0.8888888888888888,
              "#fdca26"
             ],
             [
              1.0,
              "#f0f921"
             ]
            ],
            "type": "heatmapgl"
           }
          ],
          "histogram": [
           {
            "marker": {
             "pattern": {
              "fillmode": "overlay",
              "size": 10,
              "solidity": 0.2
             }
            },
            "type": "histogram"
           }
          ],
          "histogram2d": [
           {
            "colorbar": {
             "outlinewidth": 0,
             "ticks": ""
            },
            "colorscale": [
             [
              0.0,
              "#0d0887"
             ],
             [
              0.1111111111111111,
              "#46039f"
             ],
             [
              0.2222222222222222,
              "#7201a8"
             ],
             [
              0.3333333333333333,
              "#9c179e"
             ],
             [
              0.4444444444444444,
              "#bd3786"
             ],
             [
              0.5555555555555556,
              "#d8576b"
             ],
             [
              0.6666666666666666,
              "#ed7953"
             ],
             [
              0.7777777777777778,
              "#fb9f3a"
             ],
             [
              0.8888888888888888,
              "#fdca26"
             ],
             [
              1.0,
              "#f0f921"
             ]
            ],
            "type": "histogram2d"
           }
          ],
          "histogram2dcontour": [
           {
            "colorbar": {
             "outlinewidth": 0,
             "ticks": ""
            },
            "colorscale": [
             [
              0.0,
              "#0d0887"
             ],
             [
              0.1111111111111111,
              "#46039f"
             ],
             [
              0.2222222222222222,
              "#7201a8"
             ],
             [
              0.3333333333333333,
              "#9c179e"
             ],
             [
              0.4444444444444444,
              "#bd3786"
             ],
             [
              0.5555555555555556,
              "#d8576b"
             ],
             [
              0.6666666666666666,
              "#ed7953"
             ],
             [
              0.7777777777777778,
              "#fb9f3a"
             ],
             [
              0.8888888888888888,
              "#fdca26"
             ],
             [
              1.0,
              "#f0f921"
             ]
            ],
            "type": "histogram2dcontour"
           }
          ],
          "mesh3d": [
           {
            "colorbar": {
             "outlinewidth": 0,
             "ticks": ""
            },
            "type": "mesh3d"
           }
          ],
          "parcoords": [
           {
            "line": {
             "colorbar": {
              "outlinewidth": 0,
              "ticks": ""
             }
            },
            "type": "parcoords"
           }
          ],
          "pie": [
           {
            "automargin": true,
            "type": "pie"
           }
          ],
          "scatter": [
           {
            "marker": {
             "colorbar": {
              "outlinewidth": 0,
              "ticks": ""
             }
            },
            "type": "scatter"
           }
          ],
          "scatter3d": [
           {
            "line": {
             "colorbar": {
              "outlinewidth": 0,
              "ticks": ""
             }
            },
            "marker": {
             "colorbar": {
              "outlinewidth": 0,
              "ticks": ""
             }
            },
            "type": "scatter3d"
           }
          ],
          "scattercarpet": [
           {
            "marker": {
             "colorbar": {
              "outlinewidth": 0,
              "ticks": ""
             }
            },
            "type": "scattercarpet"
           }
          ],
          "scattergeo": [
           {
            "marker": {
             "colorbar": {
              "outlinewidth": 0,
              "ticks": ""
             }
            },
            "type": "scattergeo"
           }
          ],
          "scattergl": [
           {
            "marker": {
             "colorbar": {
              "outlinewidth": 0,
              "ticks": ""
             }
            },
            "type": "scattergl"
           }
          ],
          "scattermapbox": [
           {
            "marker": {
             "colorbar": {
              "outlinewidth": 0,
              "ticks": ""
             }
            },
            "type": "scattermapbox"
           }
          ],
          "scatterpolar": [
           {
            "marker": {
             "colorbar": {
              "outlinewidth": 0,
              "ticks": ""
             }
            },
            "type": "scatterpolar"
           }
          ],
          "scatterpolargl": [
           {
            "marker": {
             "colorbar": {
              "outlinewidth": 0,
              "ticks": ""
             }
            },
            "type": "scatterpolargl"
           }
          ],
          "scatterternary": [
           {
            "marker": {
             "colorbar": {
              "outlinewidth": 0,
              "ticks": ""
             }
            },
            "type": "scatterternary"
           }
          ],
          "surface": [
           {
            "colorbar": {
             "outlinewidth": 0,
             "ticks": ""
            },
            "colorscale": [
             [
              0.0,
              "#0d0887"
             ],
             [
              0.1111111111111111,
              "#46039f"
             ],
             [
              0.2222222222222222,
              "#7201a8"
             ],
             [
              0.3333333333333333,
              "#9c179e"
             ],
             [
              0.4444444444444444,
              "#bd3786"
             ],
             [
              0.5555555555555556,
              "#d8576b"
             ],
             [
              0.6666666666666666,
              "#ed7953"
             ],
             [
              0.7777777777777778,
              "#fb9f3a"
             ],
             [
              0.8888888888888888,
              "#fdca26"
             ],
             [
              1.0,
              "#f0f921"
             ]
            ],
            "type": "surface"
           }
          ],
          "table": [
           {
            "cells": {
             "fill": {
              "color": "#EBF0F8"
             },
             "line": {
              "color": "white"
             }
            },
            "header": {
             "fill": {
              "color": "#C8D4E3"
             },
             "line": {
              "color": "white"
             }
            },
            "type": "table"
           }
          ]
         },
         "layout": {
          "annotationdefaults": {
           "arrowcolor": "#2a3f5f",
           "arrowhead": 0,
           "arrowwidth": 1
          },
          "autotypenumbers": "strict",
          "coloraxis": {
           "colorbar": {
            "outlinewidth": 0,
            "ticks": ""
           }
          },
          "colorscale": {
           "diverging": [
            [
             0,
             "#8e0152"
            ],
            [
             0.1,
             "#c51b7d"
            ],
            [
             0.2,
             "#de77ae"
            ],
            [
             0.3,
             "#f1b6da"
            ],
            [
             0.4,
             "#fde0ef"
            ],
            [
             0.5,
             "#f7f7f7"
            ],
            [
             0.6,
             "#e6f5d0"
            ],
            [
             0.7,
             "#b8e186"
            ],
            [
             0.8,
             "#7fbc41"
            ],
            [
             0.9,
             "#4d9221"
            ],
            [
             1,
             "#276419"
            ]
           ],
           "sequential": [
            [
             0.0,
             "#0d0887"
            ],
            [
             0.1111111111111111,
             "#46039f"
            ],
            [
             0.2222222222222222,
             "#7201a8"
            ],
            [
             0.3333333333333333,
             "#9c179e"
            ],
            [
             0.4444444444444444,
             "#bd3786"
            ],
            [
             0.5555555555555556,
             "#d8576b"
            ],
            [
             0.6666666666666666,
             "#ed7953"
            ],
            [
             0.7777777777777778,
             "#fb9f3a"
            ],
            [
             0.8888888888888888,
             "#fdca26"
            ],
            [
             1.0,
             "#f0f921"
            ]
           ],
           "sequentialminus": [
            [
             0.0,
             "#0d0887"
            ],
            [
             0.1111111111111111,
             "#46039f"
            ],
            [
             0.2222222222222222,
             "#7201a8"
            ],
            [
             0.3333333333333333,
             "#9c179e"
            ],
            [
             0.4444444444444444,
             "#bd3786"
            ],
            [
             0.5555555555555556,
             "#d8576b"
            ],
            [
             0.6666666666666666,
             "#ed7953"
            ],
            [
             0.7777777777777778,
             "#fb9f3a"
            ],
            [
             0.8888888888888888,
             "#fdca26"
            ],
            [
             1.0,
             "#f0f921"
            ]
           ]
          },
          "colorway": [
           "#636efa",
           "#EF553B",
           "#00cc96",
           "#ab63fa",
           "#FFA15A",
           "#19d3f3",
           "#FF6692",
           "#B6E880",
           "#FF97FF",
           "#FECB52"
          ],
          "font": {
           "color": "#2a3f5f"
          },
          "geo": {
           "bgcolor": "white",
           "lakecolor": "white",
           "landcolor": "#E5ECF6",
           "showlakes": true,
           "showland": true,
           "subunitcolor": "white"
          },
          "hoverlabel": {
           "align": "left"
          },
          "hovermode": "closest",
          "mapbox": {
           "style": "light"
          },
          "paper_bgcolor": "white",
          "plot_bgcolor": "#E5ECF6",
          "polar": {
           "angularaxis": {
            "gridcolor": "white",
            "linecolor": "white",
            "ticks": ""
           },
           "bgcolor": "#E5ECF6",
           "radialaxis": {
            "gridcolor": "white",
            "linecolor": "white",
            "ticks": ""
           }
          },
          "scene": {
           "xaxis": {
            "backgroundcolor": "#E5ECF6",
            "gridcolor": "white",
            "gridwidth": 2,
            "linecolor": "white",
            "showbackground": true,
            "ticks": "",
            "zerolinecolor": "white"
           },
           "yaxis": {
            "backgroundcolor": "#E5ECF6",
            "gridcolor": "white",
            "gridwidth": 2,
            "linecolor": "white",
            "showbackground": true,
            "ticks": "",
            "zerolinecolor": "white"
           },
           "zaxis": {
            "backgroundcolor": "#E5ECF6",
            "gridcolor": "white",
            "gridwidth": 2,
            "linecolor": "white",
            "showbackground": true,
            "ticks": "",
            "zerolinecolor": "white"
           }
          },
          "shapedefaults": {
           "line": {
            "color": "#2a3f5f"
           }
          },
          "ternary": {
           "aaxis": {
            "gridcolor": "white",
            "linecolor": "white",
            "ticks": ""
           },
           "baxis": {
            "gridcolor": "white",
            "linecolor": "white",
            "ticks": ""
           },
           "bgcolor": "#E5ECF6",
           "caxis": {
            "gridcolor": "white",
            "linecolor": "white",
            "ticks": ""
           }
          },
          "title": {
           "x": 0.05
          },
          "xaxis": {
           "automargin": true,
           "gridcolor": "white",
           "linecolor": "white",
           "ticks": "",
           "title": {
            "standoff": 15
           },
           "zerolinecolor": "white",
           "zerolinewidth": 2
          },
          "yaxis": {
           "automargin": true,
           "gridcolor": "white",
           "linecolor": "white",
           "ticks": "",
           "title": {
            "standoff": 15
           },
           "zerolinecolor": "white",
           "zerolinewidth": 2
          }
         }
        },
        "title": {
         "text": "temperature"
        }
       },
       "config": {
        "plotlyServerURL": "https://plot.ly"
       }
      },
      "text/html": "<div>                            <div id=\"268ec52d-d942-41d3-a147-9039d554e67a\" class=\"plotly-graph-div\" style=\"height:525px; width:100%;\"></div>            <script type=\"text/javascript\">                require([\"plotly\"], function(Plotly) {                    window.PLOTLYENV=window.PLOTLYENV || {};                                    if (document.getElementById(\"268ec52d-d942-41d3-a147-9039d554e67a\")) {                    Plotly.newPlot(                        \"268ec52d-d942-41d3-a147-9039d554e67a\",                        [{\"name\":\"temperature\",\"x\":[\"2007-10-01T00:00:00\",\"2007-10-01T01:00:00\",\"2007-10-01T02:00:00\",\"2007-10-01T03:00:00\",\"2007-10-01T04:00:00\",\"2007-10-01T05:00:00\",\"2007-10-01T06:00:00\",\"2007-10-01T07:00:00\",\"2007-10-01T08:00:00\",\"2007-10-01T09:00:00\",\"2007-10-01T10:00:00\",\"2007-10-01T11:00:00\",\"2007-10-01T12:00:00\",\"2007-10-01T13:00:00\",\"2007-10-01T14:00:00\",\"2007-10-01T15:00:00\",\"2007-10-01T16:00:00\",\"2007-10-01T17:00:00\",\"2007-10-01T18:00:00\",\"2007-10-01T19:00:00\",\"2007-10-01T20:00:00\",\"2007-10-01T21:00:00\",\"2007-10-01T22:00:00\",\"2007-10-01T23:00:00\",\"2007-10-02T00:00:00\",\"2007-10-02T01:00:00\",\"2007-10-02T02:00:00\",\"2007-10-02T03:00:00\",\"2007-10-02T04:00:00\",\"2007-10-02T05:00:00\",\"2007-10-02T06:00:00\",\"2007-10-02T07:00:00\",\"2007-10-02T08:00:00\",\"2007-10-02T09:00:00\",\"2007-10-02T10:00:00\",\"2007-10-02T11:00:00\",\"2007-10-02T12:00:00\",\"2007-10-02T13:00:00\",\"2007-10-02T14:00:00\",\"2007-10-02T15:00:00\",\"2007-10-02T16:00:00\",\"2007-10-02T17:00:00\",\"2007-10-02T18:00:00\",\"2007-10-02T19:00:00\",\"2007-10-02T20:00:00\",\"2007-10-02T21:00:00\",\"2007-10-02T22:00:00\",\"2007-10-02T23:00:00\",\"2007-10-03T00:00:00\",\"2007-10-03T01:00:00\",\"2007-10-03T02:00:00\",\"2007-10-03T03:00:00\",\"2007-10-03T04:00:00\",\"2007-10-03T05:00:00\",\"2007-10-03T06:00:00\",\"2007-10-03T07:00:00\",\"2007-10-03T08:00:00\",\"2007-10-03T09:00:00\",\"2007-10-03T10:00:00\",\"2007-10-03T11:00:00\",\"2007-10-03T12:00:00\",\"2007-10-03T13:00:00\",\"2007-10-03T14:00:00\",\"2007-10-03T15:00:00\",\"2007-10-03T16:00:00\",\"2007-10-03T17:00:00\",\"2007-10-03T18:00:00\",\"2007-10-03T19:00:00\",\"2007-10-03T20:00:00\",\"2007-10-03T21:00:00\",\"2007-10-03T22:00:00\",\"2007-10-03T23:00:00\",\"2007-10-04T00:00:00\",\"2007-10-04T01:00:00\",\"2007-10-04T02:00:00\",\"2007-10-04T03:00:00\",\"2007-10-04T04:00:00\",\"2007-10-04T05:00:00\",\"2007-10-04T06:00:00\",\"2007-10-04T07:00:00\",\"2007-10-04T08:00:00\",\"2007-10-04T09:00:00\",\"2007-10-04T10:00:00\",\"2007-10-04T11:00:00\",\"2007-10-04T12:00:00\",\"2007-10-04T13:00:00\",\"2007-10-04T14:00:00\",\"2007-10-04T15:00:00\",\"2007-10-04T16:00:00\",\"2007-10-04T17:00:00\",\"2007-10-04T18:00:00\",\"2007-10-04T19:00:00\",\"2007-10-04T20:00:00\",\"2007-10-04T21:00:00\",\"2007-10-04T22:00:00\",\"2007-10-04T23:00:00\",\"2007-10-05T00:00:00\"],\"y\":[9.8,9.2,9.0,8.7,8.1,8.2,8.1,10.4,12.7,14.5,17.5,19.2,21.1,22.1,23.9,22.3,21.2,20.3,18.8,18.1,16.7,16.2,15.8,14.8,13.8,13.8,14.7,14.9,15.1,14.9,14.9,15.3,16.3,16.4,17.3,18.1,19.3,20.6,21.1,21.6,21.3,19.9,19.0,18.3,17.9,17.6,17.2,17.1,16.9,16.7,16.6,16.4,16.2,15.8,16.0,16.5,17.0,17.5,18.4,19.6,20.7,21.4,21.6,21.5,20.8,19.5,18.5,17.5,17.0,16.6,16.1,15.9,15.7,15.8,16.1,16.0,15.9,16.1,16.1,16.5,18.4,20.4,22.5,24.1,25.0,25.9,25.2,22.7,21.9,20.5,18.9,17.6,16.4,16.0,16.3,16.4,16.2],\"type\":\"scatter\"},{\"mode\":\"markers\",\"name\":\"local_minima\",\"x\":[\"2007-10-01T00:00:00\",\"2007-10-01T01:00:00\",\"2007-10-01T02:00:00\",\"2007-10-01T03:00:00\",\"2007-10-01T04:00:00\",\"2007-10-01T05:00:00\",\"2007-10-01T06:00:00\",\"2007-10-01T07:00:00\",\"2007-10-01T08:00:00\",\"2007-10-01T09:00:00\",\"2007-10-01T10:00:00\",\"2007-10-01T11:00:00\",\"2007-10-01T12:00:00\",\"2007-10-01T13:00:00\",\"2007-10-01T14:00:00\",\"2007-10-01T15:00:00\",\"2007-10-01T16:00:00\",\"2007-10-01T17:00:00\",\"2007-10-01T18:00:00\",\"2007-10-01T19:00:00\",\"2007-10-01T20:00:00\",\"2007-10-01T21:00:00\",\"2007-10-01T22:00:00\",\"2007-10-01T23:00:00\",\"2007-10-02T00:00:00\",\"2007-10-02T01:00:00\",\"2007-10-02T02:00:00\",\"2007-10-02T03:00:00\",\"2007-10-02T04:00:00\",\"2007-10-02T05:00:00\",\"2007-10-02T06:00:00\",\"2007-10-02T07:00:00\",\"2007-10-02T08:00:00\",\"2007-10-02T09:00:00\",\"2007-10-02T10:00:00\",\"2007-10-02T11:00:00\",\"2007-10-02T12:00:00\",\"2007-10-02T13:00:00\",\"2007-10-02T14:00:00\",\"2007-10-02T15:00:00\",\"2007-10-02T16:00:00\",\"2007-10-02T17:00:00\",\"2007-10-02T18:00:00\",\"2007-10-02T19:00:00\",\"2007-10-02T20:00:00\",\"2007-10-02T21:00:00\",\"2007-10-02T22:00:00\",\"2007-10-02T23:00:00\",\"2007-10-03T00:00:00\",\"2007-10-03T01:00:00\",\"2007-10-03T02:00:00\",\"2007-10-03T03:00:00\",\"2007-10-03T04:00:00\",\"2007-10-03T05:00:00\",\"2007-10-03T06:00:00\",\"2007-10-03T07:00:00\",\"2007-10-03T08:00:00\",\"2007-10-03T09:00:00\",\"2007-10-03T10:00:00\",\"2007-10-03T11:00:00\",\"2007-10-03T12:00:00\",\"2007-10-03T13:00:00\",\"2007-10-03T14:00:00\",\"2007-10-03T15:00:00\",\"2007-10-03T16:00:00\",\"2007-10-03T17:00:00\",\"2007-10-03T18:00:00\",\"2007-10-03T19:00:00\",\"2007-10-03T20:00:00\",\"2007-10-03T21:00:00\",\"2007-10-03T22:00:00\",\"2007-10-03T23:00:00\",\"2007-10-04T00:00:00\",\"2007-10-04T01:00:00\",\"2007-10-04T02:00:00\",\"2007-10-04T03:00:00\",\"2007-10-04T04:00:00\",\"2007-10-04T05:00:00\",\"2007-10-04T06:00:00\",\"2007-10-04T07:00:00\",\"2007-10-04T08:00:00\",\"2007-10-04T09:00:00\",\"2007-10-04T10:00:00\",\"2007-10-04T11:00:00\",\"2007-10-04T12:00:00\",\"2007-10-04T13:00:00\",\"2007-10-04T14:00:00\",\"2007-10-04T15:00:00\",\"2007-10-04T16:00:00\",\"2007-10-04T17:00:00\",\"2007-10-04T18:00:00\",\"2007-10-04T19:00:00\",\"2007-10-04T20:00:00\",\"2007-10-04T21:00:00\",\"2007-10-04T22:00:00\",\"2007-10-04T23:00:00\",\"2007-10-05T00:00:00\"],\"y\":[null,null,null,null,null,null,8.1,null,null,null,null,null,null,null,null,null,null,null,null,null,null,null,null,null,null,13.8,null,null,null,null,null,null,null,null,null,null,null,null,null,null,null,null,null,null,null,null,null,null,null,null,null,null,null,15.8,null,null,null,null,null,null,null,null,null,null,null,null,null,null,null,null,null,null,15.7,null,null,null,null,null,null,null,null,null,null,null,null,null,null,null,null,null,null,null,null,16.0,null,null,null],\"type\":\"scatter\"},{\"hovertext\":[null,null,null,null,null,null,null,null,null,null,null,null,null,null,0.0,0.0,0.0,0.0,0.0,0.0,0.0,0.0,0.0,0.0,0.0,0.0,0.0,0.0,0.0,0.0,0.0,0.0,0.0,0.0,0.0,0.0,0.0,0.0,0.0,1.0,1.0,1.0,1.0,1.0,1.0,1.0,1.0,1.0,1.0,1.0,1.0,1.0,1.0,1.0,1.0,1.0,1.0,1.0,1.0,1.0,1.0,1.0,2.0,2.0,2.0,2.0,2.0,2.0,2.0,2.0,2.0,2.0,2.0,2.0,2.0,2.0,2.0,2.0,2.0,2.0,2.0,2.0,2.0,2.0,2.0,3.0,3.0,3.0,3.0,3.0,3.0,3.0,3.0,3.0,3.0,3.0,3.0],\"mode\":\"markers\",\"name\":\"local_maxima\",\"x\":[\"2007-10-01T00:00:00\",\"2007-10-01T01:00:00\",\"2007-10-01T02:00:00\",\"2007-10-01T03:00:00\",\"2007-10-01T04:00:00\",\"2007-10-01T05:00:00\",\"2007-10-01T06:00:00\",\"2007-10-01T07:00:00\",\"2007-10-01T08:00:00\",\"2007-10-01T09:00:00\",\"2007-10-01T10:00:00\",\"2007-10-01T11:00:00\",\"2007-10-01T12:00:00\",\"2007-10-01T13:00:00\",\"2007-10-01T14:00:00\",\"2007-10-01T15:00:00\",\"2007-10-01T16:00:00\",\"2007-10-01T17:00:00\",\"2007-10-01T18:00:00\",\"2007-10-01T19:00:00\",\"2007-10-01T20:00:00\",\"2007-10-01T21:00:00\",\"2007-10-01T22:00:00\",\"2007-10-01T23:00:00\",\"2007-10-02T00:00:00\",\"2007-10-02T01:00:00\",\"2007-10-02T02:00:00\",\"2007-10-02T03:00:00\",\"2007-10-02T04:00:00\",\"2007-10-02T05:00:00\",\"2007-10-02T06:00:00\",\"2007-10-02T07:00:00\",\"2007-10-02T08:00:00\",\"2007-10-02T09:00:00\",\"2007-10-02T10:00:00\",\"2007-10-02T11:00:00\",\"2007-10-02T12:00:00\",\"2007-10-02T13:00:00\",\"2007-10-02T14:00:00\",\"2007-10-02T15:00:00\",\"2007-10-02T16:00:00\",\"2007-10-02T17:00:00\",\"2007-10-02T18:00:00\",\"2007-10-02T19:00:00\",\"2007-10-02T20:00:00\",\"2007-10-02T21:00:00\",\"2007-10-02T22:00:00\",\"2007-10-02T23:00:00\",\"2007-10-03T00:00:00\",\"2007-10-03T01:00:00\",\"2007-10-03T02:00:00\",\"2007-10-03T03:00:00\",\"2007-10-03T04:00:00\",\"2007-10-03T05:00:00\",\"2007-10-03T06:00:00\",\"2007-10-03T07:00:00\",\"2007-10-03T08:00:00\",\"2007-10-03T09:00:00\",\"2007-10-03T10:00:00\",\"2007-10-03T11:00:00\",\"2007-10-03T12:00:00\",\"2007-10-03T13:00:00\",\"2007-10-03T14:00:00\",\"2007-10-03T15:00:00\",\"2007-10-03T16:00:00\",\"2007-10-03T17:00:00\",\"2007-10-03T18:00:00\",\"2007-10-03T19:00:00\",\"2007-10-03T20:00:00\",\"2007-10-03T21:00:00\",\"2007-10-03T22:00:00\",\"2007-10-03T23:00:00\",\"2007-10-04T00:00:00\",\"2007-10-04T01:00:00\",\"2007-10-04T02:00:00\",\"2007-10-04T03:00:00\",\"2007-10-04T04:00:00\",\"2007-10-04T05:00:00\",\"2007-10-04T06:00:00\",\"2007-10-04T07:00:00\",\"2007-10-04T08:00:00\",\"2007-10-04T09:00:00\",\"2007-10-04T10:00:00\",\"2007-10-04T11:00:00\",\"2007-10-04T12:00:00\",\"2007-10-04T13:00:00\",\"2007-10-04T14:00:00\",\"2007-10-04T15:00:00\",\"2007-10-04T16:00:00\",\"2007-10-04T17:00:00\",\"2007-10-04T18:00:00\",\"2007-10-04T19:00:00\",\"2007-10-04T20:00:00\",\"2007-10-04T21:00:00\",\"2007-10-04T22:00:00\",\"2007-10-04T23:00:00\",\"2007-10-05T00:00:00\"],\"y\":[null,null,null,null,null,null,null,null,null,null,null,null,null,null,23.9,null,null,null,null,null,null,null,null,null,null,null,null,null,null,null,null,null,null,null,null,null,null,null,null,21.6,null,null,null,null,null,null,null,null,null,null,null,null,null,null,null,null,null,null,null,null,null,null,21.6,null,null,null,null,null,null,null,null,null,null,null,null,null,null,null,null,null,null,null,null,null,null,25.9,null,null,null,null,null,null,null,null,null,null,null],\"type\":\"scatter\"}],                        {\"template\":{\"data\":{\"bar\":[{\"error_x\":{\"color\":\"#2a3f5f\"},\"error_y\":{\"color\":\"#2a3f5f\"},\"marker\":{\"line\":{\"color\":\"#E5ECF6\",\"width\":0.5},\"pattern\":{\"fillmode\":\"overlay\",\"size\":10,\"solidity\":0.2}},\"type\":\"bar\"}],\"barpolar\":[{\"marker\":{\"line\":{\"color\":\"#E5ECF6\",\"width\":0.5},\"pattern\":{\"fillmode\":\"overlay\",\"size\":10,\"solidity\":0.2}},\"type\":\"barpolar\"}],\"carpet\":[{\"aaxis\":{\"endlinecolor\":\"#2a3f5f\",\"gridcolor\":\"white\",\"linecolor\":\"white\",\"minorgridcolor\":\"white\",\"startlinecolor\":\"#2a3f5f\"},\"baxis\":{\"endlinecolor\":\"#2a3f5f\",\"gridcolor\":\"white\",\"linecolor\":\"white\",\"minorgridcolor\":\"white\",\"startlinecolor\":\"#2a3f5f\"},\"type\":\"carpet\"}],\"choropleth\":[{\"colorbar\":{\"outlinewidth\":0,\"ticks\":\"\"},\"type\":\"choropleth\"}],\"contour\":[{\"colorbar\":{\"outlinewidth\":0,\"ticks\":\"\"},\"colorscale\":[[0.0,\"#0d0887\"],[0.1111111111111111,\"#46039f\"],[0.2222222222222222,\"#7201a8\"],[0.3333333333333333,\"#9c179e\"],[0.4444444444444444,\"#bd3786\"],[0.5555555555555556,\"#d8576b\"],[0.6666666666666666,\"#ed7953\"],[0.7777777777777778,\"#fb9f3a\"],[0.8888888888888888,\"#fdca26\"],[1.0,\"#f0f921\"]],\"type\":\"contour\"}],\"contourcarpet\":[{\"colorbar\":{\"outlinewidth\":0,\"ticks\":\"\"},\"type\":\"contourcarpet\"}],\"heatmap\":[{\"colorbar\":{\"outlinewidth\":0,\"ticks\":\"\"},\"colorscale\":[[0.0,\"#0d0887\"],[0.1111111111111111,\"#46039f\"],[0.2222222222222222,\"#7201a8\"],[0.3333333333333333,\"#9c179e\"],[0.4444444444444444,\"#bd3786\"],[0.5555555555555556,\"#d8576b\"],[0.6666666666666666,\"#ed7953\"],[0.7777777777777778,\"#fb9f3a\"],[0.8888888888888888,\"#fdca26\"],[1.0,\"#f0f921\"]],\"type\":\"heatmap\"}],\"heatmapgl\":[{\"colorbar\":{\"outlinewidth\":0,\"ticks\":\"\"},\"colorscale\":[[0.0,\"#0d0887\"],[0.1111111111111111,\"#46039f\"],[0.2222222222222222,\"#7201a8\"],[0.3333333333333333,\"#9c179e\"],[0.4444444444444444,\"#bd3786\"],[0.5555555555555556,\"#d8576b\"],[0.6666666666666666,\"#ed7953\"],[0.7777777777777778,\"#fb9f3a\"],[0.8888888888888888,\"#fdca26\"],[1.0,\"#f0f921\"]],\"type\":\"heatmapgl\"}],\"histogram\":[{\"marker\":{\"pattern\":{\"fillmode\":\"overlay\",\"size\":10,\"solidity\":0.2}},\"type\":\"histogram\"}],\"histogram2d\":[{\"colorbar\":{\"outlinewidth\":0,\"ticks\":\"\"},\"colorscale\":[[0.0,\"#0d0887\"],[0.1111111111111111,\"#46039f\"],[0.2222222222222222,\"#7201a8\"],[0.3333333333333333,\"#9c179e\"],[0.4444444444444444,\"#bd3786\"],[0.5555555555555556,\"#d8576b\"],[0.6666666666666666,\"#ed7953\"],[0.7777777777777778,\"#fb9f3a\"],[0.8888888888888888,\"#fdca26\"],[1.0,\"#f0f921\"]],\"type\":\"histogram2d\"}],\"histogram2dcontour\":[{\"colorbar\":{\"outlinewidth\":0,\"ticks\":\"\"},\"colorscale\":[[0.0,\"#0d0887\"],[0.1111111111111111,\"#46039f\"],[0.2222222222222222,\"#7201a8\"],[0.3333333333333333,\"#9c179e\"],[0.4444444444444444,\"#bd3786\"],[0.5555555555555556,\"#d8576b\"],[0.6666666666666666,\"#ed7953\"],[0.7777777777777778,\"#fb9f3a\"],[0.8888888888888888,\"#fdca26\"],[1.0,\"#f0f921\"]],\"type\":\"histogram2dcontour\"}],\"mesh3d\":[{\"colorbar\":{\"outlinewidth\":0,\"ticks\":\"\"},\"type\":\"mesh3d\"}],\"parcoords\":[{\"line\":{\"colorbar\":{\"outlinewidth\":0,\"ticks\":\"\"}},\"type\":\"parcoords\"}],\"pie\":[{\"automargin\":true,\"type\":\"pie\"}],\"scatter\":[{\"marker\":{\"colorbar\":{\"outlinewidth\":0,\"ticks\":\"\"}},\"type\":\"scatter\"}],\"scatter3d\":[{\"line\":{\"colorbar\":{\"outlinewidth\":0,\"ticks\":\"\"}},\"marker\":{\"colorbar\":{\"outlinewidth\":0,\"ticks\":\"\"}},\"type\":\"scatter3d\"}],\"scattercarpet\":[{\"marker\":{\"colorbar\":{\"outlinewidth\":0,\"ticks\":\"\"}},\"type\":\"scattercarpet\"}],\"scattergeo\":[{\"marker\":{\"colorbar\":{\"outlinewidth\":0,\"ticks\":\"\"}},\"type\":\"scattergeo\"}],\"scattergl\":[{\"marker\":{\"colorbar\":{\"outlinewidth\":0,\"ticks\":\"\"}},\"type\":\"scattergl\"}],\"scattermapbox\":[{\"marker\":{\"colorbar\":{\"outlinewidth\":0,\"ticks\":\"\"}},\"type\":\"scattermapbox\"}],\"scatterpolar\":[{\"marker\":{\"colorbar\":{\"outlinewidth\":0,\"ticks\":\"\"}},\"type\":\"scatterpolar\"}],\"scatterpolargl\":[{\"marker\":{\"colorbar\":{\"outlinewidth\":0,\"ticks\":\"\"}},\"type\":\"scatterpolargl\"}],\"scatterternary\":[{\"marker\":{\"colorbar\":{\"outlinewidth\":0,\"ticks\":\"\"}},\"type\":\"scatterternary\"}],\"surface\":[{\"colorbar\":{\"outlinewidth\":0,\"ticks\":\"\"},\"colorscale\":[[0.0,\"#0d0887\"],[0.1111111111111111,\"#46039f\"],[0.2222222222222222,\"#7201a8\"],[0.3333333333333333,\"#9c179e\"],[0.4444444444444444,\"#bd3786\"],[0.5555555555555556,\"#d8576b\"],[0.6666666666666666,\"#ed7953\"],[0.7777777777777778,\"#fb9f3a\"],[0.8888888888888888,\"#fdca26\"],[1.0,\"#f0f921\"]],\"type\":\"surface\"}],\"table\":[{\"cells\":{\"fill\":{\"color\":\"#EBF0F8\"},\"line\":{\"color\":\"white\"}},\"header\":{\"fill\":{\"color\":\"#C8D4E3\"},\"line\":{\"color\":\"white\"}},\"type\":\"table\"}]},\"layout\":{\"annotationdefaults\":{\"arrowcolor\":\"#2a3f5f\",\"arrowhead\":0,\"arrowwidth\":1},\"autotypenumbers\":\"strict\",\"coloraxis\":{\"colorbar\":{\"outlinewidth\":0,\"ticks\":\"\"}},\"colorscale\":{\"diverging\":[[0,\"#8e0152\"],[0.1,\"#c51b7d\"],[0.2,\"#de77ae\"],[0.3,\"#f1b6da\"],[0.4,\"#fde0ef\"],[0.5,\"#f7f7f7\"],[0.6,\"#e6f5d0\"],[0.7,\"#b8e186\"],[0.8,\"#7fbc41\"],[0.9,\"#4d9221\"],[1,\"#276419\"]],\"sequential\":[[0.0,\"#0d0887\"],[0.1111111111111111,\"#46039f\"],[0.2222222222222222,\"#7201a8\"],[0.3333333333333333,\"#9c179e\"],[0.4444444444444444,\"#bd3786\"],[0.5555555555555556,\"#d8576b\"],[0.6666666666666666,\"#ed7953\"],[0.7777777777777778,\"#fb9f3a\"],[0.8888888888888888,\"#fdca26\"],[1.0,\"#f0f921\"]],\"sequentialminus\":[[0.0,\"#0d0887\"],[0.1111111111111111,\"#46039f\"],[0.2222222222222222,\"#7201a8\"],[0.3333333333333333,\"#9c179e\"],[0.4444444444444444,\"#bd3786\"],[0.5555555555555556,\"#d8576b\"],[0.6666666666666666,\"#ed7953\"],[0.7777777777777778,\"#fb9f3a\"],[0.8888888888888888,\"#fdca26\"],[1.0,\"#f0f921\"]]},\"colorway\":[\"#636efa\",\"#EF553B\",\"#00cc96\",\"#ab63fa\",\"#FFA15A\",\"#19d3f3\",\"#FF6692\",\"#B6E880\",\"#FF97FF\",\"#FECB52\"],\"font\":{\"color\":\"#2a3f5f\"},\"geo\":{\"bgcolor\":\"white\",\"lakecolor\":\"white\",\"landcolor\":\"#E5ECF6\",\"showlakes\":true,\"showland\":true,\"subunitcolor\":\"white\"},\"hoverlabel\":{\"align\":\"left\"},\"hovermode\":\"closest\",\"mapbox\":{\"style\":\"light\"},\"paper_bgcolor\":\"white\",\"plot_bgcolor\":\"#E5ECF6\",\"polar\":{\"angularaxis\":{\"gridcolor\":\"white\",\"linecolor\":\"white\",\"ticks\":\"\"},\"bgcolor\":\"#E5ECF6\",\"radialaxis\":{\"gridcolor\":\"white\",\"linecolor\":\"white\",\"ticks\":\"\"}},\"scene\":{\"xaxis\":{\"backgroundcolor\":\"#E5ECF6\",\"gridcolor\":\"white\",\"gridwidth\":2,\"linecolor\":\"white\",\"showbackground\":true,\"ticks\":\"\",\"zerolinecolor\":\"white\"},\"yaxis\":{\"backgroundcolor\":\"#E5ECF6\",\"gridcolor\":\"white\",\"gridwidth\":2,\"linecolor\":\"white\",\"showbackground\":true,\"ticks\":\"\",\"zerolinecolor\":\"white\"},\"zaxis\":{\"backgroundcolor\":\"#E5ECF6\",\"gridcolor\":\"white\",\"gridwidth\":2,\"linecolor\":\"white\",\"showbackground\":true,\"ticks\":\"\",\"zerolinecolor\":\"white\"}},\"shapedefaults\":{\"line\":{\"color\":\"#2a3f5f\"}},\"ternary\":{\"aaxis\":{\"gridcolor\":\"white\",\"linecolor\":\"white\",\"ticks\":\"\"},\"baxis\":{\"gridcolor\":\"white\",\"linecolor\":\"white\",\"ticks\":\"\"},\"bgcolor\":\"#E5ECF6\",\"caxis\":{\"gridcolor\":\"white\",\"linecolor\":\"white\",\"ticks\":\"\"}},\"title\":{\"x\":0.05},\"xaxis\":{\"automargin\":true,\"gridcolor\":\"white\",\"linecolor\":\"white\",\"ticks\":\"\",\"title\":{\"standoff\":15},\"zerolinecolor\":\"white\",\"zerolinewidth\":2},\"yaxis\":{\"automargin\":true,\"gridcolor\":\"white\",\"linecolor\":\"white\",\"ticks\":\"\",\"title\":{\"standoff\":15},\"zerolinecolor\":\"white\",\"zerolinewidth\":2}}},\"title\":{\"text\":\"temperature\"}},                        {\"responsive\": true}                    ).then(function(){\n                            \nvar gd = document.getElementById('268ec52d-d942-41d3-a147-9039d554e67a');\nvar x = new MutationObserver(function (mutations, observer) {{\n        var display = window.getComputedStyle(gd).display;\n        if (!display || display === 'none') {{\n            console.log([gd, 'removed!']);\n            Plotly.purge(gd);\n            observer.disconnect();\n        }}\n}});\n\n// Listen for the removal of the full notebook cells\nvar notebookContainer = gd.closest('#notebook-container');\nif (notebookContainer) {{\n    x.observe(notebookContainer, {childList: true});\n}}\n\n// Listen for the clearing of the current output cell\nvar outputEl = gd.closest('.output');\nif (outputEl) {{\n    x.observe(outputEl, {childList: true});\n}}\n\n                        })                };                });            </script>        </div>"
     },
     "metadata": {},
     "output_type": "display_data"
    },
    {
     "name": "stdout",
     "output_type": "stream",
     "text": [
      "period:  3  / 3\r\n",
      "________________________________________\n",
      "\n",
      "Energy saving potentials:      -17.94 %\n",
      "\n",
      "________________________________________\n",
      "\n",
      "DONE!\n",
      "storage volume:  100 liters\n",
      "addresse:  Karlsruhe\n"
     ]
    },
    {
     "data": {
      "application/vnd.plotly.v1+json": {
       "data": [
        {
         "name": "temperature",
         "x": [
          "2007-10-01T00:00:00",
          "2007-10-01T01:00:00",
          "2007-10-01T02:00:00",
          "2007-10-01T03:00:00",
          "2007-10-01T04:00:00",
          "2007-10-01T05:00:00",
          "2007-10-01T06:00:00",
          "2007-10-01T07:00:00",
          "2007-10-01T08:00:00",
          "2007-10-01T09:00:00",
          "2007-10-01T10:00:00",
          "2007-10-01T11:00:00",
          "2007-10-01T12:00:00",
          "2007-10-01T13:00:00",
          "2007-10-01T14:00:00",
          "2007-10-01T15:00:00",
          "2007-10-01T16:00:00",
          "2007-10-01T17:00:00",
          "2007-10-01T18:00:00",
          "2007-10-01T19:00:00",
          "2007-10-01T20:00:00",
          "2007-10-01T21:00:00",
          "2007-10-01T22:00:00",
          "2007-10-01T23:00:00",
          "2007-10-02T00:00:00",
          "2007-10-02T01:00:00",
          "2007-10-02T02:00:00",
          "2007-10-02T03:00:00",
          "2007-10-02T04:00:00",
          "2007-10-02T05:00:00",
          "2007-10-02T06:00:00",
          "2007-10-02T07:00:00",
          "2007-10-02T08:00:00",
          "2007-10-02T09:00:00",
          "2007-10-02T10:00:00",
          "2007-10-02T11:00:00",
          "2007-10-02T12:00:00",
          "2007-10-02T13:00:00",
          "2007-10-02T14:00:00",
          "2007-10-02T15:00:00",
          "2007-10-02T16:00:00",
          "2007-10-02T17:00:00",
          "2007-10-02T18:00:00",
          "2007-10-02T19:00:00",
          "2007-10-02T20:00:00",
          "2007-10-02T21:00:00",
          "2007-10-02T22:00:00",
          "2007-10-02T23:00:00",
          "2007-10-03T00:00:00",
          "2007-10-03T01:00:00",
          "2007-10-03T02:00:00",
          "2007-10-03T03:00:00",
          "2007-10-03T04:00:00",
          "2007-10-03T05:00:00",
          "2007-10-03T06:00:00",
          "2007-10-03T07:00:00",
          "2007-10-03T08:00:00",
          "2007-10-03T09:00:00",
          "2007-10-03T10:00:00",
          "2007-10-03T11:00:00",
          "2007-10-03T12:00:00",
          "2007-10-03T13:00:00",
          "2007-10-03T14:00:00",
          "2007-10-03T15:00:00",
          "2007-10-03T16:00:00",
          "2007-10-03T17:00:00",
          "2007-10-03T18:00:00",
          "2007-10-03T19:00:00",
          "2007-10-03T20:00:00",
          "2007-10-03T21:00:00",
          "2007-10-03T22:00:00",
          "2007-10-03T23:00:00",
          "2007-10-04T00:00:00",
          "2007-10-04T01:00:00",
          "2007-10-04T02:00:00",
          "2007-10-04T03:00:00",
          "2007-10-04T04:00:00",
          "2007-10-04T05:00:00",
          "2007-10-04T06:00:00",
          "2007-10-04T07:00:00",
          "2007-10-04T08:00:00",
          "2007-10-04T09:00:00",
          "2007-10-04T10:00:00",
          "2007-10-04T11:00:00",
          "2007-10-04T12:00:00",
          "2007-10-04T13:00:00",
          "2007-10-04T14:00:00",
          "2007-10-04T15:00:00",
          "2007-10-04T16:00:00",
          "2007-10-04T17:00:00",
          "2007-10-04T18:00:00",
          "2007-10-04T19:00:00",
          "2007-10-04T20:00:00",
          "2007-10-04T21:00:00",
          "2007-10-04T22:00:00",
          "2007-10-04T23:00:00",
          "2007-10-05T00:00:00"
         ],
         "y": [
          9.8,
          9.2,
          9.0,
          8.7,
          8.1,
          8.2,
          8.1,
          10.4,
          12.7,
          14.5,
          17.5,
          19.2,
          21.1,
          22.1,
          23.9,
          22.3,
          21.2,
          20.3,
          18.8,
          18.1,
          16.7,
          16.2,
          15.8,
          14.8,
          13.8,
          13.8,
          14.7,
          14.9,
          15.1,
          14.9,
          14.9,
          15.3,
          16.3,
          16.4,
          17.3,
          18.1,
          19.3,
          20.6,
          21.1,
          21.6,
          21.3,
          19.9,
          19.0,
          18.3,
          17.9,
          17.6,
          17.2,
          17.1,
          16.9,
          16.7,
          16.6,
          16.4,
          16.2,
          15.8,
          16.0,
          16.5,
          17.0,
          17.5,
          18.4,
          19.6,
          20.7,
          21.4,
          21.6,
          21.5,
          20.8,
          19.5,
          18.5,
          17.5,
          17.0,
          16.6,
          16.1,
          15.9,
          15.7,
          15.8,
          16.1,
          16.0,
          15.9,
          16.1,
          16.1,
          16.5,
          18.4,
          20.4,
          22.5,
          24.1,
          25.0,
          25.9,
          25.2,
          22.7,
          21.9,
          20.5,
          18.9,
          17.6,
          16.4,
          16.0,
          16.3,
          16.4,
          16.2
         ],
         "type": "scatter"
        },
        {
         "mode": "markers",
         "name": "local_minima",
         "x": [
          "2007-10-01T00:00:00",
          "2007-10-01T01:00:00",
          "2007-10-01T02:00:00",
          "2007-10-01T03:00:00",
          "2007-10-01T04:00:00",
          "2007-10-01T05:00:00",
          "2007-10-01T06:00:00",
          "2007-10-01T07:00:00",
          "2007-10-01T08:00:00",
          "2007-10-01T09:00:00",
          "2007-10-01T10:00:00",
          "2007-10-01T11:00:00",
          "2007-10-01T12:00:00",
          "2007-10-01T13:00:00",
          "2007-10-01T14:00:00",
          "2007-10-01T15:00:00",
          "2007-10-01T16:00:00",
          "2007-10-01T17:00:00",
          "2007-10-01T18:00:00",
          "2007-10-01T19:00:00",
          "2007-10-01T20:00:00",
          "2007-10-01T21:00:00",
          "2007-10-01T22:00:00",
          "2007-10-01T23:00:00",
          "2007-10-02T00:00:00",
          "2007-10-02T01:00:00",
          "2007-10-02T02:00:00",
          "2007-10-02T03:00:00",
          "2007-10-02T04:00:00",
          "2007-10-02T05:00:00",
          "2007-10-02T06:00:00",
          "2007-10-02T07:00:00",
          "2007-10-02T08:00:00",
          "2007-10-02T09:00:00",
          "2007-10-02T10:00:00",
          "2007-10-02T11:00:00",
          "2007-10-02T12:00:00",
          "2007-10-02T13:00:00",
          "2007-10-02T14:00:00",
          "2007-10-02T15:00:00",
          "2007-10-02T16:00:00",
          "2007-10-02T17:00:00",
          "2007-10-02T18:00:00",
          "2007-10-02T19:00:00",
          "2007-10-02T20:00:00",
          "2007-10-02T21:00:00",
          "2007-10-02T22:00:00",
          "2007-10-02T23:00:00",
          "2007-10-03T00:00:00",
          "2007-10-03T01:00:00",
          "2007-10-03T02:00:00",
          "2007-10-03T03:00:00",
          "2007-10-03T04:00:00",
          "2007-10-03T05:00:00",
          "2007-10-03T06:00:00",
          "2007-10-03T07:00:00",
          "2007-10-03T08:00:00",
          "2007-10-03T09:00:00",
          "2007-10-03T10:00:00",
          "2007-10-03T11:00:00",
          "2007-10-03T12:00:00",
          "2007-10-03T13:00:00",
          "2007-10-03T14:00:00",
          "2007-10-03T15:00:00",
          "2007-10-03T16:00:00",
          "2007-10-03T17:00:00",
          "2007-10-03T18:00:00",
          "2007-10-03T19:00:00",
          "2007-10-03T20:00:00",
          "2007-10-03T21:00:00",
          "2007-10-03T22:00:00",
          "2007-10-03T23:00:00",
          "2007-10-04T00:00:00",
          "2007-10-04T01:00:00",
          "2007-10-04T02:00:00",
          "2007-10-04T03:00:00",
          "2007-10-04T04:00:00",
          "2007-10-04T05:00:00",
          "2007-10-04T06:00:00",
          "2007-10-04T07:00:00",
          "2007-10-04T08:00:00",
          "2007-10-04T09:00:00",
          "2007-10-04T10:00:00",
          "2007-10-04T11:00:00",
          "2007-10-04T12:00:00",
          "2007-10-04T13:00:00",
          "2007-10-04T14:00:00",
          "2007-10-04T15:00:00",
          "2007-10-04T16:00:00",
          "2007-10-04T17:00:00",
          "2007-10-04T18:00:00",
          "2007-10-04T19:00:00",
          "2007-10-04T20:00:00",
          "2007-10-04T21:00:00",
          "2007-10-04T22:00:00",
          "2007-10-04T23:00:00",
          "2007-10-05T00:00:00"
         ],
         "y": [
          null,
          null,
          null,
          null,
          null,
          null,
          8.1,
          null,
          null,
          null,
          null,
          null,
          null,
          null,
          null,
          null,
          null,
          null,
          null,
          null,
          null,
          null,
          null,
          null,
          null,
          13.8,
          null,
          null,
          null,
          null,
          null,
          null,
          null,
          null,
          null,
          null,
          null,
          null,
          null,
          null,
          null,
          null,
          null,
          null,
          null,
          null,
          null,
          null,
          null,
          null,
          null,
          null,
          null,
          15.8,
          null,
          null,
          null,
          null,
          null,
          null,
          null,
          null,
          null,
          null,
          null,
          null,
          null,
          null,
          null,
          null,
          null,
          null,
          15.7,
          null,
          null,
          null,
          null,
          null,
          null,
          null,
          null,
          null,
          null,
          null,
          null,
          null,
          null,
          null,
          null,
          null,
          null,
          null,
          null,
          16.0,
          null,
          null,
          null
         ],
         "type": "scatter"
        },
        {
         "hovertext": [
          null,
          null,
          null,
          null,
          null,
          null,
          null,
          null,
          null,
          null,
          null,
          null,
          null,
          null,
          0.0,
          0.0,
          0.0,
          0.0,
          0.0,
          0.0,
          0.0,
          0.0,
          0.0,
          0.0,
          0.0,
          0.0,
          0.0,
          0.0,
          0.0,
          0.0,
          0.0,
          0.0,
          0.0,
          0.0,
          0.0,
          0.0,
          0.0,
          0.0,
          0.0,
          1.0,
          1.0,
          1.0,
          1.0,
          1.0,
          1.0,
          1.0,
          1.0,
          1.0,
          1.0,
          1.0,
          1.0,
          1.0,
          1.0,
          1.0,
          1.0,
          1.0,
          1.0,
          1.0,
          1.0,
          1.0,
          1.0,
          1.0,
          2.0,
          2.0,
          2.0,
          2.0,
          2.0,
          2.0,
          2.0,
          2.0,
          2.0,
          2.0,
          2.0,
          2.0,
          2.0,
          2.0,
          2.0,
          2.0,
          2.0,
          2.0,
          2.0,
          2.0,
          2.0,
          2.0,
          2.0,
          3.0,
          3.0,
          3.0,
          3.0,
          3.0,
          3.0,
          3.0,
          3.0,
          3.0,
          3.0,
          3.0,
          3.0
         ],
         "mode": "markers",
         "name": "local_maxima",
         "x": [
          "2007-10-01T00:00:00",
          "2007-10-01T01:00:00",
          "2007-10-01T02:00:00",
          "2007-10-01T03:00:00",
          "2007-10-01T04:00:00",
          "2007-10-01T05:00:00",
          "2007-10-01T06:00:00",
          "2007-10-01T07:00:00",
          "2007-10-01T08:00:00",
          "2007-10-01T09:00:00",
          "2007-10-01T10:00:00",
          "2007-10-01T11:00:00",
          "2007-10-01T12:00:00",
          "2007-10-01T13:00:00",
          "2007-10-01T14:00:00",
          "2007-10-01T15:00:00",
          "2007-10-01T16:00:00",
          "2007-10-01T17:00:00",
          "2007-10-01T18:00:00",
          "2007-10-01T19:00:00",
          "2007-10-01T20:00:00",
          "2007-10-01T21:00:00",
          "2007-10-01T22:00:00",
          "2007-10-01T23:00:00",
          "2007-10-02T00:00:00",
          "2007-10-02T01:00:00",
          "2007-10-02T02:00:00",
          "2007-10-02T03:00:00",
          "2007-10-02T04:00:00",
          "2007-10-02T05:00:00",
          "2007-10-02T06:00:00",
          "2007-10-02T07:00:00",
          "2007-10-02T08:00:00",
          "2007-10-02T09:00:00",
          "2007-10-02T10:00:00",
          "2007-10-02T11:00:00",
          "2007-10-02T12:00:00",
          "2007-10-02T13:00:00",
          "2007-10-02T14:00:00",
          "2007-10-02T15:00:00",
          "2007-10-02T16:00:00",
          "2007-10-02T17:00:00",
          "2007-10-02T18:00:00",
          "2007-10-02T19:00:00",
          "2007-10-02T20:00:00",
          "2007-10-02T21:00:00",
          "2007-10-02T22:00:00",
          "2007-10-02T23:00:00",
          "2007-10-03T00:00:00",
          "2007-10-03T01:00:00",
          "2007-10-03T02:00:00",
          "2007-10-03T03:00:00",
          "2007-10-03T04:00:00",
          "2007-10-03T05:00:00",
          "2007-10-03T06:00:00",
          "2007-10-03T07:00:00",
          "2007-10-03T08:00:00",
          "2007-10-03T09:00:00",
          "2007-10-03T10:00:00",
          "2007-10-03T11:00:00",
          "2007-10-03T12:00:00",
          "2007-10-03T13:00:00",
          "2007-10-03T14:00:00",
          "2007-10-03T15:00:00",
          "2007-10-03T16:00:00",
          "2007-10-03T17:00:00",
          "2007-10-03T18:00:00",
          "2007-10-03T19:00:00",
          "2007-10-03T20:00:00",
          "2007-10-03T21:00:00",
          "2007-10-03T22:00:00",
          "2007-10-03T23:00:00",
          "2007-10-04T00:00:00",
          "2007-10-04T01:00:00",
          "2007-10-04T02:00:00",
          "2007-10-04T03:00:00",
          "2007-10-04T04:00:00",
          "2007-10-04T05:00:00",
          "2007-10-04T06:00:00",
          "2007-10-04T07:00:00",
          "2007-10-04T08:00:00",
          "2007-10-04T09:00:00",
          "2007-10-04T10:00:00",
          "2007-10-04T11:00:00",
          "2007-10-04T12:00:00",
          "2007-10-04T13:00:00",
          "2007-10-04T14:00:00",
          "2007-10-04T15:00:00",
          "2007-10-04T16:00:00",
          "2007-10-04T17:00:00",
          "2007-10-04T18:00:00",
          "2007-10-04T19:00:00",
          "2007-10-04T20:00:00",
          "2007-10-04T21:00:00",
          "2007-10-04T22:00:00",
          "2007-10-04T23:00:00",
          "2007-10-05T00:00:00"
         ],
         "y": [
          null,
          null,
          null,
          null,
          null,
          null,
          null,
          null,
          null,
          null,
          null,
          null,
          null,
          null,
          23.9,
          null,
          null,
          null,
          null,
          null,
          null,
          null,
          null,
          null,
          null,
          null,
          null,
          null,
          null,
          null,
          null,
          null,
          null,
          null,
          null,
          null,
          null,
          null,
          null,
          21.6,
          null,
          null,
          null,
          null,
          null,
          null,
          null,
          null,
          null,
          null,
          null,
          null,
          null,
          null,
          null,
          null,
          null,
          null,
          null,
          null,
          null,
          null,
          21.6,
          null,
          null,
          null,
          null,
          null,
          null,
          null,
          null,
          null,
          null,
          null,
          null,
          null,
          null,
          null,
          null,
          null,
          null,
          null,
          null,
          null,
          null,
          25.9,
          null,
          null,
          null,
          null,
          null,
          null,
          null,
          null,
          null,
          null,
          null
         ],
         "type": "scatter"
        }
       ],
       "layout": {
        "template": {
         "data": {
          "bar": [
           {
            "error_x": {
             "color": "#2a3f5f"
            },
            "error_y": {
             "color": "#2a3f5f"
            },
            "marker": {
             "line": {
              "color": "#E5ECF6",
              "width": 0.5
             },
             "pattern": {
              "fillmode": "overlay",
              "size": 10,
              "solidity": 0.2
             }
            },
            "type": "bar"
           }
          ],
          "barpolar": [
           {
            "marker": {
             "line": {
              "color": "#E5ECF6",
              "width": 0.5
             },
             "pattern": {
              "fillmode": "overlay",
              "size": 10,
              "solidity": 0.2
             }
            },
            "type": "barpolar"
           }
          ],
          "carpet": [
           {
            "aaxis": {
             "endlinecolor": "#2a3f5f",
             "gridcolor": "white",
             "linecolor": "white",
             "minorgridcolor": "white",
             "startlinecolor": "#2a3f5f"
            },
            "baxis": {
             "endlinecolor": "#2a3f5f",
             "gridcolor": "white",
             "linecolor": "white",
             "minorgridcolor": "white",
             "startlinecolor": "#2a3f5f"
            },
            "type": "carpet"
           }
          ],
          "choropleth": [
           {
            "colorbar": {
             "outlinewidth": 0,
             "ticks": ""
            },
            "type": "choropleth"
           }
          ],
          "contour": [
           {
            "colorbar": {
             "outlinewidth": 0,
             "ticks": ""
            },
            "colorscale": [
             [
              0.0,
              "#0d0887"
             ],
             [
              0.1111111111111111,
              "#46039f"
             ],
             [
              0.2222222222222222,
              "#7201a8"
             ],
             [
              0.3333333333333333,
              "#9c179e"
             ],
             [
              0.4444444444444444,
              "#bd3786"
             ],
             [
              0.5555555555555556,
              "#d8576b"
             ],
             [
              0.6666666666666666,
              "#ed7953"
             ],
             [
              0.7777777777777778,
              "#fb9f3a"
             ],
             [
              0.8888888888888888,
              "#fdca26"
             ],
             [
              1.0,
              "#f0f921"
             ]
            ],
            "type": "contour"
           }
          ],
          "contourcarpet": [
           {
            "colorbar": {
             "outlinewidth": 0,
             "ticks": ""
            },
            "type": "contourcarpet"
           }
          ],
          "heatmap": [
           {
            "colorbar": {
             "outlinewidth": 0,
             "ticks": ""
            },
            "colorscale": [
             [
              0.0,
              "#0d0887"
             ],
             [
              0.1111111111111111,
              "#46039f"
             ],
             [
              0.2222222222222222,
              "#7201a8"
             ],
             [
              0.3333333333333333,
              "#9c179e"
             ],
             [
              0.4444444444444444,
              "#bd3786"
             ],
             [
              0.5555555555555556,
              "#d8576b"
             ],
             [
              0.6666666666666666,
              "#ed7953"
             ],
             [
              0.7777777777777778,
              "#fb9f3a"
             ],
             [
              0.8888888888888888,
              "#fdca26"
             ],
             [
              1.0,
              "#f0f921"
             ]
            ],
            "type": "heatmap"
           }
          ],
          "heatmapgl": [
           {
            "colorbar": {
             "outlinewidth": 0,
             "ticks": ""
            },
            "colorscale": [
             [
              0.0,
              "#0d0887"
             ],
             [
              0.1111111111111111,
              "#46039f"
             ],
             [
              0.2222222222222222,
              "#7201a8"
             ],
             [
              0.3333333333333333,
              "#9c179e"
             ],
             [
              0.4444444444444444,
              "#bd3786"
             ],
             [
              0.5555555555555556,
              "#d8576b"
             ],
             [
              0.6666666666666666,
              "#ed7953"
             ],
             [
              0.7777777777777778,
              "#fb9f3a"
             ],
             [
              0.8888888888888888,
              "#fdca26"
             ],
             [
              1.0,
              "#f0f921"
             ]
            ],
            "type": "heatmapgl"
           }
          ],
          "histogram": [
           {
            "marker": {
             "pattern": {
              "fillmode": "overlay",
              "size": 10,
              "solidity": 0.2
             }
            },
            "type": "histogram"
           }
          ],
          "histogram2d": [
           {
            "colorbar": {
             "outlinewidth": 0,
             "ticks": ""
            },
            "colorscale": [
             [
              0.0,
              "#0d0887"
             ],
             [
              0.1111111111111111,
              "#46039f"
             ],
             [
              0.2222222222222222,
              "#7201a8"
             ],
             [
              0.3333333333333333,
              "#9c179e"
             ],
             [
              0.4444444444444444,
              "#bd3786"
             ],
             [
              0.5555555555555556,
              "#d8576b"
             ],
             [
              0.6666666666666666,
              "#ed7953"
             ],
             [
              0.7777777777777778,
              "#fb9f3a"
             ],
             [
              0.8888888888888888,
              "#fdca26"
             ],
             [
              1.0,
              "#f0f921"
             ]
            ],
            "type": "histogram2d"
           }
          ],
          "histogram2dcontour": [
           {
            "colorbar": {
             "outlinewidth": 0,
             "ticks": ""
            },
            "colorscale": [
             [
              0.0,
              "#0d0887"
             ],
             [
              0.1111111111111111,
              "#46039f"
             ],
             [
              0.2222222222222222,
              "#7201a8"
             ],
             [
              0.3333333333333333,
              "#9c179e"
             ],
             [
              0.4444444444444444,
              "#bd3786"
             ],
             [
              0.5555555555555556,
              "#d8576b"
             ],
             [
              0.6666666666666666,
              "#ed7953"
             ],
             [
              0.7777777777777778,
              "#fb9f3a"
             ],
             [
              0.8888888888888888,
              "#fdca26"
             ],
             [
              1.0,
              "#f0f921"
             ]
            ],
            "type": "histogram2dcontour"
           }
          ],
          "mesh3d": [
           {
            "colorbar": {
             "outlinewidth": 0,
             "ticks": ""
            },
            "type": "mesh3d"
           }
          ],
          "parcoords": [
           {
            "line": {
             "colorbar": {
              "outlinewidth": 0,
              "ticks": ""
             }
            },
            "type": "parcoords"
           }
          ],
          "pie": [
           {
            "automargin": true,
            "type": "pie"
           }
          ],
          "scatter": [
           {
            "marker": {
             "colorbar": {
              "outlinewidth": 0,
              "ticks": ""
             }
            },
            "type": "scatter"
           }
          ],
          "scatter3d": [
           {
            "line": {
             "colorbar": {
              "outlinewidth": 0,
              "ticks": ""
             }
            },
            "marker": {
             "colorbar": {
              "outlinewidth": 0,
              "ticks": ""
             }
            },
            "type": "scatter3d"
           }
          ],
          "scattercarpet": [
           {
            "marker": {
             "colorbar": {
              "outlinewidth": 0,
              "ticks": ""
             }
            },
            "type": "scattercarpet"
           }
          ],
          "scattergeo": [
           {
            "marker": {
             "colorbar": {
              "outlinewidth": 0,
              "ticks": ""
             }
            },
            "type": "scattergeo"
           }
          ],
          "scattergl": [
           {
            "marker": {
             "colorbar": {
              "outlinewidth": 0,
              "ticks": ""
             }
            },
            "type": "scattergl"
           }
          ],
          "scattermapbox": [
           {
            "marker": {
             "colorbar": {
              "outlinewidth": 0,
              "ticks": ""
             }
            },
            "type": "scattermapbox"
           }
          ],
          "scatterpolar": [
           {
            "marker": {
             "colorbar": {
              "outlinewidth": 0,
              "ticks": ""
             }
            },
            "type": "scatterpolar"
           }
          ],
          "scatterpolargl": [
           {
            "marker": {
             "colorbar": {
              "outlinewidth": 0,
              "ticks": ""
             }
            },
            "type": "scatterpolargl"
           }
          ],
          "scatterternary": [
           {
            "marker": {
             "colorbar": {
              "outlinewidth": 0,
              "ticks": ""
             }
            },
            "type": "scatterternary"
           }
          ],
          "surface": [
           {
            "colorbar": {
             "outlinewidth": 0,
             "ticks": ""
            },
            "colorscale": [
             [
              0.0,
              "#0d0887"
             ],
             [
              0.1111111111111111,
              "#46039f"
             ],
             [
              0.2222222222222222,
              "#7201a8"
             ],
             [
              0.3333333333333333,
              "#9c179e"
             ],
             [
              0.4444444444444444,
              "#bd3786"
             ],
             [
              0.5555555555555556,
              "#d8576b"
             ],
             [
              0.6666666666666666,
              "#ed7953"
             ],
             [
              0.7777777777777778,
              "#fb9f3a"
             ],
             [
              0.8888888888888888,
              "#fdca26"
             ],
             [
              1.0,
              "#f0f921"
             ]
            ],
            "type": "surface"
           }
          ],
          "table": [
           {
            "cells": {
             "fill": {
              "color": "#EBF0F8"
             },
             "line": {
              "color": "white"
             }
            },
            "header": {
             "fill": {
              "color": "#C8D4E3"
             },
             "line": {
              "color": "white"
             }
            },
            "type": "table"
           }
          ]
         },
         "layout": {
          "annotationdefaults": {
           "arrowcolor": "#2a3f5f",
           "arrowhead": 0,
           "arrowwidth": 1
          },
          "autotypenumbers": "strict",
          "coloraxis": {
           "colorbar": {
            "outlinewidth": 0,
            "ticks": ""
           }
          },
          "colorscale": {
           "diverging": [
            [
             0,
             "#8e0152"
            ],
            [
             0.1,
             "#c51b7d"
            ],
            [
             0.2,
             "#de77ae"
            ],
            [
             0.3,
             "#f1b6da"
            ],
            [
             0.4,
             "#fde0ef"
            ],
            [
             0.5,
             "#f7f7f7"
            ],
            [
             0.6,
             "#e6f5d0"
            ],
            [
             0.7,
             "#b8e186"
            ],
            [
             0.8,
             "#7fbc41"
            ],
            [
             0.9,
             "#4d9221"
            ],
            [
             1,
             "#276419"
            ]
           ],
           "sequential": [
            [
             0.0,
             "#0d0887"
            ],
            [
             0.1111111111111111,
             "#46039f"
            ],
            [
             0.2222222222222222,
             "#7201a8"
            ],
            [
             0.3333333333333333,
             "#9c179e"
            ],
            [
             0.4444444444444444,
             "#bd3786"
            ],
            [
             0.5555555555555556,
             "#d8576b"
            ],
            [
             0.6666666666666666,
             "#ed7953"
            ],
            [
             0.7777777777777778,
             "#fb9f3a"
            ],
            [
             0.8888888888888888,
             "#fdca26"
            ],
            [
             1.0,
             "#f0f921"
            ]
           ],
           "sequentialminus": [
            [
             0.0,
             "#0d0887"
            ],
            [
             0.1111111111111111,
             "#46039f"
            ],
            [
             0.2222222222222222,
             "#7201a8"
            ],
            [
             0.3333333333333333,
             "#9c179e"
            ],
            [
             0.4444444444444444,
             "#bd3786"
            ],
            [
             0.5555555555555556,
             "#d8576b"
            ],
            [
             0.6666666666666666,
             "#ed7953"
            ],
            [
             0.7777777777777778,
             "#fb9f3a"
            ],
            [
             0.8888888888888888,
             "#fdca26"
            ],
            [
             1.0,
             "#f0f921"
            ]
           ]
          },
          "colorway": [
           "#636efa",
           "#EF553B",
           "#00cc96",
           "#ab63fa",
           "#FFA15A",
           "#19d3f3",
           "#FF6692",
           "#B6E880",
           "#FF97FF",
           "#FECB52"
          ],
          "font": {
           "color": "#2a3f5f"
          },
          "geo": {
           "bgcolor": "white",
           "lakecolor": "white",
           "landcolor": "#E5ECF6",
           "showlakes": true,
           "showland": true,
           "subunitcolor": "white"
          },
          "hoverlabel": {
           "align": "left"
          },
          "hovermode": "closest",
          "mapbox": {
           "style": "light"
          },
          "paper_bgcolor": "white",
          "plot_bgcolor": "#E5ECF6",
          "polar": {
           "angularaxis": {
            "gridcolor": "white",
            "linecolor": "white",
            "ticks": ""
           },
           "bgcolor": "#E5ECF6",
           "radialaxis": {
            "gridcolor": "white",
            "linecolor": "white",
            "ticks": ""
           }
          },
          "scene": {
           "xaxis": {
            "backgroundcolor": "#E5ECF6",
            "gridcolor": "white",
            "gridwidth": 2,
            "linecolor": "white",
            "showbackground": true,
            "ticks": "",
            "zerolinecolor": "white"
           },
           "yaxis": {
            "backgroundcolor": "#E5ECF6",
            "gridcolor": "white",
            "gridwidth": 2,
            "linecolor": "white",
            "showbackground": true,
            "ticks": "",
            "zerolinecolor": "white"
           },
           "zaxis": {
            "backgroundcolor": "#E5ECF6",
            "gridcolor": "white",
            "gridwidth": 2,
            "linecolor": "white",
            "showbackground": true,
            "ticks": "",
            "zerolinecolor": "white"
           }
          },
          "shapedefaults": {
           "line": {
            "color": "#2a3f5f"
           }
          },
          "ternary": {
           "aaxis": {
            "gridcolor": "white",
            "linecolor": "white",
            "ticks": ""
           },
           "baxis": {
            "gridcolor": "white",
            "linecolor": "white",
            "ticks": ""
           },
           "bgcolor": "#E5ECF6",
           "caxis": {
            "gridcolor": "white",
            "linecolor": "white",
            "ticks": ""
           }
          },
          "title": {
           "x": 0.05
          },
          "xaxis": {
           "automargin": true,
           "gridcolor": "white",
           "linecolor": "white",
           "ticks": "",
           "title": {
            "standoff": 15
           },
           "zerolinecolor": "white",
           "zerolinewidth": 2
          },
          "yaxis": {
           "automargin": true,
           "gridcolor": "white",
           "linecolor": "white",
           "ticks": "",
           "title": {
            "standoff": 15
           },
           "zerolinecolor": "white",
           "zerolinewidth": 2
          }
         }
        },
        "title": {
         "text": "temperature"
        }
       },
       "config": {
        "plotlyServerURL": "https://plot.ly"
       }
      },
      "text/html": "<div>                            <div id=\"982e6334-0eb3-4b2e-b670-ed984f2ab77e\" class=\"plotly-graph-div\" style=\"height:525px; width:100%;\"></div>            <script type=\"text/javascript\">                require([\"plotly\"], function(Plotly) {                    window.PLOTLYENV=window.PLOTLYENV || {};                                    if (document.getElementById(\"982e6334-0eb3-4b2e-b670-ed984f2ab77e\")) {                    Plotly.newPlot(                        \"982e6334-0eb3-4b2e-b670-ed984f2ab77e\",                        [{\"name\":\"temperature\",\"x\":[\"2007-10-01T00:00:00\",\"2007-10-01T01:00:00\",\"2007-10-01T02:00:00\",\"2007-10-01T03:00:00\",\"2007-10-01T04:00:00\",\"2007-10-01T05:00:00\",\"2007-10-01T06:00:00\",\"2007-10-01T07:00:00\",\"2007-10-01T08:00:00\",\"2007-10-01T09:00:00\",\"2007-10-01T10:00:00\",\"2007-10-01T11:00:00\",\"2007-10-01T12:00:00\",\"2007-10-01T13:00:00\",\"2007-10-01T14:00:00\",\"2007-10-01T15:00:00\",\"2007-10-01T16:00:00\",\"2007-10-01T17:00:00\",\"2007-10-01T18:00:00\",\"2007-10-01T19:00:00\",\"2007-10-01T20:00:00\",\"2007-10-01T21:00:00\",\"2007-10-01T22:00:00\",\"2007-10-01T23:00:00\",\"2007-10-02T00:00:00\",\"2007-10-02T01:00:00\",\"2007-10-02T02:00:00\",\"2007-10-02T03:00:00\",\"2007-10-02T04:00:00\",\"2007-10-02T05:00:00\",\"2007-10-02T06:00:00\",\"2007-10-02T07:00:00\",\"2007-10-02T08:00:00\",\"2007-10-02T09:00:00\",\"2007-10-02T10:00:00\",\"2007-10-02T11:00:00\",\"2007-10-02T12:00:00\",\"2007-10-02T13:00:00\",\"2007-10-02T14:00:00\",\"2007-10-02T15:00:00\",\"2007-10-02T16:00:00\",\"2007-10-02T17:00:00\",\"2007-10-02T18:00:00\",\"2007-10-02T19:00:00\",\"2007-10-02T20:00:00\",\"2007-10-02T21:00:00\",\"2007-10-02T22:00:00\",\"2007-10-02T23:00:00\",\"2007-10-03T00:00:00\",\"2007-10-03T01:00:00\",\"2007-10-03T02:00:00\",\"2007-10-03T03:00:00\",\"2007-10-03T04:00:00\",\"2007-10-03T05:00:00\",\"2007-10-03T06:00:00\",\"2007-10-03T07:00:00\",\"2007-10-03T08:00:00\",\"2007-10-03T09:00:00\",\"2007-10-03T10:00:00\",\"2007-10-03T11:00:00\",\"2007-10-03T12:00:00\",\"2007-10-03T13:00:00\",\"2007-10-03T14:00:00\",\"2007-10-03T15:00:00\",\"2007-10-03T16:00:00\",\"2007-10-03T17:00:00\",\"2007-10-03T18:00:00\",\"2007-10-03T19:00:00\",\"2007-10-03T20:00:00\",\"2007-10-03T21:00:00\",\"2007-10-03T22:00:00\",\"2007-10-03T23:00:00\",\"2007-10-04T00:00:00\",\"2007-10-04T01:00:00\",\"2007-10-04T02:00:00\",\"2007-10-04T03:00:00\",\"2007-10-04T04:00:00\",\"2007-10-04T05:00:00\",\"2007-10-04T06:00:00\",\"2007-10-04T07:00:00\",\"2007-10-04T08:00:00\",\"2007-10-04T09:00:00\",\"2007-10-04T10:00:00\",\"2007-10-04T11:00:00\",\"2007-10-04T12:00:00\",\"2007-10-04T13:00:00\",\"2007-10-04T14:00:00\",\"2007-10-04T15:00:00\",\"2007-10-04T16:00:00\",\"2007-10-04T17:00:00\",\"2007-10-04T18:00:00\",\"2007-10-04T19:00:00\",\"2007-10-04T20:00:00\",\"2007-10-04T21:00:00\",\"2007-10-04T22:00:00\",\"2007-10-04T23:00:00\",\"2007-10-05T00:00:00\"],\"y\":[9.8,9.2,9.0,8.7,8.1,8.2,8.1,10.4,12.7,14.5,17.5,19.2,21.1,22.1,23.9,22.3,21.2,20.3,18.8,18.1,16.7,16.2,15.8,14.8,13.8,13.8,14.7,14.9,15.1,14.9,14.9,15.3,16.3,16.4,17.3,18.1,19.3,20.6,21.1,21.6,21.3,19.9,19.0,18.3,17.9,17.6,17.2,17.1,16.9,16.7,16.6,16.4,16.2,15.8,16.0,16.5,17.0,17.5,18.4,19.6,20.7,21.4,21.6,21.5,20.8,19.5,18.5,17.5,17.0,16.6,16.1,15.9,15.7,15.8,16.1,16.0,15.9,16.1,16.1,16.5,18.4,20.4,22.5,24.1,25.0,25.9,25.2,22.7,21.9,20.5,18.9,17.6,16.4,16.0,16.3,16.4,16.2],\"type\":\"scatter\"},{\"mode\":\"markers\",\"name\":\"local_minima\",\"x\":[\"2007-10-01T00:00:00\",\"2007-10-01T01:00:00\",\"2007-10-01T02:00:00\",\"2007-10-01T03:00:00\",\"2007-10-01T04:00:00\",\"2007-10-01T05:00:00\",\"2007-10-01T06:00:00\",\"2007-10-01T07:00:00\",\"2007-10-01T08:00:00\",\"2007-10-01T09:00:00\",\"2007-10-01T10:00:00\",\"2007-10-01T11:00:00\",\"2007-10-01T12:00:00\",\"2007-10-01T13:00:00\",\"2007-10-01T14:00:00\",\"2007-10-01T15:00:00\",\"2007-10-01T16:00:00\",\"2007-10-01T17:00:00\",\"2007-10-01T18:00:00\",\"2007-10-01T19:00:00\",\"2007-10-01T20:00:00\",\"2007-10-01T21:00:00\",\"2007-10-01T22:00:00\",\"2007-10-01T23:00:00\",\"2007-10-02T00:00:00\",\"2007-10-02T01:00:00\",\"2007-10-02T02:00:00\",\"2007-10-02T03:00:00\",\"2007-10-02T04:00:00\",\"2007-10-02T05:00:00\",\"2007-10-02T06:00:00\",\"2007-10-02T07:00:00\",\"2007-10-02T08:00:00\",\"2007-10-02T09:00:00\",\"2007-10-02T10:00:00\",\"2007-10-02T11:00:00\",\"2007-10-02T12:00:00\",\"2007-10-02T13:00:00\",\"2007-10-02T14:00:00\",\"2007-10-02T15:00:00\",\"2007-10-02T16:00:00\",\"2007-10-02T17:00:00\",\"2007-10-02T18:00:00\",\"2007-10-02T19:00:00\",\"2007-10-02T20:00:00\",\"2007-10-02T21:00:00\",\"2007-10-02T22:00:00\",\"2007-10-02T23:00:00\",\"2007-10-03T00:00:00\",\"2007-10-03T01:00:00\",\"2007-10-03T02:00:00\",\"2007-10-03T03:00:00\",\"2007-10-03T04:00:00\",\"2007-10-03T05:00:00\",\"2007-10-03T06:00:00\",\"2007-10-03T07:00:00\",\"2007-10-03T08:00:00\",\"2007-10-03T09:00:00\",\"2007-10-03T10:00:00\",\"2007-10-03T11:00:00\",\"2007-10-03T12:00:00\",\"2007-10-03T13:00:00\",\"2007-10-03T14:00:00\",\"2007-10-03T15:00:00\",\"2007-10-03T16:00:00\",\"2007-10-03T17:00:00\",\"2007-10-03T18:00:00\",\"2007-10-03T19:00:00\",\"2007-10-03T20:00:00\",\"2007-10-03T21:00:00\",\"2007-10-03T22:00:00\",\"2007-10-03T23:00:00\",\"2007-10-04T00:00:00\",\"2007-10-04T01:00:00\",\"2007-10-04T02:00:00\",\"2007-10-04T03:00:00\",\"2007-10-04T04:00:00\",\"2007-10-04T05:00:00\",\"2007-10-04T06:00:00\",\"2007-10-04T07:00:00\",\"2007-10-04T08:00:00\",\"2007-10-04T09:00:00\",\"2007-10-04T10:00:00\",\"2007-10-04T11:00:00\",\"2007-10-04T12:00:00\",\"2007-10-04T13:00:00\",\"2007-10-04T14:00:00\",\"2007-10-04T15:00:00\",\"2007-10-04T16:00:00\",\"2007-10-04T17:00:00\",\"2007-10-04T18:00:00\",\"2007-10-04T19:00:00\",\"2007-10-04T20:00:00\",\"2007-10-04T21:00:00\",\"2007-10-04T22:00:00\",\"2007-10-04T23:00:00\",\"2007-10-05T00:00:00\"],\"y\":[null,null,null,null,null,null,8.1,null,null,null,null,null,null,null,null,null,null,null,null,null,null,null,null,null,null,13.8,null,null,null,null,null,null,null,null,null,null,null,null,null,null,null,null,null,null,null,null,null,null,null,null,null,null,null,15.8,null,null,null,null,null,null,null,null,null,null,null,null,null,null,null,null,null,null,15.7,null,null,null,null,null,null,null,null,null,null,null,null,null,null,null,null,null,null,null,null,16.0,null,null,null],\"type\":\"scatter\"},{\"hovertext\":[null,null,null,null,null,null,null,null,null,null,null,null,null,null,0.0,0.0,0.0,0.0,0.0,0.0,0.0,0.0,0.0,0.0,0.0,0.0,0.0,0.0,0.0,0.0,0.0,0.0,0.0,0.0,0.0,0.0,0.0,0.0,0.0,1.0,1.0,1.0,1.0,1.0,1.0,1.0,1.0,1.0,1.0,1.0,1.0,1.0,1.0,1.0,1.0,1.0,1.0,1.0,1.0,1.0,1.0,1.0,2.0,2.0,2.0,2.0,2.0,2.0,2.0,2.0,2.0,2.0,2.0,2.0,2.0,2.0,2.0,2.0,2.0,2.0,2.0,2.0,2.0,2.0,2.0,3.0,3.0,3.0,3.0,3.0,3.0,3.0,3.0,3.0,3.0,3.0,3.0],\"mode\":\"markers\",\"name\":\"local_maxima\",\"x\":[\"2007-10-01T00:00:00\",\"2007-10-01T01:00:00\",\"2007-10-01T02:00:00\",\"2007-10-01T03:00:00\",\"2007-10-01T04:00:00\",\"2007-10-01T05:00:00\",\"2007-10-01T06:00:00\",\"2007-10-01T07:00:00\",\"2007-10-01T08:00:00\",\"2007-10-01T09:00:00\",\"2007-10-01T10:00:00\",\"2007-10-01T11:00:00\",\"2007-10-01T12:00:00\",\"2007-10-01T13:00:00\",\"2007-10-01T14:00:00\",\"2007-10-01T15:00:00\",\"2007-10-01T16:00:00\",\"2007-10-01T17:00:00\",\"2007-10-01T18:00:00\",\"2007-10-01T19:00:00\",\"2007-10-01T20:00:00\",\"2007-10-01T21:00:00\",\"2007-10-01T22:00:00\",\"2007-10-01T23:00:00\",\"2007-10-02T00:00:00\",\"2007-10-02T01:00:00\",\"2007-10-02T02:00:00\",\"2007-10-02T03:00:00\",\"2007-10-02T04:00:00\",\"2007-10-02T05:00:00\",\"2007-10-02T06:00:00\",\"2007-10-02T07:00:00\",\"2007-10-02T08:00:00\",\"2007-10-02T09:00:00\",\"2007-10-02T10:00:00\",\"2007-10-02T11:00:00\",\"2007-10-02T12:00:00\",\"2007-10-02T13:00:00\",\"2007-10-02T14:00:00\",\"2007-10-02T15:00:00\",\"2007-10-02T16:00:00\",\"2007-10-02T17:00:00\",\"2007-10-02T18:00:00\",\"2007-10-02T19:00:00\",\"2007-10-02T20:00:00\",\"2007-10-02T21:00:00\",\"2007-10-02T22:00:00\",\"2007-10-02T23:00:00\",\"2007-10-03T00:00:00\",\"2007-10-03T01:00:00\",\"2007-10-03T02:00:00\",\"2007-10-03T03:00:00\",\"2007-10-03T04:00:00\",\"2007-10-03T05:00:00\",\"2007-10-03T06:00:00\",\"2007-10-03T07:00:00\",\"2007-10-03T08:00:00\",\"2007-10-03T09:00:00\",\"2007-10-03T10:00:00\",\"2007-10-03T11:00:00\",\"2007-10-03T12:00:00\",\"2007-10-03T13:00:00\",\"2007-10-03T14:00:00\",\"2007-10-03T15:00:00\",\"2007-10-03T16:00:00\",\"2007-10-03T17:00:00\",\"2007-10-03T18:00:00\",\"2007-10-03T19:00:00\",\"2007-10-03T20:00:00\",\"2007-10-03T21:00:00\",\"2007-10-03T22:00:00\",\"2007-10-03T23:00:00\",\"2007-10-04T00:00:00\",\"2007-10-04T01:00:00\",\"2007-10-04T02:00:00\",\"2007-10-04T03:00:00\",\"2007-10-04T04:00:00\",\"2007-10-04T05:00:00\",\"2007-10-04T06:00:00\",\"2007-10-04T07:00:00\",\"2007-10-04T08:00:00\",\"2007-10-04T09:00:00\",\"2007-10-04T10:00:00\",\"2007-10-04T11:00:00\",\"2007-10-04T12:00:00\",\"2007-10-04T13:00:00\",\"2007-10-04T14:00:00\",\"2007-10-04T15:00:00\",\"2007-10-04T16:00:00\",\"2007-10-04T17:00:00\",\"2007-10-04T18:00:00\",\"2007-10-04T19:00:00\",\"2007-10-04T20:00:00\",\"2007-10-04T21:00:00\",\"2007-10-04T22:00:00\",\"2007-10-04T23:00:00\",\"2007-10-05T00:00:00\"],\"y\":[null,null,null,null,null,null,null,null,null,null,null,null,null,null,23.9,null,null,null,null,null,null,null,null,null,null,null,null,null,null,null,null,null,null,null,null,null,null,null,null,21.6,null,null,null,null,null,null,null,null,null,null,null,null,null,null,null,null,null,null,null,null,null,null,21.6,null,null,null,null,null,null,null,null,null,null,null,null,null,null,null,null,null,null,null,null,null,null,25.9,null,null,null,null,null,null,null,null,null,null,null],\"type\":\"scatter\"}],                        {\"template\":{\"data\":{\"bar\":[{\"error_x\":{\"color\":\"#2a3f5f\"},\"error_y\":{\"color\":\"#2a3f5f\"},\"marker\":{\"line\":{\"color\":\"#E5ECF6\",\"width\":0.5},\"pattern\":{\"fillmode\":\"overlay\",\"size\":10,\"solidity\":0.2}},\"type\":\"bar\"}],\"barpolar\":[{\"marker\":{\"line\":{\"color\":\"#E5ECF6\",\"width\":0.5},\"pattern\":{\"fillmode\":\"overlay\",\"size\":10,\"solidity\":0.2}},\"type\":\"barpolar\"}],\"carpet\":[{\"aaxis\":{\"endlinecolor\":\"#2a3f5f\",\"gridcolor\":\"white\",\"linecolor\":\"white\",\"minorgridcolor\":\"white\",\"startlinecolor\":\"#2a3f5f\"},\"baxis\":{\"endlinecolor\":\"#2a3f5f\",\"gridcolor\":\"white\",\"linecolor\":\"white\",\"minorgridcolor\":\"white\",\"startlinecolor\":\"#2a3f5f\"},\"type\":\"carpet\"}],\"choropleth\":[{\"colorbar\":{\"outlinewidth\":0,\"ticks\":\"\"},\"type\":\"choropleth\"}],\"contour\":[{\"colorbar\":{\"outlinewidth\":0,\"ticks\":\"\"},\"colorscale\":[[0.0,\"#0d0887\"],[0.1111111111111111,\"#46039f\"],[0.2222222222222222,\"#7201a8\"],[0.3333333333333333,\"#9c179e\"],[0.4444444444444444,\"#bd3786\"],[0.5555555555555556,\"#d8576b\"],[0.6666666666666666,\"#ed7953\"],[0.7777777777777778,\"#fb9f3a\"],[0.8888888888888888,\"#fdca26\"],[1.0,\"#f0f921\"]],\"type\":\"contour\"}],\"contourcarpet\":[{\"colorbar\":{\"outlinewidth\":0,\"ticks\":\"\"},\"type\":\"contourcarpet\"}],\"heatmap\":[{\"colorbar\":{\"outlinewidth\":0,\"ticks\":\"\"},\"colorscale\":[[0.0,\"#0d0887\"],[0.1111111111111111,\"#46039f\"],[0.2222222222222222,\"#7201a8\"],[0.3333333333333333,\"#9c179e\"],[0.4444444444444444,\"#bd3786\"],[0.5555555555555556,\"#d8576b\"],[0.6666666666666666,\"#ed7953\"],[0.7777777777777778,\"#fb9f3a\"],[0.8888888888888888,\"#fdca26\"],[1.0,\"#f0f921\"]],\"type\":\"heatmap\"}],\"heatmapgl\":[{\"colorbar\":{\"outlinewidth\":0,\"ticks\":\"\"},\"colorscale\":[[0.0,\"#0d0887\"],[0.1111111111111111,\"#46039f\"],[0.2222222222222222,\"#7201a8\"],[0.3333333333333333,\"#9c179e\"],[0.4444444444444444,\"#bd3786\"],[0.5555555555555556,\"#d8576b\"],[0.6666666666666666,\"#ed7953\"],[0.7777777777777778,\"#fb9f3a\"],[0.8888888888888888,\"#fdca26\"],[1.0,\"#f0f921\"]],\"type\":\"heatmapgl\"}],\"histogram\":[{\"marker\":{\"pattern\":{\"fillmode\":\"overlay\",\"size\":10,\"solidity\":0.2}},\"type\":\"histogram\"}],\"histogram2d\":[{\"colorbar\":{\"outlinewidth\":0,\"ticks\":\"\"},\"colorscale\":[[0.0,\"#0d0887\"],[0.1111111111111111,\"#46039f\"],[0.2222222222222222,\"#7201a8\"],[0.3333333333333333,\"#9c179e\"],[0.4444444444444444,\"#bd3786\"],[0.5555555555555556,\"#d8576b\"],[0.6666666666666666,\"#ed7953\"],[0.7777777777777778,\"#fb9f3a\"],[0.8888888888888888,\"#fdca26\"],[1.0,\"#f0f921\"]],\"type\":\"histogram2d\"}],\"histogram2dcontour\":[{\"colorbar\":{\"outlinewidth\":0,\"ticks\":\"\"},\"colorscale\":[[0.0,\"#0d0887\"],[0.1111111111111111,\"#46039f\"],[0.2222222222222222,\"#7201a8\"],[0.3333333333333333,\"#9c179e\"],[0.4444444444444444,\"#bd3786\"],[0.5555555555555556,\"#d8576b\"],[0.6666666666666666,\"#ed7953\"],[0.7777777777777778,\"#fb9f3a\"],[0.8888888888888888,\"#fdca26\"],[1.0,\"#f0f921\"]],\"type\":\"histogram2dcontour\"}],\"mesh3d\":[{\"colorbar\":{\"outlinewidth\":0,\"ticks\":\"\"},\"type\":\"mesh3d\"}],\"parcoords\":[{\"line\":{\"colorbar\":{\"outlinewidth\":0,\"ticks\":\"\"}},\"type\":\"parcoords\"}],\"pie\":[{\"automargin\":true,\"type\":\"pie\"}],\"scatter\":[{\"marker\":{\"colorbar\":{\"outlinewidth\":0,\"ticks\":\"\"}},\"type\":\"scatter\"}],\"scatter3d\":[{\"line\":{\"colorbar\":{\"outlinewidth\":0,\"ticks\":\"\"}},\"marker\":{\"colorbar\":{\"outlinewidth\":0,\"ticks\":\"\"}},\"type\":\"scatter3d\"}],\"scattercarpet\":[{\"marker\":{\"colorbar\":{\"outlinewidth\":0,\"ticks\":\"\"}},\"type\":\"scattercarpet\"}],\"scattergeo\":[{\"marker\":{\"colorbar\":{\"outlinewidth\":0,\"ticks\":\"\"}},\"type\":\"scattergeo\"}],\"scattergl\":[{\"marker\":{\"colorbar\":{\"outlinewidth\":0,\"ticks\":\"\"}},\"type\":\"scattergl\"}],\"scattermapbox\":[{\"marker\":{\"colorbar\":{\"outlinewidth\":0,\"ticks\":\"\"}},\"type\":\"scattermapbox\"}],\"scatterpolar\":[{\"marker\":{\"colorbar\":{\"outlinewidth\":0,\"ticks\":\"\"}},\"type\":\"scatterpolar\"}],\"scatterpolargl\":[{\"marker\":{\"colorbar\":{\"outlinewidth\":0,\"ticks\":\"\"}},\"type\":\"scatterpolargl\"}],\"scatterternary\":[{\"marker\":{\"colorbar\":{\"outlinewidth\":0,\"ticks\":\"\"}},\"type\":\"scatterternary\"}],\"surface\":[{\"colorbar\":{\"outlinewidth\":0,\"ticks\":\"\"},\"colorscale\":[[0.0,\"#0d0887\"],[0.1111111111111111,\"#46039f\"],[0.2222222222222222,\"#7201a8\"],[0.3333333333333333,\"#9c179e\"],[0.4444444444444444,\"#bd3786\"],[0.5555555555555556,\"#d8576b\"],[0.6666666666666666,\"#ed7953\"],[0.7777777777777778,\"#fb9f3a\"],[0.8888888888888888,\"#fdca26\"],[1.0,\"#f0f921\"]],\"type\":\"surface\"}],\"table\":[{\"cells\":{\"fill\":{\"color\":\"#EBF0F8\"},\"line\":{\"color\":\"white\"}},\"header\":{\"fill\":{\"color\":\"#C8D4E3\"},\"line\":{\"color\":\"white\"}},\"type\":\"table\"}]},\"layout\":{\"annotationdefaults\":{\"arrowcolor\":\"#2a3f5f\",\"arrowhead\":0,\"arrowwidth\":1},\"autotypenumbers\":\"strict\",\"coloraxis\":{\"colorbar\":{\"outlinewidth\":0,\"ticks\":\"\"}},\"colorscale\":{\"diverging\":[[0,\"#8e0152\"],[0.1,\"#c51b7d\"],[0.2,\"#de77ae\"],[0.3,\"#f1b6da\"],[0.4,\"#fde0ef\"],[0.5,\"#f7f7f7\"],[0.6,\"#e6f5d0\"],[0.7,\"#b8e186\"],[0.8,\"#7fbc41\"],[0.9,\"#4d9221\"],[1,\"#276419\"]],\"sequential\":[[0.0,\"#0d0887\"],[0.1111111111111111,\"#46039f\"],[0.2222222222222222,\"#7201a8\"],[0.3333333333333333,\"#9c179e\"],[0.4444444444444444,\"#bd3786\"],[0.5555555555555556,\"#d8576b\"],[0.6666666666666666,\"#ed7953\"],[0.7777777777777778,\"#fb9f3a\"],[0.8888888888888888,\"#fdca26\"],[1.0,\"#f0f921\"]],\"sequentialminus\":[[0.0,\"#0d0887\"],[0.1111111111111111,\"#46039f\"],[0.2222222222222222,\"#7201a8\"],[0.3333333333333333,\"#9c179e\"],[0.4444444444444444,\"#bd3786\"],[0.5555555555555556,\"#d8576b\"],[0.6666666666666666,\"#ed7953\"],[0.7777777777777778,\"#fb9f3a\"],[0.8888888888888888,\"#fdca26\"],[1.0,\"#f0f921\"]]},\"colorway\":[\"#636efa\",\"#EF553B\",\"#00cc96\",\"#ab63fa\",\"#FFA15A\",\"#19d3f3\",\"#FF6692\",\"#B6E880\",\"#FF97FF\",\"#FECB52\"],\"font\":{\"color\":\"#2a3f5f\"},\"geo\":{\"bgcolor\":\"white\",\"lakecolor\":\"white\",\"landcolor\":\"#E5ECF6\",\"showlakes\":true,\"showland\":true,\"subunitcolor\":\"white\"},\"hoverlabel\":{\"align\":\"left\"},\"hovermode\":\"closest\",\"mapbox\":{\"style\":\"light\"},\"paper_bgcolor\":\"white\",\"plot_bgcolor\":\"#E5ECF6\",\"polar\":{\"angularaxis\":{\"gridcolor\":\"white\",\"linecolor\":\"white\",\"ticks\":\"\"},\"bgcolor\":\"#E5ECF6\",\"radialaxis\":{\"gridcolor\":\"white\",\"linecolor\":\"white\",\"ticks\":\"\"}},\"scene\":{\"xaxis\":{\"backgroundcolor\":\"#E5ECF6\",\"gridcolor\":\"white\",\"gridwidth\":2,\"linecolor\":\"white\",\"showbackground\":true,\"ticks\":\"\",\"zerolinecolor\":\"white\"},\"yaxis\":{\"backgroundcolor\":\"#E5ECF6\",\"gridcolor\":\"white\",\"gridwidth\":2,\"linecolor\":\"white\",\"showbackground\":true,\"ticks\":\"\",\"zerolinecolor\":\"white\"},\"zaxis\":{\"backgroundcolor\":\"#E5ECF6\",\"gridcolor\":\"white\",\"gridwidth\":2,\"linecolor\":\"white\",\"showbackground\":true,\"ticks\":\"\",\"zerolinecolor\":\"white\"}},\"shapedefaults\":{\"line\":{\"color\":\"#2a3f5f\"}},\"ternary\":{\"aaxis\":{\"gridcolor\":\"white\",\"linecolor\":\"white\",\"ticks\":\"\"},\"baxis\":{\"gridcolor\":\"white\",\"linecolor\":\"white\",\"ticks\":\"\"},\"bgcolor\":\"#E5ECF6\",\"caxis\":{\"gridcolor\":\"white\",\"linecolor\":\"white\",\"ticks\":\"\"}},\"title\":{\"x\":0.05},\"xaxis\":{\"automargin\":true,\"gridcolor\":\"white\",\"linecolor\":\"white\",\"ticks\":\"\",\"title\":{\"standoff\":15},\"zerolinecolor\":\"white\",\"zerolinewidth\":2},\"yaxis\":{\"automargin\":true,\"gridcolor\":\"white\",\"linecolor\":\"white\",\"ticks\":\"\",\"title\":{\"standoff\":15},\"zerolinecolor\":\"white\",\"zerolinewidth\":2}}},\"title\":{\"text\":\"temperature\"}},                        {\"responsive\": true}                    ).then(function(){\n                            \nvar gd = document.getElementById('982e6334-0eb3-4b2e-b670-ed984f2ab77e');\nvar x = new MutationObserver(function (mutations, observer) {{\n        var display = window.getComputedStyle(gd).display;\n        if (!display || display === 'none') {{\n            console.log([gd, 'removed!']);\n            Plotly.purge(gd);\n            observer.disconnect();\n        }}\n}});\n\n// Listen for the removal of the full notebook cells\nvar notebookContainer = gd.closest('#notebook-container');\nif (notebookContainer) {{\n    x.observe(notebookContainer, {childList: true});\n}}\n\n// Listen for the clearing of the current output cell\nvar outputEl = gd.closest('.output');\nif (outputEl) {{\n    x.observe(outputEl, {childList: true});\n}}\n\n                        })                };                });            </script>        </div>"
     },
     "metadata": {},
     "output_type": "display_data"
    },
    {
     "name": "stdout",
     "output_type": "stream",
     "text": [
      "period:  3  / 3\r\n",
      "________________________________________\n",
      "\n",
      "Energy saving potentials:      -10.80 %\n",
      "\n",
      "________________________________________\n",
      "\n",
      "DONE!\n",
      "storage volume:  200 liters\n",
      "addresse:  Karlsruhe\n"
     ]
    },
    {
     "data": {
      "application/vnd.plotly.v1+json": {
       "data": [
        {
         "name": "temperature",
         "x": [
          "2007-10-01T00:00:00",
          "2007-10-01T01:00:00",
          "2007-10-01T02:00:00",
          "2007-10-01T03:00:00",
          "2007-10-01T04:00:00",
          "2007-10-01T05:00:00",
          "2007-10-01T06:00:00",
          "2007-10-01T07:00:00",
          "2007-10-01T08:00:00",
          "2007-10-01T09:00:00",
          "2007-10-01T10:00:00",
          "2007-10-01T11:00:00",
          "2007-10-01T12:00:00",
          "2007-10-01T13:00:00",
          "2007-10-01T14:00:00",
          "2007-10-01T15:00:00",
          "2007-10-01T16:00:00",
          "2007-10-01T17:00:00",
          "2007-10-01T18:00:00",
          "2007-10-01T19:00:00",
          "2007-10-01T20:00:00",
          "2007-10-01T21:00:00",
          "2007-10-01T22:00:00",
          "2007-10-01T23:00:00",
          "2007-10-02T00:00:00",
          "2007-10-02T01:00:00",
          "2007-10-02T02:00:00",
          "2007-10-02T03:00:00",
          "2007-10-02T04:00:00",
          "2007-10-02T05:00:00",
          "2007-10-02T06:00:00",
          "2007-10-02T07:00:00",
          "2007-10-02T08:00:00",
          "2007-10-02T09:00:00",
          "2007-10-02T10:00:00",
          "2007-10-02T11:00:00",
          "2007-10-02T12:00:00",
          "2007-10-02T13:00:00",
          "2007-10-02T14:00:00",
          "2007-10-02T15:00:00",
          "2007-10-02T16:00:00",
          "2007-10-02T17:00:00",
          "2007-10-02T18:00:00",
          "2007-10-02T19:00:00",
          "2007-10-02T20:00:00",
          "2007-10-02T21:00:00",
          "2007-10-02T22:00:00",
          "2007-10-02T23:00:00",
          "2007-10-03T00:00:00",
          "2007-10-03T01:00:00",
          "2007-10-03T02:00:00",
          "2007-10-03T03:00:00",
          "2007-10-03T04:00:00",
          "2007-10-03T05:00:00",
          "2007-10-03T06:00:00",
          "2007-10-03T07:00:00",
          "2007-10-03T08:00:00",
          "2007-10-03T09:00:00",
          "2007-10-03T10:00:00",
          "2007-10-03T11:00:00",
          "2007-10-03T12:00:00",
          "2007-10-03T13:00:00",
          "2007-10-03T14:00:00",
          "2007-10-03T15:00:00",
          "2007-10-03T16:00:00",
          "2007-10-03T17:00:00",
          "2007-10-03T18:00:00",
          "2007-10-03T19:00:00",
          "2007-10-03T20:00:00",
          "2007-10-03T21:00:00",
          "2007-10-03T22:00:00",
          "2007-10-03T23:00:00",
          "2007-10-04T00:00:00",
          "2007-10-04T01:00:00",
          "2007-10-04T02:00:00",
          "2007-10-04T03:00:00",
          "2007-10-04T04:00:00",
          "2007-10-04T05:00:00",
          "2007-10-04T06:00:00",
          "2007-10-04T07:00:00",
          "2007-10-04T08:00:00",
          "2007-10-04T09:00:00",
          "2007-10-04T10:00:00",
          "2007-10-04T11:00:00",
          "2007-10-04T12:00:00",
          "2007-10-04T13:00:00",
          "2007-10-04T14:00:00",
          "2007-10-04T15:00:00",
          "2007-10-04T16:00:00",
          "2007-10-04T17:00:00",
          "2007-10-04T18:00:00",
          "2007-10-04T19:00:00",
          "2007-10-04T20:00:00",
          "2007-10-04T21:00:00",
          "2007-10-04T22:00:00",
          "2007-10-04T23:00:00",
          "2007-10-05T00:00:00"
         ],
         "y": [
          9.8,
          9.2,
          9.0,
          8.7,
          8.1,
          8.2,
          8.1,
          10.4,
          12.7,
          14.5,
          17.5,
          19.2,
          21.1,
          22.1,
          23.9,
          22.3,
          21.2,
          20.3,
          18.8,
          18.1,
          16.7,
          16.2,
          15.8,
          14.8,
          13.8,
          13.8,
          14.7,
          14.9,
          15.1,
          14.9,
          14.9,
          15.3,
          16.3,
          16.4,
          17.3,
          18.1,
          19.3,
          20.6,
          21.1,
          21.6,
          21.3,
          19.9,
          19.0,
          18.3,
          17.9,
          17.6,
          17.2,
          17.1,
          16.9,
          16.7,
          16.6,
          16.4,
          16.2,
          15.8,
          16.0,
          16.5,
          17.0,
          17.5,
          18.4,
          19.6,
          20.7,
          21.4,
          21.6,
          21.5,
          20.8,
          19.5,
          18.5,
          17.5,
          17.0,
          16.6,
          16.1,
          15.9,
          15.7,
          15.8,
          16.1,
          16.0,
          15.9,
          16.1,
          16.1,
          16.5,
          18.4,
          20.4,
          22.5,
          24.1,
          25.0,
          25.9,
          25.2,
          22.7,
          21.9,
          20.5,
          18.9,
          17.6,
          16.4,
          16.0,
          16.3,
          16.4,
          16.2
         ],
         "type": "scatter"
        },
        {
         "mode": "markers",
         "name": "local_minima",
         "x": [
          "2007-10-01T00:00:00",
          "2007-10-01T01:00:00",
          "2007-10-01T02:00:00",
          "2007-10-01T03:00:00",
          "2007-10-01T04:00:00",
          "2007-10-01T05:00:00",
          "2007-10-01T06:00:00",
          "2007-10-01T07:00:00",
          "2007-10-01T08:00:00",
          "2007-10-01T09:00:00",
          "2007-10-01T10:00:00",
          "2007-10-01T11:00:00",
          "2007-10-01T12:00:00",
          "2007-10-01T13:00:00",
          "2007-10-01T14:00:00",
          "2007-10-01T15:00:00",
          "2007-10-01T16:00:00",
          "2007-10-01T17:00:00",
          "2007-10-01T18:00:00",
          "2007-10-01T19:00:00",
          "2007-10-01T20:00:00",
          "2007-10-01T21:00:00",
          "2007-10-01T22:00:00",
          "2007-10-01T23:00:00",
          "2007-10-02T00:00:00",
          "2007-10-02T01:00:00",
          "2007-10-02T02:00:00",
          "2007-10-02T03:00:00",
          "2007-10-02T04:00:00",
          "2007-10-02T05:00:00",
          "2007-10-02T06:00:00",
          "2007-10-02T07:00:00",
          "2007-10-02T08:00:00",
          "2007-10-02T09:00:00",
          "2007-10-02T10:00:00",
          "2007-10-02T11:00:00",
          "2007-10-02T12:00:00",
          "2007-10-02T13:00:00",
          "2007-10-02T14:00:00",
          "2007-10-02T15:00:00",
          "2007-10-02T16:00:00",
          "2007-10-02T17:00:00",
          "2007-10-02T18:00:00",
          "2007-10-02T19:00:00",
          "2007-10-02T20:00:00",
          "2007-10-02T21:00:00",
          "2007-10-02T22:00:00",
          "2007-10-02T23:00:00",
          "2007-10-03T00:00:00",
          "2007-10-03T01:00:00",
          "2007-10-03T02:00:00",
          "2007-10-03T03:00:00",
          "2007-10-03T04:00:00",
          "2007-10-03T05:00:00",
          "2007-10-03T06:00:00",
          "2007-10-03T07:00:00",
          "2007-10-03T08:00:00",
          "2007-10-03T09:00:00",
          "2007-10-03T10:00:00",
          "2007-10-03T11:00:00",
          "2007-10-03T12:00:00",
          "2007-10-03T13:00:00",
          "2007-10-03T14:00:00",
          "2007-10-03T15:00:00",
          "2007-10-03T16:00:00",
          "2007-10-03T17:00:00",
          "2007-10-03T18:00:00",
          "2007-10-03T19:00:00",
          "2007-10-03T20:00:00",
          "2007-10-03T21:00:00",
          "2007-10-03T22:00:00",
          "2007-10-03T23:00:00",
          "2007-10-04T00:00:00",
          "2007-10-04T01:00:00",
          "2007-10-04T02:00:00",
          "2007-10-04T03:00:00",
          "2007-10-04T04:00:00",
          "2007-10-04T05:00:00",
          "2007-10-04T06:00:00",
          "2007-10-04T07:00:00",
          "2007-10-04T08:00:00",
          "2007-10-04T09:00:00",
          "2007-10-04T10:00:00",
          "2007-10-04T11:00:00",
          "2007-10-04T12:00:00",
          "2007-10-04T13:00:00",
          "2007-10-04T14:00:00",
          "2007-10-04T15:00:00",
          "2007-10-04T16:00:00",
          "2007-10-04T17:00:00",
          "2007-10-04T18:00:00",
          "2007-10-04T19:00:00",
          "2007-10-04T20:00:00",
          "2007-10-04T21:00:00",
          "2007-10-04T22:00:00",
          "2007-10-04T23:00:00",
          "2007-10-05T00:00:00"
         ],
         "y": [
          null,
          null,
          null,
          null,
          null,
          null,
          8.1,
          null,
          null,
          null,
          null,
          null,
          null,
          null,
          null,
          null,
          null,
          null,
          null,
          null,
          null,
          null,
          null,
          null,
          null,
          13.8,
          null,
          null,
          null,
          null,
          null,
          null,
          null,
          null,
          null,
          null,
          null,
          null,
          null,
          null,
          null,
          null,
          null,
          null,
          null,
          null,
          null,
          null,
          null,
          null,
          null,
          null,
          null,
          15.8,
          null,
          null,
          null,
          null,
          null,
          null,
          null,
          null,
          null,
          null,
          null,
          null,
          null,
          null,
          null,
          null,
          null,
          null,
          15.7,
          null,
          null,
          null,
          null,
          null,
          null,
          null,
          null,
          null,
          null,
          null,
          null,
          null,
          null,
          null,
          null,
          null,
          null,
          null,
          null,
          16.0,
          null,
          null,
          null
         ],
         "type": "scatter"
        },
        {
         "hovertext": [
          null,
          null,
          null,
          null,
          null,
          null,
          null,
          null,
          null,
          null,
          null,
          null,
          null,
          null,
          0.0,
          0.0,
          0.0,
          0.0,
          0.0,
          0.0,
          0.0,
          0.0,
          0.0,
          0.0,
          0.0,
          0.0,
          0.0,
          0.0,
          0.0,
          0.0,
          0.0,
          0.0,
          0.0,
          0.0,
          0.0,
          0.0,
          0.0,
          0.0,
          0.0,
          1.0,
          1.0,
          1.0,
          1.0,
          1.0,
          1.0,
          1.0,
          1.0,
          1.0,
          1.0,
          1.0,
          1.0,
          1.0,
          1.0,
          1.0,
          1.0,
          1.0,
          1.0,
          1.0,
          1.0,
          1.0,
          1.0,
          1.0,
          2.0,
          2.0,
          2.0,
          2.0,
          2.0,
          2.0,
          2.0,
          2.0,
          2.0,
          2.0,
          2.0,
          2.0,
          2.0,
          2.0,
          2.0,
          2.0,
          2.0,
          2.0,
          2.0,
          2.0,
          2.0,
          2.0,
          2.0,
          3.0,
          3.0,
          3.0,
          3.0,
          3.0,
          3.0,
          3.0,
          3.0,
          3.0,
          3.0,
          3.0,
          3.0
         ],
         "mode": "markers",
         "name": "local_maxima",
         "x": [
          "2007-10-01T00:00:00",
          "2007-10-01T01:00:00",
          "2007-10-01T02:00:00",
          "2007-10-01T03:00:00",
          "2007-10-01T04:00:00",
          "2007-10-01T05:00:00",
          "2007-10-01T06:00:00",
          "2007-10-01T07:00:00",
          "2007-10-01T08:00:00",
          "2007-10-01T09:00:00",
          "2007-10-01T10:00:00",
          "2007-10-01T11:00:00",
          "2007-10-01T12:00:00",
          "2007-10-01T13:00:00",
          "2007-10-01T14:00:00",
          "2007-10-01T15:00:00",
          "2007-10-01T16:00:00",
          "2007-10-01T17:00:00",
          "2007-10-01T18:00:00",
          "2007-10-01T19:00:00",
          "2007-10-01T20:00:00",
          "2007-10-01T21:00:00",
          "2007-10-01T22:00:00",
          "2007-10-01T23:00:00",
          "2007-10-02T00:00:00",
          "2007-10-02T01:00:00",
          "2007-10-02T02:00:00",
          "2007-10-02T03:00:00",
          "2007-10-02T04:00:00",
          "2007-10-02T05:00:00",
          "2007-10-02T06:00:00",
          "2007-10-02T07:00:00",
          "2007-10-02T08:00:00",
          "2007-10-02T09:00:00",
          "2007-10-02T10:00:00",
          "2007-10-02T11:00:00",
          "2007-10-02T12:00:00",
          "2007-10-02T13:00:00",
          "2007-10-02T14:00:00",
          "2007-10-02T15:00:00",
          "2007-10-02T16:00:00",
          "2007-10-02T17:00:00",
          "2007-10-02T18:00:00",
          "2007-10-02T19:00:00",
          "2007-10-02T20:00:00",
          "2007-10-02T21:00:00",
          "2007-10-02T22:00:00",
          "2007-10-02T23:00:00",
          "2007-10-03T00:00:00",
          "2007-10-03T01:00:00",
          "2007-10-03T02:00:00",
          "2007-10-03T03:00:00",
          "2007-10-03T04:00:00",
          "2007-10-03T05:00:00",
          "2007-10-03T06:00:00",
          "2007-10-03T07:00:00",
          "2007-10-03T08:00:00",
          "2007-10-03T09:00:00",
          "2007-10-03T10:00:00",
          "2007-10-03T11:00:00",
          "2007-10-03T12:00:00",
          "2007-10-03T13:00:00",
          "2007-10-03T14:00:00",
          "2007-10-03T15:00:00",
          "2007-10-03T16:00:00",
          "2007-10-03T17:00:00",
          "2007-10-03T18:00:00",
          "2007-10-03T19:00:00",
          "2007-10-03T20:00:00",
          "2007-10-03T21:00:00",
          "2007-10-03T22:00:00",
          "2007-10-03T23:00:00",
          "2007-10-04T00:00:00",
          "2007-10-04T01:00:00",
          "2007-10-04T02:00:00",
          "2007-10-04T03:00:00",
          "2007-10-04T04:00:00",
          "2007-10-04T05:00:00",
          "2007-10-04T06:00:00",
          "2007-10-04T07:00:00",
          "2007-10-04T08:00:00",
          "2007-10-04T09:00:00",
          "2007-10-04T10:00:00",
          "2007-10-04T11:00:00",
          "2007-10-04T12:00:00",
          "2007-10-04T13:00:00",
          "2007-10-04T14:00:00",
          "2007-10-04T15:00:00",
          "2007-10-04T16:00:00",
          "2007-10-04T17:00:00",
          "2007-10-04T18:00:00",
          "2007-10-04T19:00:00",
          "2007-10-04T20:00:00",
          "2007-10-04T21:00:00",
          "2007-10-04T22:00:00",
          "2007-10-04T23:00:00",
          "2007-10-05T00:00:00"
         ],
         "y": [
          null,
          null,
          null,
          null,
          null,
          null,
          null,
          null,
          null,
          null,
          null,
          null,
          null,
          null,
          23.9,
          null,
          null,
          null,
          null,
          null,
          null,
          null,
          null,
          null,
          null,
          null,
          null,
          null,
          null,
          null,
          null,
          null,
          null,
          null,
          null,
          null,
          null,
          null,
          null,
          21.6,
          null,
          null,
          null,
          null,
          null,
          null,
          null,
          null,
          null,
          null,
          null,
          null,
          null,
          null,
          null,
          null,
          null,
          null,
          null,
          null,
          null,
          null,
          21.6,
          null,
          null,
          null,
          null,
          null,
          null,
          null,
          null,
          null,
          null,
          null,
          null,
          null,
          null,
          null,
          null,
          null,
          null,
          null,
          null,
          null,
          null,
          25.9,
          null,
          null,
          null,
          null,
          null,
          null,
          null,
          null,
          null,
          null,
          null
         ],
         "type": "scatter"
        }
       ],
       "layout": {
        "template": {
         "data": {
          "bar": [
           {
            "error_x": {
             "color": "#2a3f5f"
            },
            "error_y": {
             "color": "#2a3f5f"
            },
            "marker": {
             "line": {
              "color": "#E5ECF6",
              "width": 0.5
             },
             "pattern": {
              "fillmode": "overlay",
              "size": 10,
              "solidity": 0.2
             }
            },
            "type": "bar"
           }
          ],
          "barpolar": [
           {
            "marker": {
             "line": {
              "color": "#E5ECF6",
              "width": 0.5
             },
             "pattern": {
              "fillmode": "overlay",
              "size": 10,
              "solidity": 0.2
             }
            },
            "type": "barpolar"
           }
          ],
          "carpet": [
           {
            "aaxis": {
             "endlinecolor": "#2a3f5f",
             "gridcolor": "white",
             "linecolor": "white",
             "minorgridcolor": "white",
             "startlinecolor": "#2a3f5f"
            },
            "baxis": {
             "endlinecolor": "#2a3f5f",
             "gridcolor": "white",
             "linecolor": "white",
             "minorgridcolor": "white",
             "startlinecolor": "#2a3f5f"
            },
            "type": "carpet"
           }
          ],
          "choropleth": [
           {
            "colorbar": {
             "outlinewidth": 0,
             "ticks": ""
            },
            "type": "choropleth"
           }
          ],
          "contour": [
           {
            "colorbar": {
             "outlinewidth": 0,
             "ticks": ""
            },
            "colorscale": [
             [
              0.0,
              "#0d0887"
             ],
             [
              0.1111111111111111,
              "#46039f"
             ],
             [
              0.2222222222222222,
              "#7201a8"
             ],
             [
              0.3333333333333333,
              "#9c179e"
             ],
             [
              0.4444444444444444,
              "#bd3786"
             ],
             [
              0.5555555555555556,
              "#d8576b"
             ],
             [
              0.6666666666666666,
              "#ed7953"
             ],
             [
              0.7777777777777778,
              "#fb9f3a"
             ],
             [
              0.8888888888888888,
              "#fdca26"
             ],
             [
              1.0,
              "#f0f921"
             ]
            ],
            "type": "contour"
           }
          ],
          "contourcarpet": [
           {
            "colorbar": {
             "outlinewidth": 0,
             "ticks": ""
            },
            "type": "contourcarpet"
           }
          ],
          "heatmap": [
           {
            "colorbar": {
             "outlinewidth": 0,
             "ticks": ""
            },
            "colorscale": [
             [
              0.0,
              "#0d0887"
             ],
             [
              0.1111111111111111,
              "#46039f"
             ],
             [
              0.2222222222222222,
              "#7201a8"
             ],
             [
              0.3333333333333333,
              "#9c179e"
             ],
             [
              0.4444444444444444,
              "#bd3786"
             ],
             [
              0.5555555555555556,
              "#d8576b"
             ],
             [
              0.6666666666666666,
              "#ed7953"
             ],
             [
              0.7777777777777778,
              "#fb9f3a"
             ],
             [
              0.8888888888888888,
              "#fdca26"
             ],
             [
              1.0,
              "#f0f921"
             ]
            ],
            "type": "heatmap"
           }
          ],
          "heatmapgl": [
           {
            "colorbar": {
             "outlinewidth": 0,
             "ticks": ""
            },
            "colorscale": [
             [
              0.0,
              "#0d0887"
             ],
             [
              0.1111111111111111,
              "#46039f"
             ],
             [
              0.2222222222222222,
              "#7201a8"
             ],
             [
              0.3333333333333333,
              "#9c179e"
             ],
             [
              0.4444444444444444,
              "#bd3786"
             ],
             [
              0.5555555555555556,
              "#d8576b"
             ],
             [
              0.6666666666666666,
              "#ed7953"
             ],
             [
              0.7777777777777778,
              "#fb9f3a"
             ],
             [
              0.8888888888888888,
              "#fdca26"
             ],
             [
              1.0,
              "#f0f921"
             ]
            ],
            "type": "heatmapgl"
           }
          ],
          "histogram": [
           {
            "marker": {
             "pattern": {
              "fillmode": "overlay",
              "size": 10,
              "solidity": 0.2
             }
            },
            "type": "histogram"
           }
          ],
          "histogram2d": [
           {
            "colorbar": {
             "outlinewidth": 0,
             "ticks": ""
            },
            "colorscale": [
             [
              0.0,
              "#0d0887"
             ],
             [
              0.1111111111111111,
              "#46039f"
             ],
             [
              0.2222222222222222,
              "#7201a8"
             ],
             [
              0.3333333333333333,
              "#9c179e"
             ],
             [
              0.4444444444444444,
              "#bd3786"
             ],
             [
              0.5555555555555556,
              "#d8576b"
             ],
             [
              0.6666666666666666,
              "#ed7953"
             ],
             [
              0.7777777777777778,
              "#fb9f3a"
             ],
             [
              0.8888888888888888,
              "#fdca26"
             ],
             [
              1.0,
              "#f0f921"
             ]
            ],
            "type": "histogram2d"
           }
          ],
          "histogram2dcontour": [
           {
            "colorbar": {
             "outlinewidth": 0,
             "ticks": ""
            },
            "colorscale": [
             [
              0.0,
              "#0d0887"
             ],
             [
              0.1111111111111111,
              "#46039f"
             ],
             [
              0.2222222222222222,
              "#7201a8"
             ],
             [
              0.3333333333333333,
              "#9c179e"
             ],
             [
              0.4444444444444444,
              "#bd3786"
             ],
             [
              0.5555555555555556,
              "#d8576b"
             ],
             [
              0.6666666666666666,
              "#ed7953"
             ],
             [
              0.7777777777777778,
              "#fb9f3a"
             ],
             [
              0.8888888888888888,
              "#fdca26"
             ],
             [
              1.0,
              "#f0f921"
             ]
            ],
            "type": "histogram2dcontour"
           }
          ],
          "mesh3d": [
           {
            "colorbar": {
             "outlinewidth": 0,
             "ticks": ""
            },
            "type": "mesh3d"
           }
          ],
          "parcoords": [
           {
            "line": {
             "colorbar": {
              "outlinewidth": 0,
              "ticks": ""
             }
            },
            "type": "parcoords"
           }
          ],
          "pie": [
           {
            "automargin": true,
            "type": "pie"
           }
          ],
          "scatter": [
           {
            "marker": {
             "colorbar": {
              "outlinewidth": 0,
              "ticks": ""
             }
            },
            "type": "scatter"
           }
          ],
          "scatter3d": [
           {
            "line": {
             "colorbar": {
              "outlinewidth": 0,
              "ticks": ""
             }
            },
            "marker": {
             "colorbar": {
              "outlinewidth": 0,
              "ticks": ""
             }
            },
            "type": "scatter3d"
           }
          ],
          "scattercarpet": [
           {
            "marker": {
             "colorbar": {
              "outlinewidth": 0,
              "ticks": ""
             }
            },
            "type": "scattercarpet"
           }
          ],
          "scattergeo": [
           {
            "marker": {
             "colorbar": {
              "outlinewidth": 0,
              "ticks": ""
             }
            },
            "type": "scattergeo"
           }
          ],
          "scattergl": [
           {
            "marker": {
             "colorbar": {
              "outlinewidth": 0,
              "ticks": ""
             }
            },
            "type": "scattergl"
           }
          ],
          "scattermapbox": [
           {
            "marker": {
             "colorbar": {
              "outlinewidth": 0,
              "ticks": ""
             }
            },
            "type": "scattermapbox"
           }
          ],
          "scatterpolar": [
           {
            "marker": {
             "colorbar": {
              "outlinewidth": 0,
              "ticks": ""
             }
            },
            "type": "scatterpolar"
           }
          ],
          "scatterpolargl": [
           {
            "marker": {
             "colorbar": {
              "outlinewidth": 0,
              "ticks": ""
             }
            },
            "type": "scatterpolargl"
           }
          ],
          "scatterternary": [
           {
            "marker": {
             "colorbar": {
              "outlinewidth": 0,
              "ticks": ""
             }
            },
            "type": "scatterternary"
           }
          ],
          "surface": [
           {
            "colorbar": {
             "outlinewidth": 0,
             "ticks": ""
            },
            "colorscale": [
             [
              0.0,
              "#0d0887"
             ],
             [
              0.1111111111111111,
              "#46039f"
             ],
             [
              0.2222222222222222,
              "#7201a8"
             ],
             [
              0.3333333333333333,
              "#9c179e"
             ],
             [
              0.4444444444444444,
              "#bd3786"
             ],
             [
              0.5555555555555556,
              "#d8576b"
             ],
             [
              0.6666666666666666,
              "#ed7953"
             ],
             [
              0.7777777777777778,
              "#fb9f3a"
             ],
             [
              0.8888888888888888,
              "#fdca26"
             ],
             [
              1.0,
              "#f0f921"
             ]
            ],
            "type": "surface"
           }
          ],
          "table": [
           {
            "cells": {
             "fill": {
              "color": "#EBF0F8"
             },
             "line": {
              "color": "white"
             }
            },
            "header": {
             "fill": {
              "color": "#C8D4E3"
             },
             "line": {
              "color": "white"
             }
            },
            "type": "table"
           }
          ]
         },
         "layout": {
          "annotationdefaults": {
           "arrowcolor": "#2a3f5f",
           "arrowhead": 0,
           "arrowwidth": 1
          },
          "autotypenumbers": "strict",
          "coloraxis": {
           "colorbar": {
            "outlinewidth": 0,
            "ticks": ""
           }
          },
          "colorscale": {
           "diverging": [
            [
             0,
             "#8e0152"
            ],
            [
             0.1,
             "#c51b7d"
            ],
            [
             0.2,
             "#de77ae"
            ],
            [
             0.3,
             "#f1b6da"
            ],
            [
             0.4,
             "#fde0ef"
            ],
            [
             0.5,
             "#f7f7f7"
            ],
            [
             0.6,
             "#e6f5d0"
            ],
            [
             0.7,
             "#b8e186"
            ],
            [
             0.8,
             "#7fbc41"
            ],
            [
             0.9,
             "#4d9221"
            ],
            [
             1,
             "#276419"
            ]
           ],
           "sequential": [
            [
             0.0,
             "#0d0887"
            ],
            [
             0.1111111111111111,
             "#46039f"
            ],
            [
             0.2222222222222222,
             "#7201a8"
            ],
            [
             0.3333333333333333,
             "#9c179e"
            ],
            [
             0.4444444444444444,
             "#bd3786"
            ],
            [
             0.5555555555555556,
             "#d8576b"
            ],
            [
             0.6666666666666666,
             "#ed7953"
            ],
            [
             0.7777777777777778,
             "#fb9f3a"
            ],
            [
             0.8888888888888888,
             "#fdca26"
            ],
            [
             1.0,
             "#f0f921"
            ]
           ],
           "sequentialminus": [
            [
             0.0,
             "#0d0887"
            ],
            [
             0.1111111111111111,
             "#46039f"
            ],
            [
             0.2222222222222222,
             "#7201a8"
            ],
            [
             0.3333333333333333,
             "#9c179e"
            ],
            [
             0.4444444444444444,
             "#bd3786"
            ],
            [
             0.5555555555555556,
             "#d8576b"
            ],
            [
             0.6666666666666666,
             "#ed7953"
            ],
            [
             0.7777777777777778,
             "#fb9f3a"
            ],
            [
             0.8888888888888888,
             "#fdca26"
            ],
            [
             1.0,
             "#f0f921"
            ]
           ]
          },
          "colorway": [
           "#636efa",
           "#EF553B",
           "#00cc96",
           "#ab63fa",
           "#FFA15A",
           "#19d3f3",
           "#FF6692",
           "#B6E880",
           "#FF97FF",
           "#FECB52"
          ],
          "font": {
           "color": "#2a3f5f"
          },
          "geo": {
           "bgcolor": "white",
           "lakecolor": "white",
           "landcolor": "#E5ECF6",
           "showlakes": true,
           "showland": true,
           "subunitcolor": "white"
          },
          "hoverlabel": {
           "align": "left"
          },
          "hovermode": "closest",
          "mapbox": {
           "style": "light"
          },
          "paper_bgcolor": "white",
          "plot_bgcolor": "#E5ECF6",
          "polar": {
           "angularaxis": {
            "gridcolor": "white",
            "linecolor": "white",
            "ticks": ""
           },
           "bgcolor": "#E5ECF6",
           "radialaxis": {
            "gridcolor": "white",
            "linecolor": "white",
            "ticks": ""
           }
          },
          "scene": {
           "xaxis": {
            "backgroundcolor": "#E5ECF6",
            "gridcolor": "white",
            "gridwidth": 2,
            "linecolor": "white",
            "showbackground": true,
            "ticks": "",
            "zerolinecolor": "white"
           },
           "yaxis": {
            "backgroundcolor": "#E5ECF6",
            "gridcolor": "white",
            "gridwidth": 2,
            "linecolor": "white",
            "showbackground": true,
            "ticks": "",
            "zerolinecolor": "white"
           },
           "zaxis": {
            "backgroundcolor": "#E5ECF6",
            "gridcolor": "white",
            "gridwidth": 2,
            "linecolor": "white",
            "showbackground": true,
            "ticks": "",
            "zerolinecolor": "white"
           }
          },
          "shapedefaults": {
           "line": {
            "color": "#2a3f5f"
           }
          },
          "ternary": {
           "aaxis": {
            "gridcolor": "white",
            "linecolor": "white",
            "ticks": ""
           },
           "baxis": {
            "gridcolor": "white",
            "linecolor": "white",
            "ticks": ""
           },
           "bgcolor": "#E5ECF6",
           "caxis": {
            "gridcolor": "white",
            "linecolor": "white",
            "ticks": ""
           }
          },
          "title": {
           "x": 0.05
          },
          "xaxis": {
           "automargin": true,
           "gridcolor": "white",
           "linecolor": "white",
           "ticks": "",
           "title": {
            "standoff": 15
           },
           "zerolinecolor": "white",
           "zerolinewidth": 2
          },
          "yaxis": {
           "automargin": true,
           "gridcolor": "white",
           "linecolor": "white",
           "ticks": "",
           "title": {
            "standoff": 15
           },
           "zerolinecolor": "white",
           "zerolinewidth": 2
          }
         }
        },
        "title": {
         "text": "temperature"
        }
       },
       "config": {
        "plotlyServerURL": "https://plot.ly"
       }
      },
      "text/html": "<div>                            <div id=\"e030191c-9def-470c-befb-299d4b0f2245\" class=\"plotly-graph-div\" style=\"height:525px; width:100%;\"></div>            <script type=\"text/javascript\">                require([\"plotly\"], function(Plotly) {                    window.PLOTLYENV=window.PLOTLYENV || {};                                    if (document.getElementById(\"e030191c-9def-470c-befb-299d4b0f2245\")) {                    Plotly.newPlot(                        \"e030191c-9def-470c-befb-299d4b0f2245\",                        [{\"name\":\"temperature\",\"x\":[\"2007-10-01T00:00:00\",\"2007-10-01T01:00:00\",\"2007-10-01T02:00:00\",\"2007-10-01T03:00:00\",\"2007-10-01T04:00:00\",\"2007-10-01T05:00:00\",\"2007-10-01T06:00:00\",\"2007-10-01T07:00:00\",\"2007-10-01T08:00:00\",\"2007-10-01T09:00:00\",\"2007-10-01T10:00:00\",\"2007-10-01T11:00:00\",\"2007-10-01T12:00:00\",\"2007-10-01T13:00:00\",\"2007-10-01T14:00:00\",\"2007-10-01T15:00:00\",\"2007-10-01T16:00:00\",\"2007-10-01T17:00:00\",\"2007-10-01T18:00:00\",\"2007-10-01T19:00:00\",\"2007-10-01T20:00:00\",\"2007-10-01T21:00:00\",\"2007-10-01T22:00:00\",\"2007-10-01T23:00:00\",\"2007-10-02T00:00:00\",\"2007-10-02T01:00:00\",\"2007-10-02T02:00:00\",\"2007-10-02T03:00:00\",\"2007-10-02T04:00:00\",\"2007-10-02T05:00:00\",\"2007-10-02T06:00:00\",\"2007-10-02T07:00:00\",\"2007-10-02T08:00:00\",\"2007-10-02T09:00:00\",\"2007-10-02T10:00:00\",\"2007-10-02T11:00:00\",\"2007-10-02T12:00:00\",\"2007-10-02T13:00:00\",\"2007-10-02T14:00:00\",\"2007-10-02T15:00:00\",\"2007-10-02T16:00:00\",\"2007-10-02T17:00:00\",\"2007-10-02T18:00:00\",\"2007-10-02T19:00:00\",\"2007-10-02T20:00:00\",\"2007-10-02T21:00:00\",\"2007-10-02T22:00:00\",\"2007-10-02T23:00:00\",\"2007-10-03T00:00:00\",\"2007-10-03T01:00:00\",\"2007-10-03T02:00:00\",\"2007-10-03T03:00:00\",\"2007-10-03T04:00:00\",\"2007-10-03T05:00:00\",\"2007-10-03T06:00:00\",\"2007-10-03T07:00:00\",\"2007-10-03T08:00:00\",\"2007-10-03T09:00:00\",\"2007-10-03T10:00:00\",\"2007-10-03T11:00:00\",\"2007-10-03T12:00:00\",\"2007-10-03T13:00:00\",\"2007-10-03T14:00:00\",\"2007-10-03T15:00:00\",\"2007-10-03T16:00:00\",\"2007-10-03T17:00:00\",\"2007-10-03T18:00:00\",\"2007-10-03T19:00:00\",\"2007-10-03T20:00:00\",\"2007-10-03T21:00:00\",\"2007-10-03T22:00:00\",\"2007-10-03T23:00:00\",\"2007-10-04T00:00:00\",\"2007-10-04T01:00:00\",\"2007-10-04T02:00:00\",\"2007-10-04T03:00:00\",\"2007-10-04T04:00:00\",\"2007-10-04T05:00:00\",\"2007-10-04T06:00:00\",\"2007-10-04T07:00:00\",\"2007-10-04T08:00:00\",\"2007-10-04T09:00:00\",\"2007-10-04T10:00:00\",\"2007-10-04T11:00:00\",\"2007-10-04T12:00:00\",\"2007-10-04T13:00:00\",\"2007-10-04T14:00:00\",\"2007-10-04T15:00:00\",\"2007-10-04T16:00:00\",\"2007-10-04T17:00:00\",\"2007-10-04T18:00:00\",\"2007-10-04T19:00:00\",\"2007-10-04T20:00:00\",\"2007-10-04T21:00:00\",\"2007-10-04T22:00:00\",\"2007-10-04T23:00:00\",\"2007-10-05T00:00:00\"],\"y\":[9.8,9.2,9.0,8.7,8.1,8.2,8.1,10.4,12.7,14.5,17.5,19.2,21.1,22.1,23.9,22.3,21.2,20.3,18.8,18.1,16.7,16.2,15.8,14.8,13.8,13.8,14.7,14.9,15.1,14.9,14.9,15.3,16.3,16.4,17.3,18.1,19.3,20.6,21.1,21.6,21.3,19.9,19.0,18.3,17.9,17.6,17.2,17.1,16.9,16.7,16.6,16.4,16.2,15.8,16.0,16.5,17.0,17.5,18.4,19.6,20.7,21.4,21.6,21.5,20.8,19.5,18.5,17.5,17.0,16.6,16.1,15.9,15.7,15.8,16.1,16.0,15.9,16.1,16.1,16.5,18.4,20.4,22.5,24.1,25.0,25.9,25.2,22.7,21.9,20.5,18.9,17.6,16.4,16.0,16.3,16.4,16.2],\"type\":\"scatter\"},{\"mode\":\"markers\",\"name\":\"local_minima\",\"x\":[\"2007-10-01T00:00:00\",\"2007-10-01T01:00:00\",\"2007-10-01T02:00:00\",\"2007-10-01T03:00:00\",\"2007-10-01T04:00:00\",\"2007-10-01T05:00:00\",\"2007-10-01T06:00:00\",\"2007-10-01T07:00:00\",\"2007-10-01T08:00:00\",\"2007-10-01T09:00:00\",\"2007-10-01T10:00:00\",\"2007-10-01T11:00:00\",\"2007-10-01T12:00:00\",\"2007-10-01T13:00:00\",\"2007-10-01T14:00:00\",\"2007-10-01T15:00:00\",\"2007-10-01T16:00:00\",\"2007-10-01T17:00:00\",\"2007-10-01T18:00:00\",\"2007-10-01T19:00:00\",\"2007-10-01T20:00:00\",\"2007-10-01T21:00:00\",\"2007-10-01T22:00:00\",\"2007-10-01T23:00:00\",\"2007-10-02T00:00:00\",\"2007-10-02T01:00:00\",\"2007-10-02T02:00:00\",\"2007-10-02T03:00:00\",\"2007-10-02T04:00:00\",\"2007-10-02T05:00:00\",\"2007-10-02T06:00:00\",\"2007-10-02T07:00:00\",\"2007-10-02T08:00:00\",\"2007-10-02T09:00:00\",\"2007-10-02T10:00:00\",\"2007-10-02T11:00:00\",\"2007-10-02T12:00:00\",\"2007-10-02T13:00:00\",\"2007-10-02T14:00:00\",\"2007-10-02T15:00:00\",\"2007-10-02T16:00:00\",\"2007-10-02T17:00:00\",\"2007-10-02T18:00:00\",\"2007-10-02T19:00:00\",\"2007-10-02T20:00:00\",\"2007-10-02T21:00:00\",\"2007-10-02T22:00:00\",\"2007-10-02T23:00:00\",\"2007-10-03T00:00:00\",\"2007-10-03T01:00:00\",\"2007-10-03T02:00:00\",\"2007-10-03T03:00:00\",\"2007-10-03T04:00:00\",\"2007-10-03T05:00:00\",\"2007-10-03T06:00:00\",\"2007-10-03T07:00:00\",\"2007-10-03T08:00:00\",\"2007-10-03T09:00:00\",\"2007-10-03T10:00:00\",\"2007-10-03T11:00:00\",\"2007-10-03T12:00:00\",\"2007-10-03T13:00:00\",\"2007-10-03T14:00:00\",\"2007-10-03T15:00:00\",\"2007-10-03T16:00:00\",\"2007-10-03T17:00:00\",\"2007-10-03T18:00:00\",\"2007-10-03T19:00:00\",\"2007-10-03T20:00:00\",\"2007-10-03T21:00:00\",\"2007-10-03T22:00:00\",\"2007-10-03T23:00:00\",\"2007-10-04T00:00:00\",\"2007-10-04T01:00:00\",\"2007-10-04T02:00:00\",\"2007-10-04T03:00:00\",\"2007-10-04T04:00:00\",\"2007-10-04T05:00:00\",\"2007-10-04T06:00:00\",\"2007-10-04T07:00:00\",\"2007-10-04T08:00:00\",\"2007-10-04T09:00:00\",\"2007-10-04T10:00:00\",\"2007-10-04T11:00:00\",\"2007-10-04T12:00:00\",\"2007-10-04T13:00:00\",\"2007-10-04T14:00:00\",\"2007-10-04T15:00:00\",\"2007-10-04T16:00:00\",\"2007-10-04T17:00:00\",\"2007-10-04T18:00:00\",\"2007-10-04T19:00:00\",\"2007-10-04T20:00:00\",\"2007-10-04T21:00:00\",\"2007-10-04T22:00:00\",\"2007-10-04T23:00:00\",\"2007-10-05T00:00:00\"],\"y\":[null,null,null,null,null,null,8.1,null,null,null,null,null,null,null,null,null,null,null,null,null,null,null,null,null,null,13.8,null,null,null,null,null,null,null,null,null,null,null,null,null,null,null,null,null,null,null,null,null,null,null,null,null,null,null,15.8,null,null,null,null,null,null,null,null,null,null,null,null,null,null,null,null,null,null,15.7,null,null,null,null,null,null,null,null,null,null,null,null,null,null,null,null,null,null,null,null,16.0,null,null,null],\"type\":\"scatter\"},{\"hovertext\":[null,null,null,null,null,null,null,null,null,null,null,null,null,null,0.0,0.0,0.0,0.0,0.0,0.0,0.0,0.0,0.0,0.0,0.0,0.0,0.0,0.0,0.0,0.0,0.0,0.0,0.0,0.0,0.0,0.0,0.0,0.0,0.0,1.0,1.0,1.0,1.0,1.0,1.0,1.0,1.0,1.0,1.0,1.0,1.0,1.0,1.0,1.0,1.0,1.0,1.0,1.0,1.0,1.0,1.0,1.0,2.0,2.0,2.0,2.0,2.0,2.0,2.0,2.0,2.0,2.0,2.0,2.0,2.0,2.0,2.0,2.0,2.0,2.0,2.0,2.0,2.0,2.0,2.0,3.0,3.0,3.0,3.0,3.0,3.0,3.0,3.0,3.0,3.0,3.0,3.0],\"mode\":\"markers\",\"name\":\"local_maxima\",\"x\":[\"2007-10-01T00:00:00\",\"2007-10-01T01:00:00\",\"2007-10-01T02:00:00\",\"2007-10-01T03:00:00\",\"2007-10-01T04:00:00\",\"2007-10-01T05:00:00\",\"2007-10-01T06:00:00\",\"2007-10-01T07:00:00\",\"2007-10-01T08:00:00\",\"2007-10-01T09:00:00\",\"2007-10-01T10:00:00\",\"2007-10-01T11:00:00\",\"2007-10-01T12:00:00\",\"2007-10-01T13:00:00\",\"2007-10-01T14:00:00\",\"2007-10-01T15:00:00\",\"2007-10-01T16:00:00\",\"2007-10-01T17:00:00\",\"2007-10-01T18:00:00\",\"2007-10-01T19:00:00\",\"2007-10-01T20:00:00\",\"2007-10-01T21:00:00\",\"2007-10-01T22:00:00\",\"2007-10-01T23:00:00\",\"2007-10-02T00:00:00\",\"2007-10-02T01:00:00\",\"2007-10-02T02:00:00\",\"2007-10-02T03:00:00\",\"2007-10-02T04:00:00\",\"2007-10-02T05:00:00\",\"2007-10-02T06:00:00\",\"2007-10-02T07:00:00\",\"2007-10-02T08:00:00\",\"2007-10-02T09:00:00\",\"2007-10-02T10:00:00\",\"2007-10-02T11:00:00\",\"2007-10-02T12:00:00\",\"2007-10-02T13:00:00\",\"2007-10-02T14:00:00\",\"2007-10-02T15:00:00\",\"2007-10-02T16:00:00\",\"2007-10-02T17:00:00\",\"2007-10-02T18:00:00\",\"2007-10-02T19:00:00\",\"2007-10-02T20:00:00\",\"2007-10-02T21:00:00\",\"2007-10-02T22:00:00\",\"2007-10-02T23:00:00\",\"2007-10-03T00:00:00\",\"2007-10-03T01:00:00\",\"2007-10-03T02:00:00\",\"2007-10-03T03:00:00\",\"2007-10-03T04:00:00\",\"2007-10-03T05:00:00\",\"2007-10-03T06:00:00\",\"2007-10-03T07:00:00\",\"2007-10-03T08:00:00\",\"2007-10-03T09:00:00\",\"2007-10-03T10:00:00\",\"2007-10-03T11:00:00\",\"2007-10-03T12:00:00\",\"2007-10-03T13:00:00\",\"2007-10-03T14:00:00\",\"2007-10-03T15:00:00\",\"2007-10-03T16:00:00\",\"2007-10-03T17:00:00\",\"2007-10-03T18:00:00\",\"2007-10-03T19:00:00\",\"2007-10-03T20:00:00\",\"2007-10-03T21:00:00\",\"2007-10-03T22:00:00\",\"2007-10-03T23:00:00\",\"2007-10-04T00:00:00\",\"2007-10-04T01:00:00\",\"2007-10-04T02:00:00\",\"2007-10-04T03:00:00\",\"2007-10-04T04:00:00\",\"2007-10-04T05:00:00\",\"2007-10-04T06:00:00\",\"2007-10-04T07:00:00\",\"2007-10-04T08:00:00\",\"2007-10-04T09:00:00\",\"2007-10-04T10:00:00\",\"2007-10-04T11:00:00\",\"2007-10-04T12:00:00\",\"2007-10-04T13:00:00\",\"2007-10-04T14:00:00\",\"2007-10-04T15:00:00\",\"2007-10-04T16:00:00\",\"2007-10-04T17:00:00\",\"2007-10-04T18:00:00\",\"2007-10-04T19:00:00\",\"2007-10-04T20:00:00\",\"2007-10-04T21:00:00\",\"2007-10-04T22:00:00\",\"2007-10-04T23:00:00\",\"2007-10-05T00:00:00\"],\"y\":[null,null,null,null,null,null,null,null,null,null,null,null,null,null,23.9,null,null,null,null,null,null,null,null,null,null,null,null,null,null,null,null,null,null,null,null,null,null,null,null,21.6,null,null,null,null,null,null,null,null,null,null,null,null,null,null,null,null,null,null,null,null,null,null,21.6,null,null,null,null,null,null,null,null,null,null,null,null,null,null,null,null,null,null,null,null,null,null,25.9,null,null,null,null,null,null,null,null,null,null,null],\"type\":\"scatter\"}],                        {\"template\":{\"data\":{\"bar\":[{\"error_x\":{\"color\":\"#2a3f5f\"},\"error_y\":{\"color\":\"#2a3f5f\"},\"marker\":{\"line\":{\"color\":\"#E5ECF6\",\"width\":0.5},\"pattern\":{\"fillmode\":\"overlay\",\"size\":10,\"solidity\":0.2}},\"type\":\"bar\"}],\"barpolar\":[{\"marker\":{\"line\":{\"color\":\"#E5ECF6\",\"width\":0.5},\"pattern\":{\"fillmode\":\"overlay\",\"size\":10,\"solidity\":0.2}},\"type\":\"barpolar\"}],\"carpet\":[{\"aaxis\":{\"endlinecolor\":\"#2a3f5f\",\"gridcolor\":\"white\",\"linecolor\":\"white\",\"minorgridcolor\":\"white\",\"startlinecolor\":\"#2a3f5f\"},\"baxis\":{\"endlinecolor\":\"#2a3f5f\",\"gridcolor\":\"white\",\"linecolor\":\"white\",\"minorgridcolor\":\"white\",\"startlinecolor\":\"#2a3f5f\"},\"type\":\"carpet\"}],\"choropleth\":[{\"colorbar\":{\"outlinewidth\":0,\"ticks\":\"\"},\"type\":\"choropleth\"}],\"contour\":[{\"colorbar\":{\"outlinewidth\":0,\"ticks\":\"\"},\"colorscale\":[[0.0,\"#0d0887\"],[0.1111111111111111,\"#46039f\"],[0.2222222222222222,\"#7201a8\"],[0.3333333333333333,\"#9c179e\"],[0.4444444444444444,\"#bd3786\"],[0.5555555555555556,\"#d8576b\"],[0.6666666666666666,\"#ed7953\"],[0.7777777777777778,\"#fb9f3a\"],[0.8888888888888888,\"#fdca26\"],[1.0,\"#f0f921\"]],\"type\":\"contour\"}],\"contourcarpet\":[{\"colorbar\":{\"outlinewidth\":0,\"ticks\":\"\"},\"type\":\"contourcarpet\"}],\"heatmap\":[{\"colorbar\":{\"outlinewidth\":0,\"ticks\":\"\"},\"colorscale\":[[0.0,\"#0d0887\"],[0.1111111111111111,\"#46039f\"],[0.2222222222222222,\"#7201a8\"],[0.3333333333333333,\"#9c179e\"],[0.4444444444444444,\"#bd3786\"],[0.5555555555555556,\"#d8576b\"],[0.6666666666666666,\"#ed7953\"],[0.7777777777777778,\"#fb9f3a\"],[0.8888888888888888,\"#fdca26\"],[1.0,\"#f0f921\"]],\"type\":\"heatmap\"}],\"heatmapgl\":[{\"colorbar\":{\"outlinewidth\":0,\"ticks\":\"\"},\"colorscale\":[[0.0,\"#0d0887\"],[0.1111111111111111,\"#46039f\"],[0.2222222222222222,\"#7201a8\"],[0.3333333333333333,\"#9c179e\"],[0.4444444444444444,\"#bd3786\"],[0.5555555555555556,\"#d8576b\"],[0.6666666666666666,\"#ed7953\"],[0.7777777777777778,\"#fb9f3a\"],[0.8888888888888888,\"#fdca26\"],[1.0,\"#f0f921\"]],\"type\":\"heatmapgl\"}],\"histogram\":[{\"marker\":{\"pattern\":{\"fillmode\":\"overlay\",\"size\":10,\"solidity\":0.2}},\"type\":\"histogram\"}],\"histogram2d\":[{\"colorbar\":{\"outlinewidth\":0,\"ticks\":\"\"},\"colorscale\":[[0.0,\"#0d0887\"],[0.1111111111111111,\"#46039f\"],[0.2222222222222222,\"#7201a8\"],[0.3333333333333333,\"#9c179e\"],[0.4444444444444444,\"#bd3786\"],[0.5555555555555556,\"#d8576b\"],[0.6666666666666666,\"#ed7953\"],[0.7777777777777778,\"#fb9f3a\"],[0.8888888888888888,\"#fdca26\"],[1.0,\"#f0f921\"]],\"type\":\"histogram2d\"}],\"histogram2dcontour\":[{\"colorbar\":{\"outlinewidth\":0,\"ticks\":\"\"},\"colorscale\":[[0.0,\"#0d0887\"],[0.1111111111111111,\"#46039f\"],[0.2222222222222222,\"#7201a8\"],[0.3333333333333333,\"#9c179e\"],[0.4444444444444444,\"#bd3786\"],[0.5555555555555556,\"#d8576b\"],[0.6666666666666666,\"#ed7953\"],[0.7777777777777778,\"#fb9f3a\"],[0.8888888888888888,\"#fdca26\"],[1.0,\"#f0f921\"]],\"type\":\"histogram2dcontour\"}],\"mesh3d\":[{\"colorbar\":{\"outlinewidth\":0,\"ticks\":\"\"},\"type\":\"mesh3d\"}],\"parcoords\":[{\"line\":{\"colorbar\":{\"outlinewidth\":0,\"ticks\":\"\"}},\"type\":\"parcoords\"}],\"pie\":[{\"automargin\":true,\"type\":\"pie\"}],\"scatter\":[{\"marker\":{\"colorbar\":{\"outlinewidth\":0,\"ticks\":\"\"}},\"type\":\"scatter\"}],\"scatter3d\":[{\"line\":{\"colorbar\":{\"outlinewidth\":0,\"ticks\":\"\"}},\"marker\":{\"colorbar\":{\"outlinewidth\":0,\"ticks\":\"\"}},\"type\":\"scatter3d\"}],\"scattercarpet\":[{\"marker\":{\"colorbar\":{\"outlinewidth\":0,\"ticks\":\"\"}},\"type\":\"scattercarpet\"}],\"scattergeo\":[{\"marker\":{\"colorbar\":{\"outlinewidth\":0,\"ticks\":\"\"}},\"type\":\"scattergeo\"}],\"scattergl\":[{\"marker\":{\"colorbar\":{\"outlinewidth\":0,\"ticks\":\"\"}},\"type\":\"scattergl\"}],\"scattermapbox\":[{\"marker\":{\"colorbar\":{\"outlinewidth\":0,\"ticks\":\"\"}},\"type\":\"scattermapbox\"}],\"scatterpolar\":[{\"marker\":{\"colorbar\":{\"outlinewidth\":0,\"ticks\":\"\"}},\"type\":\"scatterpolar\"}],\"scatterpolargl\":[{\"marker\":{\"colorbar\":{\"outlinewidth\":0,\"ticks\":\"\"}},\"type\":\"scatterpolargl\"}],\"scatterternary\":[{\"marker\":{\"colorbar\":{\"outlinewidth\":0,\"ticks\":\"\"}},\"type\":\"scatterternary\"}],\"surface\":[{\"colorbar\":{\"outlinewidth\":0,\"ticks\":\"\"},\"colorscale\":[[0.0,\"#0d0887\"],[0.1111111111111111,\"#46039f\"],[0.2222222222222222,\"#7201a8\"],[0.3333333333333333,\"#9c179e\"],[0.4444444444444444,\"#bd3786\"],[0.5555555555555556,\"#d8576b\"],[0.6666666666666666,\"#ed7953\"],[0.7777777777777778,\"#fb9f3a\"],[0.8888888888888888,\"#fdca26\"],[1.0,\"#f0f921\"]],\"type\":\"surface\"}],\"table\":[{\"cells\":{\"fill\":{\"color\":\"#EBF0F8\"},\"line\":{\"color\":\"white\"}},\"header\":{\"fill\":{\"color\":\"#C8D4E3\"},\"line\":{\"color\":\"white\"}},\"type\":\"table\"}]},\"layout\":{\"annotationdefaults\":{\"arrowcolor\":\"#2a3f5f\",\"arrowhead\":0,\"arrowwidth\":1},\"autotypenumbers\":\"strict\",\"coloraxis\":{\"colorbar\":{\"outlinewidth\":0,\"ticks\":\"\"}},\"colorscale\":{\"diverging\":[[0,\"#8e0152\"],[0.1,\"#c51b7d\"],[0.2,\"#de77ae\"],[0.3,\"#f1b6da\"],[0.4,\"#fde0ef\"],[0.5,\"#f7f7f7\"],[0.6,\"#e6f5d0\"],[0.7,\"#b8e186\"],[0.8,\"#7fbc41\"],[0.9,\"#4d9221\"],[1,\"#276419\"]],\"sequential\":[[0.0,\"#0d0887\"],[0.1111111111111111,\"#46039f\"],[0.2222222222222222,\"#7201a8\"],[0.3333333333333333,\"#9c179e\"],[0.4444444444444444,\"#bd3786\"],[0.5555555555555556,\"#d8576b\"],[0.6666666666666666,\"#ed7953\"],[0.7777777777777778,\"#fb9f3a\"],[0.8888888888888888,\"#fdca26\"],[1.0,\"#f0f921\"]],\"sequentialminus\":[[0.0,\"#0d0887\"],[0.1111111111111111,\"#46039f\"],[0.2222222222222222,\"#7201a8\"],[0.3333333333333333,\"#9c179e\"],[0.4444444444444444,\"#bd3786\"],[0.5555555555555556,\"#d8576b\"],[0.6666666666666666,\"#ed7953\"],[0.7777777777777778,\"#fb9f3a\"],[0.8888888888888888,\"#fdca26\"],[1.0,\"#f0f921\"]]},\"colorway\":[\"#636efa\",\"#EF553B\",\"#00cc96\",\"#ab63fa\",\"#FFA15A\",\"#19d3f3\",\"#FF6692\",\"#B6E880\",\"#FF97FF\",\"#FECB52\"],\"font\":{\"color\":\"#2a3f5f\"},\"geo\":{\"bgcolor\":\"white\",\"lakecolor\":\"white\",\"landcolor\":\"#E5ECF6\",\"showlakes\":true,\"showland\":true,\"subunitcolor\":\"white\"},\"hoverlabel\":{\"align\":\"left\"},\"hovermode\":\"closest\",\"mapbox\":{\"style\":\"light\"},\"paper_bgcolor\":\"white\",\"plot_bgcolor\":\"#E5ECF6\",\"polar\":{\"angularaxis\":{\"gridcolor\":\"white\",\"linecolor\":\"white\",\"ticks\":\"\"},\"bgcolor\":\"#E5ECF6\",\"radialaxis\":{\"gridcolor\":\"white\",\"linecolor\":\"white\",\"ticks\":\"\"}},\"scene\":{\"xaxis\":{\"backgroundcolor\":\"#E5ECF6\",\"gridcolor\":\"white\",\"gridwidth\":2,\"linecolor\":\"white\",\"showbackground\":true,\"ticks\":\"\",\"zerolinecolor\":\"white\"},\"yaxis\":{\"backgroundcolor\":\"#E5ECF6\",\"gridcolor\":\"white\",\"gridwidth\":2,\"linecolor\":\"white\",\"showbackground\":true,\"ticks\":\"\",\"zerolinecolor\":\"white\"},\"zaxis\":{\"backgroundcolor\":\"#E5ECF6\",\"gridcolor\":\"white\",\"gridwidth\":2,\"linecolor\":\"white\",\"showbackground\":true,\"ticks\":\"\",\"zerolinecolor\":\"white\"}},\"shapedefaults\":{\"line\":{\"color\":\"#2a3f5f\"}},\"ternary\":{\"aaxis\":{\"gridcolor\":\"white\",\"linecolor\":\"white\",\"ticks\":\"\"},\"baxis\":{\"gridcolor\":\"white\",\"linecolor\":\"white\",\"ticks\":\"\"},\"bgcolor\":\"#E5ECF6\",\"caxis\":{\"gridcolor\":\"white\",\"linecolor\":\"white\",\"ticks\":\"\"}},\"title\":{\"x\":0.05},\"xaxis\":{\"automargin\":true,\"gridcolor\":\"white\",\"linecolor\":\"white\",\"ticks\":\"\",\"title\":{\"standoff\":15},\"zerolinecolor\":\"white\",\"zerolinewidth\":2},\"yaxis\":{\"automargin\":true,\"gridcolor\":\"white\",\"linecolor\":\"white\",\"ticks\":\"\",\"title\":{\"standoff\":15},\"zerolinecolor\":\"white\",\"zerolinewidth\":2}}},\"title\":{\"text\":\"temperature\"}},                        {\"responsive\": true}                    ).then(function(){\n                            \nvar gd = document.getElementById('e030191c-9def-470c-befb-299d4b0f2245');\nvar x = new MutationObserver(function (mutations, observer) {{\n        var display = window.getComputedStyle(gd).display;\n        if (!display || display === 'none') {{\n            console.log([gd, 'removed!']);\n            Plotly.purge(gd);\n            observer.disconnect();\n        }}\n}});\n\n// Listen for the removal of the full notebook cells\nvar notebookContainer = gd.closest('#notebook-container');\nif (notebookContainer) {{\n    x.observe(notebookContainer, {childList: true});\n}}\n\n// Listen for the clearing of the current output cell\nvar outputEl = gd.closest('.output');\nif (outputEl) {{\n    x.observe(outputEl, {childList: true});\n}}\n\n                        })                };                });            </script>        </div>"
     },
     "metadata": {},
     "output_type": "display_data"
    },
    {
     "name": "stdout",
     "output_type": "stream",
     "text": [
      "period:  3  / 3\r\n",
      "________________________________________\n",
      "\n",
      "Energy saving potentials:       -6.94 %\n",
      "\n",
      "________________________________________\n",
      "\n",
      "DONE!\n",
      "storage volume:  300 liters\n",
      "addresse:  Karlsruhe\n"
     ]
    },
    {
     "data": {
      "application/vnd.plotly.v1+json": {
       "data": [
        {
         "name": "temperature",
         "x": [
          "2007-10-01T00:00:00",
          "2007-10-01T01:00:00",
          "2007-10-01T02:00:00",
          "2007-10-01T03:00:00",
          "2007-10-01T04:00:00",
          "2007-10-01T05:00:00",
          "2007-10-01T06:00:00",
          "2007-10-01T07:00:00",
          "2007-10-01T08:00:00",
          "2007-10-01T09:00:00",
          "2007-10-01T10:00:00",
          "2007-10-01T11:00:00",
          "2007-10-01T12:00:00",
          "2007-10-01T13:00:00",
          "2007-10-01T14:00:00",
          "2007-10-01T15:00:00",
          "2007-10-01T16:00:00",
          "2007-10-01T17:00:00",
          "2007-10-01T18:00:00",
          "2007-10-01T19:00:00",
          "2007-10-01T20:00:00",
          "2007-10-01T21:00:00",
          "2007-10-01T22:00:00",
          "2007-10-01T23:00:00",
          "2007-10-02T00:00:00",
          "2007-10-02T01:00:00",
          "2007-10-02T02:00:00",
          "2007-10-02T03:00:00",
          "2007-10-02T04:00:00",
          "2007-10-02T05:00:00",
          "2007-10-02T06:00:00",
          "2007-10-02T07:00:00",
          "2007-10-02T08:00:00",
          "2007-10-02T09:00:00",
          "2007-10-02T10:00:00",
          "2007-10-02T11:00:00",
          "2007-10-02T12:00:00",
          "2007-10-02T13:00:00",
          "2007-10-02T14:00:00",
          "2007-10-02T15:00:00",
          "2007-10-02T16:00:00",
          "2007-10-02T17:00:00",
          "2007-10-02T18:00:00",
          "2007-10-02T19:00:00",
          "2007-10-02T20:00:00",
          "2007-10-02T21:00:00",
          "2007-10-02T22:00:00",
          "2007-10-02T23:00:00",
          "2007-10-03T00:00:00",
          "2007-10-03T01:00:00",
          "2007-10-03T02:00:00",
          "2007-10-03T03:00:00",
          "2007-10-03T04:00:00",
          "2007-10-03T05:00:00",
          "2007-10-03T06:00:00",
          "2007-10-03T07:00:00",
          "2007-10-03T08:00:00",
          "2007-10-03T09:00:00",
          "2007-10-03T10:00:00",
          "2007-10-03T11:00:00",
          "2007-10-03T12:00:00",
          "2007-10-03T13:00:00",
          "2007-10-03T14:00:00",
          "2007-10-03T15:00:00",
          "2007-10-03T16:00:00",
          "2007-10-03T17:00:00",
          "2007-10-03T18:00:00",
          "2007-10-03T19:00:00",
          "2007-10-03T20:00:00",
          "2007-10-03T21:00:00",
          "2007-10-03T22:00:00",
          "2007-10-03T23:00:00",
          "2007-10-04T00:00:00",
          "2007-10-04T01:00:00",
          "2007-10-04T02:00:00",
          "2007-10-04T03:00:00",
          "2007-10-04T04:00:00",
          "2007-10-04T05:00:00",
          "2007-10-04T06:00:00",
          "2007-10-04T07:00:00",
          "2007-10-04T08:00:00",
          "2007-10-04T09:00:00",
          "2007-10-04T10:00:00",
          "2007-10-04T11:00:00",
          "2007-10-04T12:00:00",
          "2007-10-04T13:00:00",
          "2007-10-04T14:00:00",
          "2007-10-04T15:00:00",
          "2007-10-04T16:00:00",
          "2007-10-04T17:00:00",
          "2007-10-04T18:00:00",
          "2007-10-04T19:00:00",
          "2007-10-04T20:00:00",
          "2007-10-04T21:00:00",
          "2007-10-04T22:00:00",
          "2007-10-04T23:00:00",
          "2007-10-05T00:00:00"
         ],
         "y": [
          9.8,
          9.2,
          9.0,
          8.7,
          8.1,
          8.2,
          8.1,
          10.4,
          12.7,
          14.5,
          17.5,
          19.2,
          21.1,
          22.1,
          23.9,
          22.3,
          21.2,
          20.3,
          18.8,
          18.1,
          16.7,
          16.2,
          15.8,
          14.8,
          13.8,
          13.8,
          14.7,
          14.9,
          15.1,
          14.9,
          14.9,
          15.3,
          16.3,
          16.4,
          17.3,
          18.1,
          19.3,
          20.6,
          21.1,
          21.6,
          21.3,
          19.9,
          19.0,
          18.3,
          17.9,
          17.6,
          17.2,
          17.1,
          16.9,
          16.7,
          16.6,
          16.4,
          16.2,
          15.8,
          16.0,
          16.5,
          17.0,
          17.5,
          18.4,
          19.6,
          20.7,
          21.4,
          21.6,
          21.5,
          20.8,
          19.5,
          18.5,
          17.5,
          17.0,
          16.6,
          16.1,
          15.9,
          15.7,
          15.8,
          16.1,
          16.0,
          15.9,
          16.1,
          16.1,
          16.5,
          18.4,
          20.4,
          22.5,
          24.1,
          25.0,
          25.9,
          25.2,
          22.7,
          21.9,
          20.5,
          18.9,
          17.6,
          16.4,
          16.0,
          16.3,
          16.4,
          16.2
         ],
         "type": "scatter"
        },
        {
         "mode": "markers",
         "name": "local_minima",
         "x": [
          "2007-10-01T00:00:00",
          "2007-10-01T01:00:00",
          "2007-10-01T02:00:00",
          "2007-10-01T03:00:00",
          "2007-10-01T04:00:00",
          "2007-10-01T05:00:00",
          "2007-10-01T06:00:00",
          "2007-10-01T07:00:00",
          "2007-10-01T08:00:00",
          "2007-10-01T09:00:00",
          "2007-10-01T10:00:00",
          "2007-10-01T11:00:00",
          "2007-10-01T12:00:00",
          "2007-10-01T13:00:00",
          "2007-10-01T14:00:00",
          "2007-10-01T15:00:00",
          "2007-10-01T16:00:00",
          "2007-10-01T17:00:00",
          "2007-10-01T18:00:00",
          "2007-10-01T19:00:00",
          "2007-10-01T20:00:00",
          "2007-10-01T21:00:00",
          "2007-10-01T22:00:00",
          "2007-10-01T23:00:00",
          "2007-10-02T00:00:00",
          "2007-10-02T01:00:00",
          "2007-10-02T02:00:00",
          "2007-10-02T03:00:00",
          "2007-10-02T04:00:00",
          "2007-10-02T05:00:00",
          "2007-10-02T06:00:00",
          "2007-10-02T07:00:00",
          "2007-10-02T08:00:00",
          "2007-10-02T09:00:00",
          "2007-10-02T10:00:00",
          "2007-10-02T11:00:00",
          "2007-10-02T12:00:00",
          "2007-10-02T13:00:00",
          "2007-10-02T14:00:00",
          "2007-10-02T15:00:00",
          "2007-10-02T16:00:00",
          "2007-10-02T17:00:00",
          "2007-10-02T18:00:00",
          "2007-10-02T19:00:00",
          "2007-10-02T20:00:00",
          "2007-10-02T21:00:00",
          "2007-10-02T22:00:00",
          "2007-10-02T23:00:00",
          "2007-10-03T00:00:00",
          "2007-10-03T01:00:00",
          "2007-10-03T02:00:00",
          "2007-10-03T03:00:00",
          "2007-10-03T04:00:00",
          "2007-10-03T05:00:00",
          "2007-10-03T06:00:00",
          "2007-10-03T07:00:00",
          "2007-10-03T08:00:00",
          "2007-10-03T09:00:00",
          "2007-10-03T10:00:00",
          "2007-10-03T11:00:00",
          "2007-10-03T12:00:00",
          "2007-10-03T13:00:00",
          "2007-10-03T14:00:00",
          "2007-10-03T15:00:00",
          "2007-10-03T16:00:00",
          "2007-10-03T17:00:00",
          "2007-10-03T18:00:00",
          "2007-10-03T19:00:00",
          "2007-10-03T20:00:00",
          "2007-10-03T21:00:00",
          "2007-10-03T22:00:00",
          "2007-10-03T23:00:00",
          "2007-10-04T00:00:00",
          "2007-10-04T01:00:00",
          "2007-10-04T02:00:00",
          "2007-10-04T03:00:00",
          "2007-10-04T04:00:00",
          "2007-10-04T05:00:00",
          "2007-10-04T06:00:00",
          "2007-10-04T07:00:00",
          "2007-10-04T08:00:00",
          "2007-10-04T09:00:00",
          "2007-10-04T10:00:00",
          "2007-10-04T11:00:00",
          "2007-10-04T12:00:00",
          "2007-10-04T13:00:00",
          "2007-10-04T14:00:00",
          "2007-10-04T15:00:00",
          "2007-10-04T16:00:00",
          "2007-10-04T17:00:00",
          "2007-10-04T18:00:00",
          "2007-10-04T19:00:00",
          "2007-10-04T20:00:00",
          "2007-10-04T21:00:00",
          "2007-10-04T22:00:00",
          "2007-10-04T23:00:00",
          "2007-10-05T00:00:00"
         ],
         "y": [
          null,
          null,
          null,
          null,
          null,
          null,
          8.1,
          null,
          null,
          null,
          null,
          null,
          null,
          null,
          null,
          null,
          null,
          null,
          null,
          null,
          null,
          null,
          null,
          null,
          null,
          13.8,
          null,
          null,
          null,
          null,
          null,
          null,
          null,
          null,
          null,
          null,
          null,
          null,
          null,
          null,
          null,
          null,
          null,
          null,
          null,
          null,
          null,
          null,
          null,
          null,
          null,
          null,
          null,
          15.8,
          null,
          null,
          null,
          null,
          null,
          null,
          null,
          null,
          null,
          null,
          null,
          null,
          null,
          null,
          null,
          null,
          null,
          null,
          15.7,
          null,
          null,
          null,
          null,
          null,
          null,
          null,
          null,
          null,
          null,
          null,
          null,
          null,
          null,
          null,
          null,
          null,
          null,
          null,
          null,
          16.0,
          null,
          null,
          null
         ],
         "type": "scatter"
        },
        {
         "hovertext": [
          null,
          null,
          null,
          null,
          null,
          null,
          null,
          null,
          null,
          null,
          null,
          null,
          null,
          null,
          0.0,
          0.0,
          0.0,
          0.0,
          0.0,
          0.0,
          0.0,
          0.0,
          0.0,
          0.0,
          0.0,
          0.0,
          0.0,
          0.0,
          0.0,
          0.0,
          0.0,
          0.0,
          0.0,
          0.0,
          0.0,
          0.0,
          0.0,
          0.0,
          0.0,
          1.0,
          1.0,
          1.0,
          1.0,
          1.0,
          1.0,
          1.0,
          1.0,
          1.0,
          1.0,
          1.0,
          1.0,
          1.0,
          1.0,
          1.0,
          1.0,
          1.0,
          1.0,
          1.0,
          1.0,
          1.0,
          1.0,
          1.0,
          2.0,
          2.0,
          2.0,
          2.0,
          2.0,
          2.0,
          2.0,
          2.0,
          2.0,
          2.0,
          2.0,
          2.0,
          2.0,
          2.0,
          2.0,
          2.0,
          2.0,
          2.0,
          2.0,
          2.0,
          2.0,
          2.0,
          2.0,
          3.0,
          3.0,
          3.0,
          3.0,
          3.0,
          3.0,
          3.0,
          3.0,
          3.0,
          3.0,
          3.0,
          3.0
         ],
         "mode": "markers",
         "name": "local_maxima",
         "x": [
          "2007-10-01T00:00:00",
          "2007-10-01T01:00:00",
          "2007-10-01T02:00:00",
          "2007-10-01T03:00:00",
          "2007-10-01T04:00:00",
          "2007-10-01T05:00:00",
          "2007-10-01T06:00:00",
          "2007-10-01T07:00:00",
          "2007-10-01T08:00:00",
          "2007-10-01T09:00:00",
          "2007-10-01T10:00:00",
          "2007-10-01T11:00:00",
          "2007-10-01T12:00:00",
          "2007-10-01T13:00:00",
          "2007-10-01T14:00:00",
          "2007-10-01T15:00:00",
          "2007-10-01T16:00:00",
          "2007-10-01T17:00:00",
          "2007-10-01T18:00:00",
          "2007-10-01T19:00:00",
          "2007-10-01T20:00:00",
          "2007-10-01T21:00:00",
          "2007-10-01T22:00:00",
          "2007-10-01T23:00:00",
          "2007-10-02T00:00:00",
          "2007-10-02T01:00:00",
          "2007-10-02T02:00:00",
          "2007-10-02T03:00:00",
          "2007-10-02T04:00:00",
          "2007-10-02T05:00:00",
          "2007-10-02T06:00:00",
          "2007-10-02T07:00:00",
          "2007-10-02T08:00:00",
          "2007-10-02T09:00:00",
          "2007-10-02T10:00:00",
          "2007-10-02T11:00:00",
          "2007-10-02T12:00:00",
          "2007-10-02T13:00:00",
          "2007-10-02T14:00:00",
          "2007-10-02T15:00:00",
          "2007-10-02T16:00:00",
          "2007-10-02T17:00:00",
          "2007-10-02T18:00:00",
          "2007-10-02T19:00:00",
          "2007-10-02T20:00:00",
          "2007-10-02T21:00:00",
          "2007-10-02T22:00:00",
          "2007-10-02T23:00:00",
          "2007-10-03T00:00:00",
          "2007-10-03T01:00:00",
          "2007-10-03T02:00:00",
          "2007-10-03T03:00:00",
          "2007-10-03T04:00:00",
          "2007-10-03T05:00:00",
          "2007-10-03T06:00:00",
          "2007-10-03T07:00:00",
          "2007-10-03T08:00:00",
          "2007-10-03T09:00:00",
          "2007-10-03T10:00:00",
          "2007-10-03T11:00:00",
          "2007-10-03T12:00:00",
          "2007-10-03T13:00:00",
          "2007-10-03T14:00:00",
          "2007-10-03T15:00:00",
          "2007-10-03T16:00:00",
          "2007-10-03T17:00:00",
          "2007-10-03T18:00:00",
          "2007-10-03T19:00:00",
          "2007-10-03T20:00:00",
          "2007-10-03T21:00:00",
          "2007-10-03T22:00:00",
          "2007-10-03T23:00:00",
          "2007-10-04T00:00:00",
          "2007-10-04T01:00:00",
          "2007-10-04T02:00:00",
          "2007-10-04T03:00:00",
          "2007-10-04T04:00:00",
          "2007-10-04T05:00:00",
          "2007-10-04T06:00:00",
          "2007-10-04T07:00:00",
          "2007-10-04T08:00:00",
          "2007-10-04T09:00:00",
          "2007-10-04T10:00:00",
          "2007-10-04T11:00:00",
          "2007-10-04T12:00:00",
          "2007-10-04T13:00:00",
          "2007-10-04T14:00:00",
          "2007-10-04T15:00:00",
          "2007-10-04T16:00:00",
          "2007-10-04T17:00:00",
          "2007-10-04T18:00:00",
          "2007-10-04T19:00:00",
          "2007-10-04T20:00:00",
          "2007-10-04T21:00:00",
          "2007-10-04T22:00:00",
          "2007-10-04T23:00:00",
          "2007-10-05T00:00:00"
         ],
         "y": [
          null,
          null,
          null,
          null,
          null,
          null,
          null,
          null,
          null,
          null,
          null,
          null,
          null,
          null,
          23.9,
          null,
          null,
          null,
          null,
          null,
          null,
          null,
          null,
          null,
          null,
          null,
          null,
          null,
          null,
          null,
          null,
          null,
          null,
          null,
          null,
          null,
          null,
          null,
          null,
          21.6,
          null,
          null,
          null,
          null,
          null,
          null,
          null,
          null,
          null,
          null,
          null,
          null,
          null,
          null,
          null,
          null,
          null,
          null,
          null,
          null,
          null,
          null,
          21.6,
          null,
          null,
          null,
          null,
          null,
          null,
          null,
          null,
          null,
          null,
          null,
          null,
          null,
          null,
          null,
          null,
          null,
          null,
          null,
          null,
          null,
          null,
          25.9,
          null,
          null,
          null,
          null,
          null,
          null,
          null,
          null,
          null,
          null,
          null
         ],
         "type": "scatter"
        }
       ],
       "layout": {
        "template": {
         "data": {
          "bar": [
           {
            "error_x": {
             "color": "#2a3f5f"
            },
            "error_y": {
             "color": "#2a3f5f"
            },
            "marker": {
             "line": {
              "color": "#E5ECF6",
              "width": 0.5
             },
             "pattern": {
              "fillmode": "overlay",
              "size": 10,
              "solidity": 0.2
             }
            },
            "type": "bar"
           }
          ],
          "barpolar": [
           {
            "marker": {
             "line": {
              "color": "#E5ECF6",
              "width": 0.5
             },
             "pattern": {
              "fillmode": "overlay",
              "size": 10,
              "solidity": 0.2
             }
            },
            "type": "barpolar"
           }
          ],
          "carpet": [
           {
            "aaxis": {
             "endlinecolor": "#2a3f5f",
             "gridcolor": "white",
             "linecolor": "white",
             "minorgridcolor": "white",
             "startlinecolor": "#2a3f5f"
            },
            "baxis": {
             "endlinecolor": "#2a3f5f",
             "gridcolor": "white",
             "linecolor": "white",
             "minorgridcolor": "white",
             "startlinecolor": "#2a3f5f"
            },
            "type": "carpet"
           }
          ],
          "choropleth": [
           {
            "colorbar": {
             "outlinewidth": 0,
             "ticks": ""
            },
            "type": "choropleth"
           }
          ],
          "contour": [
           {
            "colorbar": {
             "outlinewidth": 0,
             "ticks": ""
            },
            "colorscale": [
             [
              0.0,
              "#0d0887"
             ],
             [
              0.1111111111111111,
              "#46039f"
             ],
             [
              0.2222222222222222,
              "#7201a8"
             ],
             [
              0.3333333333333333,
              "#9c179e"
             ],
             [
              0.4444444444444444,
              "#bd3786"
             ],
             [
              0.5555555555555556,
              "#d8576b"
             ],
             [
              0.6666666666666666,
              "#ed7953"
             ],
             [
              0.7777777777777778,
              "#fb9f3a"
             ],
             [
              0.8888888888888888,
              "#fdca26"
             ],
             [
              1.0,
              "#f0f921"
             ]
            ],
            "type": "contour"
           }
          ],
          "contourcarpet": [
           {
            "colorbar": {
             "outlinewidth": 0,
             "ticks": ""
            },
            "type": "contourcarpet"
           }
          ],
          "heatmap": [
           {
            "colorbar": {
             "outlinewidth": 0,
             "ticks": ""
            },
            "colorscale": [
             [
              0.0,
              "#0d0887"
             ],
             [
              0.1111111111111111,
              "#46039f"
             ],
             [
              0.2222222222222222,
              "#7201a8"
             ],
             [
              0.3333333333333333,
              "#9c179e"
             ],
             [
              0.4444444444444444,
              "#bd3786"
             ],
             [
              0.5555555555555556,
              "#d8576b"
             ],
             [
              0.6666666666666666,
              "#ed7953"
             ],
             [
              0.7777777777777778,
              "#fb9f3a"
             ],
             [
              0.8888888888888888,
              "#fdca26"
             ],
             [
              1.0,
              "#f0f921"
             ]
            ],
            "type": "heatmap"
           }
          ],
          "heatmapgl": [
           {
            "colorbar": {
             "outlinewidth": 0,
             "ticks": ""
            },
            "colorscale": [
             [
              0.0,
              "#0d0887"
             ],
             [
              0.1111111111111111,
              "#46039f"
             ],
             [
              0.2222222222222222,
              "#7201a8"
             ],
             [
              0.3333333333333333,
              "#9c179e"
             ],
             [
              0.4444444444444444,
              "#bd3786"
             ],
             [
              0.5555555555555556,
              "#d8576b"
             ],
             [
              0.6666666666666666,
              "#ed7953"
             ],
             [
              0.7777777777777778,
              "#fb9f3a"
             ],
             [
              0.8888888888888888,
              "#fdca26"
             ],
             [
              1.0,
              "#f0f921"
             ]
            ],
            "type": "heatmapgl"
           }
          ],
          "histogram": [
           {
            "marker": {
             "pattern": {
              "fillmode": "overlay",
              "size": 10,
              "solidity": 0.2
             }
            },
            "type": "histogram"
           }
          ],
          "histogram2d": [
           {
            "colorbar": {
             "outlinewidth": 0,
             "ticks": ""
            },
            "colorscale": [
             [
              0.0,
              "#0d0887"
             ],
             [
              0.1111111111111111,
              "#46039f"
             ],
             [
              0.2222222222222222,
              "#7201a8"
             ],
             [
              0.3333333333333333,
              "#9c179e"
             ],
             [
              0.4444444444444444,
              "#bd3786"
             ],
             [
              0.5555555555555556,
              "#d8576b"
             ],
             [
              0.6666666666666666,
              "#ed7953"
             ],
             [
              0.7777777777777778,
              "#fb9f3a"
             ],
             [
              0.8888888888888888,
              "#fdca26"
             ],
             [
              1.0,
              "#f0f921"
             ]
            ],
            "type": "histogram2d"
           }
          ],
          "histogram2dcontour": [
           {
            "colorbar": {
             "outlinewidth": 0,
             "ticks": ""
            },
            "colorscale": [
             [
              0.0,
              "#0d0887"
             ],
             [
              0.1111111111111111,
              "#46039f"
             ],
             [
              0.2222222222222222,
              "#7201a8"
             ],
             [
              0.3333333333333333,
              "#9c179e"
             ],
             [
              0.4444444444444444,
              "#bd3786"
             ],
             [
              0.5555555555555556,
              "#d8576b"
             ],
             [
              0.6666666666666666,
              "#ed7953"
             ],
             [
              0.7777777777777778,
              "#fb9f3a"
             ],
             [
              0.8888888888888888,
              "#fdca26"
             ],
             [
              1.0,
              "#f0f921"
             ]
            ],
            "type": "histogram2dcontour"
           }
          ],
          "mesh3d": [
           {
            "colorbar": {
             "outlinewidth": 0,
             "ticks": ""
            },
            "type": "mesh3d"
           }
          ],
          "parcoords": [
           {
            "line": {
             "colorbar": {
              "outlinewidth": 0,
              "ticks": ""
             }
            },
            "type": "parcoords"
           }
          ],
          "pie": [
           {
            "automargin": true,
            "type": "pie"
           }
          ],
          "scatter": [
           {
            "marker": {
             "colorbar": {
              "outlinewidth": 0,
              "ticks": ""
             }
            },
            "type": "scatter"
           }
          ],
          "scatter3d": [
           {
            "line": {
             "colorbar": {
              "outlinewidth": 0,
              "ticks": ""
             }
            },
            "marker": {
             "colorbar": {
              "outlinewidth": 0,
              "ticks": ""
             }
            },
            "type": "scatter3d"
           }
          ],
          "scattercarpet": [
           {
            "marker": {
             "colorbar": {
              "outlinewidth": 0,
              "ticks": ""
             }
            },
            "type": "scattercarpet"
           }
          ],
          "scattergeo": [
           {
            "marker": {
             "colorbar": {
              "outlinewidth": 0,
              "ticks": ""
             }
            },
            "type": "scattergeo"
           }
          ],
          "scattergl": [
           {
            "marker": {
             "colorbar": {
              "outlinewidth": 0,
              "ticks": ""
             }
            },
            "type": "scattergl"
           }
          ],
          "scattermapbox": [
           {
            "marker": {
             "colorbar": {
              "outlinewidth": 0,
              "ticks": ""
             }
            },
            "type": "scattermapbox"
           }
          ],
          "scatterpolar": [
           {
            "marker": {
             "colorbar": {
              "outlinewidth": 0,
              "ticks": ""
             }
            },
            "type": "scatterpolar"
           }
          ],
          "scatterpolargl": [
           {
            "marker": {
             "colorbar": {
              "outlinewidth": 0,
              "ticks": ""
             }
            },
            "type": "scatterpolargl"
           }
          ],
          "scatterternary": [
           {
            "marker": {
             "colorbar": {
              "outlinewidth": 0,
              "ticks": ""
             }
            },
            "type": "scatterternary"
           }
          ],
          "surface": [
           {
            "colorbar": {
             "outlinewidth": 0,
             "ticks": ""
            },
            "colorscale": [
             [
              0.0,
              "#0d0887"
             ],
             [
              0.1111111111111111,
              "#46039f"
             ],
             [
              0.2222222222222222,
              "#7201a8"
             ],
             [
              0.3333333333333333,
              "#9c179e"
             ],
             [
              0.4444444444444444,
              "#bd3786"
             ],
             [
              0.5555555555555556,
              "#d8576b"
             ],
             [
              0.6666666666666666,
              "#ed7953"
             ],
             [
              0.7777777777777778,
              "#fb9f3a"
             ],
             [
              0.8888888888888888,
              "#fdca26"
             ],
             [
              1.0,
              "#f0f921"
             ]
            ],
            "type": "surface"
           }
          ],
          "table": [
           {
            "cells": {
             "fill": {
              "color": "#EBF0F8"
             },
             "line": {
              "color": "white"
             }
            },
            "header": {
             "fill": {
              "color": "#C8D4E3"
             },
             "line": {
              "color": "white"
             }
            },
            "type": "table"
           }
          ]
         },
         "layout": {
          "annotationdefaults": {
           "arrowcolor": "#2a3f5f",
           "arrowhead": 0,
           "arrowwidth": 1
          },
          "autotypenumbers": "strict",
          "coloraxis": {
           "colorbar": {
            "outlinewidth": 0,
            "ticks": ""
           }
          },
          "colorscale": {
           "diverging": [
            [
             0,
             "#8e0152"
            ],
            [
             0.1,
             "#c51b7d"
            ],
            [
             0.2,
             "#de77ae"
            ],
            [
             0.3,
             "#f1b6da"
            ],
            [
             0.4,
             "#fde0ef"
            ],
            [
             0.5,
             "#f7f7f7"
            ],
            [
             0.6,
             "#e6f5d0"
            ],
            [
             0.7,
             "#b8e186"
            ],
            [
             0.8,
             "#7fbc41"
            ],
            [
             0.9,
             "#4d9221"
            ],
            [
             1,
             "#276419"
            ]
           ],
           "sequential": [
            [
             0.0,
             "#0d0887"
            ],
            [
             0.1111111111111111,
             "#46039f"
            ],
            [
             0.2222222222222222,
             "#7201a8"
            ],
            [
             0.3333333333333333,
             "#9c179e"
            ],
            [
             0.4444444444444444,
             "#bd3786"
            ],
            [
             0.5555555555555556,
             "#d8576b"
            ],
            [
             0.6666666666666666,
             "#ed7953"
            ],
            [
             0.7777777777777778,
             "#fb9f3a"
            ],
            [
             0.8888888888888888,
             "#fdca26"
            ],
            [
             1.0,
             "#f0f921"
            ]
           ],
           "sequentialminus": [
            [
             0.0,
             "#0d0887"
            ],
            [
             0.1111111111111111,
             "#46039f"
            ],
            [
             0.2222222222222222,
             "#7201a8"
            ],
            [
             0.3333333333333333,
             "#9c179e"
            ],
            [
             0.4444444444444444,
             "#bd3786"
            ],
            [
             0.5555555555555556,
             "#d8576b"
            ],
            [
             0.6666666666666666,
             "#ed7953"
            ],
            [
             0.7777777777777778,
             "#fb9f3a"
            ],
            [
             0.8888888888888888,
             "#fdca26"
            ],
            [
             1.0,
             "#f0f921"
            ]
           ]
          },
          "colorway": [
           "#636efa",
           "#EF553B",
           "#00cc96",
           "#ab63fa",
           "#FFA15A",
           "#19d3f3",
           "#FF6692",
           "#B6E880",
           "#FF97FF",
           "#FECB52"
          ],
          "font": {
           "color": "#2a3f5f"
          },
          "geo": {
           "bgcolor": "white",
           "lakecolor": "white",
           "landcolor": "#E5ECF6",
           "showlakes": true,
           "showland": true,
           "subunitcolor": "white"
          },
          "hoverlabel": {
           "align": "left"
          },
          "hovermode": "closest",
          "mapbox": {
           "style": "light"
          },
          "paper_bgcolor": "white",
          "plot_bgcolor": "#E5ECF6",
          "polar": {
           "angularaxis": {
            "gridcolor": "white",
            "linecolor": "white",
            "ticks": ""
           },
           "bgcolor": "#E5ECF6",
           "radialaxis": {
            "gridcolor": "white",
            "linecolor": "white",
            "ticks": ""
           }
          },
          "scene": {
           "xaxis": {
            "backgroundcolor": "#E5ECF6",
            "gridcolor": "white",
            "gridwidth": 2,
            "linecolor": "white",
            "showbackground": true,
            "ticks": "",
            "zerolinecolor": "white"
           },
           "yaxis": {
            "backgroundcolor": "#E5ECF6",
            "gridcolor": "white",
            "gridwidth": 2,
            "linecolor": "white",
            "showbackground": true,
            "ticks": "",
            "zerolinecolor": "white"
           },
           "zaxis": {
            "backgroundcolor": "#E5ECF6",
            "gridcolor": "white",
            "gridwidth": 2,
            "linecolor": "white",
            "showbackground": true,
            "ticks": "",
            "zerolinecolor": "white"
           }
          },
          "shapedefaults": {
           "line": {
            "color": "#2a3f5f"
           }
          },
          "ternary": {
           "aaxis": {
            "gridcolor": "white",
            "linecolor": "white",
            "ticks": ""
           },
           "baxis": {
            "gridcolor": "white",
            "linecolor": "white",
            "ticks": ""
           },
           "bgcolor": "#E5ECF6",
           "caxis": {
            "gridcolor": "white",
            "linecolor": "white",
            "ticks": ""
           }
          },
          "title": {
           "x": 0.05
          },
          "xaxis": {
           "automargin": true,
           "gridcolor": "white",
           "linecolor": "white",
           "ticks": "",
           "title": {
            "standoff": 15
           },
           "zerolinecolor": "white",
           "zerolinewidth": 2
          },
          "yaxis": {
           "automargin": true,
           "gridcolor": "white",
           "linecolor": "white",
           "ticks": "",
           "title": {
            "standoff": 15
           },
           "zerolinecolor": "white",
           "zerolinewidth": 2
          }
         }
        },
        "title": {
         "text": "temperature"
        }
       },
       "config": {
        "plotlyServerURL": "https://plot.ly"
       }
      },
      "text/html": "<div>                            <div id=\"0895685a-b3d7-455a-a717-54c89ca1e88f\" class=\"plotly-graph-div\" style=\"height:525px; width:100%;\"></div>            <script type=\"text/javascript\">                require([\"plotly\"], function(Plotly) {                    window.PLOTLYENV=window.PLOTLYENV || {};                                    if (document.getElementById(\"0895685a-b3d7-455a-a717-54c89ca1e88f\")) {                    Plotly.newPlot(                        \"0895685a-b3d7-455a-a717-54c89ca1e88f\",                        [{\"name\":\"temperature\",\"x\":[\"2007-10-01T00:00:00\",\"2007-10-01T01:00:00\",\"2007-10-01T02:00:00\",\"2007-10-01T03:00:00\",\"2007-10-01T04:00:00\",\"2007-10-01T05:00:00\",\"2007-10-01T06:00:00\",\"2007-10-01T07:00:00\",\"2007-10-01T08:00:00\",\"2007-10-01T09:00:00\",\"2007-10-01T10:00:00\",\"2007-10-01T11:00:00\",\"2007-10-01T12:00:00\",\"2007-10-01T13:00:00\",\"2007-10-01T14:00:00\",\"2007-10-01T15:00:00\",\"2007-10-01T16:00:00\",\"2007-10-01T17:00:00\",\"2007-10-01T18:00:00\",\"2007-10-01T19:00:00\",\"2007-10-01T20:00:00\",\"2007-10-01T21:00:00\",\"2007-10-01T22:00:00\",\"2007-10-01T23:00:00\",\"2007-10-02T00:00:00\",\"2007-10-02T01:00:00\",\"2007-10-02T02:00:00\",\"2007-10-02T03:00:00\",\"2007-10-02T04:00:00\",\"2007-10-02T05:00:00\",\"2007-10-02T06:00:00\",\"2007-10-02T07:00:00\",\"2007-10-02T08:00:00\",\"2007-10-02T09:00:00\",\"2007-10-02T10:00:00\",\"2007-10-02T11:00:00\",\"2007-10-02T12:00:00\",\"2007-10-02T13:00:00\",\"2007-10-02T14:00:00\",\"2007-10-02T15:00:00\",\"2007-10-02T16:00:00\",\"2007-10-02T17:00:00\",\"2007-10-02T18:00:00\",\"2007-10-02T19:00:00\",\"2007-10-02T20:00:00\",\"2007-10-02T21:00:00\",\"2007-10-02T22:00:00\",\"2007-10-02T23:00:00\",\"2007-10-03T00:00:00\",\"2007-10-03T01:00:00\",\"2007-10-03T02:00:00\",\"2007-10-03T03:00:00\",\"2007-10-03T04:00:00\",\"2007-10-03T05:00:00\",\"2007-10-03T06:00:00\",\"2007-10-03T07:00:00\",\"2007-10-03T08:00:00\",\"2007-10-03T09:00:00\",\"2007-10-03T10:00:00\",\"2007-10-03T11:00:00\",\"2007-10-03T12:00:00\",\"2007-10-03T13:00:00\",\"2007-10-03T14:00:00\",\"2007-10-03T15:00:00\",\"2007-10-03T16:00:00\",\"2007-10-03T17:00:00\",\"2007-10-03T18:00:00\",\"2007-10-03T19:00:00\",\"2007-10-03T20:00:00\",\"2007-10-03T21:00:00\",\"2007-10-03T22:00:00\",\"2007-10-03T23:00:00\",\"2007-10-04T00:00:00\",\"2007-10-04T01:00:00\",\"2007-10-04T02:00:00\",\"2007-10-04T03:00:00\",\"2007-10-04T04:00:00\",\"2007-10-04T05:00:00\",\"2007-10-04T06:00:00\",\"2007-10-04T07:00:00\",\"2007-10-04T08:00:00\",\"2007-10-04T09:00:00\",\"2007-10-04T10:00:00\",\"2007-10-04T11:00:00\",\"2007-10-04T12:00:00\",\"2007-10-04T13:00:00\",\"2007-10-04T14:00:00\",\"2007-10-04T15:00:00\",\"2007-10-04T16:00:00\",\"2007-10-04T17:00:00\",\"2007-10-04T18:00:00\",\"2007-10-04T19:00:00\",\"2007-10-04T20:00:00\",\"2007-10-04T21:00:00\",\"2007-10-04T22:00:00\",\"2007-10-04T23:00:00\",\"2007-10-05T00:00:00\"],\"y\":[9.8,9.2,9.0,8.7,8.1,8.2,8.1,10.4,12.7,14.5,17.5,19.2,21.1,22.1,23.9,22.3,21.2,20.3,18.8,18.1,16.7,16.2,15.8,14.8,13.8,13.8,14.7,14.9,15.1,14.9,14.9,15.3,16.3,16.4,17.3,18.1,19.3,20.6,21.1,21.6,21.3,19.9,19.0,18.3,17.9,17.6,17.2,17.1,16.9,16.7,16.6,16.4,16.2,15.8,16.0,16.5,17.0,17.5,18.4,19.6,20.7,21.4,21.6,21.5,20.8,19.5,18.5,17.5,17.0,16.6,16.1,15.9,15.7,15.8,16.1,16.0,15.9,16.1,16.1,16.5,18.4,20.4,22.5,24.1,25.0,25.9,25.2,22.7,21.9,20.5,18.9,17.6,16.4,16.0,16.3,16.4,16.2],\"type\":\"scatter\"},{\"mode\":\"markers\",\"name\":\"local_minima\",\"x\":[\"2007-10-01T00:00:00\",\"2007-10-01T01:00:00\",\"2007-10-01T02:00:00\",\"2007-10-01T03:00:00\",\"2007-10-01T04:00:00\",\"2007-10-01T05:00:00\",\"2007-10-01T06:00:00\",\"2007-10-01T07:00:00\",\"2007-10-01T08:00:00\",\"2007-10-01T09:00:00\",\"2007-10-01T10:00:00\",\"2007-10-01T11:00:00\",\"2007-10-01T12:00:00\",\"2007-10-01T13:00:00\",\"2007-10-01T14:00:00\",\"2007-10-01T15:00:00\",\"2007-10-01T16:00:00\",\"2007-10-01T17:00:00\",\"2007-10-01T18:00:00\",\"2007-10-01T19:00:00\",\"2007-10-01T20:00:00\",\"2007-10-01T21:00:00\",\"2007-10-01T22:00:00\",\"2007-10-01T23:00:00\",\"2007-10-02T00:00:00\",\"2007-10-02T01:00:00\",\"2007-10-02T02:00:00\",\"2007-10-02T03:00:00\",\"2007-10-02T04:00:00\",\"2007-10-02T05:00:00\",\"2007-10-02T06:00:00\",\"2007-10-02T07:00:00\",\"2007-10-02T08:00:00\",\"2007-10-02T09:00:00\",\"2007-10-02T10:00:00\",\"2007-10-02T11:00:00\",\"2007-10-02T12:00:00\",\"2007-10-02T13:00:00\",\"2007-10-02T14:00:00\",\"2007-10-02T15:00:00\",\"2007-10-02T16:00:00\",\"2007-10-02T17:00:00\",\"2007-10-02T18:00:00\",\"2007-10-02T19:00:00\",\"2007-10-02T20:00:00\",\"2007-10-02T21:00:00\",\"2007-10-02T22:00:00\",\"2007-10-02T23:00:00\",\"2007-10-03T00:00:00\",\"2007-10-03T01:00:00\",\"2007-10-03T02:00:00\",\"2007-10-03T03:00:00\",\"2007-10-03T04:00:00\",\"2007-10-03T05:00:00\",\"2007-10-03T06:00:00\",\"2007-10-03T07:00:00\",\"2007-10-03T08:00:00\",\"2007-10-03T09:00:00\",\"2007-10-03T10:00:00\",\"2007-10-03T11:00:00\",\"2007-10-03T12:00:00\",\"2007-10-03T13:00:00\",\"2007-10-03T14:00:00\",\"2007-10-03T15:00:00\",\"2007-10-03T16:00:00\",\"2007-10-03T17:00:00\",\"2007-10-03T18:00:00\",\"2007-10-03T19:00:00\",\"2007-10-03T20:00:00\",\"2007-10-03T21:00:00\",\"2007-10-03T22:00:00\",\"2007-10-03T23:00:00\",\"2007-10-04T00:00:00\",\"2007-10-04T01:00:00\",\"2007-10-04T02:00:00\",\"2007-10-04T03:00:00\",\"2007-10-04T04:00:00\",\"2007-10-04T05:00:00\",\"2007-10-04T06:00:00\",\"2007-10-04T07:00:00\",\"2007-10-04T08:00:00\",\"2007-10-04T09:00:00\",\"2007-10-04T10:00:00\",\"2007-10-04T11:00:00\",\"2007-10-04T12:00:00\",\"2007-10-04T13:00:00\",\"2007-10-04T14:00:00\",\"2007-10-04T15:00:00\",\"2007-10-04T16:00:00\",\"2007-10-04T17:00:00\",\"2007-10-04T18:00:00\",\"2007-10-04T19:00:00\",\"2007-10-04T20:00:00\",\"2007-10-04T21:00:00\",\"2007-10-04T22:00:00\",\"2007-10-04T23:00:00\",\"2007-10-05T00:00:00\"],\"y\":[null,null,null,null,null,null,8.1,null,null,null,null,null,null,null,null,null,null,null,null,null,null,null,null,null,null,13.8,null,null,null,null,null,null,null,null,null,null,null,null,null,null,null,null,null,null,null,null,null,null,null,null,null,null,null,15.8,null,null,null,null,null,null,null,null,null,null,null,null,null,null,null,null,null,null,15.7,null,null,null,null,null,null,null,null,null,null,null,null,null,null,null,null,null,null,null,null,16.0,null,null,null],\"type\":\"scatter\"},{\"hovertext\":[null,null,null,null,null,null,null,null,null,null,null,null,null,null,0.0,0.0,0.0,0.0,0.0,0.0,0.0,0.0,0.0,0.0,0.0,0.0,0.0,0.0,0.0,0.0,0.0,0.0,0.0,0.0,0.0,0.0,0.0,0.0,0.0,1.0,1.0,1.0,1.0,1.0,1.0,1.0,1.0,1.0,1.0,1.0,1.0,1.0,1.0,1.0,1.0,1.0,1.0,1.0,1.0,1.0,1.0,1.0,2.0,2.0,2.0,2.0,2.0,2.0,2.0,2.0,2.0,2.0,2.0,2.0,2.0,2.0,2.0,2.0,2.0,2.0,2.0,2.0,2.0,2.0,2.0,3.0,3.0,3.0,3.0,3.0,3.0,3.0,3.0,3.0,3.0,3.0,3.0],\"mode\":\"markers\",\"name\":\"local_maxima\",\"x\":[\"2007-10-01T00:00:00\",\"2007-10-01T01:00:00\",\"2007-10-01T02:00:00\",\"2007-10-01T03:00:00\",\"2007-10-01T04:00:00\",\"2007-10-01T05:00:00\",\"2007-10-01T06:00:00\",\"2007-10-01T07:00:00\",\"2007-10-01T08:00:00\",\"2007-10-01T09:00:00\",\"2007-10-01T10:00:00\",\"2007-10-01T11:00:00\",\"2007-10-01T12:00:00\",\"2007-10-01T13:00:00\",\"2007-10-01T14:00:00\",\"2007-10-01T15:00:00\",\"2007-10-01T16:00:00\",\"2007-10-01T17:00:00\",\"2007-10-01T18:00:00\",\"2007-10-01T19:00:00\",\"2007-10-01T20:00:00\",\"2007-10-01T21:00:00\",\"2007-10-01T22:00:00\",\"2007-10-01T23:00:00\",\"2007-10-02T00:00:00\",\"2007-10-02T01:00:00\",\"2007-10-02T02:00:00\",\"2007-10-02T03:00:00\",\"2007-10-02T04:00:00\",\"2007-10-02T05:00:00\",\"2007-10-02T06:00:00\",\"2007-10-02T07:00:00\",\"2007-10-02T08:00:00\",\"2007-10-02T09:00:00\",\"2007-10-02T10:00:00\",\"2007-10-02T11:00:00\",\"2007-10-02T12:00:00\",\"2007-10-02T13:00:00\",\"2007-10-02T14:00:00\",\"2007-10-02T15:00:00\",\"2007-10-02T16:00:00\",\"2007-10-02T17:00:00\",\"2007-10-02T18:00:00\",\"2007-10-02T19:00:00\",\"2007-10-02T20:00:00\",\"2007-10-02T21:00:00\",\"2007-10-02T22:00:00\",\"2007-10-02T23:00:00\",\"2007-10-03T00:00:00\",\"2007-10-03T01:00:00\",\"2007-10-03T02:00:00\",\"2007-10-03T03:00:00\",\"2007-10-03T04:00:00\",\"2007-10-03T05:00:00\",\"2007-10-03T06:00:00\",\"2007-10-03T07:00:00\",\"2007-10-03T08:00:00\",\"2007-10-03T09:00:00\",\"2007-10-03T10:00:00\",\"2007-10-03T11:00:00\",\"2007-10-03T12:00:00\",\"2007-10-03T13:00:00\",\"2007-10-03T14:00:00\",\"2007-10-03T15:00:00\",\"2007-10-03T16:00:00\",\"2007-10-03T17:00:00\",\"2007-10-03T18:00:00\",\"2007-10-03T19:00:00\",\"2007-10-03T20:00:00\",\"2007-10-03T21:00:00\",\"2007-10-03T22:00:00\",\"2007-10-03T23:00:00\",\"2007-10-04T00:00:00\",\"2007-10-04T01:00:00\",\"2007-10-04T02:00:00\",\"2007-10-04T03:00:00\",\"2007-10-04T04:00:00\",\"2007-10-04T05:00:00\",\"2007-10-04T06:00:00\",\"2007-10-04T07:00:00\",\"2007-10-04T08:00:00\",\"2007-10-04T09:00:00\",\"2007-10-04T10:00:00\",\"2007-10-04T11:00:00\",\"2007-10-04T12:00:00\",\"2007-10-04T13:00:00\",\"2007-10-04T14:00:00\",\"2007-10-04T15:00:00\",\"2007-10-04T16:00:00\",\"2007-10-04T17:00:00\",\"2007-10-04T18:00:00\",\"2007-10-04T19:00:00\",\"2007-10-04T20:00:00\",\"2007-10-04T21:00:00\",\"2007-10-04T22:00:00\",\"2007-10-04T23:00:00\",\"2007-10-05T00:00:00\"],\"y\":[null,null,null,null,null,null,null,null,null,null,null,null,null,null,23.9,null,null,null,null,null,null,null,null,null,null,null,null,null,null,null,null,null,null,null,null,null,null,null,null,21.6,null,null,null,null,null,null,null,null,null,null,null,null,null,null,null,null,null,null,null,null,null,null,21.6,null,null,null,null,null,null,null,null,null,null,null,null,null,null,null,null,null,null,null,null,null,null,25.9,null,null,null,null,null,null,null,null,null,null,null],\"type\":\"scatter\"}],                        {\"template\":{\"data\":{\"bar\":[{\"error_x\":{\"color\":\"#2a3f5f\"},\"error_y\":{\"color\":\"#2a3f5f\"},\"marker\":{\"line\":{\"color\":\"#E5ECF6\",\"width\":0.5},\"pattern\":{\"fillmode\":\"overlay\",\"size\":10,\"solidity\":0.2}},\"type\":\"bar\"}],\"barpolar\":[{\"marker\":{\"line\":{\"color\":\"#E5ECF6\",\"width\":0.5},\"pattern\":{\"fillmode\":\"overlay\",\"size\":10,\"solidity\":0.2}},\"type\":\"barpolar\"}],\"carpet\":[{\"aaxis\":{\"endlinecolor\":\"#2a3f5f\",\"gridcolor\":\"white\",\"linecolor\":\"white\",\"minorgridcolor\":\"white\",\"startlinecolor\":\"#2a3f5f\"},\"baxis\":{\"endlinecolor\":\"#2a3f5f\",\"gridcolor\":\"white\",\"linecolor\":\"white\",\"minorgridcolor\":\"white\",\"startlinecolor\":\"#2a3f5f\"},\"type\":\"carpet\"}],\"choropleth\":[{\"colorbar\":{\"outlinewidth\":0,\"ticks\":\"\"},\"type\":\"choropleth\"}],\"contour\":[{\"colorbar\":{\"outlinewidth\":0,\"ticks\":\"\"},\"colorscale\":[[0.0,\"#0d0887\"],[0.1111111111111111,\"#46039f\"],[0.2222222222222222,\"#7201a8\"],[0.3333333333333333,\"#9c179e\"],[0.4444444444444444,\"#bd3786\"],[0.5555555555555556,\"#d8576b\"],[0.6666666666666666,\"#ed7953\"],[0.7777777777777778,\"#fb9f3a\"],[0.8888888888888888,\"#fdca26\"],[1.0,\"#f0f921\"]],\"type\":\"contour\"}],\"contourcarpet\":[{\"colorbar\":{\"outlinewidth\":0,\"ticks\":\"\"},\"type\":\"contourcarpet\"}],\"heatmap\":[{\"colorbar\":{\"outlinewidth\":0,\"ticks\":\"\"},\"colorscale\":[[0.0,\"#0d0887\"],[0.1111111111111111,\"#46039f\"],[0.2222222222222222,\"#7201a8\"],[0.3333333333333333,\"#9c179e\"],[0.4444444444444444,\"#bd3786\"],[0.5555555555555556,\"#d8576b\"],[0.6666666666666666,\"#ed7953\"],[0.7777777777777778,\"#fb9f3a\"],[0.8888888888888888,\"#fdca26\"],[1.0,\"#f0f921\"]],\"type\":\"heatmap\"}],\"heatmapgl\":[{\"colorbar\":{\"outlinewidth\":0,\"ticks\":\"\"},\"colorscale\":[[0.0,\"#0d0887\"],[0.1111111111111111,\"#46039f\"],[0.2222222222222222,\"#7201a8\"],[0.3333333333333333,\"#9c179e\"],[0.4444444444444444,\"#bd3786\"],[0.5555555555555556,\"#d8576b\"],[0.6666666666666666,\"#ed7953\"],[0.7777777777777778,\"#fb9f3a\"],[0.8888888888888888,\"#fdca26\"],[1.0,\"#f0f921\"]],\"type\":\"heatmapgl\"}],\"histogram\":[{\"marker\":{\"pattern\":{\"fillmode\":\"overlay\",\"size\":10,\"solidity\":0.2}},\"type\":\"histogram\"}],\"histogram2d\":[{\"colorbar\":{\"outlinewidth\":0,\"ticks\":\"\"},\"colorscale\":[[0.0,\"#0d0887\"],[0.1111111111111111,\"#46039f\"],[0.2222222222222222,\"#7201a8\"],[0.3333333333333333,\"#9c179e\"],[0.4444444444444444,\"#bd3786\"],[0.5555555555555556,\"#d8576b\"],[0.6666666666666666,\"#ed7953\"],[0.7777777777777778,\"#fb9f3a\"],[0.8888888888888888,\"#fdca26\"],[1.0,\"#f0f921\"]],\"type\":\"histogram2d\"}],\"histogram2dcontour\":[{\"colorbar\":{\"outlinewidth\":0,\"ticks\":\"\"},\"colorscale\":[[0.0,\"#0d0887\"],[0.1111111111111111,\"#46039f\"],[0.2222222222222222,\"#7201a8\"],[0.3333333333333333,\"#9c179e\"],[0.4444444444444444,\"#bd3786\"],[0.5555555555555556,\"#d8576b\"],[0.6666666666666666,\"#ed7953\"],[0.7777777777777778,\"#fb9f3a\"],[0.8888888888888888,\"#fdca26\"],[1.0,\"#f0f921\"]],\"type\":\"histogram2dcontour\"}],\"mesh3d\":[{\"colorbar\":{\"outlinewidth\":0,\"ticks\":\"\"},\"type\":\"mesh3d\"}],\"parcoords\":[{\"line\":{\"colorbar\":{\"outlinewidth\":0,\"ticks\":\"\"}},\"type\":\"parcoords\"}],\"pie\":[{\"automargin\":true,\"type\":\"pie\"}],\"scatter\":[{\"marker\":{\"colorbar\":{\"outlinewidth\":0,\"ticks\":\"\"}},\"type\":\"scatter\"}],\"scatter3d\":[{\"line\":{\"colorbar\":{\"outlinewidth\":0,\"ticks\":\"\"}},\"marker\":{\"colorbar\":{\"outlinewidth\":0,\"ticks\":\"\"}},\"type\":\"scatter3d\"}],\"scattercarpet\":[{\"marker\":{\"colorbar\":{\"outlinewidth\":0,\"ticks\":\"\"}},\"type\":\"scattercarpet\"}],\"scattergeo\":[{\"marker\":{\"colorbar\":{\"outlinewidth\":0,\"ticks\":\"\"}},\"type\":\"scattergeo\"}],\"scattergl\":[{\"marker\":{\"colorbar\":{\"outlinewidth\":0,\"ticks\":\"\"}},\"type\":\"scattergl\"}],\"scattermapbox\":[{\"marker\":{\"colorbar\":{\"outlinewidth\":0,\"ticks\":\"\"}},\"type\":\"scattermapbox\"}],\"scatterpolar\":[{\"marker\":{\"colorbar\":{\"outlinewidth\":0,\"ticks\":\"\"}},\"type\":\"scatterpolar\"}],\"scatterpolargl\":[{\"marker\":{\"colorbar\":{\"outlinewidth\":0,\"ticks\":\"\"}},\"type\":\"scatterpolargl\"}],\"scatterternary\":[{\"marker\":{\"colorbar\":{\"outlinewidth\":0,\"ticks\":\"\"}},\"type\":\"scatterternary\"}],\"surface\":[{\"colorbar\":{\"outlinewidth\":0,\"ticks\":\"\"},\"colorscale\":[[0.0,\"#0d0887\"],[0.1111111111111111,\"#46039f\"],[0.2222222222222222,\"#7201a8\"],[0.3333333333333333,\"#9c179e\"],[0.4444444444444444,\"#bd3786\"],[0.5555555555555556,\"#d8576b\"],[0.6666666666666666,\"#ed7953\"],[0.7777777777777778,\"#fb9f3a\"],[0.8888888888888888,\"#fdca26\"],[1.0,\"#f0f921\"]],\"type\":\"surface\"}],\"table\":[{\"cells\":{\"fill\":{\"color\":\"#EBF0F8\"},\"line\":{\"color\":\"white\"}},\"header\":{\"fill\":{\"color\":\"#C8D4E3\"},\"line\":{\"color\":\"white\"}},\"type\":\"table\"}]},\"layout\":{\"annotationdefaults\":{\"arrowcolor\":\"#2a3f5f\",\"arrowhead\":0,\"arrowwidth\":1},\"autotypenumbers\":\"strict\",\"coloraxis\":{\"colorbar\":{\"outlinewidth\":0,\"ticks\":\"\"}},\"colorscale\":{\"diverging\":[[0,\"#8e0152\"],[0.1,\"#c51b7d\"],[0.2,\"#de77ae\"],[0.3,\"#f1b6da\"],[0.4,\"#fde0ef\"],[0.5,\"#f7f7f7\"],[0.6,\"#e6f5d0\"],[0.7,\"#b8e186\"],[0.8,\"#7fbc41\"],[0.9,\"#4d9221\"],[1,\"#276419\"]],\"sequential\":[[0.0,\"#0d0887\"],[0.1111111111111111,\"#46039f\"],[0.2222222222222222,\"#7201a8\"],[0.3333333333333333,\"#9c179e\"],[0.4444444444444444,\"#bd3786\"],[0.5555555555555556,\"#d8576b\"],[0.6666666666666666,\"#ed7953\"],[0.7777777777777778,\"#fb9f3a\"],[0.8888888888888888,\"#fdca26\"],[1.0,\"#f0f921\"]],\"sequentialminus\":[[0.0,\"#0d0887\"],[0.1111111111111111,\"#46039f\"],[0.2222222222222222,\"#7201a8\"],[0.3333333333333333,\"#9c179e\"],[0.4444444444444444,\"#bd3786\"],[0.5555555555555556,\"#d8576b\"],[0.6666666666666666,\"#ed7953\"],[0.7777777777777778,\"#fb9f3a\"],[0.8888888888888888,\"#fdca26\"],[1.0,\"#f0f921\"]]},\"colorway\":[\"#636efa\",\"#EF553B\",\"#00cc96\",\"#ab63fa\",\"#FFA15A\",\"#19d3f3\",\"#FF6692\",\"#B6E880\",\"#FF97FF\",\"#FECB52\"],\"font\":{\"color\":\"#2a3f5f\"},\"geo\":{\"bgcolor\":\"white\",\"lakecolor\":\"white\",\"landcolor\":\"#E5ECF6\",\"showlakes\":true,\"showland\":true,\"subunitcolor\":\"white\"},\"hoverlabel\":{\"align\":\"left\"},\"hovermode\":\"closest\",\"mapbox\":{\"style\":\"light\"},\"paper_bgcolor\":\"white\",\"plot_bgcolor\":\"#E5ECF6\",\"polar\":{\"angularaxis\":{\"gridcolor\":\"white\",\"linecolor\":\"white\",\"ticks\":\"\"},\"bgcolor\":\"#E5ECF6\",\"radialaxis\":{\"gridcolor\":\"white\",\"linecolor\":\"white\",\"ticks\":\"\"}},\"scene\":{\"xaxis\":{\"backgroundcolor\":\"#E5ECF6\",\"gridcolor\":\"white\",\"gridwidth\":2,\"linecolor\":\"white\",\"showbackground\":true,\"ticks\":\"\",\"zerolinecolor\":\"white\"},\"yaxis\":{\"backgroundcolor\":\"#E5ECF6\",\"gridcolor\":\"white\",\"gridwidth\":2,\"linecolor\":\"white\",\"showbackground\":true,\"ticks\":\"\",\"zerolinecolor\":\"white\"},\"zaxis\":{\"backgroundcolor\":\"#E5ECF6\",\"gridcolor\":\"white\",\"gridwidth\":2,\"linecolor\":\"white\",\"showbackground\":true,\"ticks\":\"\",\"zerolinecolor\":\"white\"}},\"shapedefaults\":{\"line\":{\"color\":\"#2a3f5f\"}},\"ternary\":{\"aaxis\":{\"gridcolor\":\"white\",\"linecolor\":\"white\",\"ticks\":\"\"},\"baxis\":{\"gridcolor\":\"white\",\"linecolor\":\"white\",\"ticks\":\"\"},\"bgcolor\":\"#E5ECF6\",\"caxis\":{\"gridcolor\":\"white\",\"linecolor\":\"white\",\"ticks\":\"\"}},\"title\":{\"x\":0.05},\"xaxis\":{\"automargin\":true,\"gridcolor\":\"white\",\"linecolor\":\"white\",\"ticks\":\"\",\"title\":{\"standoff\":15},\"zerolinecolor\":\"white\",\"zerolinewidth\":2},\"yaxis\":{\"automargin\":true,\"gridcolor\":\"white\",\"linecolor\":\"white\",\"ticks\":\"\",\"title\":{\"standoff\":15},\"zerolinecolor\":\"white\",\"zerolinewidth\":2}}},\"title\":{\"text\":\"temperature\"}},                        {\"responsive\": true}                    ).then(function(){\n                            \nvar gd = document.getElementById('0895685a-b3d7-455a-a717-54c89ca1e88f');\nvar x = new MutationObserver(function (mutations, observer) {{\n        var display = window.getComputedStyle(gd).display;\n        if (!display || display === 'none') {{\n            console.log([gd, 'removed!']);\n            Plotly.purge(gd);\n            observer.disconnect();\n        }}\n}});\n\n// Listen for the removal of the full notebook cells\nvar notebookContainer = gd.closest('#notebook-container');\nif (notebookContainer) {{\n    x.observe(notebookContainer, {childList: true});\n}}\n\n// Listen for the clearing of the current output cell\nvar outputEl = gd.closest('.output');\nif (outputEl) {{\n    x.observe(outputEl, {childList: true});\n}}\n\n                        })                };                });            </script>        </div>"
     },
     "metadata": {},
     "output_type": "display_data"
    },
    {
     "name": "stdout",
     "output_type": "stream",
     "text": [
      "period:  2  / 3\r"
     ]
    },
    {
     "ename": "KeyboardInterrupt",
     "evalue": "",
     "output_type": "error",
     "traceback": [
      "\u001B[1;31m---------------------------------------------------------------------------\u001B[0m",
      "\u001B[1;31mKeyboardInterrupt\u001B[0m                         Traceback (most recent call last)",
      "Input \u001B[1;32mIn [7]\u001B[0m, in \u001B[0;36m<cell line: 2>\u001B[1;34m()\u001B[0m\n\u001B[0;32m      3\u001B[0m storage_volume_w\u001B[38;5;241m.\u001B[39mvalue \u001B[38;5;241m=\u001B[39m vol\n\u001B[0;32m      4\u001B[0m address_w\u001B[38;5;241m.\u001B[39mvalue \u001B[38;5;241m=\u001B[39m \u001B[38;5;124m'\u001B[39m\u001B[38;5;124mKarlsruhe\u001B[39m\u001B[38;5;124m'\u001B[39m\n\u001B[1;32m----> 5\u001B[0m M_eta_new, P_e_new, P_w_new, data_temp_new \u001B[38;5;241m=\u001B[39m \u001B[43mmain_func\u001B[49m\u001B[43m(\u001B[49m\u001B[43m)\u001B[49m\n\u001B[0;32m      6\u001B[0m \u001B[38;5;28mprint\u001B[39m(\u001B[38;5;124m'\u001B[39m\u001B[38;5;124mstorage volume: \u001B[39m\u001B[38;5;124m'\u001B[39m, vol, \u001B[38;5;124m'\u001B[39m\u001B[38;5;124mliters\u001B[39m\u001B[38;5;124m'\u001B[39m)\n",
      "Input \u001B[1;32mIn [5]\u001B[0m, in \u001B[0;36mmain_func\u001B[1;34m()\u001B[0m\n\u001B[0;32m     67\u001B[0m data_temp \u001B[38;5;241m=\u001B[39m preprocessor\u001B[38;5;241m.\u001B[39mget_local_extrema(data_temp)\n\u001B[0;32m     69\u001B[0m temp_plot \u001B[38;5;241m=\u001B[39m plot_temperature(data_temp, \u001B[38;5;28;01mTrue\u001B[39;00m)\n\u001B[1;32m---> 71\u001B[0m M_eta_new, P_e_new, P_w_new, data_temp_new \u001B[38;5;241m=\u001B[39m \u001B[43moptimizer\u001B[49m\u001B[38;5;241;43m.\u001B[39;49m\u001B[43moptimize_periods\u001B[49m\u001B[43m(\u001B[49m\u001B[43mdata_temp\u001B[49m\u001B[43m)\u001B[49m\n\u001B[0;32m     73\u001B[0m \u001B[38;5;28;01mif\u001B[39;00m \u001B[38;5;129;01mnot\u001B[39;00m os\u001B[38;5;241m.\u001B[39mpath\u001B[38;5;241m.\u001B[39misdir(\u001B[38;5;124mf\u001B[39m\u001B[38;5;124m\"\u001B[39m\u001B[38;5;124mresults/\u001B[39m\u001B[38;5;132;01m{\u001B[39;00maddress\u001B[38;5;132;01m}\u001B[39;00m\u001B[38;5;124m\"\u001B[39m):\n\u001B[0;32m     74\u001B[0m     os\u001B[38;5;241m.\u001B[39mmakedirs(\u001B[38;5;124mf\u001B[39m\u001B[38;5;124m'\u001B[39m\u001B[38;5;124mresults/\u001B[39m\u001B[38;5;132;01m{\u001B[39;00maddress\u001B[38;5;132;01m}\u001B[39;00m\u001B[38;5;124m'\u001B[39m)\n",
      "File \u001B[1;32m~\\PycharmProjects\\Heatpump\\heatpumpcalculator\\optimizing.py:166\u001B[0m, in \u001B[0;36mOptimizer.optimize_periods\u001B[1;34m(self, df, max_periods)\u001B[0m\n\u001B[0;32m    163\u001B[0m min_df \u001B[38;5;241m=\u001B[39m pd\u001B[38;5;241m.\u001B[39mDataFrame(columns\u001B[38;5;241m=\u001B[39m[\u001B[38;5;124m'\u001B[39m\u001B[38;5;124mperiod_lim\u001B[39m\u001B[38;5;124m'\u001B[39m, \u001B[38;5;124m'\u001B[39m\u001B[38;5;124mmin_x\u001B[39m\u001B[38;5;124m'\u001B[39m, \u001B[38;5;124m'\u001B[39m\u001B[38;5;124mmin_fun\u001B[39m\u001B[38;5;124m'\u001B[39m])\n\u001B[0;32m    165\u001B[0m \u001B[38;5;28;01mfor\u001B[39;00m i \u001B[38;5;129;01min\u001B[39;00m \u001B[38;5;28mrange\u001B[39m(max_periods):\n\u001B[1;32m--> 166\u001B[0m     minimum, M_eta, P_e, P_w, df_per \u001B[38;5;241m=\u001B[39m \u001B[38;5;28;43mself\u001B[39;49m\u001B[38;5;241;43m.\u001B[39;49m\u001B[43mheating_optimization\u001B[49m\u001B[43m(\u001B[49m\u001B[43mdf\u001B[49m\u001B[38;5;241;43m.\u001B[39;49m\u001B[43mloc\u001B[49m\u001B[43m[\u001B[49m\u001B[43mindex\u001B[49m\u001B[43m:\u001B[49m\u001B[43m,\u001B[49m\u001B[43m \u001B[49m\u001B[43m:\u001B[49m\u001B[43m]\u001B[49m\u001B[43m,\u001B[49m\u001B[43m \u001B[49m\u001B[43mperiod\u001B[49m\u001B[38;5;241;43m=\u001B[39;49m\u001B[43mp\u001B[49m\u001B[43m,\u001B[49m\u001B[43m \u001B[49m\u001B[43mperiod_lim\u001B[49m\u001B[38;5;241;43m=\u001B[39;49m\u001B[43mi\u001B[49m\u001B[43m)\u001B[49m\n\u001B[0;32m    167\u001B[0m     \u001B[38;5;28;01mif\u001B[39;00m minimum\u001B[38;5;241m.\u001B[39msuccess \u001B[38;5;241m==\u001B[39m \u001B[38;5;28;01mTrue\u001B[39;00m:\n\u001B[0;32m    168\u001B[0m         min_df \u001B[38;5;241m=\u001B[39m min_df\u001B[38;5;241m.\u001B[39mappend({\u001B[38;5;124m'\u001B[39m\u001B[38;5;124mperiod_lim\u001B[39m\u001B[38;5;124m'\u001B[39m: i,\n\u001B[0;32m    169\u001B[0m                                 \u001B[38;5;124m'\u001B[39m\u001B[38;5;124mmin_x\u001B[39m\u001B[38;5;124m'\u001B[39m: minimum\u001B[38;5;241m.\u001B[39mx[\u001B[38;5;241m0\u001B[39m],\n\u001B[0;32m    170\u001B[0m                                 \u001B[38;5;124m'\u001B[39m\u001B[38;5;124mmin_fun\u001B[39m\u001B[38;5;124m'\u001B[39m: minimum\u001B[38;5;241m.\u001B[39mfun}, ignore_index\u001B[38;5;241m=\u001B[39m\u001B[38;5;28;01mTrue\u001B[39;00m)\n",
      "File \u001B[1;32m~\\PycharmProjects\\Heatpump\\heatpumpcalculator\\optimizing.py:145\u001B[0m, in \u001B[0;36mOptimizer.heating_optimization\u001B[1;34m(self, df, period_lim, period, **kwargs)\u001B[0m\n\u001B[0;32m    141\u001B[0m ub \u001B[38;5;241m=\u001B[39m \u001B[38;5;28mself\u001B[39m\u001B[38;5;241m.\u001B[39mmax_heat_cap\n\u001B[0;32m    142\u001B[0m bounds \u001B[38;5;241m=\u001B[39m Bounds(lb\u001B[38;5;241m=\u001B[39mlb, ub\u001B[38;5;241m=\u001B[39mub)\n\u001B[1;32m--> 145\u001B[0m \u001B[38;5;28mmin\u001B[39m \u001B[38;5;241m=\u001B[39m \u001B[43mminimize\u001B[49m\u001B[43m(\u001B[49m\u001B[43mtarget_fun\u001B[49m\u001B[43m,\u001B[49m\u001B[43m \u001B[49m\u001B[43mx0\u001B[49m\u001B[38;5;241;43m=\u001B[39;49m\u001B[43m(\u001B[49m\u001B[43mlb\u001B[49m\u001B[43m \u001B[49m\u001B[38;5;241;43m+\u001B[39;49m\u001B[43m \u001B[49m\u001B[38;5;241;43m1\u001B[39;49m\u001B[43m,\u001B[49m\u001B[43m)\u001B[49m\u001B[43m,\u001B[49m\u001B[43m \u001B[49m\u001B[43mbounds\u001B[49m\u001B[38;5;241;43m=\u001B[39;49m\u001B[43mbounds\u001B[49m\u001B[43m,\u001B[49m\u001B[43m \u001B[49m\u001B[43mconstraints\u001B[49m\u001B[38;5;241;43m=\u001B[39;49m\u001B[43m{\u001B[49m\u001B[38;5;124;43m'\u001B[39;49m\u001B[38;5;124;43mtype\u001B[39;49m\u001B[38;5;124;43m'\u001B[39;49m\u001B[43m:\u001B[49m\u001B[43m \u001B[49m\u001B[38;5;124;43m'\u001B[39;49m\u001B[38;5;124;43mineq\u001B[39;49m\u001B[38;5;124;43m'\u001B[39;49m\u001B[43m,\u001B[49m\n\u001B[0;32m    146\u001B[0m \u001B[43m                                                                     \u001B[49m\u001B[38;5;124;43m'\u001B[39;49m\u001B[38;5;124;43mfun\u001B[39;49m\u001B[38;5;124;43m'\u001B[39;49m\u001B[43m:\u001B[49m\u001B[43m \u001B[49m\u001B[43mconstraint_fun\u001B[49m\u001B[43m}\u001B[49m\u001B[43m)\u001B[49m\n\u001B[0;32m    148\u001B[0m M_eta_opt, P_e_opt, P_w_opt, df_per_opt \u001B[38;5;241m=\u001B[39m target_fun(\u001B[38;5;28mmin\u001B[39m\u001B[38;5;241m.\u001B[39mx[\u001B[38;5;241m0\u001B[39m],\n\u001B[0;32m    149\u001B[0m                                                      optimizing\u001B[38;5;241m=\u001B[39m\u001B[38;5;28;01mFalse\u001B[39;00m)  \u001B[38;5;66;03m# get values for optimal heating temperature\u001B[39;00m\n\u001B[0;32m    151\u001B[0m \u001B[38;5;28;01mreturn\u001B[39;00m \u001B[38;5;28mmin\u001B[39m, M_eta_opt, P_e_opt, P_w_opt, df_per_opt\n",
      "File \u001B[1;32m~\\.conda\\envs\\DataScience\\lib\\site-packages\\scipy\\optimize\\_minimize.py:631\u001B[0m, in \u001B[0;36mminimize\u001B[1;34m(fun, x0, args, method, jac, hess, hessp, bounds, constraints, tol, callback, options)\u001B[0m\n\u001B[0;32m    629\u001B[0m     \u001B[38;5;28;01mreturn\u001B[39;00m _minimize_cobyla(fun, x0, args, constraints, \u001B[38;5;241m*\u001B[39m\u001B[38;5;241m*\u001B[39moptions)\n\u001B[0;32m    630\u001B[0m \u001B[38;5;28;01melif\u001B[39;00m meth \u001B[38;5;241m==\u001B[39m \u001B[38;5;124m'\u001B[39m\u001B[38;5;124mslsqp\u001B[39m\u001B[38;5;124m'\u001B[39m:\n\u001B[1;32m--> 631\u001B[0m     \u001B[38;5;28;01mreturn\u001B[39;00m _minimize_slsqp(fun, x0, args, jac, bounds,\n\u001B[0;32m    632\u001B[0m                            constraints, callback\u001B[38;5;241m=\u001B[39mcallback, \u001B[38;5;241m*\u001B[39m\u001B[38;5;241m*\u001B[39moptions)\n\u001B[0;32m    633\u001B[0m \u001B[38;5;28;01melif\u001B[39;00m meth \u001B[38;5;241m==\u001B[39m \u001B[38;5;124m'\u001B[39m\u001B[38;5;124mtrust-constr\u001B[39m\u001B[38;5;124m'\u001B[39m:\n\u001B[0;32m    634\u001B[0m     \u001B[38;5;28;01mreturn\u001B[39;00m _minimize_trustregion_constr(fun, x0, args, jac, hess, hessp,\n\u001B[0;32m    635\u001B[0m                                         bounds, constraints,\n\u001B[0;32m    636\u001B[0m                                         callback\u001B[38;5;241m=\u001B[39mcallback, \u001B[38;5;241m*\u001B[39m\u001B[38;5;241m*\u001B[39moptions)\n",
      "File \u001B[1;32m~\\.conda\\envs\\DataScience\\lib\\site-packages\\scipy\\optimize\\slsqp.py:434\u001B[0m, in \u001B[0;36m_minimize_slsqp\u001B[1;34m(func, x0, args, jac, bounds, constraints, maxiter, ftol, iprint, disp, eps, callback, finite_diff_rel_step, **unknown_options)\u001B[0m\n\u001B[0;32m    432\u001B[0m \u001B[38;5;28;01mif\u001B[39;00m mode \u001B[38;5;241m==\u001B[39m \u001B[38;5;241m1\u001B[39m:  \u001B[38;5;66;03m# objective and constraint evaluation required\u001B[39;00m\n\u001B[0;32m    433\u001B[0m     fx \u001B[38;5;241m=\u001B[39m wrapped_fun(x)\n\u001B[1;32m--> 434\u001B[0m     c \u001B[38;5;241m=\u001B[39m \u001B[43m_eval_constraint\u001B[49m\u001B[43m(\u001B[49m\u001B[43mx\u001B[49m\u001B[43m,\u001B[49m\u001B[43m \u001B[49m\u001B[43mcons\u001B[49m\u001B[43m)\u001B[49m\n\u001B[0;32m    436\u001B[0m \u001B[38;5;28;01mif\u001B[39;00m mode \u001B[38;5;241m==\u001B[39m \u001B[38;5;241m-\u001B[39m\u001B[38;5;241m1\u001B[39m:  \u001B[38;5;66;03m# gradient evaluation required\u001B[39;00m\n\u001B[0;32m    437\u001B[0m     g \u001B[38;5;241m=\u001B[39m append(wrapped_grad(x), \u001B[38;5;241m0.0\u001B[39m)\n",
      "File \u001B[1;32m~\\.conda\\envs\\DataScience\\lib\\site-packages\\scipy\\optimize\\slsqp.py:478\u001B[0m, in \u001B[0;36m_eval_constraint\u001B[1;34m(x, cons)\u001B[0m\n\u001B[0;32m    475\u001B[0m     c_eq \u001B[38;5;241m=\u001B[39m zeros(\u001B[38;5;241m0\u001B[39m)\n\u001B[0;32m    477\u001B[0m \u001B[38;5;28;01mif\u001B[39;00m cons[\u001B[38;5;124m'\u001B[39m\u001B[38;5;124mineq\u001B[39m\u001B[38;5;124m'\u001B[39m]:\n\u001B[1;32m--> 478\u001B[0m     c_ieq \u001B[38;5;241m=\u001B[39m concatenate([atleast_1d(con[\u001B[38;5;124m'\u001B[39m\u001B[38;5;124mfun\u001B[39m\u001B[38;5;124m'\u001B[39m](x, \u001B[38;5;241m*\u001B[39mcon[\u001B[38;5;124m'\u001B[39m\u001B[38;5;124margs\u001B[39m\u001B[38;5;124m'\u001B[39m]))\n\u001B[0;32m    479\u001B[0m                          \u001B[38;5;28;01mfor\u001B[39;00m con \u001B[38;5;129;01min\u001B[39;00m cons[\u001B[38;5;124m'\u001B[39m\u001B[38;5;124mineq\u001B[39m\u001B[38;5;124m'\u001B[39m]])\n\u001B[0;32m    480\u001B[0m \u001B[38;5;28;01melse\u001B[39;00m:\n\u001B[0;32m    481\u001B[0m     c_ieq \u001B[38;5;241m=\u001B[39m zeros(\u001B[38;5;241m0\u001B[39m)\n",
      "File \u001B[1;32m~\\.conda\\envs\\DataScience\\lib\\site-packages\\scipy\\optimize\\slsqp.py:478\u001B[0m, in \u001B[0;36m<listcomp>\u001B[1;34m(.0)\u001B[0m\n\u001B[0;32m    475\u001B[0m     c_eq \u001B[38;5;241m=\u001B[39m zeros(\u001B[38;5;241m0\u001B[39m)\n\u001B[0;32m    477\u001B[0m \u001B[38;5;28;01mif\u001B[39;00m cons[\u001B[38;5;124m'\u001B[39m\u001B[38;5;124mineq\u001B[39m\u001B[38;5;124m'\u001B[39m]:\n\u001B[1;32m--> 478\u001B[0m     c_ieq \u001B[38;5;241m=\u001B[39m concatenate([atleast_1d(\u001B[43mcon\u001B[49m\u001B[43m[\u001B[49m\u001B[38;5;124;43m'\u001B[39;49m\u001B[38;5;124;43mfun\u001B[39;49m\u001B[38;5;124;43m'\u001B[39;49m\u001B[43m]\u001B[49m\u001B[43m(\u001B[49m\u001B[43mx\u001B[49m\u001B[43m,\u001B[49m\u001B[43m \u001B[49m\u001B[38;5;241;43m*\u001B[39;49m\u001B[43mcon\u001B[49m\u001B[43m[\u001B[49m\u001B[38;5;124;43m'\u001B[39;49m\u001B[38;5;124;43margs\u001B[39;49m\u001B[38;5;124;43m'\u001B[39;49m\u001B[43m]\u001B[49m\u001B[43m)\u001B[49m)\n\u001B[0;32m    479\u001B[0m                          \u001B[38;5;28;01mfor\u001B[39;00m con \u001B[38;5;129;01min\u001B[39;00m cons[\u001B[38;5;124m'\u001B[39m\u001B[38;5;124mineq\u001B[39m\u001B[38;5;124m'\u001B[39m]])\n\u001B[0;32m    480\u001B[0m \u001B[38;5;28;01melse\u001B[39;00m:\n\u001B[0;32m    481\u001B[0m     c_ieq \u001B[38;5;241m=\u001B[39m zeros(\u001B[38;5;241m0\u001B[39m)\n",
      "File \u001B[1;32m~\\PycharmProjects\\Heatpump\\heatpumpcalculator\\optimizing.py:115\u001B[0m, in \u001B[0;36mOptimizer.heating_optimization.<locals>.constraint_fun\u001B[1;34m(fl)\u001B[0m\n\u001B[0;32m    113\u001B[0m \u001B[38;5;28;01mdef\u001B[39;00m \u001B[38;5;21mconstraint_fun\u001B[39m(fl):\n\u001B[1;32m--> 115\u001B[0m     P_w \u001B[38;5;241m=\u001B[39m \u001B[43mtarget_fun\u001B[49m\u001B[43m(\u001B[49m\u001B[43mfl\u001B[49m\u001B[43m,\u001B[49m\u001B[43m \u001B[49m\u001B[43mconstraint\u001B[49m\u001B[38;5;241;43m=\u001B[39;49m\u001B[38;5;28;43;01mTrue\u001B[39;49;00m\u001B[43m)\u001B[49m\n\u001B[0;32m    116\u001B[0m     stor_vol \u001B[38;5;241m=\u001B[39m np\u001B[38;5;241m.\u001B[39mzeros((P_w\u001B[38;5;241m.\u001B[39mshape[\u001B[38;5;241m0\u001B[39m],))\n\u001B[0;32m    118\u001B[0m     \u001B[38;5;28;01mfor\u001B[39;00m i \u001B[38;5;129;01min\u001B[39;00m \u001B[38;5;28mrange\u001B[39m(P_w\u001B[38;5;241m.\u001B[39mshape[\u001B[38;5;241m0\u001B[39m] \u001B[38;5;241m-\u001B[39m \u001B[38;5;241m1\u001B[39m):\n",
      "File \u001B[1;32m~\\PycharmProjects\\Heatpump\\heatpumpcalculator\\optimizing.py:69\u001B[0m, in \u001B[0;36mOptimizer.heating_optimization.<locals>.target_fun\u001B[1;34m(fl, optimizing, constraint)\u001B[0m\n\u001B[0;32m     66\u001B[0m P_w_j \u001B[38;5;241m=\u001B[39m P_w_sum[j]  \u001B[38;5;66;03m# energy needed (w) in hour j\u001B[39;00m\n\u001B[0;32m     68\u001B[0m M_eta_j \u001B[38;5;241m=\u001B[39m M_eta[:, j]  \u001B[38;5;66;03m# efficiencies in each hour\u001B[39;00m\n\u001B[1;32m---> 69\u001B[0m eta_sorted_j_index \u001B[38;5;241m=\u001B[39m np\u001B[38;5;241m.\u001B[39mflip(\u001B[43mnp\u001B[49m\u001B[38;5;241;43m.\u001B[39;49m\u001B[43margsort\u001B[49m\u001B[43m(\u001B[49m\u001B[43mM_eta_j\u001B[49m\u001B[43m)\u001B[49m)  \u001B[38;5;66;03m# get indexes of highest values in M_eta_j\u001B[39;00m\n\u001B[0;32m     70\u001B[0m eta_sorted_j \u001B[38;5;241m=\u001B[39m M_eta_j[eta_sorted_j_index]  \u001B[38;5;66;03m# get highest values of M_eta_j (descending order)\u001B[39;00m\n\u001B[0;32m     72\u001B[0m P_w_available_j \u001B[38;5;241m=\u001B[39m P_e_available[\n\u001B[0;32m     73\u001B[0m                       eta_sorted_j_index] \u001B[38;5;241m*\u001B[39m eta_sorted_j  \u001B[38;5;66;03m# available energy (w) for hour j in descending cost order\u001B[39;00m\n",
      "File \u001B[1;32m<__array_function__ internals>:180\u001B[0m, in \u001B[0;36margsort\u001B[1;34m(*args, **kwargs)\u001B[0m\n",
      "File \u001B[1;32m~\\.conda\\envs\\DataScience\\lib\\site-packages\\numpy\\core\\fromnumeric.py:1120\u001B[0m, in \u001B[0;36margsort\u001B[1;34m(a, axis, kind, order)\u001B[0m\n\u001B[0;32m   1012\u001B[0m \u001B[38;5;129m@array_function_dispatch\u001B[39m(_argsort_dispatcher)\n\u001B[0;32m   1013\u001B[0m \u001B[38;5;28;01mdef\u001B[39;00m \u001B[38;5;21margsort\u001B[39m(a, axis\u001B[38;5;241m=\u001B[39m\u001B[38;5;241m-\u001B[39m\u001B[38;5;241m1\u001B[39m, kind\u001B[38;5;241m=\u001B[39m\u001B[38;5;28;01mNone\u001B[39;00m, order\u001B[38;5;241m=\u001B[39m\u001B[38;5;28;01mNone\u001B[39;00m):\n\u001B[0;32m   1014\u001B[0m     \u001B[38;5;124;03m\"\"\"\u001B[39;00m\n\u001B[0;32m   1015\u001B[0m \u001B[38;5;124;03m    Returns the indices that would sort an array.\u001B[39;00m\n\u001B[0;32m   1016\u001B[0m \n\u001B[1;32m   (...)\u001B[0m\n\u001B[0;32m   1118\u001B[0m \n\u001B[0;32m   1119\u001B[0m \u001B[38;5;124;03m    \"\"\"\u001B[39;00m\n\u001B[1;32m-> 1120\u001B[0m     \u001B[38;5;28;01mreturn\u001B[39;00m \u001B[43m_wrapfunc\u001B[49m\u001B[43m(\u001B[49m\u001B[43ma\u001B[49m\u001B[43m,\u001B[49m\u001B[43m \u001B[49m\u001B[38;5;124;43m'\u001B[39;49m\u001B[38;5;124;43margsort\u001B[39;49m\u001B[38;5;124;43m'\u001B[39;49m\u001B[43m,\u001B[49m\u001B[43m \u001B[49m\u001B[43maxis\u001B[49m\u001B[38;5;241;43m=\u001B[39;49m\u001B[43maxis\u001B[49m\u001B[43m,\u001B[49m\u001B[43m \u001B[49m\u001B[43mkind\u001B[49m\u001B[38;5;241;43m=\u001B[39;49m\u001B[43mkind\u001B[49m\u001B[43m,\u001B[49m\u001B[43m \u001B[49m\u001B[43morder\u001B[49m\u001B[38;5;241;43m=\u001B[39;49m\u001B[43morder\u001B[49m\u001B[43m)\u001B[49m\n",
      "File \u001B[1;32m~\\.conda\\envs\\DataScience\\lib\\site-packages\\numpy\\core\\fromnumeric.py:57\u001B[0m, in \u001B[0;36m_wrapfunc\u001B[1;34m(obj, method, *args, **kwds)\u001B[0m\n\u001B[0;32m     54\u001B[0m     \u001B[38;5;28;01mreturn\u001B[39;00m _wrapit(obj, method, \u001B[38;5;241m*\u001B[39margs, \u001B[38;5;241m*\u001B[39m\u001B[38;5;241m*\u001B[39mkwds)\n\u001B[0;32m     56\u001B[0m \u001B[38;5;28;01mtry\u001B[39;00m:\n\u001B[1;32m---> 57\u001B[0m     \u001B[38;5;28;01mreturn\u001B[39;00m bound(\u001B[38;5;241m*\u001B[39margs, \u001B[38;5;241m*\u001B[39m\u001B[38;5;241m*\u001B[39mkwds)\n\u001B[0;32m     58\u001B[0m \u001B[38;5;28;01mexcept\u001B[39;00m \u001B[38;5;167;01mTypeError\u001B[39;00m:\n\u001B[0;32m     59\u001B[0m     \u001B[38;5;66;03m# A TypeError occurs if the object does have such a method in its\u001B[39;00m\n\u001B[0;32m     60\u001B[0m     \u001B[38;5;66;03m# class, but its signature is not identical to that of NumPy's. This\u001B[39;00m\n\u001B[1;32m   (...)\u001B[0m\n\u001B[0;32m     64\u001B[0m     \u001B[38;5;66;03m# Call _wrapit from within the except clause to ensure a potential\u001B[39;00m\n\u001B[0;32m     65\u001B[0m     \u001B[38;5;66;03m# exception has a traceback chain.\u001B[39;00m\n\u001B[0;32m     66\u001B[0m     \u001B[38;5;28;01mreturn\u001B[39;00m _wrapit(obj, method, \u001B[38;5;241m*\u001B[39margs, \u001B[38;5;241m*\u001B[39m\u001B[38;5;241m*\u001B[39mkwds)\n",
      "\u001B[1;31mKeyboardInterrupt\u001B[0m: "
     ]
    }
   ],
   "source": [
    "storage_volumes = [100, 200, 300, 500, 1000, 3000, 5000, 8000, 12000, 15000, 30000]\n",
    "for vol in storage_volumes:\n",
    "    storage_volume_w.value = vol\n",
    "    address_w.value = 'Karlsruhe'\n",
    "    M_eta_new, P_e_new, P_w_new, data_temp_new = main_func()\n",
    "    print('storage volume: ', vol, 'liters')"
   ]
  },
  {
   "cell_type": "code",
   "execution_count": null,
   "outputs": [],
   "source": [],
   "metadata": {
    "collapsed": false,
    "pycharm": {
     "name": "#%%\n"
    }
   }
  }
 ],
 "metadata": {
  "kernelspec": {
   "display_name": "Python 3 (ipykernel)",
   "language": "python",
   "name": "python3"
  },
  "language_info": {
   "codemirror_mode": {
    "name": "ipython",
    "version": 3
   },
   "file_extension": ".py",
   "mimetype": "text/x-python",
   "name": "python",
   "nbconvert_exporter": "python",
   "pygments_lexer": "ipython3",
   "version": "3.10.4"
  }
 },
 "nbformat": 4,
 "nbformat_minor": 1
}