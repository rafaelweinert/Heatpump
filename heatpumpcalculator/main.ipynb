{
 "cells": [
  {
   "cell_type": "code",
   "execution_count": 1,
   "metadata": {
    "pycharm": {
     "name": "#%%\n"
    }
   },
   "outputs": [],
   "source": [
    "import constants as c\n",
    "import functions\n",
    "import optimizing\n",
    "import preprocessing\n",
    "import testreferenceyears\n",
    "from visualize import *\n",
    "from forecasting import *\n",
    "\n",
    "import os\n",
    "import io\n",
    "from ipywidgets import Button\n",
    "import asyncio\n",
    "from ipywidgets import IntSlider, FloatSlider, FloatText, Text, widgets, Checkbox, FileUpload, ToggleButtons\n",
    "from IPython.display import display\n",
    "\n",
    "import numpy as np\n",
    "import pandas as pd\n",
    "\n",
    "import warnings\n",
    "warnings.filterwarnings('ignore')"
   ]
  },
  {
   "cell_type": "code",
   "execution_count": 11,
   "metadata": {
    "pycharm": {
     "name": "#%%\n"
    }
   },
   "outputs": [
    {
     "name": "stdout",
     "output_type": "stream",
     "text": [
      "Adjust the values of the building and click GO! when you are ready.\n"
     ]
    },
    {
     "data": {
      "application/vnd.jupyter.widget-view+json": {
       "model_id": "fb585c3b191e4f3fa90db89490458a95",
       "version_major": 2,
       "version_minor": 0
      },
      "text/plain": [
       "FloatSlider(value=21.0, continuous_update=False, description='Desired room temperature [°C]: ', layout=Layout(…"
      ]
     },
     "metadata": {},
     "output_type": "display_data"
    },
    {
     "data": {
      "application/vnd.jupyter.widget-view+json": {
       "model_id": "b3d0b03be7da460083997ee603ee5e17",
       "version_major": 2,
       "version_minor": 0
      },
      "text/plain": [
       "FloatSlider(value=25.0, continuous_update=False, description='Returning flow temperature [°C]: ', layout=Layou…"
      ]
     },
     "metadata": {},
     "output_type": "display_data"
    },
    {
     "data": {
      "application/vnd.jupyter.widget-view+json": {
       "model_id": "cab4b7c60cd24de6908d9ed2cd901a07",
       "version_major": 2,
       "version_minor": 0
      },
      "text/plain": [
       "FloatSlider(value=0.4, continuous_update=False, description='Quality factor of the heat pump: ', layout=Layout…"
      ]
     },
     "metadata": {},
     "output_type": "display_data"
    },
    {
     "data": {
      "application/vnd.jupyter.widget-view+json": {
       "model_id": "831f120d732447719d10937b93d18daf",
       "version_major": 2,
       "version_minor": 0
      },
      "text/plain": [
       "FloatText(value=200.0, description='Energy need in Watt per Kelvin [W/K]: ', layout=Layout(height='40px', widt…"
      ]
     },
     "metadata": {},
     "output_type": "display_data"
    },
    {
     "data": {
      "application/vnd.jupyter.widget-view+json": {
       "model_id": "3d98fea47bb545068bfd3ed24d8e76da",
       "version_major": 2,
       "version_minor": 0
      },
      "text/plain": [
       "FloatText(value=200.0, description='Energy need of your storage (DIN...): ', layout=Layout(height='40px', widt…"
      ]
     },
     "metadata": {},
     "output_type": "display_data"
    },
    {
     "data": {
      "application/vnd.jupyter.widget-view+json": {
       "model_id": "97ac763235084614907b55932f7f3441",
       "version_major": 2,
       "version_minor": 0
      },
      "text/plain": [
       "FloatText(value=4000.0, description='Storage volume [Liter or equivalent]: ', layout=Layout(height='40px', wid…"
      ]
     },
     "metadata": {},
     "output_type": "display_data"
    },
    {
     "data": {
      "application/vnd.jupyter.widget-view+json": {
       "model_id": "005e6fb7f6084be589da1107ed9ef6a9",
       "version_major": 2,
       "version_minor": 0
      },
      "text/plain": [
       "FloatText(value=5000.0, description='Power of heat pump [Watt]: ', layout=Layout(height='40px', width='auto'),…"
      ]
     },
     "metadata": {},
     "output_type": "display_data"
    },
    {
     "data": {
      "application/vnd.jupyter.widget-view+json": {
       "model_id": "fe42377408584361bafa172d77468d22",
       "version_major": 2,
       "version_minor": 0
      },
      "text/plain": [
       "IntSlider(value=80, description='Maximum heating temperature [°C]: ', layout=Layout(height='40px', width='auto…"
      ]
     },
     "metadata": {},
     "output_type": "display_data"
    },
    {
     "data": {
      "application/vnd.jupyter.widget-view+json": {
       "model_id": "7ce9663d072f4570b3f31f7e50e4cb69",
       "version_major": 2,
       "version_minor": 0
      },
      "text/plain": [
       "Text(value='', description='Address: ', layout=Layout(height='40px', width='auto'), placeholder='Examplestreet…"
      ]
     },
     "metadata": {},
     "output_type": "display_data"
    },
    {
     "data": {
      "application/vnd.jupyter.widget-view+json": {
       "model_id": "946f441c75b546b295dd7f223adafcfe",
       "version_major": 2,
       "version_minor": 0
      },
      "text/plain": [
       "FloatText(value=-15.0, description='Minimum outside temperature [°C]: ', layout=Layout(height='40px', width='a…"
      ]
     },
     "metadata": {},
     "output_type": "display_data"
    },
    {
     "data": {
      "application/vnd.jupyter.widget-view+json": {
       "model_id": "c490eab190904acbb881c527f864eab1",
       "version_major": 2,
       "version_minor": 0
      },
      "text/plain": [
       "FloatText(value=50.0, description='Maximum flow temperature at minimum temperature [°C]: ', layout=Layout(heig…"
      ]
     },
     "metadata": {},
     "output_type": "display_data"
    },
    {
     "data": {
      "application/vnd.jupyter.widget-view+json": {
       "model_id": "f6d4d6ed75c44b0ba59fb3c615270ae9",
       "version_major": 2,
       "version_minor": 0
      },
      "text/plain": [
       "ToggleButtons(description='Type of calculation: ', layout=Layout(height='40px', width='auto'), options=('Whole…"
      ]
     },
     "metadata": {},
     "output_type": "display_data"
    },
    {
     "data": {
      "application/vnd.jupyter.widget-view+json": {
       "model_id": "f51c73993cfc47f4ab129179425f6a43",
       "version_major": 2,
       "version_minor": 0
      },
      "text/plain": [
       "Checkbox(value=False, description='Generate visualizations?')"
      ]
     },
     "metadata": {},
     "output_type": "display_data"
    },
    {
     "data": {
      "application/vnd.jupyter.widget-view+json": {
       "model_id": "0f0906dc557f48048c494477eb88f388",
       "version_major": 2,
       "version_minor": 0
      },
      "text/plain": [
       "Checkbox(value=True, description='Generate optimization?')"
      ]
     },
     "metadata": {},
     "output_type": "display_data"
    },
    {
     "data": {
      "application/vnd.jupyter.widget-view+json": {
       "model_id": "49fdd0be8f4c4ffc97ca624f4be006e3",
       "version_major": 2,
       "version_minor": 0
      },
      "text/plain": [
       "Checkbox(value=False, description='Upload own temperature data?')"
      ]
     },
     "metadata": {},
     "output_type": "display_data"
    },
    {
     "data": {
      "application/vnd.jupyter.widget-view+json": {
       "model_id": "b71b9ac1defb4929825ed43f27cb1003",
       "version_major": 2,
       "version_minor": 0
      },
      "text/plain": [
       "FileUpload(value={}, description='Upload', layout=Layout(visibility='hidden'))"
      ]
     },
     "metadata": {},
     "output_type": "display_data"
    },
    {
     "data": {
      "application/vnd.jupyter.widget-view+json": {
       "model_id": "d1a2cebc82aa41bda7f624d9047bec1a",
       "version_major": 2,
       "version_minor": 0
      },
      "text/plain": [
       "Button(description='GO!', style=ButtonStyle())"
      ]
     },
     "metadata": {},
     "output_type": "display_data"
    },
    {
     "name": "stdout",
     "output_type": "stream",
     "text": [
      "------ computing saving potentials -------\n",
      "            name country region    wmo  icao  latitude  longitude  elevation  \\\n",
      "id                                                                             \n",
      "10727  Karlsruhe      DE     BW  10727  EDIL   49.0333     8.3667      112.0   \n",
      "\n",
      "            timezone hourly_start hourly_end daily_start  daily_end  \\\n",
      "id                                                                    \n",
      "10727  Europe/Berlin   1948-01-01 2008-11-02  1876-01-01 2008-11-01   \n",
      "\n",
      "      monthly_start monthly_end     distance  \n",
      "id                                            \n",
      "10727    1876-01-01  2008-01-01  5626.530526  \n"
     ]
    },
    {
     "data": {
      "application/vnd.plotly.v1+json": {
       "config": {
        "plotlyServerURL": "https://plot.ly"
       },
       "data": [
        {
         "name": "Temperature in °C",
         "type": "scatter",
         "x": [
          "2022-11-20T00:00:00",
          "2022-11-20T01:00:00",
          "2022-11-20T02:00:00",
          "2022-11-20T03:00:00",
          "2022-11-20T04:00:00",
          "2022-11-20T05:00:00",
          "2022-11-20T06:00:00",
          "2022-11-20T07:00:00",
          "2022-11-20T08:00:00",
          "2022-11-20T09:00:00",
          "2022-11-20T10:00:00",
          "2022-11-20T11:00:00",
          "2022-11-20T12:00:00",
          "2022-11-20T13:00:00",
          "2022-11-20T14:00:00",
          "2022-11-20T15:00:00",
          "2022-11-20T16:00:00",
          "2022-11-20T17:00:00",
          "2022-11-20T18:00:00",
          "2022-11-20T19:00:00",
          "2022-11-20T20:00:00",
          "2022-11-20T21:00:00",
          "2022-11-20T22:00:00",
          "2022-11-20T23:00:00",
          "2022-11-21T00:00:00",
          "2022-11-21T01:00:00",
          "2022-11-21T02:00:00",
          "2022-11-21T03:00:00",
          "2022-11-21T04:00:00",
          "2022-11-21T05:00:00",
          "2022-11-21T06:00:00",
          "2022-11-21T07:00:00",
          "2022-11-21T08:00:00",
          "2022-11-21T09:00:00",
          "2022-11-21T10:00:00",
          "2022-11-21T11:00:00",
          "2022-11-21T12:00:00",
          "2022-11-21T13:00:00",
          "2022-11-21T14:00:00",
          "2022-11-21T15:00:00",
          "2022-11-21T16:00:00",
          "2022-11-21T17:00:00",
          "2022-11-21T18:00:00",
          "2022-11-21T19:00:00",
          "2022-11-21T20:00:00",
          "2022-11-21T21:00:00",
          "2022-11-21T22:00:00",
          "2022-11-21T23:00:00",
          "2022-11-22T00:00:00",
          "2022-11-22T01:00:00",
          "2022-11-22T02:00:00",
          "2022-11-22T03:00:00",
          "2022-11-22T04:00:00",
          "2022-11-22T05:00:00",
          "2022-11-22T06:00:00",
          "2022-11-22T07:00:00",
          "2022-11-22T08:00:00",
          "2022-11-22T09:00:00",
          "2022-11-22T10:00:00",
          "2022-11-22T11:00:00",
          "2022-11-22T12:00:00",
          "2022-11-22T13:00:00",
          "2022-11-22T14:00:00",
          "2022-11-22T15:00:00",
          "2022-11-22T16:00:00",
          "2022-11-22T17:00:00",
          "2022-11-22T18:00:00",
          "2022-11-22T19:00:00",
          "2022-11-22T20:00:00",
          "2022-11-22T21:00:00",
          "2022-11-22T22:00:00",
          "2022-11-22T23:00:00"
         ],
         "y": [
          -1.6,
          -2.2,
          -2.5,
          -2.6,
          -2.6,
          -2.6,
          -2.5,
          -2.2,
          -2.1,
          -1.2,
          0.4,
          1.3,
          1.9,
          2.2,
          2.3,
          2,
          0.5,
          -0.4,
          -0.6,
          -1.2,
          -2.2,
          -2.5,
          -2.5,
          -2.5,
          -2.6,
          -2.7,
          -2.3,
          -2.3,
          -2.6,
          -2.9,
          -2.8,
          -2.9,
          -3,
          -1.9,
          -0.2,
          1.2,
          2,
          2.4,
          2.6,
          1.8,
          -0.3,
          -1.1,
          -1.5,
          -1.8,
          -2.9,
          -3.1,
          -3.3,
          -3.4,
          -3.4,
          -3.1,
          -2.6,
          -1.7,
          -1,
          -0.7,
          -0.7,
          -0.9,
          -0.5,
          0.3,
          1.3,
          1.7,
          2,
          2.2,
          2.6,
          2.7,
          1.6,
          1.1,
          1.1,
          1.3,
          1.4,
          1.5,
          1.8,
          2
         ]
        },
        {
         "mode": "markers",
         "name": "local_minima",
         "type": "scatter",
         "x": [
          "2022-11-20T00:00:00",
          "2022-11-20T01:00:00",
          "2022-11-20T02:00:00",
          "2022-11-20T03:00:00",
          "2022-11-20T04:00:00",
          "2022-11-20T05:00:00",
          "2022-11-20T06:00:00",
          "2022-11-20T07:00:00",
          "2022-11-20T08:00:00",
          "2022-11-20T09:00:00",
          "2022-11-20T10:00:00",
          "2022-11-20T11:00:00",
          "2022-11-20T12:00:00",
          "2022-11-20T13:00:00",
          "2022-11-20T14:00:00",
          "2022-11-20T15:00:00",
          "2022-11-20T16:00:00",
          "2022-11-20T17:00:00",
          "2022-11-20T18:00:00",
          "2022-11-20T19:00:00",
          "2022-11-20T20:00:00",
          "2022-11-20T21:00:00",
          "2022-11-20T22:00:00",
          "2022-11-20T23:00:00",
          "2022-11-21T00:00:00",
          "2022-11-21T01:00:00",
          "2022-11-21T02:00:00",
          "2022-11-21T03:00:00",
          "2022-11-21T04:00:00",
          "2022-11-21T05:00:00",
          "2022-11-21T06:00:00",
          "2022-11-21T07:00:00",
          "2022-11-21T08:00:00",
          "2022-11-21T09:00:00",
          "2022-11-21T10:00:00",
          "2022-11-21T11:00:00",
          "2022-11-21T12:00:00",
          "2022-11-21T13:00:00",
          "2022-11-21T14:00:00",
          "2022-11-21T15:00:00",
          "2022-11-21T16:00:00",
          "2022-11-21T17:00:00",
          "2022-11-21T18:00:00",
          "2022-11-21T19:00:00",
          "2022-11-21T20:00:00",
          "2022-11-21T21:00:00",
          "2022-11-21T22:00:00",
          "2022-11-21T23:00:00",
          "2022-11-22T00:00:00",
          "2022-11-22T01:00:00",
          "2022-11-22T02:00:00",
          "2022-11-22T03:00:00",
          "2022-11-22T04:00:00",
          "2022-11-22T05:00:00",
          "2022-11-22T06:00:00",
          "2022-11-22T07:00:00",
          "2022-11-22T08:00:00",
          "2022-11-22T09:00:00",
          "2022-11-22T10:00:00",
          "2022-11-22T11:00:00",
          "2022-11-22T12:00:00",
          "2022-11-22T13:00:00",
          "2022-11-22T14:00:00",
          "2022-11-22T15:00:00",
          "2022-11-22T16:00:00",
          "2022-11-22T17:00:00",
          "2022-11-22T18:00:00",
          "2022-11-22T19:00:00",
          "2022-11-22T20:00:00",
          "2022-11-22T21:00:00",
          "2022-11-22T22:00:00",
          "2022-11-22T23:00:00"
         ],
         "y": [
          null,
          null,
          null,
          null,
          null,
          -2.6,
          null,
          null,
          null,
          null,
          null,
          null,
          null,
          null,
          null,
          null,
          null,
          null,
          null,
          null,
          null,
          null,
          null,
          null,
          null,
          null,
          null,
          null,
          null,
          null,
          null,
          null,
          -3,
          null,
          null,
          null,
          null,
          null,
          null,
          null,
          null,
          null,
          null,
          null,
          null,
          null,
          null,
          null,
          -3.4,
          null,
          null,
          null,
          null,
          null,
          null,
          null,
          null,
          null,
          null,
          null,
          null,
          null,
          null,
          null,
          null,
          null,
          null,
          null,
          null,
          null,
          null,
          null
         ]
        },
        {
         "hovertext": [
          null,
          null,
          null,
          null,
          null,
          null,
          null,
          null,
          null,
          null,
          null,
          null,
          null,
          null,
          0,
          0,
          0,
          0,
          0,
          0,
          0,
          0,
          0,
          0,
          0,
          0,
          0,
          0,
          0,
          0,
          0,
          0,
          0,
          0,
          0,
          0,
          0,
          0,
          1,
          1,
          1,
          1,
          1,
          1,
          1,
          1,
          1,
          1,
          1,
          1,
          1,
          1,
          1,
          1,
          1,
          1,
          1,
          1,
          1,
          1,
          1,
          1,
          1,
          2,
          2,
          2,
          2,
          2,
          2,
          2,
          2,
          2
         ],
         "mode": "markers",
         "name": "local_maxima",
         "type": "scatter",
         "x": [
          "2022-11-20T00:00:00",
          "2022-11-20T01:00:00",
          "2022-11-20T02:00:00",
          "2022-11-20T03:00:00",
          "2022-11-20T04:00:00",
          "2022-11-20T05:00:00",
          "2022-11-20T06:00:00",
          "2022-11-20T07:00:00",
          "2022-11-20T08:00:00",
          "2022-11-20T09:00:00",
          "2022-11-20T10:00:00",
          "2022-11-20T11:00:00",
          "2022-11-20T12:00:00",
          "2022-11-20T13:00:00",
          "2022-11-20T14:00:00",
          "2022-11-20T15:00:00",
          "2022-11-20T16:00:00",
          "2022-11-20T17:00:00",
          "2022-11-20T18:00:00",
          "2022-11-20T19:00:00",
          "2022-11-20T20:00:00",
          "2022-11-20T21:00:00",
          "2022-11-20T22:00:00",
          "2022-11-20T23:00:00",
          "2022-11-21T00:00:00",
          "2022-11-21T01:00:00",
          "2022-11-21T02:00:00",
          "2022-11-21T03:00:00",
          "2022-11-21T04:00:00",
          "2022-11-21T05:00:00",
          "2022-11-21T06:00:00",
          "2022-11-21T07:00:00",
          "2022-11-21T08:00:00",
          "2022-11-21T09:00:00",
          "2022-11-21T10:00:00",
          "2022-11-21T11:00:00",
          "2022-11-21T12:00:00",
          "2022-11-21T13:00:00",
          "2022-11-21T14:00:00",
          "2022-11-21T15:00:00",
          "2022-11-21T16:00:00",
          "2022-11-21T17:00:00",
          "2022-11-21T18:00:00",
          "2022-11-21T19:00:00",
          "2022-11-21T20:00:00",
          "2022-11-21T21:00:00",
          "2022-11-21T22:00:00",
          "2022-11-21T23:00:00",
          "2022-11-22T00:00:00",
          "2022-11-22T01:00:00",
          "2022-11-22T02:00:00",
          "2022-11-22T03:00:00",
          "2022-11-22T04:00:00",
          "2022-11-22T05:00:00",
          "2022-11-22T06:00:00",
          "2022-11-22T07:00:00",
          "2022-11-22T08:00:00",
          "2022-11-22T09:00:00",
          "2022-11-22T10:00:00",
          "2022-11-22T11:00:00",
          "2022-11-22T12:00:00",
          "2022-11-22T13:00:00",
          "2022-11-22T14:00:00",
          "2022-11-22T15:00:00",
          "2022-11-22T16:00:00",
          "2022-11-22T17:00:00",
          "2022-11-22T18:00:00",
          "2022-11-22T19:00:00",
          "2022-11-22T20:00:00",
          "2022-11-22T21:00:00",
          "2022-11-22T22:00:00",
          "2022-11-22T23:00:00"
         ],
         "y": [
          null,
          null,
          null,
          null,
          null,
          null,
          null,
          null,
          null,
          null,
          null,
          null,
          null,
          null,
          2.3,
          null,
          null,
          null,
          null,
          null,
          null,
          null,
          null,
          null,
          null,
          null,
          null,
          null,
          null,
          null,
          null,
          null,
          null,
          null,
          null,
          null,
          null,
          null,
          2.6,
          null,
          null,
          null,
          null,
          null,
          null,
          null,
          null,
          null,
          null,
          null,
          null,
          null,
          null,
          null,
          null,
          null,
          null,
          null,
          null,
          null,
          null,
          null,
          null,
          2.7,
          null,
          null,
          null,
          null,
          null,
          null,
          null,
          null
         ]
        }
       ],
       "layout": {
        "template": {
         "data": {
          "bar": [
           {
            "error_x": {
             "color": "#2a3f5f"
            },
            "error_y": {
             "color": "#2a3f5f"
            },
            "marker": {
             "line": {
              "color": "#E5ECF6",
              "width": 0.5
             },
             "pattern": {
              "fillmode": "overlay",
              "size": 10,
              "solidity": 0.2
             }
            },
            "type": "bar"
           }
          ],
          "barpolar": [
           {
            "marker": {
             "line": {
              "color": "#E5ECF6",
              "width": 0.5
             },
             "pattern": {
              "fillmode": "overlay",
              "size": 10,
              "solidity": 0.2
             }
            },
            "type": "barpolar"
           }
          ],
          "carpet": [
           {
            "aaxis": {
             "endlinecolor": "#2a3f5f",
             "gridcolor": "white",
             "linecolor": "white",
             "minorgridcolor": "white",
             "startlinecolor": "#2a3f5f"
            },
            "baxis": {
             "endlinecolor": "#2a3f5f",
             "gridcolor": "white",
             "linecolor": "white",
             "minorgridcolor": "white",
             "startlinecolor": "#2a3f5f"
            },
            "type": "carpet"
           }
          ],
          "choropleth": [
           {
            "colorbar": {
             "outlinewidth": 0,
             "ticks": ""
            },
            "type": "choropleth"
           }
          ],
          "contour": [
           {
            "colorbar": {
             "outlinewidth": 0,
             "ticks": ""
            },
            "colorscale": [
             [
              0,
              "#0d0887"
             ],
             [
              0.1111111111111111,
              "#46039f"
             ],
             [
              0.2222222222222222,
              "#7201a8"
             ],
             [
              0.3333333333333333,
              "#9c179e"
             ],
             [
              0.4444444444444444,
              "#bd3786"
             ],
             [
              0.5555555555555556,
              "#d8576b"
             ],
             [
              0.6666666666666666,
              "#ed7953"
             ],
             [
              0.7777777777777778,
              "#fb9f3a"
             ],
             [
              0.8888888888888888,
              "#fdca26"
             ],
             [
              1,
              "#f0f921"
             ]
            ],
            "type": "contour"
           }
          ],
          "contourcarpet": [
           {
            "colorbar": {
             "outlinewidth": 0,
             "ticks": ""
            },
            "type": "contourcarpet"
           }
          ],
          "heatmap": [
           {
            "colorbar": {
             "outlinewidth": 0,
             "ticks": ""
            },
            "colorscale": [
             [
              0,
              "#0d0887"
             ],
             [
              0.1111111111111111,
              "#46039f"
             ],
             [
              0.2222222222222222,
              "#7201a8"
             ],
             [
              0.3333333333333333,
              "#9c179e"
             ],
             [
              0.4444444444444444,
              "#bd3786"
             ],
             [
              0.5555555555555556,
              "#d8576b"
             ],
             [
              0.6666666666666666,
              "#ed7953"
             ],
             [
              0.7777777777777778,
              "#fb9f3a"
             ],
             [
              0.8888888888888888,
              "#fdca26"
             ],
             [
              1,
              "#f0f921"
             ]
            ],
            "type": "heatmap"
           }
          ],
          "heatmapgl": [
           {
            "colorbar": {
             "outlinewidth": 0,
             "ticks": ""
            },
            "colorscale": [
             [
              0,
              "#0d0887"
             ],
             [
              0.1111111111111111,
              "#46039f"
             ],
             [
              0.2222222222222222,
              "#7201a8"
             ],
             [
              0.3333333333333333,
              "#9c179e"
             ],
             [
              0.4444444444444444,
              "#bd3786"
             ],
             [
              0.5555555555555556,
              "#d8576b"
             ],
             [
              0.6666666666666666,
              "#ed7953"
             ],
             [
              0.7777777777777778,
              "#fb9f3a"
             ],
             [
              0.8888888888888888,
              "#fdca26"
             ],
             [
              1,
              "#f0f921"
             ]
            ],
            "type": "heatmapgl"
           }
          ],
          "histogram": [
           {
            "marker": {
             "pattern": {
              "fillmode": "overlay",
              "size": 10,
              "solidity": 0.2
             }
            },
            "type": "histogram"
           }
          ],
          "histogram2d": [
           {
            "colorbar": {
             "outlinewidth": 0,
             "ticks": ""
            },
            "colorscale": [
             [
              0,
              "#0d0887"
             ],
             [
              0.1111111111111111,
              "#46039f"
             ],
             [
              0.2222222222222222,
              "#7201a8"
             ],
             [
              0.3333333333333333,
              "#9c179e"
             ],
             [
              0.4444444444444444,
              "#bd3786"
             ],
             [
              0.5555555555555556,
              "#d8576b"
             ],
             [
              0.6666666666666666,
              "#ed7953"
             ],
             [
              0.7777777777777778,
              "#fb9f3a"
             ],
             [
              0.8888888888888888,
              "#fdca26"
             ],
             [
              1,
              "#f0f921"
             ]
            ],
            "type": "histogram2d"
           }
          ],
          "histogram2dcontour": [
           {
            "colorbar": {
             "outlinewidth": 0,
             "ticks": ""
            },
            "colorscale": [
             [
              0,
              "#0d0887"
             ],
             [
              0.1111111111111111,
              "#46039f"
             ],
             [
              0.2222222222222222,
              "#7201a8"
             ],
             [
              0.3333333333333333,
              "#9c179e"
             ],
             [
              0.4444444444444444,
              "#bd3786"
             ],
             [
              0.5555555555555556,
              "#d8576b"
             ],
             [
              0.6666666666666666,
              "#ed7953"
             ],
             [
              0.7777777777777778,
              "#fb9f3a"
             ],
             [
              0.8888888888888888,
              "#fdca26"
             ],
             [
              1,
              "#f0f921"
             ]
            ],
            "type": "histogram2dcontour"
           }
          ],
          "mesh3d": [
           {
            "colorbar": {
             "outlinewidth": 0,
             "ticks": ""
            },
            "type": "mesh3d"
           }
          ],
          "parcoords": [
           {
            "line": {
             "colorbar": {
              "outlinewidth": 0,
              "ticks": ""
             }
            },
            "type": "parcoords"
           }
          ],
          "pie": [
           {
            "automargin": true,
            "type": "pie"
           }
          ],
          "scatter": [
           {
            "marker": {
             "colorbar": {
              "outlinewidth": 0,
              "ticks": ""
             }
            },
            "type": "scatter"
           }
          ],
          "scatter3d": [
           {
            "line": {
             "colorbar": {
              "outlinewidth": 0,
              "ticks": ""
             }
            },
            "marker": {
             "colorbar": {
              "outlinewidth": 0,
              "ticks": ""
             }
            },
            "type": "scatter3d"
           }
          ],
          "scattercarpet": [
           {
            "marker": {
             "colorbar": {
              "outlinewidth": 0,
              "ticks": ""
             }
            },
            "type": "scattercarpet"
           }
          ],
          "scattergeo": [
           {
            "marker": {
             "colorbar": {
              "outlinewidth": 0,
              "ticks": ""
             }
            },
            "type": "scattergeo"
           }
          ],
          "scattergl": [
           {
            "marker": {
             "colorbar": {
              "outlinewidth": 0,
              "ticks": ""
             }
            },
            "type": "scattergl"
           }
          ],
          "scattermapbox": [
           {
            "marker": {
             "colorbar": {
              "outlinewidth": 0,
              "ticks": ""
             }
            },
            "type": "scattermapbox"
           }
          ],
          "scatterpolar": [
           {
            "marker": {
             "colorbar": {
              "outlinewidth": 0,
              "ticks": ""
             }
            },
            "type": "scatterpolar"
           }
          ],
          "scatterpolargl": [
           {
            "marker": {
             "colorbar": {
              "outlinewidth": 0,
              "ticks": ""
             }
            },
            "type": "scatterpolargl"
           }
          ],
          "scatterternary": [
           {
            "marker": {
             "colorbar": {
              "outlinewidth": 0,
              "ticks": ""
             }
            },
            "type": "scatterternary"
           }
          ],
          "surface": [
           {
            "colorbar": {
             "outlinewidth": 0,
             "ticks": ""
            },
            "colorscale": [
             [
              0,
              "#0d0887"
             ],
             [
              0.1111111111111111,
              "#46039f"
             ],
             [
              0.2222222222222222,
              "#7201a8"
             ],
             [
              0.3333333333333333,
              "#9c179e"
             ],
             [
              0.4444444444444444,
              "#bd3786"
             ],
             [
              0.5555555555555556,
              "#d8576b"
             ],
             [
              0.6666666666666666,
              "#ed7953"
             ],
             [
              0.7777777777777778,
              "#fb9f3a"
             ],
             [
              0.8888888888888888,
              "#fdca26"
             ],
             [
              1,
              "#f0f921"
             ]
            ],
            "type": "surface"
           }
          ],
          "table": [
           {
            "cells": {
             "fill": {
              "color": "#EBF0F8"
             },
             "line": {
              "color": "white"
             }
            },
            "header": {
             "fill": {
              "color": "#C8D4E3"
             },
             "line": {
              "color": "white"
             }
            },
            "type": "table"
           }
          ]
         },
         "layout": {
          "annotationdefaults": {
           "arrowcolor": "#2a3f5f",
           "arrowhead": 0,
           "arrowwidth": 1
          },
          "autotypenumbers": "strict",
          "coloraxis": {
           "colorbar": {
            "outlinewidth": 0,
            "ticks": ""
           }
          },
          "colorscale": {
           "diverging": [
            [
             0,
             "#8e0152"
            ],
            [
             0.1,
             "#c51b7d"
            ],
            [
             0.2,
             "#de77ae"
            ],
            [
             0.3,
             "#f1b6da"
            ],
            [
             0.4,
             "#fde0ef"
            ],
            [
             0.5,
             "#f7f7f7"
            ],
            [
             0.6,
             "#e6f5d0"
            ],
            [
             0.7,
             "#b8e186"
            ],
            [
             0.8,
             "#7fbc41"
            ],
            [
             0.9,
             "#4d9221"
            ],
            [
             1,
             "#276419"
            ]
           ],
           "sequential": [
            [
             0,
             "#0d0887"
            ],
            [
             0.1111111111111111,
             "#46039f"
            ],
            [
             0.2222222222222222,
             "#7201a8"
            ],
            [
             0.3333333333333333,
             "#9c179e"
            ],
            [
             0.4444444444444444,
             "#bd3786"
            ],
            [
             0.5555555555555556,
             "#d8576b"
            ],
            [
             0.6666666666666666,
             "#ed7953"
            ],
            [
             0.7777777777777778,
             "#fb9f3a"
            ],
            [
             0.8888888888888888,
             "#fdca26"
            ],
            [
             1,
             "#f0f921"
            ]
           ],
           "sequentialminus": [
            [
             0,
             "#0d0887"
            ],
            [
             0.1111111111111111,
             "#46039f"
            ],
            [
             0.2222222222222222,
             "#7201a8"
            ],
            [
             0.3333333333333333,
             "#9c179e"
            ],
            [
             0.4444444444444444,
             "#bd3786"
            ],
            [
             0.5555555555555556,
             "#d8576b"
            ],
            [
             0.6666666666666666,
             "#ed7953"
            ],
            [
             0.7777777777777778,
             "#fb9f3a"
            ],
            [
             0.8888888888888888,
             "#fdca26"
            ],
            [
             1,
             "#f0f921"
            ]
           ]
          },
          "colorway": [
           "#636efa",
           "#EF553B",
           "#00cc96",
           "#ab63fa",
           "#FFA15A",
           "#19d3f3",
           "#FF6692",
           "#B6E880",
           "#FF97FF",
           "#FECB52"
          ],
          "font": {
           "color": "#2a3f5f"
          },
          "geo": {
           "bgcolor": "white",
           "lakecolor": "white",
           "landcolor": "#E5ECF6",
           "showlakes": true,
           "showland": true,
           "subunitcolor": "white"
          },
          "hoverlabel": {
           "align": "left"
          },
          "hovermode": "closest",
          "mapbox": {
           "style": "light"
          },
          "paper_bgcolor": "white",
          "plot_bgcolor": "#E5ECF6",
          "polar": {
           "angularaxis": {
            "gridcolor": "white",
            "linecolor": "white",
            "ticks": ""
           },
           "bgcolor": "#E5ECF6",
           "radialaxis": {
            "gridcolor": "white",
            "linecolor": "white",
            "ticks": ""
           }
          },
          "scene": {
           "xaxis": {
            "backgroundcolor": "#E5ECF6",
            "gridcolor": "white",
            "gridwidth": 2,
            "linecolor": "white",
            "showbackground": true,
            "ticks": "",
            "zerolinecolor": "white"
           },
           "yaxis": {
            "backgroundcolor": "#E5ECF6",
            "gridcolor": "white",
            "gridwidth": 2,
            "linecolor": "white",
            "showbackground": true,
            "ticks": "",
            "zerolinecolor": "white"
           },
           "zaxis": {
            "backgroundcolor": "#E5ECF6",
            "gridcolor": "white",
            "gridwidth": 2,
            "linecolor": "white",
            "showbackground": true,
            "ticks": "",
            "zerolinecolor": "white"
           }
          },
          "shapedefaults": {
           "line": {
            "color": "#2a3f5f"
           }
          },
          "ternary": {
           "aaxis": {
            "gridcolor": "white",
            "linecolor": "white",
            "ticks": ""
           },
           "baxis": {
            "gridcolor": "white",
            "linecolor": "white",
            "ticks": ""
           },
           "bgcolor": "#E5ECF6",
           "caxis": {
            "gridcolor": "white",
            "linecolor": "white",
            "ticks": ""
           }
          },
          "title": {
           "x": 0.05
          },
          "xaxis": {
           "automargin": true,
           "gridcolor": "white",
           "linecolor": "white",
           "ticks": "",
           "title": {
            "standoff": 15
           },
           "zerolinecolor": "white",
           "zerolinewidth": 2
          },
          "yaxis": {
           "automargin": true,
           "gridcolor": "white",
           "linecolor": "white",
           "ticks": "",
           "title": {
            "standoff": 15
           },
           "zerolinecolor": "white",
           "zerolinewidth": 2
          }
         }
        },
        "title": {
         "text": "Temperature of Rintheimer Strasse 84, 76131 Karlsruhe"
        }
       }
      },
      "text/html": [
       "<div>                            <div id=\"9c6ff368-6470-4518-8fff-bdff5ee247da\" class=\"plotly-graph-div\" style=\"height:525px; width:100%;\"></div>            <script type=\"text/javascript\">                require([\"plotly\"], function(Plotly) {                    window.PLOTLYENV=window.PLOTLYENV || {};                                    if (document.getElementById(\"9c6ff368-6470-4518-8fff-bdff5ee247da\")) {                    Plotly.newPlot(                        \"9c6ff368-6470-4518-8fff-bdff5ee247da\",                        [{\"name\":\"Temperature in \\u00b0C\",\"x\":[\"2022-11-20T00:00:00\",\"2022-11-20T01:00:00\",\"2022-11-20T02:00:00\",\"2022-11-20T03:00:00\",\"2022-11-20T04:00:00\",\"2022-11-20T05:00:00\",\"2022-11-20T06:00:00\",\"2022-11-20T07:00:00\",\"2022-11-20T08:00:00\",\"2022-11-20T09:00:00\",\"2022-11-20T10:00:00\",\"2022-11-20T11:00:00\",\"2022-11-20T12:00:00\",\"2022-11-20T13:00:00\",\"2022-11-20T14:00:00\",\"2022-11-20T15:00:00\",\"2022-11-20T16:00:00\",\"2022-11-20T17:00:00\",\"2022-11-20T18:00:00\",\"2022-11-20T19:00:00\",\"2022-11-20T20:00:00\",\"2022-11-20T21:00:00\",\"2022-11-20T22:00:00\",\"2022-11-20T23:00:00\",\"2022-11-21T00:00:00\",\"2022-11-21T01:00:00\",\"2022-11-21T02:00:00\",\"2022-11-21T03:00:00\",\"2022-11-21T04:00:00\",\"2022-11-21T05:00:00\",\"2022-11-21T06:00:00\",\"2022-11-21T07:00:00\",\"2022-11-21T08:00:00\",\"2022-11-21T09:00:00\",\"2022-11-21T10:00:00\",\"2022-11-21T11:00:00\",\"2022-11-21T12:00:00\",\"2022-11-21T13:00:00\",\"2022-11-21T14:00:00\",\"2022-11-21T15:00:00\",\"2022-11-21T16:00:00\",\"2022-11-21T17:00:00\",\"2022-11-21T18:00:00\",\"2022-11-21T19:00:00\",\"2022-11-21T20:00:00\",\"2022-11-21T21:00:00\",\"2022-11-21T22:00:00\",\"2022-11-21T23:00:00\",\"2022-11-22T00:00:00\",\"2022-11-22T01:00:00\",\"2022-11-22T02:00:00\",\"2022-11-22T03:00:00\",\"2022-11-22T04:00:00\",\"2022-11-22T05:00:00\",\"2022-11-22T06:00:00\",\"2022-11-22T07:00:00\",\"2022-11-22T08:00:00\",\"2022-11-22T09:00:00\",\"2022-11-22T10:00:00\",\"2022-11-22T11:00:00\",\"2022-11-22T12:00:00\",\"2022-11-22T13:00:00\",\"2022-11-22T14:00:00\",\"2022-11-22T15:00:00\",\"2022-11-22T16:00:00\",\"2022-11-22T17:00:00\",\"2022-11-22T18:00:00\",\"2022-11-22T19:00:00\",\"2022-11-22T20:00:00\",\"2022-11-22T21:00:00\",\"2022-11-22T22:00:00\",\"2022-11-22T23:00:00\"],\"y\":[-1.6,-2.2,-2.5,-2.6,-2.6,-2.6,-2.5,-2.2,-2.1,-1.2,0.4,1.3,1.9,2.2,2.3,2.0,0.5,-0.4,-0.6,-1.2,-2.2,-2.5,-2.5,-2.5,-2.6,-2.7,-2.3,-2.3,-2.6,-2.9,-2.8,-2.9,-3.0,-1.9,-0.2,1.2,2.0,2.4,2.6,1.8,-0.3,-1.1,-1.5,-1.8,-2.9,-3.1,-3.3,-3.4,-3.4,-3.1,-2.6,-1.7,-1.0,-0.7,-0.7,-0.9,-0.5,0.3,1.3,1.7,2.0,2.2,2.6,2.7,1.6,1.1,1.1,1.3,1.4,1.5,1.8,2.0],\"type\":\"scatter\"},{\"mode\":\"markers\",\"name\":\"local_minima\",\"x\":[\"2022-11-20T00:00:00\",\"2022-11-20T01:00:00\",\"2022-11-20T02:00:00\",\"2022-11-20T03:00:00\",\"2022-11-20T04:00:00\",\"2022-11-20T05:00:00\",\"2022-11-20T06:00:00\",\"2022-11-20T07:00:00\",\"2022-11-20T08:00:00\",\"2022-11-20T09:00:00\",\"2022-11-20T10:00:00\",\"2022-11-20T11:00:00\",\"2022-11-20T12:00:00\",\"2022-11-20T13:00:00\",\"2022-11-20T14:00:00\",\"2022-11-20T15:00:00\",\"2022-11-20T16:00:00\",\"2022-11-20T17:00:00\",\"2022-11-20T18:00:00\",\"2022-11-20T19:00:00\",\"2022-11-20T20:00:00\",\"2022-11-20T21:00:00\",\"2022-11-20T22:00:00\",\"2022-11-20T23:00:00\",\"2022-11-21T00:00:00\",\"2022-11-21T01:00:00\",\"2022-11-21T02:00:00\",\"2022-11-21T03:00:00\",\"2022-11-21T04:00:00\",\"2022-11-21T05:00:00\",\"2022-11-21T06:00:00\",\"2022-11-21T07:00:00\",\"2022-11-21T08:00:00\",\"2022-11-21T09:00:00\",\"2022-11-21T10:00:00\",\"2022-11-21T11:00:00\",\"2022-11-21T12:00:00\",\"2022-11-21T13:00:00\",\"2022-11-21T14:00:00\",\"2022-11-21T15:00:00\",\"2022-11-21T16:00:00\",\"2022-11-21T17:00:00\",\"2022-11-21T18:00:00\",\"2022-11-21T19:00:00\",\"2022-11-21T20:00:00\",\"2022-11-21T21:00:00\",\"2022-11-21T22:00:00\",\"2022-11-21T23:00:00\",\"2022-11-22T00:00:00\",\"2022-11-22T01:00:00\",\"2022-11-22T02:00:00\",\"2022-11-22T03:00:00\",\"2022-11-22T04:00:00\",\"2022-11-22T05:00:00\",\"2022-11-22T06:00:00\",\"2022-11-22T07:00:00\",\"2022-11-22T08:00:00\",\"2022-11-22T09:00:00\",\"2022-11-22T10:00:00\",\"2022-11-22T11:00:00\",\"2022-11-22T12:00:00\",\"2022-11-22T13:00:00\",\"2022-11-22T14:00:00\",\"2022-11-22T15:00:00\",\"2022-11-22T16:00:00\",\"2022-11-22T17:00:00\",\"2022-11-22T18:00:00\",\"2022-11-22T19:00:00\",\"2022-11-22T20:00:00\",\"2022-11-22T21:00:00\",\"2022-11-22T22:00:00\",\"2022-11-22T23:00:00\"],\"y\":[null,null,null,null,null,-2.6,null,null,null,null,null,null,null,null,null,null,null,null,null,null,null,null,null,null,null,null,null,null,null,null,null,null,-3.0,null,null,null,null,null,null,null,null,null,null,null,null,null,null,null,-3.4,null,null,null,null,null,null,null,null,null,null,null,null,null,null,null,null,null,null,null,null,null,null,null],\"type\":\"scatter\"},{\"hovertext\":[null,null,null,null,null,null,null,null,null,null,null,null,null,null,0.0,0.0,0.0,0.0,0.0,0.0,0.0,0.0,0.0,0.0,0.0,0.0,0.0,0.0,0.0,0.0,0.0,0.0,0.0,0.0,0.0,0.0,0.0,0.0,1.0,1.0,1.0,1.0,1.0,1.0,1.0,1.0,1.0,1.0,1.0,1.0,1.0,1.0,1.0,1.0,1.0,1.0,1.0,1.0,1.0,1.0,1.0,1.0,1.0,2.0,2.0,2.0,2.0,2.0,2.0,2.0,2.0,2.0],\"mode\":\"markers\",\"name\":\"local_maxima\",\"x\":[\"2022-11-20T00:00:00\",\"2022-11-20T01:00:00\",\"2022-11-20T02:00:00\",\"2022-11-20T03:00:00\",\"2022-11-20T04:00:00\",\"2022-11-20T05:00:00\",\"2022-11-20T06:00:00\",\"2022-11-20T07:00:00\",\"2022-11-20T08:00:00\",\"2022-11-20T09:00:00\",\"2022-11-20T10:00:00\",\"2022-11-20T11:00:00\",\"2022-11-20T12:00:00\",\"2022-11-20T13:00:00\",\"2022-11-20T14:00:00\",\"2022-11-20T15:00:00\",\"2022-11-20T16:00:00\",\"2022-11-20T17:00:00\",\"2022-11-20T18:00:00\",\"2022-11-20T19:00:00\",\"2022-11-20T20:00:00\",\"2022-11-20T21:00:00\",\"2022-11-20T22:00:00\",\"2022-11-20T23:00:00\",\"2022-11-21T00:00:00\",\"2022-11-21T01:00:00\",\"2022-11-21T02:00:00\",\"2022-11-21T03:00:00\",\"2022-11-21T04:00:00\",\"2022-11-21T05:00:00\",\"2022-11-21T06:00:00\",\"2022-11-21T07:00:00\",\"2022-11-21T08:00:00\",\"2022-11-21T09:00:00\",\"2022-11-21T10:00:00\",\"2022-11-21T11:00:00\",\"2022-11-21T12:00:00\",\"2022-11-21T13:00:00\",\"2022-11-21T14:00:00\",\"2022-11-21T15:00:00\",\"2022-11-21T16:00:00\",\"2022-11-21T17:00:00\",\"2022-11-21T18:00:00\",\"2022-11-21T19:00:00\",\"2022-11-21T20:00:00\",\"2022-11-21T21:00:00\",\"2022-11-21T22:00:00\",\"2022-11-21T23:00:00\",\"2022-11-22T00:00:00\",\"2022-11-22T01:00:00\",\"2022-11-22T02:00:00\",\"2022-11-22T03:00:00\",\"2022-11-22T04:00:00\",\"2022-11-22T05:00:00\",\"2022-11-22T06:00:00\",\"2022-11-22T07:00:00\",\"2022-11-22T08:00:00\",\"2022-11-22T09:00:00\",\"2022-11-22T10:00:00\",\"2022-11-22T11:00:00\",\"2022-11-22T12:00:00\",\"2022-11-22T13:00:00\",\"2022-11-22T14:00:00\",\"2022-11-22T15:00:00\",\"2022-11-22T16:00:00\",\"2022-11-22T17:00:00\",\"2022-11-22T18:00:00\",\"2022-11-22T19:00:00\",\"2022-11-22T20:00:00\",\"2022-11-22T21:00:00\",\"2022-11-22T22:00:00\",\"2022-11-22T23:00:00\"],\"y\":[null,null,null,null,null,null,null,null,null,null,null,null,null,null,2.3,null,null,null,null,null,null,null,null,null,null,null,null,null,null,null,null,null,null,null,null,null,null,null,2.6,null,null,null,null,null,null,null,null,null,null,null,null,null,null,null,null,null,null,null,null,null,null,null,null,2.7,null,null,null,null,null,null,null,null],\"type\":\"scatter\"}],                        {\"template\":{\"data\":{\"bar\":[{\"error_x\":{\"color\":\"#2a3f5f\"},\"error_y\":{\"color\":\"#2a3f5f\"},\"marker\":{\"line\":{\"color\":\"#E5ECF6\",\"width\":0.5},\"pattern\":{\"fillmode\":\"overlay\",\"size\":10,\"solidity\":0.2}},\"type\":\"bar\"}],\"barpolar\":[{\"marker\":{\"line\":{\"color\":\"#E5ECF6\",\"width\":0.5},\"pattern\":{\"fillmode\":\"overlay\",\"size\":10,\"solidity\":0.2}},\"type\":\"barpolar\"}],\"carpet\":[{\"aaxis\":{\"endlinecolor\":\"#2a3f5f\",\"gridcolor\":\"white\",\"linecolor\":\"white\",\"minorgridcolor\":\"white\",\"startlinecolor\":\"#2a3f5f\"},\"baxis\":{\"endlinecolor\":\"#2a3f5f\",\"gridcolor\":\"white\",\"linecolor\":\"white\",\"minorgridcolor\":\"white\",\"startlinecolor\":\"#2a3f5f\"},\"type\":\"carpet\"}],\"choropleth\":[{\"colorbar\":{\"outlinewidth\":0,\"ticks\":\"\"},\"type\":\"choropleth\"}],\"contour\":[{\"colorbar\":{\"outlinewidth\":0,\"ticks\":\"\"},\"colorscale\":[[0.0,\"#0d0887\"],[0.1111111111111111,\"#46039f\"],[0.2222222222222222,\"#7201a8\"],[0.3333333333333333,\"#9c179e\"],[0.4444444444444444,\"#bd3786\"],[0.5555555555555556,\"#d8576b\"],[0.6666666666666666,\"#ed7953\"],[0.7777777777777778,\"#fb9f3a\"],[0.8888888888888888,\"#fdca26\"],[1.0,\"#f0f921\"]],\"type\":\"contour\"}],\"contourcarpet\":[{\"colorbar\":{\"outlinewidth\":0,\"ticks\":\"\"},\"type\":\"contourcarpet\"}],\"heatmap\":[{\"colorbar\":{\"outlinewidth\":0,\"ticks\":\"\"},\"colorscale\":[[0.0,\"#0d0887\"],[0.1111111111111111,\"#46039f\"],[0.2222222222222222,\"#7201a8\"],[0.3333333333333333,\"#9c179e\"],[0.4444444444444444,\"#bd3786\"],[0.5555555555555556,\"#d8576b\"],[0.6666666666666666,\"#ed7953\"],[0.7777777777777778,\"#fb9f3a\"],[0.8888888888888888,\"#fdca26\"],[1.0,\"#f0f921\"]],\"type\":\"heatmap\"}],\"heatmapgl\":[{\"colorbar\":{\"outlinewidth\":0,\"ticks\":\"\"},\"colorscale\":[[0.0,\"#0d0887\"],[0.1111111111111111,\"#46039f\"],[0.2222222222222222,\"#7201a8\"],[0.3333333333333333,\"#9c179e\"],[0.4444444444444444,\"#bd3786\"],[0.5555555555555556,\"#d8576b\"],[0.6666666666666666,\"#ed7953\"],[0.7777777777777778,\"#fb9f3a\"],[0.8888888888888888,\"#fdca26\"],[1.0,\"#f0f921\"]],\"type\":\"heatmapgl\"}],\"histogram\":[{\"marker\":{\"pattern\":{\"fillmode\":\"overlay\",\"size\":10,\"solidity\":0.2}},\"type\":\"histogram\"}],\"histogram2d\":[{\"colorbar\":{\"outlinewidth\":0,\"ticks\":\"\"},\"colorscale\":[[0.0,\"#0d0887\"],[0.1111111111111111,\"#46039f\"],[0.2222222222222222,\"#7201a8\"],[0.3333333333333333,\"#9c179e\"],[0.4444444444444444,\"#bd3786\"],[0.5555555555555556,\"#d8576b\"],[0.6666666666666666,\"#ed7953\"],[0.7777777777777778,\"#fb9f3a\"],[0.8888888888888888,\"#fdca26\"],[1.0,\"#f0f921\"]],\"type\":\"histogram2d\"}],\"histogram2dcontour\":[{\"colorbar\":{\"outlinewidth\":0,\"ticks\":\"\"},\"colorscale\":[[0.0,\"#0d0887\"],[0.1111111111111111,\"#46039f\"],[0.2222222222222222,\"#7201a8\"],[0.3333333333333333,\"#9c179e\"],[0.4444444444444444,\"#bd3786\"],[0.5555555555555556,\"#d8576b\"],[0.6666666666666666,\"#ed7953\"],[0.7777777777777778,\"#fb9f3a\"],[0.8888888888888888,\"#fdca26\"],[1.0,\"#f0f921\"]],\"type\":\"histogram2dcontour\"}],\"mesh3d\":[{\"colorbar\":{\"outlinewidth\":0,\"ticks\":\"\"},\"type\":\"mesh3d\"}],\"parcoords\":[{\"line\":{\"colorbar\":{\"outlinewidth\":0,\"ticks\":\"\"}},\"type\":\"parcoords\"}],\"pie\":[{\"automargin\":true,\"type\":\"pie\"}],\"scatter\":[{\"marker\":{\"colorbar\":{\"outlinewidth\":0,\"ticks\":\"\"}},\"type\":\"scatter\"}],\"scatter3d\":[{\"line\":{\"colorbar\":{\"outlinewidth\":0,\"ticks\":\"\"}},\"marker\":{\"colorbar\":{\"outlinewidth\":0,\"ticks\":\"\"}},\"type\":\"scatter3d\"}],\"scattercarpet\":[{\"marker\":{\"colorbar\":{\"outlinewidth\":0,\"ticks\":\"\"}},\"type\":\"scattercarpet\"}],\"scattergeo\":[{\"marker\":{\"colorbar\":{\"outlinewidth\":0,\"ticks\":\"\"}},\"type\":\"scattergeo\"}],\"scattergl\":[{\"marker\":{\"colorbar\":{\"outlinewidth\":0,\"ticks\":\"\"}},\"type\":\"scattergl\"}],\"scattermapbox\":[{\"marker\":{\"colorbar\":{\"outlinewidth\":0,\"ticks\":\"\"}},\"type\":\"scattermapbox\"}],\"scatterpolar\":[{\"marker\":{\"colorbar\":{\"outlinewidth\":0,\"ticks\":\"\"}},\"type\":\"scatterpolar\"}],\"scatterpolargl\":[{\"marker\":{\"colorbar\":{\"outlinewidth\":0,\"ticks\":\"\"}},\"type\":\"scatterpolargl\"}],\"scatterternary\":[{\"marker\":{\"colorbar\":{\"outlinewidth\":0,\"ticks\":\"\"}},\"type\":\"scatterternary\"}],\"surface\":[{\"colorbar\":{\"outlinewidth\":0,\"ticks\":\"\"},\"colorscale\":[[0.0,\"#0d0887\"],[0.1111111111111111,\"#46039f\"],[0.2222222222222222,\"#7201a8\"],[0.3333333333333333,\"#9c179e\"],[0.4444444444444444,\"#bd3786\"],[0.5555555555555556,\"#d8576b\"],[0.6666666666666666,\"#ed7953\"],[0.7777777777777778,\"#fb9f3a\"],[0.8888888888888888,\"#fdca26\"],[1.0,\"#f0f921\"]],\"type\":\"surface\"}],\"table\":[{\"cells\":{\"fill\":{\"color\":\"#EBF0F8\"},\"line\":{\"color\":\"white\"}},\"header\":{\"fill\":{\"color\":\"#C8D4E3\"},\"line\":{\"color\":\"white\"}},\"type\":\"table\"}]},\"layout\":{\"annotationdefaults\":{\"arrowcolor\":\"#2a3f5f\",\"arrowhead\":0,\"arrowwidth\":1},\"autotypenumbers\":\"strict\",\"coloraxis\":{\"colorbar\":{\"outlinewidth\":0,\"ticks\":\"\"}},\"colorscale\":{\"diverging\":[[0,\"#8e0152\"],[0.1,\"#c51b7d\"],[0.2,\"#de77ae\"],[0.3,\"#f1b6da\"],[0.4,\"#fde0ef\"],[0.5,\"#f7f7f7\"],[0.6,\"#e6f5d0\"],[0.7,\"#b8e186\"],[0.8,\"#7fbc41\"],[0.9,\"#4d9221\"],[1,\"#276419\"]],\"sequential\":[[0.0,\"#0d0887\"],[0.1111111111111111,\"#46039f\"],[0.2222222222222222,\"#7201a8\"],[0.3333333333333333,\"#9c179e\"],[0.4444444444444444,\"#bd3786\"],[0.5555555555555556,\"#d8576b\"],[0.6666666666666666,\"#ed7953\"],[0.7777777777777778,\"#fb9f3a\"],[0.8888888888888888,\"#fdca26\"],[1.0,\"#f0f921\"]],\"sequentialminus\":[[0.0,\"#0d0887\"],[0.1111111111111111,\"#46039f\"],[0.2222222222222222,\"#7201a8\"],[0.3333333333333333,\"#9c179e\"],[0.4444444444444444,\"#bd3786\"],[0.5555555555555556,\"#d8576b\"],[0.6666666666666666,\"#ed7953\"],[0.7777777777777778,\"#fb9f3a\"],[0.8888888888888888,\"#fdca26\"],[1.0,\"#f0f921\"]]},\"colorway\":[\"#636efa\",\"#EF553B\",\"#00cc96\",\"#ab63fa\",\"#FFA15A\",\"#19d3f3\",\"#FF6692\",\"#B6E880\",\"#FF97FF\",\"#FECB52\"],\"font\":{\"color\":\"#2a3f5f\"},\"geo\":{\"bgcolor\":\"white\",\"lakecolor\":\"white\",\"landcolor\":\"#E5ECF6\",\"showlakes\":true,\"showland\":true,\"subunitcolor\":\"white\"},\"hoverlabel\":{\"align\":\"left\"},\"hovermode\":\"closest\",\"mapbox\":{\"style\":\"light\"},\"paper_bgcolor\":\"white\",\"plot_bgcolor\":\"#E5ECF6\",\"polar\":{\"angularaxis\":{\"gridcolor\":\"white\",\"linecolor\":\"white\",\"ticks\":\"\"},\"bgcolor\":\"#E5ECF6\",\"radialaxis\":{\"gridcolor\":\"white\",\"linecolor\":\"white\",\"ticks\":\"\"}},\"scene\":{\"xaxis\":{\"backgroundcolor\":\"#E5ECF6\",\"gridcolor\":\"white\",\"gridwidth\":2,\"linecolor\":\"white\",\"showbackground\":true,\"ticks\":\"\",\"zerolinecolor\":\"white\"},\"yaxis\":{\"backgroundcolor\":\"#E5ECF6\",\"gridcolor\":\"white\",\"gridwidth\":2,\"linecolor\":\"white\",\"showbackground\":true,\"ticks\":\"\",\"zerolinecolor\":\"white\"},\"zaxis\":{\"backgroundcolor\":\"#E5ECF6\",\"gridcolor\":\"white\",\"gridwidth\":2,\"linecolor\":\"white\",\"showbackground\":true,\"ticks\":\"\",\"zerolinecolor\":\"white\"}},\"shapedefaults\":{\"line\":{\"color\":\"#2a3f5f\"}},\"ternary\":{\"aaxis\":{\"gridcolor\":\"white\",\"linecolor\":\"white\",\"ticks\":\"\"},\"baxis\":{\"gridcolor\":\"white\",\"linecolor\":\"white\",\"ticks\":\"\"},\"bgcolor\":\"#E5ECF6\",\"caxis\":{\"gridcolor\":\"white\",\"linecolor\":\"white\",\"ticks\":\"\"}},\"title\":{\"x\":0.05},\"xaxis\":{\"automargin\":true,\"gridcolor\":\"white\",\"linecolor\":\"white\",\"ticks\":\"\",\"title\":{\"standoff\":15},\"zerolinecolor\":\"white\",\"zerolinewidth\":2},\"yaxis\":{\"automargin\":true,\"gridcolor\":\"white\",\"linecolor\":\"white\",\"ticks\":\"\",\"title\":{\"standoff\":15},\"zerolinecolor\":\"white\",\"zerolinewidth\":2}}},\"title\":{\"text\":\"Temperature of Rintheimer Strasse 84, 76131 Karlsruhe\"}},                        {\"responsive\": true}                    ).then(function(){\n",
       "                            \n",
       "var gd = document.getElementById('9c6ff368-6470-4518-8fff-bdff5ee247da');\n",
       "var x = new MutationObserver(function (mutations, observer) {{\n",
       "        var display = window.getComputedStyle(gd).display;\n",
       "        if (!display || display === 'none') {{\n",
       "            console.log([gd, 'removed!']);\n",
       "            Plotly.purge(gd);\n",
       "            observer.disconnect();\n",
       "        }}\n",
       "}});\n",
       "\n",
       "// Listen for the removal of the full notebook cells\n",
       "var notebookContainer = gd.closest('#notebook-container');\n",
       "if (notebookContainer) {{\n",
       "    x.observe(notebookContainer, {childList: true});\n",
       "}}\n",
       "\n",
       "// Listen for the clearing of the current output cell\n",
       "var outputEl = gd.closest('.output');\n",
       "if (outputEl) {{\n",
       "    x.observe(outputEl, {childList: true});\n",
       "}}\n",
       "\n",
       "                        })                };                });            </script>        </div>"
      ]
     },
     "metadata": {},
     "output_type": "display_data"
    },
    {
     "name": "stdout",
     "output_type": "stream",
     "text": [
      "period:  2  / 2\n",
      "________________________________________\n",
      "\n",
      "Energy saving potentials:        4.82 %\n",
      "\n",
      "________________________________________\n",
      "\n",
      "DONE!\n"
     ]
    }
   ],
   "source": [
    "M_eta_new, P_e_new, P_w_new, data_temp_new = None, None, None, None\n",
    "\n",
    "def wait_for_change(widget):\n",
    "    future = asyncio.Future()\n",
    "    def getvalue(change):\n",
    "        future.set_result(change.description)\n",
    "        widget.on_click(getvalue, remove=True)\n",
    "        # we need to free up the binding to getvalue to avoid an InvalidState error\n",
    "        # buttons don't support unobserve\n",
    "        # so use `remove=True`\n",
    "    widget.on_click(getvalue)\n",
    "    return future\n",
    "\n",
    "layout = widgets.Layout(width='auto', height='40px')\n",
    "\n",
    "room_temp_w = FloatSlider(value=21, min=17, max=27, step = 0.5, description= 'Desired room temperature [°C]: ', continuous_update = False, layout=layout, style= {'description_width': 'initial'})\n",
    "return_flow_w = FloatSlider(value=25, min=21, max=50, step = 0.5, description= 'Returning flow temperature [°C]: ', continuous_update = False, layout=layout, style= {'description_width': 'initial'})\n",
    "ny_w = FloatSlider(value=0.4, min=0.1, max=1, step = 0.1, description= 'Quality factor of the heat pump: ', continuous_update = False, layout=layout, style= {'description_width': 'initial'})\n",
    "\n",
    "flow_max_w = FloatText(value= 50, description = 'Maximum flow temperature at minimum temperature [°C]: ', layout=layout, style= {'description_width': 'initial'})\n",
    "\n",
    "out_min_w = FloatText(value= -15, description = 'Minimum outside temperature [°C]: ', layout=layout, style= {'description_width': 'initial'})\n",
    "\n",
    "house_energy_w = FloatText(value= 200, description = 'Energy need in Watt per Kelvin [W/K]: ', layout=layout, style= {'description_width': 'initial'}) # Watt / Kelvin\n",
    "storage_power_w = FloatText(value= 200, description = 'Energy need of your storage (DIN...): ', layout=layout, style= {'description_width': 'initial'}) #Watts\n",
    "storage_volume_w = FloatText(value= 4000, description = 'Storage volume [Liter or equivalent]: ', layout=layout, style= {'description_width': 'initial'}) #Liter = kilogram -> to be defined later on\n",
    "\n",
    "hp_power_el_opt_w = FloatText(value= 5000, description = 'Power of heat pump [Watt]: ', layout=layout, style= {'description_width': 'initial'}) #Watts -> Power in which heatpump works most efficiently (can be taken into calculation later)\n",
    "max_heat_cap_w = IntSlider(value=80, description='Maximum heating temperature [°C]: ', min=50, max=95, layout=layout, style= {'description_width': 'initial'}) # temperature, up to which the heat pump can maximally heat\n",
    "\n",
    "address_w = Text(placeholder = 'Examplestreet 1, 12345 Examplecity', description = 'Address: ', layout=layout, style= {'description_width': 'initial'})\n",
    "\n",
    "\n",
    "toggle_forecast = ToggleButtons(options=['Whole year', 'Forecast'], description = 'Type of calculation: ', tooltips = ['Take TRY data or similar for overall saving potentials.', 'Optimize energy use for future periods.'], layout=layout, style= {'description_width': 'initial'})\n",
    "check_vis = Checkbox(False, description = 'Generate visualizations?')\n",
    "check_opt = Checkbox(True, description = 'Generate optimization?')\n",
    "check_owndata = Checkbox(False, description='Upload own temperature data?')\n",
    "\n",
    "upload_w = FileUpload(description = 'Upload')\n",
    "\n",
    "button_w = Button(description=\"GO!\")\n",
    "\n",
    "first_round = True\n",
    "def main_func():\n",
    "    global M_eta_new, P_e_new, P_w_new, data_temp_new, first_round\n",
    "\n",
    "    room_temp = room_temp_w.value\n",
    "    return_flow = return_flow_w.value\n",
    "    ny = ny_w.value\n",
    "    house_energy = house_energy_w.value\n",
    "    storage_power = storage_power_w.value\n",
    "    storage_volume = storage_volume_w.value\n",
    "    hp_power_el_opt = hp_power_el_opt_w.value\n",
    "    max_heat_cap = max_heat_cap_w.value\n",
    "    address = address_w.value\n",
    "\n",
    "    flow_max = flow_max_w.value\n",
    "    out_min = out_min_w.value\n",
    "\n",
    "    # TODO choose between Forecasting and StationData\n",
    "    funs = functions.Functions(flow_max=flow_max, room_temp=room_temp, out_min=out_min, return_flow=return_flow, house_energy=house_energy, storage_volume=storage_volume, storage_power=storage_power, ny=ny)\n",
    "    if toggle_forecast.value == 'Forecast':\n",
    "        data_temp = get_weather_forecast(address)\n",
    "    else:\n",
    "        if upload_w.value == {}:\n",
    "            data_temp = testreferenceyears.StationFinder(address).main()\n",
    "        else:\n",
    "            uploaded_file = upload_w.value\n",
    "            data_temp = pd.read_csv(io.BytesIO(list(uploaded_file.values())[0]['content']), sep=';')\n",
    "            data_temp.columns = ['date', 'temperature']\n",
    "            data_temp.date = pd.to_datetime(data_temp.date)\n",
    "            data_temp.temperature = data_temp.temperature.astype(float)\n",
    "    preprocessor = preprocessing.Preprocessor(flow_max=max_heat_cap, room_temp=room_temp, out_min=out_min, return_flow=return_flow, house_energy=house_energy, storage_volume=storage_volume, storage_power=storage_power, ny=ny)\n",
    "    optimizer = optimizing.Optimizer(functions=funs, max_heat_cap=max_heat_cap, hp_power_el_opt=hp_power_el_opt, return_flow=return_flow, storage_volume=storage_volume)\n",
    "    \n",
    "    #'''    data_temp = pd.read_table(r'C:\\Users\\rafaelweinert\\PycharmProjects\\Heatpump\\data\\weatherstationdata\\produkt_tu_stunde_19480101_20081031_02522.txt', sep=';') #Karlsruhe\n",
    "\n",
    "    #data_temp = data_temp.drop(['eor', 'QN_9', 'RF_TU'], axis=1) # drop end-of-row indicator\n",
    "    #data_temp.rename(columns = {'TT_TU':'temperature', 'MESS_DATUM': 'date', }, inplace = True)\n",
    "    #data_temp.date = pd.to_datetime(data_temp.date.astype(str), format='%Y%m%d%H')\n",
    "    #data_temp[data_temp == -999] = np.nan # rename missing values to numpy nan\n",
    "    #data_temp = data_temp[(data_temp.date >= pd.to_datetime('2007-10-01')) & (data_temp.date <= pd.to_datetime('2007-10-05'))]\n",
    "    #data_temp = data_temp[(data_temp.date.dt.month >= 10) | (data_temp.date.dt.month <= 3)]\n",
    "    #data_temp.reset_index(drop = True, inplace=True)'''\n",
    "\n",
    "    #data_temp = pd.read_csv(r\"C:\\Users\\rafaelweinert\\Downloads\\Las Vegas 2021-11-01 to 2021-11-30.csv\", usecols=['datetime', 'temp'])\n",
    "    #data_temp.temp = (data_temp.temp - 32) / 1.8\n",
    "    #data_temp.columns = ['date', 'temperature']\n",
    "    #data_temp.date = pd.to_datetime(data_temp.date)\n",
    "    data_temp = preprocessor.add_data(data_temp)\n",
    "\n",
    "    max_energy_el = data_temp.energy_needed_elec.max()\n",
    "    if max_energy_el > hp_power_el_opt:\n",
    "        print('Calculation not possible! Heat pump power not sufficient!')\n",
    "        print('Continuing ...')\n",
    "\n",
    "        return None, None, None, None\n",
    "\n",
    "    data_temp = preprocessor.get_local_extrema(data_temp)\n",
    "    if check_vis.value:\n",
    "        temp_plot = plot_temperature(data_temp, address, True)\n",
    "\n",
    "        if first_round:\n",
    "            temp_plot.show()\n",
    "            first_round = False\n",
    "\n",
    "    if check_opt.value:\n",
    "        M_eta_new, P_e_new, P_w_new, data_temp_new = optimizer.optimize_periods(data_temp)\n",
    "\n",
    "        if not os.path.isdir(f\"results/{address}\"):\n",
    "            os.makedirs(f'results/{address}')\n",
    "        if not os.path.isdir(f\"results/{address}/vol_{int(storage_volume)},pow_{int(hp_power_el_opt)},en_{int(house_energy)}\"):\n",
    "            os.makedirs(f'results/{address}/vol_{int(storage_volume)},pow_{int(hp_power_el_opt)},en_{int(house_energy)}')\n",
    "\n",
    "\n",
    "\n",
    "        data_temp_new.to_csv(rf'.\\results\\{address}\\vol_{int(storage_volume)},pow_{int(hp_power_el_opt)},en_{int(house_energy)}\\data_ad_{address},vol_{int(storage_volume)},pow_{int(hp_power_el_opt)},en_{int(house_energy)}.csv', sep=';', index=False)\n",
    "        M_eta_new.tofile(rf'.\\results\\{address}\\vol_{int(storage_volume)},pow_{int(hp_power_el_opt)},en_{int(house_energy)}\\Eta_ad_{address},vol_{int(storage_volume)},pow_{int(hp_power_el_opt)},en_{int(house_energy)}.csv', sep=';')\n",
    "        P_e_new.tofile(rf'.\\results\\{address}\\vol_{int(storage_volume)},pow_{int(hp_power_el_opt)},en_{int(house_energy)}\\Pe_ad_{address},vol_{int(storage_volume)},pow_{int(hp_power_el_opt)},en_{int(house_energy)}.csv', sep=';')\n",
    "        P_w_new.tofile(rf'.\\results\\{address}\\vol_{int(storage_volume)},pow_{int(hp_power_el_opt)},en_{int(house_energy)}\\Pw_ad_{address},vol_{int(storage_volume)},pow_{int(hp_power_el_opt)},en_{int(house_energy)}.csv', sep=';')\n",
    "\n",
    "        if check_vis.value:\n",
    "            temp_plot.write_html(rf'.\\results\\{address}\\vol_{int(storage_volume)},pow_{int(hp_power_el_opt)},en_{int(house_energy)}\\Temp_ad_{address},vol_{int(storage_volume)},pow_{int(hp_power_el_opt)},en_{int(house_energy)}.html')\n",
    "\n",
    "            opt_plot = plot_optimization(data_temp_new)\n",
    "            opt_plot.write_html(rf'.\\results\\{address}\\vol_{int(storage_volume)},pow_{int(hp_power_el_opt)},en_{int(house_energy)}\\Opt_ad_{address},vol_{int(storage_volume)},pow_{int(hp_power_el_opt)},en_{int(house_energy)}.html', auto_open=False)\n",
    "\n",
    "            M_eta_hm = plot_heatmap(M_eta_new)\n",
    "            M_eta_hm.write_html(rf'.\\results\\{address}\\vol_{int(storage_volume)},pow_{int(hp_power_el_opt)},en_{int(house_energy)}\\Etahm_ad_{address},vol_{int(storage_volume)},pow_{int(hp_power_el_opt)},en_{int(house_energy)}.html', auto_open=False)\n",
    "\n",
    "            P_e_hm = plot_heatmap(P_e_new)\n",
    "            P_e_hm.write_html(rf'.\\results\\{address}\\vol_{int(storage_volume)},pow_{int(hp_power_el_opt)},en_{int(house_energy)}\\Pehm_ad_{address},vol_{int(storage_volume)},pow_{int(hp_power_el_opt)},en_{int(house_energy)}.html', auto_open=False)\n",
    "\n",
    "            P_w_hm = plot_heatmap(P_w_new)\n",
    "            P_w_hm.write_html(rf'.\\results\\{address}\\vol_{int(storage_volume)},pow_{int(hp_power_el_opt)},en_{int(house_energy)}\\Pwhm_ad_{address},vol_{int(storage_volume)},pow_{int(hp_power_el_opt)},en_{int(house_energy)}.html', auto_open=False)\n",
    "\n",
    "        print(''.center(40, '_'))\n",
    "        print()\n",
    "        print('Energy saving potentials: ', \"{:10.2f}\".format((1 - data_temp_new.P_e_opt.sum() / data_temp_new.energy_needed_elec.sum())*100), '%')\n",
    "        print()\n",
    "        print(''.center(40, '_'))\n",
    "        print()\n",
    "    print('DONE!')\n",
    "\n",
    "    if check_opt.value:\n",
    "        return M_eta_new, P_e_new, P_w_new, data_temp_new\n",
    "\n",
    "async def f():\n",
    "    x = await wait_for_change(button_w)\n",
    "    print('------ computing saving potentials -------')\n",
    "    main_func()\n",
    "\n",
    "asyncio.create_task(f())\n",
    "\n",
    "print('Adjust the values of the building and click GO! when you are ready.')\n",
    "\n",
    "display(room_temp_w)\n",
    "display(return_flow_w)\n",
    "display(ny_w)\n",
    "display(house_energy_w)\n",
    "display(storage_power_w)\n",
    "display(storage_volume_w)\n",
    "display(hp_power_el_opt_w)\n",
    "display(max_heat_cap_w)\n",
    "display(address_w)\n",
    "display(out_min_w)\n",
    "display(flow_max_w)\n",
    "display(toggle_forecast)\n",
    "display(check_vis)\n",
    "display(check_opt)\n",
    "display(check_owndata)\n",
    "upload_w.layout.visibility = \"hidden\"\n",
    "display(upload_w)\n",
    "display(button_w)\n",
    "\n",
    "def appear_upload(box):\n",
    "    if box['new']:\n",
    "        upload_w.layout.visibility = \"visible\"\n",
    "    else:\n",
    "        upload_w.layout.visibility = \"hidden\"\n",
    "\n",
    "def appear_owndata(box):\n",
    "\n",
    "    if box['new'] == 'Forecast':\n",
    "        upload_w.layout.visibility = \"hidden\"\n",
    "        check_owndata.value = False\n",
    "        check_owndata.layout.visibility = 'hidden'\n",
    "    else:\n",
    "        check_owndata.layout.visibility = 'visible'\n",
    "\n",
    "toggle_forecast.observe(appear_owndata, names='value')\n",
    "check_owndata.observe(appear_upload, names='value')"
   ]
  },
  {
   "cell_type": "code",
   "execution_count": 3,
   "metadata": {
    "pycharm": {
     "name": "#%%\n"
    }
   },
   "outputs": [
    {
     "name": "stdout",
     "output_type": "stream",
     "text": [
      "location:  Hamburg\n",
      "house:  (150, 40)\n",
      "hp_power:  3000\n",
      "storage volume:  100 liters\n",
      "period:  166  / 166\r\n",
      "________________________________________\n",
      "\n",
      "Energy saving potentials:        1.38 %\n",
      "\n",
      "________________________________________\n",
      "\n",
      "DONE!\n",
      "storage volume:  300 liters\n",
      "period:  166  / 166\r\n",
      "________________________________________\n",
      "\n",
      "Energy saving potentials:        4.29 %\n",
      "\n",
      "________________________________________\n",
      "\n",
      "DONE!\n",
      "storage volume:  600 liters\n",
      "period:  166  / 166\r\n",
      "________________________________________\n",
      "\n",
      "Energy saving potentials:        6.72 %\n",
      "\n",
      "________________________________________\n",
      "\n",
      "DONE!\n",
      "storage volume:  1000 liters\n",
      "period:  166  / 166\r\n",
      "________________________________________\n",
      "\n",
      "Energy saving potentials:        9.43 %\n",
      "\n",
      "________________________________________\n",
      "\n",
      "DONE!\n",
      "storage volume:  2000 liters\n",
      "period:  166  / 166\r\n",
      "________________________________________\n",
      "\n",
      "Energy saving potentials:       12.86 %\n",
      "\n",
      "________________________________________\n",
      "\n",
      "DONE!\n",
      "storage volume:  3000 liters\n",
      "period:  166  / 166\r\n",
      "________________________________________\n",
      "\n",
      "Energy saving potentials:       13.72 %\n",
      "\n",
      "________________________________________\n",
      "\n",
      "DONE!\n",
      "storage volume:  5000 liters\n",
      "period:  166  / 166\r\n",
      "________________________________________\n",
      "\n",
      "Energy saving potentials:       13.94 %\n",
      "\n",
      "________________________________________\n",
      "\n",
      "DONE!\n",
      "storage volume:  8000 liters\n",
      "period:  166  / 166\r\n",
      "________________________________________\n",
      "\n",
      "Energy saving potentials:       14.00 %\n",
      "\n",
      "________________________________________\n",
      "\n",
      "DONE!\n",
      "storage volume:  12000 liters\n",
      "period:  166  / 166\r\n",
      "________________________________________\n",
      "\n",
      "Energy saving potentials:       14.03 %\n",
      "\n",
      "________________________________________\n",
      "\n",
      "DONE!\n",
      "storage volume:  20000 liters\n",
      "period:  166  / 166\r\n",
      "________________________________________\n",
      "\n",
      "Energy saving potentials:       14.06 %\n",
      "\n",
      "________________________________________\n",
      "\n",
      "DONE!\n",
      "hp_power:  5000\n",
      "storage volume:  100 liters\n",
      "period:  166  / 166\r\n",
      "________________________________________\n",
      "\n",
      "Energy saving potentials:        1.39 %\n",
      "\n",
      "________________________________________\n",
      "\n",
      "DONE!\n",
      "storage volume:  300 liters\n",
      "period:  166  / 166\r\n",
      "________________________________________\n",
      "\n",
      "Energy saving potentials:        4.31 %\n",
      "\n",
      "________________________________________\n",
      "\n",
      "DONE!\n",
      "storage volume:  600 liters\n",
      "period:  166  / 166\r\n",
      "________________________________________\n",
      "\n",
      "Energy saving potentials:        6.87 %\n",
      "\n",
      "________________________________________\n",
      "\n",
      "DONE!\n",
      "storage volume:  1000 liters\n",
      "period:  166  / 166\r\n",
      "________________________________________\n",
      "\n",
      "Energy saving potentials:        9.88 %\n",
      "\n",
      "________________________________________\n",
      "\n",
      "DONE!\n",
      "storage volume:  2000 liters\n",
      "period:  166  / 166\r\n",
      "________________________________________\n",
      "\n",
      "Energy saving potentials:       14.20 %\n",
      "\n",
      "________________________________________\n",
      "\n",
      "DONE!\n",
      "storage volume:  3000 liters\n",
      "period:  166  / 166\r\n",
      "________________________________________\n",
      "\n",
      "Energy saving potentials:       15.27 %\n",
      "\n",
      "________________________________________\n",
      "\n",
      "DONE!\n",
      "storage volume:  5000 liters\n",
      "period:  166  / 166\r\n",
      "________________________________________\n",
      "\n",
      "Energy saving potentials:       15.59 %\n",
      "\n",
      "________________________________________\n",
      "\n",
      "DONE!\n",
      "storage volume:  8000 liters\n",
      "period:  166  / 166\r\n",
      "________________________________________\n",
      "\n",
      "Energy saving potentials:       15.65 %\n",
      "\n",
      "________________________________________\n",
      "\n",
      "DONE!\n",
      "storage volume:  12000 liters\n",
      "period:  166  / 166\r\n",
      "________________________________________\n",
      "\n",
      "Energy saving potentials:       15.69 %\n",
      "\n",
      "________________________________________\n",
      "\n",
      "DONE!\n",
      "storage volume:  20000 liters\n",
      "period:  166  / 166\r\n",
      "________________________________________\n",
      "\n",
      "Energy saving potentials:       15.72 %\n",
      "\n",
      "________________________________________\n",
      "\n",
      "DONE!\n",
      "hp_power:  7000\n",
      "storage volume:  100 liters\n",
      "period:  166  / 166\r\n",
      "________________________________________\n",
      "\n",
      "Energy saving potentials:        1.39 %\n",
      "\n",
      "________________________________________\n",
      "\n",
      "DONE!\n",
      "storage volume:  300 liters\n",
      "period:  166  / 166\r\n",
      "________________________________________\n",
      "\n",
      "Energy saving potentials:        4.31 %\n",
      "\n",
      "________________________________________\n",
      "\n",
      "DONE!\n",
      "storage volume:  600 liters\n",
      "period:  166  / 166\r\n",
      "________________________________________\n",
      "\n",
      "Energy saving potentials:        6.89 %\n",
      "\n",
      "________________________________________\n",
      "\n",
      "DONE!\n",
      "storage volume:  1000 liters\n",
      "period:  166  / 166\r\n",
      "________________________________________\n",
      "\n",
      "Energy saving potentials:        9.99 %\n",
      "\n",
      "________________________________________\n",
      "\n",
      "DONE!\n",
      "storage volume:  2000 liters\n",
      "period:  166  / 166\r\n",
      "________________________________________\n",
      "\n",
      "Energy saving potentials:       14.67 %\n",
      "\n",
      "________________________________________\n",
      "\n",
      "DONE!\n",
      "storage volume:  3000 liters\n",
      "period:  166  / 166\r\n",
      "________________________________________\n",
      "\n",
      "Energy saving potentials:       15.85 %\n",
      "\n",
      "________________________________________\n",
      "\n",
      "DONE!\n",
      "storage volume:  5000 liters\n",
      "period:  166  / 166\r\n",
      "________________________________________\n",
      "\n",
      "Energy saving potentials:       16.21 %\n",
      "\n",
      "________________________________________\n",
      "\n",
      "DONE!\n",
      "storage volume:  8000 liters\n",
      "period:  166  / 166\r\n",
      "________________________________________\n",
      "\n",
      "Energy saving potentials:       16.27 %\n",
      "\n",
      "________________________________________\n",
      "\n",
      "DONE!\n",
      "storage volume:  12000 liters\n",
      "period:  166  / 166\r\n",
      "________________________________________\n",
      "\n",
      "Energy saving potentials:       16.31 %\n",
      "\n",
      "________________________________________\n",
      "\n",
      "DONE!\n",
      "storage volume:  20000 liters\n",
      "period:  166  / 166\r\n",
      "________________________________________\n",
      "\n",
      "Energy saving potentials:       16.35 %\n",
      "\n",
      "________________________________________\n",
      "\n",
      "DONE!\n",
      "hp_power:  10000\n",
      "storage volume:  100 liters\n",
      "period:  166  / 166\r\n",
      "________________________________________\n",
      "\n",
      "Energy saving potentials:        1.39 %\n",
      "\n",
      "________________________________________\n",
      "\n",
      "DONE!\n",
      "storage volume:  300 liters\n",
      "period:  166  / 166\r\n",
      "________________________________________\n",
      "\n",
      "Energy saving potentials:        4.31 %\n",
      "\n",
      "________________________________________\n",
      "\n",
      "DONE!\n",
      "storage volume:  600 liters\n",
      "period:  166  / 166\r\n",
      "________________________________________\n",
      "\n",
      "Energy saving potentials:        6.91 %\n",
      "\n",
      "________________________________________\n",
      "\n",
      "DONE!\n",
      "storage volume:  1000 liters\n",
      "period:  166  / 166\r\n",
      "________________________________________\n",
      "\n",
      "Energy saving potentials:       10.04 %\n",
      "\n",
      "________________________________________\n",
      "\n",
      "DONE!\n",
      "storage volume:  2000 liters\n",
      "period:  166  / 166\r\n",
      "________________________________________\n",
      "\n",
      "Energy saving potentials:       14.96 %\n",
      "\n",
      "________________________________________\n",
      "\n",
      "DONE!\n",
      "storage volume:  3000 liters\n",
      "period:  166  / 166\r\n",
      "________________________________________\n",
      "\n",
      "Energy saving potentials:       16.21 %\n",
      "\n",
      "________________________________________\n",
      "\n",
      "DONE!\n",
      "storage volume:  5000 liters\n",
      "period:  166  / 166\r\n",
      "________________________________________\n",
      "\n",
      "Energy saving potentials:       16.59 %\n",
      "\n",
      "________________________________________\n",
      "\n",
      "DONE!\n",
      "storage volume:  8000 liters\n",
      "period:  166  / 166\r\n",
      "________________________________________\n",
      "\n",
      "Energy saving potentials:       16.66 %\n",
      "\n",
      "________________________________________\n",
      "\n",
      "DONE!\n",
      "storage volume:  12000 liters\n",
      "period:  166  / 166\r\n",
      "________________________________________\n",
      "\n",
      "Energy saving potentials:       16.70 %\n",
      "\n",
      "________________________________________\n",
      "\n",
      "DONE!\n",
      "storage volume:  20000 liters\n",
      "period:  166  / 166\r\n",
      "________________________________________\n",
      "\n",
      "Energy saving potentials:       16.74 %\n",
      "\n",
      "________________________________________\n",
      "\n",
      "DONE!\n",
      "house:  (200, 60)\n",
      "hp_power:  3000\n",
      "storage volume:  100 liters\n",
      "Calculation not possible! Heat pump power not sufficient!\n",
      "Continuing ...\n",
      "storage volume:  300 liters\n",
      "Calculation not possible! Heat pump power not sufficient!\n",
      "Continuing ...\n",
      "storage volume:  600 liters\n",
      "Calculation not possible! Heat pump power not sufficient!\n",
      "Continuing ...\n",
      "storage volume:  1000 liters\n",
      "Calculation not possible! Heat pump power not sufficient!\n",
      "Continuing ...\n",
      "storage volume:  2000 liters\n",
      "Calculation not possible! Heat pump power not sufficient!\n",
      "Continuing ...\n",
      "storage volume:  3000 liters\n",
      "Calculation not possible! Heat pump power not sufficient!\n",
      "Continuing ...\n",
      "storage volume:  5000 liters\n",
      "Calculation not possible! Heat pump power not sufficient!\n",
      "Continuing ...\n",
      "storage volume:  8000 liters\n",
      "Calculation not possible! Heat pump power not sufficient!\n",
      "Continuing ...\n",
      "storage volume:  12000 liters\n",
      "Calculation not possible! Heat pump power not sufficient!\n",
      "Continuing ...\n",
      "storage volume:  20000 liters\n",
      "Calculation not possible! Heat pump power not sufficient!\n",
      "Continuing ...\n",
      "hp_power:  5000\n",
      "storage volume:  100 liters\n",
      "period:  166  / 166\r\n",
      "________________________________________\n",
      "\n",
      "Energy saving potentials:        0.20 %\n",
      "\n",
      "________________________________________\n",
      "\n",
      "DONE!\n",
      "storage volume:  300 liters\n",
      "period:  166  / 166\r\n",
      "________________________________________\n",
      "\n",
      "Energy saving potentials:        3.75 %\n",
      "\n",
      "________________________________________\n",
      "\n",
      "DONE!\n",
      "storage volume:  600 liters\n",
      "period:  166  / 166\r\n",
      "________________________________________\n",
      "\n",
      "Energy saving potentials:        5.63 %\n",
      "\n",
      "________________________________________\n",
      "\n",
      "DONE!\n",
      "storage volume:  1000 liters\n",
      "period:  166  / 166\r\n",
      "________________________________________\n",
      "\n",
      "Energy saving potentials:        7.98 %\n",
      "\n",
      "________________________________________\n",
      "\n",
      "DONE!\n",
      "storage volume:  2000 liters\n",
      "period:  166  / 166\r\n",
      "________________________________________\n",
      "\n",
      "Energy saving potentials:       12.26 %\n",
      "\n",
      "________________________________________\n",
      "\n",
      "DONE!\n",
      "storage volume:  3000 liters\n",
      "period:  166  / 166\r\n",
      "________________________________________\n",
      "\n",
      "Energy saving potentials:       13.92 %\n",
      "\n",
      "________________________________________\n",
      "\n",
      "DONE!\n",
      "storage volume:  5000 liters\n",
      "period:  166  / 166\r\n",
      "________________________________________\n",
      "\n",
      "Energy saving potentials:       14.78 %\n",
      "\n",
      "________________________________________\n",
      "\n",
      "DONE!\n",
      "storage volume:  8000 liters\n",
      "period:  166  / 166\r\n",
      "________________________________________\n",
      "\n",
      "Energy saving potentials:       14.85 %\n",
      "\n",
      "________________________________________\n",
      "\n",
      "DONE!\n",
      "storage volume:  12000 liters\n",
      "period:  166  / 166\r\n",
      "________________________________________\n",
      "\n",
      "Energy saving potentials:       14.89 %\n",
      "\n",
      "________________________________________\n",
      "\n",
      "DONE!\n",
      "storage volume:  20000 liters\n",
      "period:  166  / 166\r\n",
      "________________________________________\n",
      "\n",
      "Energy saving potentials:       14.92 %\n",
      "\n",
      "________________________________________\n",
      "\n",
      "DONE!\n",
      "hp_power:  7000\n",
      "storage volume:  100 liters\n",
      "period:  166  / 166\r\n",
      "________________________________________\n",
      "\n",
      "Energy saving potentials:        0.19 %\n",
      "\n",
      "________________________________________\n",
      "\n",
      "DONE!\n",
      "storage volume:  300 liters\n",
      "period:  166  / 166\r\n",
      "________________________________________\n",
      "\n",
      "Energy saving potentials:        3.76 %\n",
      "\n",
      "________________________________________\n",
      "\n",
      "DONE!\n",
      "storage volume:  600 liters\n",
      "period:  166  / 166\r\n",
      "________________________________________\n",
      "\n",
      "Energy saving potentials:        5.66 %\n",
      "\n",
      "________________________________________\n",
      "\n",
      "DONE!\n",
      "storage volume:  1000 liters\n",
      "period:  166  / 166\r\n",
      "________________________________________\n",
      "\n",
      "Energy saving potentials:        8.07 %\n",
      "\n",
      "________________________________________\n",
      "\n",
      "DONE!\n",
      "storage volume:  2000 liters\n",
      "period:  166  / 166\r\n",
      "________________________________________\n",
      "\n",
      "Energy saving potentials:       12.79 %\n",
      "\n",
      "________________________________________\n",
      "\n",
      "DONE!\n",
      "storage volume:  3000 liters\n",
      "period:  166  / 166\r\n",
      "________________________________________\n",
      "\n",
      "Energy saving potentials:       14.73 %\n",
      "\n",
      "________________________________________\n",
      "\n",
      "DONE!\n",
      "storage volume:  5000 liters\n",
      "period:  166  / 166\r\n",
      "________________________________________\n",
      "\n",
      "Energy saving potentials:       15.69 %\n",
      "\n",
      "________________________________________\n",
      "\n",
      "DONE!\n",
      "storage volume:  8000 liters\n",
      "period:  166  / 166\r\n",
      "________________________________________\n",
      "\n",
      "Energy saving potentials:       15.77 %\n",
      "\n",
      "________________________________________\n",
      "\n",
      "DONE!\n",
      "storage volume:  12000 liters\n",
      "period:  166  / 166\r\n",
      "________________________________________\n",
      "\n",
      "Energy saving potentials:       15.81 %\n",
      "\n",
      "________________________________________\n",
      "\n",
      "DONE!\n",
      "storage volume:  20000 liters\n",
      "period:  166  / 166\r\n",
      "________________________________________\n",
      "\n",
      "Energy saving potentials:       15.84 %\n",
      "\n",
      "________________________________________\n",
      "\n",
      "DONE!\n",
      "hp_power:  10000\n",
      "storage volume:  100 liters\n",
      "period:  166  / 166\r\n",
      "________________________________________\n",
      "\n",
      "Energy saving potentials:        0.19 %\n",
      "\n",
      "________________________________________\n",
      "\n",
      "DONE!\n",
      "storage volume:  300 liters\n",
      "period:  166  / 166\r\n",
      "________________________________________\n",
      "\n",
      "Energy saving potentials:        3.75 %\n",
      "\n",
      "________________________________________\n",
      "\n",
      "DONE!\n",
      "storage volume:  600 liters\n",
      "period:  166  / 166\r\n",
      "________________________________________\n",
      "\n",
      "Energy saving potentials:        5.67 %\n",
      "\n",
      "________________________________________\n",
      "\n",
      "DONE!\n",
      "storage volume:  1000 liters\n",
      "period:  166  / 166\r\n",
      "________________________________________\n",
      "\n",
      "Energy saving potentials:        8.14 %\n",
      "\n",
      "________________________________________\n",
      "\n",
      "DONE!\n",
      "storage volume:  2000 liters\n",
      "period:  166  / 166\r\n",
      "________________________________________\n",
      "\n",
      "Energy saving potentials:       13.09 %\n",
      "\n",
      "________________________________________\n",
      "\n",
      "DONE!\n",
      "storage volume:  3000 liters\n",
      "period:  166  / 166\r\n",
      "________________________________________\n",
      "\n",
      "Energy saving potentials:       15.21 %\n",
      "\n",
      "________________________________________\n",
      "\n",
      "DONE!\n",
      "storage volume:  5000 liters\n",
      "period:  166  / 166\r\n",
      "________________________________________\n",
      "\n",
      "Energy saving potentials:       16.29 %\n",
      "\n",
      "________________________________________\n",
      "\n",
      "DONE!\n",
      "storage volume:  8000 liters\n",
      "period:  166  / 166\r\n",
      "________________________________________\n",
      "\n",
      "Energy saving potentials:       16.37 %\n",
      "\n",
      "________________________________________\n",
      "\n",
      "DONE!\n",
      "storage volume:  12000 liters\n",
      "period:  166  / 166\r\n",
      "________________________________________\n",
      "\n",
      "Energy saving potentials:       16.41 %\n",
      "\n",
      "________________________________________\n",
      "\n",
      "DONE!\n",
      "storage volume:  20000 liters\n",
      "period:  166  / 166\r\n",
      "________________________________________\n",
      "\n",
      "Energy saving potentials:       16.44 %\n",
      "\n",
      "________________________________________\n",
      "\n",
      "DONE!\n",
      "house:  (350, 75)\n",
      "hp_power:  3000\n",
      "storage volume:  100 liters\n",
      "Calculation not possible! Heat pump power not sufficient!\n",
      "Continuing ...\n",
      "storage volume:  300 liters\n",
      "Calculation not possible! Heat pump power not sufficient!\n",
      "Continuing ...\n",
      "storage volume:  600 liters\n",
      "Calculation not possible! Heat pump power not sufficient!\n",
      "Continuing ...\n",
      "storage volume:  1000 liters\n",
      "Calculation not possible! Heat pump power not sufficient!\n",
      "Continuing ...\n",
      "storage volume:  2000 liters\n",
      "Calculation not possible! Heat pump power not sufficient!\n",
      "Continuing ...\n",
      "storage volume:  3000 liters\n",
      "Calculation not possible! Heat pump power not sufficient!\n",
      "Continuing ...\n",
      "storage volume:  5000 liters\n",
      "Calculation not possible! Heat pump power not sufficient!\n",
      "Continuing ...\n",
      "storage volume:  8000 liters\n",
      "Calculation not possible! Heat pump power not sufficient!\n",
      "Continuing ...\n",
      "storage volume:  12000 liters\n",
      "Calculation not possible! Heat pump power not sufficient!\n",
      "Continuing ...\n",
      "storage volume:  20000 liters\n",
      "Calculation not possible! Heat pump power not sufficient!\n",
      "Continuing ...\n",
      "hp_power:  5000\n",
      "storage volume:  100 liters\n",
      "Calculation not possible! Heat pump power not sufficient!\n",
      "Continuing ...\n",
      "storage volume:  300 liters\n",
      "Calculation not possible! Heat pump power not sufficient!\n",
      "Continuing ...\n",
      "storage volume:  600 liters\n",
      "Calculation not possible! Heat pump power not sufficient!\n",
      "Continuing ...\n",
      "storage volume:  1000 liters\n",
      "Calculation not possible! Heat pump power not sufficient!\n",
      "Continuing ...\n",
      "storage volume:  2000 liters\n",
      "Calculation not possible! Heat pump power not sufficient!\n",
      "Continuing ...\n",
      "storage volume:  3000 liters\n",
      "Calculation not possible! Heat pump power not sufficient!\n",
      "Continuing ...\n",
      "storage volume:  5000 liters\n",
      "Calculation not possible! Heat pump power not sufficient!\n",
      "Continuing ...\n",
      "storage volume:  8000 liters\n",
      "Calculation not possible! Heat pump power not sufficient!\n",
      "Continuing ...\n",
      "storage volume:  12000 liters\n",
      "Calculation not possible! Heat pump power not sufficient!\n",
      "Continuing ...\n",
      "storage volume:  20000 liters\n",
      "Calculation not possible! Heat pump power not sufficient!\n",
      "Continuing ...\n",
      "hp_power:  7000\n",
      "storage volume:  100 liters\n",
      "period:  166  / 166\r\n",
      "________________________________________\n",
      "\n",
      "Energy saving potentials:        0.00 %\n",
      "\n",
      "________________________________________\n",
      "\n",
      "DONE!\n",
      "storage volume:  300 liters\n",
      "period:  166  / 166\r\n",
      "________________________________________\n",
      "\n",
      "Energy saving potentials:        2.91 %\n",
      "\n",
      "________________________________________\n",
      "\n",
      "DONE!\n",
      "storage volume:  600 liters\n",
      "period:  166  / 166\r\n",
      "________________________________________\n",
      "\n",
      "Energy saving potentials:        3.99 %\n",
      "\n",
      "________________________________________\n",
      "\n",
      "DONE!\n",
      "storage volume:  1000 liters\n",
      "period:  166  / 166\r\n",
      "________________________________________\n",
      "\n",
      "Energy saving potentials:        5.46 %\n",
      "\n",
      "________________________________________\n",
      "\n",
      "DONE!\n",
      "storage volume:  2000 liters\n",
      "period:  166  / 166\r\n",
      "________________________________________\n",
      "\n",
      "Energy saving potentials:        8.66 %\n",
      "\n",
      "________________________________________\n",
      "\n",
      "DONE!\n",
      "storage volume:  3000 liters\n",
      "period:  166  / 166\r\n",
      "________________________________________\n",
      "\n",
      "Energy saving potentials:       10.99 %\n",
      "\n",
      "________________________________________\n",
      "\n",
      "DONE!\n",
      "storage volume:  5000 liters\n",
      "period:  166  / 166\r\n",
      "________________________________________\n",
      "\n",
      "Energy saving potentials:       13.17 %\n",
      "\n",
      "________________________________________\n",
      "\n",
      "DONE!\n",
      "storage volume:  8000 liters\n",
      "period:  166  / 166\r\n",
      "________________________________________\n",
      "\n",
      "Energy saving potentials:       13.95 %\n",
      "\n",
      "________________________________________\n",
      "\n",
      "DONE!\n",
      "storage volume:  12000 liters\n",
      "period:  166  / 166\r\n",
      "________________________________________\n",
      "\n",
      "Energy saving potentials:       14.03 %\n",
      "\n",
      "________________________________________\n",
      "\n",
      "DONE!\n",
      "storage volume:  20000 liters\n",
      "period:  166  / 166\r\n",
      "________________________________________\n",
      "\n",
      "Energy saving potentials:       14.06 %\n",
      "\n",
      "________________________________________\n",
      "\n",
      "DONE!\n",
      "hp_power:  10000\n",
      "storage volume:  100 liters\n",
      "period:  166  / 166\r\n",
      "________________________________________\n",
      "\n",
      "Energy saving potentials:        0.00 %\n",
      "\n",
      "________________________________________\n",
      "\n",
      "DONE!\n",
      "storage volume:  300 liters\n",
      "period:  166  / 166\r\n",
      "________________________________________\n",
      "\n",
      "Energy saving potentials:        2.91 %\n",
      "\n",
      "________________________________________\n",
      "\n",
      "DONE!\n",
      "storage volume:  600 liters\n",
      "period:  166  / 166\r\n",
      "________________________________________\n",
      "\n",
      "Energy saving potentials:        4.00 %\n",
      "\n",
      "________________________________________\n",
      "\n",
      "DONE!\n",
      "storage volume:  1000 liters\n",
      "period:  166  / 166\r\n",
      "________________________________________\n",
      "\n",
      "Energy saving potentials:        5.52 %\n",
      "\n",
      "________________________________________\n",
      "\n",
      "DONE!\n",
      "storage volume:  2000 liters\n",
      "period:  166  / 166\r\n",
      "________________________________________\n",
      "\n",
      "Energy saving potentials:        8.93 %\n",
      "\n",
      "________________________________________\n",
      "\n",
      "DONE!\n",
      "storage volume:  3000 liters\n",
      "period:  166  / 166\r\n",
      "________________________________________\n",
      "\n",
      "Energy saving potentials:       11.58 %\n",
      "\n",
      "________________________________________\n",
      "\n",
      "DONE!\n",
      "storage volume:  5000 liters\n",
      "period:  166  / 166\r\n",
      "________________________________________\n",
      "\n",
      "Energy saving potentials:       14.21 %\n",
      "\n",
      "________________________________________\n",
      "\n",
      "DONE!\n",
      "storage volume:  8000 liters\n",
      "period:  166  / 166\r\n",
      "________________________________________\n",
      "\n",
      "Energy saving potentials:       15.19 %\n",
      "\n",
      "________________________________________\n",
      "\n",
      "DONE!\n",
      "storage volume:  12000 liters\n",
      "period:  166  / 166\r\n",
      "________________________________________\n",
      "\n",
      "Energy saving potentials:       15.28 %\n",
      "\n",
      "________________________________________\n",
      "\n",
      "DONE!\n",
      "storage volume:  20000 liters\n",
      "period:  166  / 166\r\n",
      "________________________________________\n",
      "\n",
      "Energy saving potentials:       15.31 %\n",
      "\n",
      "________________________________________\n",
      "\n",
      "DONE!\n"
     ]
    }
   ],
   "source": [
    "locations = ['Hamburg']#, #,'Karlsruhe', 'Oberstdorf','Villingen-Schwenningen'\n",
    "houses = [(150, 40),(200, 60), (350, 75)] #\n",
    "heat_pump_powers = [3000,5000, 7000,10000]#,2000,\n",
    "storage_volumes = [(100, 40), (300, 50), (600, 65), (1000, 80),(2000, 100), (3000, 110), (5000, 130),(8000, 145), (12000, 155), (20000, 170)]#\n",
    "\n",
    "for loc in locations:\n",
    "    print('location: ', loc)\n",
    "    for house in houses:\n",
    "        print('house: ', house)\n",
    "        for heat_pump_power in heat_pump_powers:\n",
    "            print('hp_power: ', heat_pump_power)\n",
    "            for vol in storage_volumes:\n",
    "                print('storage volume: ', vol[0], 'liters')\n",
    "\n",
    "                storage_volume_w.value = vol[0]\n",
    "                storage_power_w.value = vol[1]\n",
    "                address_w.value = loc\n",
    "                house_energy_w.value = house[0]\n",
    "                flow_max_w.value = house[1]\n",
    "                hp_power_el_opt_w.value = heat_pump_power\n",
    "\n",
    "                M_eta_new, P_e_new, P_w_new, data_temp_new = main_func()"
   ]
  },
  {
   "cell_type": "code",
   "execution_count": 4,
   "metadata": {
    "pycharm": {
     "name": "#%%\n"
    }
   },
   "outputs": [
    {
     "data": {
      "text/plain": [
       "0.9438448140390856"
      ]
     },
     "execution_count": 4,
     "metadata": {},
     "output_type": "execute_result"
    }
   ],
   "source": [
    "data_temp_new.P_e_opt.sum() / data_temp_new.energy_needed_elec.sum()"
   ]
  },
  {
   "cell_type": "code",
   "execution_count": 3,
   "metadata": {
    "pycharm": {
     "name": "#%%\n"
    }
   },
   "outputs": [
    {
     "name": "stdout",
     "output_type": "stream",
     "text": [
      "period:  186  / 186\r\n",
      "________________________________________\n",
      "\n",
      "Energy saving potentials:       19.58 %\n",
      "\n",
      "________________________________________\n",
      "\n",
      "DONE!\n"
     ]
    }
   ],
   "source": [
    "storage_volume_w.value = 100000\n",
    "storage_power_w.value = 0\n",
    "address_w.value = 'Oberstdorf'\n",
    "house_energy_w.value = 150\n",
    "flow_max_w.value = 40\n",
    "hp_power_el_opt_w.value = 100000\n",
    "\n",
    "M_eta_new, P_e_new, P_w_new, data_temp_new = main_func()"
   ]
  }
 ],
 "metadata": {
  "kernelspec": {
   "display_name": "Python 3 (ipykernel)",
   "language": "python",
   "name": "python3"
  },
  "language_info": {
   "codemirror_mode": {
    "name": "ipython",
    "version": 3
   },
   "file_extension": ".py",
   "mimetype": "text/x-python",
   "name": "python",
   "nbconvert_exporter": "python",
   "pygments_lexer": "ipython3",
   "version": "3.10.4"
  }
 },
 "nbformat": 4,
 "nbformat_minor": 1
}