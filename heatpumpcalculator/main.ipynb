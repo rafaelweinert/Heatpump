{
 "cells": [
  {
   "cell_type": "code",
   "execution_count": 3,
   "metadata": {
    "pycharm": {
     "name": "#%%\n"
    }
   },
   "outputs": [],
   "source": [
    "import constants as c\n",
    "import functions\n",
    "import optimizing\n",
    "import preprocessing\n",
    "import stationfinding\n",
    "from visualize import *\n",
    "\n",
    "import os\n",
    "from ipywidgets import Button\n",
    "import asyncio\n",
    "from ipywidgets import IntSlider, FloatSlider, FloatText, Text, widgets\n",
    "from IPython.display import display\n",
    "\n",
    "import numpy as np\n",
    "import pandas as pd\n",
    "\n",
    "import warnings\n",
    "warnings.filterwarnings('ignore')"
   ]
  },
  {
   "cell_type": "code",
   "execution_count": 4,
   "metadata": {
    "pycharm": {
     "name": "#%%\n"
    }
   },
   "outputs": [
    {
     "name": "stdout",
     "output_type": "stream",
     "text": [
      "Adjust the values of the building and click GO! when you are ready.\n"
     ]
    },
    {
     "data": {
      "application/vnd.jupyter.widget-view+json": {
       "model_id": "786e87bb13624790a4467ea44111cfad",
       "version_major": 2,
       "version_minor": 0
      },
      "text/plain": [
       "FloatSlider(value=21.0, continuous_update=False, description='Desired room temperature: ', layout=Layout(heigh…"
      ]
     },
     "metadata": {},
     "output_type": "display_data"
    },
    {
     "data": {
      "application/vnd.jupyter.widget-view+json": {
       "model_id": "862776603dc1492b998be852d3526037",
       "version_major": 2,
       "version_minor": 0
      },
      "text/plain": [
       "FloatSlider(value=25.0, continuous_update=False, description='Returning flow temperature: ', layout=Layout(hei…"
      ]
     },
     "metadata": {},
     "output_type": "display_data"
    },
    {
     "data": {
      "application/vnd.jupyter.widget-view+json": {
       "model_id": "2178c50c137d488cac493d06206efbd0",
       "version_major": 2,
       "version_minor": 0
      },
      "text/plain": [
       "FloatSlider(value=0.4, continuous_update=False, description='Quality factor of the heat pump: ', layout=Layout…"
      ]
     },
     "metadata": {},
     "output_type": "display_data"
    },
    {
     "data": {
      "application/vnd.jupyter.widget-view+json": {
       "model_id": "b5d3168ccd9f4322ac61dd68e6afa735",
       "version_major": 2,
       "version_minor": 0
      },
      "text/plain": [
       "FloatText(value=200.0, description='Energy need in Watt per Kelvin: ', layout=Layout(height='40px', width='aut…"
      ]
     },
     "metadata": {},
     "output_type": "display_data"
    },
    {
     "data": {
      "application/vnd.jupyter.widget-view+json": {
       "model_id": "cf015404ef9243efbc5349ae7dc920de",
       "version_major": 2,
       "version_minor": 0
      },
      "text/plain": [
       "FloatText(value=200.0, description='Energy need of your storage (DIN...): ', layout=Layout(height='40px', widt…"
      ]
     },
     "metadata": {},
     "output_type": "display_data"
    },
    {
     "data": {
      "application/vnd.jupyter.widget-view+json": {
       "model_id": "2ca8d1efd56044558e89d7d0a9a77104",
       "version_major": 2,
       "version_minor": 0
      },
      "text/plain": [
       "FloatText(value=4000.0, description='Storage volume: ', layout=Layout(height='40px', width='auto'), style=Desc…"
      ]
     },
     "metadata": {},
     "output_type": "display_data"
    },
    {
     "data": {
      "application/vnd.jupyter.widget-view+json": {
       "model_id": "b2786e0fcb1c49f4b8f26280db485590",
       "version_major": 2,
       "version_minor": 0
      },
      "text/plain": [
       "FloatText(value=5000.0, description='Power of heat pump: ', layout=Layout(height='40px', width='auto'), style=…"
      ]
     },
     "metadata": {},
     "output_type": "display_data"
    },
    {
     "data": {
      "application/vnd.jupyter.widget-view+json": {
       "model_id": "3f3362c7f0a0443aa287b473370739f9",
       "version_major": 2,
       "version_minor": 0
      },
      "text/plain": [
       "IntSlider(value=75, description='Maximum heating temperature: ', layout=Layout(height='40px', width='auto'), m…"
      ]
     },
     "metadata": {},
     "output_type": "display_data"
    },
    {
     "data": {
      "application/vnd.jupyter.widget-view+json": {
       "model_id": "c18a3a34958e42058eec6af83b26fef5",
       "version_major": 2,
       "version_minor": 0
      },
      "text/plain": [
       "Text(value='', description='Address: ', layout=Layout(height='40px', width='auto'), placeholder='Examplestreet…"
      ]
     },
     "metadata": {},
     "output_type": "display_data"
    },
    {
     "data": {
      "application/vnd.jupyter.widget-view+json": {
       "model_id": "e55a0f73a1204ab58bf998722480605e",
       "version_major": 2,
       "version_minor": 0
      },
      "text/plain": [
       "FloatText(value=-10.0, description='Minimum outside temperature: ', layout=Layout(height='40px', width='auto')…"
      ]
     },
     "metadata": {},
     "output_type": "display_data"
    },
    {
     "data": {
      "application/vnd.jupyter.widget-view+json": {
       "model_id": "c5bf50c43a454d408a174278699cde47",
       "version_major": 2,
       "version_minor": 0
      },
      "text/plain": [
       "FloatText(value=50.0, description='Maximum flow temperature at minimum temperature: ', layout=Layout(height='4…"
      ]
     },
     "metadata": {},
     "output_type": "display_data"
    },
    {
     "data": {
      "application/vnd.jupyter.widget-view+json": {
       "model_id": "78c0a695b059487c8daa648b6cd9b8f3",
       "version_major": 2,
       "version_minor": 0
      },
      "text/plain": [
       "Button(description='GO!', style=ButtonStyle())"
      ]
     },
     "metadata": {},
     "output_type": "display_data"
    },
    {
     "name": "stdout",
     "output_type": "stream",
     "text": [
      "------ computing saving potentials -------\n",
      "main function\n",
      "addresse:  K\n"
     ]
    },
    {
     "data": {
      "application/vnd.plotly.v1+json": {
       "config": {
        "plotlyServerURL": "https://plot.ly"
       },
       "data": [
        {
         "name": "temperature",
         "type": "scatter",
         "x": [
          "2007-10-01T00:00:00",
          "2007-10-01T01:00:00",
          "2007-10-01T02:00:00",
          "2007-10-01T03:00:00",
          "2007-10-01T04:00:00",
          "2007-10-01T05:00:00",
          "2007-10-01T06:00:00",
          "2007-10-01T07:00:00",
          "2007-10-01T08:00:00",
          "2007-10-01T09:00:00",
          "2007-10-01T10:00:00",
          "2007-10-01T11:00:00",
          "2007-10-01T12:00:00",
          "2007-10-01T13:00:00",
          "2007-10-01T14:00:00",
          "2007-10-01T15:00:00",
          "2007-10-01T16:00:00",
          "2007-10-01T17:00:00",
          "2007-10-01T18:00:00",
          "2007-10-01T19:00:00",
          "2007-10-01T20:00:00",
          "2007-10-01T21:00:00",
          "2007-10-01T22:00:00",
          "2007-10-01T23:00:00",
          "2007-10-02T00:00:00",
          "2007-10-02T01:00:00",
          "2007-10-02T02:00:00",
          "2007-10-02T03:00:00",
          "2007-10-02T04:00:00",
          "2007-10-02T05:00:00",
          "2007-10-02T06:00:00",
          "2007-10-02T07:00:00",
          "2007-10-02T08:00:00",
          "2007-10-02T09:00:00",
          "2007-10-02T10:00:00",
          "2007-10-02T11:00:00",
          "2007-10-02T12:00:00",
          "2007-10-02T13:00:00",
          "2007-10-02T14:00:00",
          "2007-10-02T15:00:00",
          "2007-10-02T16:00:00",
          "2007-10-02T17:00:00",
          "2007-10-02T18:00:00",
          "2007-10-02T19:00:00",
          "2007-10-02T20:00:00",
          "2007-10-02T21:00:00",
          "2007-10-02T22:00:00",
          "2007-10-02T23:00:00",
          "2007-10-03T00:00:00",
          "2007-10-03T01:00:00",
          "2007-10-03T02:00:00",
          "2007-10-03T03:00:00",
          "2007-10-03T04:00:00",
          "2007-10-03T05:00:00",
          "2007-10-03T06:00:00",
          "2007-10-03T07:00:00",
          "2007-10-03T08:00:00",
          "2007-10-03T09:00:00",
          "2007-10-03T10:00:00",
          "2007-10-03T11:00:00",
          "2007-10-03T12:00:00",
          "2007-10-03T13:00:00",
          "2007-10-03T14:00:00",
          "2007-10-03T15:00:00",
          "2007-10-03T16:00:00",
          "2007-10-03T17:00:00",
          "2007-10-03T18:00:00",
          "2007-10-03T19:00:00",
          "2007-10-03T20:00:00",
          "2007-10-03T21:00:00",
          "2007-10-03T22:00:00",
          "2007-10-03T23:00:00",
          "2007-10-04T00:00:00",
          "2007-10-04T01:00:00",
          "2007-10-04T02:00:00",
          "2007-10-04T03:00:00",
          "2007-10-04T04:00:00",
          "2007-10-04T05:00:00",
          "2007-10-04T06:00:00",
          "2007-10-04T07:00:00",
          "2007-10-04T08:00:00",
          "2007-10-04T09:00:00",
          "2007-10-04T10:00:00",
          "2007-10-04T11:00:00",
          "2007-10-04T12:00:00",
          "2007-10-04T13:00:00",
          "2007-10-04T14:00:00",
          "2007-10-04T15:00:00",
          "2007-10-04T16:00:00",
          "2007-10-04T17:00:00",
          "2007-10-04T18:00:00",
          "2007-10-04T19:00:00",
          "2007-10-04T20:00:00",
          "2007-10-04T21:00:00",
          "2007-10-04T22:00:00",
          "2007-10-04T23:00:00",
          "2007-10-05T00:00:00"
         ],
         "y": [
          9.8,
          9.2,
          9,
          8.7,
          8.1,
          8.2,
          8.1,
          10.4,
          12.7,
          14.5,
          17.5,
          19.2,
          21.1,
          22.1,
          23.9,
          22.3,
          21.2,
          20.3,
          18.8,
          18.1,
          16.7,
          16.2,
          15.8,
          14.8,
          13.8,
          13.8,
          14.7,
          14.9,
          15.1,
          14.9,
          14.9,
          15.3,
          16.3,
          16.4,
          17.3,
          18.1,
          19.3,
          20.6,
          21.1,
          21.6,
          21.3,
          19.9,
          19,
          18.3,
          17.9,
          17.6,
          17.2,
          17.1,
          16.9,
          16.7,
          16.6,
          16.4,
          16.2,
          15.8,
          16,
          16.5,
          17,
          17.5,
          18.4,
          19.6,
          20.7,
          21.4,
          21.6,
          21.5,
          20.8,
          19.5,
          18.5,
          17.5,
          17,
          16.6,
          16.1,
          15.9,
          15.7,
          15.8,
          16.1,
          16,
          15.9,
          16.1,
          16.1,
          16.5,
          18.4,
          20.4,
          22.5,
          24.1,
          25,
          25.9,
          25.2,
          22.7,
          21.9,
          20.5,
          18.9,
          17.6,
          16.4,
          16,
          16.3,
          16.4,
          16.2
         ]
        },
        {
         "mode": "markers",
         "name": "local_minima",
         "type": "scatter",
         "x": [
          "2007-10-01T00:00:00",
          "2007-10-01T01:00:00",
          "2007-10-01T02:00:00",
          "2007-10-01T03:00:00",
          "2007-10-01T04:00:00",
          "2007-10-01T05:00:00",
          "2007-10-01T06:00:00",
          "2007-10-01T07:00:00",
          "2007-10-01T08:00:00",
          "2007-10-01T09:00:00",
          "2007-10-01T10:00:00",
          "2007-10-01T11:00:00",
          "2007-10-01T12:00:00",
          "2007-10-01T13:00:00",
          "2007-10-01T14:00:00",
          "2007-10-01T15:00:00",
          "2007-10-01T16:00:00",
          "2007-10-01T17:00:00",
          "2007-10-01T18:00:00",
          "2007-10-01T19:00:00",
          "2007-10-01T20:00:00",
          "2007-10-01T21:00:00",
          "2007-10-01T22:00:00",
          "2007-10-01T23:00:00",
          "2007-10-02T00:00:00",
          "2007-10-02T01:00:00",
          "2007-10-02T02:00:00",
          "2007-10-02T03:00:00",
          "2007-10-02T04:00:00",
          "2007-10-02T05:00:00",
          "2007-10-02T06:00:00",
          "2007-10-02T07:00:00",
          "2007-10-02T08:00:00",
          "2007-10-02T09:00:00",
          "2007-10-02T10:00:00",
          "2007-10-02T11:00:00",
          "2007-10-02T12:00:00",
          "2007-10-02T13:00:00",
          "2007-10-02T14:00:00",
          "2007-10-02T15:00:00",
          "2007-10-02T16:00:00",
          "2007-10-02T17:00:00",
          "2007-10-02T18:00:00",
          "2007-10-02T19:00:00",
          "2007-10-02T20:00:00",
          "2007-10-02T21:00:00",
          "2007-10-02T22:00:00",
          "2007-10-02T23:00:00",
          "2007-10-03T00:00:00",
          "2007-10-03T01:00:00",
          "2007-10-03T02:00:00",
          "2007-10-03T03:00:00",
          "2007-10-03T04:00:00",
          "2007-10-03T05:00:00",
          "2007-10-03T06:00:00",
          "2007-10-03T07:00:00",
          "2007-10-03T08:00:00",
          "2007-10-03T09:00:00",
          "2007-10-03T10:00:00",
          "2007-10-03T11:00:00",
          "2007-10-03T12:00:00",
          "2007-10-03T13:00:00",
          "2007-10-03T14:00:00",
          "2007-10-03T15:00:00",
          "2007-10-03T16:00:00",
          "2007-10-03T17:00:00",
          "2007-10-03T18:00:00",
          "2007-10-03T19:00:00",
          "2007-10-03T20:00:00",
          "2007-10-03T21:00:00",
          "2007-10-03T22:00:00",
          "2007-10-03T23:00:00",
          "2007-10-04T00:00:00",
          "2007-10-04T01:00:00",
          "2007-10-04T02:00:00",
          "2007-10-04T03:00:00",
          "2007-10-04T04:00:00",
          "2007-10-04T05:00:00",
          "2007-10-04T06:00:00",
          "2007-10-04T07:00:00",
          "2007-10-04T08:00:00",
          "2007-10-04T09:00:00",
          "2007-10-04T10:00:00",
          "2007-10-04T11:00:00",
          "2007-10-04T12:00:00",
          "2007-10-04T13:00:00",
          "2007-10-04T14:00:00",
          "2007-10-04T15:00:00",
          "2007-10-04T16:00:00",
          "2007-10-04T17:00:00",
          "2007-10-04T18:00:00",
          "2007-10-04T19:00:00",
          "2007-10-04T20:00:00",
          "2007-10-04T21:00:00",
          "2007-10-04T22:00:00",
          "2007-10-04T23:00:00",
          "2007-10-05T00:00:00"
         ],
         "y": [
          null,
          null,
          null,
          null,
          null,
          null,
          8.1,
          null,
          null,
          null,
          null,
          null,
          null,
          null,
          null,
          null,
          null,
          null,
          null,
          null,
          null,
          null,
          null,
          null,
          null,
          13.8,
          null,
          null,
          null,
          null,
          null,
          null,
          null,
          null,
          null,
          null,
          null,
          null,
          null,
          null,
          null,
          null,
          null,
          null,
          null,
          null,
          null,
          null,
          null,
          null,
          null,
          null,
          null,
          15.8,
          null,
          null,
          null,
          null,
          null,
          null,
          null,
          null,
          null,
          null,
          null,
          null,
          null,
          null,
          null,
          null,
          null,
          null,
          15.7,
          null,
          null,
          null,
          null,
          null,
          null,
          null,
          null,
          null,
          null,
          null,
          null,
          null,
          null,
          null,
          null,
          null,
          null,
          null,
          null,
          16,
          null,
          null,
          null
         ]
        },
        {
         "hovertext": [
          null,
          null,
          null,
          null,
          null,
          null,
          null,
          null,
          null,
          null,
          null,
          null,
          null,
          null,
          0,
          0,
          0,
          0,
          0,
          0,
          0,
          0,
          0,
          0,
          0,
          0,
          0,
          0,
          0,
          0,
          0,
          0,
          0,
          0,
          0,
          0,
          0,
          0,
          0,
          1,
          1,
          1,
          1,
          1,
          1,
          1,
          1,
          1,
          1,
          1,
          1,
          1,
          1,
          1,
          1,
          1,
          1,
          1,
          1,
          1,
          1,
          1,
          2,
          2,
          2,
          2,
          2,
          2,
          2,
          2,
          2,
          2,
          2,
          2,
          2,
          2,
          2,
          2,
          2,
          2,
          2,
          2,
          2,
          2,
          2,
          3,
          3,
          3,
          3,
          3,
          3,
          3,
          3,
          3,
          3,
          3,
          3
         ],
         "mode": "markers",
         "name": "local_maxima",
         "type": "scatter",
         "x": [
          "2007-10-01T00:00:00",
          "2007-10-01T01:00:00",
          "2007-10-01T02:00:00",
          "2007-10-01T03:00:00",
          "2007-10-01T04:00:00",
          "2007-10-01T05:00:00",
          "2007-10-01T06:00:00",
          "2007-10-01T07:00:00",
          "2007-10-01T08:00:00",
          "2007-10-01T09:00:00",
          "2007-10-01T10:00:00",
          "2007-10-01T11:00:00",
          "2007-10-01T12:00:00",
          "2007-10-01T13:00:00",
          "2007-10-01T14:00:00",
          "2007-10-01T15:00:00",
          "2007-10-01T16:00:00",
          "2007-10-01T17:00:00",
          "2007-10-01T18:00:00",
          "2007-10-01T19:00:00",
          "2007-10-01T20:00:00",
          "2007-10-01T21:00:00",
          "2007-10-01T22:00:00",
          "2007-10-01T23:00:00",
          "2007-10-02T00:00:00",
          "2007-10-02T01:00:00",
          "2007-10-02T02:00:00",
          "2007-10-02T03:00:00",
          "2007-10-02T04:00:00",
          "2007-10-02T05:00:00",
          "2007-10-02T06:00:00",
          "2007-10-02T07:00:00",
          "2007-10-02T08:00:00",
          "2007-10-02T09:00:00",
          "2007-10-02T10:00:00",
          "2007-10-02T11:00:00",
          "2007-10-02T12:00:00",
          "2007-10-02T13:00:00",
          "2007-10-02T14:00:00",
          "2007-10-02T15:00:00",
          "2007-10-02T16:00:00",
          "2007-10-02T17:00:00",
          "2007-10-02T18:00:00",
          "2007-10-02T19:00:00",
          "2007-10-02T20:00:00",
          "2007-10-02T21:00:00",
          "2007-10-02T22:00:00",
          "2007-10-02T23:00:00",
          "2007-10-03T00:00:00",
          "2007-10-03T01:00:00",
          "2007-10-03T02:00:00",
          "2007-10-03T03:00:00",
          "2007-10-03T04:00:00",
          "2007-10-03T05:00:00",
          "2007-10-03T06:00:00",
          "2007-10-03T07:00:00",
          "2007-10-03T08:00:00",
          "2007-10-03T09:00:00",
          "2007-10-03T10:00:00",
          "2007-10-03T11:00:00",
          "2007-10-03T12:00:00",
          "2007-10-03T13:00:00",
          "2007-10-03T14:00:00",
          "2007-10-03T15:00:00",
          "2007-10-03T16:00:00",
          "2007-10-03T17:00:00",
          "2007-10-03T18:00:00",
          "2007-10-03T19:00:00",
          "2007-10-03T20:00:00",
          "2007-10-03T21:00:00",
          "2007-10-03T22:00:00",
          "2007-10-03T23:00:00",
          "2007-10-04T00:00:00",
          "2007-10-04T01:00:00",
          "2007-10-04T02:00:00",
          "2007-10-04T03:00:00",
          "2007-10-04T04:00:00",
          "2007-10-04T05:00:00",
          "2007-10-04T06:00:00",
          "2007-10-04T07:00:00",
          "2007-10-04T08:00:00",
          "2007-10-04T09:00:00",
          "2007-10-04T10:00:00",
          "2007-10-04T11:00:00",
          "2007-10-04T12:00:00",
          "2007-10-04T13:00:00",
          "2007-10-04T14:00:00",
          "2007-10-04T15:00:00",
          "2007-10-04T16:00:00",
          "2007-10-04T17:00:00",
          "2007-10-04T18:00:00",
          "2007-10-04T19:00:00",
          "2007-10-04T20:00:00",
          "2007-10-04T21:00:00",
          "2007-10-04T22:00:00",
          "2007-10-04T23:00:00",
          "2007-10-05T00:00:00"
         ],
         "y": [
          null,
          null,
          null,
          null,
          null,
          null,
          null,
          null,
          null,
          null,
          null,
          null,
          null,
          null,
          23.9,
          null,
          null,
          null,
          null,
          null,
          null,
          null,
          null,
          null,
          null,
          null,
          null,
          null,
          null,
          null,
          null,
          null,
          null,
          null,
          null,
          null,
          null,
          null,
          null,
          21.6,
          null,
          null,
          null,
          null,
          null,
          null,
          null,
          null,
          null,
          null,
          null,
          null,
          null,
          null,
          null,
          null,
          null,
          null,
          null,
          null,
          null,
          null,
          21.6,
          null,
          null,
          null,
          null,
          null,
          null,
          null,
          null,
          null,
          null,
          null,
          null,
          null,
          null,
          null,
          null,
          null,
          null,
          null,
          null,
          null,
          null,
          25.9,
          null,
          null,
          null,
          null,
          null,
          null,
          null,
          null,
          null,
          null,
          null
         ]
        }
       ],
       "layout": {
        "template": {
         "data": {
          "bar": [
           {
            "error_x": {
             "color": "#2a3f5f"
            },
            "error_y": {
             "color": "#2a3f5f"
            },
            "marker": {
             "line": {
              "color": "#E5ECF6",
              "width": 0.5
             },
             "pattern": {
              "fillmode": "overlay",
              "size": 10,
              "solidity": 0.2
             }
            },
            "type": "bar"
           }
          ],
          "barpolar": [
           {
            "marker": {
             "line": {
              "color": "#E5ECF6",
              "width": 0.5
             },
             "pattern": {
              "fillmode": "overlay",
              "size": 10,
              "solidity": 0.2
             }
            },
            "type": "barpolar"
           }
          ],
          "carpet": [
           {
            "aaxis": {
             "endlinecolor": "#2a3f5f",
             "gridcolor": "white",
             "linecolor": "white",
             "minorgridcolor": "white",
             "startlinecolor": "#2a3f5f"
            },
            "baxis": {
             "endlinecolor": "#2a3f5f",
             "gridcolor": "white",
             "linecolor": "white",
             "minorgridcolor": "white",
             "startlinecolor": "#2a3f5f"
            },
            "type": "carpet"
           }
          ],
          "choropleth": [
           {
            "colorbar": {
             "outlinewidth": 0,
             "ticks": ""
            },
            "type": "choropleth"
           }
          ],
          "contour": [
           {
            "colorbar": {
             "outlinewidth": 0,
             "ticks": ""
            },
            "colorscale": [
             [
              0,
              "#0d0887"
             ],
             [
              0.1111111111111111,
              "#46039f"
             ],
             [
              0.2222222222222222,
              "#7201a8"
             ],
             [
              0.3333333333333333,
              "#9c179e"
             ],
             [
              0.4444444444444444,
              "#bd3786"
             ],
             [
              0.5555555555555556,
              "#d8576b"
             ],
             [
              0.6666666666666666,
              "#ed7953"
             ],
             [
              0.7777777777777778,
              "#fb9f3a"
             ],
             [
              0.8888888888888888,
              "#fdca26"
             ],
             [
              1,
              "#f0f921"
             ]
            ],
            "type": "contour"
           }
          ],
          "contourcarpet": [
           {
            "colorbar": {
             "outlinewidth": 0,
             "ticks": ""
            },
            "type": "contourcarpet"
           }
          ],
          "heatmap": [
           {
            "colorbar": {
             "outlinewidth": 0,
             "ticks": ""
            },
            "colorscale": [
             [
              0,
              "#0d0887"
             ],
             [
              0.1111111111111111,
              "#46039f"
             ],
             [
              0.2222222222222222,
              "#7201a8"
             ],
             [
              0.3333333333333333,
              "#9c179e"
             ],
             [
              0.4444444444444444,
              "#bd3786"
             ],
             [
              0.5555555555555556,
              "#d8576b"
             ],
             [
              0.6666666666666666,
              "#ed7953"
             ],
             [
              0.7777777777777778,
              "#fb9f3a"
             ],
             [
              0.8888888888888888,
              "#fdca26"
             ],
             [
              1,
              "#f0f921"
             ]
            ],
            "type": "heatmap"
           }
          ],
          "heatmapgl": [
           {
            "colorbar": {
             "outlinewidth": 0,
             "ticks": ""
            },
            "colorscale": [
             [
              0,
              "#0d0887"
             ],
             [
              0.1111111111111111,
              "#46039f"
             ],
             [
              0.2222222222222222,
              "#7201a8"
             ],
             [
              0.3333333333333333,
              "#9c179e"
             ],
             [
              0.4444444444444444,
              "#bd3786"
             ],
             [
              0.5555555555555556,
              "#d8576b"
             ],
             [
              0.6666666666666666,
              "#ed7953"
             ],
             [
              0.7777777777777778,
              "#fb9f3a"
             ],
             [
              0.8888888888888888,
              "#fdca26"
             ],
             [
              1,
              "#f0f921"
             ]
            ],
            "type": "heatmapgl"
           }
          ],
          "histogram": [
           {
            "marker": {
             "pattern": {
              "fillmode": "overlay",
              "size": 10,
              "solidity": 0.2
             }
            },
            "type": "histogram"
           }
          ],
          "histogram2d": [
           {
            "colorbar": {
             "outlinewidth": 0,
             "ticks": ""
            },
            "colorscale": [
             [
              0,
              "#0d0887"
             ],
             [
              0.1111111111111111,
              "#46039f"
             ],
             [
              0.2222222222222222,
              "#7201a8"
             ],
             [
              0.3333333333333333,
              "#9c179e"
             ],
             [
              0.4444444444444444,
              "#bd3786"
             ],
             [
              0.5555555555555556,
              "#d8576b"
             ],
             [
              0.6666666666666666,
              "#ed7953"
             ],
             [
              0.7777777777777778,
              "#fb9f3a"
             ],
             [
              0.8888888888888888,
              "#fdca26"
             ],
             [
              1,
              "#f0f921"
             ]
            ],
            "type": "histogram2d"
           }
          ],
          "histogram2dcontour": [
           {
            "colorbar": {
             "outlinewidth": 0,
             "ticks": ""
            },
            "colorscale": [
             [
              0,
              "#0d0887"
             ],
             [
              0.1111111111111111,
              "#46039f"
             ],
             [
              0.2222222222222222,
              "#7201a8"
             ],
             [
              0.3333333333333333,
              "#9c179e"
             ],
             [
              0.4444444444444444,
              "#bd3786"
             ],
             [
              0.5555555555555556,
              "#d8576b"
             ],
             [
              0.6666666666666666,
              "#ed7953"
             ],
             [
              0.7777777777777778,
              "#fb9f3a"
             ],
             [
              0.8888888888888888,
              "#fdca26"
             ],
             [
              1,
              "#f0f921"
             ]
            ],
            "type": "histogram2dcontour"
           }
          ],
          "mesh3d": [
           {
            "colorbar": {
             "outlinewidth": 0,
             "ticks": ""
            },
            "type": "mesh3d"
           }
          ],
          "parcoords": [
           {
            "line": {
             "colorbar": {
              "outlinewidth": 0,
              "ticks": ""
             }
            },
            "type": "parcoords"
           }
          ],
          "pie": [
           {
            "automargin": true,
            "type": "pie"
           }
          ],
          "scatter": [
           {
            "marker": {
             "colorbar": {
              "outlinewidth": 0,
              "ticks": ""
             }
            },
            "type": "scatter"
           }
          ],
          "scatter3d": [
           {
            "line": {
             "colorbar": {
              "outlinewidth": 0,
              "ticks": ""
             }
            },
            "marker": {
             "colorbar": {
              "outlinewidth": 0,
              "ticks": ""
             }
            },
            "type": "scatter3d"
           }
          ],
          "scattercarpet": [
           {
            "marker": {
             "colorbar": {
              "outlinewidth": 0,
              "ticks": ""
             }
            },
            "type": "scattercarpet"
           }
          ],
          "scattergeo": [
           {
            "marker": {
             "colorbar": {
              "outlinewidth": 0,
              "ticks": ""
             }
            },
            "type": "scattergeo"
           }
          ],
          "scattergl": [
           {
            "marker": {
             "colorbar": {
              "outlinewidth": 0,
              "ticks": ""
             }
            },
            "type": "scattergl"
           }
          ],
          "scattermapbox": [
           {
            "marker": {
             "colorbar": {
              "outlinewidth": 0,
              "ticks": ""
             }
            },
            "type": "scattermapbox"
           }
          ],
          "scatterpolar": [
           {
            "marker": {
             "colorbar": {
              "outlinewidth": 0,
              "ticks": ""
             }
            },
            "type": "scatterpolar"
           }
          ],
          "scatterpolargl": [
           {
            "marker": {
             "colorbar": {
              "outlinewidth": 0,
              "ticks": ""
             }
            },
            "type": "scatterpolargl"
           }
          ],
          "scatterternary": [
           {
            "marker": {
             "colorbar": {
              "outlinewidth": 0,
              "ticks": ""
             }
            },
            "type": "scatterternary"
           }
          ],
          "surface": [
           {
            "colorbar": {
             "outlinewidth": 0,
             "ticks": ""
            },
            "colorscale": [
             [
              0,
              "#0d0887"
             ],
             [
              0.1111111111111111,
              "#46039f"
             ],
             [
              0.2222222222222222,
              "#7201a8"
             ],
             [
              0.3333333333333333,
              "#9c179e"
             ],
             [
              0.4444444444444444,
              "#bd3786"
             ],
             [
              0.5555555555555556,
              "#d8576b"
             ],
             [
              0.6666666666666666,
              "#ed7953"
             ],
             [
              0.7777777777777778,
              "#fb9f3a"
             ],
             [
              0.8888888888888888,
              "#fdca26"
             ],
             [
              1,
              "#f0f921"
             ]
            ],
            "type": "surface"
           }
          ],
          "table": [
           {
            "cells": {
             "fill": {
              "color": "#EBF0F8"
             },
             "line": {
              "color": "white"
             }
            },
            "header": {
             "fill": {
              "color": "#C8D4E3"
             },
             "line": {
              "color": "white"
             }
            },
            "type": "table"
           }
          ]
         },
         "layout": {
          "annotationdefaults": {
           "arrowcolor": "#2a3f5f",
           "arrowhead": 0,
           "arrowwidth": 1
          },
          "autotypenumbers": "strict",
          "coloraxis": {
           "colorbar": {
            "outlinewidth": 0,
            "ticks": ""
           }
          },
          "colorscale": {
           "diverging": [
            [
             0,
             "#8e0152"
            ],
            [
             0.1,
             "#c51b7d"
            ],
            [
             0.2,
             "#de77ae"
            ],
            [
             0.3,
             "#f1b6da"
            ],
            [
             0.4,
             "#fde0ef"
            ],
            [
             0.5,
             "#f7f7f7"
            ],
            [
             0.6,
             "#e6f5d0"
            ],
            [
             0.7,
             "#b8e186"
            ],
            [
             0.8,
             "#7fbc41"
            ],
            [
             0.9,
             "#4d9221"
            ],
            [
             1,
             "#276419"
            ]
           ],
           "sequential": [
            [
             0,
             "#0d0887"
            ],
            [
             0.1111111111111111,
             "#46039f"
            ],
            [
             0.2222222222222222,
             "#7201a8"
            ],
            [
             0.3333333333333333,
             "#9c179e"
            ],
            [
             0.4444444444444444,
             "#bd3786"
            ],
            [
             0.5555555555555556,
             "#d8576b"
            ],
            [
             0.6666666666666666,
             "#ed7953"
            ],
            [
             0.7777777777777778,
             "#fb9f3a"
            ],
            [
             0.8888888888888888,
             "#fdca26"
            ],
            [
             1,
             "#f0f921"
            ]
           ],
           "sequentialminus": [
            [
             0,
             "#0d0887"
            ],
            [
             0.1111111111111111,
             "#46039f"
            ],
            [
             0.2222222222222222,
             "#7201a8"
            ],
            [
             0.3333333333333333,
             "#9c179e"
            ],
            [
             0.4444444444444444,
             "#bd3786"
            ],
            [
             0.5555555555555556,
             "#d8576b"
            ],
            [
             0.6666666666666666,
             "#ed7953"
            ],
            [
             0.7777777777777778,
             "#fb9f3a"
            ],
            [
             0.8888888888888888,
             "#fdca26"
            ],
            [
             1,
             "#f0f921"
            ]
           ]
          },
          "colorway": [
           "#636efa",
           "#EF553B",
           "#00cc96",
           "#ab63fa",
           "#FFA15A",
           "#19d3f3",
           "#FF6692",
           "#B6E880",
           "#FF97FF",
           "#FECB52"
          ],
          "font": {
           "color": "#2a3f5f"
          },
          "geo": {
           "bgcolor": "white",
           "lakecolor": "white",
           "landcolor": "#E5ECF6",
           "showlakes": true,
           "showland": true,
           "subunitcolor": "white"
          },
          "hoverlabel": {
           "align": "left"
          },
          "hovermode": "closest",
          "mapbox": {
           "style": "light"
          },
          "paper_bgcolor": "white",
          "plot_bgcolor": "#E5ECF6",
          "polar": {
           "angularaxis": {
            "gridcolor": "white",
            "linecolor": "white",
            "ticks": ""
           },
           "bgcolor": "#E5ECF6",
           "radialaxis": {
            "gridcolor": "white",
            "linecolor": "white",
            "ticks": ""
           }
          },
          "scene": {
           "xaxis": {
            "backgroundcolor": "#E5ECF6",
            "gridcolor": "white",
            "gridwidth": 2,
            "linecolor": "white",
            "showbackground": true,
            "ticks": "",
            "zerolinecolor": "white"
           },
           "yaxis": {
            "backgroundcolor": "#E5ECF6",
            "gridcolor": "white",
            "gridwidth": 2,
            "linecolor": "white",
            "showbackground": true,
            "ticks": "",
            "zerolinecolor": "white"
           },
           "zaxis": {
            "backgroundcolor": "#E5ECF6",
            "gridcolor": "white",
            "gridwidth": 2,
            "linecolor": "white",
            "showbackground": true,
            "ticks": "",
            "zerolinecolor": "white"
           }
          },
          "shapedefaults": {
           "line": {
            "color": "#2a3f5f"
           }
          },
          "ternary": {
           "aaxis": {
            "gridcolor": "white",
            "linecolor": "white",
            "ticks": ""
           },
           "baxis": {
            "gridcolor": "white",
            "linecolor": "white",
            "ticks": ""
           },
           "bgcolor": "#E5ECF6",
           "caxis": {
            "gridcolor": "white",
            "linecolor": "white",
            "ticks": ""
           }
          },
          "title": {
           "x": 0.05
          },
          "xaxis": {
           "automargin": true,
           "gridcolor": "white",
           "linecolor": "white",
           "ticks": "",
           "title": {
            "standoff": 15
           },
           "zerolinecolor": "white",
           "zerolinewidth": 2
          },
          "yaxis": {
           "automargin": true,
           "gridcolor": "white",
           "linecolor": "white",
           "ticks": "",
           "title": {
            "standoff": 15
           },
           "zerolinecolor": "white",
           "zerolinewidth": 2
          }
         }
        },
        "title": {
         "text": "temperature"
        }
       }
      },
      "text/html": [
       "<div>                            <div id=\"70eca543-cf07-4cad-9470-5951a9b32d06\" class=\"plotly-graph-div\" style=\"height:525px; width:100%;\"></div>            <script type=\"text/javascript\">                require([\"plotly\"], function(Plotly) {                    window.PLOTLYENV=window.PLOTLYENV || {};                                    if (document.getElementById(\"70eca543-cf07-4cad-9470-5951a9b32d06\")) {                    Plotly.newPlot(                        \"70eca543-cf07-4cad-9470-5951a9b32d06\",                        [{\"name\":\"temperature\",\"x\":[\"2007-10-01T00:00:00\",\"2007-10-01T01:00:00\",\"2007-10-01T02:00:00\",\"2007-10-01T03:00:00\",\"2007-10-01T04:00:00\",\"2007-10-01T05:00:00\",\"2007-10-01T06:00:00\",\"2007-10-01T07:00:00\",\"2007-10-01T08:00:00\",\"2007-10-01T09:00:00\",\"2007-10-01T10:00:00\",\"2007-10-01T11:00:00\",\"2007-10-01T12:00:00\",\"2007-10-01T13:00:00\",\"2007-10-01T14:00:00\",\"2007-10-01T15:00:00\",\"2007-10-01T16:00:00\",\"2007-10-01T17:00:00\",\"2007-10-01T18:00:00\",\"2007-10-01T19:00:00\",\"2007-10-01T20:00:00\",\"2007-10-01T21:00:00\",\"2007-10-01T22:00:00\",\"2007-10-01T23:00:00\",\"2007-10-02T00:00:00\",\"2007-10-02T01:00:00\",\"2007-10-02T02:00:00\",\"2007-10-02T03:00:00\",\"2007-10-02T04:00:00\",\"2007-10-02T05:00:00\",\"2007-10-02T06:00:00\",\"2007-10-02T07:00:00\",\"2007-10-02T08:00:00\",\"2007-10-02T09:00:00\",\"2007-10-02T10:00:00\",\"2007-10-02T11:00:00\",\"2007-10-02T12:00:00\",\"2007-10-02T13:00:00\",\"2007-10-02T14:00:00\",\"2007-10-02T15:00:00\",\"2007-10-02T16:00:00\",\"2007-10-02T17:00:00\",\"2007-10-02T18:00:00\",\"2007-10-02T19:00:00\",\"2007-10-02T20:00:00\",\"2007-10-02T21:00:00\",\"2007-10-02T22:00:00\",\"2007-10-02T23:00:00\",\"2007-10-03T00:00:00\",\"2007-10-03T01:00:00\",\"2007-10-03T02:00:00\",\"2007-10-03T03:00:00\",\"2007-10-03T04:00:00\",\"2007-10-03T05:00:00\",\"2007-10-03T06:00:00\",\"2007-10-03T07:00:00\",\"2007-10-03T08:00:00\",\"2007-10-03T09:00:00\",\"2007-10-03T10:00:00\",\"2007-10-03T11:00:00\",\"2007-10-03T12:00:00\",\"2007-10-03T13:00:00\",\"2007-10-03T14:00:00\",\"2007-10-03T15:00:00\",\"2007-10-03T16:00:00\",\"2007-10-03T17:00:00\",\"2007-10-03T18:00:00\",\"2007-10-03T19:00:00\",\"2007-10-03T20:00:00\",\"2007-10-03T21:00:00\",\"2007-10-03T22:00:00\",\"2007-10-03T23:00:00\",\"2007-10-04T00:00:00\",\"2007-10-04T01:00:00\",\"2007-10-04T02:00:00\",\"2007-10-04T03:00:00\",\"2007-10-04T04:00:00\",\"2007-10-04T05:00:00\",\"2007-10-04T06:00:00\",\"2007-10-04T07:00:00\",\"2007-10-04T08:00:00\",\"2007-10-04T09:00:00\",\"2007-10-04T10:00:00\",\"2007-10-04T11:00:00\",\"2007-10-04T12:00:00\",\"2007-10-04T13:00:00\",\"2007-10-04T14:00:00\",\"2007-10-04T15:00:00\",\"2007-10-04T16:00:00\",\"2007-10-04T17:00:00\",\"2007-10-04T18:00:00\",\"2007-10-04T19:00:00\",\"2007-10-04T20:00:00\",\"2007-10-04T21:00:00\",\"2007-10-04T22:00:00\",\"2007-10-04T23:00:00\",\"2007-10-05T00:00:00\"],\"y\":[9.8,9.2,9.0,8.7,8.1,8.2,8.1,10.4,12.7,14.5,17.5,19.2,21.1,22.1,23.9,22.3,21.2,20.3,18.8,18.1,16.7,16.2,15.8,14.8,13.8,13.8,14.7,14.9,15.1,14.9,14.9,15.3,16.3,16.4,17.3,18.1,19.3,20.6,21.1,21.6,21.3,19.9,19.0,18.3,17.9,17.6,17.2,17.1,16.9,16.7,16.6,16.4,16.2,15.8,16.0,16.5,17.0,17.5,18.4,19.6,20.7,21.4,21.6,21.5,20.8,19.5,18.5,17.5,17.0,16.6,16.1,15.9,15.7,15.8,16.1,16.0,15.9,16.1,16.1,16.5,18.4,20.4,22.5,24.1,25.0,25.9,25.2,22.7,21.9,20.5,18.9,17.6,16.4,16.0,16.3,16.4,16.2],\"type\":\"scatter\"},{\"mode\":\"markers\",\"name\":\"local_minima\",\"x\":[\"2007-10-01T00:00:00\",\"2007-10-01T01:00:00\",\"2007-10-01T02:00:00\",\"2007-10-01T03:00:00\",\"2007-10-01T04:00:00\",\"2007-10-01T05:00:00\",\"2007-10-01T06:00:00\",\"2007-10-01T07:00:00\",\"2007-10-01T08:00:00\",\"2007-10-01T09:00:00\",\"2007-10-01T10:00:00\",\"2007-10-01T11:00:00\",\"2007-10-01T12:00:00\",\"2007-10-01T13:00:00\",\"2007-10-01T14:00:00\",\"2007-10-01T15:00:00\",\"2007-10-01T16:00:00\",\"2007-10-01T17:00:00\",\"2007-10-01T18:00:00\",\"2007-10-01T19:00:00\",\"2007-10-01T20:00:00\",\"2007-10-01T21:00:00\",\"2007-10-01T22:00:00\",\"2007-10-01T23:00:00\",\"2007-10-02T00:00:00\",\"2007-10-02T01:00:00\",\"2007-10-02T02:00:00\",\"2007-10-02T03:00:00\",\"2007-10-02T04:00:00\",\"2007-10-02T05:00:00\",\"2007-10-02T06:00:00\",\"2007-10-02T07:00:00\",\"2007-10-02T08:00:00\",\"2007-10-02T09:00:00\",\"2007-10-02T10:00:00\",\"2007-10-02T11:00:00\",\"2007-10-02T12:00:00\",\"2007-10-02T13:00:00\",\"2007-10-02T14:00:00\",\"2007-10-02T15:00:00\",\"2007-10-02T16:00:00\",\"2007-10-02T17:00:00\",\"2007-10-02T18:00:00\",\"2007-10-02T19:00:00\",\"2007-10-02T20:00:00\",\"2007-10-02T21:00:00\",\"2007-10-02T22:00:00\",\"2007-10-02T23:00:00\",\"2007-10-03T00:00:00\",\"2007-10-03T01:00:00\",\"2007-10-03T02:00:00\",\"2007-10-03T03:00:00\",\"2007-10-03T04:00:00\",\"2007-10-03T05:00:00\",\"2007-10-03T06:00:00\",\"2007-10-03T07:00:00\",\"2007-10-03T08:00:00\",\"2007-10-03T09:00:00\",\"2007-10-03T10:00:00\",\"2007-10-03T11:00:00\",\"2007-10-03T12:00:00\",\"2007-10-03T13:00:00\",\"2007-10-03T14:00:00\",\"2007-10-03T15:00:00\",\"2007-10-03T16:00:00\",\"2007-10-03T17:00:00\",\"2007-10-03T18:00:00\",\"2007-10-03T19:00:00\",\"2007-10-03T20:00:00\",\"2007-10-03T21:00:00\",\"2007-10-03T22:00:00\",\"2007-10-03T23:00:00\",\"2007-10-04T00:00:00\",\"2007-10-04T01:00:00\",\"2007-10-04T02:00:00\",\"2007-10-04T03:00:00\",\"2007-10-04T04:00:00\",\"2007-10-04T05:00:00\",\"2007-10-04T06:00:00\",\"2007-10-04T07:00:00\",\"2007-10-04T08:00:00\",\"2007-10-04T09:00:00\",\"2007-10-04T10:00:00\",\"2007-10-04T11:00:00\",\"2007-10-04T12:00:00\",\"2007-10-04T13:00:00\",\"2007-10-04T14:00:00\",\"2007-10-04T15:00:00\",\"2007-10-04T16:00:00\",\"2007-10-04T17:00:00\",\"2007-10-04T18:00:00\",\"2007-10-04T19:00:00\",\"2007-10-04T20:00:00\",\"2007-10-04T21:00:00\",\"2007-10-04T22:00:00\",\"2007-10-04T23:00:00\",\"2007-10-05T00:00:00\"],\"y\":[null,null,null,null,null,null,8.1,null,null,null,null,null,null,null,null,null,null,null,null,null,null,null,null,null,null,13.8,null,null,null,null,null,null,null,null,null,null,null,null,null,null,null,null,null,null,null,null,null,null,null,null,null,null,null,15.8,null,null,null,null,null,null,null,null,null,null,null,null,null,null,null,null,null,null,15.7,null,null,null,null,null,null,null,null,null,null,null,null,null,null,null,null,null,null,null,null,16.0,null,null,null],\"type\":\"scatter\"},{\"hovertext\":[null,null,null,null,null,null,null,null,null,null,null,null,null,null,0.0,0.0,0.0,0.0,0.0,0.0,0.0,0.0,0.0,0.0,0.0,0.0,0.0,0.0,0.0,0.0,0.0,0.0,0.0,0.0,0.0,0.0,0.0,0.0,0.0,1.0,1.0,1.0,1.0,1.0,1.0,1.0,1.0,1.0,1.0,1.0,1.0,1.0,1.0,1.0,1.0,1.0,1.0,1.0,1.0,1.0,1.0,1.0,2.0,2.0,2.0,2.0,2.0,2.0,2.0,2.0,2.0,2.0,2.0,2.0,2.0,2.0,2.0,2.0,2.0,2.0,2.0,2.0,2.0,2.0,2.0,3.0,3.0,3.0,3.0,3.0,3.0,3.0,3.0,3.0,3.0,3.0,3.0],\"mode\":\"markers\",\"name\":\"local_maxima\",\"x\":[\"2007-10-01T00:00:00\",\"2007-10-01T01:00:00\",\"2007-10-01T02:00:00\",\"2007-10-01T03:00:00\",\"2007-10-01T04:00:00\",\"2007-10-01T05:00:00\",\"2007-10-01T06:00:00\",\"2007-10-01T07:00:00\",\"2007-10-01T08:00:00\",\"2007-10-01T09:00:00\",\"2007-10-01T10:00:00\",\"2007-10-01T11:00:00\",\"2007-10-01T12:00:00\",\"2007-10-01T13:00:00\",\"2007-10-01T14:00:00\",\"2007-10-01T15:00:00\",\"2007-10-01T16:00:00\",\"2007-10-01T17:00:00\",\"2007-10-01T18:00:00\",\"2007-10-01T19:00:00\",\"2007-10-01T20:00:00\",\"2007-10-01T21:00:00\",\"2007-10-01T22:00:00\",\"2007-10-01T23:00:00\",\"2007-10-02T00:00:00\",\"2007-10-02T01:00:00\",\"2007-10-02T02:00:00\",\"2007-10-02T03:00:00\",\"2007-10-02T04:00:00\",\"2007-10-02T05:00:00\",\"2007-10-02T06:00:00\",\"2007-10-02T07:00:00\",\"2007-10-02T08:00:00\",\"2007-10-02T09:00:00\",\"2007-10-02T10:00:00\",\"2007-10-02T11:00:00\",\"2007-10-02T12:00:00\",\"2007-10-02T13:00:00\",\"2007-10-02T14:00:00\",\"2007-10-02T15:00:00\",\"2007-10-02T16:00:00\",\"2007-10-02T17:00:00\",\"2007-10-02T18:00:00\",\"2007-10-02T19:00:00\",\"2007-10-02T20:00:00\",\"2007-10-02T21:00:00\",\"2007-10-02T22:00:00\",\"2007-10-02T23:00:00\",\"2007-10-03T00:00:00\",\"2007-10-03T01:00:00\",\"2007-10-03T02:00:00\",\"2007-10-03T03:00:00\",\"2007-10-03T04:00:00\",\"2007-10-03T05:00:00\",\"2007-10-03T06:00:00\",\"2007-10-03T07:00:00\",\"2007-10-03T08:00:00\",\"2007-10-03T09:00:00\",\"2007-10-03T10:00:00\",\"2007-10-03T11:00:00\",\"2007-10-03T12:00:00\",\"2007-10-03T13:00:00\",\"2007-10-03T14:00:00\",\"2007-10-03T15:00:00\",\"2007-10-03T16:00:00\",\"2007-10-03T17:00:00\",\"2007-10-03T18:00:00\",\"2007-10-03T19:00:00\",\"2007-10-03T20:00:00\",\"2007-10-03T21:00:00\",\"2007-10-03T22:00:00\",\"2007-10-03T23:00:00\",\"2007-10-04T00:00:00\",\"2007-10-04T01:00:00\",\"2007-10-04T02:00:00\",\"2007-10-04T03:00:00\",\"2007-10-04T04:00:00\",\"2007-10-04T05:00:00\",\"2007-10-04T06:00:00\",\"2007-10-04T07:00:00\",\"2007-10-04T08:00:00\",\"2007-10-04T09:00:00\",\"2007-10-04T10:00:00\",\"2007-10-04T11:00:00\",\"2007-10-04T12:00:00\",\"2007-10-04T13:00:00\",\"2007-10-04T14:00:00\",\"2007-10-04T15:00:00\",\"2007-10-04T16:00:00\",\"2007-10-04T17:00:00\",\"2007-10-04T18:00:00\",\"2007-10-04T19:00:00\",\"2007-10-04T20:00:00\",\"2007-10-04T21:00:00\",\"2007-10-04T22:00:00\",\"2007-10-04T23:00:00\",\"2007-10-05T00:00:00\"],\"y\":[null,null,null,null,null,null,null,null,null,null,null,null,null,null,23.9,null,null,null,null,null,null,null,null,null,null,null,null,null,null,null,null,null,null,null,null,null,null,null,null,21.6,null,null,null,null,null,null,null,null,null,null,null,null,null,null,null,null,null,null,null,null,null,null,21.6,null,null,null,null,null,null,null,null,null,null,null,null,null,null,null,null,null,null,null,null,null,null,25.9,null,null,null,null,null,null,null,null,null,null,null],\"type\":\"scatter\"}],                        {\"template\":{\"data\":{\"bar\":[{\"error_x\":{\"color\":\"#2a3f5f\"},\"error_y\":{\"color\":\"#2a3f5f\"},\"marker\":{\"line\":{\"color\":\"#E5ECF6\",\"width\":0.5},\"pattern\":{\"fillmode\":\"overlay\",\"size\":10,\"solidity\":0.2}},\"type\":\"bar\"}],\"barpolar\":[{\"marker\":{\"line\":{\"color\":\"#E5ECF6\",\"width\":0.5},\"pattern\":{\"fillmode\":\"overlay\",\"size\":10,\"solidity\":0.2}},\"type\":\"barpolar\"}],\"carpet\":[{\"aaxis\":{\"endlinecolor\":\"#2a3f5f\",\"gridcolor\":\"white\",\"linecolor\":\"white\",\"minorgridcolor\":\"white\",\"startlinecolor\":\"#2a3f5f\"},\"baxis\":{\"endlinecolor\":\"#2a3f5f\",\"gridcolor\":\"white\",\"linecolor\":\"white\",\"minorgridcolor\":\"white\",\"startlinecolor\":\"#2a3f5f\"},\"type\":\"carpet\"}],\"choropleth\":[{\"colorbar\":{\"outlinewidth\":0,\"ticks\":\"\"},\"type\":\"choropleth\"}],\"contour\":[{\"colorbar\":{\"outlinewidth\":0,\"ticks\":\"\"},\"colorscale\":[[0.0,\"#0d0887\"],[0.1111111111111111,\"#46039f\"],[0.2222222222222222,\"#7201a8\"],[0.3333333333333333,\"#9c179e\"],[0.4444444444444444,\"#bd3786\"],[0.5555555555555556,\"#d8576b\"],[0.6666666666666666,\"#ed7953\"],[0.7777777777777778,\"#fb9f3a\"],[0.8888888888888888,\"#fdca26\"],[1.0,\"#f0f921\"]],\"type\":\"contour\"}],\"contourcarpet\":[{\"colorbar\":{\"outlinewidth\":0,\"ticks\":\"\"},\"type\":\"contourcarpet\"}],\"heatmap\":[{\"colorbar\":{\"outlinewidth\":0,\"ticks\":\"\"},\"colorscale\":[[0.0,\"#0d0887\"],[0.1111111111111111,\"#46039f\"],[0.2222222222222222,\"#7201a8\"],[0.3333333333333333,\"#9c179e\"],[0.4444444444444444,\"#bd3786\"],[0.5555555555555556,\"#d8576b\"],[0.6666666666666666,\"#ed7953\"],[0.7777777777777778,\"#fb9f3a\"],[0.8888888888888888,\"#fdca26\"],[1.0,\"#f0f921\"]],\"type\":\"heatmap\"}],\"heatmapgl\":[{\"colorbar\":{\"outlinewidth\":0,\"ticks\":\"\"},\"colorscale\":[[0.0,\"#0d0887\"],[0.1111111111111111,\"#46039f\"],[0.2222222222222222,\"#7201a8\"],[0.3333333333333333,\"#9c179e\"],[0.4444444444444444,\"#bd3786\"],[0.5555555555555556,\"#d8576b\"],[0.6666666666666666,\"#ed7953\"],[0.7777777777777778,\"#fb9f3a\"],[0.8888888888888888,\"#fdca26\"],[1.0,\"#f0f921\"]],\"type\":\"heatmapgl\"}],\"histogram\":[{\"marker\":{\"pattern\":{\"fillmode\":\"overlay\",\"size\":10,\"solidity\":0.2}},\"type\":\"histogram\"}],\"histogram2d\":[{\"colorbar\":{\"outlinewidth\":0,\"ticks\":\"\"},\"colorscale\":[[0.0,\"#0d0887\"],[0.1111111111111111,\"#46039f\"],[0.2222222222222222,\"#7201a8\"],[0.3333333333333333,\"#9c179e\"],[0.4444444444444444,\"#bd3786\"],[0.5555555555555556,\"#d8576b\"],[0.6666666666666666,\"#ed7953\"],[0.7777777777777778,\"#fb9f3a\"],[0.8888888888888888,\"#fdca26\"],[1.0,\"#f0f921\"]],\"type\":\"histogram2d\"}],\"histogram2dcontour\":[{\"colorbar\":{\"outlinewidth\":0,\"ticks\":\"\"},\"colorscale\":[[0.0,\"#0d0887\"],[0.1111111111111111,\"#46039f\"],[0.2222222222222222,\"#7201a8\"],[0.3333333333333333,\"#9c179e\"],[0.4444444444444444,\"#bd3786\"],[0.5555555555555556,\"#d8576b\"],[0.6666666666666666,\"#ed7953\"],[0.7777777777777778,\"#fb9f3a\"],[0.8888888888888888,\"#fdca26\"],[1.0,\"#f0f921\"]],\"type\":\"histogram2dcontour\"}],\"mesh3d\":[{\"colorbar\":{\"outlinewidth\":0,\"ticks\":\"\"},\"type\":\"mesh3d\"}],\"parcoords\":[{\"line\":{\"colorbar\":{\"outlinewidth\":0,\"ticks\":\"\"}},\"type\":\"parcoords\"}],\"pie\":[{\"automargin\":true,\"type\":\"pie\"}],\"scatter\":[{\"marker\":{\"colorbar\":{\"outlinewidth\":0,\"ticks\":\"\"}},\"type\":\"scatter\"}],\"scatter3d\":[{\"line\":{\"colorbar\":{\"outlinewidth\":0,\"ticks\":\"\"}},\"marker\":{\"colorbar\":{\"outlinewidth\":0,\"ticks\":\"\"}},\"type\":\"scatter3d\"}],\"scattercarpet\":[{\"marker\":{\"colorbar\":{\"outlinewidth\":0,\"ticks\":\"\"}},\"type\":\"scattercarpet\"}],\"scattergeo\":[{\"marker\":{\"colorbar\":{\"outlinewidth\":0,\"ticks\":\"\"}},\"type\":\"scattergeo\"}],\"scattergl\":[{\"marker\":{\"colorbar\":{\"outlinewidth\":0,\"ticks\":\"\"}},\"type\":\"scattergl\"}],\"scattermapbox\":[{\"marker\":{\"colorbar\":{\"outlinewidth\":0,\"ticks\":\"\"}},\"type\":\"scattermapbox\"}],\"scatterpolar\":[{\"marker\":{\"colorbar\":{\"outlinewidth\":0,\"ticks\":\"\"}},\"type\":\"scatterpolar\"}],\"scatterpolargl\":[{\"marker\":{\"colorbar\":{\"outlinewidth\":0,\"ticks\":\"\"}},\"type\":\"scatterpolargl\"}],\"scatterternary\":[{\"marker\":{\"colorbar\":{\"outlinewidth\":0,\"ticks\":\"\"}},\"type\":\"scatterternary\"}],\"surface\":[{\"colorbar\":{\"outlinewidth\":0,\"ticks\":\"\"},\"colorscale\":[[0.0,\"#0d0887\"],[0.1111111111111111,\"#46039f\"],[0.2222222222222222,\"#7201a8\"],[0.3333333333333333,\"#9c179e\"],[0.4444444444444444,\"#bd3786\"],[0.5555555555555556,\"#d8576b\"],[0.6666666666666666,\"#ed7953\"],[0.7777777777777778,\"#fb9f3a\"],[0.8888888888888888,\"#fdca26\"],[1.0,\"#f0f921\"]],\"type\":\"surface\"}],\"table\":[{\"cells\":{\"fill\":{\"color\":\"#EBF0F8\"},\"line\":{\"color\":\"white\"}},\"header\":{\"fill\":{\"color\":\"#C8D4E3\"},\"line\":{\"color\":\"white\"}},\"type\":\"table\"}]},\"layout\":{\"annotationdefaults\":{\"arrowcolor\":\"#2a3f5f\",\"arrowhead\":0,\"arrowwidth\":1},\"autotypenumbers\":\"strict\",\"coloraxis\":{\"colorbar\":{\"outlinewidth\":0,\"ticks\":\"\"}},\"colorscale\":{\"diverging\":[[0,\"#8e0152\"],[0.1,\"#c51b7d\"],[0.2,\"#de77ae\"],[0.3,\"#f1b6da\"],[0.4,\"#fde0ef\"],[0.5,\"#f7f7f7\"],[0.6,\"#e6f5d0\"],[0.7,\"#b8e186\"],[0.8,\"#7fbc41\"],[0.9,\"#4d9221\"],[1,\"#276419\"]],\"sequential\":[[0.0,\"#0d0887\"],[0.1111111111111111,\"#46039f\"],[0.2222222222222222,\"#7201a8\"],[0.3333333333333333,\"#9c179e\"],[0.4444444444444444,\"#bd3786\"],[0.5555555555555556,\"#d8576b\"],[0.6666666666666666,\"#ed7953\"],[0.7777777777777778,\"#fb9f3a\"],[0.8888888888888888,\"#fdca26\"],[1.0,\"#f0f921\"]],\"sequentialminus\":[[0.0,\"#0d0887\"],[0.1111111111111111,\"#46039f\"],[0.2222222222222222,\"#7201a8\"],[0.3333333333333333,\"#9c179e\"],[0.4444444444444444,\"#bd3786\"],[0.5555555555555556,\"#d8576b\"],[0.6666666666666666,\"#ed7953\"],[0.7777777777777778,\"#fb9f3a\"],[0.8888888888888888,\"#fdca26\"],[1.0,\"#f0f921\"]]},\"colorway\":[\"#636efa\",\"#EF553B\",\"#00cc96\",\"#ab63fa\",\"#FFA15A\",\"#19d3f3\",\"#FF6692\",\"#B6E880\",\"#FF97FF\",\"#FECB52\"],\"font\":{\"color\":\"#2a3f5f\"},\"geo\":{\"bgcolor\":\"white\",\"lakecolor\":\"white\",\"landcolor\":\"#E5ECF6\",\"showlakes\":true,\"showland\":true,\"subunitcolor\":\"white\"},\"hoverlabel\":{\"align\":\"left\"},\"hovermode\":\"closest\",\"mapbox\":{\"style\":\"light\"},\"paper_bgcolor\":\"white\",\"plot_bgcolor\":\"#E5ECF6\",\"polar\":{\"angularaxis\":{\"gridcolor\":\"white\",\"linecolor\":\"white\",\"ticks\":\"\"},\"bgcolor\":\"#E5ECF6\",\"radialaxis\":{\"gridcolor\":\"white\",\"linecolor\":\"white\",\"ticks\":\"\"}},\"scene\":{\"xaxis\":{\"backgroundcolor\":\"#E5ECF6\",\"gridcolor\":\"white\",\"gridwidth\":2,\"linecolor\":\"white\",\"showbackground\":true,\"ticks\":\"\",\"zerolinecolor\":\"white\"},\"yaxis\":{\"backgroundcolor\":\"#E5ECF6\",\"gridcolor\":\"white\",\"gridwidth\":2,\"linecolor\":\"white\",\"showbackground\":true,\"ticks\":\"\",\"zerolinecolor\":\"white\"},\"zaxis\":{\"backgroundcolor\":\"#E5ECF6\",\"gridcolor\":\"white\",\"gridwidth\":2,\"linecolor\":\"white\",\"showbackground\":true,\"ticks\":\"\",\"zerolinecolor\":\"white\"}},\"shapedefaults\":{\"line\":{\"color\":\"#2a3f5f\"}},\"ternary\":{\"aaxis\":{\"gridcolor\":\"white\",\"linecolor\":\"white\",\"ticks\":\"\"},\"baxis\":{\"gridcolor\":\"white\",\"linecolor\":\"white\",\"ticks\":\"\"},\"bgcolor\":\"#E5ECF6\",\"caxis\":{\"gridcolor\":\"white\",\"linecolor\":\"white\",\"ticks\":\"\"}},\"title\":{\"x\":0.05},\"xaxis\":{\"automargin\":true,\"gridcolor\":\"white\",\"linecolor\":\"white\",\"ticks\":\"\",\"title\":{\"standoff\":15},\"zerolinecolor\":\"white\",\"zerolinewidth\":2},\"yaxis\":{\"automargin\":true,\"gridcolor\":\"white\",\"linecolor\":\"white\",\"ticks\":\"\",\"title\":{\"standoff\":15},\"zerolinecolor\":\"white\",\"zerolinewidth\":2}}},\"title\":{\"text\":\"temperature\"}},                        {\"responsive\": true}                    ).then(function(){\n",
       "                            \n",
       "var gd = document.getElementById('70eca543-cf07-4cad-9470-5951a9b32d06');\n",
       "var x = new MutationObserver(function (mutations, observer) {{\n",
       "        var display = window.getComputedStyle(gd).display;\n",
       "        if (!display || display === 'none') {{\n",
       "            console.log([gd, 'removed!']);\n",
       "            Plotly.purge(gd);\n",
       "            observer.disconnect();\n",
       "        }}\n",
       "}});\n",
       "\n",
       "// Listen for the removal of the full notebook cells\n",
       "var notebookContainer = gd.closest('#notebook-container');\n",
       "if (notebookContainer) {{\n",
       "    x.observe(notebookContainer, {childList: true});\n",
       "}}\n",
       "\n",
       "// Listen for the clearing of the current output cell\n",
       "var outputEl = gd.closest('.output');\n",
       "if (outputEl) {{\n",
       "    x.observe(outputEl, {childList: true});\n",
       "}}\n",
       "\n",
       "                        })                };                });            </script>        </div>"
      ]
     },
     "metadata": {},
     "output_type": "display_data"
    },
    {
     "name": "stdout",
     "output_type": "stream",
     "text": [
      "period:  3  / 3\n",
      "________________________________________\n",
      "\n",
      "Energy saving potentials:       31.98 %\n",
      "\n",
      "________________________________________\n",
      "\n",
      "DONE!\n"
     ]
    }
   ],
   "source": [
    "M_eta_new, P_e_new, P_w_new, data_temp_new = None, None, None, None\n",
    "\n",
    "def wait_for_change(widget):\n",
    "    future = asyncio.Future()\n",
    "    def getvalue(change):\n",
    "        future.set_result(change.description)\n",
    "        widget.on_click(getvalue, remove=True)\n",
    "        # we need to free up the binding to getvalue to avoid an InvalidState error\n",
    "        # buttons don't support unobserve\n",
    "        # so use `remove=True`\n",
    "    widget.on_click(getvalue)\n",
    "    return future\n",
    "\n",
    "layout = widgets.Layout(width='auto', height='40px')\n",
    "\n",
    "room_temp_w = FloatSlider(value=21, min=17, max=27, step = 0.5, description= 'Desired room temperature: ', continuous_update = False, layout=layout, style= {'description_width': 'initial'})\n",
    "return_flow_w = FloatSlider(value=25, min=21, max=50, step = 0.5, description= 'Returning flow temperature: ', continuous_update = False, layout=layout, style= {'description_width': 'initial'})\n",
    "ny_w = FloatSlider(value=0.4, min=0.1, max=1, step = 0.1, description= 'Quality factor of the heat pump: ', continuous_update = False, layout=layout, style= {'description_width': 'initial'})\n",
    "\n",
    "flow_max_w = FloatText(value= 50, description = 'Maximum flow temperature at minimum temperature: ', layout=layout, style= {'description_width': 'initial'})\n",
    "\n",
    "out_min_w = FloatText(value= -10, description = 'Minimum outside temperature: ', layout=layout, style= {'description_width': 'initial'})\n",
    "\n",
    "house_energy_w = FloatText(value= 200, description = 'Energy need in Watt per Kelvin: ', layout=layout, style= {'description_width': 'initial'}) # Watt / Kelvin\n",
    "storage_power_w = FloatText(value= 200, description = 'Energy need of your storage (DIN...): ', layout=layout, style= {'description_width': 'initial'}) #Watts\n",
    "storage_volume_w = FloatText(value= 4000, description = 'Storage volume: ', layout=layout, style= {'description_width': 'initial'}) #Liter = kilogram -> to be defined later on\n",
    "\n",
    "hp_power_el_opt_w = FloatText(value= 5000, description = 'Power of heat pump: ', layout=layout, style= {'description_width': 'initial'}) #Watts -> Power in which heatpump works most efficiently (can be taken into calculation later)\n",
    "max_heat_cap_w = IntSlider(value=75, description='Maximum heating temperature: ', min=50, max=95, layout=layout, style= {'description_width': 'initial'}) # temperature, up to which the heat pump can maximally heat\n",
    "\n",
    "address_w = Text(placeholder = 'Examplestreet 1, 12345 Examplecity', description = 'Address: ', layout=layout, style= {'description_width': 'initial'})\n",
    "\n",
    "button_w = Button(description=\"GO!\")\n",
    "\n",
    "def main_func():\n",
    "    global M_eta_new, P_e_new, P_w_new, data_temp_new\n",
    "    print('main function')\n",
    "\n",
    "    room_temp = room_temp_w.value\n",
    "    return_flow = return_flow_w.value\n",
    "    ny = ny_w.value\n",
    "    house_energy = house_energy_w.value\n",
    "    storage_power = storage_power_w.value\n",
    "    storage_volume = storage_volume_w.value\n",
    "    hp_power_el_opt = hp_power_el_opt_w.value\n",
    "    max_heat_cap = max_heat_cap_w.value\n",
    "    address = address_w.value\n",
    "\n",
    "    flow_max = flow_max_w.value\n",
    "    out_min = out_min_w.value\n",
    "\n",
    "    # TODO choose between Forecasting and StationData\n",
    "    funs = functions.Functions(flow_max=flow_max, room_temp=room_temp, out_min=out_min, return_flow=return_flow, house_energy=house_energy, storage_volume=storage_volume, storage_power=storage_power, ny=ny)\n",
    "    data_temp = stationfinding.StationFinder(address).main()\n",
    "    preprocessor = preprocessing.Preprocessor(flow_max=max_heat_cap, room_temp=room_temp, out_min=out_min, return_flow=return_flow, house_energy=house_energy, storage_volume=storage_volume, storage_power=storage_power, ny=ny)\n",
    "    optimizer = optimizing.Optimizer(functions=funs, max_heat_cap=max_heat_cap, hp_power_el_opt=hp_power_el_opt, return_flow=return_flow, storage_volume=storage_volume)\n",
    "    \n",
    "    data_temp = pd.read_table(r'C:\\Users\\rafaelweinert\\PycharmProjects\\Heatpump\\data\\weatherstationdata\\produkt_tu_stunde_19480101_20081031_02522.txt', sep=';') #Karlsruhe\n",
    "    #data_temp = pd.read_table('data/weatherstationdata/produkt_tu_stunde_19500101_20211231_05792.txt', sep=';') #Zugspitze\n",
    "    #data_temp = pd.read_table('data/stundenwerte_TU_05100_19410101_20211231_hist/produkt_tu_stunde_19410101_20211231_05100.txt', sep=';') #Trier?\n",
    "    data_temp = data_temp.drop(['eor', 'QN_9', 'RF_TU'], axis=1) # drop end-of-row indicator\n",
    "    data_temp.rename(columns = {'TT_TU':'temperature', 'MESS_DATUM': 'date', }, inplace = True)\n",
    "    data_temp.date = pd.to_datetime(data_temp.date.astype(str), format='%Y%m%d%H')\n",
    "    data_temp[data_temp == -999] = np.nan # rename missing values to numpy nan\n",
    "    data_temp = data_temp[(data_temp.date >= pd.to_datetime('2007-10-01')) & (data_temp.date <= pd.to_datetime('2007-10-05'))]\n",
    "    #data_temp = data_temp[(data_temp.date.dt.month >= 10) | (data_temp.date.dt.month <= 3)]\n",
    "    data_temp.reset_index(drop = True, inplace=True)\n",
    "    data_temp = preprocessor.add_data(data_temp)\n",
    "    data_temp = preprocessor.get_local_extrema(data_temp)\n",
    "\n",
    "    temp_plot = plot_temperature(data_temp, True)\n",
    "    \n",
    "    M_eta_new, P_e_new, P_w_new, data_temp_new = optimizer.optimize_periods(data_temp)\n",
    "\n",
    "    if not os.path.isdir(f\"results/{address}\"):\n",
    "        os.makedirs(f'results/{address}')\n",
    "\n",
    "    data_temp_new.to_csv(rf'.\\results\\{address}\\data_ad_{address},vol_{int(storage_volume)},pow_{int(hp_power_el_opt)},en_{int(house_energy)}.csv', sep=';', index=False)\n",
    "    M_eta_new.tofile(rf'.\\results\\{address}\\Eta_ad_{address},vol_{int(storage_volume)},pow_{int(hp_power_el_opt)},en_{int(house_energy)}.csv', sep=';')\n",
    "    P_e_new.tofile(rf'.\\results\\{address}\\Pe_ad_{address},vol_{int(storage_volume)},pow_{int(hp_power_el_opt)},en_{int(house_energy)}.csv', sep=';')\n",
    "    P_w_new.tofile(rf'.\\results\\{address}\\Pw_ad_{address},vol_{int(storage_volume)},pow_{int(hp_power_el_opt)},en_{int(house_energy)}.csv', sep=';')\n",
    "    temp_plot.write_html(rf'.\\results\\{address}\\Temp_ad_{address},vol_{int(storage_volume)},pow_{int(hp_power_el_opt)},en_{int(house_energy)}.html')\n",
    "\n",
    "    M_eta_hm = plot_heatmap(M_eta_new)\n",
    "    M_eta_hm.write_html(rf'.\\results\\{address}\\Etahm_ad_{address},vol_{int(storage_volume)},pow_{int(hp_power_el_opt)},en_{int(house_energy)}.html', auto_open=False)\n",
    "\n",
    "    P_e_hm = plot_heatmap(P_e_new)\n",
    "    P_e_hm.write_html(rf'.\\results\\{address}\\Pehm_ad_{address},vol_{int(storage_volume)},pow_{int(hp_power_el_opt)},en_{int(house_energy)}.html', auto_open=False)\n",
    "\n",
    "    P_w_hm = plot_heatmap(P_w_new)\n",
    "    P_w_hm.write_html(rf'.\\results\\{address}\\Pwhm_ad_{address},vol_{int(storage_volume)},pow_{int(hp_power_el_opt)},en_{int(house_energy)}.html', auto_open=False)\n",
    "\n",
    "    print(''.center(40, '_'))\n",
    "    print()\n",
    "    print('Energy saving potentials: ', \"{:10.2f}\".format((1 - data_temp_new.P_e_opt.sum() / data_temp_new.energy_needed_elec.sum())*100), '%')\n",
    "    print()\n",
    "    print(''.center(40, '_'))\n",
    "    print()\n",
    "    print('DONE!')\n",
    "\n",
    "async def f():\n",
    "    x = await wait_for_change(button_w)\n",
    "    print('------ computing saving potentials -------')\n",
    "    main_func()\n",
    "\n",
    "asyncio.create_task(f())\n",
    "\n",
    "print('Adjust the values of the building and click GO! when you are ready.')\n",
    "\n",
    "display(room_temp_w)\n",
    "display(return_flow_w)\n",
    "display(ny_w)\n",
    "display(house_energy_w)\n",
    "display(storage_power_w)\n",
    "display(storage_volume_w)\n",
    "display(hp_power_el_opt_w)\n",
    "display(max_heat_cap_w)\n",
    "display(address_w)\n",
    "display(out_min_w)\n",
    "display(flow_max_w)\n",
    "display(button_w)\n"
   ]
  },
  {
   "cell_type": "code",
   "execution_count": 2,
   "metadata": {
    "pycharm": {
     "name": "#%%\n"
    }
   },
   "outputs": [],
   "source": [
    "pd.read_csv('results/K')"
   ]
  },
  {
   "cell_type": "code",
   "execution_count": 2,
   "metadata": {
    "pycharm": {
     "name": "#%%\n"
    }
   },
   "outputs": [],
   "source": []
  }
 ],
 "metadata": {
  "kernelspec": {
   "display_name": "Python 3 (ipykernel)",
   "language": "python",
   "name": "python3"
  },
  "language_info": {
   "codemirror_mode": {
    "name": "ipython",
    "version": 3
   },
   "file_extension": ".py",
   "mimetype": "text/x-python",
   "name": "python",
   "nbconvert_exporter": "python",
   "pygments_lexer": "ipython3",
   "version": "3.10.4"
  }
 },
 "nbformat": 4,
 "nbformat_minor": 1
}