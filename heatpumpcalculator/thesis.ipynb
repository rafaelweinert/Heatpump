{
 "cells": [
  {
   "cell_type": "code",
   "execution_count": 1,
   "metadata": {
    "collapsed": true,
    "pycharm": {
     "name": "#%%\n"
    }
   },
   "outputs": [],
   "source": [
    "import pandas as pd\n",
    "import numpy as np\n",
    "import os\n",
    "import plotly.graph_objects as go\n",
    "import plotly.express as px\n",
    "from plotly.subplots import make_subplots\n",
    "import plotly.io as pio\n",
    "pio.templates.default = \"plotly\""
   ]
  },
  {
   "cell_type": "code",
   "execution_count": 2,
   "outputs": [],
   "source": [
    "locations = ['Hamburg', 'Oberstdorf', 'Villingen-Schwenningen','Karlsruhe' ]\n",
    "houses = [(350, 75), (200, 60), (150, 40)]\n",
    "heat_pump_powers = [3000, 5000, 7000, 10000]\n",
    "storage_volumes = [(100, 40), (300, 50), (600, 65), (1000, 80),(2000, 100), (3000, 110), (5000, 130), (8000, 145), (12000, 155), (20000, 170)]"
   ],
   "metadata": {
    "collapsed": false,
    "pycharm": {
     "name": "#%%\n"
    }
   }
  },
  {
   "cell_type": "code",
   "execution_count": 3,
   "outputs": [],
   "source": [
    "vols = [100, 300, 600, 1000, 2000, 3000, 5000, 8000, 12000, 20000]#\n"
   ],
   "metadata": {
    "collapsed": false,
    "pycharm": {
     "name": "#%%\n"
    }
   }
  },
  {
   "cell_type": "markdown",
   "source": [
    "# Total savings"
   ],
   "metadata": {
    "collapsed": false,
    "pycharm": {
     "name": "#%% md\n"
    }
   }
  },
  {
   "cell_type": "code",
   "execution_count": 26,
   "outputs": [
    {
     "name": "stdout",
     "output_type": "stream",
     "text": [
      "location:  Hamburg\n"
     ]
    },
    {
     "data": {
      "application/vnd.plotly.v1+json": {
       "data": [
        {
         "type": "scatter",
         "xaxis": "x",
         "yaxis": "y"
        },
        {
         "type": "scatter",
         "xaxis": "x2",
         "yaxis": "y2"
        },
        {
         "marker": {
          "color": "darkblue"
         },
         "x": [
          100,
          300,
          600,
          1000,
          2000,
          3000,
          5000,
          8000,
          12000,
          20000
         ],
         "y": [
          0.04785182883716432,
          0.5738526922017484,
          1.6139826537889368,
          3.315310645541103,
          6.9102930682374275,
          9.545083119422737,
          12.644060129962408,
          14.302979416794681,
          14.821813786852777,
          14.885383154087005
         ],
         "type": "scatter",
         "xaxis": "x3",
         "yaxis": "y3"
        },
        {
         "type": "scatter",
         "xaxis": "x4",
         "yaxis": "y4"
        },
        {
         "marker": {
          "color": "darkblue"
         },
         "x": [
          100,
          300,
          600,
          1000,
          2000,
          3000,
          5000,
          8000,
          12000,
          20000
         ],
         "y": [
          0.06317023938144928,
          0.7698520829575006,
          2.1912124897211505,
          4.254160907741388,
          8.545228654383429,
          10.874484140901474,
          12.02565501851397,
          12.275216735764205,
          12.306352339764326,
          12.333739026176094
         ],
         "type": "scatter",
         "xaxis": "x5",
         "yaxis": "y5"
        },
        {
         "marker": {
          "color": "darkblue"
         },
         "x": [
          100,
          300,
          600,
          1000,
          2000,
          3000,
          5000,
          8000,
          12000,
          20000
         ],
         "y": [
          0.048892059489669126,
          0.5766546388222937,
          1.6413706043587606,
          3.3770665258683663,
          7.13978805605624,
          10.009416469703481,
          13.516919677114892,
          15.498413912168186,
          16.173756418333983,
          16.24278305008453
         ],
         "type": "scatter",
         "xaxis": "x6",
         "yaxis": "y6"
        },
        {
         "marker": {
          "color": "darkblue"
         },
         "x": [
          100,
          300,
          600,
          1000,
          2000,
          3000,
          5000,
          8000,
          12000,
          20000
         ],
         "y": [
          0.004387060855048919,
          0.477478493402661,
          1.319021180720592,
          2.7648458008301846,
          6.146867112105059,
          8.242547790239119,
          9.478499000545316,
          9.790967133142436,
          9.824713031346876,
          9.853462570904338
         ],
         "type": "scatter",
         "xaxis": "x7",
         "yaxis": "y7"
        },
        {
         "marker": {
          "color": "darkblue"
         },
         "x": [
          100,
          300,
          600,
          1000,
          2000,
          3000,
          5000,
          8000,
          12000,
          20000
         ],
         "y": [
          0.06066510363450517,
          0.7733815967844504,
          2.2002515687686186,
          4.29223687347815,
          8.771202512507992,
          11.435359022025192,
          12.770014755572468,
          13.079886196753154,
          13.113200565966388,
          13.141956155446266
         ],
         "type": "scatter",
         "xaxis": "x8",
         "yaxis": "y8"
        },
        {
         "marker": {
          "color": "darkblue"
         },
         "x": [
          100,
          300,
          600,
          1000,
          2000,
          3000,
          5000,
          8000,
          12000,
          20000
         ],
         "y": [
          0.05338872447604448,
          0.5757293518752205,
          1.6495825591508861,
          3.3995011701403954,
          7.203722304712623,
          10.135971711330294,
          13.790089133283034,
          15.92820868546484,
          16.637557241862066,
          16.719568972689437
         ],
         "type": "scatter",
         "xaxis": "x9",
         "yaxis": "y9"
        },
        {
         "marker": {
          "color": "darkblue"
         },
         "x": [
          100,
          300,
          600,
          1000,
          2000,
          3000,
          5000,
          8000,
          12000,
          20000
         ],
         "y": [
          0.0027053675772492625,
          0.4780616686723582,
          1.3041925531094511,
          2.7857879415990827,
          6.415137388311132,
          8.873250981360737,
          10.500907822285932,
          10.935971254012156,
          10.97336640796146,
          11.00434892228871
         ],
         "type": "scatter",
         "xaxis": "x10",
         "yaxis": "y10"
        },
        {
         "marker": {
          "color": "darkblue"
         },
         "x": [
          100,
          300,
          600,
          1000,
          2000,
          3000,
          5000,
          8000,
          12000,
          20000
         ],
         "y": [
          0.06324959959941312,
          0.7686117630910649,
          2.2061123087970924,
          4.301846563456369,
          8.87756087842969,
          11.736785209738388,
          13.18308034451896,
          13.554782066234317,
          13.590960756728709,
          13.62068091775076
         ],
         "type": "scatter",
         "xaxis": "x11",
         "yaxis": "y11"
        },
        {
         "marker": {
          "color": "darkblue"
         },
         "x": [
          100,
          300,
          600,
          1000,
          2000,
          3000,
          5000,
          8000,
          12000,
          20000
         ],
         "y": [
          0.051507294912367385,
          0.5756348730143968,
          1.6567563728709822,
          3.4200951037338,
          7.260595285438232,
          10.220629419883531,
          13.943808228379684,
          16.15443209804006,
          16.889336795961775,
          16.97225229621585
         ],
         "type": "scatter",
         "xaxis": "x12",
         "yaxis": "y12"
        }
       ],
       "layout": {
        "template": {
         "data": {
          "bar": [
           {
            "error_x": {
             "color": "#2a3f5f"
            },
            "error_y": {
             "color": "#2a3f5f"
            },
            "marker": {
             "line": {
              "color": "#E5ECF6",
              "width": 0.5
             },
             "pattern": {
              "fillmode": "overlay",
              "size": 10,
              "solidity": 0.2
             }
            },
            "type": "bar"
           }
          ],
          "barpolar": [
           {
            "marker": {
             "line": {
              "color": "#E5ECF6",
              "width": 0.5
             },
             "pattern": {
              "fillmode": "overlay",
              "size": 10,
              "solidity": 0.2
             }
            },
            "type": "barpolar"
           }
          ],
          "carpet": [
           {
            "aaxis": {
             "endlinecolor": "#2a3f5f",
             "gridcolor": "white",
             "linecolor": "white",
             "minorgridcolor": "white",
             "startlinecolor": "#2a3f5f"
            },
            "baxis": {
             "endlinecolor": "#2a3f5f",
             "gridcolor": "white",
             "linecolor": "white",
             "minorgridcolor": "white",
             "startlinecolor": "#2a3f5f"
            },
            "type": "carpet"
           }
          ],
          "choropleth": [
           {
            "colorbar": {
             "outlinewidth": 0,
             "ticks": ""
            },
            "type": "choropleth"
           }
          ],
          "contour": [
           {
            "colorbar": {
             "outlinewidth": 0,
             "ticks": ""
            },
            "colorscale": [
             [
              0.0,
              "#0d0887"
             ],
             [
              0.1111111111111111,
              "#46039f"
             ],
             [
              0.2222222222222222,
              "#7201a8"
             ],
             [
              0.3333333333333333,
              "#9c179e"
             ],
             [
              0.4444444444444444,
              "#bd3786"
             ],
             [
              0.5555555555555556,
              "#d8576b"
             ],
             [
              0.6666666666666666,
              "#ed7953"
             ],
             [
              0.7777777777777778,
              "#fb9f3a"
             ],
             [
              0.8888888888888888,
              "#fdca26"
             ],
             [
              1.0,
              "#f0f921"
             ]
            ],
            "type": "contour"
           }
          ],
          "contourcarpet": [
           {
            "colorbar": {
             "outlinewidth": 0,
             "ticks": ""
            },
            "type": "contourcarpet"
           }
          ],
          "heatmap": [
           {
            "colorbar": {
             "outlinewidth": 0,
             "ticks": ""
            },
            "colorscale": [
             [
              0.0,
              "#0d0887"
             ],
             [
              0.1111111111111111,
              "#46039f"
             ],
             [
              0.2222222222222222,
              "#7201a8"
             ],
             [
              0.3333333333333333,
              "#9c179e"
             ],
             [
              0.4444444444444444,
              "#bd3786"
             ],
             [
              0.5555555555555556,
              "#d8576b"
             ],
             [
              0.6666666666666666,
              "#ed7953"
             ],
             [
              0.7777777777777778,
              "#fb9f3a"
             ],
             [
              0.8888888888888888,
              "#fdca26"
             ],
             [
              1.0,
              "#f0f921"
             ]
            ],
            "type": "heatmap"
           }
          ],
          "heatmapgl": [
           {
            "colorbar": {
             "outlinewidth": 0,
             "ticks": ""
            },
            "colorscale": [
             [
              0.0,
              "#0d0887"
             ],
             [
              0.1111111111111111,
              "#46039f"
             ],
             [
              0.2222222222222222,
              "#7201a8"
             ],
             [
              0.3333333333333333,
              "#9c179e"
             ],
             [
              0.4444444444444444,
              "#bd3786"
             ],
             [
              0.5555555555555556,
              "#d8576b"
             ],
             [
              0.6666666666666666,
              "#ed7953"
             ],
             [
              0.7777777777777778,
              "#fb9f3a"
             ],
             [
              0.8888888888888888,
              "#fdca26"
             ],
             [
              1.0,
              "#f0f921"
             ]
            ],
            "type": "heatmapgl"
           }
          ],
          "histogram": [
           {
            "marker": {
             "pattern": {
              "fillmode": "overlay",
              "size": 10,
              "solidity": 0.2
             }
            },
            "type": "histogram"
           }
          ],
          "histogram2d": [
           {
            "colorbar": {
             "outlinewidth": 0,
             "ticks": ""
            },
            "colorscale": [
             [
              0.0,
              "#0d0887"
             ],
             [
              0.1111111111111111,
              "#46039f"
             ],
             [
              0.2222222222222222,
              "#7201a8"
             ],
             [
              0.3333333333333333,
              "#9c179e"
             ],
             [
              0.4444444444444444,
              "#bd3786"
             ],
             [
              0.5555555555555556,
              "#d8576b"
             ],
             [
              0.6666666666666666,
              "#ed7953"
             ],
             [
              0.7777777777777778,
              "#fb9f3a"
             ],
             [
              0.8888888888888888,
              "#fdca26"
             ],
             [
              1.0,
              "#f0f921"
             ]
            ],
            "type": "histogram2d"
           }
          ],
          "histogram2dcontour": [
           {
            "colorbar": {
             "outlinewidth": 0,
             "ticks": ""
            },
            "colorscale": [
             [
              0.0,
              "#0d0887"
             ],
             [
              0.1111111111111111,
              "#46039f"
             ],
             [
              0.2222222222222222,
              "#7201a8"
             ],
             [
              0.3333333333333333,
              "#9c179e"
             ],
             [
              0.4444444444444444,
              "#bd3786"
             ],
             [
              0.5555555555555556,
              "#d8576b"
             ],
             [
              0.6666666666666666,
              "#ed7953"
             ],
             [
              0.7777777777777778,
              "#fb9f3a"
             ],
             [
              0.8888888888888888,
              "#fdca26"
             ],
             [
              1.0,
              "#f0f921"
             ]
            ],
            "type": "histogram2dcontour"
           }
          ],
          "mesh3d": [
           {
            "colorbar": {
             "outlinewidth": 0,
             "ticks": ""
            },
            "type": "mesh3d"
           }
          ],
          "parcoords": [
           {
            "line": {
             "colorbar": {
              "outlinewidth": 0,
              "ticks": ""
             }
            },
            "type": "parcoords"
           }
          ],
          "pie": [
           {
            "automargin": true,
            "type": "pie"
           }
          ],
          "scatter": [
           {
            "marker": {
             "colorbar": {
              "outlinewidth": 0,
              "ticks": ""
             }
            },
            "type": "scatter"
           }
          ],
          "scatter3d": [
           {
            "line": {
             "colorbar": {
              "outlinewidth": 0,
              "ticks": ""
             }
            },
            "marker": {
             "colorbar": {
              "outlinewidth": 0,
              "ticks": ""
             }
            },
            "type": "scatter3d"
           }
          ],
          "scattercarpet": [
           {
            "marker": {
             "colorbar": {
              "outlinewidth": 0,
              "ticks": ""
             }
            },
            "type": "scattercarpet"
           }
          ],
          "scattergeo": [
           {
            "marker": {
             "colorbar": {
              "outlinewidth": 0,
              "ticks": ""
             }
            },
            "type": "scattergeo"
           }
          ],
          "scattergl": [
           {
            "marker": {
             "colorbar": {
              "outlinewidth": 0,
              "ticks": ""
             }
            },
            "type": "scattergl"
           }
          ],
          "scattermapbox": [
           {
            "marker": {
             "colorbar": {
              "outlinewidth": 0,
              "ticks": ""
             }
            },
            "type": "scattermapbox"
           }
          ],
          "scatterpolar": [
           {
            "marker": {
             "colorbar": {
              "outlinewidth": 0,
              "ticks": ""
             }
            },
            "type": "scatterpolar"
           }
          ],
          "scatterpolargl": [
           {
            "marker": {
             "colorbar": {
              "outlinewidth": 0,
              "ticks": ""
             }
            },
            "type": "scatterpolargl"
           }
          ],
          "scatterternary": [
           {
            "marker": {
             "colorbar": {
              "outlinewidth": 0,
              "ticks": ""
             }
            },
            "type": "scatterternary"
           }
          ],
          "surface": [
           {
            "colorbar": {
             "outlinewidth": 0,
             "ticks": ""
            },
            "colorscale": [
             [
              0.0,
              "#0d0887"
             ],
             [
              0.1111111111111111,
              "#46039f"
             ],
             [
              0.2222222222222222,
              "#7201a8"
             ],
             [
              0.3333333333333333,
              "#9c179e"
             ],
             [
              0.4444444444444444,
              "#bd3786"
             ],
             [
              0.5555555555555556,
              "#d8576b"
             ],
             [
              0.6666666666666666,
              "#ed7953"
             ],
             [
              0.7777777777777778,
              "#fb9f3a"
             ],
             [
              0.8888888888888888,
              "#fdca26"
             ],
             [
              1.0,
              "#f0f921"
             ]
            ],
            "type": "surface"
           }
          ],
          "table": [
           {
            "cells": {
             "fill": {
              "color": "#EBF0F8"
             },
             "line": {
              "color": "white"
             }
            },
            "header": {
             "fill": {
              "color": "#C8D4E3"
             },
             "line": {
              "color": "white"
             }
            },
            "type": "table"
           }
          ]
         },
         "layout": {
          "annotationdefaults": {
           "arrowcolor": "#2a3f5f",
           "arrowhead": 0,
           "arrowwidth": 1
          },
          "autotypenumbers": "strict",
          "coloraxis": {
           "colorbar": {
            "outlinewidth": 0,
            "ticks": ""
           }
          },
          "colorscale": {
           "diverging": [
            [
             0,
             "#8e0152"
            ],
            [
             0.1,
             "#c51b7d"
            ],
            [
             0.2,
             "#de77ae"
            ],
            [
             0.3,
             "#f1b6da"
            ],
            [
             0.4,
             "#fde0ef"
            ],
            [
             0.5,
             "#f7f7f7"
            ],
            [
             0.6,
             "#e6f5d0"
            ],
            [
             0.7,
             "#b8e186"
            ],
            [
             0.8,
             "#7fbc41"
            ],
            [
             0.9,
             "#4d9221"
            ],
            [
             1,
             "#276419"
            ]
           ],
           "sequential": [
            [
             0.0,
             "#0d0887"
            ],
            [
             0.1111111111111111,
             "#46039f"
            ],
            [
             0.2222222222222222,
             "#7201a8"
            ],
            [
             0.3333333333333333,
             "#9c179e"
            ],
            [
             0.4444444444444444,
             "#bd3786"
            ],
            [
             0.5555555555555556,
             "#d8576b"
            ],
            [
             0.6666666666666666,
             "#ed7953"
            ],
            [
             0.7777777777777778,
             "#fb9f3a"
            ],
            [
             0.8888888888888888,
             "#fdca26"
            ],
            [
             1.0,
             "#f0f921"
            ]
           ],
           "sequentialminus": [
            [
             0.0,
             "#0d0887"
            ],
            [
             0.1111111111111111,
             "#46039f"
            ],
            [
             0.2222222222222222,
             "#7201a8"
            ],
            [
             0.3333333333333333,
             "#9c179e"
            ],
            [
             0.4444444444444444,
             "#bd3786"
            ],
            [
             0.5555555555555556,
             "#d8576b"
            ],
            [
             0.6666666666666666,
             "#ed7953"
            ],
            [
             0.7777777777777778,
             "#fb9f3a"
            ],
            [
             0.8888888888888888,
             "#fdca26"
            ],
            [
             1.0,
             "#f0f921"
            ]
           ]
          },
          "colorway": [
           "#636efa",
           "#EF553B",
           "#00cc96",
           "#ab63fa",
           "#FFA15A",
           "#19d3f3",
           "#FF6692",
           "#B6E880",
           "#FF97FF",
           "#FECB52"
          ],
          "font": {
           "color": "#2a3f5f"
          },
          "geo": {
           "bgcolor": "white",
           "lakecolor": "white",
           "landcolor": "#E5ECF6",
           "showlakes": true,
           "showland": true,
           "subunitcolor": "white"
          },
          "hoverlabel": {
           "align": "left"
          },
          "hovermode": "closest",
          "mapbox": {
           "style": "light"
          },
          "paper_bgcolor": "white",
          "plot_bgcolor": "#E5ECF6",
          "polar": {
           "angularaxis": {
            "gridcolor": "white",
            "linecolor": "white",
            "ticks": ""
           },
           "bgcolor": "#E5ECF6",
           "radialaxis": {
            "gridcolor": "white",
            "linecolor": "white",
            "ticks": ""
           }
          },
          "scene": {
           "xaxis": {
            "backgroundcolor": "#E5ECF6",
            "gridcolor": "white",
            "gridwidth": 2,
            "linecolor": "white",
            "showbackground": true,
            "ticks": "",
            "zerolinecolor": "white"
           },
           "yaxis": {
            "backgroundcolor": "#E5ECF6",
            "gridcolor": "white",
            "gridwidth": 2,
            "linecolor": "white",
            "showbackground": true,
            "ticks": "",
            "zerolinecolor": "white"
           },
           "zaxis": {
            "backgroundcolor": "#E5ECF6",
            "gridcolor": "white",
            "gridwidth": 2,
            "linecolor": "white",
            "showbackground": true,
            "ticks": "",
            "zerolinecolor": "white"
           }
          },
          "shapedefaults": {
           "line": {
            "color": "#2a3f5f"
           }
          },
          "ternary": {
           "aaxis": {
            "gridcolor": "white",
            "linecolor": "white",
            "ticks": ""
           },
           "baxis": {
            "gridcolor": "white",
            "linecolor": "white",
            "ticks": ""
           },
           "bgcolor": "#E5ECF6",
           "caxis": {
            "gridcolor": "white",
            "linecolor": "white",
            "ticks": ""
           }
          },
          "title": {
           "x": 0.05
          },
          "xaxis": {
           "automargin": true,
           "gridcolor": "white",
           "linecolor": "white",
           "ticks": "",
           "title": {
            "standoff": 15
           },
           "zerolinecolor": "white",
           "zerolinewidth": 2
          },
          "yaxis": {
           "automargin": true,
           "gridcolor": "white",
           "linecolor": "white",
           "ticks": "",
           "title": {
            "standoff": 15
           },
           "zerolinecolor": "white",
           "zerolinewidth": 2
          }
         }
        },
        "xaxis": {
         "anchor": "y",
         "domain": [
          0.0,
          0.3
         ],
         "showgrid": true,
         "gridwidth": 0.5,
         "gridcolor": "rgb(242,242,242)",
         "range": [
          -200,
          20200
         ]
        },
        "yaxis": {
         "anchor": "x",
         "domain": [
          0.7875,
          1.0
         ],
         "title": {
          "text": "Heat pump: 3000 W"
         },
         "ticksuffix": "%",
         "showgrid": true,
         "gridwidth": 0.5,
         "gridcolor": "rgb(242,242,242)",
         "range": [
          0,
          20
         ]
        },
        "xaxis2": {
         "anchor": "y2",
         "domain": [
          0.35,
          0.6499999999999999
         ],
         "showgrid": true,
         "gridwidth": 0.5,
         "gridcolor": "rgb(242,242,242)",
         "range": [
          -200,
          20200
         ]
        },
        "yaxis2": {
         "anchor": "x2",
         "domain": [
          0.7875,
          1.0
         ],
         "matches": "y",
         "showticklabels": false,
         "showgrid": true,
         "gridwidth": 0.5,
         "gridcolor": "rgb(242,242,242)",
         "range": [
          0,
          20
         ]
        },
        "xaxis3": {
         "anchor": "y3",
         "domain": [
          0.7,
          1.0
         ],
         "showgrid": true,
         "gridwidth": 0.5,
         "gridcolor": "rgb(242,242,242)",
         "range": [
          -200,
          20200
         ]
        },
        "yaxis3": {
         "anchor": "x3",
         "domain": [
          0.7875,
          1.0
         ],
         "matches": "y",
         "showticklabels": false,
         "showgrid": true,
         "gridwidth": 0.5,
         "gridcolor": "rgb(242,242,242)",
         "range": [
          0,
          20
         ]
        },
        "xaxis4": {
         "anchor": "y4",
         "domain": [
          0.0,
          0.3
         ],
         "showgrid": true,
         "gridwidth": 0.5,
         "gridcolor": "rgb(242,242,242)",
         "range": [
          -200,
          20200
         ]
        },
        "yaxis4": {
         "anchor": "x4",
         "domain": [
          0.525,
          0.7375
         ],
         "title": {
          "text": "Heat pump: 5000 W"
         },
         "ticksuffix": "%",
         "showgrid": true,
         "gridwidth": 0.5,
         "gridcolor": "rgb(242,242,242)",
         "range": [
          0,
          20
         ]
        },
        "xaxis5": {
         "anchor": "y5",
         "domain": [
          0.35,
          0.6499999999999999
         ],
         "showgrid": true,
         "gridwidth": 0.5,
         "gridcolor": "rgb(242,242,242)",
         "range": [
          -200,
          20200
         ]
        },
        "yaxis5": {
         "anchor": "x5",
         "domain": [
          0.525,
          0.7375
         ],
         "matches": "y4",
         "showticklabels": false,
         "showgrid": true,
         "gridwidth": 0.5,
         "gridcolor": "rgb(242,242,242)",
         "range": [
          0,
          20
         ]
        },
        "xaxis6": {
         "anchor": "y6",
         "domain": [
          0.7,
          1.0
         ],
         "showgrid": true,
         "gridwidth": 0.5,
         "gridcolor": "rgb(242,242,242)",
         "range": [
          -200,
          20200
         ]
        },
        "yaxis6": {
         "anchor": "x6",
         "domain": [
          0.525,
          0.7375
         ],
         "matches": "y4",
         "showticklabels": false,
         "showgrid": true,
         "gridwidth": 0.5,
         "gridcolor": "rgb(242,242,242)",
         "range": [
          0,
          20
         ]
        },
        "xaxis7": {
         "anchor": "y7",
         "domain": [
          0.0,
          0.3
         ],
         "showgrid": true,
         "gridwidth": 0.5,
         "gridcolor": "rgb(242,242,242)",
         "range": [
          -200,
          20200
         ]
        },
        "yaxis7": {
         "anchor": "x7",
         "domain": [
          0.2625,
          0.475
         ],
         "title": {
          "text": "Heat pump: 7000 W"
         },
         "ticksuffix": "%",
         "showgrid": true,
         "gridwidth": 0.5,
         "gridcolor": "rgb(242,242,242)",
         "range": [
          0,
          20
         ]
        },
        "xaxis8": {
         "anchor": "y8",
         "domain": [
          0.35,
          0.6499999999999999
         ],
         "showgrid": true,
         "gridwidth": 0.5,
         "gridcolor": "rgb(242,242,242)",
         "range": [
          -200,
          20200
         ]
        },
        "yaxis8": {
         "anchor": "x8",
         "domain": [
          0.2625,
          0.475
         ],
         "matches": "y7",
         "showticklabels": false,
         "showgrid": true,
         "gridwidth": 0.5,
         "gridcolor": "rgb(242,242,242)",
         "range": [
          0,
          20
         ]
        },
        "xaxis9": {
         "anchor": "y9",
         "domain": [
          0.7,
          1.0
         ],
         "showgrid": true,
         "gridwidth": 0.5,
         "gridcolor": "rgb(242,242,242)",
         "range": [
          -200,
          20200
         ]
        },
        "yaxis9": {
         "anchor": "x9",
         "domain": [
          0.2625,
          0.475
         ],
         "matches": "y7",
         "showticklabels": false,
         "showgrid": true,
         "gridwidth": 0.5,
         "gridcolor": "rgb(242,242,242)",
         "range": [
          0,
          20
         ]
        },
        "xaxis10": {
         "anchor": "y10",
         "domain": [
          0.0,
          0.3
         ],
         "showgrid": true,
         "gridwidth": 0.5,
         "gridcolor": "rgb(242,242,242)",
         "range": [
          -200,
          20200
         ]
        },
        "yaxis10": {
         "anchor": "x10",
         "domain": [
          0.0,
          0.2125
         ],
         "title": {
          "text": "Heat pump: 10000 W"
         },
         "ticksuffix": "%",
         "showgrid": true,
         "gridwidth": 0.5,
         "gridcolor": "rgb(242,242,242)",
         "range": [
          0,
          20
         ]
        },
        "xaxis11": {
         "anchor": "y11",
         "domain": [
          0.35,
          0.6499999999999999
         ],
         "showgrid": true,
         "gridwidth": 0.5,
         "gridcolor": "rgb(242,242,242)",
         "range": [
          -200,
          20200
         ]
        },
        "yaxis11": {
         "anchor": "x11",
         "domain": [
          0.0,
          0.2125
         ],
         "matches": "y10",
         "showticklabels": false,
         "showgrid": true,
         "gridwidth": 0.5,
         "gridcolor": "rgb(242,242,242)",
         "range": [
          0,
          20
         ]
        },
        "xaxis12": {
         "anchor": "y12",
         "domain": [
          0.7,
          1.0
         ],
         "showgrid": true,
         "gridwidth": 0.5,
         "gridcolor": "rgb(242,242,242)",
         "range": [
          -200,
          20200
         ]
        },
        "yaxis12": {
         "anchor": "x12",
         "domain": [
          0.0,
          0.2125
         ],
         "matches": "y10",
         "showticklabels": false,
         "showgrid": true,
         "gridwidth": 0.5,
         "gridcolor": "rgb(242,242,242)",
         "range": [
          0,
          20
         ]
        },
        "annotations": [
         {
          "font": {
           "size": 16
          },
          "showarrow": false,
          "text": "House: 350 W/K",
          "x": 0.15,
          "xanchor": "center",
          "xref": "paper",
          "y": 1.0,
          "yanchor": "bottom",
          "yref": "paper"
         },
         {
          "font": {
           "size": 16
          },
          "showarrow": false,
          "text": "House: 200 W/K",
          "x": 0.49999999999999994,
          "xanchor": "center",
          "xref": "paper",
          "y": 1.0,
          "yanchor": "bottom",
          "yref": "paper"
         },
         {
          "font": {
           "size": 16
          },
          "showarrow": false,
          "text": "House: 150 W/K",
          "x": 0.85,
          "xanchor": "center",
          "xref": "paper",
          "y": 1.0,
          "yanchor": "bottom",
          "yref": "paper"
         },
         {
          "font": {
           "size": 16
          },
          "showarrow": false,
          "text": "Storage volume in litres",
          "x": 0.5,
          "xanchor": "center",
          "xref": "paper",
          "y": 0,
          "yanchor": "top",
          "yref": "paper",
          "yshift": -30
         }
        ],
        "showlegend": false,
        "height": 1200,
        "width": 1200,
        "plot_bgcolor": "white"
       },
       "config": {
        "plotlyServerURL": "https://plot.ly"
       }
      },
      "text/html": "<div>                            <div id=\"e2226573-94e3-41b9-aebf-252e20a45d4c\" class=\"plotly-graph-div\" style=\"height:1200px; width:1200px;\"></div>            <script type=\"text/javascript\">                require([\"plotly\"], function(Plotly) {                    window.PLOTLYENV=window.PLOTLYENV || {};                                    if (document.getElementById(\"e2226573-94e3-41b9-aebf-252e20a45d4c\")) {                    Plotly.newPlot(                        \"e2226573-94e3-41b9-aebf-252e20a45d4c\",                        [{\"type\":\"scatter\",\"xaxis\":\"x\",\"yaxis\":\"y\"},{\"type\":\"scatter\",\"xaxis\":\"x2\",\"yaxis\":\"y2\"},{\"marker\":{\"color\":\"darkblue\"},\"x\":[100,300,600,1000,2000,3000,5000,8000,12000,20000],\"y\":[0.04785182883716432,0.5738526922017484,1.6139826537889368,3.315310645541103,6.9102930682374275,9.545083119422737,12.644060129962408,14.302979416794681,14.821813786852777,14.885383154087005],\"type\":\"scatter\",\"xaxis\":\"x3\",\"yaxis\":\"y3\"},{\"type\":\"scatter\",\"xaxis\":\"x4\",\"yaxis\":\"y4\"},{\"marker\":{\"color\":\"darkblue\"},\"x\":[100,300,600,1000,2000,3000,5000,8000,12000,20000],\"y\":[0.06317023938144928,0.7698520829575006,2.1912124897211505,4.254160907741388,8.545228654383429,10.874484140901474,12.02565501851397,12.275216735764205,12.306352339764326,12.333739026176094],\"type\":\"scatter\",\"xaxis\":\"x5\",\"yaxis\":\"y5\"},{\"marker\":{\"color\":\"darkblue\"},\"x\":[100,300,600,1000,2000,3000,5000,8000,12000,20000],\"y\":[0.048892059489669126,0.5766546388222937,1.6413706043587606,3.3770665258683663,7.13978805605624,10.009416469703481,13.516919677114892,15.498413912168186,16.173756418333983,16.24278305008453],\"type\":\"scatter\",\"xaxis\":\"x6\",\"yaxis\":\"y6\"},{\"marker\":{\"color\":\"darkblue\"},\"x\":[100,300,600,1000,2000,3000,5000,8000,12000,20000],\"y\":[0.004387060855048919,0.477478493402661,1.319021180720592,2.7648458008301846,6.146867112105059,8.242547790239119,9.478499000545316,9.790967133142436,9.824713031346876,9.853462570904338],\"type\":\"scatter\",\"xaxis\":\"x7\",\"yaxis\":\"y7\"},{\"marker\":{\"color\":\"darkblue\"},\"x\":[100,300,600,1000,2000,3000,5000,8000,12000,20000],\"y\":[0.06066510363450517,0.7733815967844504,2.2002515687686186,4.29223687347815,8.771202512507992,11.435359022025192,12.770014755572468,13.079886196753154,13.113200565966388,13.141956155446266],\"type\":\"scatter\",\"xaxis\":\"x8\",\"yaxis\":\"y8\"},{\"marker\":{\"color\":\"darkblue\"},\"x\":[100,300,600,1000,2000,3000,5000,8000,12000,20000],\"y\":[0.05338872447604448,0.5757293518752205,1.6495825591508861,3.3995011701403954,7.203722304712623,10.135971711330294,13.790089133283034,15.92820868546484,16.637557241862066,16.719568972689437],\"type\":\"scatter\",\"xaxis\":\"x9\",\"yaxis\":\"y9\"},{\"marker\":{\"color\":\"darkblue\"},\"x\":[100,300,600,1000,2000,3000,5000,8000,12000,20000],\"y\":[0.0027053675772492625,0.4780616686723582,1.3041925531094511,2.7857879415990827,6.415137388311132,8.873250981360737,10.500907822285932,10.935971254012156,10.97336640796146,11.00434892228871],\"type\":\"scatter\",\"xaxis\":\"x10\",\"yaxis\":\"y10\"},{\"marker\":{\"color\":\"darkblue\"},\"x\":[100,300,600,1000,2000,3000,5000,8000,12000,20000],\"y\":[0.06324959959941312,0.7686117630910649,2.2061123087970924,4.301846563456369,8.87756087842969,11.736785209738388,13.18308034451896,13.554782066234317,13.590960756728709,13.62068091775076],\"type\":\"scatter\",\"xaxis\":\"x11\",\"yaxis\":\"y11\"},{\"marker\":{\"color\":\"darkblue\"},\"x\":[100,300,600,1000,2000,3000,5000,8000,12000,20000],\"y\":[0.051507294912367385,0.5756348730143968,1.6567563728709822,3.4200951037338,7.260595285438232,10.220629419883531,13.943808228379684,16.15443209804006,16.889336795961775,16.97225229621585],\"type\":\"scatter\",\"xaxis\":\"x12\",\"yaxis\":\"y12\"}],                        {\"template\":{\"data\":{\"bar\":[{\"error_x\":{\"color\":\"#2a3f5f\"},\"error_y\":{\"color\":\"#2a3f5f\"},\"marker\":{\"line\":{\"color\":\"#E5ECF6\",\"width\":0.5},\"pattern\":{\"fillmode\":\"overlay\",\"size\":10,\"solidity\":0.2}},\"type\":\"bar\"}],\"barpolar\":[{\"marker\":{\"line\":{\"color\":\"#E5ECF6\",\"width\":0.5},\"pattern\":{\"fillmode\":\"overlay\",\"size\":10,\"solidity\":0.2}},\"type\":\"barpolar\"}],\"carpet\":[{\"aaxis\":{\"endlinecolor\":\"#2a3f5f\",\"gridcolor\":\"white\",\"linecolor\":\"white\",\"minorgridcolor\":\"white\",\"startlinecolor\":\"#2a3f5f\"},\"baxis\":{\"endlinecolor\":\"#2a3f5f\",\"gridcolor\":\"white\",\"linecolor\":\"white\",\"minorgridcolor\":\"white\",\"startlinecolor\":\"#2a3f5f\"},\"type\":\"carpet\"}],\"choropleth\":[{\"colorbar\":{\"outlinewidth\":0,\"ticks\":\"\"},\"type\":\"choropleth\"}],\"contour\":[{\"colorbar\":{\"outlinewidth\":0,\"ticks\":\"\"},\"colorscale\":[[0.0,\"#0d0887\"],[0.1111111111111111,\"#46039f\"],[0.2222222222222222,\"#7201a8\"],[0.3333333333333333,\"#9c179e\"],[0.4444444444444444,\"#bd3786\"],[0.5555555555555556,\"#d8576b\"],[0.6666666666666666,\"#ed7953\"],[0.7777777777777778,\"#fb9f3a\"],[0.8888888888888888,\"#fdca26\"],[1.0,\"#f0f921\"]],\"type\":\"contour\"}],\"contourcarpet\":[{\"colorbar\":{\"outlinewidth\":0,\"ticks\":\"\"},\"type\":\"contourcarpet\"}],\"heatmap\":[{\"colorbar\":{\"outlinewidth\":0,\"ticks\":\"\"},\"colorscale\":[[0.0,\"#0d0887\"],[0.1111111111111111,\"#46039f\"],[0.2222222222222222,\"#7201a8\"],[0.3333333333333333,\"#9c179e\"],[0.4444444444444444,\"#bd3786\"],[0.5555555555555556,\"#d8576b\"],[0.6666666666666666,\"#ed7953\"],[0.7777777777777778,\"#fb9f3a\"],[0.8888888888888888,\"#fdca26\"],[1.0,\"#f0f921\"]],\"type\":\"heatmap\"}],\"heatmapgl\":[{\"colorbar\":{\"outlinewidth\":0,\"ticks\":\"\"},\"colorscale\":[[0.0,\"#0d0887\"],[0.1111111111111111,\"#46039f\"],[0.2222222222222222,\"#7201a8\"],[0.3333333333333333,\"#9c179e\"],[0.4444444444444444,\"#bd3786\"],[0.5555555555555556,\"#d8576b\"],[0.6666666666666666,\"#ed7953\"],[0.7777777777777778,\"#fb9f3a\"],[0.8888888888888888,\"#fdca26\"],[1.0,\"#f0f921\"]],\"type\":\"heatmapgl\"}],\"histogram\":[{\"marker\":{\"pattern\":{\"fillmode\":\"overlay\",\"size\":10,\"solidity\":0.2}},\"type\":\"histogram\"}],\"histogram2d\":[{\"colorbar\":{\"outlinewidth\":0,\"ticks\":\"\"},\"colorscale\":[[0.0,\"#0d0887\"],[0.1111111111111111,\"#46039f\"],[0.2222222222222222,\"#7201a8\"],[0.3333333333333333,\"#9c179e\"],[0.4444444444444444,\"#bd3786\"],[0.5555555555555556,\"#d8576b\"],[0.6666666666666666,\"#ed7953\"],[0.7777777777777778,\"#fb9f3a\"],[0.8888888888888888,\"#fdca26\"],[1.0,\"#f0f921\"]],\"type\":\"histogram2d\"}],\"histogram2dcontour\":[{\"colorbar\":{\"outlinewidth\":0,\"ticks\":\"\"},\"colorscale\":[[0.0,\"#0d0887\"],[0.1111111111111111,\"#46039f\"],[0.2222222222222222,\"#7201a8\"],[0.3333333333333333,\"#9c179e\"],[0.4444444444444444,\"#bd3786\"],[0.5555555555555556,\"#d8576b\"],[0.6666666666666666,\"#ed7953\"],[0.7777777777777778,\"#fb9f3a\"],[0.8888888888888888,\"#fdca26\"],[1.0,\"#f0f921\"]],\"type\":\"histogram2dcontour\"}],\"mesh3d\":[{\"colorbar\":{\"outlinewidth\":0,\"ticks\":\"\"},\"type\":\"mesh3d\"}],\"parcoords\":[{\"line\":{\"colorbar\":{\"outlinewidth\":0,\"ticks\":\"\"}},\"type\":\"parcoords\"}],\"pie\":[{\"automargin\":true,\"type\":\"pie\"}],\"scatter\":[{\"marker\":{\"colorbar\":{\"outlinewidth\":0,\"ticks\":\"\"}},\"type\":\"scatter\"}],\"scatter3d\":[{\"line\":{\"colorbar\":{\"outlinewidth\":0,\"ticks\":\"\"}},\"marker\":{\"colorbar\":{\"outlinewidth\":0,\"ticks\":\"\"}},\"type\":\"scatter3d\"}],\"scattercarpet\":[{\"marker\":{\"colorbar\":{\"outlinewidth\":0,\"ticks\":\"\"}},\"type\":\"scattercarpet\"}],\"scattergeo\":[{\"marker\":{\"colorbar\":{\"outlinewidth\":0,\"ticks\":\"\"}},\"type\":\"scattergeo\"}],\"scattergl\":[{\"marker\":{\"colorbar\":{\"outlinewidth\":0,\"ticks\":\"\"}},\"type\":\"scattergl\"}],\"scattermapbox\":[{\"marker\":{\"colorbar\":{\"outlinewidth\":0,\"ticks\":\"\"}},\"type\":\"scattermapbox\"}],\"scatterpolar\":[{\"marker\":{\"colorbar\":{\"outlinewidth\":0,\"ticks\":\"\"}},\"type\":\"scatterpolar\"}],\"scatterpolargl\":[{\"marker\":{\"colorbar\":{\"outlinewidth\":0,\"ticks\":\"\"}},\"type\":\"scatterpolargl\"}],\"scatterternary\":[{\"marker\":{\"colorbar\":{\"outlinewidth\":0,\"ticks\":\"\"}},\"type\":\"scatterternary\"}],\"surface\":[{\"colorbar\":{\"outlinewidth\":0,\"ticks\":\"\"},\"colorscale\":[[0.0,\"#0d0887\"],[0.1111111111111111,\"#46039f\"],[0.2222222222222222,\"#7201a8\"],[0.3333333333333333,\"#9c179e\"],[0.4444444444444444,\"#bd3786\"],[0.5555555555555556,\"#d8576b\"],[0.6666666666666666,\"#ed7953\"],[0.7777777777777778,\"#fb9f3a\"],[0.8888888888888888,\"#fdca26\"],[1.0,\"#f0f921\"]],\"type\":\"surface\"}],\"table\":[{\"cells\":{\"fill\":{\"color\":\"#EBF0F8\"},\"line\":{\"color\":\"white\"}},\"header\":{\"fill\":{\"color\":\"#C8D4E3\"},\"line\":{\"color\":\"white\"}},\"type\":\"table\"}]},\"layout\":{\"annotationdefaults\":{\"arrowcolor\":\"#2a3f5f\",\"arrowhead\":0,\"arrowwidth\":1},\"autotypenumbers\":\"strict\",\"coloraxis\":{\"colorbar\":{\"outlinewidth\":0,\"ticks\":\"\"}},\"colorscale\":{\"diverging\":[[0,\"#8e0152\"],[0.1,\"#c51b7d\"],[0.2,\"#de77ae\"],[0.3,\"#f1b6da\"],[0.4,\"#fde0ef\"],[0.5,\"#f7f7f7\"],[0.6,\"#e6f5d0\"],[0.7,\"#b8e186\"],[0.8,\"#7fbc41\"],[0.9,\"#4d9221\"],[1,\"#276419\"]],\"sequential\":[[0.0,\"#0d0887\"],[0.1111111111111111,\"#46039f\"],[0.2222222222222222,\"#7201a8\"],[0.3333333333333333,\"#9c179e\"],[0.4444444444444444,\"#bd3786\"],[0.5555555555555556,\"#d8576b\"],[0.6666666666666666,\"#ed7953\"],[0.7777777777777778,\"#fb9f3a\"],[0.8888888888888888,\"#fdca26\"],[1.0,\"#f0f921\"]],\"sequentialminus\":[[0.0,\"#0d0887\"],[0.1111111111111111,\"#46039f\"],[0.2222222222222222,\"#7201a8\"],[0.3333333333333333,\"#9c179e\"],[0.4444444444444444,\"#bd3786\"],[0.5555555555555556,\"#d8576b\"],[0.6666666666666666,\"#ed7953\"],[0.7777777777777778,\"#fb9f3a\"],[0.8888888888888888,\"#fdca26\"],[1.0,\"#f0f921\"]]},\"colorway\":[\"#636efa\",\"#EF553B\",\"#00cc96\",\"#ab63fa\",\"#FFA15A\",\"#19d3f3\",\"#FF6692\",\"#B6E880\",\"#FF97FF\",\"#FECB52\"],\"font\":{\"color\":\"#2a3f5f\"},\"geo\":{\"bgcolor\":\"white\",\"lakecolor\":\"white\",\"landcolor\":\"#E5ECF6\",\"showlakes\":true,\"showland\":true,\"subunitcolor\":\"white\"},\"hoverlabel\":{\"align\":\"left\"},\"hovermode\":\"closest\",\"mapbox\":{\"style\":\"light\"},\"paper_bgcolor\":\"white\",\"plot_bgcolor\":\"#E5ECF6\",\"polar\":{\"angularaxis\":{\"gridcolor\":\"white\",\"linecolor\":\"white\",\"ticks\":\"\"},\"bgcolor\":\"#E5ECF6\",\"radialaxis\":{\"gridcolor\":\"white\",\"linecolor\":\"white\",\"ticks\":\"\"}},\"scene\":{\"xaxis\":{\"backgroundcolor\":\"#E5ECF6\",\"gridcolor\":\"white\",\"gridwidth\":2,\"linecolor\":\"white\",\"showbackground\":true,\"ticks\":\"\",\"zerolinecolor\":\"white\"},\"yaxis\":{\"backgroundcolor\":\"#E5ECF6\",\"gridcolor\":\"white\",\"gridwidth\":2,\"linecolor\":\"white\",\"showbackground\":true,\"ticks\":\"\",\"zerolinecolor\":\"white\"},\"zaxis\":{\"backgroundcolor\":\"#E5ECF6\",\"gridcolor\":\"white\",\"gridwidth\":2,\"linecolor\":\"white\",\"showbackground\":true,\"ticks\":\"\",\"zerolinecolor\":\"white\"}},\"shapedefaults\":{\"line\":{\"color\":\"#2a3f5f\"}},\"ternary\":{\"aaxis\":{\"gridcolor\":\"white\",\"linecolor\":\"white\",\"ticks\":\"\"},\"baxis\":{\"gridcolor\":\"white\",\"linecolor\":\"white\",\"ticks\":\"\"},\"bgcolor\":\"#E5ECF6\",\"caxis\":{\"gridcolor\":\"white\",\"linecolor\":\"white\",\"ticks\":\"\"}},\"title\":{\"x\":0.05},\"xaxis\":{\"automargin\":true,\"gridcolor\":\"white\",\"linecolor\":\"white\",\"ticks\":\"\",\"title\":{\"standoff\":15},\"zerolinecolor\":\"white\",\"zerolinewidth\":2},\"yaxis\":{\"automargin\":true,\"gridcolor\":\"white\",\"linecolor\":\"white\",\"ticks\":\"\",\"title\":{\"standoff\":15},\"zerolinecolor\":\"white\",\"zerolinewidth\":2}}},\"xaxis\":{\"anchor\":\"y\",\"domain\":[0.0,0.3],\"showgrid\":true,\"gridwidth\":0.5,\"gridcolor\":\"rgb(242,242,242)\",\"range\":[-200,20200]},\"yaxis\":{\"anchor\":\"x\",\"domain\":[0.7875,1.0],\"title\":{\"text\":\"Heat pump: 3000 W\"},\"ticksuffix\":\"%\",\"showgrid\":true,\"gridwidth\":0.5,\"gridcolor\":\"rgb(242,242,242)\",\"range\":[0,20]},\"xaxis2\":{\"anchor\":\"y2\",\"domain\":[0.35,0.6499999999999999],\"showgrid\":true,\"gridwidth\":0.5,\"gridcolor\":\"rgb(242,242,242)\",\"range\":[-200,20200]},\"yaxis2\":{\"anchor\":\"x2\",\"domain\":[0.7875,1.0],\"matches\":\"y\",\"showticklabels\":false,\"showgrid\":true,\"gridwidth\":0.5,\"gridcolor\":\"rgb(242,242,242)\",\"range\":[0,20]},\"xaxis3\":{\"anchor\":\"y3\",\"domain\":[0.7,1.0],\"showgrid\":true,\"gridwidth\":0.5,\"gridcolor\":\"rgb(242,242,242)\",\"range\":[-200,20200]},\"yaxis3\":{\"anchor\":\"x3\",\"domain\":[0.7875,1.0],\"matches\":\"y\",\"showticklabels\":false,\"showgrid\":true,\"gridwidth\":0.5,\"gridcolor\":\"rgb(242,242,242)\",\"range\":[0,20]},\"xaxis4\":{\"anchor\":\"y4\",\"domain\":[0.0,0.3],\"showgrid\":true,\"gridwidth\":0.5,\"gridcolor\":\"rgb(242,242,242)\",\"range\":[-200,20200]},\"yaxis4\":{\"anchor\":\"x4\",\"domain\":[0.525,0.7375],\"title\":{\"text\":\"Heat pump: 5000 W\"},\"ticksuffix\":\"%\",\"showgrid\":true,\"gridwidth\":0.5,\"gridcolor\":\"rgb(242,242,242)\",\"range\":[0,20]},\"xaxis5\":{\"anchor\":\"y5\",\"domain\":[0.35,0.6499999999999999],\"showgrid\":true,\"gridwidth\":0.5,\"gridcolor\":\"rgb(242,242,242)\",\"range\":[-200,20200]},\"yaxis5\":{\"anchor\":\"x5\",\"domain\":[0.525,0.7375],\"matches\":\"y4\",\"showticklabels\":false,\"showgrid\":true,\"gridwidth\":0.5,\"gridcolor\":\"rgb(242,242,242)\",\"range\":[0,20]},\"xaxis6\":{\"anchor\":\"y6\",\"domain\":[0.7,1.0],\"showgrid\":true,\"gridwidth\":0.5,\"gridcolor\":\"rgb(242,242,242)\",\"range\":[-200,20200]},\"yaxis6\":{\"anchor\":\"x6\",\"domain\":[0.525,0.7375],\"matches\":\"y4\",\"showticklabels\":false,\"showgrid\":true,\"gridwidth\":0.5,\"gridcolor\":\"rgb(242,242,242)\",\"range\":[0,20]},\"xaxis7\":{\"anchor\":\"y7\",\"domain\":[0.0,0.3],\"showgrid\":true,\"gridwidth\":0.5,\"gridcolor\":\"rgb(242,242,242)\",\"range\":[-200,20200]},\"yaxis7\":{\"anchor\":\"x7\",\"domain\":[0.2625,0.475],\"title\":{\"text\":\"Heat pump: 7000 W\"},\"ticksuffix\":\"%\",\"showgrid\":true,\"gridwidth\":0.5,\"gridcolor\":\"rgb(242,242,242)\",\"range\":[0,20]},\"xaxis8\":{\"anchor\":\"y8\",\"domain\":[0.35,0.6499999999999999],\"showgrid\":true,\"gridwidth\":0.5,\"gridcolor\":\"rgb(242,242,242)\",\"range\":[-200,20200]},\"yaxis8\":{\"anchor\":\"x8\",\"domain\":[0.2625,0.475],\"matches\":\"y7\",\"showticklabels\":false,\"showgrid\":true,\"gridwidth\":0.5,\"gridcolor\":\"rgb(242,242,242)\",\"range\":[0,20]},\"xaxis9\":{\"anchor\":\"y9\",\"domain\":[0.7,1.0],\"showgrid\":true,\"gridwidth\":0.5,\"gridcolor\":\"rgb(242,242,242)\",\"range\":[-200,20200]},\"yaxis9\":{\"anchor\":\"x9\",\"domain\":[0.2625,0.475],\"matches\":\"y7\",\"showticklabels\":false,\"showgrid\":true,\"gridwidth\":0.5,\"gridcolor\":\"rgb(242,242,242)\",\"range\":[0,20]},\"xaxis10\":{\"anchor\":\"y10\",\"domain\":[0.0,0.3],\"showgrid\":true,\"gridwidth\":0.5,\"gridcolor\":\"rgb(242,242,242)\",\"range\":[-200,20200]},\"yaxis10\":{\"anchor\":\"x10\",\"domain\":[0.0,0.2125],\"title\":{\"text\":\"Heat pump: 10000 W\"},\"ticksuffix\":\"%\",\"showgrid\":true,\"gridwidth\":0.5,\"gridcolor\":\"rgb(242,242,242)\",\"range\":[0,20]},\"xaxis11\":{\"anchor\":\"y11\",\"domain\":[0.35,0.6499999999999999],\"showgrid\":true,\"gridwidth\":0.5,\"gridcolor\":\"rgb(242,242,242)\",\"range\":[-200,20200]},\"yaxis11\":{\"anchor\":\"x11\",\"domain\":[0.0,0.2125],\"matches\":\"y10\",\"showticklabels\":false,\"showgrid\":true,\"gridwidth\":0.5,\"gridcolor\":\"rgb(242,242,242)\",\"range\":[0,20]},\"xaxis12\":{\"anchor\":\"y12\",\"domain\":[0.7,1.0],\"showgrid\":true,\"gridwidth\":0.5,\"gridcolor\":\"rgb(242,242,242)\",\"range\":[-200,20200]},\"yaxis12\":{\"anchor\":\"x12\",\"domain\":[0.0,0.2125],\"matches\":\"y10\",\"showticklabels\":false,\"showgrid\":true,\"gridwidth\":0.5,\"gridcolor\":\"rgb(242,242,242)\",\"range\":[0,20]},\"annotations\":[{\"font\":{\"size\":16},\"showarrow\":false,\"text\":\"House: 350 W/K\",\"x\":0.15,\"xanchor\":\"center\",\"xref\":\"paper\",\"y\":1.0,\"yanchor\":\"bottom\",\"yref\":\"paper\"},{\"font\":{\"size\":16},\"showarrow\":false,\"text\":\"House: 200 W/K\",\"x\":0.49999999999999994,\"xanchor\":\"center\",\"xref\":\"paper\",\"y\":1.0,\"yanchor\":\"bottom\",\"yref\":\"paper\"},{\"font\":{\"size\":16},\"showarrow\":false,\"text\":\"House: 150 W/K\",\"x\":0.85,\"xanchor\":\"center\",\"xref\":\"paper\",\"y\":1.0,\"yanchor\":\"bottom\",\"yref\":\"paper\"},{\"font\":{\"size\":16},\"showarrow\":false,\"text\":\"Storage volume in litres\",\"x\":0.5,\"xanchor\":\"center\",\"xref\":\"paper\",\"y\":0,\"yanchor\":\"top\",\"yref\":\"paper\",\"yshift\":-30}],\"showlegend\":false,\"height\":1200,\"width\":1200,\"plot_bgcolor\":\"white\"},                        {\"responsive\": true}                    ).then(function(){\n                            \nvar gd = document.getElementById('e2226573-94e3-41b9-aebf-252e20a45d4c');\nvar x = new MutationObserver(function (mutations, observer) {{\n        var display = window.getComputedStyle(gd).display;\n        if (!display || display === 'none') {{\n            console.log([gd, 'removed!']);\n            Plotly.purge(gd);\n            observer.disconnect();\n        }}\n}});\n\n// Listen for the removal of the full notebook cells\nvar notebookContainer = gd.closest('#notebook-container');\nif (notebookContainer) {{\n    x.observe(notebookContainer, {childList: true});\n}}\n\n// Listen for the clearing of the current output cell\nvar outputEl = gd.closest('.output');\nif (outputEl) {{\n    x.observe(outputEl, {childList: true});\n}}\n\n                        })                };                });            </script>        </div>"
     },
     "metadata": {},
     "output_type": "display_data"
    },
    {
     "name": "stdout",
     "output_type": "stream",
     "text": [
      "location:  Oberstdorf\n"
     ]
    },
    {
     "data": {
      "application/vnd.plotly.v1+json": {
       "data": [
        {
         "type": "scatter",
         "xaxis": "x",
         "yaxis": "y"
        },
        {
         "marker": {
          "color": "darkblue"
         },
         "x": [
          100,
          300,
          600,
          1000,
          2000,
          3000,
          5000,
          8000,
          12000,
          20000
         ],
         "y": [
          0.0896260457649567,
          0.8355416405197214,
          2.5102591124649853,
          4.802702363806544,
          8.907373427836863,
          10.678583116567575,
          11.204690922197901,
          11.304900886411984,
          11.332220336303866,
          11.35156129134911
         ],
         "type": "scatter",
         "xaxis": "x2",
         "yaxis": "y2"
        },
        {
         "marker": {
          "color": "darkblue"
         },
         "x": [
          100,
          300,
          600,
          1000,
          2000,
          3000,
          5000,
          8000,
          12000,
          20000
         ],
         "y": [
          0.058830577801449735,
          0.7654394845254542,
          2.1102450370197867,
          4.1601993196549,
          8.73950042950742,
          11.889332565137256,
          15.284615171824933,
          16.569099633433293,
          16.84108394209457,
          16.861228659438343
         ],
         "type": "scatter",
         "xaxis": "x3",
         "yaxis": "y3"
        },
        {
         "type": "scatter",
         "xaxis": "x4",
         "yaxis": "y4"
        },
        {
         "marker": {
          "color": "darkblue"
         },
         "x": [
          100,
          300,
          600,
          1000,
          2000,
          3000,
          5000,
          8000,
          12000,
          20000
         ],
         "y": [
          0.08519526347241513,
          0.8340983232840604,
          2.5623803865453487,
          4.989573362494493,
          9.794949605604808,
          11.973543288174959,
          12.653150530651336,
          12.796663672423103,
          12.827575095137123,
          12.849660559323118
         ],
         "type": "scatter",
         "xaxis": "x5",
         "yaxis": "y5"
        },
        {
         "marker": {
          "color": "darkblue"
         },
         "x": [
          100,
          300,
          600,
          1000,
          2000,
          3000,
          5000,
          8000,
          12000,
          20000
         ],
         "y": [
          0.053391265443203384,
          0.7722178905173016,
          2.1445462264572557,
          4.230266888002565,
          9.020748287842418,
          12.444227734976831,
          16.341475259841076,
          17.836591004570845,
          18.159145377408525,
          18.181699921383977
         ],
         "type": "scatter",
         "xaxis": "x6",
         "yaxis": "y6"
        },
        {
         "marker": {
          "color": "darkblue"
         },
         "x": [
          100,
          300,
          600,
          1000,
          2000,
          3000,
          5000,
          8000,
          12000,
          20000
         ],
         "y": [
          0.01647272798406263,
          0.5433171213772736,
          1.4535175744860962,
          3.1197011901368032,
          6.720353221905562,
          8.83256219448959,
          9.712785039830896,
          9.918202945880306,
          9.950389570079166,
          9.974721528507501
         ],
         "type": "scatter",
         "xaxis": "x7",
         "yaxis": "y7"
        },
        {
         "marker": {
          "color": "darkblue"
         },
         "x": [
          100,
          300,
          600,
          1000,
          2000,
          3000,
          5000,
          8000,
          12000,
          20000
         ],
         "y": [
          0.08677360586129002,
          0.8199531207496724,
          2.563279490628012,
          5.063107231048414,
          10.376884976429867,
          13.037938624239187,
          13.885755301773873,
          14.04323048179048,
          14.075654913697644,
          14.100120089017821
         ],
         "type": "scatter",
         "xaxis": "x8",
         "yaxis": "y8"
        },
        {
         "marker": {
          "color": "darkblue"
         },
         "x": [
          100,
          300,
          600,
          1000,
          2000,
          3000,
          5000,
          8000,
          12000,
          20000
         ],
         "y": [
          0.05913316803838331,
          0.7623046654155141,
          2.155686259273082,
          4.268395641030686,
          9.179240292566803,
          12.812202414869056,
          17.107924894535465,
          18.85076269423981,
          19.202597008745535,
          19.22583177358711
         ],
         "type": "scatter",
         "xaxis": "x9",
         "yaxis": "y9"
        }
       ],
       "layout": {
        "template": {
         "data": {
          "bar": [
           {
            "error_x": {
             "color": "#2a3f5f"
            },
            "error_y": {
             "color": "#2a3f5f"
            },
            "marker": {
             "line": {
              "color": "#E5ECF6",
              "width": 0.5
             },
             "pattern": {
              "fillmode": "overlay",
              "size": 10,
              "solidity": 0.2
             }
            },
            "type": "bar"
           }
          ],
          "barpolar": [
           {
            "marker": {
             "line": {
              "color": "#E5ECF6",
              "width": 0.5
             },
             "pattern": {
              "fillmode": "overlay",
              "size": 10,
              "solidity": 0.2
             }
            },
            "type": "barpolar"
           }
          ],
          "carpet": [
           {
            "aaxis": {
             "endlinecolor": "#2a3f5f",
             "gridcolor": "white",
             "linecolor": "white",
             "minorgridcolor": "white",
             "startlinecolor": "#2a3f5f"
            },
            "baxis": {
             "endlinecolor": "#2a3f5f",
             "gridcolor": "white",
             "linecolor": "white",
             "minorgridcolor": "white",
             "startlinecolor": "#2a3f5f"
            },
            "type": "carpet"
           }
          ],
          "choropleth": [
           {
            "colorbar": {
             "outlinewidth": 0,
             "ticks": ""
            },
            "type": "choropleth"
           }
          ],
          "contour": [
           {
            "colorbar": {
             "outlinewidth": 0,
             "ticks": ""
            },
            "colorscale": [
             [
              0.0,
              "#0d0887"
             ],
             [
              0.1111111111111111,
              "#46039f"
             ],
             [
              0.2222222222222222,
              "#7201a8"
             ],
             [
              0.3333333333333333,
              "#9c179e"
             ],
             [
              0.4444444444444444,
              "#bd3786"
             ],
             [
              0.5555555555555556,
              "#d8576b"
             ],
             [
              0.6666666666666666,
              "#ed7953"
             ],
             [
              0.7777777777777778,
              "#fb9f3a"
             ],
             [
              0.8888888888888888,
              "#fdca26"
             ],
             [
              1.0,
              "#f0f921"
             ]
            ],
            "type": "contour"
           }
          ],
          "contourcarpet": [
           {
            "colorbar": {
             "outlinewidth": 0,
             "ticks": ""
            },
            "type": "contourcarpet"
           }
          ],
          "heatmap": [
           {
            "colorbar": {
             "outlinewidth": 0,
             "ticks": ""
            },
            "colorscale": [
             [
              0.0,
              "#0d0887"
             ],
             [
              0.1111111111111111,
              "#46039f"
             ],
             [
              0.2222222222222222,
              "#7201a8"
             ],
             [
              0.3333333333333333,
              "#9c179e"
             ],
             [
              0.4444444444444444,
              "#bd3786"
             ],
             [
              0.5555555555555556,
              "#d8576b"
             ],
             [
              0.6666666666666666,
              "#ed7953"
             ],
             [
              0.7777777777777778,
              "#fb9f3a"
             ],
             [
              0.8888888888888888,
              "#fdca26"
             ],
             [
              1.0,
              "#f0f921"
             ]
            ],
            "type": "heatmap"
           }
          ],
          "heatmapgl": [
           {
            "colorbar": {
             "outlinewidth": 0,
             "ticks": ""
            },
            "colorscale": [
             [
              0.0,
              "#0d0887"
             ],
             [
              0.1111111111111111,
              "#46039f"
             ],
             [
              0.2222222222222222,
              "#7201a8"
             ],
             [
              0.3333333333333333,
              "#9c179e"
             ],
             [
              0.4444444444444444,
              "#bd3786"
             ],
             [
              0.5555555555555556,
              "#d8576b"
             ],
             [
              0.6666666666666666,
              "#ed7953"
             ],
             [
              0.7777777777777778,
              "#fb9f3a"
             ],
             [
              0.8888888888888888,
              "#fdca26"
             ],
             [
              1.0,
              "#f0f921"
             ]
            ],
            "type": "heatmapgl"
           }
          ],
          "histogram": [
           {
            "marker": {
             "pattern": {
              "fillmode": "overlay",
              "size": 10,
              "solidity": 0.2
             }
            },
            "type": "histogram"
           }
          ],
          "histogram2d": [
           {
            "colorbar": {
             "outlinewidth": 0,
             "ticks": ""
            },
            "colorscale": [
             [
              0.0,
              "#0d0887"
             ],
             [
              0.1111111111111111,
              "#46039f"
             ],
             [
              0.2222222222222222,
              "#7201a8"
             ],
             [
              0.3333333333333333,
              "#9c179e"
             ],
             [
              0.4444444444444444,
              "#bd3786"
             ],
             [
              0.5555555555555556,
              "#d8576b"
             ],
             [
              0.6666666666666666,
              "#ed7953"
             ],
             [
              0.7777777777777778,
              "#fb9f3a"
             ],
             [
              0.8888888888888888,
              "#fdca26"
             ],
             [
              1.0,
              "#f0f921"
             ]
            ],
            "type": "histogram2d"
           }
          ],
          "histogram2dcontour": [
           {
            "colorbar": {
             "outlinewidth": 0,
             "ticks": ""
            },
            "colorscale": [
             [
              0.0,
              "#0d0887"
             ],
             [
              0.1111111111111111,
              "#46039f"
             ],
             [
              0.2222222222222222,
              "#7201a8"
             ],
             [
              0.3333333333333333,
              "#9c179e"
             ],
             [
              0.4444444444444444,
              "#bd3786"
             ],
             [
              0.5555555555555556,
              "#d8576b"
             ],
             [
              0.6666666666666666,
              "#ed7953"
             ],
             [
              0.7777777777777778,
              "#fb9f3a"
             ],
             [
              0.8888888888888888,
              "#fdca26"
             ],
             [
              1.0,
              "#f0f921"
             ]
            ],
            "type": "histogram2dcontour"
           }
          ],
          "mesh3d": [
           {
            "colorbar": {
             "outlinewidth": 0,
             "ticks": ""
            },
            "type": "mesh3d"
           }
          ],
          "parcoords": [
           {
            "line": {
             "colorbar": {
              "outlinewidth": 0,
              "ticks": ""
             }
            },
            "type": "parcoords"
           }
          ],
          "pie": [
           {
            "automargin": true,
            "type": "pie"
           }
          ],
          "scatter": [
           {
            "marker": {
             "colorbar": {
              "outlinewidth": 0,
              "ticks": ""
             }
            },
            "type": "scatter"
           }
          ],
          "scatter3d": [
           {
            "line": {
             "colorbar": {
              "outlinewidth": 0,
              "ticks": ""
             }
            },
            "marker": {
             "colorbar": {
              "outlinewidth": 0,
              "ticks": ""
             }
            },
            "type": "scatter3d"
           }
          ],
          "scattercarpet": [
           {
            "marker": {
             "colorbar": {
              "outlinewidth": 0,
              "ticks": ""
             }
            },
            "type": "scattercarpet"
           }
          ],
          "scattergeo": [
           {
            "marker": {
             "colorbar": {
              "outlinewidth": 0,
              "ticks": ""
             }
            },
            "type": "scattergeo"
           }
          ],
          "scattergl": [
           {
            "marker": {
             "colorbar": {
              "outlinewidth": 0,
              "ticks": ""
             }
            },
            "type": "scattergl"
           }
          ],
          "scattermapbox": [
           {
            "marker": {
             "colorbar": {
              "outlinewidth": 0,
              "ticks": ""
             }
            },
            "type": "scattermapbox"
           }
          ],
          "scatterpolar": [
           {
            "marker": {
             "colorbar": {
              "outlinewidth": 0,
              "ticks": ""
             }
            },
            "type": "scatterpolar"
           }
          ],
          "scatterpolargl": [
           {
            "marker": {
             "colorbar": {
              "outlinewidth": 0,
              "ticks": ""
             }
            },
            "type": "scatterpolargl"
           }
          ],
          "scatterternary": [
           {
            "marker": {
             "colorbar": {
              "outlinewidth": 0,
              "ticks": ""
             }
            },
            "type": "scatterternary"
           }
          ],
          "surface": [
           {
            "colorbar": {
             "outlinewidth": 0,
             "ticks": ""
            },
            "colorscale": [
             [
              0.0,
              "#0d0887"
             ],
             [
              0.1111111111111111,
              "#46039f"
             ],
             [
              0.2222222222222222,
              "#7201a8"
             ],
             [
              0.3333333333333333,
              "#9c179e"
             ],
             [
              0.4444444444444444,
              "#bd3786"
             ],
             [
              0.5555555555555556,
              "#d8576b"
             ],
             [
              0.6666666666666666,
              "#ed7953"
             ],
             [
              0.7777777777777778,
              "#fb9f3a"
             ],
             [
              0.8888888888888888,
              "#fdca26"
             ],
             [
              1.0,
              "#f0f921"
             ]
            ],
            "type": "surface"
           }
          ],
          "table": [
           {
            "cells": {
             "fill": {
              "color": "#EBF0F8"
             },
             "line": {
              "color": "white"
             }
            },
            "header": {
             "fill": {
              "color": "#C8D4E3"
             },
             "line": {
              "color": "white"
             }
            },
            "type": "table"
           }
          ]
         },
         "layout": {
          "annotationdefaults": {
           "arrowcolor": "#2a3f5f",
           "arrowhead": 0,
           "arrowwidth": 1
          },
          "autotypenumbers": "strict",
          "coloraxis": {
           "colorbar": {
            "outlinewidth": 0,
            "ticks": ""
           }
          },
          "colorscale": {
           "diverging": [
            [
             0,
             "#8e0152"
            ],
            [
             0.1,
             "#c51b7d"
            ],
            [
             0.2,
             "#de77ae"
            ],
            [
             0.3,
             "#f1b6da"
            ],
            [
             0.4,
             "#fde0ef"
            ],
            [
             0.5,
             "#f7f7f7"
            ],
            [
             0.6,
             "#e6f5d0"
            ],
            [
             0.7,
             "#b8e186"
            ],
            [
             0.8,
             "#7fbc41"
            ],
            [
             0.9,
             "#4d9221"
            ],
            [
             1,
             "#276419"
            ]
           ],
           "sequential": [
            [
             0.0,
             "#0d0887"
            ],
            [
             0.1111111111111111,
             "#46039f"
            ],
            [
             0.2222222222222222,
             "#7201a8"
            ],
            [
             0.3333333333333333,
             "#9c179e"
            ],
            [
             0.4444444444444444,
             "#bd3786"
            ],
            [
             0.5555555555555556,
             "#d8576b"
            ],
            [
             0.6666666666666666,
             "#ed7953"
            ],
            [
             0.7777777777777778,
             "#fb9f3a"
            ],
            [
             0.8888888888888888,
             "#fdca26"
            ],
            [
             1.0,
             "#f0f921"
            ]
           ],
           "sequentialminus": [
            [
             0.0,
             "#0d0887"
            ],
            [
             0.1111111111111111,
             "#46039f"
            ],
            [
             0.2222222222222222,
             "#7201a8"
            ],
            [
             0.3333333333333333,
             "#9c179e"
            ],
            [
             0.4444444444444444,
             "#bd3786"
            ],
            [
             0.5555555555555556,
             "#d8576b"
            ],
            [
             0.6666666666666666,
             "#ed7953"
            ],
            [
             0.7777777777777778,
             "#fb9f3a"
            ],
            [
             0.8888888888888888,
             "#fdca26"
            ],
            [
             1.0,
             "#f0f921"
            ]
           ]
          },
          "colorway": [
           "#636efa",
           "#EF553B",
           "#00cc96",
           "#ab63fa",
           "#FFA15A",
           "#19d3f3",
           "#FF6692",
           "#B6E880",
           "#FF97FF",
           "#FECB52"
          ],
          "font": {
           "color": "#2a3f5f"
          },
          "geo": {
           "bgcolor": "white",
           "lakecolor": "white",
           "landcolor": "#E5ECF6",
           "showlakes": true,
           "showland": true,
           "subunitcolor": "white"
          },
          "hoverlabel": {
           "align": "left"
          },
          "hovermode": "closest",
          "mapbox": {
           "style": "light"
          },
          "paper_bgcolor": "white",
          "plot_bgcolor": "#E5ECF6",
          "polar": {
           "angularaxis": {
            "gridcolor": "white",
            "linecolor": "white",
            "ticks": ""
           },
           "bgcolor": "#E5ECF6",
           "radialaxis": {
            "gridcolor": "white",
            "linecolor": "white",
            "ticks": ""
           }
          },
          "scene": {
           "xaxis": {
            "backgroundcolor": "#E5ECF6",
            "gridcolor": "white",
            "gridwidth": 2,
            "linecolor": "white",
            "showbackground": true,
            "ticks": "",
            "zerolinecolor": "white"
           },
           "yaxis": {
            "backgroundcolor": "#E5ECF6",
            "gridcolor": "white",
            "gridwidth": 2,
            "linecolor": "white",
            "showbackground": true,
            "ticks": "",
            "zerolinecolor": "white"
           },
           "zaxis": {
            "backgroundcolor": "#E5ECF6",
            "gridcolor": "white",
            "gridwidth": 2,
            "linecolor": "white",
            "showbackground": true,
            "ticks": "",
            "zerolinecolor": "white"
           }
          },
          "shapedefaults": {
           "line": {
            "color": "#2a3f5f"
           }
          },
          "ternary": {
           "aaxis": {
            "gridcolor": "white",
            "linecolor": "white",
            "ticks": ""
           },
           "baxis": {
            "gridcolor": "white",
            "linecolor": "white",
            "ticks": ""
           },
           "bgcolor": "#E5ECF6",
           "caxis": {
            "gridcolor": "white",
            "linecolor": "white",
            "ticks": ""
           }
          },
          "title": {
           "x": 0.05
          },
          "xaxis": {
           "automargin": true,
           "gridcolor": "white",
           "linecolor": "white",
           "ticks": "",
           "title": {
            "standoff": 15
           },
           "zerolinecolor": "white",
           "zerolinewidth": 2
          },
          "yaxis": {
           "automargin": true,
           "gridcolor": "white",
           "linecolor": "white",
           "ticks": "",
           "title": {
            "standoff": 15
           },
           "zerolinecolor": "white",
           "zerolinewidth": 2
          }
         }
        },
        "xaxis": {
         "anchor": "y",
         "domain": [
          0.0,
          0.3
         ],
         "showgrid": true,
         "gridwidth": 0.5,
         "gridcolor": "rgb(242,242,242)",
         "range": [
          -200,
          20200
         ]
        },
        "yaxis": {
         "anchor": "x",
         "domain": [
          0.7,
          1.0
         ],
         "title": {
          "text": "Heat pump: 5000 W"
         },
         "ticksuffix": "%",
         "showgrid": true,
         "gridwidth": 0.5,
         "gridcolor": "rgb(242,242,242)",
         "range": [
          0,
          20
         ]
        },
        "xaxis2": {
         "anchor": "y2",
         "domain": [
          0.35,
          0.6499999999999999
         ],
         "showgrid": true,
         "gridwidth": 0.5,
         "gridcolor": "rgb(242,242,242)",
         "range": [
          -200,
          20200
         ]
        },
        "yaxis2": {
         "anchor": "x2",
         "domain": [
          0.7,
          1.0
         ],
         "matches": "y",
         "showticklabels": false,
         "showgrid": true,
         "gridwidth": 0.5,
         "gridcolor": "rgb(242,242,242)",
         "range": [
          0,
          20
         ]
        },
        "xaxis3": {
         "anchor": "y3",
         "domain": [
          0.7,
          1.0
         ],
         "showgrid": true,
         "gridwidth": 0.5,
         "gridcolor": "rgb(242,242,242)",
         "range": [
          -200,
          20200
         ]
        },
        "yaxis3": {
         "anchor": "x3",
         "domain": [
          0.7,
          1.0
         ],
         "matches": "y",
         "showticklabels": false,
         "showgrid": true,
         "gridwidth": 0.5,
         "gridcolor": "rgb(242,242,242)",
         "range": [
          0,
          20
         ]
        },
        "xaxis4": {
         "anchor": "y4",
         "domain": [
          0.0,
          0.3
         ],
         "showgrid": true,
         "gridwidth": 0.5,
         "gridcolor": "rgb(242,242,242)",
         "range": [
          -200,
          20200
         ]
        },
        "yaxis4": {
         "anchor": "x4",
         "domain": [
          0.35,
          0.6499999999999999
         ],
         "title": {
          "text": "Heat pump: 7000 W"
         },
         "ticksuffix": "%",
         "showgrid": true,
         "gridwidth": 0.5,
         "gridcolor": "rgb(242,242,242)",
         "range": [
          0,
          20
         ]
        },
        "xaxis5": {
         "anchor": "y5",
         "domain": [
          0.35,
          0.6499999999999999
         ],
         "showgrid": true,
         "gridwidth": 0.5,
         "gridcolor": "rgb(242,242,242)",
         "range": [
          -200,
          20200
         ]
        },
        "yaxis5": {
         "anchor": "x5",
         "domain": [
          0.35,
          0.6499999999999999
         ],
         "matches": "y4",
         "showticklabels": false,
         "showgrid": true,
         "gridwidth": 0.5,
         "gridcolor": "rgb(242,242,242)",
         "range": [
          0,
          20
         ]
        },
        "xaxis6": {
         "anchor": "y6",
         "domain": [
          0.7,
          1.0
         ],
         "showgrid": true,
         "gridwidth": 0.5,
         "gridcolor": "rgb(242,242,242)",
         "range": [
          -200,
          20200
         ]
        },
        "yaxis6": {
         "anchor": "x6",
         "domain": [
          0.35,
          0.6499999999999999
         ],
         "matches": "y4",
         "showticklabels": false,
         "showgrid": true,
         "gridwidth": 0.5,
         "gridcolor": "rgb(242,242,242)",
         "range": [
          0,
          20
         ]
        },
        "xaxis7": {
         "anchor": "y7",
         "domain": [
          0.0,
          0.3
         ],
         "showgrid": true,
         "gridwidth": 0.5,
         "gridcolor": "rgb(242,242,242)",
         "range": [
          -200,
          20200
         ]
        },
        "yaxis7": {
         "anchor": "x7",
         "domain": [
          0.0,
          0.3
         ],
         "title": {
          "text": "Heat pump: 10000 W"
         },
         "ticksuffix": "%",
         "showgrid": true,
         "gridwidth": 0.5,
         "gridcolor": "rgb(242,242,242)",
         "range": [
          0,
          20
         ]
        },
        "xaxis8": {
         "anchor": "y8",
         "domain": [
          0.35,
          0.6499999999999999
         ],
         "showgrid": true,
         "gridwidth": 0.5,
         "gridcolor": "rgb(242,242,242)",
         "range": [
          -200,
          20200
         ]
        },
        "yaxis8": {
         "anchor": "x8",
         "domain": [
          0.0,
          0.3
         ],
         "matches": "y7",
         "showticklabels": false,
         "showgrid": true,
         "gridwidth": 0.5,
         "gridcolor": "rgb(242,242,242)",
         "range": [
          0,
          20
         ]
        },
        "xaxis9": {
         "anchor": "y9",
         "domain": [
          0.7,
          1.0
         ],
         "showgrid": true,
         "gridwidth": 0.5,
         "gridcolor": "rgb(242,242,242)",
         "range": [
          -200,
          20200
         ]
        },
        "yaxis9": {
         "anchor": "x9",
         "domain": [
          0.0,
          0.3
         ],
         "matches": "y7",
         "showticklabels": false,
         "showgrid": true,
         "gridwidth": 0.5,
         "gridcolor": "rgb(242,242,242)",
         "range": [
          0,
          20
         ]
        },
        "annotations": [
         {
          "font": {
           "size": 16
          },
          "showarrow": false,
          "text": "House: 350 W/K",
          "x": 0.15,
          "xanchor": "center",
          "xref": "paper",
          "y": 1.0,
          "yanchor": "bottom",
          "yref": "paper"
         },
         {
          "font": {
           "size": 16
          },
          "showarrow": false,
          "text": "House: 200 W/K",
          "x": 0.49999999999999994,
          "xanchor": "center",
          "xref": "paper",
          "y": 1.0,
          "yanchor": "bottom",
          "yref": "paper"
         },
         {
          "font": {
           "size": 16
          },
          "showarrow": false,
          "text": "House: 150 W/K",
          "x": 0.85,
          "xanchor": "center",
          "xref": "paper",
          "y": 1.0,
          "yanchor": "bottom",
          "yref": "paper"
         },
         {
          "font": {
           "size": 16
          },
          "showarrow": false,
          "text": "Storage volume in litres",
          "x": 0.5,
          "xanchor": "center",
          "xref": "paper",
          "y": 0,
          "yanchor": "top",
          "yref": "paper",
          "yshift": -30
         }
        ],
        "showlegend": false,
        "height": 900,
        "width": 1200,
        "plot_bgcolor": "white"
       },
       "config": {
        "plotlyServerURL": "https://plot.ly"
       }
      },
      "text/html": "<div>                            <div id=\"7ab4343c-0abc-4fbd-8d2b-3c8ef83301ac\" class=\"plotly-graph-div\" style=\"height:900px; width:1200px;\"></div>            <script type=\"text/javascript\">                require([\"plotly\"], function(Plotly) {                    window.PLOTLYENV=window.PLOTLYENV || {};                                    if (document.getElementById(\"7ab4343c-0abc-4fbd-8d2b-3c8ef83301ac\")) {                    Plotly.newPlot(                        \"7ab4343c-0abc-4fbd-8d2b-3c8ef83301ac\",                        [{\"type\":\"scatter\",\"xaxis\":\"x\",\"yaxis\":\"y\"},{\"marker\":{\"color\":\"darkblue\"},\"x\":[100,300,600,1000,2000,3000,5000,8000,12000,20000],\"y\":[0.0896260457649567,0.8355416405197214,2.5102591124649853,4.802702363806544,8.907373427836863,10.678583116567575,11.204690922197901,11.304900886411984,11.332220336303866,11.35156129134911],\"type\":\"scatter\",\"xaxis\":\"x2\",\"yaxis\":\"y2\"},{\"marker\":{\"color\":\"darkblue\"},\"x\":[100,300,600,1000,2000,3000,5000,8000,12000,20000],\"y\":[0.058830577801449735,0.7654394845254542,2.1102450370197867,4.1601993196549,8.73950042950742,11.889332565137256,15.284615171824933,16.569099633433293,16.84108394209457,16.861228659438343],\"type\":\"scatter\",\"xaxis\":\"x3\",\"yaxis\":\"y3\"},{\"type\":\"scatter\",\"xaxis\":\"x4\",\"yaxis\":\"y4\"},{\"marker\":{\"color\":\"darkblue\"},\"x\":[100,300,600,1000,2000,3000,5000,8000,12000,20000],\"y\":[0.08519526347241513,0.8340983232840604,2.5623803865453487,4.989573362494493,9.794949605604808,11.973543288174959,12.653150530651336,12.796663672423103,12.827575095137123,12.849660559323118],\"type\":\"scatter\",\"xaxis\":\"x5\",\"yaxis\":\"y5\"},{\"marker\":{\"color\":\"darkblue\"},\"x\":[100,300,600,1000,2000,3000,5000,8000,12000,20000],\"y\":[0.053391265443203384,0.7722178905173016,2.1445462264572557,4.230266888002565,9.020748287842418,12.444227734976831,16.341475259841076,17.836591004570845,18.159145377408525,18.181699921383977],\"type\":\"scatter\",\"xaxis\":\"x6\",\"yaxis\":\"y6\"},{\"marker\":{\"color\":\"darkblue\"},\"x\":[100,300,600,1000,2000,3000,5000,8000,12000,20000],\"y\":[0.01647272798406263,0.5433171213772736,1.4535175744860962,3.1197011901368032,6.720353221905562,8.83256219448959,9.712785039830896,9.918202945880306,9.950389570079166,9.974721528507501],\"type\":\"scatter\",\"xaxis\":\"x7\",\"yaxis\":\"y7\"},{\"marker\":{\"color\":\"darkblue\"},\"x\":[100,300,600,1000,2000,3000,5000,8000,12000,20000],\"y\":[0.08677360586129002,0.8199531207496724,2.563279490628012,5.063107231048414,10.376884976429867,13.037938624239187,13.885755301773873,14.04323048179048,14.075654913697644,14.100120089017821],\"type\":\"scatter\",\"xaxis\":\"x8\",\"yaxis\":\"y8\"},{\"marker\":{\"color\":\"darkblue\"},\"x\":[100,300,600,1000,2000,3000,5000,8000,12000,20000],\"y\":[0.05913316803838331,0.7623046654155141,2.155686259273082,4.268395641030686,9.179240292566803,12.812202414869056,17.107924894535465,18.85076269423981,19.202597008745535,19.22583177358711],\"type\":\"scatter\",\"xaxis\":\"x9\",\"yaxis\":\"y9\"}],                        {\"template\":{\"data\":{\"bar\":[{\"error_x\":{\"color\":\"#2a3f5f\"},\"error_y\":{\"color\":\"#2a3f5f\"},\"marker\":{\"line\":{\"color\":\"#E5ECF6\",\"width\":0.5},\"pattern\":{\"fillmode\":\"overlay\",\"size\":10,\"solidity\":0.2}},\"type\":\"bar\"}],\"barpolar\":[{\"marker\":{\"line\":{\"color\":\"#E5ECF6\",\"width\":0.5},\"pattern\":{\"fillmode\":\"overlay\",\"size\":10,\"solidity\":0.2}},\"type\":\"barpolar\"}],\"carpet\":[{\"aaxis\":{\"endlinecolor\":\"#2a3f5f\",\"gridcolor\":\"white\",\"linecolor\":\"white\",\"minorgridcolor\":\"white\",\"startlinecolor\":\"#2a3f5f\"},\"baxis\":{\"endlinecolor\":\"#2a3f5f\",\"gridcolor\":\"white\",\"linecolor\":\"white\",\"minorgridcolor\":\"white\",\"startlinecolor\":\"#2a3f5f\"},\"type\":\"carpet\"}],\"choropleth\":[{\"colorbar\":{\"outlinewidth\":0,\"ticks\":\"\"},\"type\":\"choropleth\"}],\"contour\":[{\"colorbar\":{\"outlinewidth\":0,\"ticks\":\"\"},\"colorscale\":[[0.0,\"#0d0887\"],[0.1111111111111111,\"#46039f\"],[0.2222222222222222,\"#7201a8\"],[0.3333333333333333,\"#9c179e\"],[0.4444444444444444,\"#bd3786\"],[0.5555555555555556,\"#d8576b\"],[0.6666666666666666,\"#ed7953\"],[0.7777777777777778,\"#fb9f3a\"],[0.8888888888888888,\"#fdca26\"],[1.0,\"#f0f921\"]],\"type\":\"contour\"}],\"contourcarpet\":[{\"colorbar\":{\"outlinewidth\":0,\"ticks\":\"\"},\"type\":\"contourcarpet\"}],\"heatmap\":[{\"colorbar\":{\"outlinewidth\":0,\"ticks\":\"\"},\"colorscale\":[[0.0,\"#0d0887\"],[0.1111111111111111,\"#46039f\"],[0.2222222222222222,\"#7201a8\"],[0.3333333333333333,\"#9c179e\"],[0.4444444444444444,\"#bd3786\"],[0.5555555555555556,\"#d8576b\"],[0.6666666666666666,\"#ed7953\"],[0.7777777777777778,\"#fb9f3a\"],[0.8888888888888888,\"#fdca26\"],[1.0,\"#f0f921\"]],\"type\":\"heatmap\"}],\"heatmapgl\":[{\"colorbar\":{\"outlinewidth\":0,\"ticks\":\"\"},\"colorscale\":[[0.0,\"#0d0887\"],[0.1111111111111111,\"#46039f\"],[0.2222222222222222,\"#7201a8\"],[0.3333333333333333,\"#9c179e\"],[0.4444444444444444,\"#bd3786\"],[0.5555555555555556,\"#d8576b\"],[0.6666666666666666,\"#ed7953\"],[0.7777777777777778,\"#fb9f3a\"],[0.8888888888888888,\"#fdca26\"],[1.0,\"#f0f921\"]],\"type\":\"heatmapgl\"}],\"histogram\":[{\"marker\":{\"pattern\":{\"fillmode\":\"overlay\",\"size\":10,\"solidity\":0.2}},\"type\":\"histogram\"}],\"histogram2d\":[{\"colorbar\":{\"outlinewidth\":0,\"ticks\":\"\"},\"colorscale\":[[0.0,\"#0d0887\"],[0.1111111111111111,\"#46039f\"],[0.2222222222222222,\"#7201a8\"],[0.3333333333333333,\"#9c179e\"],[0.4444444444444444,\"#bd3786\"],[0.5555555555555556,\"#d8576b\"],[0.6666666666666666,\"#ed7953\"],[0.7777777777777778,\"#fb9f3a\"],[0.8888888888888888,\"#fdca26\"],[1.0,\"#f0f921\"]],\"type\":\"histogram2d\"}],\"histogram2dcontour\":[{\"colorbar\":{\"outlinewidth\":0,\"ticks\":\"\"},\"colorscale\":[[0.0,\"#0d0887\"],[0.1111111111111111,\"#46039f\"],[0.2222222222222222,\"#7201a8\"],[0.3333333333333333,\"#9c179e\"],[0.4444444444444444,\"#bd3786\"],[0.5555555555555556,\"#d8576b\"],[0.6666666666666666,\"#ed7953\"],[0.7777777777777778,\"#fb9f3a\"],[0.8888888888888888,\"#fdca26\"],[1.0,\"#f0f921\"]],\"type\":\"histogram2dcontour\"}],\"mesh3d\":[{\"colorbar\":{\"outlinewidth\":0,\"ticks\":\"\"},\"type\":\"mesh3d\"}],\"parcoords\":[{\"line\":{\"colorbar\":{\"outlinewidth\":0,\"ticks\":\"\"}},\"type\":\"parcoords\"}],\"pie\":[{\"automargin\":true,\"type\":\"pie\"}],\"scatter\":[{\"marker\":{\"colorbar\":{\"outlinewidth\":0,\"ticks\":\"\"}},\"type\":\"scatter\"}],\"scatter3d\":[{\"line\":{\"colorbar\":{\"outlinewidth\":0,\"ticks\":\"\"}},\"marker\":{\"colorbar\":{\"outlinewidth\":0,\"ticks\":\"\"}},\"type\":\"scatter3d\"}],\"scattercarpet\":[{\"marker\":{\"colorbar\":{\"outlinewidth\":0,\"ticks\":\"\"}},\"type\":\"scattercarpet\"}],\"scattergeo\":[{\"marker\":{\"colorbar\":{\"outlinewidth\":0,\"ticks\":\"\"}},\"type\":\"scattergeo\"}],\"scattergl\":[{\"marker\":{\"colorbar\":{\"outlinewidth\":0,\"ticks\":\"\"}},\"type\":\"scattergl\"}],\"scattermapbox\":[{\"marker\":{\"colorbar\":{\"outlinewidth\":0,\"ticks\":\"\"}},\"type\":\"scattermapbox\"}],\"scatterpolar\":[{\"marker\":{\"colorbar\":{\"outlinewidth\":0,\"ticks\":\"\"}},\"type\":\"scatterpolar\"}],\"scatterpolargl\":[{\"marker\":{\"colorbar\":{\"outlinewidth\":0,\"ticks\":\"\"}},\"type\":\"scatterpolargl\"}],\"scatterternary\":[{\"marker\":{\"colorbar\":{\"outlinewidth\":0,\"ticks\":\"\"}},\"type\":\"scatterternary\"}],\"surface\":[{\"colorbar\":{\"outlinewidth\":0,\"ticks\":\"\"},\"colorscale\":[[0.0,\"#0d0887\"],[0.1111111111111111,\"#46039f\"],[0.2222222222222222,\"#7201a8\"],[0.3333333333333333,\"#9c179e\"],[0.4444444444444444,\"#bd3786\"],[0.5555555555555556,\"#d8576b\"],[0.6666666666666666,\"#ed7953\"],[0.7777777777777778,\"#fb9f3a\"],[0.8888888888888888,\"#fdca26\"],[1.0,\"#f0f921\"]],\"type\":\"surface\"}],\"table\":[{\"cells\":{\"fill\":{\"color\":\"#EBF0F8\"},\"line\":{\"color\":\"white\"}},\"header\":{\"fill\":{\"color\":\"#C8D4E3\"},\"line\":{\"color\":\"white\"}},\"type\":\"table\"}]},\"layout\":{\"annotationdefaults\":{\"arrowcolor\":\"#2a3f5f\",\"arrowhead\":0,\"arrowwidth\":1},\"autotypenumbers\":\"strict\",\"coloraxis\":{\"colorbar\":{\"outlinewidth\":0,\"ticks\":\"\"}},\"colorscale\":{\"diverging\":[[0,\"#8e0152\"],[0.1,\"#c51b7d\"],[0.2,\"#de77ae\"],[0.3,\"#f1b6da\"],[0.4,\"#fde0ef\"],[0.5,\"#f7f7f7\"],[0.6,\"#e6f5d0\"],[0.7,\"#b8e186\"],[0.8,\"#7fbc41\"],[0.9,\"#4d9221\"],[1,\"#276419\"]],\"sequential\":[[0.0,\"#0d0887\"],[0.1111111111111111,\"#46039f\"],[0.2222222222222222,\"#7201a8\"],[0.3333333333333333,\"#9c179e\"],[0.4444444444444444,\"#bd3786\"],[0.5555555555555556,\"#d8576b\"],[0.6666666666666666,\"#ed7953\"],[0.7777777777777778,\"#fb9f3a\"],[0.8888888888888888,\"#fdca26\"],[1.0,\"#f0f921\"]],\"sequentialminus\":[[0.0,\"#0d0887\"],[0.1111111111111111,\"#46039f\"],[0.2222222222222222,\"#7201a8\"],[0.3333333333333333,\"#9c179e\"],[0.4444444444444444,\"#bd3786\"],[0.5555555555555556,\"#d8576b\"],[0.6666666666666666,\"#ed7953\"],[0.7777777777777778,\"#fb9f3a\"],[0.8888888888888888,\"#fdca26\"],[1.0,\"#f0f921\"]]},\"colorway\":[\"#636efa\",\"#EF553B\",\"#00cc96\",\"#ab63fa\",\"#FFA15A\",\"#19d3f3\",\"#FF6692\",\"#B6E880\",\"#FF97FF\",\"#FECB52\"],\"font\":{\"color\":\"#2a3f5f\"},\"geo\":{\"bgcolor\":\"white\",\"lakecolor\":\"white\",\"landcolor\":\"#E5ECF6\",\"showlakes\":true,\"showland\":true,\"subunitcolor\":\"white\"},\"hoverlabel\":{\"align\":\"left\"},\"hovermode\":\"closest\",\"mapbox\":{\"style\":\"light\"},\"paper_bgcolor\":\"white\",\"plot_bgcolor\":\"#E5ECF6\",\"polar\":{\"angularaxis\":{\"gridcolor\":\"white\",\"linecolor\":\"white\",\"ticks\":\"\"},\"bgcolor\":\"#E5ECF6\",\"radialaxis\":{\"gridcolor\":\"white\",\"linecolor\":\"white\",\"ticks\":\"\"}},\"scene\":{\"xaxis\":{\"backgroundcolor\":\"#E5ECF6\",\"gridcolor\":\"white\",\"gridwidth\":2,\"linecolor\":\"white\",\"showbackground\":true,\"ticks\":\"\",\"zerolinecolor\":\"white\"},\"yaxis\":{\"backgroundcolor\":\"#E5ECF6\",\"gridcolor\":\"white\",\"gridwidth\":2,\"linecolor\":\"white\",\"showbackground\":true,\"ticks\":\"\",\"zerolinecolor\":\"white\"},\"zaxis\":{\"backgroundcolor\":\"#E5ECF6\",\"gridcolor\":\"white\",\"gridwidth\":2,\"linecolor\":\"white\",\"showbackground\":true,\"ticks\":\"\",\"zerolinecolor\":\"white\"}},\"shapedefaults\":{\"line\":{\"color\":\"#2a3f5f\"}},\"ternary\":{\"aaxis\":{\"gridcolor\":\"white\",\"linecolor\":\"white\",\"ticks\":\"\"},\"baxis\":{\"gridcolor\":\"white\",\"linecolor\":\"white\",\"ticks\":\"\"},\"bgcolor\":\"#E5ECF6\",\"caxis\":{\"gridcolor\":\"white\",\"linecolor\":\"white\",\"ticks\":\"\"}},\"title\":{\"x\":0.05},\"xaxis\":{\"automargin\":true,\"gridcolor\":\"white\",\"linecolor\":\"white\",\"ticks\":\"\",\"title\":{\"standoff\":15},\"zerolinecolor\":\"white\",\"zerolinewidth\":2},\"yaxis\":{\"automargin\":true,\"gridcolor\":\"white\",\"linecolor\":\"white\",\"ticks\":\"\",\"title\":{\"standoff\":15},\"zerolinecolor\":\"white\",\"zerolinewidth\":2}}},\"xaxis\":{\"anchor\":\"y\",\"domain\":[0.0,0.3],\"showgrid\":true,\"gridwidth\":0.5,\"gridcolor\":\"rgb(242,242,242)\",\"range\":[-200,20200]},\"yaxis\":{\"anchor\":\"x\",\"domain\":[0.7,1.0],\"title\":{\"text\":\"Heat pump: 5000 W\"},\"ticksuffix\":\"%\",\"showgrid\":true,\"gridwidth\":0.5,\"gridcolor\":\"rgb(242,242,242)\",\"range\":[0,20]},\"xaxis2\":{\"anchor\":\"y2\",\"domain\":[0.35,0.6499999999999999],\"showgrid\":true,\"gridwidth\":0.5,\"gridcolor\":\"rgb(242,242,242)\",\"range\":[-200,20200]},\"yaxis2\":{\"anchor\":\"x2\",\"domain\":[0.7,1.0],\"matches\":\"y\",\"showticklabels\":false,\"showgrid\":true,\"gridwidth\":0.5,\"gridcolor\":\"rgb(242,242,242)\",\"range\":[0,20]},\"xaxis3\":{\"anchor\":\"y3\",\"domain\":[0.7,1.0],\"showgrid\":true,\"gridwidth\":0.5,\"gridcolor\":\"rgb(242,242,242)\",\"range\":[-200,20200]},\"yaxis3\":{\"anchor\":\"x3\",\"domain\":[0.7,1.0],\"matches\":\"y\",\"showticklabels\":false,\"showgrid\":true,\"gridwidth\":0.5,\"gridcolor\":\"rgb(242,242,242)\",\"range\":[0,20]},\"xaxis4\":{\"anchor\":\"y4\",\"domain\":[0.0,0.3],\"showgrid\":true,\"gridwidth\":0.5,\"gridcolor\":\"rgb(242,242,242)\",\"range\":[-200,20200]},\"yaxis4\":{\"anchor\":\"x4\",\"domain\":[0.35,0.6499999999999999],\"title\":{\"text\":\"Heat pump: 7000 W\"},\"ticksuffix\":\"%\",\"showgrid\":true,\"gridwidth\":0.5,\"gridcolor\":\"rgb(242,242,242)\",\"range\":[0,20]},\"xaxis5\":{\"anchor\":\"y5\",\"domain\":[0.35,0.6499999999999999],\"showgrid\":true,\"gridwidth\":0.5,\"gridcolor\":\"rgb(242,242,242)\",\"range\":[-200,20200]},\"yaxis5\":{\"anchor\":\"x5\",\"domain\":[0.35,0.6499999999999999],\"matches\":\"y4\",\"showticklabels\":false,\"showgrid\":true,\"gridwidth\":0.5,\"gridcolor\":\"rgb(242,242,242)\",\"range\":[0,20]},\"xaxis6\":{\"anchor\":\"y6\",\"domain\":[0.7,1.0],\"showgrid\":true,\"gridwidth\":0.5,\"gridcolor\":\"rgb(242,242,242)\",\"range\":[-200,20200]},\"yaxis6\":{\"anchor\":\"x6\",\"domain\":[0.35,0.6499999999999999],\"matches\":\"y4\",\"showticklabels\":false,\"showgrid\":true,\"gridwidth\":0.5,\"gridcolor\":\"rgb(242,242,242)\",\"range\":[0,20]},\"xaxis7\":{\"anchor\":\"y7\",\"domain\":[0.0,0.3],\"showgrid\":true,\"gridwidth\":0.5,\"gridcolor\":\"rgb(242,242,242)\",\"range\":[-200,20200]},\"yaxis7\":{\"anchor\":\"x7\",\"domain\":[0.0,0.3],\"title\":{\"text\":\"Heat pump: 10000 W\"},\"ticksuffix\":\"%\",\"showgrid\":true,\"gridwidth\":0.5,\"gridcolor\":\"rgb(242,242,242)\",\"range\":[0,20]},\"xaxis8\":{\"anchor\":\"y8\",\"domain\":[0.35,0.6499999999999999],\"showgrid\":true,\"gridwidth\":0.5,\"gridcolor\":\"rgb(242,242,242)\",\"range\":[-200,20200]},\"yaxis8\":{\"anchor\":\"x8\",\"domain\":[0.0,0.3],\"matches\":\"y7\",\"showticklabels\":false,\"showgrid\":true,\"gridwidth\":0.5,\"gridcolor\":\"rgb(242,242,242)\",\"range\":[0,20]},\"xaxis9\":{\"anchor\":\"y9\",\"domain\":[0.7,1.0],\"showgrid\":true,\"gridwidth\":0.5,\"gridcolor\":\"rgb(242,242,242)\",\"range\":[-200,20200]},\"yaxis9\":{\"anchor\":\"x9\",\"domain\":[0.0,0.3],\"matches\":\"y7\",\"showticklabels\":false,\"showgrid\":true,\"gridwidth\":0.5,\"gridcolor\":\"rgb(242,242,242)\",\"range\":[0,20]},\"annotations\":[{\"font\":{\"size\":16},\"showarrow\":false,\"text\":\"House: 350 W/K\",\"x\":0.15,\"xanchor\":\"center\",\"xref\":\"paper\",\"y\":1.0,\"yanchor\":\"bottom\",\"yref\":\"paper\"},{\"font\":{\"size\":16},\"showarrow\":false,\"text\":\"House: 200 W/K\",\"x\":0.49999999999999994,\"xanchor\":\"center\",\"xref\":\"paper\",\"y\":1.0,\"yanchor\":\"bottom\",\"yref\":\"paper\"},{\"font\":{\"size\":16},\"showarrow\":false,\"text\":\"House: 150 W/K\",\"x\":0.85,\"xanchor\":\"center\",\"xref\":\"paper\",\"y\":1.0,\"yanchor\":\"bottom\",\"yref\":\"paper\"},{\"font\":{\"size\":16},\"showarrow\":false,\"text\":\"Storage volume in litres\",\"x\":0.5,\"xanchor\":\"center\",\"xref\":\"paper\",\"y\":0,\"yanchor\":\"top\",\"yref\":\"paper\",\"yshift\":-30}],\"showlegend\":false,\"height\":900,\"width\":1200,\"plot_bgcolor\":\"white\"},                        {\"responsive\": true}                    ).then(function(){\n                            \nvar gd = document.getElementById('7ab4343c-0abc-4fbd-8d2b-3c8ef83301ac');\nvar x = new MutationObserver(function (mutations, observer) {{\n        var display = window.getComputedStyle(gd).display;\n        if (!display || display === 'none') {{\n            console.log([gd, 'removed!']);\n            Plotly.purge(gd);\n            observer.disconnect();\n        }}\n}});\n\n// Listen for the removal of the full notebook cells\nvar notebookContainer = gd.closest('#notebook-container');\nif (notebookContainer) {{\n    x.observe(notebookContainer, {childList: true});\n}}\n\n// Listen for the clearing of the current output cell\nvar outputEl = gd.closest('.output');\nif (outputEl) {{\n    x.observe(outputEl, {childList: true});\n}}\n\n                        })                };                });            </script>        </div>"
     },
     "metadata": {},
     "output_type": "display_data"
    },
    {
     "name": "stdout",
     "output_type": "stream",
     "text": [
      "location:  Villingen-Schwenningen\n"
     ]
    },
    {
     "data": {
      "application/vnd.plotly.v1+json": {
       "data": [
        {
         "type": "scatter",
         "xaxis": "x",
         "yaxis": "y"
        },
        {
         "type": "scatter",
         "xaxis": "x2",
         "yaxis": "y2"
        },
        {
         "marker": {
          "color": "darkblue"
         },
         "x": [
          100,
          300,
          600,
          1000,
          2000,
          3000,
          5000,
          8000,
          12000,
          20000
         ],
         "y": [
          0.025236356075319932,
          0.38444261223187226,
          1.0652331430121342,
          2.1626156314120903,
          4.546029238388294,
          6.404973826499472,
          8.757371871221654,
          10.18186776504274,
          10.72625645005263,
          10.759885516325552
         ],
         "type": "scatter",
         "xaxis": "x3",
         "yaxis": "y3"
        },
        {
         "type": "scatter",
         "xaxis": "x4",
         "yaxis": "y4"
        },
        {
         "marker": {
          "color": "darkblue"
         },
         "x": [
          100,
          300,
          600,
          1000,
          2000,
          3000,
          5000,
          8000,
          12000,
          20000
         ],
         "y": [
          0.035023410295920154,
          0.58796301951205,
          1.6081095303122628,
          2.9124978161812476,
          5.660092472159772,
          7.293452308248327,
          8.420212509592773,
          8.780091762569576,
          8.807648143328617,
          8.830100949844633
         ],
         "type": "scatter",
         "xaxis": "x5",
         "yaxis": "y5"
        },
        {
         "marker": {
          "color": "darkblue"
         },
         "x": [
          100,
          300,
          600,
          1000,
          2000,
          3000,
          5000,
          8000,
          12000,
          20000
         ],
         "y": [
          0.025275202561270138,
          0.3836571131387245,
          1.0750641056324395,
          2.216938340298946,
          4.76319840258742,
          6.902150739672075,
          9.791768297277192,
          11.6188923546373,
          12.30496513083713,
          12.34351443655467
         ],
         "type": "scatter",
         "xaxis": "x6",
         "yaxis": "y6"
        },
        {
         "marker": {
          "color": "darkblue"
         },
         "x": [
          100,
          300,
          600,
          1000,
          2000,
          3000,
          5000,
          8000,
          12000,
          20000
         ],
         "y": [
          0.001422133623096844,
          0.4108887385808724,
          0.9949345014892197,
          1.9106454254489758,
          3.9859338239119135,
          5.222894461517724,
          6.235167080010651,
          6.745636818681044,
          6.775206794909494,
          6.795727454264833
         ],
         "type": "scatter",
         "xaxis": "x7",
         "yaxis": "y7"
        },
        {
         "marker": {
          "color": "darkblue"
         },
         "x": [
          100,
          300,
          600,
          1000,
          2000,
          3000,
          5000,
          8000,
          12000,
          20000
         ],
         "y": [
          0.03620546847461492,
          0.586255736918806,
          1.6258948500646464,
          2.9640005055743046,
          5.94579649228737,
          7.8902865270909395,
          9.249635839212978,
          9.651078694553295,
          9.681890181051367,
          9.707007406127055
         ],
         "type": "scatter",
         "xaxis": "x8",
         "yaxis": "y8"
        },
        {
         "marker": {
          "color": "darkblue"
         },
         "x": [
          100,
          300,
          600,
          1000,
          2000,
          3000,
          5000,
          8000,
          12000,
          20000
         ],
         "y": [
          0.024395793545584077,
          0.38163780594249186,
          1.074865142609449,
          2.2308100582645984,
          4.845584024729099,
          7.044358174656907,
          10.211928944764015,
          12.26942211777483,
          13.037758874032313,
          13.083654784948529
         ],
         "type": "scatter",
         "xaxis": "x9",
         "yaxis": "y9"
        },
        {
         "marker": {
          "color": "darkblue"
         },
         "x": [
          100,
          300,
          600,
          1000,
          2000,
          3000,
          5000,
          8000,
          12000,
          20000
         ],
         "y": [
          1.2298268022847836E-4,
          0.41170055512355086,
          0.9768926018026258,
          1.958215339864322,
          4.26087399543722,
          5.848553902606701,
          7.129195400119803,
          7.789845983459909,
          7.823214923873001,
          7.84915804471934
         ],
         "type": "scatter",
         "xaxis": "x10",
         "yaxis": "y10"
        },
        {
         "marker": {
          "color": "darkblue"
         },
         "x": [
          100,
          300,
          600,
          1000,
          2000,
          3000,
          5000,
          8000,
          12000,
          20000
         ],
         "y": [
          0.03495519506681033,
          0.5883411275130035,
          1.629972376141986,
          2.9902940667219102,
          6.15614910718143,
          8.340125218865001,
          9.904549806596219,
          10.351490580547196,
          10.384836616777882,
          10.412888227920448
         ],
         "type": "scatter",
         "xaxis": "x11",
         "yaxis": "y11"
        },
        {
         "marker": {
          "color": "darkblue"
         },
         "x": [
          100,
          300,
          600,
          1000,
          2000,
          3000,
          5000,
          8000,
          12000,
          20000
         ],
         "y": [
          0.02601143373391901,
          0.3824176280980529,
          1.074696217211235,
          2.235546981758374,
          4.854880117632976,
          7.143440136311707,
          10.474061940420343,
          12.755583837771223,
          13.558238067813189,
          13.605581688621605
         ],
         "type": "scatter",
         "xaxis": "x12",
         "yaxis": "y12"
        }
       ],
       "layout": {
        "template": {
         "data": {
          "bar": [
           {
            "error_x": {
             "color": "#2a3f5f"
            },
            "error_y": {
             "color": "#2a3f5f"
            },
            "marker": {
             "line": {
              "color": "#E5ECF6",
              "width": 0.5
             },
             "pattern": {
              "fillmode": "overlay",
              "size": 10,
              "solidity": 0.2
             }
            },
            "type": "bar"
           }
          ],
          "barpolar": [
           {
            "marker": {
             "line": {
              "color": "#E5ECF6",
              "width": 0.5
             },
             "pattern": {
              "fillmode": "overlay",
              "size": 10,
              "solidity": 0.2
             }
            },
            "type": "barpolar"
           }
          ],
          "carpet": [
           {
            "aaxis": {
             "endlinecolor": "#2a3f5f",
             "gridcolor": "white",
             "linecolor": "white",
             "minorgridcolor": "white",
             "startlinecolor": "#2a3f5f"
            },
            "baxis": {
             "endlinecolor": "#2a3f5f",
             "gridcolor": "white",
             "linecolor": "white",
             "minorgridcolor": "white",
             "startlinecolor": "#2a3f5f"
            },
            "type": "carpet"
           }
          ],
          "choropleth": [
           {
            "colorbar": {
             "outlinewidth": 0,
             "ticks": ""
            },
            "type": "choropleth"
           }
          ],
          "contour": [
           {
            "colorbar": {
             "outlinewidth": 0,
             "ticks": ""
            },
            "colorscale": [
             [
              0.0,
              "#0d0887"
             ],
             [
              0.1111111111111111,
              "#46039f"
             ],
             [
              0.2222222222222222,
              "#7201a8"
             ],
             [
              0.3333333333333333,
              "#9c179e"
             ],
             [
              0.4444444444444444,
              "#bd3786"
             ],
             [
              0.5555555555555556,
              "#d8576b"
             ],
             [
              0.6666666666666666,
              "#ed7953"
             ],
             [
              0.7777777777777778,
              "#fb9f3a"
             ],
             [
              0.8888888888888888,
              "#fdca26"
             ],
             [
              1.0,
              "#f0f921"
             ]
            ],
            "type": "contour"
           }
          ],
          "contourcarpet": [
           {
            "colorbar": {
             "outlinewidth": 0,
             "ticks": ""
            },
            "type": "contourcarpet"
           }
          ],
          "heatmap": [
           {
            "colorbar": {
             "outlinewidth": 0,
             "ticks": ""
            },
            "colorscale": [
             [
              0.0,
              "#0d0887"
             ],
             [
              0.1111111111111111,
              "#46039f"
             ],
             [
              0.2222222222222222,
              "#7201a8"
             ],
             [
              0.3333333333333333,
              "#9c179e"
             ],
             [
              0.4444444444444444,
              "#bd3786"
             ],
             [
              0.5555555555555556,
              "#d8576b"
             ],
             [
              0.6666666666666666,
              "#ed7953"
             ],
             [
              0.7777777777777778,
              "#fb9f3a"
             ],
             [
              0.8888888888888888,
              "#fdca26"
             ],
             [
              1.0,
              "#f0f921"
             ]
            ],
            "type": "heatmap"
           }
          ],
          "heatmapgl": [
           {
            "colorbar": {
             "outlinewidth": 0,
             "ticks": ""
            },
            "colorscale": [
             [
              0.0,
              "#0d0887"
             ],
             [
              0.1111111111111111,
              "#46039f"
             ],
             [
              0.2222222222222222,
              "#7201a8"
             ],
             [
              0.3333333333333333,
              "#9c179e"
             ],
             [
              0.4444444444444444,
              "#bd3786"
             ],
             [
              0.5555555555555556,
              "#d8576b"
             ],
             [
              0.6666666666666666,
              "#ed7953"
             ],
             [
              0.7777777777777778,
              "#fb9f3a"
             ],
             [
              0.8888888888888888,
              "#fdca26"
             ],
             [
              1.0,
              "#f0f921"
             ]
            ],
            "type": "heatmapgl"
           }
          ],
          "histogram": [
           {
            "marker": {
             "pattern": {
              "fillmode": "overlay",
              "size": 10,
              "solidity": 0.2
             }
            },
            "type": "histogram"
           }
          ],
          "histogram2d": [
           {
            "colorbar": {
             "outlinewidth": 0,
             "ticks": ""
            },
            "colorscale": [
             [
              0.0,
              "#0d0887"
             ],
             [
              0.1111111111111111,
              "#46039f"
             ],
             [
              0.2222222222222222,
              "#7201a8"
             ],
             [
              0.3333333333333333,
              "#9c179e"
             ],
             [
              0.4444444444444444,
              "#bd3786"
             ],
             [
              0.5555555555555556,
              "#d8576b"
             ],
             [
              0.6666666666666666,
              "#ed7953"
             ],
             [
              0.7777777777777778,
              "#fb9f3a"
             ],
             [
              0.8888888888888888,
              "#fdca26"
             ],
             [
              1.0,
              "#f0f921"
             ]
            ],
            "type": "histogram2d"
           }
          ],
          "histogram2dcontour": [
           {
            "colorbar": {
             "outlinewidth": 0,
             "ticks": ""
            },
            "colorscale": [
             [
              0.0,
              "#0d0887"
             ],
             [
              0.1111111111111111,
              "#46039f"
             ],
             [
              0.2222222222222222,
              "#7201a8"
             ],
             [
              0.3333333333333333,
              "#9c179e"
             ],
             [
              0.4444444444444444,
              "#bd3786"
             ],
             [
              0.5555555555555556,
              "#d8576b"
             ],
             [
              0.6666666666666666,
              "#ed7953"
             ],
             [
              0.7777777777777778,
              "#fb9f3a"
             ],
             [
              0.8888888888888888,
              "#fdca26"
             ],
             [
              1.0,
              "#f0f921"
             ]
            ],
            "type": "histogram2dcontour"
           }
          ],
          "mesh3d": [
           {
            "colorbar": {
             "outlinewidth": 0,
             "ticks": ""
            },
            "type": "mesh3d"
           }
          ],
          "parcoords": [
           {
            "line": {
             "colorbar": {
              "outlinewidth": 0,
              "ticks": ""
             }
            },
            "type": "parcoords"
           }
          ],
          "pie": [
           {
            "automargin": true,
            "type": "pie"
           }
          ],
          "scatter": [
           {
            "marker": {
             "colorbar": {
              "outlinewidth": 0,
              "ticks": ""
             }
            },
            "type": "scatter"
           }
          ],
          "scatter3d": [
           {
            "line": {
             "colorbar": {
              "outlinewidth": 0,
              "ticks": ""
             }
            },
            "marker": {
             "colorbar": {
              "outlinewidth": 0,
              "ticks": ""
             }
            },
            "type": "scatter3d"
           }
          ],
          "scattercarpet": [
           {
            "marker": {
             "colorbar": {
              "outlinewidth": 0,
              "ticks": ""
             }
            },
            "type": "scattercarpet"
           }
          ],
          "scattergeo": [
           {
            "marker": {
             "colorbar": {
              "outlinewidth": 0,
              "ticks": ""
             }
            },
            "type": "scattergeo"
           }
          ],
          "scattergl": [
           {
            "marker": {
             "colorbar": {
              "outlinewidth": 0,
              "ticks": ""
             }
            },
            "type": "scattergl"
           }
          ],
          "scattermapbox": [
           {
            "marker": {
             "colorbar": {
              "outlinewidth": 0,
              "ticks": ""
             }
            },
            "type": "scattermapbox"
           }
          ],
          "scatterpolar": [
           {
            "marker": {
             "colorbar": {
              "outlinewidth": 0,
              "ticks": ""
             }
            },
            "type": "scatterpolar"
           }
          ],
          "scatterpolargl": [
           {
            "marker": {
             "colorbar": {
              "outlinewidth": 0,
              "ticks": ""
             }
            },
            "type": "scatterpolargl"
           }
          ],
          "scatterternary": [
           {
            "marker": {
             "colorbar": {
              "outlinewidth": 0,
              "ticks": ""
             }
            },
            "type": "scatterternary"
           }
          ],
          "surface": [
           {
            "colorbar": {
             "outlinewidth": 0,
             "ticks": ""
            },
            "colorscale": [
             [
              0.0,
              "#0d0887"
             ],
             [
              0.1111111111111111,
              "#46039f"
             ],
             [
              0.2222222222222222,
              "#7201a8"
             ],
             [
              0.3333333333333333,
              "#9c179e"
             ],
             [
              0.4444444444444444,
              "#bd3786"
             ],
             [
              0.5555555555555556,
              "#d8576b"
             ],
             [
              0.6666666666666666,
              "#ed7953"
             ],
             [
              0.7777777777777778,
              "#fb9f3a"
             ],
             [
              0.8888888888888888,
              "#fdca26"
             ],
             [
              1.0,
              "#f0f921"
             ]
            ],
            "type": "surface"
           }
          ],
          "table": [
           {
            "cells": {
             "fill": {
              "color": "#EBF0F8"
             },
             "line": {
              "color": "white"
             }
            },
            "header": {
             "fill": {
              "color": "#C8D4E3"
             },
             "line": {
              "color": "white"
             }
            },
            "type": "table"
           }
          ]
         },
         "layout": {
          "annotationdefaults": {
           "arrowcolor": "#2a3f5f",
           "arrowhead": 0,
           "arrowwidth": 1
          },
          "autotypenumbers": "strict",
          "coloraxis": {
           "colorbar": {
            "outlinewidth": 0,
            "ticks": ""
           }
          },
          "colorscale": {
           "diverging": [
            [
             0,
             "#8e0152"
            ],
            [
             0.1,
             "#c51b7d"
            ],
            [
             0.2,
             "#de77ae"
            ],
            [
             0.3,
             "#f1b6da"
            ],
            [
             0.4,
             "#fde0ef"
            ],
            [
             0.5,
             "#f7f7f7"
            ],
            [
             0.6,
             "#e6f5d0"
            ],
            [
             0.7,
             "#b8e186"
            ],
            [
             0.8,
             "#7fbc41"
            ],
            [
             0.9,
             "#4d9221"
            ],
            [
             1,
             "#276419"
            ]
           ],
           "sequential": [
            [
             0.0,
             "#0d0887"
            ],
            [
             0.1111111111111111,
             "#46039f"
            ],
            [
             0.2222222222222222,
             "#7201a8"
            ],
            [
             0.3333333333333333,
             "#9c179e"
            ],
            [
             0.4444444444444444,
             "#bd3786"
            ],
            [
             0.5555555555555556,
             "#d8576b"
            ],
            [
             0.6666666666666666,
             "#ed7953"
            ],
            [
             0.7777777777777778,
             "#fb9f3a"
            ],
            [
             0.8888888888888888,
             "#fdca26"
            ],
            [
             1.0,
             "#f0f921"
            ]
           ],
           "sequentialminus": [
            [
             0.0,
             "#0d0887"
            ],
            [
             0.1111111111111111,
             "#46039f"
            ],
            [
             0.2222222222222222,
             "#7201a8"
            ],
            [
             0.3333333333333333,
             "#9c179e"
            ],
            [
             0.4444444444444444,
             "#bd3786"
            ],
            [
             0.5555555555555556,
             "#d8576b"
            ],
            [
             0.6666666666666666,
             "#ed7953"
            ],
            [
             0.7777777777777778,
             "#fb9f3a"
            ],
            [
             0.8888888888888888,
             "#fdca26"
            ],
            [
             1.0,
             "#f0f921"
            ]
           ]
          },
          "colorway": [
           "#636efa",
           "#EF553B",
           "#00cc96",
           "#ab63fa",
           "#FFA15A",
           "#19d3f3",
           "#FF6692",
           "#B6E880",
           "#FF97FF",
           "#FECB52"
          ],
          "font": {
           "color": "#2a3f5f"
          },
          "geo": {
           "bgcolor": "white",
           "lakecolor": "white",
           "landcolor": "#E5ECF6",
           "showlakes": true,
           "showland": true,
           "subunitcolor": "white"
          },
          "hoverlabel": {
           "align": "left"
          },
          "hovermode": "closest",
          "mapbox": {
           "style": "light"
          },
          "paper_bgcolor": "white",
          "plot_bgcolor": "#E5ECF6",
          "polar": {
           "angularaxis": {
            "gridcolor": "white",
            "linecolor": "white",
            "ticks": ""
           },
           "bgcolor": "#E5ECF6",
           "radialaxis": {
            "gridcolor": "white",
            "linecolor": "white",
            "ticks": ""
           }
          },
          "scene": {
           "xaxis": {
            "backgroundcolor": "#E5ECF6",
            "gridcolor": "white",
            "gridwidth": 2,
            "linecolor": "white",
            "showbackground": true,
            "ticks": "",
            "zerolinecolor": "white"
           },
           "yaxis": {
            "backgroundcolor": "#E5ECF6",
            "gridcolor": "white",
            "gridwidth": 2,
            "linecolor": "white",
            "showbackground": true,
            "ticks": "",
            "zerolinecolor": "white"
           },
           "zaxis": {
            "backgroundcolor": "#E5ECF6",
            "gridcolor": "white",
            "gridwidth": 2,
            "linecolor": "white",
            "showbackground": true,
            "ticks": "",
            "zerolinecolor": "white"
           }
          },
          "shapedefaults": {
           "line": {
            "color": "#2a3f5f"
           }
          },
          "ternary": {
           "aaxis": {
            "gridcolor": "white",
            "linecolor": "white",
            "ticks": ""
           },
           "baxis": {
            "gridcolor": "white",
            "linecolor": "white",
            "ticks": ""
           },
           "bgcolor": "#E5ECF6",
           "caxis": {
            "gridcolor": "white",
            "linecolor": "white",
            "ticks": ""
           }
          },
          "title": {
           "x": 0.05
          },
          "xaxis": {
           "automargin": true,
           "gridcolor": "white",
           "linecolor": "white",
           "ticks": "",
           "title": {
            "standoff": 15
           },
           "zerolinecolor": "white",
           "zerolinewidth": 2
          },
          "yaxis": {
           "automargin": true,
           "gridcolor": "white",
           "linecolor": "white",
           "ticks": "",
           "title": {
            "standoff": 15
           },
           "zerolinecolor": "white",
           "zerolinewidth": 2
          }
         }
        },
        "xaxis": {
         "anchor": "y",
         "domain": [
          0.0,
          0.3
         ],
         "showgrid": true,
         "gridwidth": 0.5,
         "gridcolor": "rgb(242,242,242)",
         "range": [
          -200,
          20200
         ]
        },
        "yaxis": {
         "anchor": "x",
         "domain": [
          0.7875,
          1.0
         ],
         "title": {
          "text": "Heat pump: 3000 W"
         },
         "ticksuffix": "%",
         "showgrid": true,
         "gridwidth": 0.5,
         "gridcolor": "rgb(242,242,242)",
         "range": [
          0,
          20
         ]
        },
        "xaxis2": {
         "anchor": "y2",
         "domain": [
          0.35,
          0.6499999999999999
         ],
         "showgrid": true,
         "gridwidth": 0.5,
         "gridcolor": "rgb(242,242,242)",
         "range": [
          -200,
          20200
         ]
        },
        "yaxis2": {
         "anchor": "x2",
         "domain": [
          0.7875,
          1.0
         ],
         "matches": "y",
         "showticklabels": false,
         "showgrid": true,
         "gridwidth": 0.5,
         "gridcolor": "rgb(242,242,242)",
         "range": [
          0,
          20
         ]
        },
        "xaxis3": {
         "anchor": "y3",
         "domain": [
          0.7,
          1.0
         ],
         "showgrid": true,
         "gridwidth": 0.5,
         "gridcolor": "rgb(242,242,242)",
         "range": [
          -200,
          20200
         ]
        },
        "yaxis3": {
         "anchor": "x3",
         "domain": [
          0.7875,
          1.0
         ],
         "matches": "y",
         "showticklabels": false,
         "showgrid": true,
         "gridwidth": 0.5,
         "gridcolor": "rgb(242,242,242)",
         "range": [
          0,
          20
         ]
        },
        "xaxis4": {
         "anchor": "y4",
         "domain": [
          0.0,
          0.3
         ],
         "showgrid": true,
         "gridwidth": 0.5,
         "gridcolor": "rgb(242,242,242)",
         "range": [
          -200,
          20200
         ]
        },
        "yaxis4": {
         "anchor": "x4",
         "domain": [
          0.525,
          0.7375
         ],
         "title": {
          "text": "Heat pump: 5000 W"
         },
         "ticksuffix": "%",
         "showgrid": true,
         "gridwidth": 0.5,
         "gridcolor": "rgb(242,242,242)",
         "range": [
          0,
          20
         ]
        },
        "xaxis5": {
         "anchor": "y5",
         "domain": [
          0.35,
          0.6499999999999999
         ],
         "showgrid": true,
         "gridwidth": 0.5,
         "gridcolor": "rgb(242,242,242)",
         "range": [
          -200,
          20200
         ]
        },
        "yaxis5": {
         "anchor": "x5",
         "domain": [
          0.525,
          0.7375
         ],
         "matches": "y4",
         "showticklabels": false,
         "showgrid": true,
         "gridwidth": 0.5,
         "gridcolor": "rgb(242,242,242)",
         "range": [
          0,
          20
         ]
        },
        "xaxis6": {
         "anchor": "y6",
         "domain": [
          0.7,
          1.0
         ],
         "showgrid": true,
         "gridwidth": 0.5,
         "gridcolor": "rgb(242,242,242)",
         "range": [
          -200,
          20200
         ]
        },
        "yaxis6": {
         "anchor": "x6",
         "domain": [
          0.525,
          0.7375
         ],
         "matches": "y4",
         "showticklabels": false,
         "showgrid": true,
         "gridwidth": 0.5,
         "gridcolor": "rgb(242,242,242)",
         "range": [
          0,
          20
         ]
        },
        "xaxis7": {
         "anchor": "y7",
         "domain": [
          0.0,
          0.3
         ],
         "showgrid": true,
         "gridwidth": 0.5,
         "gridcolor": "rgb(242,242,242)",
         "range": [
          -200,
          20200
         ]
        },
        "yaxis7": {
         "anchor": "x7",
         "domain": [
          0.2625,
          0.475
         ],
         "title": {
          "text": "Heat pump: 7000 W"
         },
         "ticksuffix": "%",
         "showgrid": true,
         "gridwidth": 0.5,
         "gridcolor": "rgb(242,242,242)",
         "range": [
          0,
          20
         ]
        },
        "xaxis8": {
         "anchor": "y8",
         "domain": [
          0.35,
          0.6499999999999999
         ],
         "showgrid": true,
         "gridwidth": 0.5,
         "gridcolor": "rgb(242,242,242)",
         "range": [
          -200,
          20200
         ]
        },
        "yaxis8": {
         "anchor": "x8",
         "domain": [
          0.2625,
          0.475
         ],
         "matches": "y7",
         "showticklabels": false,
         "showgrid": true,
         "gridwidth": 0.5,
         "gridcolor": "rgb(242,242,242)",
         "range": [
          0,
          20
         ]
        },
        "xaxis9": {
         "anchor": "y9",
         "domain": [
          0.7,
          1.0
         ],
         "showgrid": true,
         "gridwidth": 0.5,
         "gridcolor": "rgb(242,242,242)",
         "range": [
          -200,
          20200
         ]
        },
        "yaxis9": {
         "anchor": "x9",
         "domain": [
          0.2625,
          0.475
         ],
         "matches": "y7",
         "showticklabels": false,
         "showgrid": true,
         "gridwidth": 0.5,
         "gridcolor": "rgb(242,242,242)",
         "range": [
          0,
          20
         ]
        },
        "xaxis10": {
         "anchor": "y10",
         "domain": [
          0.0,
          0.3
         ],
         "showgrid": true,
         "gridwidth": 0.5,
         "gridcolor": "rgb(242,242,242)",
         "range": [
          -200,
          20200
         ]
        },
        "yaxis10": {
         "anchor": "x10",
         "domain": [
          0.0,
          0.2125
         ],
         "title": {
          "text": "Heat pump: 10000 W"
         },
         "ticksuffix": "%",
         "showgrid": true,
         "gridwidth": 0.5,
         "gridcolor": "rgb(242,242,242)",
         "range": [
          0,
          20
         ]
        },
        "xaxis11": {
         "anchor": "y11",
         "domain": [
          0.35,
          0.6499999999999999
         ],
         "showgrid": true,
         "gridwidth": 0.5,
         "gridcolor": "rgb(242,242,242)",
         "range": [
          -200,
          20200
         ]
        },
        "yaxis11": {
         "anchor": "x11",
         "domain": [
          0.0,
          0.2125
         ],
         "matches": "y10",
         "showticklabels": false,
         "showgrid": true,
         "gridwidth": 0.5,
         "gridcolor": "rgb(242,242,242)",
         "range": [
          0,
          20
         ]
        },
        "xaxis12": {
         "anchor": "y12",
         "domain": [
          0.7,
          1.0
         ],
         "showgrid": true,
         "gridwidth": 0.5,
         "gridcolor": "rgb(242,242,242)",
         "range": [
          -200,
          20200
         ]
        },
        "yaxis12": {
         "anchor": "x12",
         "domain": [
          0.0,
          0.2125
         ],
         "matches": "y10",
         "showticklabels": false,
         "showgrid": true,
         "gridwidth": 0.5,
         "gridcolor": "rgb(242,242,242)",
         "range": [
          0,
          20
         ]
        },
        "annotations": [
         {
          "font": {
           "size": 16
          },
          "showarrow": false,
          "text": "House: 350 W/K",
          "x": 0.15,
          "xanchor": "center",
          "xref": "paper",
          "y": 1.0,
          "yanchor": "bottom",
          "yref": "paper"
         },
         {
          "font": {
           "size": 16
          },
          "showarrow": false,
          "text": "House: 200 W/K",
          "x": 0.49999999999999994,
          "xanchor": "center",
          "xref": "paper",
          "y": 1.0,
          "yanchor": "bottom",
          "yref": "paper"
         },
         {
          "font": {
           "size": 16
          },
          "showarrow": false,
          "text": "House: 150 W/K",
          "x": 0.85,
          "xanchor": "center",
          "xref": "paper",
          "y": 1.0,
          "yanchor": "bottom",
          "yref": "paper"
         },
         {
          "font": {
           "size": 16
          },
          "showarrow": false,
          "text": "Storage volume in litres",
          "x": 0.5,
          "xanchor": "center",
          "xref": "paper",
          "y": 0,
          "yanchor": "top",
          "yref": "paper",
          "yshift": -30
         }
        ],
        "showlegend": false,
        "height": 1200,
        "width": 1200,
        "plot_bgcolor": "white"
       },
       "config": {
        "plotlyServerURL": "https://plot.ly"
       }
      },
      "text/html": "<div>                            <div id=\"5a67c395-50d1-4049-9487-95aeb867c58d\" class=\"plotly-graph-div\" style=\"height:1200px; width:1200px;\"></div>            <script type=\"text/javascript\">                require([\"plotly\"], function(Plotly) {                    window.PLOTLYENV=window.PLOTLYENV || {};                                    if (document.getElementById(\"5a67c395-50d1-4049-9487-95aeb867c58d\")) {                    Plotly.newPlot(                        \"5a67c395-50d1-4049-9487-95aeb867c58d\",                        [{\"type\":\"scatter\",\"xaxis\":\"x\",\"yaxis\":\"y\"},{\"type\":\"scatter\",\"xaxis\":\"x2\",\"yaxis\":\"y2\"},{\"marker\":{\"color\":\"darkblue\"},\"x\":[100,300,600,1000,2000,3000,5000,8000,12000,20000],\"y\":[0.025236356075319932,0.38444261223187226,1.0652331430121342,2.1626156314120903,4.546029238388294,6.404973826499472,8.757371871221654,10.18186776504274,10.72625645005263,10.759885516325552],\"type\":\"scatter\",\"xaxis\":\"x3\",\"yaxis\":\"y3\"},{\"type\":\"scatter\",\"xaxis\":\"x4\",\"yaxis\":\"y4\"},{\"marker\":{\"color\":\"darkblue\"},\"x\":[100,300,600,1000,2000,3000,5000,8000,12000,20000],\"y\":[0.035023410295920154,0.58796301951205,1.6081095303122628,2.9124978161812476,5.660092472159772,7.293452308248327,8.420212509592773,8.780091762569576,8.807648143328617,8.830100949844633],\"type\":\"scatter\",\"xaxis\":\"x5\",\"yaxis\":\"y5\"},{\"marker\":{\"color\":\"darkblue\"},\"x\":[100,300,600,1000,2000,3000,5000,8000,12000,20000],\"y\":[0.025275202561270138,0.3836571131387245,1.0750641056324395,2.216938340298946,4.76319840258742,6.902150739672075,9.791768297277192,11.6188923546373,12.30496513083713,12.34351443655467],\"type\":\"scatter\",\"xaxis\":\"x6\",\"yaxis\":\"y6\"},{\"marker\":{\"color\":\"darkblue\"},\"x\":[100,300,600,1000,2000,3000,5000,8000,12000,20000],\"y\":[0.001422133623096844,0.4108887385808724,0.9949345014892197,1.9106454254489758,3.9859338239119135,5.222894461517724,6.235167080010651,6.745636818681044,6.775206794909494,6.795727454264833],\"type\":\"scatter\",\"xaxis\":\"x7\",\"yaxis\":\"y7\"},{\"marker\":{\"color\":\"darkblue\"},\"x\":[100,300,600,1000,2000,3000,5000,8000,12000,20000],\"y\":[0.03620546847461492,0.586255736918806,1.6258948500646464,2.9640005055743046,5.94579649228737,7.8902865270909395,9.249635839212978,9.651078694553295,9.681890181051367,9.707007406127055],\"type\":\"scatter\",\"xaxis\":\"x8\",\"yaxis\":\"y8\"},{\"marker\":{\"color\":\"darkblue\"},\"x\":[100,300,600,1000,2000,3000,5000,8000,12000,20000],\"y\":[0.024395793545584077,0.38163780594249186,1.074865142609449,2.2308100582645984,4.845584024729099,7.044358174656907,10.211928944764015,12.26942211777483,13.037758874032313,13.083654784948529],\"type\":\"scatter\",\"xaxis\":\"x9\",\"yaxis\":\"y9\"},{\"marker\":{\"color\":\"darkblue\"},\"x\":[100,300,600,1000,2000,3000,5000,8000,12000,20000],\"y\":[0.00012298268022847836,0.41170055512355086,0.9768926018026258,1.958215339864322,4.26087399543722,5.848553902606701,7.129195400119803,7.789845983459909,7.823214923873001,7.84915804471934],\"type\":\"scatter\",\"xaxis\":\"x10\",\"yaxis\":\"y10\"},{\"marker\":{\"color\":\"darkblue\"},\"x\":[100,300,600,1000,2000,3000,5000,8000,12000,20000],\"y\":[0.03495519506681033,0.5883411275130035,1.629972376141986,2.9902940667219102,6.15614910718143,8.340125218865001,9.904549806596219,10.351490580547196,10.384836616777882,10.412888227920448],\"type\":\"scatter\",\"xaxis\":\"x11\",\"yaxis\":\"y11\"},{\"marker\":{\"color\":\"darkblue\"},\"x\":[100,300,600,1000,2000,3000,5000,8000,12000,20000],\"y\":[0.02601143373391901,0.3824176280980529,1.074696217211235,2.235546981758374,4.854880117632976,7.143440136311707,10.474061940420343,12.755583837771223,13.558238067813189,13.605581688621605],\"type\":\"scatter\",\"xaxis\":\"x12\",\"yaxis\":\"y12\"}],                        {\"template\":{\"data\":{\"bar\":[{\"error_x\":{\"color\":\"#2a3f5f\"},\"error_y\":{\"color\":\"#2a3f5f\"},\"marker\":{\"line\":{\"color\":\"#E5ECF6\",\"width\":0.5},\"pattern\":{\"fillmode\":\"overlay\",\"size\":10,\"solidity\":0.2}},\"type\":\"bar\"}],\"barpolar\":[{\"marker\":{\"line\":{\"color\":\"#E5ECF6\",\"width\":0.5},\"pattern\":{\"fillmode\":\"overlay\",\"size\":10,\"solidity\":0.2}},\"type\":\"barpolar\"}],\"carpet\":[{\"aaxis\":{\"endlinecolor\":\"#2a3f5f\",\"gridcolor\":\"white\",\"linecolor\":\"white\",\"minorgridcolor\":\"white\",\"startlinecolor\":\"#2a3f5f\"},\"baxis\":{\"endlinecolor\":\"#2a3f5f\",\"gridcolor\":\"white\",\"linecolor\":\"white\",\"minorgridcolor\":\"white\",\"startlinecolor\":\"#2a3f5f\"},\"type\":\"carpet\"}],\"choropleth\":[{\"colorbar\":{\"outlinewidth\":0,\"ticks\":\"\"},\"type\":\"choropleth\"}],\"contour\":[{\"colorbar\":{\"outlinewidth\":0,\"ticks\":\"\"},\"colorscale\":[[0.0,\"#0d0887\"],[0.1111111111111111,\"#46039f\"],[0.2222222222222222,\"#7201a8\"],[0.3333333333333333,\"#9c179e\"],[0.4444444444444444,\"#bd3786\"],[0.5555555555555556,\"#d8576b\"],[0.6666666666666666,\"#ed7953\"],[0.7777777777777778,\"#fb9f3a\"],[0.8888888888888888,\"#fdca26\"],[1.0,\"#f0f921\"]],\"type\":\"contour\"}],\"contourcarpet\":[{\"colorbar\":{\"outlinewidth\":0,\"ticks\":\"\"},\"type\":\"contourcarpet\"}],\"heatmap\":[{\"colorbar\":{\"outlinewidth\":0,\"ticks\":\"\"},\"colorscale\":[[0.0,\"#0d0887\"],[0.1111111111111111,\"#46039f\"],[0.2222222222222222,\"#7201a8\"],[0.3333333333333333,\"#9c179e\"],[0.4444444444444444,\"#bd3786\"],[0.5555555555555556,\"#d8576b\"],[0.6666666666666666,\"#ed7953\"],[0.7777777777777778,\"#fb9f3a\"],[0.8888888888888888,\"#fdca26\"],[1.0,\"#f0f921\"]],\"type\":\"heatmap\"}],\"heatmapgl\":[{\"colorbar\":{\"outlinewidth\":0,\"ticks\":\"\"},\"colorscale\":[[0.0,\"#0d0887\"],[0.1111111111111111,\"#46039f\"],[0.2222222222222222,\"#7201a8\"],[0.3333333333333333,\"#9c179e\"],[0.4444444444444444,\"#bd3786\"],[0.5555555555555556,\"#d8576b\"],[0.6666666666666666,\"#ed7953\"],[0.7777777777777778,\"#fb9f3a\"],[0.8888888888888888,\"#fdca26\"],[1.0,\"#f0f921\"]],\"type\":\"heatmapgl\"}],\"histogram\":[{\"marker\":{\"pattern\":{\"fillmode\":\"overlay\",\"size\":10,\"solidity\":0.2}},\"type\":\"histogram\"}],\"histogram2d\":[{\"colorbar\":{\"outlinewidth\":0,\"ticks\":\"\"},\"colorscale\":[[0.0,\"#0d0887\"],[0.1111111111111111,\"#46039f\"],[0.2222222222222222,\"#7201a8\"],[0.3333333333333333,\"#9c179e\"],[0.4444444444444444,\"#bd3786\"],[0.5555555555555556,\"#d8576b\"],[0.6666666666666666,\"#ed7953\"],[0.7777777777777778,\"#fb9f3a\"],[0.8888888888888888,\"#fdca26\"],[1.0,\"#f0f921\"]],\"type\":\"histogram2d\"}],\"histogram2dcontour\":[{\"colorbar\":{\"outlinewidth\":0,\"ticks\":\"\"},\"colorscale\":[[0.0,\"#0d0887\"],[0.1111111111111111,\"#46039f\"],[0.2222222222222222,\"#7201a8\"],[0.3333333333333333,\"#9c179e\"],[0.4444444444444444,\"#bd3786\"],[0.5555555555555556,\"#d8576b\"],[0.6666666666666666,\"#ed7953\"],[0.7777777777777778,\"#fb9f3a\"],[0.8888888888888888,\"#fdca26\"],[1.0,\"#f0f921\"]],\"type\":\"histogram2dcontour\"}],\"mesh3d\":[{\"colorbar\":{\"outlinewidth\":0,\"ticks\":\"\"},\"type\":\"mesh3d\"}],\"parcoords\":[{\"line\":{\"colorbar\":{\"outlinewidth\":0,\"ticks\":\"\"}},\"type\":\"parcoords\"}],\"pie\":[{\"automargin\":true,\"type\":\"pie\"}],\"scatter\":[{\"marker\":{\"colorbar\":{\"outlinewidth\":0,\"ticks\":\"\"}},\"type\":\"scatter\"}],\"scatter3d\":[{\"line\":{\"colorbar\":{\"outlinewidth\":0,\"ticks\":\"\"}},\"marker\":{\"colorbar\":{\"outlinewidth\":0,\"ticks\":\"\"}},\"type\":\"scatter3d\"}],\"scattercarpet\":[{\"marker\":{\"colorbar\":{\"outlinewidth\":0,\"ticks\":\"\"}},\"type\":\"scattercarpet\"}],\"scattergeo\":[{\"marker\":{\"colorbar\":{\"outlinewidth\":0,\"ticks\":\"\"}},\"type\":\"scattergeo\"}],\"scattergl\":[{\"marker\":{\"colorbar\":{\"outlinewidth\":0,\"ticks\":\"\"}},\"type\":\"scattergl\"}],\"scattermapbox\":[{\"marker\":{\"colorbar\":{\"outlinewidth\":0,\"ticks\":\"\"}},\"type\":\"scattermapbox\"}],\"scatterpolar\":[{\"marker\":{\"colorbar\":{\"outlinewidth\":0,\"ticks\":\"\"}},\"type\":\"scatterpolar\"}],\"scatterpolargl\":[{\"marker\":{\"colorbar\":{\"outlinewidth\":0,\"ticks\":\"\"}},\"type\":\"scatterpolargl\"}],\"scatterternary\":[{\"marker\":{\"colorbar\":{\"outlinewidth\":0,\"ticks\":\"\"}},\"type\":\"scatterternary\"}],\"surface\":[{\"colorbar\":{\"outlinewidth\":0,\"ticks\":\"\"},\"colorscale\":[[0.0,\"#0d0887\"],[0.1111111111111111,\"#46039f\"],[0.2222222222222222,\"#7201a8\"],[0.3333333333333333,\"#9c179e\"],[0.4444444444444444,\"#bd3786\"],[0.5555555555555556,\"#d8576b\"],[0.6666666666666666,\"#ed7953\"],[0.7777777777777778,\"#fb9f3a\"],[0.8888888888888888,\"#fdca26\"],[1.0,\"#f0f921\"]],\"type\":\"surface\"}],\"table\":[{\"cells\":{\"fill\":{\"color\":\"#EBF0F8\"},\"line\":{\"color\":\"white\"}},\"header\":{\"fill\":{\"color\":\"#C8D4E3\"},\"line\":{\"color\":\"white\"}},\"type\":\"table\"}]},\"layout\":{\"annotationdefaults\":{\"arrowcolor\":\"#2a3f5f\",\"arrowhead\":0,\"arrowwidth\":1},\"autotypenumbers\":\"strict\",\"coloraxis\":{\"colorbar\":{\"outlinewidth\":0,\"ticks\":\"\"}},\"colorscale\":{\"diverging\":[[0,\"#8e0152\"],[0.1,\"#c51b7d\"],[0.2,\"#de77ae\"],[0.3,\"#f1b6da\"],[0.4,\"#fde0ef\"],[0.5,\"#f7f7f7\"],[0.6,\"#e6f5d0\"],[0.7,\"#b8e186\"],[0.8,\"#7fbc41\"],[0.9,\"#4d9221\"],[1,\"#276419\"]],\"sequential\":[[0.0,\"#0d0887\"],[0.1111111111111111,\"#46039f\"],[0.2222222222222222,\"#7201a8\"],[0.3333333333333333,\"#9c179e\"],[0.4444444444444444,\"#bd3786\"],[0.5555555555555556,\"#d8576b\"],[0.6666666666666666,\"#ed7953\"],[0.7777777777777778,\"#fb9f3a\"],[0.8888888888888888,\"#fdca26\"],[1.0,\"#f0f921\"]],\"sequentialminus\":[[0.0,\"#0d0887\"],[0.1111111111111111,\"#46039f\"],[0.2222222222222222,\"#7201a8\"],[0.3333333333333333,\"#9c179e\"],[0.4444444444444444,\"#bd3786\"],[0.5555555555555556,\"#d8576b\"],[0.6666666666666666,\"#ed7953\"],[0.7777777777777778,\"#fb9f3a\"],[0.8888888888888888,\"#fdca26\"],[1.0,\"#f0f921\"]]},\"colorway\":[\"#636efa\",\"#EF553B\",\"#00cc96\",\"#ab63fa\",\"#FFA15A\",\"#19d3f3\",\"#FF6692\",\"#B6E880\",\"#FF97FF\",\"#FECB52\"],\"font\":{\"color\":\"#2a3f5f\"},\"geo\":{\"bgcolor\":\"white\",\"lakecolor\":\"white\",\"landcolor\":\"#E5ECF6\",\"showlakes\":true,\"showland\":true,\"subunitcolor\":\"white\"},\"hoverlabel\":{\"align\":\"left\"},\"hovermode\":\"closest\",\"mapbox\":{\"style\":\"light\"},\"paper_bgcolor\":\"white\",\"plot_bgcolor\":\"#E5ECF6\",\"polar\":{\"angularaxis\":{\"gridcolor\":\"white\",\"linecolor\":\"white\",\"ticks\":\"\"},\"bgcolor\":\"#E5ECF6\",\"radialaxis\":{\"gridcolor\":\"white\",\"linecolor\":\"white\",\"ticks\":\"\"}},\"scene\":{\"xaxis\":{\"backgroundcolor\":\"#E5ECF6\",\"gridcolor\":\"white\",\"gridwidth\":2,\"linecolor\":\"white\",\"showbackground\":true,\"ticks\":\"\",\"zerolinecolor\":\"white\"},\"yaxis\":{\"backgroundcolor\":\"#E5ECF6\",\"gridcolor\":\"white\",\"gridwidth\":2,\"linecolor\":\"white\",\"showbackground\":true,\"ticks\":\"\",\"zerolinecolor\":\"white\"},\"zaxis\":{\"backgroundcolor\":\"#E5ECF6\",\"gridcolor\":\"white\",\"gridwidth\":2,\"linecolor\":\"white\",\"showbackground\":true,\"ticks\":\"\",\"zerolinecolor\":\"white\"}},\"shapedefaults\":{\"line\":{\"color\":\"#2a3f5f\"}},\"ternary\":{\"aaxis\":{\"gridcolor\":\"white\",\"linecolor\":\"white\",\"ticks\":\"\"},\"baxis\":{\"gridcolor\":\"white\",\"linecolor\":\"white\",\"ticks\":\"\"},\"bgcolor\":\"#E5ECF6\",\"caxis\":{\"gridcolor\":\"white\",\"linecolor\":\"white\",\"ticks\":\"\"}},\"title\":{\"x\":0.05},\"xaxis\":{\"automargin\":true,\"gridcolor\":\"white\",\"linecolor\":\"white\",\"ticks\":\"\",\"title\":{\"standoff\":15},\"zerolinecolor\":\"white\",\"zerolinewidth\":2},\"yaxis\":{\"automargin\":true,\"gridcolor\":\"white\",\"linecolor\":\"white\",\"ticks\":\"\",\"title\":{\"standoff\":15},\"zerolinecolor\":\"white\",\"zerolinewidth\":2}}},\"xaxis\":{\"anchor\":\"y\",\"domain\":[0.0,0.3],\"showgrid\":true,\"gridwidth\":0.5,\"gridcolor\":\"rgb(242,242,242)\",\"range\":[-200,20200]},\"yaxis\":{\"anchor\":\"x\",\"domain\":[0.7875,1.0],\"title\":{\"text\":\"Heat pump: 3000 W\"},\"ticksuffix\":\"%\",\"showgrid\":true,\"gridwidth\":0.5,\"gridcolor\":\"rgb(242,242,242)\",\"range\":[0,20]},\"xaxis2\":{\"anchor\":\"y2\",\"domain\":[0.35,0.6499999999999999],\"showgrid\":true,\"gridwidth\":0.5,\"gridcolor\":\"rgb(242,242,242)\",\"range\":[-200,20200]},\"yaxis2\":{\"anchor\":\"x2\",\"domain\":[0.7875,1.0],\"matches\":\"y\",\"showticklabels\":false,\"showgrid\":true,\"gridwidth\":0.5,\"gridcolor\":\"rgb(242,242,242)\",\"range\":[0,20]},\"xaxis3\":{\"anchor\":\"y3\",\"domain\":[0.7,1.0],\"showgrid\":true,\"gridwidth\":0.5,\"gridcolor\":\"rgb(242,242,242)\",\"range\":[-200,20200]},\"yaxis3\":{\"anchor\":\"x3\",\"domain\":[0.7875,1.0],\"matches\":\"y\",\"showticklabels\":false,\"showgrid\":true,\"gridwidth\":0.5,\"gridcolor\":\"rgb(242,242,242)\",\"range\":[0,20]},\"xaxis4\":{\"anchor\":\"y4\",\"domain\":[0.0,0.3],\"showgrid\":true,\"gridwidth\":0.5,\"gridcolor\":\"rgb(242,242,242)\",\"range\":[-200,20200]},\"yaxis4\":{\"anchor\":\"x4\",\"domain\":[0.525,0.7375],\"title\":{\"text\":\"Heat pump: 5000 W\"},\"ticksuffix\":\"%\",\"showgrid\":true,\"gridwidth\":0.5,\"gridcolor\":\"rgb(242,242,242)\",\"range\":[0,20]},\"xaxis5\":{\"anchor\":\"y5\",\"domain\":[0.35,0.6499999999999999],\"showgrid\":true,\"gridwidth\":0.5,\"gridcolor\":\"rgb(242,242,242)\",\"range\":[-200,20200]},\"yaxis5\":{\"anchor\":\"x5\",\"domain\":[0.525,0.7375],\"matches\":\"y4\",\"showticklabels\":false,\"showgrid\":true,\"gridwidth\":0.5,\"gridcolor\":\"rgb(242,242,242)\",\"range\":[0,20]},\"xaxis6\":{\"anchor\":\"y6\",\"domain\":[0.7,1.0],\"showgrid\":true,\"gridwidth\":0.5,\"gridcolor\":\"rgb(242,242,242)\",\"range\":[-200,20200]},\"yaxis6\":{\"anchor\":\"x6\",\"domain\":[0.525,0.7375],\"matches\":\"y4\",\"showticklabels\":false,\"showgrid\":true,\"gridwidth\":0.5,\"gridcolor\":\"rgb(242,242,242)\",\"range\":[0,20]},\"xaxis7\":{\"anchor\":\"y7\",\"domain\":[0.0,0.3],\"showgrid\":true,\"gridwidth\":0.5,\"gridcolor\":\"rgb(242,242,242)\",\"range\":[-200,20200]},\"yaxis7\":{\"anchor\":\"x7\",\"domain\":[0.2625,0.475],\"title\":{\"text\":\"Heat pump: 7000 W\"},\"ticksuffix\":\"%\",\"showgrid\":true,\"gridwidth\":0.5,\"gridcolor\":\"rgb(242,242,242)\",\"range\":[0,20]},\"xaxis8\":{\"anchor\":\"y8\",\"domain\":[0.35,0.6499999999999999],\"showgrid\":true,\"gridwidth\":0.5,\"gridcolor\":\"rgb(242,242,242)\",\"range\":[-200,20200]},\"yaxis8\":{\"anchor\":\"x8\",\"domain\":[0.2625,0.475],\"matches\":\"y7\",\"showticklabels\":false,\"showgrid\":true,\"gridwidth\":0.5,\"gridcolor\":\"rgb(242,242,242)\",\"range\":[0,20]},\"xaxis9\":{\"anchor\":\"y9\",\"domain\":[0.7,1.0],\"showgrid\":true,\"gridwidth\":0.5,\"gridcolor\":\"rgb(242,242,242)\",\"range\":[-200,20200]},\"yaxis9\":{\"anchor\":\"x9\",\"domain\":[0.2625,0.475],\"matches\":\"y7\",\"showticklabels\":false,\"showgrid\":true,\"gridwidth\":0.5,\"gridcolor\":\"rgb(242,242,242)\",\"range\":[0,20]},\"xaxis10\":{\"anchor\":\"y10\",\"domain\":[0.0,0.3],\"showgrid\":true,\"gridwidth\":0.5,\"gridcolor\":\"rgb(242,242,242)\",\"range\":[-200,20200]},\"yaxis10\":{\"anchor\":\"x10\",\"domain\":[0.0,0.2125],\"title\":{\"text\":\"Heat pump: 10000 W\"},\"ticksuffix\":\"%\",\"showgrid\":true,\"gridwidth\":0.5,\"gridcolor\":\"rgb(242,242,242)\",\"range\":[0,20]},\"xaxis11\":{\"anchor\":\"y11\",\"domain\":[0.35,0.6499999999999999],\"showgrid\":true,\"gridwidth\":0.5,\"gridcolor\":\"rgb(242,242,242)\",\"range\":[-200,20200]},\"yaxis11\":{\"anchor\":\"x11\",\"domain\":[0.0,0.2125],\"matches\":\"y10\",\"showticklabels\":false,\"showgrid\":true,\"gridwidth\":0.5,\"gridcolor\":\"rgb(242,242,242)\",\"range\":[0,20]},\"xaxis12\":{\"anchor\":\"y12\",\"domain\":[0.7,1.0],\"showgrid\":true,\"gridwidth\":0.5,\"gridcolor\":\"rgb(242,242,242)\",\"range\":[-200,20200]},\"yaxis12\":{\"anchor\":\"x12\",\"domain\":[0.0,0.2125],\"matches\":\"y10\",\"showticklabels\":false,\"showgrid\":true,\"gridwidth\":0.5,\"gridcolor\":\"rgb(242,242,242)\",\"range\":[0,20]},\"annotations\":[{\"font\":{\"size\":16},\"showarrow\":false,\"text\":\"House: 350 W/K\",\"x\":0.15,\"xanchor\":\"center\",\"xref\":\"paper\",\"y\":1.0,\"yanchor\":\"bottom\",\"yref\":\"paper\"},{\"font\":{\"size\":16},\"showarrow\":false,\"text\":\"House: 200 W/K\",\"x\":0.49999999999999994,\"xanchor\":\"center\",\"xref\":\"paper\",\"y\":1.0,\"yanchor\":\"bottom\",\"yref\":\"paper\"},{\"font\":{\"size\":16},\"showarrow\":false,\"text\":\"House: 150 W/K\",\"x\":0.85,\"xanchor\":\"center\",\"xref\":\"paper\",\"y\":1.0,\"yanchor\":\"bottom\",\"yref\":\"paper\"},{\"font\":{\"size\":16},\"showarrow\":false,\"text\":\"Storage volume in litres\",\"x\":0.5,\"xanchor\":\"center\",\"xref\":\"paper\",\"y\":0,\"yanchor\":\"top\",\"yref\":\"paper\",\"yshift\":-30}],\"showlegend\":false,\"height\":1200,\"width\":1200,\"plot_bgcolor\":\"white\"},                        {\"responsive\": true}                    ).then(function(){\n                            \nvar gd = document.getElementById('5a67c395-50d1-4049-9487-95aeb867c58d');\nvar x = new MutationObserver(function (mutations, observer) {{\n        var display = window.getComputedStyle(gd).display;\n        if (!display || display === 'none') {{\n            console.log([gd, 'removed!']);\n            Plotly.purge(gd);\n            observer.disconnect();\n        }}\n}});\n\n// Listen for the removal of the full notebook cells\nvar notebookContainer = gd.closest('#notebook-container');\nif (notebookContainer) {{\n    x.observe(notebookContainer, {childList: true});\n}}\n\n// Listen for the clearing of the current output cell\nvar outputEl = gd.closest('.output');\nif (outputEl) {{\n    x.observe(outputEl, {childList: true});\n}}\n\n                        })                };                });            </script>        </div>"
     },
     "metadata": {},
     "output_type": "display_data"
    },
    {
     "name": "stdout",
     "output_type": "stream",
     "text": [
      "location:  Karlsruhe\n"
     ]
    },
    {
     "data": {
      "application/vnd.plotly.v1+json": {
       "data": [
        {
         "type": "scatter",
         "xaxis": "x",
         "yaxis": "y"
        },
        {
         "marker": {
          "color": "darkblue"
         },
         "x": [
          100,
          300,
          600,
          1000,
          2000,
          3000,
          5000,
          8000,
          12000,
          20000
         ],
         "y": [
          0.07666644449831894,
          0.9233899709382487,
          2.4891119372820403,
          4.402715513962163,
          8.232327780291016,
          9.931748783887373,
          10.78376182660551,
          11.001486596424748,
          11.023613276121491,
          11.043876122192387
         ],
         "type": "scatter",
         "xaxis": "x2",
         "yaxis": "y2"
        },
        {
         "marker": {
          "color": "darkblue"
         },
         "x": [
          100,
          300,
          600,
          1000,
          2000,
          3000,
          5000,
          8000,
          12000,
          20000
         ],
         "y": [
          0.045215956913025046,
          0.6716022358582707,
          1.8618852552206522,
          3.5412217093875875,
          7.439365952711297,
          10.263316504018348,
          13.513897110885676,
          15.069401260689542,
          15.621739822412318,
          15.7461256683461
         ],
         "type": "scatter",
         "xaxis": "x3",
         "yaxis": "y3"
        },
        {
         "marker": {
          "color": "darkblue"
         },
         "x": [
          100,
          300,
          600,
          1000,
          2000,
          3000,
          5000,
          8000,
          12000,
          20000
         ],
         "y": [
          0.010208058648819573,
          0.6224682835359485,
          1.5585200744029692,
          2.9880483785112544,
          5.9972591025332145,
          7.7805396607094846,
          8.659007143599585,
          9.006794449496825,
          9.033007316653563,
          9.056645808370856
         ],
         "type": "scatter",
         "xaxis": "x4",
         "yaxis": "y4"
        },
        {
         "marker": {
          "color": "darkblue"
         },
         "x": [
          100,
          300,
          600,
          1000,
          2000,
          3000,
          5000,
          8000,
          12000,
          20000
         ],
         "y": [
          0.07576380291614004,
          0.9245628907967651,
          2.542691028262034,
          4.567459556190001,
          9.176976375176938,
          11.503939798930807,
          12.51904668812629,
          12.753615647559025,
          12.779246968183443,
          12.803285610076554
         ],
         "type": "scatter",
         "xaxis": "x5",
         "yaxis": "y5"
        },
        {
         "marker": {
          "color": "darkblue"
         },
         "x": [
          100,
          300,
          600,
          1000,
          2000,
          3000,
          5000,
          8000,
          12000,
          20000
         ],
         "y": [
          0.05102103329439611,
          0.6713929953512165,
          1.8688612464508925,
          3.602687877619226,
          7.730421640680129,
          10.824412537910455,
          14.590344559116385,
          16.455793853929567,
          17.028413526245913,
          17.155079396608997
         ],
         "type": "scatter",
         "xaxis": "x6",
         "yaxis": "y6"
        },
        {
         "marker": {
          "color": "darkblue"
         },
         "x": [
          100,
          300,
          600,
          1000,
          2000,
          3000,
          5000,
          8000,
          12000,
          20000
         ],
         "y": [
          0.008591210336594823,
          0.6227502922017458,
          1.5526268209687277,
          3.0735399091546767,
          6.540796794122872,
          8.769427019586196,
          9.827254911107886,
          10.229046523601115,
          10.258650824870008,
          10.284802344843536
         ],
         "type": "scatter",
         "xaxis": "x7",
         "yaxis": "y7"
        },
        {
         "marker": {
          "color": "darkblue"
         },
         "x": [
          100,
          300,
          600,
          1000,
          2000,
          3000,
          5000,
          8000,
          12000,
          20000
         ],
         "y": [
          0.07852038582764065,
          0.9217923099778758,
          2.55004674718875,
          4.600675307787927,
          9.47648056245688,
          12.193142344163366,
          13.305180748039891,
          13.545691253615255,
          13.573138904434268,
          13.59880714573456
         ],
         "type": "scatter",
         "xaxis": "x8",
         "yaxis": "y8"
        },
        {
         "marker": {
          "color": "darkblue"
         },
         "x": [
          100,
          300,
          600,
          1000,
          2000,
          3000,
          5000,
          8000,
          12000,
          20000
         ],
         "y": [
          0.04888897368543477,
          0.6729270576881108,
          1.87473396875949,
          3.6241963120531517,
          7.7970966495282905,
          10.983858186198214,
          14.93845049103083,
          17.077358504083897,
          17.663873091516525,
          17.791577440021577
         ],
         "type": "scatter",
         "xaxis": "x9",
         "yaxis": "y9"
        },
        {
         "marker": {
          "color": "darkblue"
         },
         "x": [
          100,
          300,
          600,
          1000,
          2000,
          3000,
          5000,
          8000,
          12000,
          20000
         ],
         "y": [
          0.008591210353992018,
          0.6171401868507953,
          1.5646134761922448,
          3.129520813506137,
          6.8483417426289055,
          9.52568834084454,
          10.825146537665798,
          11.245365811913688,
          11.278312658961575,
          11.306497417816397
         ],
         "type": "scatter",
         "xaxis": "x10",
         "yaxis": "y10"
        },
        {
         "marker": {
          "color": "darkblue"
         },
         "x": [
          100,
          300,
          600,
          1000,
          2000,
          3000,
          5000,
          8000,
          12000,
          20000
         ],
         "y": [
          0.07956659415976342,
          0.9238853756433185,
          2.550502177868008,
          4.611595498868604,
          9.63793796960254,
          12.6962817128077,
          13.967170343851032,
          14.216028279448356,
          14.24537120838506,
          14.27220667870337
         ],
         "type": "scatter",
         "xaxis": "x11",
         "yaxis": "y11"
        },
        {
         "marker": {
          "color": "darkblue"
         },
         "x": [
          100,
          300,
          600,
          1000,
          2000,
          3000,
          5000,
          8000,
          12000,
          20000
         ],
         "y": [
          0.04673802917373182,
          0.6730951451948353,
          1.8750510924494423,
          3.628312840719705,
          7.83661641482758,
          11.07056652392242,
          15.113814321078433,
          17.43887360291694,
          18.080925955844307,
          18.209127744217536
         ],
         "type": "scatter",
         "xaxis": "x12",
         "yaxis": "y12"
        }
       ],
       "layout": {
        "template": {
         "data": {
          "bar": [
           {
            "error_x": {
             "color": "#2a3f5f"
            },
            "error_y": {
             "color": "#2a3f5f"
            },
            "marker": {
             "line": {
              "color": "#E5ECF6",
              "width": 0.5
             },
             "pattern": {
              "fillmode": "overlay",
              "size": 10,
              "solidity": 0.2
             }
            },
            "type": "bar"
           }
          ],
          "barpolar": [
           {
            "marker": {
             "line": {
              "color": "#E5ECF6",
              "width": 0.5
             },
             "pattern": {
              "fillmode": "overlay",
              "size": 10,
              "solidity": 0.2
             }
            },
            "type": "barpolar"
           }
          ],
          "carpet": [
           {
            "aaxis": {
             "endlinecolor": "#2a3f5f",
             "gridcolor": "white",
             "linecolor": "white",
             "minorgridcolor": "white",
             "startlinecolor": "#2a3f5f"
            },
            "baxis": {
             "endlinecolor": "#2a3f5f",
             "gridcolor": "white",
             "linecolor": "white",
             "minorgridcolor": "white",
             "startlinecolor": "#2a3f5f"
            },
            "type": "carpet"
           }
          ],
          "choropleth": [
           {
            "colorbar": {
             "outlinewidth": 0,
             "ticks": ""
            },
            "type": "choropleth"
           }
          ],
          "contour": [
           {
            "colorbar": {
             "outlinewidth": 0,
             "ticks": ""
            },
            "colorscale": [
             [
              0.0,
              "#0d0887"
             ],
             [
              0.1111111111111111,
              "#46039f"
             ],
             [
              0.2222222222222222,
              "#7201a8"
             ],
             [
              0.3333333333333333,
              "#9c179e"
             ],
             [
              0.4444444444444444,
              "#bd3786"
             ],
             [
              0.5555555555555556,
              "#d8576b"
             ],
             [
              0.6666666666666666,
              "#ed7953"
             ],
             [
              0.7777777777777778,
              "#fb9f3a"
             ],
             [
              0.8888888888888888,
              "#fdca26"
             ],
             [
              1.0,
              "#f0f921"
             ]
            ],
            "type": "contour"
           }
          ],
          "contourcarpet": [
           {
            "colorbar": {
             "outlinewidth": 0,
             "ticks": ""
            },
            "type": "contourcarpet"
           }
          ],
          "heatmap": [
           {
            "colorbar": {
             "outlinewidth": 0,
             "ticks": ""
            },
            "colorscale": [
             [
              0.0,
              "#0d0887"
             ],
             [
              0.1111111111111111,
              "#46039f"
             ],
             [
              0.2222222222222222,
              "#7201a8"
             ],
             [
              0.3333333333333333,
              "#9c179e"
             ],
             [
              0.4444444444444444,
              "#bd3786"
             ],
             [
              0.5555555555555556,
              "#d8576b"
             ],
             [
              0.6666666666666666,
              "#ed7953"
             ],
             [
              0.7777777777777778,
              "#fb9f3a"
             ],
             [
              0.8888888888888888,
              "#fdca26"
             ],
             [
              1.0,
              "#f0f921"
             ]
            ],
            "type": "heatmap"
           }
          ],
          "heatmapgl": [
           {
            "colorbar": {
             "outlinewidth": 0,
             "ticks": ""
            },
            "colorscale": [
             [
              0.0,
              "#0d0887"
             ],
             [
              0.1111111111111111,
              "#46039f"
             ],
             [
              0.2222222222222222,
              "#7201a8"
             ],
             [
              0.3333333333333333,
              "#9c179e"
             ],
             [
              0.4444444444444444,
              "#bd3786"
             ],
             [
              0.5555555555555556,
              "#d8576b"
             ],
             [
              0.6666666666666666,
              "#ed7953"
             ],
             [
              0.7777777777777778,
              "#fb9f3a"
             ],
             [
              0.8888888888888888,
              "#fdca26"
             ],
             [
              1.0,
              "#f0f921"
             ]
            ],
            "type": "heatmapgl"
           }
          ],
          "histogram": [
           {
            "marker": {
             "pattern": {
              "fillmode": "overlay",
              "size": 10,
              "solidity": 0.2
             }
            },
            "type": "histogram"
           }
          ],
          "histogram2d": [
           {
            "colorbar": {
             "outlinewidth": 0,
             "ticks": ""
            },
            "colorscale": [
             [
              0.0,
              "#0d0887"
             ],
             [
              0.1111111111111111,
              "#46039f"
             ],
             [
              0.2222222222222222,
              "#7201a8"
             ],
             [
              0.3333333333333333,
              "#9c179e"
             ],
             [
              0.4444444444444444,
              "#bd3786"
             ],
             [
              0.5555555555555556,
              "#d8576b"
             ],
             [
              0.6666666666666666,
              "#ed7953"
             ],
             [
              0.7777777777777778,
              "#fb9f3a"
             ],
             [
              0.8888888888888888,
              "#fdca26"
             ],
             [
              1.0,
              "#f0f921"
             ]
            ],
            "type": "histogram2d"
           }
          ],
          "histogram2dcontour": [
           {
            "colorbar": {
             "outlinewidth": 0,
             "ticks": ""
            },
            "colorscale": [
             [
              0.0,
              "#0d0887"
             ],
             [
              0.1111111111111111,
              "#46039f"
             ],
             [
              0.2222222222222222,
              "#7201a8"
             ],
             [
              0.3333333333333333,
              "#9c179e"
             ],
             [
              0.4444444444444444,
              "#bd3786"
             ],
             [
              0.5555555555555556,
              "#d8576b"
             ],
             [
              0.6666666666666666,
              "#ed7953"
             ],
             [
              0.7777777777777778,
              "#fb9f3a"
             ],
             [
              0.8888888888888888,
              "#fdca26"
             ],
             [
              1.0,
              "#f0f921"
             ]
            ],
            "type": "histogram2dcontour"
           }
          ],
          "mesh3d": [
           {
            "colorbar": {
             "outlinewidth": 0,
             "ticks": ""
            },
            "type": "mesh3d"
           }
          ],
          "parcoords": [
           {
            "line": {
             "colorbar": {
              "outlinewidth": 0,
              "ticks": ""
             }
            },
            "type": "parcoords"
           }
          ],
          "pie": [
           {
            "automargin": true,
            "type": "pie"
           }
          ],
          "scatter": [
           {
            "marker": {
             "colorbar": {
              "outlinewidth": 0,
              "ticks": ""
             }
            },
            "type": "scatter"
           }
          ],
          "scatter3d": [
           {
            "line": {
             "colorbar": {
              "outlinewidth": 0,
              "ticks": ""
             }
            },
            "marker": {
             "colorbar": {
              "outlinewidth": 0,
              "ticks": ""
             }
            },
            "type": "scatter3d"
           }
          ],
          "scattercarpet": [
           {
            "marker": {
             "colorbar": {
              "outlinewidth": 0,
              "ticks": ""
             }
            },
            "type": "scattercarpet"
           }
          ],
          "scattergeo": [
           {
            "marker": {
             "colorbar": {
              "outlinewidth": 0,
              "ticks": ""
             }
            },
            "type": "scattergeo"
           }
          ],
          "scattergl": [
           {
            "marker": {
             "colorbar": {
              "outlinewidth": 0,
              "ticks": ""
             }
            },
            "type": "scattergl"
           }
          ],
          "scattermapbox": [
           {
            "marker": {
             "colorbar": {
              "outlinewidth": 0,
              "ticks": ""
             }
            },
            "type": "scattermapbox"
           }
          ],
          "scatterpolar": [
           {
            "marker": {
             "colorbar": {
              "outlinewidth": 0,
              "ticks": ""
             }
            },
            "type": "scatterpolar"
           }
          ],
          "scatterpolargl": [
           {
            "marker": {
             "colorbar": {
              "outlinewidth": 0,
              "ticks": ""
             }
            },
            "type": "scatterpolargl"
           }
          ],
          "scatterternary": [
           {
            "marker": {
             "colorbar": {
              "outlinewidth": 0,
              "ticks": ""
             }
            },
            "type": "scatterternary"
           }
          ],
          "surface": [
           {
            "colorbar": {
             "outlinewidth": 0,
             "ticks": ""
            },
            "colorscale": [
             [
              0.0,
              "#0d0887"
             ],
             [
              0.1111111111111111,
              "#46039f"
             ],
             [
              0.2222222222222222,
              "#7201a8"
             ],
             [
              0.3333333333333333,
              "#9c179e"
             ],
             [
              0.4444444444444444,
              "#bd3786"
             ],
             [
              0.5555555555555556,
              "#d8576b"
             ],
             [
              0.6666666666666666,
              "#ed7953"
             ],
             [
              0.7777777777777778,
              "#fb9f3a"
             ],
             [
              0.8888888888888888,
              "#fdca26"
             ],
             [
              1.0,
              "#f0f921"
             ]
            ],
            "type": "surface"
           }
          ],
          "table": [
           {
            "cells": {
             "fill": {
              "color": "#EBF0F8"
             },
             "line": {
              "color": "white"
             }
            },
            "header": {
             "fill": {
              "color": "#C8D4E3"
             },
             "line": {
              "color": "white"
             }
            },
            "type": "table"
           }
          ]
         },
         "layout": {
          "annotationdefaults": {
           "arrowcolor": "#2a3f5f",
           "arrowhead": 0,
           "arrowwidth": 1
          },
          "autotypenumbers": "strict",
          "coloraxis": {
           "colorbar": {
            "outlinewidth": 0,
            "ticks": ""
           }
          },
          "colorscale": {
           "diverging": [
            [
             0,
             "#8e0152"
            ],
            [
             0.1,
             "#c51b7d"
            ],
            [
             0.2,
             "#de77ae"
            ],
            [
             0.3,
             "#f1b6da"
            ],
            [
             0.4,
             "#fde0ef"
            ],
            [
             0.5,
             "#f7f7f7"
            ],
            [
             0.6,
             "#e6f5d0"
            ],
            [
             0.7,
             "#b8e186"
            ],
            [
             0.8,
             "#7fbc41"
            ],
            [
             0.9,
             "#4d9221"
            ],
            [
             1,
             "#276419"
            ]
           ],
           "sequential": [
            [
             0.0,
             "#0d0887"
            ],
            [
             0.1111111111111111,
             "#46039f"
            ],
            [
             0.2222222222222222,
             "#7201a8"
            ],
            [
             0.3333333333333333,
             "#9c179e"
            ],
            [
             0.4444444444444444,
             "#bd3786"
            ],
            [
             0.5555555555555556,
             "#d8576b"
            ],
            [
             0.6666666666666666,
             "#ed7953"
            ],
            [
             0.7777777777777778,
             "#fb9f3a"
            ],
            [
             0.8888888888888888,
             "#fdca26"
            ],
            [
             1.0,
             "#f0f921"
            ]
           ],
           "sequentialminus": [
            [
             0.0,
             "#0d0887"
            ],
            [
             0.1111111111111111,
             "#46039f"
            ],
            [
             0.2222222222222222,
             "#7201a8"
            ],
            [
             0.3333333333333333,
             "#9c179e"
            ],
            [
             0.4444444444444444,
             "#bd3786"
            ],
            [
             0.5555555555555556,
             "#d8576b"
            ],
            [
             0.6666666666666666,
             "#ed7953"
            ],
            [
             0.7777777777777778,
             "#fb9f3a"
            ],
            [
             0.8888888888888888,
             "#fdca26"
            ],
            [
             1.0,
             "#f0f921"
            ]
           ]
          },
          "colorway": [
           "#636efa",
           "#EF553B",
           "#00cc96",
           "#ab63fa",
           "#FFA15A",
           "#19d3f3",
           "#FF6692",
           "#B6E880",
           "#FF97FF",
           "#FECB52"
          ],
          "font": {
           "color": "#2a3f5f"
          },
          "geo": {
           "bgcolor": "white",
           "lakecolor": "white",
           "landcolor": "#E5ECF6",
           "showlakes": true,
           "showland": true,
           "subunitcolor": "white"
          },
          "hoverlabel": {
           "align": "left"
          },
          "hovermode": "closest",
          "mapbox": {
           "style": "light"
          },
          "paper_bgcolor": "white",
          "plot_bgcolor": "#E5ECF6",
          "polar": {
           "angularaxis": {
            "gridcolor": "white",
            "linecolor": "white",
            "ticks": ""
           },
           "bgcolor": "#E5ECF6",
           "radialaxis": {
            "gridcolor": "white",
            "linecolor": "white",
            "ticks": ""
           }
          },
          "scene": {
           "xaxis": {
            "backgroundcolor": "#E5ECF6",
            "gridcolor": "white",
            "gridwidth": 2,
            "linecolor": "white",
            "showbackground": true,
            "ticks": "",
            "zerolinecolor": "white"
           },
           "yaxis": {
            "backgroundcolor": "#E5ECF6",
            "gridcolor": "white",
            "gridwidth": 2,
            "linecolor": "white",
            "showbackground": true,
            "ticks": "",
            "zerolinecolor": "white"
           },
           "zaxis": {
            "backgroundcolor": "#E5ECF6",
            "gridcolor": "white",
            "gridwidth": 2,
            "linecolor": "white",
            "showbackground": true,
            "ticks": "",
            "zerolinecolor": "white"
           }
          },
          "shapedefaults": {
           "line": {
            "color": "#2a3f5f"
           }
          },
          "ternary": {
           "aaxis": {
            "gridcolor": "white",
            "linecolor": "white",
            "ticks": ""
           },
           "baxis": {
            "gridcolor": "white",
            "linecolor": "white",
            "ticks": ""
           },
           "bgcolor": "#E5ECF6",
           "caxis": {
            "gridcolor": "white",
            "linecolor": "white",
            "ticks": ""
           }
          },
          "title": {
           "x": 0.05
          },
          "xaxis": {
           "automargin": true,
           "gridcolor": "white",
           "linecolor": "white",
           "ticks": "",
           "title": {
            "standoff": 15
           },
           "zerolinecolor": "white",
           "zerolinewidth": 2
          },
          "yaxis": {
           "automargin": true,
           "gridcolor": "white",
           "linecolor": "white",
           "ticks": "",
           "title": {
            "standoff": 15
           },
           "zerolinecolor": "white",
           "zerolinewidth": 2
          }
         }
        },
        "xaxis": {
         "anchor": "y",
         "domain": [
          0.0,
          0.3
         ],
         "showgrid": true,
         "gridwidth": 0.5,
         "gridcolor": "rgb(242,242,242)",
         "range": [
          -200,
          20200
         ]
        },
        "yaxis": {
         "anchor": "x",
         "domain": [
          0.7875,
          1.0
         ],
         "title": {
          "text": "Heat pump: 3000 W"
         },
         "ticksuffix": "%",
         "showgrid": true,
         "gridwidth": 0.5,
         "gridcolor": "rgb(242,242,242)",
         "range": [
          0,
          20
         ]
        },
        "xaxis2": {
         "anchor": "y2",
         "domain": [
          0.35,
          0.6499999999999999
         ],
         "showgrid": true,
         "gridwidth": 0.5,
         "gridcolor": "rgb(242,242,242)",
         "range": [
          -200,
          20200
         ]
        },
        "yaxis2": {
         "anchor": "x2",
         "domain": [
          0.7875,
          1.0
         ],
         "matches": "y",
         "showticklabels": false,
         "showgrid": true,
         "gridwidth": 0.5,
         "gridcolor": "rgb(242,242,242)",
         "range": [
          0,
          20
         ]
        },
        "xaxis3": {
         "anchor": "y3",
         "domain": [
          0.7,
          1.0
         ],
         "showgrid": true,
         "gridwidth": 0.5,
         "gridcolor": "rgb(242,242,242)",
         "range": [
          -200,
          20200
         ]
        },
        "yaxis3": {
         "anchor": "x3",
         "domain": [
          0.7875,
          1.0
         ],
         "matches": "y",
         "showticklabels": false,
         "showgrid": true,
         "gridwidth": 0.5,
         "gridcolor": "rgb(242,242,242)",
         "range": [
          0,
          20
         ]
        },
        "xaxis4": {
         "anchor": "y4",
         "domain": [
          0.0,
          0.3
         ],
         "showgrid": true,
         "gridwidth": 0.5,
         "gridcolor": "rgb(242,242,242)",
         "range": [
          -200,
          20200
         ]
        },
        "yaxis4": {
         "anchor": "x4",
         "domain": [
          0.525,
          0.7375
         ],
         "title": {
          "text": "Heat pump: 5000 W"
         },
         "ticksuffix": "%",
         "showgrid": true,
         "gridwidth": 0.5,
         "gridcolor": "rgb(242,242,242)",
         "range": [
          0,
          20
         ]
        },
        "xaxis5": {
         "anchor": "y5",
         "domain": [
          0.35,
          0.6499999999999999
         ],
         "showgrid": true,
         "gridwidth": 0.5,
         "gridcolor": "rgb(242,242,242)",
         "range": [
          -200,
          20200
         ]
        },
        "yaxis5": {
         "anchor": "x5",
         "domain": [
          0.525,
          0.7375
         ],
         "matches": "y4",
         "showticklabels": false,
         "showgrid": true,
         "gridwidth": 0.5,
         "gridcolor": "rgb(242,242,242)",
         "range": [
          0,
          20
         ]
        },
        "xaxis6": {
         "anchor": "y6",
         "domain": [
          0.7,
          1.0
         ],
         "showgrid": true,
         "gridwidth": 0.5,
         "gridcolor": "rgb(242,242,242)",
         "range": [
          -200,
          20200
         ]
        },
        "yaxis6": {
         "anchor": "x6",
         "domain": [
          0.525,
          0.7375
         ],
         "matches": "y4",
         "showticklabels": false,
         "showgrid": true,
         "gridwidth": 0.5,
         "gridcolor": "rgb(242,242,242)",
         "range": [
          0,
          20
         ]
        },
        "xaxis7": {
         "anchor": "y7",
         "domain": [
          0.0,
          0.3
         ],
         "showgrid": true,
         "gridwidth": 0.5,
         "gridcolor": "rgb(242,242,242)",
         "range": [
          -200,
          20200
         ]
        },
        "yaxis7": {
         "anchor": "x7",
         "domain": [
          0.2625,
          0.475
         ],
         "title": {
          "text": "Heat pump: 7000 W"
         },
         "ticksuffix": "%",
         "showgrid": true,
         "gridwidth": 0.5,
         "gridcolor": "rgb(242,242,242)",
         "range": [
          0,
          20
         ]
        },
        "xaxis8": {
         "anchor": "y8",
         "domain": [
          0.35,
          0.6499999999999999
         ],
         "showgrid": true,
         "gridwidth": 0.5,
         "gridcolor": "rgb(242,242,242)",
         "range": [
          -200,
          20200
         ]
        },
        "yaxis8": {
         "anchor": "x8",
         "domain": [
          0.2625,
          0.475
         ],
         "matches": "y7",
         "showticklabels": false,
         "showgrid": true,
         "gridwidth": 0.5,
         "gridcolor": "rgb(242,242,242)",
         "range": [
          0,
          20
         ]
        },
        "xaxis9": {
         "anchor": "y9",
         "domain": [
          0.7,
          1.0
         ],
         "showgrid": true,
         "gridwidth": 0.5,
         "gridcolor": "rgb(242,242,242)",
         "range": [
          -200,
          20200
         ]
        },
        "yaxis9": {
         "anchor": "x9",
         "domain": [
          0.2625,
          0.475
         ],
         "matches": "y7",
         "showticklabels": false,
         "showgrid": true,
         "gridwidth": 0.5,
         "gridcolor": "rgb(242,242,242)",
         "range": [
          0,
          20
         ]
        },
        "xaxis10": {
         "anchor": "y10",
         "domain": [
          0.0,
          0.3
         ],
         "showgrid": true,
         "gridwidth": 0.5,
         "gridcolor": "rgb(242,242,242)",
         "range": [
          -200,
          20200
         ]
        },
        "yaxis10": {
         "anchor": "x10",
         "domain": [
          0.0,
          0.2125
         ],
         "title": {
          "text": "Heat pump: 10000 W"
         },
         "ticksuffix": "%",
         "showgrid": true,
         "gridwidth": 0.5,
         "gridcolor": "rgb(242,242,242)",
         "range": [
          0,
          20
         ]
        },
        "xaxis11": {
         "anchor": "y11",
         "domain": [
          0.35,
          0.6499999999999999
         ],
         "showgrid": true,
         "gridwidth": 0.5,
         "gridcolor": "rgb(242,242,242)",
         "range": [
          -200,
          20200
         ]
        },
        "yaxis11": {
         "anchor": "x11",
         "domain": [
          0.0,
          0.2125
         ],
         "matches": "y10",
         "showticklabels": false,
         "showgrid": true,
         "gridwidth": 0.5,
         "gridcolor": "rgb(242,242,242)",
         "range": [
          0,
          20
         ]
        },
        "xaxis12": {
         "anchor": "y12",
         "domain": [
          0.7,
          1.0
         ],
         "showgrid": true,
         "gridwidth": 0.5,
         "gridcolor": "rgb(242,242,242)",
         "range": [
          -200,
          20200
         ]
        },
        "yaxis12": {
         "anchor": "x12",
         "domain": [
          0.0,
          0.2125
         ],
         "matches": "y10",
         "showticklabels": false,
         "showgrid": true,
         "gridwidth": 0.5,
         "gridcolor": "rgb(242,242,242)",
         "range": [
          0,
          20
         ]
        },
        "annotations": [
         {
          "font": {
           "size": 16
          },
          "showarrow": false,
          "text": "House: 350 W/K",
          "x": 0.15,
          "xanchor": "center",
          "xref": "paper",
          "y": 1.0,
          "yanchor": "bottom",
          "yref": "paper"
         },
         {
          "font": {
           "size": 16
          },
          "showarrow": false,
          "text": "House: 200 W/K",
          "x": 0.49999999999999994,
          "xanchor": "center",
          "xref": "paper",
          "y": 1.0,
          "yanchor": "bottom",
          "yref": "paper"
         },
         {
          "font": {
           "size": 16
          },
          "showarrow": false,
          "text": "House: 150 W/K",
          "x": 0.85,
          "xanchor": "center",
          "xref": "paper",
          "y": 1.0,
          "yanchor": "bottom",
          "yref": "paper"
         },
         {
          "font": {
           "size": 16
          },
          "showarrow": false,
          "text": "Storage volume in litres",
          "x": 0.5,
          "xanchor": "center",
          "xref": "paper",
          "y": 0,
          "yanchor": "top",
          "yref": "paper",
          "yshift": -30
         }
        ],
        "showlegend": false,
        "height": 1200,
        "width": 1200,
        "plot_bgcolor": "white"
       },
       "config": {
        "plotlyServerURL": "https://plot.ly"
       }
      },
      "text/html": "<div>                            <div id=\"0c152f79-3992-4b9b-8df0-95c2564f62dd\" class=\"plotly-graph-div\" style=\"height:1200px; width:1200px;\"></div>            <script type=\"text/javascript\">                require([\"plotly\"], function(Plotly) {                    window.PLOTLYENV=window.PLOTLYENV || {};                                    if (document.getElementById(\"0c152f79-3992-4b9b-8df0-95c2564f62dd\")) {                    Plotly.newPlot(                        \"0c152f79-3992-4b9b-8df0-95c2564f62dd\",                        [{\"type\":\"scatter\",\"xaxis\":\"x\",\"yaxis\":\"y\"},{\"marker\":{\"color\":\"darkblue\"},\"x\":[100,300,600,1000,2000,3000,5000,8000,12000,20000],\"y\":[0.07666644449831894,0.9233899709382487,2.4891119372820403,4.402715513962163,8.232327780291016,9.931748783887373,10.78376182660551,11.001486596424748,11.023613276121491,11.043876122192387],\"type\":\"scatter\",\"xaxis\":\"x2\",\"yaxis\":\"y2\"},{\"marker\":{\"color\":\"darkblue\"},\"x\":[100,300,600,1000,2000,3000,5000,8000,12000,20000],\"y\":[0.045215956913025046,0.6716022358582707,1.8618852552206522,3.5412217093875875,7.439365952711297,10.263316504018348,13.513897110885676,15.069401260689542,15.621739822412318,15.7461256683461],\"type\":\"scatter\",\"xaxis\":\"x3\",\"yaxis\":\"y3\"},{\"marker\":{\"color\":\"darkblue\"},\"x\":[100,300,600,1000,2000,3000,5000,8000,12000,20000],\"y\":[0.010208058648819573,0.6224682835359485,1.5585200744029692,2.9880483785112544,5.9972591025332145,7.7805396607094846,8.659007143599585,9.006794449496825,9.033007316653563,9.056645808370856],\"type\":\"scatter\",\"xaxis\":\"x4\",\"yaxis\":\"y4\"},{\"marker\":{\"color\":\"darkblue\"},\"x\":[100,300,600,1000,2000,3000,5000,8000,12000,20000],\"y\":[0.07576380291614004,0.9245628907967651,2.542691028262034,4.567459556190001,9.176976375176938,11.503939798930807,12.51904668812629,12.753615647559025,12.779246968183443,12.803285610076554],\"type\":\"scatter\",\"xaxis\":\"x5\",\"yaxis\":\"y5\"},{\"marker\":{\"color\":\"darkblue\"},\"x\":[100,300,600,1000,2000,3000,5000,8000,12000,20000],\"y\":[0.05102103329439611,0.6713929953512165,1.8688612464508925,3.602687877619226,7.730421640680129,10.824412537910455,14.590344559116385,16.455793853929567,17.028413526245913,17.155079396608997],\"type\":\"scatter\",\"xaxis\":\"x6\",\"yaxis\":\"y6\"},{\"marker\":{\"color\":\"darkblue\"},\"x\":[100,300,600,1000,2000,3000,5000,8000,12000,20000],\"y\":[0.008591210336594823,0.6227502922017458,1.5526268209687277,3.0735399091546767,6.540796794122872,8.769427019586196,9.827254911107886,10.229046523601115,10.258650824870008,10.284802344843536],\"type\":\"scatter\",\"xaxis\":\"x7\",\"yaxis\":\"y7\"},{\"marker\":{\"color\":\"darkblue\"},\"x\":[100,300,600,1000,2000,3000,5000,8000,12000,20000],\"y\":[0.07852038582764065,0.9217923099778758,2.55004674718875,4.600675307787927,9.47648056245688,12.193142344163366,13.305180748039891,13.545691253615255,13.573138904434268,13.59880714573456],\"type\":\"scatter\",\"xaxis\":\"x8\",\"yaxis\":\"y8\"},{\"marker\":{\"color\":\"darkblue\"},\"x\":[100,300,600,1000,2000,3000,5000,8000,12000,20000],\"y\":[0.04888897368543477,0.6729270576881108,1.87473396875949,3.6241963120531517,7.7970966495282905,10.983858186198214,14.93845049103083,17.077358504083897,17.663873091516525,17.791577440021577],\"type\":\"scatter\",\"xaxis\":\"x9\",\"yaxis\":\"y9\"},{\"marker\":{\"color\":\"darkblue\"},\"x\":[100,300,600,1000,2000,3000,5000,8000,12000,20000],\"y\":[0.008591210353992018,0.6171401868507953,1.5646134761922448,3.129520813506137,6.8483417426289055,9.52568834084454,10.825146537665798,11.245365811913688,11.278312658961575,11.306497417816397],\"type\":\"scatter\",\"xaxis\":\"x10\",\"yaxis\":\"y10\"},{\"marker\":{\"color\":\"darkblue\"},\"x\":[100,300,600,1000,2000,3000,5000,8000,12000,20000],\"y\":[0.07956659415976342,0.9238853756433185,2.550502177868008,4.611595498868604,9.63793796960254,12.6962817128077,13.967170343851032,14.216028279448356,14.24537120838506,14.27220667870337],\"type\":\"scatter\",\"xaxis\":\"x11\",\"yaxis\":\"y11\"},{\"marker\":{\"color\":\"darkblue\"},\"x\":[100,300,600,1000,2000,3000,5000,8000,12000,20000],\"y\":[0.04673802917373182,0.6730951451948353,1.8750510924494423,3.628312840719705,7.83661641482758,11.07056652392242,15.113814321078433,17.43887360291694,18.080925955844307,18.209127744217536],\"type\":\"scatter\",\"xaxis\":\"x12\",\"yaxis\":\"y12\"}],                        {\"template\":{\"data\":{\"bar\":[{\"error_x\":{\"color\":\"#2a3f5f\"},\"error_y\":{\"color\":\"#2a3f5f\"},\"marker\":{\"line\":{\"color\":\"#E5ECF6\",\"width\":0.5},\"pattern\":{\"fillmode\":\"overlay\",\"size\":10,\"solidity\":0.2}},\"type\":\"bar\"}],\"barpolar\":[{\"marker\":{\"line\":{\"color\":\"#E5ECF6\",\"width\":0.5},\"pattern\":{\"fillmode\":\"overlay\",\"size\":10,\"solidity\":0.2}},\"type\":\"barpolar\"}],\"carpet\":[{\"aaxis\":{\"endlinecolor\":\"#2a3f5f\",\"gridcolor\":\"white\",\"linecolor\":\"white\",\"minorgridcolor\":\"white\",\"startlinecolor\":\"#2a3f5f\"},\"baxis\":{\"endlinecolor\":\"#2a3f5f\",\"gridcolor\":\"white\",\"linecolor\":\"white\",\"minorgridcolor\":\"white\",\"startlinecolor\":\"#2a3f5f\"},\"type\":\"carpet\"}],\"choropleth\":[{\"colorbar\":{\"outlinewidth\":0,\"ticks\":\"\"},\"type\":\"choropleth\"}],\"contour\":[{\"colorbar\":{\"outlinewidth\":0,\"ticks\":\"\"},\"colorscale\":[[0.0,\"#0d0887\"],[0.1111111111111111,\"#46039f\"],[0.2222222222222222,\"#7201a8\"],[0.3333333333333333,\"#9c179e\"],[0.4444444444444444,\"#bd3786\"],[0.5555555555555556,\"#d8576b\"],[0.6666666666666666,\"#ed7953\"],[0.7777777777777778,\"#fb9f3a\"],[0.8888888888888888,\"#fdca26\"],[1.0,\"#f0f921\"]],\"type\":\"contour\"}],\"contourcarpet\":[{\"colorbar\":{\"outlinewidth\":0,\"ticks\":\"\"},\"type\":\"contourcarpet\"}],\"heatmap\":[{\"colorbar\":{\"outlinewidth\":0,\"ticks\":\"\"},\"colorscale\":[[0.0,\"#0d0887\"],[0.1111111111111111,\"#46039f\"],[0.2222222222222222,\"#7201a8\"],[0.3333333333333333,\"#9c179e\"],[0.4444444444444444,\"#bd3786\"],[0.5555555555555556,\"#d8576b\"],[0.6666666666666666,\"#ed7953\"],[0.7777777777777778,\"#fb9f3a\"],[0.8888888888888888,\"#fdca26\"],[1.0,\"#f0f921\"]],\"type\":\"heatmap\"}],\"heatmapgl\":[{\"colorbar\":{\"outlinewidth\":0,\"ticks\":\"\"},\"colorscale\":[[0.0,\"#0d0887\"],[0.1111111111111111,\"#46039f\"],[0.2222222222222222,\"#7201a8\"],[0.3333333333333333,\"#9c179e\"],[0.4444444444444444,\"#bd3786\"],[0.5555555555555556,\"#d8576b\"],[0.6666666666666666,\"#ed7953\"],[0.7777777777777778,\"#fb9f3a\"],[0.8888888888888888,\"#fdca26\"],[1.0,\"#f0f921\"]],\"type\":\"heatmapgl\"}],\"histogram\":[{\"marker\":{\"pattern\":{\"fillmode\":\"overlay\",\"size\":10,\"solidity\":0.2}},\"type\":\"histogram\"}],\"histogram2d\":[{\"colorbar\":{\"outlinewidth\":0,\"ticks\":\"\"},\"colorscale\":[[0.0,\"#0d0887\"],[0.1111111111111111,\"#46039f\"],[0.2222222222222222,\"#7201a8\"],[0.3333333333333333,\"#9c179e\"],[0.4444444444444444,\"#bd3786\"],[0.5555555555555556,\"#d8576b\"],[0.6666666666666666,\"#ed7953\"],[0.7777777777777778,\"#fb9f3a\"],[0.8888888888888888,\"#fdca26\"],[1.0,\"#f0f921\"]],\"type\":\"histogram2d\"}],\"histogram2dcontour\":[{\"colorbar\":{\"outlinewidth\":0,\"ticks\":\"\"},\"colorscale\":[[0.0,\"#0d0887\"],[0.1111111111111111,\"#46039f\"],[0.2222222222222222,\"#7201a8\"],[0.3333333333333333,\"#9c179e\"],[0.4444444444444444,\"#bd3786\"],[0.5555555555555556,\"#d8576b\"],[0.6666666666666666,\"#ed7953\"],[0.7777777777777778,\"#fb9f3a\"],[0.8888888888888888,\"#fdca26\"],[1.0,\"#f0f921\"]],\"type\":\"histogram2dcontour\"}],\"mesh3d\":[{\"colorbar\":{\"outlinewidth\":0,\"ticks\":\"\"},\"type\":\"mesh3d\"}],\"parcoords\":[{\"line\":{\"colorbar\":{\"outlinewidth\":0,\"ticks\":\"\"}},\"type\":\"parcoords\"}],\"pie\":[{\"automargin\":true,\"type\":\"pie\"}],\"scatter\":[{\"marker\":{\"colorbar\":{\"outlinewidth\":0,\"ticks\":\"\"}},\"type\":\"scatter\"}],\"scatter3d\":[{\"line\":{\"colorbar\":{\"outlinewidth\":0,\"ticks\":\"\"}},\"marker\":{\"colorbar\":{\"outlinewidth\":0,\"ticks\":\"\"}},\"type\":\"scatter3d\"}],\"scattercarpet\":[{\"marker\":{\"colorbar\":{\"outlinewidth\":0,\"ticks\":\"\"}},\"type\":\"scattercarpet\"}],\"scattergeo\":[{\"marker\":{\"colorbar\":{\"outlinewidth\":0,\"ticks\":\"\"}},\"type\":\"scattergeo\"}],\"scattergl\":[{\"marker\":{\"colorbar\":{\"outlinewidth\":0,\"ticks\":\"\"}},\"type\":\"scattergl\"}],\"scattermapbox\":[{\"marker\":{\"colorbar\":{\"outlinewidth\":0,\"ticks\":\"\"}},\"type\":\"scattermapbox\"}],\"scatterpolar\":[{\"marker\":{\"colorbar\":{\"outlinewidth\":0,\"ticks\":\"\"}},\"type\":\"scatterpolar\"}],\"scatterpolargl\":[{\"marker\":{\"colorbar\":{\"outlinewidth\":0,\"ticks\":\"\"}},\"type\":\"scatterpolargl\"}],\"scatterternary\":[{\"marker\":{\"colorbar\":{\"outlinewidth\":0,\"ticks\":\"\"}},\"type\":\"scatterternary\"}],\"surface\":[{\"colorbar\":{\"outlinewidth\":0,\"ticks\":\"\"},\"colorscale\":[[0.0,\"#0d0887\"],[0.1111111111111111,\"#46039f\"],[0.2222222222222222,\"#7201a8\"],[0.3333333333333333,\"#9c179e\"],[0.4444444444444444,\"#bd3786\"],[0.5555555555555556,\"#d8576b\"],[0.6666666666666666,\"#ed7953\"],[0.7777777777777778,\"#fb9f3a\"],[0.8888888888888888,\"#fdca26\"],[1.0,\"#f0f921\"]],\"type\":\"surface\"}],\"table\":[{\"cells\":{\"fill\":{\"color\":\"#EBF0F8\"},\"line\":{\"color\":\"white\"}},\"header\":{\"fill\":{\"color\":\"#C8D4E3\"},\"line\":{\"color\":\"white\"}},\"type\":\"table\"}]},\"layout\":{\"annotationdefaults\":{\"arrowcolor\":\"#2a3f5f\",\"arrowhead\":0,\"arrowwidth\":1},\"autotypenumbers\":\"strict\",\"coloraxis\":{\"colorbar\":{\"outlinewidth\":0,\"ticks\":\"\"}},\"colorscale\":{\"diverging\":[[0,\"#8e0152\"],[0.1,\"#c51b7d\"],[0.2,\"#de77ae\"],[0.3,\"#f1b6da\"],[0.4,\"#fde0ef\"],[0.5,\"#f7f7f7\"],[0.6,\"#e6f5d0\"],[0.7,\"#b8e186\"],[0.8,\"#7fbc41\"],[0.9,\"#4d9221\"],[1,\"#276419\"]],\"sequential\":[[0.0,\"#0d0887\"],[0.1111111111111111,\"#46039f\"],[0.2222222222222222,\"#7201a8\"],[0.3333333333333333,\"#9c179e\"],[0.4444444444444444,\"#bd3786\"],[0.5555555555555556,\"#d8576b\"],[0.6666666666666666,\"#ed7953\"],[0.7777777777777778,\"#fb9f3a\"],[0.8888888888888888,\"#fdca26\"],[1.0,\"#f0f921\"]],\"sequentialminus\":[[0.0,\"#0d0887\"],[0.1111111111111111,\"#46039f\"],[0.2222222222222222,\"#7201a8\"],[0.3333333333333333,\"#9c179e\"],[0.4444444444444444,\"#bd3786\"],[0.5555555555555556,\"#d8576b\"],[0.6666666666666666,\"#ed7953\"],[0.7777777777777778,\"#fb9f3a\"],[0.8888888888888888,\"#fdca26\"],[1.0,\"#f0f921\"]]},\"colorway\":[\"#636efa\",\"#EF553B\",\"#00cc96\",\"#ab63fa\",\"#FFA15A\",\"#19d3f3\",\"#FF6692\",\"#B6E880\",\"#FF97FF\",\"#FECB52\"],\"font\":{\"color\":\"#2a3f5f\"},\"geo\":{\"bgcolor\":\"white\",\"lakecolor\":\"white\",\"landcolor\":\"#E5ECF6\",\"showlakes\":true,\"showland\":true,\"subunitcolor\":\"white\"},\"hoverlabel\":{\"align\":\"left\"},\"hovermode\":\"closest\",\"mapbox\":{\"style\":\"light\"},\"paper_bgcolor\":\"white\",\"plot_bgcolor\":\"#E5ECF6\",\"polar\":{\"angularaxis\":{\"gridcolor\":\"white\",\"linecolor\":\"white\",\"ticks\":\"\"},\"bgcolor\":\"#E5ECF6\",\"radialaxis\":{\"gridcolor\":\"white\",\"linecolor\":\"white\",\"ticks\":\"\"}},\"scene\":{\"xaxis\":{\"backgroundcolor\":\"#E5ECF6\",\"gridcolor\":\"white\",\"gridwidth\":2,\"linecolor\":\"white\",\"showbackground\":true,\"ticks\":\"\",\"zerolinecolor\":\"white\"},\"yaxis\":{\"backgroundcolor\":\"#E5ECF6\",\"gridcolor\":\"white\",\"gridwidth\":2,\"linecolor\":\"white\",\"showbackground\":true,\"ticks\":\"\",\"zerolinecolor\":\"white\"},\"zaxis\":{\"backgroundcolor\":\"#E5ECF6\",\"gridcolor\":\"white\",\"gridwidth\":2,\"linecolor\":\"white\",\"showbackground\":true,\"ticks\":\"\",\"zerolinecolor\":\"white\"}},\"shapedefaults\":{\"line\":{\"color\":\"#2a3f5f\"}},\"ternary\":{\"aaxis\":{\"gridcolor\":\"white\",\"linecolor\":\"white\",\"ticks\":\"\"},\"baxis\":{\"gridcolor\":\"white\",\"linecolor\":\"white\",\"ticks\":\"\"},\"bgcolor\":\"#E5ECF6\",\"caxis\":{\"gridcolor\":\"white\",\"linecolor\":\"white\",\"ticks\":\"\"}},\"title\":{\"x\":0.05},\"xaxis\":{\"automargin\":true,\"gridcolor\":\"white\",\"linecolor\":\"white\",\"ticks\":\"\",\"title\":{\"standoff\":15},\"zerolinecolor\":\"white\",\"zerolinewidth\":2},\"yaxis\":{\"automargin\":true,\"gridcolor\":\"white\",\"linecolor\":\"white\",\"ticks\":\"\",\"title\":{\"standoff\":15},\"zerolinecolor\":\"white\",\"zerolinewidth\":2}}},\"xaxis\":{\"anchor\":\"y\",\"domain\":[0.0,0.3],\"showgrid\":true,\"gridwidth\":0.5,\"gridcolor\":\"rgb(242,242,242)\",\"range\":[-200,20200]},\"yaxis\":{\"anchor\":\"x\",\"domain\":[0.7875,1.0],\"title\":{\"text\":\"Heat pump: 3000 W\"},\"ticksuffix\":\"%\",\"showgrid\":true,\"gridwidth\":0.5,\"gridcolor\":\"rgb(242,242,242)\",\"range\":[0,20]},\"xaxis2\":{\"anchor\":\"y2\",\"domain\":[0.35,0.6499999999999999],\"showgrid\":true,\"gridwidth\":0.5,\"gridcolor\":\"rgb(242,242,242)\",\"range\":[-200,20200]},\"yaxis2\":{\"anchor\":\"x2\",\"domain\":[0.7875,1.0],\"matches\":\"y\",\"showticklabels\":false,\"showgrid\":true,\"gridwidth\":0.5,\"gridcolor\":\"rgb(242,242,242)\",\"range\":[0,20]},\"xaxis3\":{\"anchor\":\"y3\",\"domain\":[0.7,1.0],\"showgrid\":true,\"gridwidth\":0.5,\"gridcolor\":\"rgb(242,242,242)\",\"range\":[-200,20200]},\"yaxis3\":{\"anchor\":\"x3\",\"domain\":[0.7875,1.0],\"matches\":\"y\",\"showticklabels\":false,\"showgrid\":true,\"gridwidth\":0.5,\"gridcolor\":\"rgb(242,242,242)\",\"range\":[0,20]},\"xaxis4\":{\"anchor\":\"y4\",\"domain\":[0.0,0.3],\"showgrid\":true,\"gridwidth\":0.5,\"gridcolor\":\"rgb(242,242,242)\",\"range\":[-200,20200]},\"yaxis4\":{\"anchor\":\"x4\",\"domain\":[0.525,0.7375],\"title\":{\"text\":\"Heat pump: 5000 W\"},\"ticksuffix\":\"%\",\"showgrid\":true,\"gridwidth\":0.5,\"gridcolor\":\"rgb(242,242,242)\",\"range\":[0,20]},\"xaxis5\":{\"anchor\":\"y5\",\"domain\":[0.35,0.6499999999999999],\"showgrid\":true,\"gridwidth\":0.5,\"gridcolor\":\"rgb(242,242,242)\",\"range\":[-200,20200]},\"yaxis5\":{\"anchor\":\"x5\",\"domain\":[0.525,0.7375],\"matches\":\"y4\",\"showticklabels\":false,\"showgrid\":true,\"gridwidth\":0.5,\"gridcolor\":\"rgb(242,242,242)\",\"range\":[0,20]},\"xaxis6\":{\"anchor\":\"y6\",\"domain\":[0.7,1.0],\"showgrid\":true,\"gridwidth\":0.5,\"gridcolor\":\"rgb(242,242,242)\",\"range\":[-200,20200]},\"yaxis6\":{\"anchor\":\"x6\",\"domain\":[0.525,0.7375],\"matches\":\"y4\",\"showticklabels\":false,\"showgrid\":true,\"gridwidth\":0.5,\"gridcolor\":\"rgb(242,242,242)\",\"range\":[0,20]},\"xaxis7\":{\"anchor\":\"y7\",\"domain\":[0.0,0.3],\"showgrid\":true,\"gridwidth\":0.5,\"gridcolor\":\"rgb(242,242,242)\",\"range\":[-200,20200]},\"yaxis7\":{\"anchor\":\"x7\",\"domain\":[0.2625,0.475],\"title\":{\"text\":\"Heat pump: 7000 W\"},\"ticksuffix\":\"%\",\"showgrid\":true,\"gridwidth\":0.5,\"gridcolor\":\"rgb(242,242,242)\",\"range\":[0,20]},\"xaxis8\":{\"anchor\":\"y8\",\"domain\":[0.35,0.6499999999999999],\"showgrid\":true,\"gridwidth\":0.5,\"gridcolor\":\"rgb(242,242,242)\",\"range\":[-200,20200]},\"yaxis8\":{\"anchor\":\"x8\",\"domain\":[0.2625,0.475],\"matches\":\"y7\",\"showticklabels\":false,\"showgrid\":true,\"gridwidth\":0.5,\"gridcolor\":\"rgb(242,242,242)\",\"range\":[0,20]},\"xaxis9\":{\"anchor\":\"y9\",\"domain\":[0.7,1.0],\"showgrid\":true,\"gridwidth\":0.5,\"gridcolor\":\"rgb(242,242,242)\",\"range\":[-200,20200]},\"yaxis9\":{\"anchor\":\"x9\",\"domain\":[0.2625,0.475],\"matches\":\"y7\",\"showticklabels\":false,\"showgrid\":true,\"gridwidth\":0.5,\"gridcolor\":\"rgb(242,242,242)\",\"range\":[0,20]},\"xaxis10\":{\"anchor\":\"y10\",\"domain\":[0.0,0.3],\"showgrid\":true,\"gridwidth\":0.5,\"gridcolor\":\"rgb(242,242,242)\",\"range\":[-200,20200]},\"yaxis10\":{\"anchor\":\"x10\",\"domain\":[0.0,0.2125],\"title\":{\"text\":\"Heat pump: 10000 W\"},\"ticksuffix\":\"%\",\"showgrid\":true,\"gridwidth\":0.5,\"gridcolor\":\"rgb(242,242,242)\",\"range\":[0,20]},\"xaxis11\":{\"anchor\":\"y11\",\"domain\":[0.35,0.6499999999999999],\"showgrid\":true,\"gridwidth\":0.5,\"gridcolor\":\"rgb(242,242,242)\",\"range\":[-200,20200]},\"yaxis11\":{\"anchor\":\"x11\",\"domain\":[0.0,0.2125],\"matches\":\"y10\",\"showticklabels\":false,\"showgrid\":true,\"gridwidth\":0.5,\"gridcolor\":\"rgb(242,242,242)\",\"range\":[0,20]},\"xaxis12\":{\"anchor\":\"y12\",\"domain\":[0.7,1.0],\"showgrid\":true,\"gridwidth\":0.5,\"gridcolor\":\"rgb(242,242,242)\",\"range\":[-200,20200]},\"yaxis12\":{\"anchor\":\"x12\",\"domain\":[0.0,0.2125],\"matches\":\"y10\",\"showticklabels\":false,\"showgrid\":true,\"gridwidth\":0.5,\"gridcolor\":\"rgb(242,242,242)\",\"range\":[0,20]},\"annotations\":[{\"font\":{\"size\":16},\"showarrow\":false,\"text\":\"House: 350 W/K\",\"x\":0.15,\"xanchor\":\"center\",\"xref\":\"paper\",\"y\":1.0,\"yanchor\":\"bottom\",\"yref\":\"paper\"},{\"font\":{\"size\":16},\"showarrow\":false,\"text\":\"House: 200 W/K\",\"x\":0.49999999999999994,\"xanchor\":\"center\",\"xref\":\"paper\",\"y\":1.0,\"yanchor\":\"bottom\",\"yref\":\"paper\"},{\"font\":{\"size\":16},\"showarrow\":false,\"text\":\"House: 150 W/K\",\"x\":0.85,\"xanchor\":\"center\",\"xref\":\"paper\",\"y\":1.0,\"yanchor\":\"bottom\",\"yref\":\"paper\"},{\"font\":{\"size\":16},\"showarrow\":false,\"text\":\"Storage volume in litres\",\"x\":0.5,\"xanchor\":\"center\",\"xref\":\"paper\",\"y\":0,\"yanchor\":\"top\",\"yref\":\"paper\",\"yshift\":-30}],\"showlegend\":false,\"height\":1200,\"width\":1200,\"plot_bgcolor\":\"white\"},                        {\"responsive\": true}                    ).then(function(){\n                            \nvar gd = document.getElementById('0c152f79-3992-4b9b-8df0-95c2564f62dd');\nvar x = new MutationObserver(function (mutations, observer) {{\n        var display = window.getComputedStyle(gd).display;\n        if (!display || display === 'none') {{\n            console.log([gd, 'removed!']);\n            Plotly.purge(gd);\n            observer.disconnect();\n        }}\n}});\n\n// Listen for the removal of the full notebook cells\nvar notebookContainer = gd.closest('#notebook-container');\nif (notebookContainer) {{\n    x.observe(notebookContainer, {childList: true});\n}}\n\n// Listen for the clearing of the current output cell\nvar outputEl = gd.closest('.output');\nif (outputEl) {{\n    x.observe(outputEl, {childList: true});\n}}\n\n                        })                };                });            </script>        </div>"
     },
     "metadata": {},
     "output_type": "display_data"
    }
   ],
   "source": [
    "\n",
    "\n",
    "for loc in locations:\n",
    "    print('location: ', loc)\n",
    "\n",
    "    savings = pd.DataFrame(columns=['hp_power', '350', '200', '150'], dtype=object)\n",
    "    savings.loc[:, 'hp_power'] = heat_pump_powers\n",
    "    #print(savings.columns)\n",
    "    for house in houses:\n",
    "        #print('house: ', house)\n",
    "        idx = 0\n",
    "\n",
    "        for heat_pump_power in heat_pump_powers:\n",
    "            #print('hp_power: ', heat_pump_power)\n",
    "\n",
    "            savings_list = []\n",
    "            for vol in storage_volumes:\n",
    "                #print('vol', vol)\n",
    "                if os.path.isdir(f\"results/{loc}\"):\n",
    "                    if os.path.isdir(f\"results/{loc}/vol_{int(vol[0])},pow_{int(heat_pump_power)},en_{int(house[0])}\"):\n",
    "                        #print('exists')\n",
    "\n",
    "                        data = pd.read_csv(f\"results/{loc}/vol_{int(vol[0])},pow_{int(heat_pump_power)},en_{int(house[0])}/data_ad_{loc},vol_{int(vol[0])},pow_{int(heat_pump_power)},en_{int(house[0])}.csv\", sep=';')\n",
    "\n",
    "\n",
    "\n",
    "                        save = (1 - data.P_e_opt.sum() / data.energy_needed_elec.sum()) * 100\n",
    "                        savings_list.append(save)\n",
    "\n",
    "            if savings_list:\n",
    "                savings.at[idx, str(house[0])] = savings_list\n",
    "            idx+=1\n",
    "\n",
    "\n",
    "    #print(savings)\n",
    "\n",
    "    savings.dropna(inplace=True, how='all', subset=['350', '200', '150'])\n",
    "    savings.reset_index(inplace=True, drop=True)\n",
    "    fig = make_subplots(savings.shape[0], savings.shape[1]-1, x_title='Storage volume in litres', subplot_titles=([f'House: {x} W/K' for x in savings.columns[1:]]), horizontal_spacing = 0.05, vertical_spacing=0.05, shared_yaxes=True )\n",
    "    fig.update_layout(showlegend = False)\n",
    "    for i in range(savings.shape[0]):\n",
    "        for j_idx, j in zip(range(savings.shape[1]-1), savings.columns[1:]):\n",
    "            #print(i, j)\n",
    "            #print(pd.notna(savings.loc[j, str(houses[i][0])]))\n",
    "            #if not type(pd.notna(savings.loc[j, str(houses[i][0])])) == bool:\n",
    "                #print(savings.loc[j, str(houses[i][0])])\n",
    "            if savings.loc[i, j] == savings.loc[i, j]:\n",
    "                fig.add_trace(go.Scatter(x = vols, y = savings.loc[i, j], marker=dict(color = 'darkblue')), row=i+1, col=j_idx+1,  )\n",
    "            else:\n",
    "               fig.add_trace(go.Scatter(), row=i+1, col=j_idx+1, )\n",
    "    x = 0\n",
    "    for i in range(1, savings.shape[0]*(savings.shape[1]-1), savings.shape[1]-1):\n",
    "        fig['layout']['yaxis{}'.format(i)]['title']= f'Heat pump: {savings.hp_power[x]} W'\n",
    "        fig['layout']['yaxis{}'.format(i)]['ticksuffix']= '%'\n",
    "\n",
    "        x +=1\n",
    "\n",
    "    fig.for_each_xaxis(lambda x: x.update(showgrid=True, gridwidth = 0.5, gridcolor = 'rgb(242,242,242)'))\n",
    "    fig.for_each_yaxis(lambda x: x.update(showgrid=True, gridwidth = 0.5, gridcolor = 'rgb(242,242,242)'))\n",
    "\n",
    "            #    fig.update_layout(title_text=hp_power_i + 'Watt', row=hp_power_i, col=house_i)\n",
    "    fig.update_layout(height=300 * savings.shape[0], width=400 * (savings.shape[1]-1) ,plot_bgcolor = \"white\", )# showlegend = False )\n",
    "    fig.update_yaxes(range = [0, 20])\n",
    "    fig.update_xaxes(range = [-200, vols[-1]+200])\n",
    "    #fig.write_html(f'thesis_img/{loc}.html')\n",
    "    fig.write_image(f'thesis_img/{loc}_complete.png', scale = 5)\n",
    "    fig.show()\n",
    "\n",
    "\n",
    "    #save_comp.append(pd.Series(savings.loc[savings.hp_power == 7000, '200'].reset_index(drop=True)[0]).mean())"
   ],
   "metadata": {
    "collapsed": false,
    "pycharm": {
     "name": "#%%\n"
    }
   }
  },
  {
   "cell_type": "markdown",
   "source": [
    "# Savings for Oberstdorf"
   ],
   "metadata": {
    "collapsed": false,
    "pycharm": {
     "name": "#%% md\n"
    }
   }
  },
  {
   "cell_type": "code",
   "execution_count": 12,
   "outputs": [
    {
     "name": "stdout",
     "output_type": "stream",
     "text": [
      "location:  Oberstdorf\n",
      "Index(['hp_power', '350', '200', '150'], dtype='object')\n"
     ]
    },
    {
     "data": {
      "application/vnd.plotly.v1+json": {
       "data": [
        {
         "marker": {
          "color": "darkblue"
         },
         "mode": "lines+markers+text",
         "text": [
          "0.06",
          "0.76",
          "2.16",
          "4.27",
          "9.18",
          "12.81",
          "17.11",
          "18.85",
          "19.20",
          "19.23"
         ],
         "textposition": "top left",
         "x": [
          100,
          300,
          600,
          1000,
          2000,
          3000,
          5000,
          8000,
          12000,
          20000
         ],
         "y": [
          0.05913316803838331,
          0.7623046654155141,
          2.155686259273082,
          4.268395641030686,
          9.179240292566803,
          12.812202414869056,
          17.107924894535465,
          18.85076269423981,
          19.202597008745535,
          19.22583177358711
         ],
         "type": "scatter"
        }
       ],
       "layout": {
        "template": {
         "data": {
          "bar": [
           {
            "error_x": {
             "color": "#2a3f5f"
            },
            "error_y": {
             "color": "#2a3f5f"
            },
            "marker": {
             "line": {
              "color": "#E5ECF6",
              "width": 0.5
             },
             "pattern": {
              "fillmode": "overlay",
              "size": 10,
              "solidity": 0.2
             }
            },
            "type": "bar"
           }
          ],
          "barpolar": [
           {
            "marker": {
             "line": {
              "color": "#E5ECF6",
              "width": 0.5
             },
             "pattern": {
              "fillmode": "overlay",
              "size": 10,
              "solidity": 0.2
             }
            },
            "type": "barpolar"
           }
          ],
          "carpet": [
           {
            "aaxis": {
             "endlinecolor": "#2a3f5f",
             "gridcolor": "white",
             "linecolor": "white",
             "minorgridcolor": "white",
             "startlinecolor": "#2a3f5f"
            },
            "baxis": {
             "endlinecolor": "#2a3f5f",
             "gridcolor": "white",
             "linecolor": "white",
             "minorgridcolor": "white",
             "startlinecolor": "#2a3f5f"
            },
            "type": "carpet"
           }
          ],
          "choropleth": [
           {
            "colorbar": {
             "outlinewidth": 0,
             "ticks": ""
            },
            "type": "choropleth"
           }
          ],
          "contour": [
           {
            "colorbar": {
             "outlinewidth": 0,
             "ticks": ""
            },
            "colorscale": [
             [
              0.0,
              "#0d0887"
             ],
             [
              0.1111111111111111,
              "#46039f"
             ],
             [
              0.2222222222222222,
              "#7201a8"
             ],
             [
              0.3333333333333333,
              "#9c179e"
             ],
             [
              0.4444444444444444,
              "#bd3786"
             ],
             [
              0.5555555555555556,
              "#d8576b"
             ],
             [
              0.6666666666666666,
              "#ed7953"
             ],
             [
              0.7777777777777778,
              "#fb9f3a"
             ],
             [
              0.8888888888888888,
              "#fdca26"
             ],
             [
              1.0,
              "#f0f921"
             ]
            ],
            "type": "contour"
           }
          ],
          "contourcarpet": [
           {
            "colorbar": {
             "outlinewidth": 0,
             "ticks": ""
            },
            "type": "contourcarpet"
           }
          ],
          "heatmap": [
           {
            "colorbar": {
             "outlinewidth": 0,
             "ticks": ""
            },
            "colorscale": [
             [
              0.0,
              "#0d0887"
             ],
             [
              0.1111111111111111,
              "#46039f"
             ],
             [
              0.2222222222222222,
              "#7201a8"
             ],
             [
              0.3333333333333333,
              "#9c179e"
             ],
             [
              0.4444444444444444,
              "#bd3786"
             ],
             [
              0.5555555555555556,
              "#d8576b"
             ],
             [
              0.6666666666666666,
              "#ed7953"
             ],
             [
              0.7777777777777778,
              "#fb9f3a"
             ],
             [
              0.8888888888888888,
              "#fdca26"
             ],
             [
              1.0,
              "#f0f921"
             ]
            ],
            "type": "heatmap"
           }
          ],
          "heatmapgl": [
           {
            "colorbar": {
             "outlinewidth": 0,
             "ticks": ""
            },
            "colorscale": [
             [
              0.0,
              "#0d0887"
             ],
             [
              0.1111111111111111,
              "#46039f"
             ],
             [
              0.2222222222222222,
              "#7201a8"
             ],
             [
              0.3333333333333333,
              "#9c179e"
             ],
             [
              0.4444444444444444,
              "#bd3786"
             ],
             [
              0.5555555555555556,
              "#d8576b"
             ],
             [
              0.6666666666666666,
              "#ed7953"
             ],
             [
              0.7777777777777778,
              "#fb9f3a"
             ],
             [
              0.8888888888888888,
              "#fdca26"
             ],
             [
              1.0,
              "#f0f921"
             ]
            ],
            "type": "heatmapgl"
           }
          ],
          "histogram": [
           {
            "marker": {
             "pattern": {
              "fillmode": "overlay",
              "size": 10,
              "solidity": 0.2
             }
            },
            "type": "histogram"
           }
          ],
          "histogram2d": [
           {
            "colorbar": {
             "outlinewidth": 0,
             "ticks": ""
            },
            "colorscale": [
             [
              0.0,
              "#0d0887"
             ],
             [
              0.1111111111111111,
              "#46039f"
             ],
             [
              0.2222222222222222,
              "#7201a8"
             ],
             [
              0.3333333333333333,
              "#9c179e"
             ],
             [
              0.4444444444444444,
              "#bd3786"
             ],
             [
              0.5555555555555556,
              "#d8576b"
             ],
             [
              0.6666666666666666,
              "#ed7953"
             ],
             [
              0.7777777777777778,
              "#fb9f3a"
             ],
             [
              0.8888888888888888,
              "#fdca26"
             ],
             [
              1.0,
              "#f0f921"
             ]
            ],
            "type": "histogram2d"
           }
          ],
          "histogram2dcontour": [
           {
            "colorbar": {
             "outlinewidth": 0,
             "ticks": ""
            },
            "colorscale": [
             [
              0.0,
              "#0d0887"
             ],
             [
              0.1111111111111111,
              "#46039f"
             ],
             [
              0.2222222222222222,
              "#7201a8"
             ],
             [
              0.3333333333333333,
              "#9c179e"
             ],
             [
              0.4444444444444444,
              "#bd3786"
             ],
             [
              0.5555555555555556,
              "#d8576b"
             ],
             [
              0.6666666666666666,
              "#ed7953"
             ],
             [
              0.7777777777777778,
              "#fb9f3a"
             ],
             [
              0.8888888888888888,
              "#fdca26"
             ],
             [
              1.0,
              "#f0f921"
             ]
            ],
            "type": "histogram2dcontour"
           }
          ],
          "mesh3d": [
           {
            "colorbar": {
             "outlinewidth": 0,
             "ticks": ""
            },
            "type": "mesh3d"
           }
          ],
          "parcoords": [
           {
            "line": {
             "colorbar": {
              "outlinewidth": 0,
              "ticks": ""
             }
            },
            "type": "parcoords"
           }
          ],
          "pie": [
           {
            "automargin": true,
            "type": "pie"
           }
          ],
          "scatter": [
           {
            "marker": {
             "colorbar": {
              "outlinewidth": 0,
              "ticks": ""
             }
            },
            "type": "scatter"
           }
          ],
          "scatter3d": [
           {
            "line": {
             "colorbar": {
              "outlinewidth": 0,
              "ticks": ""
             }
            },
            "marker": {
             "colorbar": {
              "outlinewidth": 0,
              "ticks": ""
             }
            },
            "type": "scatter3d"
           }
          ],
          "scattercarpet": [
           {
            "marker": {
             "colorbar": {
              "outlinewidth": 0,
              "ticks": ""
             }
            },
            "type": "scattercarpet"
           }
          ],
          "scattergeo": [
           {
            "marker": {
             "colorbar": {
              "outlinewidth": 0,
              "ticks": ""
             }
            },
            "type": "scattergeo"
           }
          ],
          "scattergl": [
           {
            "marker": {
             "colorbar": {
              "outlinewidth": 0,
              "ticks": ""
             }
            },
            "type": "scattergl"
           }
          ],
          "scattermapbox": [
           {
            "marker": {
             "colorbar": {
              "outlinewidth": 0,
              "ticks": ""
             }
            },
            "type": "scattermapbox"
           }
          ],
          "scatterpolar": [
           {
            "marker": {
             "colorbar": {
              "outlinewidth": 0,
              "ticks": ""
             }
            },
            "type": "scatterpolar"
           }
          ],
          "scatterpolargl": [
           {
            "marker": {
             "colorbar": {
              "outlinewidth": 0,
              "ticks": ""
             }
            },
            "type": "scatterpolargl"
           }
          ],
          "scatterternary": [
           {
            "marker": {
             "colorbar": {
              "outlinewidth": 0,
              "ticks": ""
             }
            },
            "type": "scatterternary"
           }
          ],
          "surface": [
           {
            "colorbar": {
             "outlinewidth": 0,
             "ticks": ""
            },
            "colorscale": [
             [
              0.0,
              "#0d0887"
             ],
             [
              0.1111111111111111,
              "#46039f"
             ],
             [
              0.2222222222222222,
              "#7201a8"
             ],
             [
              0.3333333333333333,
              "#9c179e"
             ],
             [
              0.4444444444444444,
              "#bd3786"
             ],
             [
              0.5555555555555556,
              "#d8576b"
             ],
             [
              0.6666666666666666,
              "#ed7953"
             ],
             [
              0.7777777777777778,
              "#fb9f3a"
             ],
             [
              0.8888888888888888,
              "#fdca26"
             ],
             [
              1.0,
              "#f0f921"
             ]
            ],
            "type": "surface"
           }
          ],
          "table": [
           {
            "cells": {
             "fill": {
              "color": "#EBF0F8"
             },
             "line": {
              "color": "white"
             }
            },
            "header": {
             "fill": {
              "color": "#C8D4E3"
             },
             "line": {
              "color": "white"
             }
            },
            "type": "table"
           }
          ]
         },
         "layout": {
          "annotationdefaults": {
           "arrowcolor": "#2a3f5f",
           "arrowhead": 0,
           "arrowwidth": 1
          },
          "autotypenumbers": "strict",
          "coloraxis": {
           "colorbar": {
            "outlinewidth": 0,
            "ticks": ""
           }
          },
          "colorscale": {
           "diverging": [
            [
             0,
             "#8e0152"
            ],
            [
             0.1,
             "#c51b7d"
            ],
            [
             0.2,
             "#de77ae"
            ],
            [
             0.3,
             "#f1b6da"
            ],
            [
             0.4,
             "#fde0ef"
            ],
            [
             0.5,
             "#f7f7f7"
            ],
            [
             0.6,
             "#e6f5d0"
            ],
            [
             0.7,
             "#b8e186"
            ],
            [
             0.8,
             "#7fbc41"
            ],
            [
             0.9,
             "#4d9221"
            ],
            [
             1,
             "#276419"
            ]
           ],
           "sequential": [
            [
             0.0,
             "#0d0887"
            ],
            [
             0.1111111111111111,
             "#46039f"
            ],
            [
             0.2222222222222222,
             "#7201a8"
            ],
            [
             0.3333333333333333,
             "#9c179e"
            ],
            [
             0.4444444444444444,
             "#bd3786"
            ],
            [
             0.5555555555555556,
             "#d8576b"
            ],
            [
             0.6666666666666666,
             "#ed7953"
            ],
            [
             0.7777777777777778,
             "#fb9f3a"
            ],
            [
             0.8888888888888888,
             "#fdca26"
            ],
            [
             1.0,
             "#f0f921"
            ]
           ],
           "sequentialminus": [
            [
             0.0,
             "#0d0887"
            ],
            [
             0.1111111111111111,
             "#46039f"
            ],
            [
             0.2222222222222222,
             "#7201a8"
            ],
            [
             0.3333333333333333,
             "#9c179e"
            ],
            [
             0.4444444444444444,
             "#bd3786"
            ],
            [
             0.5555555555555556,
             "#d8576b"
            ],
            [
             0.6666666666666666,
             "#ed7953"
            ],
            [
             0.7777777777777778,
             "#fb9f3a"
            ],
            [
             0.8888888888888888,
             "#fdca26"
            ],
            [
             1.0,
             "#f0f921"
            ]
           ]
          },
          "colorway": [
           "#636efa",
           "#EF553B",
           "#00cc96",
           "#ab63fa",
           "#FFA15A",
           "#19d3f3",
           "#FF6692",
           "#B6E880",
           "#FF97FF",
           "#FECB52"
          ],
          "font": {
           "color": "#2a3f5f"
          },
          "geo": {
           "bgcolor": "white",
           "lakecolor": "white",
           "landcolor": "#E5ECF6",
           "showlakes": true,
           "showland": true,
           "subunitcolor": "white"
          },
          "hoverlabel": {
           "align": "left"
          },
          "hovermode": "closest",
          "mapbox": {
           "style": "light"
          },
          "paper_bgcolor": "white",
          "plot_bgcolor": "#E5ECF6",
          "polar": {
           "angularaxis": {
            "gridcolor": "white",
            "linecolor": "white",
            "ticks": ""
           },
           "bgcolor": "#E5ECF6",
           "radialaxis": {
            "gridcolor": "white",
            "linecolor": "white",
            "ticks": ""
           }
          },
          "scene": {
           "xaxis": {
            "backgroundcolor": "#E5ECF6",
            "gridcolor": "white",
            "gridwidth": 2,
            "linecolor": "white",
            "showbackground": true,
            "ticks": "",
            "zerolinecolor": "white"
           },
           "yaxis": {
            "backgroundcolor": "#E5ECF6",
            "gridcolor": "white",
            "gridwidth": 2,
            "linecolor": "white",
            "showbackground": true,
            "ticks": "",
            "zerolinecolor": "white"
           },
           "zaxis": {
            "backgroundcolor": "#E5ECF6",
            "gridcolor": "white",
            "gridwidth": 2,
            "linecolor": "white",
            "showbackground": true,
            "ticks": "",
            "zerolinecolor": "white"
           }
          },
          "shapedefaults": {
           "line": {
            "color": "#2a3f5f"
           }
          },
          "ternary": {
           "aaxis": {
            "gridcolor": "white",
            "linecolor": "white",
            "ticks": ""
           },
           "baxis": {
            "gridcolor": "white",
            "linecolor": "white",
            "ticks": ""
           },
           "bgcolor": "#E5ECF6",
           "caxis": {
            "gridcolor": "white",
            "linecolor": "white",
            "ticks": ""
           }
          },
          "title": {
           "x": 0.05
          },
          "xaxis": {
           "automargin": true,
           "gridcolor": "white",
           "linecolor": "white",
           "ticks": "",
           "title": {
            "standoff": 15
           },
           "zerolinecolor": "white",
           "zerolinewidth": 2
          },
          "yaxis": {
           "automargin": true,
           "gridcolor": "white",
           "linecolor": "white",
           "ticks": "",
           "title": {
            "standoff": 15
           },
           "zerolinecolor": "white",
           "zerolinewidth": 2
          }
         }
        },
        "showlegend": false,
        "yaxis": {
         "tickfont": {
          "size": 16
         },
         "range": [
          0,
          20
         ],
         "showgrid": true,
         "gridwidth": 0.5,
         "gridcolor": "rgb(242,242,242)",
         "ticksuffix": "%"
        },
        "xaxis": {
         "tickfont": {
          "size": 16
         },
         "title": {
          "text": "Storage volume in litres"
         },
         "type": "log",
         "showgrid": true,
         "gridwidth": 0.5,
         "gridcolor": "rgb(242,242,242)"
        },
        "margin": {
         "l": 50,
         "r": 50,
         "t": 50,
         "b": 60
        },
        "height": 700,
        "width": 1000,
        "plot_bgcolor": "white"
       },
       "config": {
        "plotlyServerURL": "https://plot.ly"
       }
      },
      "text/html": "<div>                            <div id=\"efa3a99b-ea94-448f-b2ba-6307dd3723c9\" class=\"plotly-graph-div\" style=\"height:700px; width:1000px;\"></div>            <script type=\"text/javascript\">                require([\"plotly\"], function(Plotly) {                    window.PLOTLYENV=window.PLOTLYENV || {};                                    if (document.getElementById(\"efa3a99b-ea94-448f-b2ba-6307dd3723c9\")) {                    Plotly.newPlot(                        \"efa3a99b-ea94-448f-b2ba-6307dd3723c9\",                        [{\"marker\":{\"color\":\"darkblue\"},\"mode\":\"lines+markers+text\",\"text\":[\"0.06\",\"0.76\",\"2.16\",\"4.27\",\"9.18\",\"12.81\",\"17.11\",\"18.85\",\"19.20\",\"19.23\"],\"textposition\":\"top left\",\"x\":[100,300,600,1000,2000,3000,5000,8000,12000,20000],\"y\":[0.05913316803838331,0.7623046654155141,2.155686259273082,4.268395641030686,9.179240292566803,12.812202414869056,17.107924894535465,18.85076269423981,19.202597008745535,19.22583177358711],\"type\":\"scatter\"}],                        {\"template\":{\"data\":{\"bar\":[{\"error_x\":{\"color\":\"#2a3f5f\"},\"error_y\":{\"color\":\"#2a3f5f\"},\"marker\":{\"line\":{\"color\":\"#E5ECF6\",\"width\":0.5},\"pattern\":{\"fillmode\":\"overlay\",\"size\":10,\"solidity\":0.2}},\"type\":\"bar\"}],\"barpolar\":[{\"marker\":{\"line\":{\"color\":\"#E5ECF6\",\"width\":0.5},\"pattern\":{\"fillmode\":\"overlay\",\"size\":10,\"solidity\":0.2}},\"type\":\"barpolar\"}],\"carpet\":[{\"aaxis\":{\"endlinecolor\":\"#2a3f5f\",\"gridcolor\":\"white\",\"linecolor\":\"white\",\"minorgridcolor\":\"white\",\"startlinecolor\":\"#2a3f5f\"},\"baxis\":{\"endlinecolor\":\"#2a3f5f\",\"gridcolor\":\"white\",\"linecolor\":\"white\",\"minorgridcolor\":\"white\",\"startlinecolor\":\"#2a3f5f\"},\"type\":\"carpet\"}],\"choropleth\":[{\"colorbar\":{\"outlinewidth\":0,\"ticks\":\"\"},\"type\":\"choropleth\"}],\"contour\":[{\"colorbar\":{\"outlinewidth\":0,\"ticks\":\"\"},\"colorscale\":[[0.0,\"#0d0887\"],[0.1111111111111111,\"#46039f\"],[0.2222222222222222,\"#7201a8\"],[0.3333333333333333,\"#9c179e\"],[0.4444444444444444,\"#bd3786\"],[0.5555555555555556,\"#d8576b\"],[0.6666666666666666,\"#ed7953\"],[0.7777777777777778,\"#fb9f3a\"],[0.8888888888888888,\"#fdca26\"],[1.0,\"#f0f921\"]],\"type\":\"contour\"}],\"contourcarpet\":[{\"colorbar\":{\"outlinewidth\":0,\"ticks\":\"\"},\"type\":\"contourcarpet\"}],\"heatmap\":[{\"colorbar\":{\"outlinewidth\":0,\"ticks\":\"\"},\"colorscale\":[[0.0,\"#0d0887\"],[0.1111111111111111,\"#46039f\"],[0.2222222222222222,\"#7201a8\"],[0.3333333333333333,\"#9c179e\"],[0.4444444444444444,\"#bd3786\"],[0.5555555555555556,\"#d8576b\"],[0.6666666666666666,\"#ed7953\"],[0.7777777777777778,\"#fb9f3a\"],[0.8888888888888888,\"#fdca26\"],[1.0,\"#f0f921\"]],\"type\":\"heatmap\"}],\"heatmapgl\":[{\"colorbar\":{\"outlinewidth\":0,\"ticks\":\"\"},\"colorscale\":[[0.0,\"#0d0887\"],[0.1111111111111111,\"#46039f\"],[0.2222222222222222,\"#7201a8\"],[0.3333333333333333,\"#9c179e\"],[0.4444444444444444,\"#bd3786\"],[0.5555555555555556,\"#d8576b\"],[0.6666666666666666,\"#ed7953\"],[0.7777777777777778,\"#fb9f3a\"],[0.8888888888888888,\"#fdca26\"],[1.0,\"#f0f921\"]],\"type\":\"heatmapgl\"}],\"histogram\":[{\"marker\":{\"pattern\":{\"fillmode\":\"overlay\",\"size\":10,\"solidity\":0.2}},\"type\":\"histogram\"}],\"histogram2d\":[{\"colorbar\":{\"outlinewidth\":0,\"ticks\":\"\"},\"colorscale\":[[0.0,\"#0d0887\"],[0.1111111111111111,\"#46039f\"],[0.2222222222222222,\"#7201a8\"],[0.3333333333333333,\"#9c179e\"],[0.4444444444444444,\"#bd3786\"],[0.5555555555555556,\"#d8576b\"],[0.6666666666666666,\"#ed7953\"],[0.7777777777777778,\"#fb9f3a\"],[0.8888888888888888,\"#fdca26\"],[1.0,\"#f0f921\"]],\"type\":\"histogram2d\"}],\"histogram2dcontour\":[{\"colorbar\":{\"outlinewidth\":0,\"ticks\":\"\"},\"colorscale\":[[0.0,\"#0d0887\"],[0.1111111111111111,\"#46039f\"],[0.2222222222222222,\"#7201a8\"],[0.3333333333333333,\"#9c179e\"],[0.4444444444444444,\"#bd3786\"],[0.5555555555555556,\"#d8576b\"],[0.6666666666666666,\"#ed7953\"],[0.7777777777777778,\"#fb9f3a\"],[0.8888888888888888,\"#fdca26\"],[1.0,\"#f0f921\"]],\"type\":\"histogram2dcontour\"}],\"mesh3d\":[{\"colorbar\":{\"outlinewidth\":0,\"ticks\":\"\"},\"type\":\"mesh3d\"}],\"parcoords\":[{\"line\":{\"colorbar\":{\"outlinewidth\":0,\"ticks\":\"\"}},\"type\":\"parcoords\"}],\"pie\":[{\"automargin\":true,\"type\":\"pie\"}],\"scatter\":[{\"marker\":{\"colorbar\":{\"outlinewidth\":0,\"ticks\":\"\"}},\"type\":\"scatter\"}],\"scatter3d\":[{\"line\":{\"colorbar\":{\"outlinewidth\":0,\"ticks\":\"\"}},\"marker\":{\"colorbar\":{\"outlinewidth\":0,\"ticks\":\"\"}},\"type\":\"scatter3d\"}],\"scattercarpet\":[{\"marker\":{\"colorbar\":{\"outlinewidth\":0,\"ticks\":\"\"}},\"type\":\"scattercarpet\"}],\"scattergeo\":[{\"marker\":{\"colorbar\":{\"outlinewidth\":0,\"ticks\":\"\"}},\"type\":\"scattergeo\"}],\"scattergl\":[{\"marker\":{\"colorbar\":{\"outlinewidth\":0,\"ticks\":\"\"}},\"type\":\"scattergl\"}],\"scattermapbox\":[{\"marker\":{\"colorbar\":{\"outlinewidth\":0,\"ticks\":\"\"}},\"type\":\"scattermapbox\"}],\"scatterpolar\":[{\"marker\":{\"colorbar\":{\"outlinewidth\":0,\"ticks\":\"\"}},\"type\":\"scatterpolar\"}],\"scatterpolargl\":[{\"marker\":{\"colorbar\":{\"outlinewidth\":0,\"ticks\":\"\"}},\"type\":\"scatterpolargl\"}],\"scatterternary\":[{\"marker\":{\"colorbar\":{\"outlinewidth\":0,\"ticks\":\"\"}},\"type\":\"scatterternary\"}],\"surface\":[{\"colorbar\":{\"outlinewidth\":0,\"ticks\":\"\"},\"colorscale\":[[0.0,\"#0d0887\"],[0.1111111111111111,\"#46039f\"],[0.2222222222222222,\"#7201a8\"],[0.3333333333333333,\"#9c179e\"],[0.4444444444444444,\"#bd3786\"],[0.5555555555555556,\"#d8576b\"],[0.6666666666666666,\"#ed7953\"],[0.7777777777777778,\"#fb9f3a\"],[0.8888888888888888,\"#fdca26\"],[1.0,\"#f0f921\"]],\"type\":\"surface\"}],\"table\":[{\"cells\":{\"fill\":{\"color\":\"#EBF0F8\"},\"line\":{\"color\":\"white\"}},\"header\":{\"fill\":{\"color\":\"#C8D4E3\"},\"line\":{\"color\":\"white\"}},\"type\":\"table\"}]},\"layout\":{\"annotationdefaults\":{\"arrowcolor\":\"#2a3f5f\",\"arrowhead\":0,\"arrowwidth\":1},\"autotypenumbers\":\"strict\",\"coloraxis\":{\"colorbar\":{\"outlinewidth\":0,\"ticks\":\"\"}},\"colorscale\":{\"diverging\":[[0,\"#8e0152\"],[0.1,\"#c51b7d\"],[0.2,\"#de77ae\"],[0.3,\"#f1b6da\"],[0.4,\"#fde0ef\"],[0.5,\"#f7f7f7\"],[0.6,\"#e6f5d0\"],[0.7,\"#b8e186\"],[0.8,\"#7fbc41\"],[0.9,\"#4d9221\"],[1,\"#276419\"]],\"sequential\":[[0.0,\"#0d0887\"],[0.1111111111111111,\"#46039f\"],[0.2222222222222222,\"#7201a8\"],[0.3333333333333333,\"#9c179e\"],[0.4444444444444444,\"#bd3786\"],[0.5555555555555556,\"#d8576b\"],[0.6666666666666666,\"#ed7953\"],[0.7777777777777778,\"#fb9f3a\"],[0.8888888888888888,\"#fdca26\"],[1.0,\"#f0f921\"]],\"sequentialminus\":[[0.0,\"#0d0887\"],[0.1111111111111111,\"#46039f\"],[0.2222222222222222,\"#7201a8\"],[0.3333333333333333,\"#9c179e\"],[0.4444444444444444,\"#bd3786\"],[0.5555555555555556,\"#d8576b\"],[0.6666666666666666,\"#ed7953\"],[0.7777777777777778,\"#fb9f3a\"],[0.8888888888888888,\"#fdca26\"],[1.0,\"#f0f921\"]]},\"colorway\":[\"#636efa\",\"#EF553B\",\"#00cc96\",\"#ab63fa\",\"#FFA15A\",\"#19d3f3\",\"#FF6692\",\"#B6E880\",\"#FF97FF\",\"#FECB52\"],\"font\":{\"color\":\"#2a3f5f\"},\"geo\":{\"bgcolor\":\"white\",\"lakecolor\":\"white\",\"landcolor\":\"#E5ECF6\",\"showlakes\":true,\"showland\":true,\"subunitcolor\":\"white\"},\"hoverlabel\":{\"align\":\"left\"},\"hovermode\":\"closest\",\"mapbox\":{\"style\":\"light\"},\"paper_bgcolor\":\"white\",\"plot_bgcolor\":\"#E5ECF6\",\"polar\":{\"angularaxis\":{\"gridcolor\":\"white\",\"linecolor\":\"white\",\"ticks\":\"\"},\"bgcolor\":\"#E5ECF6\",\"radialaxis\":{\"gridcolor\":\"white\",\"linecolor\":\"white\",\"ticks\":\"\"}},\"scene\":{\"xaxis\":{\"backgroundcolor\":\"#E5ECF6\",\"gridcolor\":\"white\",\"gridwidth\":2,\"linecolor\":\"white\",\"showbackground\":true,\"ticks\":\"\",\"zerolinecolor\":\"white\"},\"yaxis\":{\"backgroundcolor\":\"#E5ECF6\",\"gridcolor\":\"white\",\"gridwidth\":2,\"linecolor\":\"white\",\"showbackground\":true,\"ticks\":\"\",\"zerolinecolor\":\"white\"},\"zaxis\":{\"backgroundcolor\":\"#E5ECF6\",\"gridcolor\":\"white\",\"gridwidth\":2,\"linecolor\":\"white\",\"showbackground\":true,\"ticks\":\"\",\"zerolinecolor\":\"white\"}},\"shapedefaults\":{\"line\":{\"color\":\"#2a3f5f\"}},\"ternary\":{\"aaxis\":{\"gridcolor\":\"white\",\"linecolor\":\"white\",\"ticks\":\"\"},\"baxis\":{\"gridcolor\":\"white\",\"linecolor\":\"white\",\"ticks\":\"\"},\"bgcolor\":\"#E5ECF6\",\"caxis\":{\"gridcolor\":\"white\",\"linecolor\":\"white\",\"ticks\":\"\"}},\"title\":{\"x\":0.05},\"xaxis\":{\"automargin\":true,\"gridcolor\":\"white\",\"linecolor\":\"white\",\"ticks\":\"\",\"title\":{\"standoff\":15},\"zerolinecolor\":\"white\",\"zerolinewidth\":2},\"yaxis\":{\"automargin\":true,\"gridcolor\":\"white\",\"linecolor\":\"white\",\"ticks\":\"\",\"title\":{\"standoff\":15},\"zerolinecolor\":\"white\",\"zerolinewidth\":2}}},\"showlegend\":false,\"yaxis\":{\"tickfont\":{\"size\":16},\"range\":[0,20],\"showgrid\":true,\"gridwidth\":0.5,\"gridcolor\":\"rgb(242,242,242)\",\"ticksuffix\":\"%\"},\"xaxis\":{\"tickfont\":{\"size\":16},\"title\":{\"text\":\"Storage volume in litres\"},\"type\":\"log\",\"showgrid\":true,\"gridwidth\":0.5,\"gridcolor\":\"rgb(242,242,242)\"},\"margin\":{\"l\":50,\"r\":50,\"t\":50,\"b\":60},\"height\":700,\"width\":1000,\"plot_bgcolor\":\"white\"},                        {\"responsive\": true}                    ).then(function(){\n                            \nvar gd = document.getElementById('efa3a99b-ea94-448f-b2ba-6307dd3723c9');\nvar x = new MutationObserver(function (mutations, observer) {{\n        var display = window.getComputedStyle(gd).display;\n        if (!display || display === 'none') {{\n            console.log([gd, 'removed!']);\n            Plotly.purge(gd);\n            observer.disconnect();\n        }}\n}});\n\n// Listen for the removal of the full notebook cells\nvar notebookContainer = gd.closest('#notebook-container');\nif (notebookContainer) {{\n    x.observe(notebookContainer, {childList: true});\n}}\n\n// Listen for the clearing of the current output cell\nvar outputEl = gd.closest('.output');\nif (outputEl) {{\n    x.observe(outputEl, {childList: true});\n}}\n\n                        })                };                });            </script>        </div>"
     },
     "metadata": {},
     "output_type": "display_data"
    }
   ],
   "source": [
    "\n",
    "\n",
    "for loc in ['Oberstdorf']:\n",
    "    print('location: ', loc)\n",
    "\n",
    "    savings = pd.DataFrame(columns=['hp_power', '350', '200', '150'], dtype=object)\n",
    "    savings.loc[0, 'hp_power'] = 10000\n",
    "    print(savings.columns)\n",
    "    for house in [(150, 40)]:\n",
    "        #print('house: ', house)\n",
    "        idx = 0\n",
    "\n",
    "        for heat_pump_power in [10000]:\n",
    "            #print('hp_power: ', heat_pump_power)\n",
    "\n",
    "            savings_list = []\n",
    "            for vol in storage_volumes:\n",
    "                #print('vol', vol)\n",
    "                if os.path.isdir(f\"results/{loc}\"):\n",
    "                    if os.path.isdir(f\"results/{loc}/vol_{int(vol[0])},pow_{int(heat_pump_power)},en_{int(house[0])}\"):\n",
    "                        #print('exists')\n",
    "                        data = pd.read_csv(\n",
    "                            f\"results/{loc}/vol_{int(vol[0])},pow_{int(heat_pump_power)},en_{int(house[0])}/data_ad_{loc},vol_{int(vol[0])},pow_{int(heat_pump_power)},en_{int(house[0])}.csv\",\n",
    "                            sep=';')\n",
    "                        save = (1 - data.P_e_opt.sum() / data.energy_needed_elec.sum()) * 100\n",
    "                        savings_list.append(save)\n",
    "\n",
    "            if savings_list:\n",
    "                savings.at[idx, str(house[0])] = savings_list\n",
    "            idx += 1\n",
    "\n",
    "    #print(savings)\n",
    "\n",
    "    savings.dropna(inplace=True, how='all',  axis=1)\n",
    "    savings.dropna(inplace=True, how='any',  axis=0)\n",
    "    savings.reset_index(inplace=True, drop=True)\n",
    "    #fig = make_subplots(savings.shape[0], savings.shape[1] - 1, x_title='Storage volume in liters', subplot_titles=([f'House: {x} W' for x in savings.columns[1:]]), horizontal_spacing=0.05, vertical_spacing=0.05, shared_yaxes=True)\n",
    "\n",
    "    fig = go.Figure()\n",
    "\n",
    "    fig.update_layout(showlegend=False)\n",
    "    fig.update_yaxes(range=[0, 20], showgrid=True, gridwidth=0.5, gridcolor='rgb(242,242,242)', tickfont=dict(size= 16))\n",
    "    fig.update_xaxes(title= 'Storage volume in litres',type=\"log\", showgrid=True, gridwidth=0.5, gridcolor='rgb(242,242,242)', tickfont=dict(size= 16))#range=[-300, 21000]\n",
    "    fig.add_trace(go.Scatter(x=vols, y=savings.iloc[0, 1], marker=dict(color='darkblue'),text=[\"%.2f\" % member for member in savings.iloc[0,1]],textposition = 'top left', mode='lines+markers+text'))\n",
    "\n",
    "    #fig['layout']['yaxis']['title'] = f'Heat pump: {savings.hp_power[0]} W'\n",
    "    fig['layout']['yaxis']['ticksuffix'] = '%'\n",
    "\n",
    "    fig.update_layout(height=700 * savings.shape[0], width=1000 * (savings.shape[1] - 1),plot_bgcolor = \"white\", margin=dict(l=50, r=50, t=50, b=60), )  # showlegend = False )\n",
    "\n",
    "\n",
    "    #fig.update_layout(\n",
    "    #title=go.layout.Title(\n",
    "    #    text=f\"Saving potentials for {loc}, Germany <br><br><sup>Heat pump: {savings.hp_power[0]} W, House: {savings.columns[1]} W/K</sup>\"))\n",
    "    #fig.write_html(f'thesis_img/{loc}_single_log.html')\n",
    "    fig.write_image(f'thesis_img/{loc}_single.png', scale=10)\n",
    "    fig.show()"
   ],
   "metadata": {
    "collapsed": false,
    "pycharm": {
     "name": "#%%\n"
    }
   }
  },
  {
   "cell_type": "markdown",
   "source": [
    "# Savings for Villingen-Schwenningen"
   ],
   "metadata": {
    "collapsed": false,
    "pycharm": {
     "name": "#%% md\n"
    }
   }
  },
  {
   "cell_type": "code",
   "execution_count": 11,
   "outputs": [
    {
     "name": "stdout",
     "output_type": "stream",
     "text": [
      "location:  Villingen-Schwenningen\n",
      "Index(['hp_power', '350', '200', '150'], dtype='object')\n"
     ]
    },
    {
     "data": {
      "application/vnd.plotly.v1+json": {
       "data": [
        {
         "marker": {
          "color": "darkblue"
         },
         "mode": "lines+markers+text",
         "text": [
          "0.00",
          "0.41",
          "0.99",
          "1.91",
          "3.99",
          "5.22",
          "6.24",
          "6.75",
          "6.78",
          "6.80"
         ],
         "textposition": "top left",
         "x": [
          100,
          300,
          600,
          1000,
          2000,
          3000,
          5000,
          8000,
          12000,
          20000
         ],
         "y": [
          0.001422133623096844,
          0.4108887385808724,
          0.9949345014892197,
          1.9106454254489758,
          3.9859338239119135,
          5.222894461517724,
          6.235167080010651,
          6.745636818681044,
          6.775206794909494,
          6.795727454264833
         ],
         "type": "scatter"
        }
       ],
       "layout": {
        "template": {
         "data": {
          "bar": [
           {
            "error_x": {
             "color": "#2a3f5f"
            },
            "error_y": {
             "color": "#2a3f5f"
            },
            "marker": {
             "line": {
              "color": "#E5ECF6",
              "width": 0.5
             },
             "pattern": {
              "fillmode": "overlay",
              "size": 10,
              "solidity": 0.2
             }
            },
            "type": "bar"
           }
          ],
          "barpolar": [
           {
            "marker": {
             "line": {
              "color": "#E5ECF6",
              "width": 0.5
             },
             "pattern": {
              "fillmode": "overlay",
              "size": 10,
              "solidity": 0.2
             }
            },
            "type": "barpolar"
           }
          ],
          "carpet": [
           {
            "aaxis": {
             "endlinecolor": "#2a3f5f",
             "gridcolor": "white",
             "linecolor": "white",
             "minorgridcolor": "white",
             "startlinecolor": "#2a3f5f"
            },
            "baxis": {
             "endlinecolor": "#2a3f5f",
             "gridcolor": "white",
             "linecolor": "white",
             "minorgridcolor": "white",
             "startlinecolor": "#2a3f5f"
            },
            "type": "carpet"
           }
          ],
          "choropleth": [
           {
            "colorbar": {
             "outlinewidth": 0,
             "ticks": ""
            },
            "type": "choropleth"
           }
          ],
          "contour": [
           {
            "colorbar": {
             "outlinewidth": 0,
             "ticks": ""
            },
            "colorscale": [
             [
              0.0,
              "#0d0887"
             ],
             [
              0.1111111111111111,
              "#46039f"
             ],
             [
              0.2222222222222222,
              "#7201a8"
             ],
             [
              0.3333333333333333,
              "#9c179e"
             ],
             [
              0.4444444444444444,
              "#bd3786"
             ],
             [
              0.5555555555555556,
              "#d8576b"
             ],
             [
              0.6666666666666666,
              "#ed7953"
             ],
             [
              0.7777777777777778,
              "#fb9f3a"
             ],
             [
              0.8888888888888888,
              "#fdca26"
             ],
             [
              1.0,
              "#f0f921"
             ]
            ],
            "type": "contour"
           }
          ],
          "contourcarpet": [
           {
            "colorbar": {
             "outlinewidth": 0,
             "ticks": ""
            },
            "type": "contourcarpet"
           }
          ],
          "heatmap": [
           {
            "colorbar": {
             "outlinewidth": 0,
             "ticks": ""
            },
            "colorscale": [
             [
              0.0,
              "#0d0887"
             ],
             [
              0.1111111111111111,
              "#46039f"
             ],
             [
              0.2222222222222222,
              "#7201a8"
             ],
             [
              0.3333333333333333,
              "#9c179e"
             ],
             [
              0.4444444444444444,
              "#bd3786"
             ],
             [
              0.5555555555555556,
              "#d8576b"
             ],
             [
              0.6666666666666666,
              "#ed7953"
             ],
             [
              0.7777777777777778,
              "#fb9f3a"
             ],
             [
              0.8888888888888888,
              "#fdca26"
             ],
             [
              1.0,
              "#f0f921"
             ]
            ],
            "type": "heatmap"
           }
          ],
          "heatmapgl": [
           {
            "colorbar": {
             "outlinewidth": 0,
             "ticks": ""
            },
            "colorscale": [
             [
              0.0,
              "#0d0887"
             ],
             [
              0.1111111111111111,
              "#46039f"
             ],
             [
              0.2222222222222222,
              "#7201a8"
             ],
             [
              0.3333333333333333,
              "#9c179e"
             ],
             [
              0.4444444444444444,
              "#bd3786"
             ],
             [
              0.5555555555555556,
              "#d8576b"
             ],
             [
              0.6666666666666666,
              "#ed7953"
             ],
             [
              0.7777777777777778,
              "#fb9f3a"
             ],
             [
              0.8888888888888888,
              "#fdca26"
             ],
             [
              1.0,
              "#f0f921"
             ]
            ],
            "type": "heatmapgl"
           }
          ],
          "histogram": [
           {
            "marker": {
             "pattern": {
              "fillmode": "overlay",
              "size": 10,
              "solidity": 0.2
             }
            },
            "type": "histogram"
           }
          ],
          "histogram2d": [
           {
            "colorbar": {
             "outlinewidth": 0,
             "ticks": ""
            },
            "colorscale": [
             [
              0.0,
              "#0d0887"
             ],
             [
              0.1111111111111111,
              "#46039f"
             ],
             [
              0.2222222222222222,
              "#7201a8"
             ],
             [
              0.3333333333333333,
              "#9c179e"
             ],
             [
              0.4444444444444444,
              "#bd3786"
             ],
             [
              0.5555555555555556,
              "#d8576b"
             ],
             [
              0.6666666666666666,
              "#ed7953"
             ],
             [
              0.7777777777777778,
              "#fb9f3a"
             ],
             [
              0.8888888888888888,
              "#fdca26"
             ],
             [
              1.0,
              "#f0f921"
             ]
            ],
            "type": "histogram2d"
           }
          ],
          "histogram2dcontour": [
           {
            "colorbar": {
             "outlinewidth": 0,
             "ticks": ""
            },
            "colorscale": [
             [
              0.0,
              "#0d0887"
             ],
             [
              0.1111111111111111,
              "#46039f"
             ],
             [
              0.2222222222222222,
              "#7201a8"
             ],
             [
              0.3333333333333333,
              "#9c179e"
             ],
             [
              0.4444444444444444,
              "#bd3786"
             ],
             [
              0.5555555555555556,
              "#d8576b"
             ],
             [
              0.6666666666666666,
              "#ed7953"
             ],
             [
              0.7777777777777778,
              "#fb9f3a"
             ],
             [
              0.8888888888888888,
              "#fdca26"
             ],
             [
              1.0,
              "#f0f921"
             ]
            ],
            "type": "histogram2dcontour"
           }
          ],
          "mesh3d": [
           {
            "colorbar": {
             "outlinewidth": 0,
             "ticks": ""
            },
            "type": "mesh3d"
           }
          ],
          "parcoords": [
           {
            "line": {
             "colorbar": {
              "outlinewidth": 0,
              "ticks": ""
             }
            },
            "type": "parcoords"
           }
          ],
          "pie": [
           {
            "automargin": true,
            "type": "pie"
           }
          ],
          "scatter": [
           {
            "marker": {
             "colorbar": {
              "outlinewidth": 0,
              "ticks": ""
             }
            },
            "type": "scatter"
           }
          ],
          "scatter3d": [
           {
            "line": {
             "colorbar": {
              "outlinewidth": 0,
              "ticks": ""
             }
            },
            "marker": {
             "colorbar": {
              "outlinewidth": 0,
              "ticks": ""
             }
            },
            "type": "scatter3d"
           }
          ],
          "scattercarpet": [
           {
            "marker": {
             "colorbar": {
              "outlinewidth": 0,
              "ticks": ""
             }
            },
            "type": "scattercarpet"
           }
          ],
          "scattergeo": [
           {
            "marker": {
             "colorbar": {
              "outlinewidth": 0,
              "ticks": ""
             }
            },
            "type": "scattergeo"
           }
          ],
          "scattergl": [
           {
            "marker": {
             "colorbar": {
              "outlinewidth": 0,
              "ticks": ""
             }
            },
            "type": "scattergl"
           }
          ],
          "scattermapbox": [
           {
            "marker": {
             "colorbar": {
              "outlinewidth": 0,
              "ticks": ""
             }
            },
            "type": "scattermapbox"
           }
          ],
          "scatterpolar": [
           {
            "marker": {
             "colorbar": {
              "outlinewidth": 0,
              "ticks": ""
             }
            },
            "type": "scatterpolar"
           }
          ],
          "scatterpolargl": [
           {
            "marker": {
             "colorbar": {
              "outlinewidth": 0,
              "ticks": ""
             }
            },
            "type": "scatterpolargl"
           }
          ],
          "scatterternary": [
           {
            "marker": {
             "colorbar": {
              "outlinewidth": 0,
              "ticks": ""
             }
            },
            "type": "scatterternary"
           }
          ],
          "surface": [
           {
            "colorbar": {
             "outlinewidth": 0,
             "ticks": ""
            },
            "colorscale": [
             [
              0.0,
              "#0d0887"
             ],
             [
              0.1111111111111111,
              "#46039f"
             ],
             [
              0.2222222222222222,
              "#7201a8"
             ],
             [
              0.3333333333333333,
              "#9c179e"
             ],
             [
              0.4444444444444444,
              "#bd3786"
             ],
             [
              0.5555555555555556,
              "#d8576b"
             ],
             [
              0.6666666666666666,
              "#ed7953"
             ],
             [
              0.7777777777777778,
              "#fb9f3a"
             ],
             [
              0.8888888888888888,
              "#fdca26"
             ],
             [
              1.0,
              "#f0f921"
             ]
            ],
            "type": "surface"
           }
          ],
          "table": [
           {
            "cells": {
             "fill": {
              "color": "#EBF0F8"
             },
             "line": {
              "color": "white"
             }
            },
            "header": {
             "fill": {
              "color": "#C8D4E3"
             },
             "line": {
              "color": "white"
             }
            },
            "type": "table"
           }
          ]
         },
         "layout": {
          "annotationdefaults": {
           "arrowcolor": "#2a3f5f",
           "arrowhead": 0,
           "arrowwidth": 1
          },
          "autotypenumbers": "strict",
          "coloraxis": {
           "colorbar": {
            "outlinewidth": 0,
            "ticks": ""
           }
          },
          "colorscale": {
           "diverging": [
            [
             0,
             "#8e0152"
            ],
            [
             0.1,
             "#c51b7d"
            ],
            [
             0.2,
             "#de77ae"
            ],
            [
             0.3,
             "#f1b6da"
            ],
            [
             0.4,
             "#fde0ef"
            ],
            [
             0.5,
             "#f7f7f7"
            ],
            [
             0.6,
             "#e6f5d0"
            ],
            [
             0.7,
             "#b8e186"
            ],
            [
             0.8,
             "#7fbc41"
            ],
            [
             0.9,
             "#4d9221"
            ],
            [
             1,
             "#276419"
            ]
           ],
           "sequential": [
            [
             0.0,
             "#0d0887"
            ],
            [
             0.1111111111111111,
             "#46039f"
            ],
            [
             0.2222222222222222,
             "#7201a8"
            ],
            [
             0.3333333333333333,
             "#9c179e"
            ],
            [
             0.4444444444444444,
             "#bd3786"
            ],
            [
             0.5555555555555556,
             "#d8576b"
            ],
            [
             0.6666666666666666,
             "#ed7953"
            ],
            [
             0.7777777777777778,
             "#fb9f3a"
            ],
            [
             0.8888888888888888,
             "#fdca26"
            ],
            [
             1.0,
             "#f0f921"
            ]
           ],
           "sequentialminus": [
            [
             0.0,
             "#0d0887"
            ],
            [
             0.1111111111111111,
             "#46039f"
            ],
            [
             0.2222222222222222,
             "#7201a8"
            ],
            [
             0.3333333333333333,
             "#9c179e"
            ],
            [
             0.4444444444444444,
             "#bd3786"
            ],
            [
             0.5555555555555556,
             "#d8576b"
            ],
            [
             0.6666666666666666,
             "#ed7953"
            ],
            [
             0.7777777777777778,
             "#fb9f3a"
            ],
            [
             0.8888888888888888,
             "#fdca26"
            ],
            [
             1.0,
             "#f0f921"
            ]
           ]
          },
          "colorway": [
           "#636efa",
           "#EF553B",
           "#00cc96",
           "#ab63fa",
           "#FFA15A",
           "#19d3f3",
           "#FF6692",
           "#B6E880",
           "#FF97FF",
           "#FECB52"
          ],
          "font": {
           "color": "#2a3f5f"
          },
          "geo": {
           "bgcolor": "white",
           "lakecolor": "white",
           "landcolor": "#E5ECF6",
           "showlakes": true,
           "showland": true,
           "subunitcolor": "white"
          },
          "hoverlabel": {
           "align": "left"
          },
          "hovermode": "closest",
          "mapbox": {
           "style": "light"
          },
          "paper_bgcolor": "white",
          "plot_bgcolor": "#E5ECF6",
          "polar": {
           "angularaxis": {
            "gridcolor": "white",
            "linecolor": "white",
            "ticks": ""
           },
           "bgcolor": "#E5ECF6",
           "radialaxis": {
            "gridcolor": "white",
            "linecolor": "white",
            "ticks": ""
           }
          },
          "scene": {
           "xaxis": {
            "backgroundcolor": "#E5ECF6",
            "gridcolor": "white",
            "gridwidth": 2,
            "linecolor": "white",
            "showbackground": true,
            "ticks": "",
            "zerolinecolor": "white"
           },
           "yaxis": {
            "backgroundcolor": "#E5ECF6",
            "gridcolor": "white",
            "gridwidth": 2,
            "linecolor": "white",
            "showbackground": true,
            "ticks": "",
            "zerolinecolor": "white"
           },
           "zaxis": {
            "backgroundcolor": "#E5ECF6",
            "gridcolor": "white",
            "gridwidth": 2,
            "linecolor": "white",
            "showbackground": true,
            "ticks": "",
            "zerolinecolor": "white"
           }
          },
          "shapedefaults": {
           "line": {
            "color": "#2a3f5f"
           }
          },
          "ternary": {
           "aaxis": {
            "gridcolor": "white",
            "linecolor": "white",
            "ticks": ""
           },
           "baxis": {
            "gridcolor": "white",
            "linecolor": "white",
            "ticks": ""
           },
           "bgcolor": "#E5ECF6",
           "caxis": {
            "gridcolor": "white",
            "linecolor": "white",
            "ticks": ""
           }
          },
          "title": {
           "x": 0.05
          },
          "xaxis": {
           "automargin": true,
           "gridcolor": "white",
           "linecolor": "white",
           "ticks": "",
           "title": {
            "standoff": 15
           },
           "zerolinecolor": "white",
           "zerolinewidth": 2
          },
          "yaxis": {
           "automargin": true,
           "gridcolor": "white",
           "linecolor": "white",
           "ticks": "",
           "title": {
            "standoff": 15
           },
           "zerolinecolor": "white",
           "zerolinewidth": 2
          }
         }
        },
        "showlegend": false,
        "yaxis": {
         "tickfont": {
          "size": 16
         },
         "range": [
          0,
          20
         ],
         "showgrid": true,
         "gridwidth": 0.5,
         "gridcolor": "rgb(242,242,242)",
         "ticksuffix": "%"
        },
        "xaxis": {
         "tickfont": {
          "size": 16
         },
         "title": {
          "text": "Storage volume in litres"
         },
         "type": "log",
         "showgrid": true,
         "gridwidth": 0.5,
         "gridcolor": "rgb(242,242,242)"
        },
        "margin": {
         "l": 50,
         "r": 50,
         "t": 50,
         "b": 60
        },
        "height": 700,
        "width": 1000,
        "plot_bgcolor": "white"
       },
       "config": {
        "plotlyServerURL": "https://plot.ly"
       }
      },
      "text/html": "<div>                            <div id=\"b26feae7-5753-4658-8a43-a14f3cc1591f\" class=\"plotly-graph-div\" style=\"height:700px; width:1000px;\"></div>            <script type=\"text/javascript\">                require([\"plotly\"], function(Plotly) {                    window.PLOTLYENV=window.PLOTLYENV || {};                                    if (document.getElementById(\"b26feae7-5753-4658-8a43-a14f3cc1591f\")) {                    Plotly.newPlot(                        \"b26feae7-5753-4658-8a43-a14f3cc1591f\",                        [{\"marker\":{\"color\":\"darkblue\"},\"mode\":\"lines+markers+text\",\"text\":[\"0.00\",\"0.41\",\"0.99\",\"1.91\",\"3.99\",\"5.22\",\"6.24\",\"6.75\",\"6.78\",\"6.80\"],\"textposition\":\"top left\",\"x\":[100,300,600,1000,2000,3000,5000,8000,12000,20000],\"y\":[0.001422133623096844,0.4108887385808724,0.9949345014892197,1.9106454254489758,3.9859338239119135,5.222894461517724,6.235167080010651,6.745636818681044,6.775206794909494,6.795727454264833],\"type\":\"scatter\"}],                        {\"template\":{\"data\":{\"bar\":[{\"error_x\":{\"color\":\"#2a3f5f\"},\"error_y\":{\"color\":\"#2a3f5f\"},\"marker\":{\"line\":{\"color\":\"#E5ECF6\",\"width\":0.5},\"pattern\":{\"fillmode\":\"overlay\",\"size\":10,\"solidity\":0.2}},\"type\":\"bar\"}],\"barpolar\":[{\"marker\":{\"line\":{\"color\":\"#E5ECF6\",\"width\":0.5},\"pattern\":{\"fillmode\":\"overlay\",\"size\":10,\"solidity\":0.2}},\"type\":\"barpolar\"}],\"carpet\":[{\"aaxis\":{\"endlinecolor\":\"#2a3f5f\",\"gridcolor\":\"white\",\"linecolor\":\"white\",\"minorgridcolor\":\"white\",\"startlinecolor\":\"#2a3f5f\"},\"baxis\":{\"endlinecolor\":\"#2a3f5f\",\"gridcolor\":\"white\",\"linecolor\":\"white\",\"minorgridcolor\":\"white\",\"startlinecolor\":\"#2a3f5f\"},\"type\":\"carpet\"}],\"choropleth\":[{\"colorbar\":{\"outlinewidth\":0,\"ticks\":\"\"},\"type\":\"choropleth\"}],\"contour\":[{\"colorbar\":{\"outlinewidth\":0,\"ticks\":\"\"},\"colorscale\":[[0.0,\"#0d0887\"],[0.1111111111111111,\"#46039f\"],[0.2222222222222222,\"#7201a8\"],[0.3333333333333333,\"#9c179e\"],[0.4444444444444444,\"#bd3786\"],[0.5555555555555556,\"#d8576b\"],[0.6666666666666666,\"#ed7953\"],[0.7777777777777778,\"#fb9f3a\"],[0.8888888888888888,\"#fdca26\"],[1.0,\"#f0f921\"]],\"type\":\"contour\"}],\"contourcarpet\":[{\"colorbar\":{\"outlinewidth\":0,\"ticks\":\"\"},\"type\":\"contourcarpet\"}],\"heatmap\":[{\"colorbar\":{\"outlinewidth\":0,\"ticks\":\"\"},\"colorscale\":[[0.0,\"#0d0887\"],[0.1111111111111111,\"#46039f\"],[0.2222222222222222,\"#7201a8\"],[0.3333333333333333,\"#9c179e\"],[0.4444444444444444,\"#bd3786\"],[0.5555555555555556,\"#d8576b\"],[0.6666666666666666,\"#ed7953\"],[0.7777777777777778,\"#fb9f3a\"],[0.8888888888888888,\"#fdca26\"],[1.0,\"#f0f921\"]],\"type\":\"heatmap\"}],\"heatmapgl\":[{\"colorbar\":{\"outlinewidth\":0,\"ticks\":\"\"},\"colorscale\":[[0.0,\"#0d0887\"],[0.1111111111111111,\"#46039f\"],[0.2222222222222222,\"#7201a8\"],[0.3333333333333333,\"#9c179e\"],[0.4444444444444444,\"#bd3786\"],[0.5555555555555556,\"#d8576b\"],[0.6666666666666666,\"#ed7953\"],[0.7777777777777778,\"#fb9f3a\"],[0.8888888888888888,\"#fdca26\"],[1.0,\"#f0f921\"]],\"type\":\"heatmapgl\"}],\"histogram\":[{\"marker\":{\"pattern\":{\"fillmode\":\"overlay\",\"size\":10,\"solidity\":0.2}},\"type\":\"histogram\"}],\"histogram2d\":[{\"colorbar\":{\"outlinewidth\":0,\"ticks\":\"\"},\"colorscale\":[[0.0,\"#0d0887\"],[0.1111111111111111,\"#46039f\"],[0.2222222222222222,\"#7201a8\"],[0.3333333333333333,\"#9c179e\"],[0.4444444444444444,\"#bd3786\"],[0.5555555555555556,\"#d8576b\"],[0.6666666666666666,\"#ed7953\"],[0.7777777777777778,\"#fb9f3a\"],[0.8888888888888888,\"#fdca26\"],[1.0,\"#f0f921\"]],\"type\":\"histogram2d\"}],\"histogram2dcontour\":[{\"colorbar\":{\"outlinewidth\":0,\"ticks\":\"\"},\"colorscale\":[[0.0,\"#0d0887\"],[0.1111111111111111,\"#46039f\"],[0.2222222222222222,\"#7201a8\"],[0.3333333333333333,\"#9c179e\"],[0.4444444444444444,\"#bd3786\"],[0.5555555555555556,\"#d8576b\"],[0.6666666666666666,\"#ed7953\"],[0.7777777777777778,\"#fb9f3a\"],[0.8888888888888888,\"#fdca26\"],[1.0,\"#f0f921\"]],\"type\":\"histogram2dcontour\"}],\"mesh3d\":[{\"colorbar\":{\"outlinewidth\":0,\"ticks\":\"\"},\"type\":\"mesh3d\"}],\"parcoords\":[{\"line\":{\"colorbar\":{\"outlinewidth\":0,\"ticks\":\"\"}},\"type\":\"parcoords\"}],\"pie\":[{\"automargin\":true,\"type\":\"pie\"}],\"scatter\":[{\"marker\":{\"colorbar\":{\"outlinewidth\":0,\"ticks\":\"\"}},\"type\":\"scatter\"}],\"scatter3d\":[{\"line\":{\"colorbar\":{\"outlinewidth\":0,\"ticks\":\"\"}},\"marker\":{\"colorbar\":{\"outlinewidth\":0,\"ticks\":\"\"}},\"type\":\"scatter3d\"}],\"scattercarpet\":[{\"marker\":{\"colorbar\":{\"outlinewidth\":0,\"ticks\":\"\"}},\"type\":\"scattercarpet\"}],\"scattergeo\":[{\"marker\":{\"colorbar\":{\"outlinewidth\":0,\"ticks\":\"\"}},\"type\":\"scattergeo\"}],\"scattergl\":[{\"marker\":{\"colorbar\":{\"outlinewidth\":0,\"ticks\":\"\"}},\"type\":\"scattergl\"}],\"scattermapbox\":[{\"marker\":{\"colorbar\":{\"outlinewidth\":0,\"ticks\":\"\"}},\"type\":\"scattermapbox\"}],\"scatterpolar\":[{\"marker\":{\"colorbar\":{\"outlinewidth\":0,\"ticks\":\"\"}},\"type\":\"scatterpolar\"}],\"scatterpolargl\":[{\"marker\":{\"colorbar\":{\"outlinewidth\":0,\"ticks\":\"\"}},\"type\":\"scatterpolargl\"}],\"scatterternary\":[{\"marker\":{\"colorbar\":{\"outlinewidth\":0,\"ticks\":\"\"}},\"type\":\"scatterternary\"}],\"surface\":[{\"colorbar\":{\"outlinewidth\":0,\"ticks\":\"\"},\"colorscale\":[[0.0,\"#0d0887\"],[0.1111111111111111,\"#46039f\"],[0.2222222222222222,\"#7201a8\"],[0.3333333333333333,\"#9c179e\"],[0.4444444444444444,\"#bd3786\"],[0.5555555555555556,\"#d8576b\"],[0.6666666666666666,\"#ed7953\"],[0.7777777777777778,\"#fb9f3a\"],[0.8888888888888888,\"#fdca26\"],[1.0,\"#f0f921\"]],\"type\":\"surface\"}],\"table\":[{\"cells\":{\"fill\":{\"color\":\"#EBF0F8\"},\"line\":{\"color\":\"white\"}},\"header\":{\"fill\":{\"color\":\"#C8D4E3\"},\"line\":{\"color\":\"white\"}},\"type\":\"table\"}]},\"layout\":{\"annotationdefaults\":{\"arrowcolor\":\"#2a3f5f\",\"arrowhead\":0,\"arrowwidth\":1},\"autotypenumbers\":\"strict\",\"coloraxis\":{\"colorbar\":{\"outlinewidth\":0,\"ticks\":\"\"}},\"colorscale\":{\"diverging\":[[0,\"#8e0152\"],[0.1,\"#c51b7d\"],[0.2,\"#de77ae\"],[0.3,\"#f1b6da\"],[0.4,\"#fde0ef\"],[0.5,\"#f7f7f7\"],[0.6,\"#e6f5d0\"],[0.7,\"#b8e186\"],[0.8,\"#7fbc41\"],[0.9,\"#4d9221\"],[1,\"#276419\"]],\"sequential\":[[0.0,\"#0d0887\"],[0.1111111111111111,\"#46039f\"],[0.2222222222222222,\"#7201a8\"],[0.3333333333333333,\"#9c179e\"],[0.4444444444444444,\"#bd3786\"],[0.5555555555555556,\"#d8576b\"],[0.6666666666666666,\"#ed7953\"],[0.7777777777777778,\"#fb9f3a\"],[0.8888888888888888,\"#fdca26\"],[1.0,\"#f0f921\"]],\"sequentialminus\":[[0.0,\"#0d0887\"],[0.1111111111111111,\"#46039f\"],[0.2222222222222222,\"#7201a8\"],[0.3333333333333333,\"#9c179e\"],[0.4444444444444444,\"#bd3786\"],[0.5555555555555556,\"#d8576b\"],[0.6666666666666666,\"#ed7953\"],[0.7777777777777778,\"#fb9f3a\"],[0.8888888888888888,\"#fdca26\"],[1.0,\"#f0f921\"]]},\"colorway\":[\"#636efa\",\"#EF553B\",\"#00cc96\",\"#ab63fa\",\"#FFA15A\",\"#19d3f3\",\"#FF6692\",\"#B6E880\",\"#FF97FF\",\"#FECB52\"],\"font\":{\"color\":\"#2a3f5f\"},\"geo\":{\"bgcolor\":\"white\",\"lakecolor\":\"white\",\"landcolor\":\"#E5ECF6\",\"showlakes\":true,\"showland\":true,\"subunitcolor\":\"white\"},\"hoverlabel\":{\"align\":\"left\"},\"hovermode\":\"closest\",\"mapbox\":{\"style\":\"light\"},\"paper_bgcolor\":\"white\",\"plot_bgcolor\":\"#E5ECF6\",\"polar\":{\"angularaxis\":{\"gridcolor\":\"white\",\"linecolor\":\"white\",\"ticks\":\"\"},\"bgcolor\":\"#E5ECF6\",\"radialaxis\":{\"gridcolor\":\"white\",\"linecolor\":\"white\",\"ticks\":\"\"}},\"scene\":{\"xaxis\":{\"backgroundcolor\":\"#E5ECF6\",\"gridcolor\":\"white\",\"gridwidth\":2,\"linecolor\":\"white\",\"showbackground\":true,\"ticks\":\"\",\"zerolinecolor\":\"white\"},\"yaxis\":{\"backgroundcolor\":\"#E5ECF6\",\"gridcolor\":\"white\",\"gridwidth\":2,\"linecolor\":\"white\",\"showbackground\":true,\"ticks\":\"\",\"zerolinecolor\":\"white\"},\"zaxis\":{\"backgroundcolor\":\"#E5ECF6\",\"gridcolor\":\"white\",\"gridwidth\":2,\"linecolor\":\"white\",\"showbackground\":true,\"ticks\":\"\",\"zerolinecolor\":\"white\"}},\"shapedefaults\":{\"line\":{\"color\":\"#2a3f5f\"}},\"ternary\":{\"aaxis\":{\"gridcolor\":\"white\",\"linecolor\":\"white\",\"ticks\":\"\"},\"baxis\":{\"gridcolor\":\"white\",\"linecolor\":\"white\",\"ticks\":\"\"},\"bgcolor\":\"#E5ECF6\",\"caxis\":{\"gridcolor\":\"white\",\"linecolor\":\"white\",\"ticks\":\"\"}},\"title\":{\"x\":0.05},\"xaxis\":{\"automargin\":true,\"gridcolor\":\"white\",\"linecolor\":\"white\",\"ticks\":\"\",\"title\":{\"standoff\":15},\"zerolinecolor\":\"white\",\"zerolinewidth\":2},\"yaxis\":{\"automargin\":true,\"gridcolor\":\"white\",\"linecolor\":\"white\",\"ticks\":\"\",\"title\":{\"standoff\":15},\"zerolinecolor\":\"white\",\"zerolinewidth\":2}}},\"showlegend\":false,\"yaxis\":{\"tickfont\":{\"size\":16},\"range\":[0,20],\"showgrid\":true,\"gridwidth\":0.5,\"gridcolor\":\"rgb(242,242,242)\",\"ticksuffix\":\"%\"},\"xaxis\":{\"tickfont\":{\"size\":16},\"title\":{\"text\":\"Storage volume in litres\"},\"type\":\"log\",\"showgrid\":true,\"gridwidth\":0.5,\"gridcolor\":\"rgb(242,242,242)\"},\"margin\":{\"l\":50,\"r\":50,\"t\":50,\"b\":60},\"height\":700,\"width\":1000,\"plot_bgcolor\":\"white\"},                        {\"responsive\": true}                    ).then(function(){\n                            \nvar gd = document.getElementById('b26feae7-5753-4658-8a43-a14f3cc1591f');\nvar x = new MutationObserver(function (mutations, observer) {{\n        var display = window.getComputedStyle(gd).display;\n        if (!display || display === 'none') {{\n            console.log([gd, 'removed!']);\n            Plotly.purge(gd);\n            observer.disconnect();\n        }}\n}});\n\n// Listen for the removal of the full notebook cells\nvar notebookContainer = gd.closest('#notebook-container');\nif (notebookContainer) {{\n    x.observe(notebookContainer, {childList: true});\n}}\n\n// Listen for the clearing of the current output cell\nvar outputEl = gd.closest('.output');\nif (outputEl) {{\n    x.observe(outputEl, {childList: true});\n}}\n\n                        })                };                });            </script>        </div>"
     },
     "metadata": {},
     "output_type": "display_data"
    }
   ],
   "source": [
    "for loc in ['Villingen-Schwenningen']:\n",
    "    print('location: ', loc)\n",
    "\n",
    "    savings = pd.DataFrame(columns=['hp_power', '350', '200', '150'], dtype=object)\n",
    "    savings.loc[0, 'hp_power'] = 7000\n",
    "    print(savings.columns)\n",
    "    for house in [(350, 40)]:\n",
    "        #print('house: ', house)\n",
    "        idx = 0\n",
    "\n",
    "        for heat_pump_power in [7000]:\n",
    "            #print('hp_power: ', heat_pump_power)\n",
    "\n",
    "            savings_list = []\n",
    "            for vol in storage_volumes:\n",
    "                #print('vol', vol)\n",
    "                if os.path.isdir(f\"results/{loc}\"):\n",
    "                    if os.path.isdir(f\"results/{loc}/vol_{int(vol[0])},pow_{int(heat_pump_power)},en_{int(house[0])}\"):\n",
    "                        #print('exists')\n",
    "                        data = pd.read_csv(\n",
    "                            f\"results/{loc}/vol_{int(vol[0])},pow_{int(heat_pump_power)},en_{int(house[0])}/data_ad_{loc},vol_{int(vol[0])},pow_{int(heat_pump_power)},en_{int(house[0])}.csv\",\n",
    "                            sep=';')\n",
    "                        save = (1 - data.P_e_opt.sum() / data.energy_needed_elec.sum()) * 100\n",
    "                        savings_list.append(save)\n",
    "\n",
    "            if savings_list:\n",
    "                savings.at[idx, str(house[0])] = savings_list\n",
    "            idx += 1\n",
    "\n",
    "    #print(savings)\n",
    "\n",
    "    savings.dropna(inplace=True, how='all', axis=1)\n",
    "    savings.dropna(inplace=True, how='any', axis=0)\n",
    "    savings.reset_index(inplace=True, drop=True)\n",
    "    #fig = make_subplots(savings.shape[0], savings.shape[1] - 1, x_title='Storage volume in liters', subplot_titles=([f'House: {x} W' for x in savings.columns[1:]]), horizontal_spacing=0.05, vertical_spacing=0.05, shared_yaxes=True)\n",
    "\n",
    "    fig = go.Figure()\n",
    "\n",
    "    fig.update_layout(showlegend=False)\n",
    "    fig.update_yaxes(range=[0, 20], showgrid=True, gridwidth=0.5, gridcolor='rgb(242,242,242)', tickfont=dict(size= 16))\n",
    "    fig.update_xaxes(title= 'Storage volume in litres',type=\"log\", showgrid=True, gridwidth=0.5, gridcolor='rgb(242,242,242)', tickfont=dict(size= 16))\n",
    "    fig.add_trace(go.Scatter(x=vols, y=savings.iloc[0, 1], marker=dict(color='darkblue', ),text=[\"%.2f\" % member for member in savings.iloc[0,1]],textposition = 'top left', mode='lines+markers+text'))\n",
    "\n",
    "    #fig['layout']['yaxis']['title'] = f'Heat pump: {savings.hp_power[0]} W'\n",
    "    fig['layout']['yaxis']['ticksuffix'] = '%'\n",
    "\n",
    "    fig.update_layout(height=700 * savings.shape[0], width=1000 * (savings.shape[1] - 1),plot_bgcolor = \"white\", margin=dict(l=50, r=50, t=50, b=60))  # showlegend = False )\n",
    "\n",
    "    #fig.update_layout(\n",
    "    #    title=go.layout.Title(\n",
    "    #        text=f\"Saving potentials for {loc}, Germany <br><br><sup>Heat pump: {savings.hp_power[0]} W, House: {savings.columns[1]} W/K</sup>\"))\n",
    "    #fig.write_html(f'thesis_img/{loc}_single_log.html')\n",
    "    fig.write_image(f'thesis_img/{loc}_single.png', scale=10)\n",
    "    fig.show()"
   ],
   "metadata": {
    "collapsed": false,
    "pycharm": {
     "name": "#%%\n"
    }
   }
  },
  {
   "cell_type": "markdown",
   "source": [
    "# Extreme points example"
   ],
   "metadata": {
    "collapsed": false,
    "pycharm": {
     "name": "#%% md\n"
    }
   }
  },
  {
   "cell_type": "code",
   "execution_count": 13,
   "outputs": [],
   "source": [
    "loc = 'Hamburg'\n",
    "vol = '100'\n",
    "heat_pump_power = '3000'\n",
    "house = '150'\n",
    "\n",
    "\n",
    "data = pd.read_csv(f\"results/{loc}/vol_{int(vol)},pow_{int(heat_pump_power)},en_{int(house)}/data_ad_{loc},vol_{int(vol)},pow_{int(heat_pump_power)},en_{int(house)}.csv\",\n",
    "                            sep=';')\n",
    "data.date = pd.to_datetime(data.date)\n",
    "data = data[(data.date >= pd.to_datetime('2023-03-09')) & (data.date <= pd.to_datetime('2023-03-16'))]\n",
    "\n",
    "fig = go.Figure()\n",
    "\n",
    "fig.update_yaxes(range = [-6, 14],showgrid=True, gridwidth=0.5, gridcolor='rgb(242,242,242)', tickfont=dict(size= 16))\n",
    "fig.update_xaxes(showgrid=True, gridwidth=0.5, gridcolor='rgb(242,242,242)', tickfont=dict(size= 16))\n",
    "fig.add_trace(go.Scatter(x=data.date, y=data.temperature, name='Temperature in [°C]'))\n",
    "#fig.update_layout(dict1={'title': f'Temperature of {loc}'})\n",
    "fig.add_trace(go.Scatter(x=data.date, y=data.local_min, mode='markers+text', marker=dict(size=10), name='Local minima', text=[f'{int(x)}' for x in data.period_max],textposition = 'bottom center', textfont=dict(size=18)))\n",
    "fig.add_trace(go.Scatter(x=data.date, y=data.local_max, mode='markers+text', marker=dict(size=10), name='Local maxima', text=[f'{int(x)}' for x in data.period_min],textposition = 'top center', textfont=dict(size=18)))\n",
    "fig.update_layout(height=700 , width=1500 ,plot_bgcolor = \"white\",legend=dict(\n",
    "    orientation=\"h\",\n",
    "    font=dict(size= 20),\n",
    "    yanchor=\"bottom\",\n",
    "    y=1.05,\n",
    "    xanchor=\"right\",\n",
    "    x=0.95\n",
    "),margin=dict(l=50, r=30, t=50, b=60))\n",
    "\n",
    "\n",
    "\n",
    "fig.write_image(f'thesis_img/extreme_points_example.png', scale=5)"
   ],
   "metadata": {
    "collapsed": false,
    "pycharm": {
     "name": "#%%\n"
    }
   }
  },
  {
   "cell_type": "markdown",
   "source": [
    "# Optimized data detailed"
   ],
   "metadata": {
    "collapsed": false,
    "pycharm": {
     "name": "#%% md\n"
    }
   }
  },
  {
   "cell_type": "code",
   "execution_count": 25,
   "outputs": [],
   "source": [
    "loc = 'Karlsruhe'\n",
    "vol = '5000'\n",
    "heat_pump_power = '3000'\n",
    "house = '200'\n",
    "\n",
    "\n",
    "data = pd.read_csv(f\"results/{loc}/vol_{int(vol)},pow_{int(heat_pump_power)},en_{int(house)}/data_ad_{loc},vol_{int(vol)},pow_{int(heat_pump_power)},en_{int(house)}.csv\",\n",
    "                            sep=';')\n",
    "data.date = pd.to_datetime(data.date)\n",
    "data = data[(data.date >= pd.to_datetime('2022-11-09')) & (data.date <= pd.to_datetime('2022-11-12'))]\n",
    "\n",
    "fig = make_subplots(specs=[[{\"secondary_y\": True}]])\n",
    "fig.add_trace(go.Scatter(x=data.date, y=data.temperature, name='Outdoor temperature in [°C]', mode='lines'), secondary_y=False)\n",
    "#fig.add_trace(go.Scatter(x=data.date, y=data.P_e_opt, name='Electric power optimized in [W]', mode='markers'), secondary_y=True)\n",
    "fig.add_trace(go.Scatter(x=data.date, y=data.energy_needed_elec, name='Electric power not optimized in [W]', mode='markers', marker=dict(color = 'green')), secondary_y=True)\n",
    "#fig.add_trace(go.Scatter(x=data.date, y=data.Storage_vol, name='Storage volume in [L]'), secondary_y=True)\n",
    "#fig.add_trace(go.Scatter(x=data.date, y=data.Preheat_temp, name='Preheating temperature in [°C]'), secondary_y=False)\n",
    "#fig.add_trace(go.Scatter(x=data.date, y=data.flow_temp, name='Flow temperature in [°C]'), secondary_y=False)\n",
    "#fig.update_layout(title='Power (elec) for optimized and not optimized heating')\n",
    "fig.update_layout(height=700 , width=1500 ,plot_bgcolor = \"white\",legend=dict(\n",
    "    orientation=\"h\",\n",
    "    font=dict(size= 20),\n",
    "    yanchor=\"bottom\",\n",
    "    y=1.05,\n",
    "    xanchor=\"right\",\n",
    "    x=0.95\n",
    "),margin=dict(l=50, r=50, t=50, b=60))#, margin=dict(l=50, r=50, t=50, b=60))\n",
    "fig.for_each_xaxis(lambda x: x.update( showgrid=True, gridwidth = 0.5, gridcolor = 'rgb(242,242,242)', tickfont=dict(size= 16)),)\n",
    "fig.for_each_yaxis(lambda x: x.update(showgrid=True, gridwidth = 0.5, gridcolor = 'rgb(242,242,242)', tickfont=dict(size= 16)))\n",
    "fig.update_yaxes(range=[-100, 3100], secondary_y=True)\n",
    "fig.update_yaxes(range=[-1, 17], secondary_y=False)\n",
    "\n",
    "\n",
    "#fig.write_html(f'optimization_data_{loc}.html', auto_open = False)\n",
    "fig.write_image(f'thesis_img/optimization_data_{loc}_nopt.png', scale=5)"
   ],
   "metadata": {
    "collapsed": false,
    "pycharm": {
     "name": "#%%\n"
    }
   }
  },
  {
   "cell_type": "markdown",
   "source": [],
   "metadata": {
    "collapsed": false,
    "pycharm": {
     "name": "#%% md\n"
    }
   }
  },
  {
   "cell_type": "code",
   "execution_count": null,
   "outputs": [],
   "source": [
    "df = pd.DataFrame(columns=['location', 'p_quot', 'volume', 'savings'], dtype=object)\n",
    "for loc in locations:\n",
    "\n",
    "    for house in houses:\n",
    "\n",
    "\n",
    "        for heat_pump_power in heat_pump_powers:\n",
    "\n",
    "            savings_list = []\n",
    "            for vol in storage_volumes:\n",
    "                if os.path.isdir(f\"results/{loc}\"):\n",
    "                    if os.path.isdir(f\"results/{loc}/vol_{int(vol[0])},pow_{int(heat_pump_power)},en_{int(house[0])}\"):\n",
    "                        #print('exists')\n",
    "                        data = pd.read_csv(\n",
    "                            f\"results/{loc}/vol_{int(vol[0])},pow_{int(heat_pump_power)},en_{int(house[0])}/data_ad_{loc},vol_{int(vol[0])},pow_{int(heat_pump_power)},en_{int(house[0])}.csv\",\n",
    "                            sep=';')\n",
    "\n",
    "                        p_quot = heat_pump_power / house[0]\n",
    "\n",
    "\n",
    "                        save = (1 - data.P_e_opt.sum() / data.energy_needed_elec.sum()) * 100\n",
    "                        savings_list.append(save)\n",
    "                        df = df.append({'location': loc, 'p_quot': p_quot, 'volume': vol[0], 'savings': save}, ignore_index=True)\n",
    "\n",
    "\n"
   ],
   "metadata": {
    "collapsed": false,
    "pycharm": {
     "name": "#%%\n"
    }
   }
  },
  {
   "cell_type": "code",
   "execution_count": null,
   "outputs": [],
   "source": [
    "fig = px.scatter_3d(df, x='volume', y='p_quot', z='savings',\n",
    "              color='location')\n",
    "fig.write_html(f'savings.html')\n",
    "#fig.write_image(f'thesis_img/{loc}.png')\n",
    "fig.show()"
   ],
   "metadata": {
    "collapsed": false,
    "pycharm": {
     "name": "#%%\n"
    }
   }
  },
  {
   "cell_type": "markdown",
   "source": [
    "# Mean and STD for Diurnal Temperature Range"
   ],
   "metadata": {
    "collapsed": false,
    "pycharm": {
     "name": "#%% md\n"
    }
   }
  },
  {
   "cell_type": "code",
   "execution_count": 9,
   "outputs": [
    {
     "name": "stdout",
     "output_type": "stream",
     "text": [
      "locaiton:  Hamburg\n",
      "mean:  6.505389221556884\n",
      "std:  3.6784500645943874\n",
      "locaiton:  Oberstdorf\n",
      "mean:  9.338502673796796\n",
      "std:  4.434228291558688\n",
      "locaiton:  Villingen-Schwenningen\n",
      "mean:  5.902857142857143\n",
      "std:  2.8075929186254784\n",
      "locaiton:  Karlsruhe\n",
      "mean:  6.773743016759776\n",
      "std:  3.405239347276529\n"
     ]
    }
   ],
   "source": [
    "dtrs = []\n",
    "\n",
    "\n",
    "vol = (2000, 2)\n",
    "house = (150, 3)\n",
    "for loc in locations:\n",
    "    if os.path.isdir(f\"results/{loc}\"):\n",
    "        if os.path.isdir(f\"results/{loc}/vol_{int(vol[0])},pow_{int(heat_pump_power)},en_{int(house[0])}\"):\n",
    "            data = pd.read_csv(\n",
    "                f\"results/{loc}/vol_{int(vol[0])},pow_{int(heat_pump_power)},en_{int(house[0])}/data_ad_{loc},vol_{int(vol[0])},pow_{int(heat_pump_power)},en_{int(house[0])}.csv\",\n",
    "                sep=';')\n",
    "\n",
    "            # Mean and STD for Diurnal Temperature Range\n",
    "            temp_min = data.groupby(by='period_max').local_min.min().reset_index()\n",
    "            temp_max = data.groupby(by='period_min').local_max.max().reset_index()\n",
    "\n",
    "            temp_ext = pd.merge(left=temp_max, right=temp_min, left_on='period_min', right_on='period_max')\n",
    "\n",
    "            (temp_ext.local_max - temp_ext.local_min).mean()\n",
    "            (temp_ext.local_max - temp_ext.local_min).std()\n",
    "            print('locaiton: ', loc)\n",
    "            print('mean: ', (temp_ext.local_max - temp_ext.local_min).mean())\n",
    "            print('std: ', (temp_ext.local_max - temp_ext.local_min).std())\n",
    "\n",
    "            dtrs.append((temp_ext.local_max - temp_ext.local_min).median())\n"
   ],
   "metadata": {
    "collapsed": false,
    "pycharm": {
     "name": "#%%\n"
    }
   }
  },
  {
   "cell_type": "code",
   "execution_count": null,
   "outputs": [],
   "source": [],
   "metadata": {
    "collapsed": false,
    "pycharm": {
     "name": "#%%\n"
    }
   }
  }
 ],
 "metadata": {
  "kernelspec": {
   "display_name": "Python 3",
   "language": "python",
   "name": "python3"
  },
  "language_info": {
   "codemirror_mode": {
    "name": "ipython",
    "version": 2
   },
   "file_extension": ".py",
   "mimetype": "text/x-python",
   "name": "python",
   "nbconvert_exporter": "python",
   "pygments_lexer": "ipython2",
   "version": "2.7.6"
  }
 },
 "nbformat": 4,
 "nbformat_minor": 0
}